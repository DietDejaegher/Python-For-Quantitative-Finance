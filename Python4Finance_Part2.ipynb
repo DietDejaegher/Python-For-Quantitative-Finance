{
 "cells": [
  {
   "cell_type": "code",
   "execution_count": 1,
   "metadata": {},
   "outputs": [
    {
     "name": "stdout",
     "output_type": "stream",
     "text": [
      "Note: you may need to restart the kernel to use updated packages.\n"
     ]
    },
    {
     "name": "stderr",
     "output_type": "stream",
     "text": [
      "ERROR: Could not find a version that satisfies the requirement os (from versions: none)\n",
      "ERROR: No matching distribution found for os\n"
     ]
    }
   ],
   "source": [
    "pip install os"
   ]
  },
  {
   "cell_type": "code",
   "execution_count": 22,
   "metadata": {},
   "outputs": [],
   "source": [
    "import numpy as np\n",
    "import pandas as pd\n",
    "import yfinance as yf\n",
    "import matplotlib.pyplot as plt\n",
    "import matplotlib.dates as mdates\n",
    "%matplotlib inline\n",
    "\n",
    "import datetime as dt\n",
    "import mplfinance as mpf\n",
    "\n",
    "import time\n",
    "\n",
    "import os\n",
    "from os import listdir\n",
    "from os.path import isfile, join"
   ]
  },
  {
   "cell_type": "code",
   "execution_count": 23,
   "metadata": {},
   "outputs": [],
   "source": [
    "#hold not dowloaded stocks\n",
    "stocks_not_downloaded = []\n",
    "missing_stocks = []"
   ]
  },
  {
   "cell_type": "code",
   "execution_count": 29,
   "metadata": {},
   "outputs": [],
   "source": [
    "#save stocks to csv\n",
    "def save_to_csv_from_yahoo(folder, ticker, syear, smonth, sday, eyear, emonth, eday):\n",
    "    start = dt.datetime(syear, smonth, sday)\n",
    "    end = dt.datetime(eyear, emonth, eday)\n",
    "\n",
    "    try:\n",
    "        print(\"Get Data for :\", ticker)\n",
    "        df = yf.download(ticker, start=start, end=end)['Adj Close']\n",
    "        time.sleep(0)\n",
    "        df.to_csv(folder + ticker + '.csv')\n",
    "\n",
    "    except Exception as ex:\n",
    "        stocks_not_downloaded.append(ticker)\n",
    "        print(\"Could not download data for: \"+ticker)\n"
   ]
  },
  {
   "cell_type": "code",
   "execution_count": 30,
   "metadata": {},
   "outputs": [],
   "source": [
    "#return df from csv\n",
    "def get_stock_df_from_csv(folder, ticker):\n",
    "    try:\n",
    "        df = pd.read_csv(folder+ticker+'.csv')\n",
    "    except FileNotFoundError:\n",
    "        print(\"File does not exists\")\n",
    "    else:\n",
    "        return df"
   ]
  },
  {
   "cell_type": "code",
   "execution_count": 31,
   "metadata": {},
   "outputs": [],
   "source": [
    "#Return named column\n",
    "def get_column_from_csv(file, col_name):\n",
    "    try:\n",
    "        df = pd.read_csv(file)\n",
    "\n",
    "    except FileNotFoundError:\n",
    "            print(\"File does not exists\")\n",
    "    else:\n",
    "        return df[col_name]"
   ]
  },
  {
   "cell_type": "code",
   "execution_count": 42,
   "metadata": {},
   "outputs": [
    {
     "name": "stdout",
     "output_type": "stream",
     "text": [
      "Get Data for : META\n",
      "[*********************100%***********************]  1 of 1 completed\n"
     ]
    },
    {
     "data": {
      "text/html": [
       "<div>\n",
       "<style scoped>\n",
       "    .dataframe tbody tr th:only-of-type {\n",
       "        vertical-align: middle;\n",
       "    }\n",
       "\n",
       "    .dataframe tbody tr th {\n",
       "        vertical-align: top;\n",
       "    }\n",
       "\n",
       "    .dataframe thead th {\n",
       "        text-align: right;\n",
       "    }\n",
       "</style>\n",
       "<table border=\"1\" class=\"dataframe\">\n",
       "  <thead>\n",
       "    <tr style=\"text-align: right;\">\n",
       "      <th></th>\n",
       "      <th>Date</th>\n",
       "      <th>Adj Close</th>\n",
       "    </tr>\n",
       "  </thead>\n",
       "  <tbody>\n",
       "    <tr>\n",
       "      <th>0</th>\n",
       "      <td>2017-01-03</td>\n",
       "      <td>116.860001</td>\n",
       "    </tr>\n",
       "    <tr>\n",
       "      <th>1</th>\n",
       "      <td>2017-01-04</td>\n",
       "      <td>118.690002</td>\n",
       "    </tr>\n",
       "    <tr>\n",
       "      <th>2</th>\n",
       "      <td>2017-01-05</td>\n",
       "      <td>120.669998</td>\n",
       "    </tr>\n",
       "    <tr>\n",
       "      <th>3</th>\n",
       "      <td>2017-01-06</td>\n",
       "      <td>123.410004</td>\n",
       "    </tr>\n",
       "    <tr>\n",
       "      <th>4</th>\n",
       "      <td>2017-01-09</td>\n",
       "      <td>124.900002</td>\n",
       "    </tr>\n",
       "    <tr>\n",
       "      <th>...</th>\n",
       "      <td>...</td>\n",
       "      <td>...</td>\n",
       "    </tr>\n",
       "    <tr>\n",
       "      <th>1160</th>\n",
       "      <td>2021-08-12</td>\n",
       "      <td>362.649994</td>\n",
       "    </tr>\n",
       "    <tr>\n",
       "      <th>1161</th>\n",
       "      <td>2021-08-13</td>\n",
       "      <td>363.179993</td>\n",
       "    </tr>\n",
       "    <tr>\n",
       "      <th>1162</th>\n",
       "      <td>2021-08-16</td>\n",
       "      <td>366.559998</td>\n",
       "    </tr>\n",
       "    <tr>\n",
       "      <th>1163</th>\n",
       "      <td>2021-08-17</td>\n",
       "      <td>358.450012</td>\n",
       "    </tr>\n",
       "    <tr>\n",
       "      <th>1164</th>\n",
       "      <td>2021-08-18</td>\n",
       "      <td>355.450012</td>\n",
       "    </tr>\n",
       "  </tbody>\n",
       "</table>\n",
       "<p>1165 rows × 2 columns</p>\n",
       "</div>"
      ],
      "text/plain": [
       "            Date   Adj Close\n",
       "0     2017-01-03  116.860001\n",
       "1     2017-01-04  118.690002\n",
       "2     2017-01-05  120.669998\n",
       "3     2017-01-06  123.410004\n",
       "4     2017-01-09  124.900002\n",
       "...          ...         ...\n",
       "1160  2021-08-12  362.649994\n",
       "1161  2021-08-13  363.179993\n",
       "1162  2021-08-16  366.559998\n",
       "1163  2021-08-17  358.450012\n",
       "1164  2021-08-18  355.450012\n",
       "\n",
       "[1165 rows x 2 columns]"
      ]
     },
     "execution_count": 42,
     "metadata": {},
     "output_type": "execute_result"
    }
   ],
   "source": [
    "#Some Defatult Values\n",
    "PATH = \"C:/Users/dietd/Untitled Folder/Python for Finance/Financial Data/Stock Data/\"\n",
    "S_YEAR = 2017\n",
    "S_MONTH = 1\n",
    "S_DAY = 3\n",
    "S_DATE_STR = f\"{S_YEAR}-{S_MONTH}-{S_DAY}\"\n",
    "S_DATE_DATETIME = dt.datetime(S_YEAR,S_MONTH, S_DAY)\n",
    "\n",
    "E_YEAR = 2021\n",
    "E_MONTH = 8\n",
    "E_DAY = 19\n",
    "E_DATE_STR = f\"{E_YEAR}-{E_MONTH}-{E_DAY}\"\n",
    "E_DATE_DATETIME = dt.datetime(E_YEAR,E_MONTH, E_DAY)\n",
    "\n",
    "save_to_csv_from_yahoo(PATH, 'META', S_YEAR, S_MONTH,S_DAY,E_YEAR,E_MONTH,E_DAY)\n",
    "META_df = get_stock_df_from_csv(PATH, 'META')\n",
    "META_df"
   ]
  },
  {
   "cell_type": "code",
   "execution_count": 32,
   "metadata": {},
   "outputs": [
    {
     "data": {
      "text/plain": [
       "0          A\n",
       "1         AA\n",
       "2        AAL\n",
       "3       AAME\n",
       "4        AAN\n",
       "        ... \n",
       "3476    ZUMZ\n",
       "3477     ZUO\n",
       "3478    ZYNE\n",
       "3479    ZYXI\n",
       "3480    ZNGA\n",
       "Name: Ticker, Length: 3481, dtype: object"
      ]
     },
     "execution_count": 32,
     "metadata": {},
     "output_type": "execute_result"
    }
   ],
   "source": [
    "#Test receiving the tickers\n",
    "tickers = get_column_from_csv(\"C:/Users/dietd/Untitled Folder/Python for Finance/Financial Data/Wilshire-5000-Stocks.csv\", \"Ticker\")\n",
    "tickers"
   ]
  },
  {
   "cell_type": "code",
   "execution_count": 35,
   "metadata": {},
   "outputs": [
    {
     "name": "stdout",
     "output_type": "stream",
     "text": [
      "Get Data for : A\n",
      "[*********************100%***********************]  1 of 1 completed\n",
      "Get Data for : AA\n",
      "[*********************100%***********************]  1 of 1 completed\n",
      "Get Data for : AAL\n",
      "[*********************100%***********************]  1 of 1 completed\n",
      "Get Data for : AAME\n",
      "[*********************100%***********************]  1 of 1 completed\n",
      "Get Data for : AAN\n",
      "[*********************100%***********************]  1 of 1 completed\n",
      "Get Data for : AAOI\n",
      "[*********************100%***********************]  1 of 1 completed\n",
      "Get Data for : AAON\n",
      "[*********************100%***********************]  1 of 1 completed\n",
      "Get Data for : AAP\n",
      "[*********************100%***********************]  1 of 1 completed\n",
      "Get Data for : AAPL\n",
      "[*********************100%***********************]  1 of 1 completed\n",
      "Get Data for : AAT\n",
      "[*********************100%***********************]  1 of 1 completed\n",
      "Finished\n"
     ]
    }
   ],
   "source": [
    "#get 4 years of data for first 20 stocks\n",
    "folder = \"C:/Users/dietd/Untitled Folder/Python for Finance/Financial Data/Stock Data/\"\n",
    "for x in range(10):\n",
    "    save_to_csv_from_yahoo(folder, tickers[x], 2017,1,1,2021,8,19)\n",
    "\n",
    "print(\"Finished\")"
   ]
  },
  {
   "cell_type": "code",
   "execution_count": 39,
   "metadata": {},
   "outputs": [
    {
     "name": "stdout",
     "output_type": "stream",
     "text": [
      "Get Data for : AAWW\n",
      "[*********************100%***********************]  1 of 1 completed"
     ]
    },
    {
     "name": "stderr",
     "output_type": "stream",
     "text": [
      "\n",
      "1 Failed download:\n",
      "['AAWW']: Exception('%ticker%: No timezone found, symbol may be delisted')\n"
     ]
    },
    {
     "name": "stdout",
     "output_type": "stream",
     "text": [
      "\n",
      "Get Data for : AAXN\n",
      "[*********************100%***********************]  1 of 1 completed"
     ]
    },
    {
     "name": "stderr",
     "output_type": "stream",
     "text": [
      "\n",
      "1 Failed download:\n",
      "['AAXN']: Exception('%ticker%: No timezone found, symbol may be delisted')\n"
     ]
    },
    {
     "name": "stdout",
     "output_type": "stream",
     "text": [
      "\n",
      "Get Data for : ABBV\n",
      "[*********************100%***********************]  1 of 1 completed\n",
      "Get Data for : ABC\n",
      "[*********************100%***********************]  1 of 1 completed\n",
      "Get Data for : ABCB\n",
      "[*********************100%***********************]  1 of 1 completed\n",
      "Get Data for : ABEO\n",
      "[*********************100%***********************]  1 of 1 completed\n",
      "Get Data for : ABG\n",
      "[*********************100%***********************]  1 of 1 completed\n",
      "Get Data for : ABIO\n",
      "[*********************100%***********************]  1 of 1 completed\n",
      "Get Data for : ABM\n",
      "[*********************100%***********************]  1 of 1 completed\n",
      "Get Data for : ABMD\n",
      "[*********************100%***********************]  1 of 1 completed\n",
      "Get Data for : ABR\n",
      "[*********************100%***********************]  1 of 1 completed\n",
      "Get Data for : ABT\n",
      "[*********************100%***********************]  1 of 1 completed\n",
      "Get Data for : ABTX\n",
      "[*********************100%***********************]  1 of 1 completed"
     ]
    },
    {
     "name": "stderr",
     "output_type": "stream",
     "text": [
      "\n",
      "1 Failed download:\n",
      "['ABTX']: Exception('%ticker%: No timezone found, symbol may be delisted')\n"
     ]
    },
    {
     "name": "stdout",
     "output_type": "stream",
     "text": [
      "\n",
      "Get Data for : AC\n",
      "[*********************100%***********************]  1 of 1 completed\n",
      "Get Data for : ACA\n",
      "[*********************100%***********************]  1 of 1 completed\n",
      "Get Data for : ACAD\n",
      "[*********************100%***********************]  1 of 1 completed\n",
      "Get Data for : ACBI\n",
      "[*********************100%***********************]  1 of 1 completed"
     ]
    },
    {
     "name": "stderr",
     "output_type": "stream",
     "text": [
      "\n",
      "1 Failed download:\n",
      "['ACBI']: Exception('%ticker%: No timezone found, symbol may be delisted')\n"
     ]
    },
    {
     "name": "stdout",
     "output_type": "stream",
     "text": [
      "\n",
      "Get Data for : ACC\n",
      "[*********************100%***********************]  1 of 1 completed"
     ]
    },
    {
     "name": "stderr",
     "output_type": "stream",
     "text": [
      "\n",
      "1 Failed download:\n",
      "['ACC']: Exception('%ticker%: No timezone found, symbol may be delisted')\n"
     ]
    },
    {
     "name": "stdout",
     "output_type": "stream",
     "text": [
      "\n",
      "Get Data for : ACCO\n",
      "[*********************100%***********************]  1 of 1 completed\n",
      "Get Data for : ACER\n",
      "[*********************100%***********************]  1 of 1 completed\n",
      "Get Data for : ACGL\n",
      "[*********************100%***********************]  1 of 1 completed\n",
      "Get Data for : ACHC\n",
      "[*********************100%***********************]  1 of 1 completed\n",
      "Get Data for : ACHV\n",
      "[*********************100%***********************]  1 of 1 completed\n",
      "Get Data for : ACIA\n",
      "[*********************100%***********************]  1 of 1 completed"
     ]
    },
    {
     "name": "stderr",
     "output_type": "stream",
     "text": [
      "\n",
      "1 Failed download:\n",
      "['ACIA']: Exception('%ticker%: No timezone found, symbol may be delisted')\n"
     ]
    },
    {
     "name": "stdout",
     "output_type": "stream",
     "text": [
      "\n",
      "Get Data for : ACIW\n",
      "[*********************100%***********************]  1 of 1 completed\n",
      "Get Data for : ACLS\n",
      "[*********************100%***********************]  1 of 1 completed\n",
      "Get Data for : ACM\n",
      "[*********************100%***********************]  1 of 1 completed\n",
      "Get Data for : ACMR\n",
      "[*********************100%***********************]  1 of 1 completed\n",
      "Get Data for : ACN\n",
      "[*********************100%***********************]  1 of 1 completed\n",
      "Get Data for : ACNB\n",
      "[*********************100%***********************]  1 of 1 completed\n",
      "Get Data for : ACOR\n",
      "[*********************100%***********************]  1 of 1 completed\n",
      "Get Data for : ACRE\n",
      "[*********************100%***********************]  1 of 1 completed\n",
      "Get Data for : ACRS\n",
      "[*********************100%***********************]  1 of 1 completed\n",
      "Get Data for : ACRX\n",
      "[*********************100%***********************]  1 of 1 completed\n",
      "Get Data for : ACTG\n",
      "[*********************100%***********************]  1 of 1 completed\n",
      "Get Data for : ACU\n",
      "[*********************100%***********************]  1 of 1 completed\n",
      "Get Data for : ACY\n",
      "[*********************100%***********************]  1 of 1 completed"
     ]
    },
    {
     "name": "stderr",
     "output_type": "stream",
     "text": [
      "\n",
      "1 Failed download:\n",
      "['ACY']: Exception('%ticker%: No timezone found, symbol may be delisted')\n"
     ]
    },
    {
     "name": "stdout",
     "output_type": "stream",
     "text": [
      "\n",
      "Get Data for : ADBE\n",
      "[*********************100%***********************]  1 of 1 completed\n",
      "Get Data for : ADC\n",
      "[*********************100%***********************]  1 of 1 completed\n",
      "Get Data for : ADES\n",
      "[*********************100%***********************]  1 of 1 completed\n",
      "Get Data for : ADI\n",
      "[*********************100%***********************]  1 of 1 completed\n",
      "Get Data for : ADM\n",
      "[*********************100%***********************]  1 of 1 completed\n",
      "Get Data for : ADMA\n",
      "[*********************100%***********************]  1 of 1 completed\n",
      "Get Data for : ADMP\n",
      "[*********************100%***********************]  1 of 1 completed\n",
      "Get Data for : ADMS\n",
      "[*********************100%***********************]  1 of 1 completed"
     ]
    },
    {
     "name": "stderr",
     "output_type": "stream",
     "text": [
      "\n",
      "1 Failed download:\n",
      "['ADMS']: Exception('%ticker%: No timezone found, symbol may be delisted')\n"
     ]
    },
    {
     "name": "stdout",
     "output_type": "stream",
     "text": [
      "\n",
      "Get Data for : ADNT\n",
      "[*********************100%***********************]  1 of 1 completed\n",
      "Get Data for : ADP\n",
      "[*********************100%***********************]  1 of 1 completed\n",
      "Get Data for : ADRO\n",
      "[*********************100%***********************]  1 of 1 completed"
     ]
    },
    {
     "name": "stderr",
     "output_type": "stream",
     "text": [
      "\n",
      "1 Failed download:\n",
      "['ADRO']: Exception('%ticker%: No timezone found, symbol may be delisted')\n"
     ]
    },
    {
     "name": "stdout",
     "output_type": "stream",
     "text": [
      "\n",
      "Get Data for : ADS\n",
      "[*********************100%***********************]  1 of 1 completed"
     ]
    },
    {
     "name": "stderr",
     "output_type": "stream",
     "text": [
      "\n",
      "1 Failed download:\n",
      "['ADS']: Exception('%ticker%: No timezone found, symbol may be delisted')\n"
     ]
    },
    {
     "name": "stdout",
     "output_type": "stream",
     "text": [
      "\n",
      "Get Data for : ADSK\n",
      "[*********************100%***********************]  1 of 1 completed\n",
      "Get Data for : ADSW\n",
      "[*********************100%***********************]  1 of 1 completed"
     ]
    },
    {
     "name": "stderr",
     "output_type": "stream",
     "text": [
      "\n",
      "1 Failed download:\n",
      "['ADSW']: Exception('%ticker%: No timezone found, symbol may be delisted')\n"
     ]
    },
    {
     "name": "stdout",
     "output_type": "stream",
     "text": [
      "\n",
      "Get Data for : ADT\n",
      "[*********************100%***********************]  1 of 1 completed\n",
      "Get Data for : ADTN\n",
      "[*********************100%***********************]  1 of 1 completed\n",
      "Get Data for : ADUS\n",
      "[*********************100%***********************]  1 of 1 completed\n",
      "Get Data for : ADVM\n",
      "[*********************100%***********************]  1 of 1 completed\n",
      "Get Data for : ADXS\n",
      "[*********************100%***********************]  1 of 1 completed\n",
      "Get Data for : AE\n",
      "[*********************100%***********************]  1 of 1 completed\n",
      "Get Data for : AEE\n",
      "[*********************100%***********************]  1 of 1 completed\n",
      "Get Data for : AEGN\n",
      "[*********************100%***********************]  1 of 1 completed"
     ]
    },
    {
     "name": "stderr",
     "output_type": "stream",
     "text": [
      "\n",
      "1 Failed download:\n",
      "['AEGN']: Exception('%ticker%: No timezone found, symbol may be delisted')\n"
     ]
    },
    {
     "name": "stdout",
     "output_type": "stream",
     "text": [
      "\n",
      "Get Data for : AEHR\n",
      "[*********************100%***********************]  1 of 1 completed\n",
      "Get Data for : AEIS\n",
      "[*********************100%***********************]  1 of 1 completed\n",
      "Get Data for : AEL\n",
      "[*********************100%***********************]  1 of 1 completed\n",
      "Get Data for : AEMD\n",
      "[*********************100%***********************]  1 of 1 completed\n",
      "Get Data for : AEO\n",
      "[*********************100%***********************]  1 of 1 completed\n",
      "Get Data for : AEP\n",
      "[*********************100%***********************]  1 of 1 completed\n",
      "Get Data for : AERI\n",
      "[*********************100%***********************]  1 of 1 completed"
     ]
    },
    {
     "name": "stderr",
     "output_type": "stream",
     "text": [
      "\n",
      "1 Failed download:\n",
      "['AERI']: Exception('%ticker%: No timezone found, symbol may be delisted')\n"
     ]
    },
    {
     "name": "stdout",
     "output_type": "stream",
     "text": [
      "\n",
      "Get Data for : AES\n",
      "[*********************100%***********************]  1 of 1 completed\n",
      "Get Data for : AEY\n",
      "[*********************100%***********************]  1 of 1 completed\n",
      "Get Data for : AFG\n",
      "[*********************100%***********************]  1 of 1 completed\n",
      "Get Data for : AFH\n",
      "[*********************100%***********************]  1 of 1 completed"
     ]
    },
    {
     "name": "stderr",
     "output_type": "stream",
     "text": [
      "\n",
      "1 Failed download:\n",
      "['AFH']: Exception('%ticker%: No timezone found, symbol may be delisted')\n"
     ]
    },
    {
     "name": "stdout",
     "output_type": "stream",
     "text": [
      "\n",
      "Get Data for : AFI\n",
      "[*********************100%***********************]  1 of 1 completed"
     ]
    },
    {
     "name": "stderr",
     "output_type": "stream",
     "text": [
      "\n",
      "1 Failed download:\n",
      "['AFI']: Exception('%ticker%: No timezone found, symbol may be delisted')\n"
     ]
    },
    {
     "name": "stdout",
     "output_type": "stream",
     "text": [
      "\n",
      "Get Data for : AFIN\n",
      "[*********************100%***********************]  1 of 1 completed"
     ]
    },
    {
     "name": "stderr",
     "output_type": "stream",
     "text": [
      "\n",
      "1 Failed download:\n",
      "['AFIN']: Exception('%ticker%: No timezone found, symbol may be delisted')\n"
     ]
    },
    {
     "name": "stdout",
     "output_type": "stream",
     "text": [
      "\n",
      "Get Data for : AFL\n",
      "[*********************100%***********************]  1 of 1 completed\n",
      "Get Data for : AGCO\n",
      "[*********************100%***********************]  1 of 1 completed\n",
      "Get Data for : AGE\n",
      "[*********************100%***********************]  1 of 1 completed\n",
      "Get Data for : AGEN\n",
      "[*********************100%***********************]  1 of 1 completed\n",
      "Get Data for : AGFS\n",
      "[*********************100%***********************]  1 of 1 completed"
     ]
    },
    {
     "name": "stderr",
     "output_type": "stream",
     "text": [
      "\n",
      "1 Failed download:\n",
      "['AGFS']: Exception('%ticker%: No timezone found, symbol may be delisted')\n"
     ]
    },
    {
     "name": "stdout",
     "output_type": "stream",
     "text": [
      "\n",
      "Get Data for : AGIO\n",
      "[*********************100%***********************]  1 of 1 completed\n",
      "Get Data for : AGLE\n",
      "[*********************100%***********************]  1 of 1 completed\n",
      "Get Data for : AGM\n",
      "[*********************100%***********************]  1 of 1 completed\n",
      "Get Data for : AGNC\n",
      "[*********************100%***********************]  1 of 1 completed\n",
      "Get Data for : AGO\n",
      "[*********************100%***********************]  1 of 1 completed\n",
      "Get Data for : AGR\n",
      "[*********************100%***********************]  1 of 1 completed\n",
      "Get Data for : AGRX\n",
      "[*********************100%***********************]  1 of 1 completed\n",
      "Get Data for : AGS\n",
      "[*********************100%***********************]  1 of 1 completed\n",
      "Get Data for : AGTC\n",
      "[*********************100%***********************]  1 of 1 completed"
     ]
    },
    {
     "name": "stderr",
     "output_type": "stream",
     "text": [
      "\n",
      "1 Failed download:\n",
      "['AGTC']: Exception('%ticker%: No timezone found, symbol may be delisted')\n"
     ]
    },
    {
     "name": "stdout",
     "output_type": "stream",
     "text": [
      "\n",
      "Get Data for : AGX\n",
      "[*********************100%***********************]  1 of 1 completed\n",
      "Get Data for : AGYS\n",
      "[*********************100%***********************]  1 of 1 completed\n",
      "Get Data for : AHC\n",
      "[*********************100%***********************]  1 of 1 completed"
     ]
    },
    {
     "name": "stderr",
     "output_type": "stream",
     "text": [
      "\n",
      "1 Failed download:\n",
      "['AHC']: Exception('%ticker%: No timezone found, symbol may be delisted')\n"
     ]
    },
    {
     "name": "stdout",
     "output_type": "stream",
     "text": [
      "\n",
      "Get Data for : AHH\n",
      "[*********************100%***********************]  1 of 1 completed\n",
      "Get Data for : AHT\n",
      "[*********************100%***********************]  1 of 1 completed\n",
      "Get Data for : AIG\n",
      "[*********************100%***********************]  1 of 1 completed\n",
      "Get Data for : AIMC\n",
      "[*********************100%***********************]  1 of 1 completed"
     ]
    },
    {
     "name": "stderr",
     "output_type": "stream",
     "text": [
      "\n",
      "1 Failed download:\n",
      "['AIMC']: Exception('%ticker%: No timezone found, symbol may be delisted')\n"
     ]
    },
    {
     "name": "stdout",
     "output_type": "stream",
     "text": [
      "\n",
      "Get Data for : AIMT\n",
      "[*********************100%***********************]  1 of 1 completed"
     ]
    },
    {
     "name": "stderr",
     "output_type": "stream",
     "text": [
      "\n",
      "1 Failed download:\n",
      "['AIMT']: Exception('%ticker%: No timezone found, symbol may be delisted')\n"
     ]
    },
    {
     "name": "stdout",
     "output_type": "stream",
     "text": [
      "\n",
      "Get Data for : AIN\n",
      "[*********************100%***********************]  1 of 1 completed\n",
      "Get Data for : AINC\n",
      "[*********************100%***********************]  1 of 1 completed\n",
      "Get Data for : AIR\n",
      "[*********************100%***********************]  1 of 1 completed\n",
      "Get Data for : AIRG\n",
      "[*********************100%***********************]  1 of 1 completed\n",
      "Get Data for : AIRI\n",
      "[*********************100%***********************]  1 of 1 completed\n",
      "Get Data for : AIRT\n",
      "[*********************100%***********************]  1 of 1 completed\n",
      "Get Data for : AIT\n",
      "[*********************100%***********************]  1 of 1 completed\n",
      "Get Data for : AIV\n",
      "[*********************100%***********************]  1 of 1 completed\n",
      "Get Data for : AIZ\n",
      "[*********************100%***********************]  1 of 1 completed\n",
      "Get Data for : AJG\n",
      "[*********************100%***********************]  1 of 1 completed\n",
      "Get Data for : AJRD\n",
      "[*********************100%***********************]  1 of 1 completed\n",
      "Get Data for : AJX\n",
      "[*********************100%***********************]  1 of 1 completed\n",
      "Get Data for : AKAM\n",
      "[*********************100%***********************]  1 of 1 completed\n",
      "Get Data for : AKBA\n",
      "[*********************100%***********************]  1 of 1 completed\n",
      "Get Data for : AKCA\n",
      "[*********************100%***********************]  1 of 1 completed"
     ]
    },
    {
     "name": "stderr",
     "output_type": "stream",
     "text": [
      "\n",
      "1 Failed download:\n",
      "['AKCA']: Exception('%ticker%: No timezone found, symbol may be delisted')\n"
     ]
    },
    {
     "name": "stdout",
     "output_type": "stream",
     "text": [
      "\n",
      "Get Data for : AKER\n",
      "[*********************100%***********************]  1 of 1 completed"
     ]
    },
    {
     "name": "stderr",
     "output_type": "stream",
     "text": [
      "\n",
      "1 Failed download:\n",
      "['AKER']: Exception('%ticker%: No timezone found, symbol may be delisted')\n"
     ]
    },
    {
     "name": "stdout",
     "output_type": "stream",
     "text": [
      "\n",
      "Get Data for : AKR\n",
      "[*********************100%***********************]  1 of 1 completed\n",
      "Get Data for : AKTS\n",
      "[*********************100%***********************]  1 of 1 completed\n",
      "Get Data for : AL\n",
      "[*********************100%***********************]  1 of 1 completed\n",
      "Get Data for : ALB\n",
      "[*********************100%***********************]  1 of 1 completed\n",
      "Get Data for : ALBO\n",
      "[*********************100%***********************]  1 of 1 completed"
     ]
    },
    {
     "name": "stderr",
     "output_type": "stream",
     "text": [
      "\n",
      "1 Failed download:\n",
      "['ALBO']: Exception('%ticker%: No timezone found, symbol may be delisted')\n"
     ]
    },
    {
     "name": "stdout",
     "output_type": "stream",
     "text": [
      "\n",
      "Get Data for : ALCO\n",
      "[*********************100%***********************]  1 of 1 completed\n",
      "Get Data for : ALDX\n",
      "[*********************100%***********************]  1 of 1 completed\n",
      "Get Data for : ALE\n",
      "[*********************100%***********************]  1 of 1 completed\n",
      "Get Data for : ALEC\n",
      "[*********************100%***********************]  1 of 1 completed\n",
      "Get Data for : ALEX\n",
      "[*********************100%***********************]  1 of 1 completed\n",
      "Get Data for : ALG\n",
      "[*********************100%***********************]  1 of 1 completed\n",
      "Get Data for : ALGN\n",
      "[*********************100%***********************]  1 of 1 completed\n",
      "Get Data for : ALGT\n",
      "[*********************100%***********************]  1 of 1 completed\n",
      "Get Data for : ALIM\n",
      "[*********************100%***********************]  1 of 1 completed\n",
      "Get Data for : ALJJ\n",
      "[*********************100%***********************]  1 of 1 completed\n",
      "Get Data for : ALK\n",
      "[*********************100%***********************]  1 of 1 completed\n",
      "Get Data for : ALKS\n",
      "[*********************100%***********************]  1 of 1 completed\n",
      "Get Data for : ALL\n",
      "[*********************100%***********************]  1 of 1 completed\n",
      "Get Data for : ALLE\n",
      "[*********************100%***********************]  1 of 1 completed\n",
      "Get Data for : ALLK\n",
      "[*********************100%***********************]  1 of 1 completed\n",
      "Get Data for : ALLO\n",
      "[*********************100%***********************]  1 of 1 completed\n",
      "Get Data for : ALLY\n",
      "[*********************100%***********************]  1 of 1 completed\n",
      "Get Data for : ALNA\n",
      "[*********************100%***********************]  1 of 1 completed"
     ]
    },
    {
     "name": "stderr",
     "output_type": "stream",
     "text": [
      "\n",
      "1 Failed download:\n",
      "['ALNA']: Exception('%ticker%: No timezone found, symbol may be delisted')\n"
     ]
    },
    {
     "name": "stdout",
     "output_type": "stream",
     "text": [
      "\n",
      "Get Data for : ALNY\n",
      "[*********************100%***********************]  1 of 1 completed\n",
      "Get Data for : ALOT\n",
      "[*********************100%***********************]  1 of 1 completed\n",
      "Get Data for : ALPN\n",
      "[*********************100%***********************]  1 of 1 completed\n",
      "Get Data for : ALRM\n",
      "[*********************100%***********************]  1 of 1 completed\n",
      "Get Data for : ALSK\n",
      "[*********************100%***********************]  1 of 1 completed"
     ]
    },
    {
     "name": "stderr",
     "output_type": "stream",
     "text": [
      "\n",
      "1 Failed download:\n",
      "['ALSK']: Exception('%ticker%: No timezone found, symbol may be delisted')\n"
     ]
    },
    {
     "name": "stdout",
     "output_type": "stream",
     "text": [
      "\n",
      "Get Data for : ALSN\n",
      "[*********************100%***********************]  1 of 1 completed\n",
      "Get Data for : ALT\n",
      "[*********************100%***********************]  1 of 1 completed\n",
      "Get Data for : ALTM\n",
      "[*********************100%***********************]  1 of 1 completed"
     ]
    },
    {
     "name": "stderr",
     "output_type": "stream",
     "text": [
      "\n",
      "1 Failed download:\n",
      "['ALTM']: Exception('%ticker%: No timezone found, symbol may be delisted')\n"
     ]
    },
    {
     "name": "stdout",
     "output_type": "stream",
     "text": [
      "\n",
      "Get Data for : ALTR\n",
      "[*********************100%***********************]  1 of 1 completed\n",
      "Get Data for : ALV\n",
      "[*********************100%***********************]  1 of 1 completed\n",
      "Get Data for : ALX\n",
      "[*********************100%***********************]  1 of 1 completed\n",
      "Get Data for : ALXN\n",
      "[*********************100%***********************]  1 of 1 completed"
     ]
    },
    {
     "name": "stderr",
     "output_type": "stream",
     "text": [
      "\n",
      "1 Failed download:\n",
      "['ALXN']: Exception('%ticker%: No timezone found, symbol may be delisted')\n"
     ]
    },
    {
     "name": "stdout",
     "output_type": "stream",
     "text": [
      "\n",
      "Get Data for : AM\n",
      "[*********************100%***********************]  1 of 1 completed\n",
      "Get Data for : AMAG\n",
      "[*********************100%***********************]  1 of 1 completed"
     ]
    },
    {
     "name": "stderr",
     "output_type": "stream",
     "text": [
      "\n",
      "1 Failed download:\n",
      "['AMAG']: Exception('%ticker%: No timezone found, symbol may be delisted')\n"
     ]
    },
    {
     "name": "stdout",
     "output_type": "stream",
     "text": [
      "\n",
      "Get Data for : AMAL\n",
      "[*********************100%***********************]  1 of 1 completed\n",
      "Get Data for : AMAT\n",
      "[*********************100%***********************]  1 of 1 completed\n",
      "Get Data for : AMBC\n",
      "[*********************100%***********************]  1 of 1 completed\n",
      "Get Data for : AMC\n",
      "[*********************100%***********************]  1 of 1 completed\n",
      "Get Data for : AMCX\n",
      "[*********************100%***********************]  1 of 1 completed\n",
      "Get Data for : AMD\n",
      "[*********************100%***********************]  1 of 1 completed\n",
      "Get Data for : AME\n",
      "[*********************100%***********************]  1 of 1 completed\n",
      "Get Data for : AMED\n",
      "[*********************100%***********************]  1 of 1 completed\n",
      "Get Data for : AMG\n",
      "[*********************100%***********************]  1 of 1 completed\n",
      "Get Data for : AMGN\n",
      "[*********************100%***********************]  1 of 1 completed\n",
      "Get Data for : AMH\n",
      "[*********************100%***********************]  1 of 1 completed\n",
      "Get Data for : AMKR\n",
      "[*********************100%***********************]  1 of 1 completed\n",
      "Get Data for : AMN\n",
      "[*********************100%***********************]  1 of 1 completed\n",
      "Get Data for : AMNB\n",
      "[*********************100%***********************]  1 of 1 completed\n",
      "Get Data for : AMOT\n",
      "[*********************100%***********************]  1 of 1 completed\n",
      "Get Data for : AMP\n",
      "[*********************100%***********************]  1 of 1 completed\n",
      "Get Data for : AMPE\n",
      "[*********************100%***********************]  1 of 1 completed\n",
      "Get Data for : AMPH\n",
      "[*********************100%***********************]  1 of 1 completed\n",
      "Get Data for : AMRB\n",
      "[*********************100%***********************]  1 of 1 completed"
     ]
    },
    {
     "name": "stderr",
     "output_type": "stream",
     "text": [
      "\n",
      "1 Failed download:\n",
      "['AMRB']: Exception('%ticker%: No timezone found, symbol may be delisted')\n"
     ]
    },
    {
     "name": "stdout",
     "output_type": "stream",
     "text": [
      "\n",
      "Get Data for : AMRC\n",
      "[*********************100%***********************]  1 of 1 completed\n",
      "Get Data for : AMRK\n",
      "[*********************100%***********************]  1 of 1 completed\n",
      "Get Data for : AMRS\n",
      "[*********************100%***********************]  1 of 1 completed\n",
      "Get Data for : AMRX\n",
      "[*********************100%***********************]  1 of 1 completed\n",
      "Get Data for : AMS\n",
      "[*********************100%***********************]  1 of 1 completed\n",
      "Get Data for : AMSC\n",
      "[*********************100%***********************]  1 of 1 completed\n",
      "Get Data for : AMSF\n",
      "[*********************100%***********************]  1 of 1 completed\n",
      "Get Data for : AMSWA\n",
      "[*********************100%***********************]  1 of 1 completed\n",
      "Get Data for : AMT\n",
      "[*********************100%***********************]  1 of 1 completed\n",
      "Get Data for : AMTD\n",
      "[*********************100%***********************]  1 of 1 completed\n",
      "Get Data for : AMTX\n",
      "[*********************100%***********************]  1 of 1 completed\n",
      "Get Data for : AMWD\n",
      "[*********************100%***********************]  1 of 1 completed\n",
      "Get Data for : AMZN\n",
      "[*********************100%***********************]  1 of 1 completed\n",
      "Get Data for : AN\n",
      "[*********************100%***********************]  1 of 1 completed\n",
      "Get Data for : ANAB\n",
      "[*********************100%***********************]  1 of 1 completed\n",
      "Get Data for : ANAT\n",
      "[*********************100%***********************]  1 of 1 completed"
     ]
    },
    {
     "name": "stderr",
     "output_type": "stream",
     "text": [
      "\n",
      "1 Failed download:\n",
      "['ANAT']: Exception('%ticker%: No timezone found, symbol may be delisted')\n"
     ]
    },
    {
     "name": "stdout",
     "output_type": "stream",
     "text": [
      "\n",
      "Get Data for : ANDE\n",
      "[*********************100%***********************]  1 of 1 completed\n",
      "Get Data for : ANET\n",
      "[*********************100%***********************]  1 of 1 completed\n",
      "Get Data for : ANF\n",
      "[*********************100%***********************]  1 of 1 completed\n",
      "Get Data for : ANGI\n",
      "[*********************100%***********************]  1 of 1 completed\n",
      "Get Data for : ANGO\n",
      "[*********************100%***********************]  1 of 1 completed\n",
      "Get Data for : ANH\n",
      "[*********************100%***********************]  1 of 1 completed"
     ]
    },
    {
     "name": "stderr",
     "output_type": "stream",
     "text": [
      "\n",
      "1 Failed download:\n",
      "['ANH']: Exception('%ticker%: No timezone found, symbol may be delisted')\n"
     ]
    },
    {
     "name": "stdout",
     "output_type": "stream",
     "text": [
      "\n",
      "Get Data for : ANIK\n",
      "[*********************100%***********************]  1 of 1 completed\n",
      "Get Data for : ANIP\n",
      "[*********************100%***********************]  1 of 1 completed\n",
      "Get Data for : ANIX\n",
      "[*********************100%***********************]  1 of 1 completed\n",
      "Get Data for : ANSS\n",
      "[*********************100%***********************]  1 of 1 completed\n",
      "Get Data for : ANTM\n",
      "[*********************100%***********************]  1 of 1 completed"
     ]
    },
    {
     "name": "stderr",
     "output_type": "stream",
     "text": [
      "\n",
      "1 Failed download:\n",
      "['ANTM']: Exception('%ticker%: No timezone found, symbol may be delisted')\n"
     ]
    },
    {
     "name": "stdout",
     "output_type": "stream",
     "text": [
      "\n",
      "Get Data for : AON\n",
      "[*********************100%***********************]  1 of 1 completed\n",
      "Get Data for : AOS\n",
      "[*********************100%***********************]  1 of 1 completed\n",
      "Get Data for : AOSL\n",
      "[*********************100%***********************]  1 of 1 completed\n",
      "Get Data for : AP\n",
      "[*********************100%***********************]  1 of 1 completed\n",
      "Get Data for : APA\n",
      "[*********************100%***********************]  1 of 1 completed\n",
      "Get Data for : APAM\n",
      "[*********************100%***********************]  1 of 1 completed\n",
      "Get Data for : APD\n",
      "[*********************100%***********************]  1 of 1 completed\n",
      "Get Data for : APDN\n",
      "[*********************100%***********************]  1 of 1 completed\n",
      "Get Data for : APEI\n",
      "[*********************100%***********************]  1 of 1 completed\n",
      "Get Data for : APEN\n",
      "[*********************100%***********************]  1 of 1 completed"
     ]
    },
    {
     "name": "stderr",
     "output_type": "stream",
     "text": [
      "\n",
      "1 Failed download:\n",
      "['APEN']: Exception('%ticker%: No timezone found, symbol may be delisted')\n"
     ]
    },
    {
     "name": "stdout",
     "output_type": "stream",
     "text": [
      "\n",
      "Get Data for : APH\n",
      "[*********************100%***********************]  1 of 1 completed\n",
      "Get Data for : APLE\n",
      "[*********************100%***********************]  1 of 1 completed\n",
      "Get Data for : APLS\n",
      "[*********************100%***********************]  1 of 1 completed\n",
      "Get Data for : APOG\n",
      "[*********************100%***********************]  1 of 1 completed\n",
      "Get Data for : APPF\n",
      "[*********************100%***********************]  1 of 1 completed\n",
      "Get Data for : APPN\n",
      "[*********************100%***********************]  1 of 1 completed\n",
      "Get Data for : APPS\n",
      "[*********************100%***********************]  1 of 1 completed\n",
      "Get Data for : APRN\n",
      "[*********************100%***********************]  1 of 1 completed\n",
      "Get Data for : APT\n",
      "[*********************100%***********************]  1 of 1 completed\n",
      "Get Data for : APTS\n",
      "[*********************100%***********************]  1 of 1 completed"
     ]
    },
    {
     "name": "stderr",
     "output_type": "stream",
     "text": [
      "\n",
      "1 Failed download:\n",
      "['APTS']: Exception('%ticker%: No timezone found, symbol may be delisted')\n"
     ]
    },
    {
     "name": "stdout",
     "output_type": "stream",
     "text": [
      "\n",
      "Get Data for : APTV\n",
      "[*********************100%***********************]  1 of 1 completed\n",
      "Get Data for : APVO\n",
      "[*********************100%***********************]  1 of 1 completed\n",
      "Get Data for : APYX\n",
      "[*********************100%***********************]  1 of 1 completed\n",
      "Get Data for : AQB\n",
      "[*********************100%***********************]  1 of 1 completed\n",
      "Get Data for : AQMS\n",
      "[*********************100%***********************]  1 of 1 completed\n",
      "Get Data for : AQUA\n",
      "[*********************100%***********************]  1 of 1 completed\n",
      "Get Data for : AR\n",
      "[*********************100%***********************]  1 of 1 completed\n",
      "Get Data for : ARA\n",
      "[*********************100%***********************]  1 of 1 completed"
     ]
    },
    {
     "name": "stderr",
     "output_type": "stream",
     "text": [
      "\n",
      "1 Failed download:\n",
      "['ARA']: Exception('%ticker%: No timezone found, symbol may be delisted')\n"
     ]
    },
    {
     "name": "stdout",
     "output_type": "stream",
     "text": [
      "\n",
      "Get Data for : ARAV\n",
      "[*********************100%***********************]  1 of 1 completed\n",
      "Get Data for : ARAY\n",
      "[*********************100%***********************]  1 of 1 completed\n",
      "Get Data for : ARC\n",
      "[*********************100%***********************]  1 of 1 completed\n",
      "Get Data for : ARCB\n",
      "[*********************100%***********************]  1 of 1 completed\n",
      "Get Data for : ARCH\n",
      "[*********************100%***********************]  1 of 1 completed\n",
      "Get Data for : ARDX\n",
      "[*********************100%***********************]  1 of 1 completed\n",
      "Get Data for : ARE\n",
      "[*********************100%***********************]  1 of 1 completed\n",
      "Get Data for : ARES\n",
      "[*********************100%***********************]  1 of 1 completed\n",
      "Get Data for : ARGO\n",
      "[*********************100%***********************]  1 of 1 completed\n",
      "Get Data for : ARI\n",
      "[*********************100%***********************]  1 of 1 completed\n",
      "Get Data for : ARKR\n",
      "[*********************100%***********************]  1 of 1 completed\n",
      "Get Data for : ARL\n",
      "[*********************100%***********************]  1 of 1 completed\n",
      "Get Data for : ARLO\n",
      "[*********************100%***********************]  1 of 1 completed\n",
      "Get Data for : ARMK\n",
      "[*********************100%***********************]  1 of 1 completed\n",
      "Get Data for : ARNA\n",
      "[*********************100%***********************]  1 of 1 completed"
     ]
    },
    {
     "name": "stderr",
     "output_type": "stream",
     "text": [
      "\n",
      "1 Failed download:\n",
      "['ARNA']: Exception('%ticker%: No timezone found, symbol may be delisted')\n"
     ]
    },
    {
     "name": "stdout",
     "output_type": "stream",
     "text": [
      "\n",
      "Get Data for : ARNC\n",
      "[*********************100%***********************]  1 of 1 completed\n",
      "Get Data for : AROC\n",
      "[*********************100%***********************]  1 of 1 completed\n",
      "Get Data for : AROW\n",
      "[*********************100%***********************]  1 of 1 completed\n",
      "Get Data for : ARPO\n",
      "[*********************100%***********************]  1 of 1 completed"
     ]
    },
    {
     "name": "stderr",
     "output_type": "stream",
     "text": [
      "\n",
      "1 Failed download:\n",
      "['ARPO']: Exception('%ticker%: No timezone found, symbol may be delisted')\n"
     ]
    },
    {
     "name": "stdout",
     "output_type": "stream",
     "text": [
      "\n",
      "Get Data for : ARR\n",
      "[*********************100%***********************]  1 of 1 completed\n",
      "Get Data for : ARTNA\n",
      "[*********************100%***********************]  1 of 1 completed\n",
      "Get Data for : ARTW\n",
      "[*********************100%***********************]  1 of 1 completed\n",
      "Get Data for : ARVN\n",
      "[*********************100%***********************]  1 of 1 completed\n",
      "Get Data for : ARW\n",
      "[*********************100%***********************]  1 of 1 completed\n",
      "Get Data for : ARWR\n",
      "[*********************100%***********************]  1 of 1 completed\n",
      "Get Data for : ASB\n",
      "[*********************100%***********************]  1 of 1 completed\n",
      "Get Data for : ASFI\n",
      "[*********************100%***********************]  1 of 1 completed"
     ]
    },
    {
     "name": "stderr",
     "output_type": "stream",
     "text": [
      "\n",
      "1 Failed download:\n",
      "['ASFI']: Exception('%ticker%: No timezone found, symbol may be delisted')\n"
     ]
    },
    {
     "name": "stdout",
     "output_type": "stream",
     "text": [
      "\n",
      "Get Data for : ASGN\n",
      "[*********************100%***********************]  1 of 1 completed\n",
      "Get Data for : ASH\n",
      "[*********************100%***********************]  1 of 1 completed\n",
      "Get Data for : ASIX\n",
      "[*********************100%***********************]  1 of 1 completed\n",
      "Get Data for : ASMB\n",
      "[*********************100%***********************]  1 of 1 completed\n",
      "Get Data for : ASNA\n",
      "[*********************100%***********************]  1 of 1 completed"
     ]
    },
    {
     "name": "stderr",
     "output_type": "stream",
     "text": [
      "\n",
      "1 Failed download:\n",
      "['ASNA']: Exception('%ticker%: No timezone found, symbol may be delisted')\n"
     ]
    },
    {
     "name": "stdout",
     "output_type": "stream",
     "text": [
      "\n",
      "Get Data for : ASPN\n",
      "[*********************100%***********************]  1 of 1 completed\n",
      "Get Data for : ASPS\n",
      "[*********************100%***********************]  1 of 1 completed\n",
      "Get Data for : ASRT\n",
      "[*********************100%***********************]  1 of 1 completed\n",
      "Get Data for : ASRV\n",
      "[*********************100%***********************]  1 of 1 completed\n",
      "Get Data for : ASTC\n",
      "[*********************100%***********************]  1 of 1 completed\n",
      "Get Data for : ASTE\n",
      "[*********************100%***********************]  1 of 1 completed\n",
      "Get Data for : ASUR\n",
      "[*********************100%***********************]  1 of 1 completed\n",
      "Get Data for : ASYS\n",
      "[*********************100%***********************]  1 of 1 completed\n",
      "Get Data for : ATEC\n",
      "[*********************100%***********************]  1 of 1 completed\n",
      "Get Data for : ATEN\n",
      "[*********************100%***********************]  1 of 1 completed\n",
      "Get Data for : ATGE\n",
      "[*********************100%***********************]  1 of 1 completed\n",
      "Get Data for : ATH\n",
      "[*********************100%***********************]  1 of 1 completed"
     ]
    },
    {
     "name": "stderr",
     "output_type": "stream",
     "text": [
      "\n",
      "1 Failed download:\n",
      "['ATH']: Exception('%ticker%: No timezone found, symbol may be delisted')\n"
     ]
    },
    {
     "name": "stdout",
     "output_type": "stream",
     "text": [
      "\n",
      "Get Data for : ATHX\n",
      "[*********************100%***********************]  1 of 1 completed\n",
      "Get Data for : ATI\n",
      "[*********************100%***********************]  1 of 1 completed\n",
      "Get Data for : ATKR\n",
      "[*********************100%***********************]  1 of 1 completed\n",
      "Get Data for : ATLC\n",
      "[*********************100%***********************]  1 of 1 completed\n",
      "Get Data for : ATLO\n",
      "[*********************100%***********************]  1 of 1 completed\n",
      "Get Data for : ATNI\n",
      "[*********************100%***********************]  1 of 1 completed\n",
      "Get Data for : ATNM\n",
      "[*********************100%***********************]  1 of 1 completed\n",
      "Get Data for : ATNX\n",
      "[*********************100%***********************]  1 of 1 completed\n",
      "Get Data for : ATO\n",
      "[*********************100%***********************]  1 of 1 completed\n",
      "Get Data for : ATOS\n",
      "[*********************100%***********************]  1 of 1 completed\n",
      "Get Data for : ATR\n",
      "[*********************100%***********************]  1 of 1 completed\n",
      "Get Data for : ATRA\n",
      "[*********************100%***********************]  1 of 1 completed\n",
      "Get Data for : ATRC\n",
      "[*********************100%***********************]  1 of 1 completed\n",
      "Get Data for : ATRI\n",
      "[*********************100%***********************]  1 of 1 completed\n",
      "Get Data for : ATRO\n",
      "[*********************100%***********************]  1 of 1 completed\n",
      "Get Data for : ATRS\n",
      "[*********************100%***********************]  1 of 1 completed"
     ]
    },
    {
     "name": "stderr",
     "output_type": "stream",
     "text": [
      "\n",
      "1 Failed download:\n",
      "['ATRS']: Exception('%ticker%: No timezone found, symbol may be delisted')\n"
     ]
    },
    {
     "name": "stdout",
     "output_type": "stream",
     "text": [
      "\n",
      "Get Data for : ATSG\n",
      "[*********************100%***********************]  1 of 1 completed\n",
      "Get Data for : ATUS\n",
      "[*********************100%***********************]  1 of 1 completed\n",
      "Get Data for : ATVI\n",
      "[*********************100%***********************]  1 of 1 completed\n",
      "Get Data for : AUBN\n",
      "[*********************100%***********************]  1 of 1 completed\n",
      "Get Data for : AUMN\n",
      "[*********************100%***********************]  1 of 1 completed\n",
      "Get Data for : AUTO\n",
      "[*********************100%***********************]  1 of 1 completed"
     ]
    },
    {
     "name": "stderr",
     "output_type": "stream",
     "text": [
      "\n",
      "1 Failed download:\n",
      "['AUTO']: Exception('%ticker%: No timezone found, symbol may be delisted')\n"
     ]
    },
    {
     "name": "stdout",
     "output_type": "stream",
     "text": [
      "\n",
      "Get Data for : AVA\n",
      "[*********************100%***********************]  1 of 1 completed\n",
      "Get Data for : AVAV\n",
      "[*********************100%***********************]  1 of 1 completed\n",
      "Get Data for : AVB\n",
      "[*********************100%***********************]  1 of 1 completed\n",
      "Get Data for : AVD\n",
      "[*********************100%***********************]  1 of 1 completed\n",
      "Get Data for : AVEO\n",
      "[*********************100%***********************]  1 of 1 completed"
     ]
    },
    {
     "name": "stderr",
     "output_type": "stream",
     "text": [
      "\n",
      "1 Failed download:\n",
      "['AVEO']: Exception('%ticker%: No timezone found, symbol may be delisted')\n"
     ]
    },
    {
     "name": "stdout",
     "output_type": "stream",
     "text": [
      "\n",
      "Get Data for : AVGO\n",
      "[*********************100%***********************]  1 of 1 completed\n",
      "Get Data for : AVGR\n",
      "[*********************100%***********************]  1 of 1 completed\n",
      "Get Data for : AVID\n",
      "[*********************100%***********************]  1 of 1 completed\n",
      "Get Data for : AVLR\n",
      "[*********************100%***********************]  1 of 1 completed"
     ]
    },
    {
     "name": "stderr",
     "output_type": "stream",
     "text": [
      "\n",
      "1 Failed download:\n",
      "['AVLR']: Exception('%ticker%: No timezone found, symbol may be delisted')\n"
     ]
    },
    {
     "name": "stdout",
     "output_type": "stream",
     "text": [
      "\n",
      "Get Data for : AVNS\n",
      "[*********************100%***********************]  1 of 1 completed\n",
      "Get Data for : AVNW\n",
      "[*********************100%***********************]  1 of 1 completed\n",
      "Get Data for : AVRO\n",
      "[*********************100%***********************]  1 of 1 completed\n",
      "Get Data for : AVT\n",
      "[*********************100%***********************]  1 of 1 completed\n",
      "Get Data for : AVTR\n",
      "[*********************100%***********************]  1 of 1 completed\n",
      "Get Data for : AVXL\n",
      "[*********************100%***********************]  1 of 1 completed\n",
      "Get Data for : AVY\n",
      "[*********************100%***********************]  1 of 1 completed\n",
      "Get Data for : AVYA\n",
      "[*********************100%***********************]  1 of 1 completed"
     ]
    },
    {
     "name": "stderr",
     "output_type": "stream",
     "text": [
      "\n",
      "1 Failed download:\n",
      "['AVYA']: Exception('%ticker%: No timezone found, symbol may be delisted')\n"
     ]
    },
    {
     "name": "stdout",
     "output_type": "stream",
     "text": [
      "\n",
      "Get Data for : AWI\n",
      "[*********************100%***********************]  1 of 1 completed\n",
      "Get Data for : AWK\n",
      "[*********************100%***********************]  1 of 1 completed\n",
      "Get Data for : AWR\n",
      "[*********************100%***********************]  1 of 1 completed\n",
      "Get Data for : AWRE\n",
      "[*********************100%***********************]  1 of 1 completed\n",
      "Get Data for : AWSM\n",
      "[*********************100%***********************]  1 of 1 completed"
     ]
    },
    {
     "name": "stderr",
     "output_type": "stream",
     "text": [
      "\n",
      "1 Failed download:\n",
      "['AWSM']: Exception('%ticker%: No timezone found, symbol may be delisted')\n"
     ]
    },
    {
     "name": "stdout",
     "output_type": "stream",
     "text": [
      "\n",
      "Get Data for : AX\n",
      "[*********************100%***********************]  1 of 1 completed\n",
      "Get Data for : AXAS\n",
      "[*********************100%***********************]  1 of 1 completed\n",
      "Get Data for : AXDX\n",
      "[*********************100%***********************]  1 of 1 completed\n",
      "Get Data for : AXE\n",
      "[*********************100%***********************]  1 of 1 completed"
     ]
    },
    {
     "name": "stderr",
     "output_type": "stream",
     "text": [
      "\n",
      "1 Failed download:\n",
      "['AXE']: Exception('%ticker%: No timezone found, symbol may be delisted')\n"
     ]
    },
    {
     "name": "stdout",
     "output_type": "stream",
     "text": [
      "\n",
      "Get Data for : AXGN\n",
      "[*********************100%***********************]  1 of 1 completed\n",
      "Get Data for : AXL\n",
      "[*********************100%***********************]  1 of 1 completed\n",
      "Get Data for : AXNX\n",
      "[*********************100%***********************]  1 of 1 completed\n",
      "Get Data for : AXP\n",
      "[*********************100%***********************]  1 of 1 completed\n",
      "Get Data for : AXR\n",
      "[*********************100%***********************]  1 of 1 completed\n",
      "Get Data for : AXS\n",
      "[*********************100%***********************]  1 of 1 completed\n",
      "Get Data for : AXSM\n",
      "[*********************100%***********************]  1 of 1 completed\n",
      "Get Data for : AXTA\n",
      "[*********************100%***********************]  1 of 1 completed\n",
      "Get Data for : AXTI\n",
      "[*********************100%***********************]  1 of 1 completed\n",
      "Get Data for : AYI\n",
      "[*********************100%***********************]  1 of 1 completed\n",
      "Get Data for : AYX\n",
      "[*********************100%***********************]  1 of 1 completed\n",
      "Get Data for : AZO\n",
      "[*********************100%***********************]  1 of 1 completed\n",
      "Get Data for : AZPN\n",
      "[*********************100%***********************]  1 of 1 completed\n",
      "Get Data for : AZZ\n",
      "[*********************100%***********************]  1 of 1 completed\n",
      "Get Data for : B\n",
      "[*********************100%***********************]  1 of 1 completed\n",
      "Get Data for : BA\n",
      "[*********************100%***********************]  1 of 1 completed\n",
      "Get Data for : BAC\n",
      "[*********************100%***********************]  1 of 1 completed\n",
      "Get Data for : BAH\n",
      "[*********************100%***********************]  1 of 1 completed\n",
      "Get Data for : BANC\n",
      "[*********************100%***********************]  1 of 1 completed\n",
      "Get Data for : BAND\n",
      "[*********************100%***********************]  1 of 1 completed\n",
      "Get Data for : BANF\n",
      "[*********************100%***********************]  1 of 1 completed\n",
      "Get Data for : BANR\n",
      "[*********************100%***********************]  1 of 1 completed\n",
      "Get Data for : BASI\n",
      "[*********************100%***********************]  1 of 1 completed"
     ]
    },
    {
     "name": "stderr",
     "output_type": "stream",
     "text": [
      "\n",
      "1 Failed download:\n",
      "['BASI']: Exception('%ticker%: No timezone found, symbol may be delisted')\n"
     ]
    },
    {
     "name": "stdout",
     "output_type": "stream",
     "text": [
      "\n",
      "Get Data for : BATRA\n",
      "[*********************100%***********************]  1 of 1 completed\n",
      "Get Data for : BATRK\n",
      "[*********************100%***********************]  1 of 1 completed\n",
      "Get Data for : BAX\n",
      "[*********************100%***********************]  1 of 1 completed\n",
      "Get Data for : BBBY\n",
      "[*********************100%***********************]  1 of 1 completed\n",
      "Get Data for : BBCP\n",
      "[*********************100%***********************]  1 of 1 completed\n",
      "Get Data for : BBGI\n",
      "[*********************100%***********************]  1 of 1 completed\n",
      "Get Data for : BBSI\n",
      "[*********************100%***********************]  1 of 1 completed\n",
      "Get Data for : BBW\n",
      "[*********************100%***********************]  1 of 1 completed\n",
      "Get Data for : BBY\n",
      "[*********************100%***********************]  1 of 1 completed\n",
      "Get Data for : BC\n",
      "[*********************100%***********************]  1 of 1 completed\n",
      "Get Data for : BCBP\n",
      "[*********************100%***********************]  1 of 1 completed\n",
      "Get Data for : BCC\n",
      "[*********************100%***********************]  1 of 1 completed\n",
      "Get Data for : BCEI\n",
      "[*********************100%***********************]  1 of 1 completed"
     ]
    },
    {
     "name": "stderr",
     "output_type": "stream",
     "text": [
      "\n",
      "1 Failed download:\n",
      "['BCEI']: Exception('%ticker%: No timezone found, symbol may be delisted')\n"
     ]
    },
    {
     "name": "stdout",
     "output_type": "stream",
     "text": [
      "\n",
      "Get Data for : BCLI\n",
      "[*********************100%***********************]  1 of 1 completed\n",
      "Get Data for : BCO\n",
      "[*********************100%***********************]  1 of 1 completed\n",
      "Get Data for : BCOR\n",
      "[*********************100%***********************]  1 of 1 completed"
     ]
    },
    {
     "name": "stderr",
     "output_type": "stream",
     "text": [
      "\n",
      "1 Failed download:\n",
      "['BCOR']: Exception('%ticker%: No timezone found, symbol may be delisted')\n"
     ]
    },
    {
     "name": "stdout",
     "output_type": "stream",
     "text": [
      "\n",
      "Get Data for : BCOV\n",
      "[*********************100%***********************]  1 of 1 completed\n",
      "Get Data for : BCPC\n",
      "[*********************100%***********************]  1 of 1 completed\n",
      "Get Data for : BCRX\n",
      "[*********************100%***********************]  1 of 1 completed\n",
      "Get Data for : BDC\n",
      "[*********************100%***********************]  1 of 1 completed\n",
      "Get Data for : BDGE\n",
      "[*********************100%***********************]  1 of 1 completed"
     ]
    },
    {
     "name": "stderr",
     "output_type": "stream",
     "text": [
      "\n",
      "1 Failed download:\n",
      "['BDGE']: Exception('%ticker%: No timezone found, symbol may be delisted')\n"
     ]
    },
    {
     "name": "stdout",
     "output_type": "stream",
     "text": [
      "\n",
      "Get Data for : BDL\n",
      "[*********************100%***********************]  1 of 1 completed\n",
      "Get Data for : BDN\n",
      "[*********************100%***********************]  1 of 1 completed\n",
      "Get Data for : BDSI\n",
      "[*********************100%***********************]  1 of 1 completed\n",
      "Get Data for : BDX\n",
      "[*********************100%***********************]  1 of 1 completed\n",
      "Get Data for : BE\n",
      "[*********************100%***********************]  1 of 1 completed\n",
      "Get Data for : BEAT\n",
      "[*********************100%***********************]  1 of 1 completed"
     ]
    },
    {
     "name": "stderr",
     "output_type": "stream",
     "text": [
      "\n",
      "1 Failed download:\n",
      "['BEAT']: Exception(\"%ticker%: Data doesn't exist for startDate = 1483246800, endDate = 1629345600\")\n"
     ]
    },
    {
     "name": "stdout",
     "output_type": "stream",
     "text": [
      "\n",
      "Get Data for : BECN\n",
      "[*********************100%***********************]  1 of 1 completed\n",
      "Get Data for : BELFA\n",
      "[*********************100%***********************]  1 of 1 completed\n",
      "Get Data for : BELFB\n",
      "[*********************100%***********************]  1 of 1 completed\n",
      "Get Data for : BEN\n",
      "[*********************100%***********************]  1 of 1 completed\n",
      "Get Data for : BERY\n",
      "[*********************100%***********************]  1 of 1 completed\n",
      "Get Data for : BFAM\n",
      "[*********************100%***********************]  1 of 1 completed\n",
      "Get Data for : BFIN\n",
      "[*********************100%***********************]  1 of 1 completed\n",
      "Get Data for : BFS\n",
      "[*********************100%***********************]  1 of 1 completed\n",
      "Get Data for : BFST\n",
      "[*********************100%***********************]  1 of 1 completed\n",
      "Get Data for : BG\n",
      "[*********************100%***********************]  1 of 1 completed\n",
      "Get Data for : BGCP\n",
      "[*********************100%***********************]  1 of 1 completed\n",
      "Get Data for : BGFV\n",
      "[*********************100%***********************]  1 of 1 completed\n",
      "Get Data for : BGS\n",
      "[*********************100%***********************]  1 of 1 completed\n",
      "Get Data for : BGSF\n",
      "[*********************100%***********************]  1 of 1 completed\n",
      "Get Data for : BH\n",
      "[*********************100%***********************]  1 of 1 completed\n",
      "Get Data for : BHB\n",
      "[*********************100%***********************]  1 of 1 completed\n",
      "Get Data for : BHE\n",
      "[*********************100%***********************]  1 of 1 completed\n",
      "Get Data for : BHF\n",
      "[*********************100%***********************]  1 of 1 completed\n",
      "Get Data for : BHLB\n",
      "[*********************100%***********************]  1 of 1 completed\n",
      "Get Data for : BHR\n",
      "[*********************100%***********************]  1 of 1 completed\n",
      "Get Data for : BHVN\n",
      "[*********************100%***********************]  1 of 1 completed"
     ]
    },
    {
     "name": "stderr",
     "output_type": "stream",
     "text": [
      "\n",
      "1 Failed download:\n",
      "['BHVN']: Exception(\"%ticker%: Data doesn't exist for startDate = 1483246800, endDate = 1629345600\")\n"
     ]
    },
    {
     "name": "stdout",
     "output_type": "stream",
     "text": [
      "\n",
      "Get Data for : BIG\n",
      "[*********************100%***********************]  1 of 1 completed\n",
      "Get Data for : BIIB\n",
      "[*********************100%***********************]  1 of 1 completed\n",
      "Get Data for : BIO\n",
      "[*********************100%***********************]  1 of 1 completed\n",
      "Get Data for : BIOC\n",
      "[*********************100%***********************]  1 of 1 completed\n",
      "Get Data for : BIOL\n",
      "[*********************100%***********************]  1 of 1 completed\n",
      "Get Data for : BJ\n",
      "[*********************100%***********************]  1 of 1 completed\n",
      "Get Data for : BJRI\n",
      "[*********************100%***********************]  1 of 1 completed\n",
      "Get Data for : BK\n",
      "[*********************100%***********************]  1 of 1 completed\n",
      "Get Data for : BKD\n",
      "[*********************100%***********************]  1 of 1 completed\n",
      "Get Data for : BKE\n",
      "[*********************100%***********************]  1 of 1 completed\n",
      "Get Data for : BKH\n",
      "[*********************100%***********************]  1 of 1 completed\n",
      "Get Data for : BKI\n",
      "[*********************100%***********************]  1 of 1 completed\n",
      "Get Data for : BKNG\n",
      "[*********************100%***********************]  1 of 1 completed\n",
      "Get Data for : BKSC\n",
      "[*********************100%***********************]  1 of 1 completed\n",
      "Get Data for : BKTI\n",
      "[*********************100%***********************]  1 of 1 completed\n",
      "Get Data for : BKU\n",
      "[*********************100%***********************]  1 of 1 completed\n",
      "Get Data for : BL\n",
      "[*********************100%***********************]  1 of 1 completed\n",
      "Get Data for : BLBD\n",
      "[*********************100%***********************]  1 of 1 completed\n",
      "Get Data for : BLCM\n",
      "[*********************100%***********************]  1 of 1 completed\n",
      "Get Data for : BLD\n",
      "[*********************100%***********************]  1 of 1 completed\n",
      "Get Data for : BLDR\n",
      "[*********************100%***********************]  1 of 1 completed\n",
      "Get Data for : BLFS\n",
      "[*********************100%***********************]  1 of 1 completed\n",
      "Get Data for : BLK\n",
      "[*********************100%***********************]  1 of 1 completed\n",
      "Get Data for : BLKB\n",
      "[*********************100%***********************]  1 of 1 completed\n",
      "Get Data for : BLL\n",
      "[*********************100%***********************]  1 of 1 completed"
     ]
    },
    {
     "name": "stderr",
     "output_type": "stream",
     "text": [
      "\n",
      "1 Failed download:\n",
      "['BLL']: Exception('%ticker%: No timezone found, symbol may be delisted')\n"
     ]
    },
    {
     "name": "stdout",
     "output_type": "stream",
     "text": [
      "\n",
      "Get Data for : BLMN\n",
      "[*********************100%***********************]  1 of 1 completed\n",
      "Get Data for : BLUE\n",
      "[*********************100%***********************]  1 of 1 completed\n",
      "Get Data for : BMCH\n",
      "[*********************100%***********************]  1 of 1 completed"
     ]
    },
    {
     "name": "stderr",
     "output_type": "stream",
     "text": [
      "\n",
      "1 Failed download:\n",
      "['BMCH']: Exception('%ticker%: No timezone found, symbol may be delisted')\n"
     ]
    },
    {
     "name": "stdout",
     "output_type": "stream",
     "text": [
      "\n",
      "Get Data for : BMI\n",
      "[*********************100%***********************]  1 of 1 completed\n",
      "Get Data for : BMRC\n",
      "[*********************100%***********************]  1 of 1 completed\n",
      "Get Data for : BMRN\n",
      "[*********************100%***********************]  1 of 1 completed\n",
      "Get Data for : BMTC\n",
      "[*********************100%***********************]  1 of 1 completed"
     ]
    },
    {
     "name": "stderr",
     "output_type": "stream",
     "text": [
      "\n",
      "1 Failed download:\n",
      "['BMTC']: Exception('%ticker%: No timezone found, symbol may be delisted')\n"
     ]
    },
    {
     "name": "stdout",
     "output_type": "stream",
     "text": [
      "\n",
      "Get Data for : BMY\n",
      "[*********************100%***********************]  1 of 1 completed\n",
      "Get Data for : BNED\n",
      "[*********************100%***********************]  1 of 1 completed\n",
      "Get Data for : BNFT\n",
      "[*********************100%***********************]  1 of 1 completed"
     ]
    },
    {
     "name": "stderr",
     "output_type": "stream",
     "text": [
      "\n",
      "1 Failed download:\n",
      "['BNFT']: Exception('%ticker%: No timezone found, symbol may be delisted')\n"
     ]
    },
    {
     "name": "stdout",
     "output_type": "stream",
     "text": [
      "\n",
      "Get Data for : BOCH\n",
      "[*********************100%***********************]  1 of 1 completed"
     ]
    },
    {
     "name": "stderr",
     "output_type": "stream",
     "text": [
      "\n",
      "1 Failed download:\n",
      "['BOCH']: Exception('%ticker%: No timezone found, symbol may be delisted')\n"
     ]
    },
    {
     "name": "stdout",
     "output_type": "stream",
     "text": [
      "\n",
      "Get Data for : BOH\n",
      "[*********************100%***********************]  1 of 1 completed\n",
      "Get Data for : BOKF\n",
      "[*********************100%***********************]  1 of 1 completed\n",
      "Get Data for : BOMN\n",
      "[*********************100%***********************]  1 of 1 completed"
     ]
    },
    {
     "name": "stderr",
     "output_type": "stream",
     "text": [
      "\n",
      "1 Failed download:\n",
      "['BOMN']: Exception('%ticker%: No timezone found, symbol may be delisted')\n"
     ]
    },
    {
     "name": "stdout",
     "output_type": "stream",
     "text": [
      "\n",
      "Get Data for : BOOM\n",
      "[*********************100%***********************]  1 of 1 completed\n",
      "Get Data for : BOOT\n",
      "[*********************100%***********************]  1 of 1 completed\n",
      "Get Data for : BOTJ\n",
      "[*********************100%***********************]  1 of 1 completed\n",
      "Get Data for : BOX\n",
      "[*********************100%***********************]  1 of 1 completed\n",
      "Get Data for : BPFH\n",
      "[*********************100%***********************]  1 of 1 completed"
     ]
    },
    {
     "name": "stderr",
     "output_type": "stream",
     "text": [
      "\n",
      "1 Failed download:\n",
      "['BPFH']: Exception('%ticker%: No timezone found, symbol may be delisted')\n"
     ]
    },
    {
     "name": "stdout",
     "output_type": "stream",
     "text": [
      "\n",
      "Get Data for : BPMC\n",
      "[*********************100%***********************]  1 of 1 completed\n",
      "Get Data for : BPOP\n",
      "[*********************100%***********************]  1 of 1 completed\n",
      "Get Data for : BPRN\n",
      "[*********************100%***********************]  1 of 1 completed\n",
      "Get Data for : BPTH\n",
      "[*********************100%***********************]  1 of 1 completed\n",
      "Get Data for : BR\n",
      "[*********************100%***********************]  1 of 1 completed\n",
      "Get Data for : BRC\n",
      "[*********************100%***********************]  1 of 1 completed\n",
      "Get Data for : BREW\n",
      "[*********************100%***********************]  1 of 1 completed"
     ]
    },
    {
     "name": "stderr",
     "output_type": "stream",
     "text": [
      "\n",
      "1 Failed download:\n",
      "['BREW']: Exception('%ticker%: No timezone found, symbol may be delisted')\n"
     ]
    },
    {
     "name": "stdout",
     "output_type": "stream",
     "text": [
      "\n",
      "Get Data for : BRG\n",
      "[*********************100%***********************]  1 of 1 completed"
     ]
    },
    {
     "name": "stderr",
     "output_type": "stream",
     "text": [
      "\n",
      "1 Failed download:\n",
      "['BRG']: Exception('%ticker%: No timezone found, symbol may be delisted')\n"
     ]
    },
    {
     "name": "stdout",
     "output_type": "stream",
     "text": [
      "\n",
      "Get Data for : BRID\n",
      "[*********************100%***********************]  1 of 1 completed\n",
      "Get Data for : BRKL\n",
      "[*********************100%***********************]  1 of 1 completed\n",
      "Get Data for : BRKR\n",
      "[*********************100%***********************]  1 of 1 completed\n",
      "Get Data for : BRKS\n",
      "[*********************100%***********************]  1 of 1 completed"
     ]
    },
    {
     "name": "stderr",
     "output_type": "stream",
     "text": [
      "\n",
      "1 Failed download:\n",
      "['BRKS']: Exception('%ticker%: No timezone found, symbol may be delisted')\n"
     ]
    },
    {
     "name": "stdout",
     "output_type": "stream",
     "text": [
      "\n",
      "Get Data for : BRN\n",
      "[*********************100%***********************]  1 of 1 completed\n",
      "Get Data for : BRO\n",
      "[*********************100%***********************]  1 of 1 completed\n",
      "Get Data for : BRT\n",
      "[*********************100%***********************]  1 of 1 completed\n",
      "Get Data for : BRX\n",
      "[*********************100%***********************]  1 of 1 completed\n",
      "Get Data for : BRY\n",
      "[*********************100%***********************]  1 of 1 completed\n",
      "Get Data for : BSET\n",
      "[*********************100%***********************]  1 of 1 completed\n",
      "Get Data for : BSGM\n",
      "[*********************100%***********************]  1 of 1 completed\n",
      "Get Data for : BSQR\n",
      "[*********************100%***********************]  1 of 1 completed\n",
      "Get Data for : BSRR\n",
      "[*********************100%***********************]  1 of 1 completed\n",
      "Get Data for : BSTC\n",
      "[*********************100%***********************]  1 of 1 completed"
     ]
    },
    {
     "name": "stderr",
     "output_type": "stream",
     "text": [
      "\n",
      "1 Failed download:\n",
      "['BSTC']: Exception('%ticker%: No timezone found, symbol may be delisted')\n"
     ]
    },
    {
     "name": "stdout",
     "output_type": "stream",
     "text": [
      "\n",
      "Get Data for : BSX\n",
      "[*********************100%***********************]  1 of 1 completed\n",
      "Get Data for : BTN\n",
      "[*********************100%***********************]  1 of 1 completed"
     ]
    },
    {
     "name": "stderr",
     "output_type": "stream",
     "text": [
      "\n",
      "1 Failed download:\n",
      "['BTN']: Exception('%ticker%: No timezone found, symbol may be delisted')\n"
     ]
    },
    {
     "name": "stdout",
     "output_type": "stream",
     "text": [
      "\n",
      "Get Data for : BTU\n",
      "[*********************100%***********************]  1 of 1 completed\n",
      "Get Data for : BURL\n",
      "[*********************100%***********************]  1 of 1 completed\n",
      "Get Data for : BUSE\n",
      "[*********************100%***********************]  1 of 1 completed\n",
      "Get Data for : BV\n",
      "[*********************100%***********************]  1 of 1 completed\n",
      "Get Data for : BW\n",
      "[*********************100%***********************]  1 of 1 completed\n",
      "Get Data for : BWA\n",
      "[*********************100%***********************]  1 of 1 completed\n",
      "Get Data for : BWEN\n",
      "[*********************100%***********************]  1 of 1 completed\n",
      "Get Data for : BWFG\n",
      "[*********************100%***********************]  1 of 1 completed\n",
      "Get Data for : BWXT\n",
      "[*********************100%***********************]  1 of 1 completed\n",
      "Get Data for : BXC\n",
      "[*********************100%***********************]  1 of 1 completed\n",
      "Get Data for : BXMT\n",
      "[*********************100%***********************]  1 of 1 completed\n",
      "Get Data for : BXP\n",
      "[*********************100%***********************]  1 of 1 completed\n",
      "Get Data for : BXS\n",
      "[*********************100%***********************]  1 of 1 completed"
     ]
    },
    {
     "name": "stderr",
     "output_type": "stream",
     "text": [
      "\n",
      "1 Failed download:\n",
      "['BXS']: Exception('%ticker%: No timezone found, symbol may be delisted')\n"
     ]
    },
    {
     "name": "stdout",
     "output_type": "stream",
     "text": [
      "\n",
      "Get Data for : BY\n",
      "[*********************100%***********************]  1 of 1 completed\n",
      "Get Data for : BYD\n",
      "[*********************100%***********************]  1 of 1 completed\n",
      "Get Data for : BYFC\n",
      "[*********************100%***********************]  1 of 1 completed\n",
      "Get Data for : BYND\n",
      "[*********************100%***********************]  1 of 1 completed\n",
      "Get Data for : BZH\n",
      "[*********************100%***********************]  1 of 1 completed\n",
      "Get Data for : C\n",
      "[*********************100%***********************]  1 of 1 completed\n",
      "Get Data for : CABO\n",
      "[*********************100%***********************]  1 of 1 completed\n",
      "Get Data for : CAC\n",
      "[*********************100%***********************]  1 of 1 completed\n",
      "Get Data for : CACC\n",
      "[*********************100%***********************]  1 of 1 completed\n",
      "Get Data for : CACI\n",
      "[*********************100%***********************]  1 of 1 completed\n",
      "Get Data for : CADE\n",
      "[*********************100%***********************]  1 of 1 completed\n",
      "Get Data for : CAG\n",
      "[*********************100%***********************]  1 of 1 completed\n",
      "Get Data for : CAH\n",
      "[*********************100%***********************]  1 of 1 completed\n",
      "Get Data for : CAI\n",
      "[*********************100%***********************]  1 of 1 completed"
     ]
    },
    {
     "name": "stderr",
     "output_type": "stream",
     "text": [
      "\n",
      "1 Failed download:\n",
      "['CAI']: Exception('%ticker%: No timezone found, symbol may be delisted')\n"
     ]
    },
    {
     "name": "stdout",
     "output_type": "stream",
     "text": [
      "\n",
      "Get Data for : CAKE\n",
      "[*********************100%***********************]  1 of 1 completed\n",
      "Get Data for : CAL\n",
      "[*********************100%***********************]  1 of 1 completed\n",
      "Get Data for : CALA\n",
      "[*********************100%***********************]  1 of 1 completed\n",
      "Get Data for : CALM\n",
      "[*********************100%***********************]  1 of 1 completed\n",
      "Get Data for : CALX\n",
      "[*********************100%***********************]  1 of 1 completed\n",
      "Get Data for : CAMP\n",
      "[*********************100%***********************]  1 of 1 completed\n",
      "Get Data for : CAPR\n",
      "[*********************100%***********************]  1 of 1 completed\n",
      "Get Data for : CAR\n",
      "[*********************100%***********************]  1 of 1 completed\n",
      "Get Data for : CARA\n",
      "[*********************100%***********************]  1 of 1 completed\n",
      "Get Data for : CARG\n",
      "[*********************100%***********************]  1 of 1 completed\n",
      "Get Data for : CARS\n",
      "[*********************100%***********************]  1 of 1 completed\n",
      "Finished\n"
     ]
    }
   ],
   "source": [
    "#Download stocks in blocks of 500\n",
    "for x in range(10,500):\n",
    "    save_to_csv_from_yahoo(folder, tickers[x],2017, 1,1, 2021,8,19)\n",
    "print(\"Finished\")"
   ]
  },
  {
   "cell_type": "code",
   "execution_count": 40,
   "metadata": {},
   "outputs": [
    {
     "name": "stdout",
     "output_type": "stream",
     "text": [
      "Get Data for : CASA\n",
      "[*********************100%***********************]  1 of 1 completed\n",
      "Get Data for : CASH\n",
      "[*********************100%***********************]  1 of 1 completed\n",
      "Get Data for : CASI\n",
      "[*********************100%***********************]  1 of 1 completed\n",
      "Get Data for : CASS\n",
      "[*********************100%***********************]  1 of 1 completed\n",
      "Get Data for : CASY\n",
      "[*********************100%***********************]  1 of 1 completed\n",
      "Get Data for : CAT\n",
      "[*********************100%***********************]  1 of 1 completed\n",
      "Get Data for : CATB\n",
      "[*********************100%***********************]  1 of 1 completed"
     ]
    },
    {
     "name": "stderr",
     "output_type": "stream",
     "text": [
      "\n",
      "1 Failed download:\n",
      "['CATB']: Exception('%ticker%: No timezone found, symbol may be delisted')\n"
     ]
    },
    {
     "name": "stdout",
     "output_type": "stream",
     "text": [
      "\n",
      "Get Data for : CATC\n",
      "[*********************100%***********************]  1 of 1 completed\n",
      "Get Data for : CATM\n",
      "[*********************100%***********************]  1 of 1 completed"
     ]
    },
    {
     "name": "stderr",
     "output_type": "stream",
     "text": [
      "\n",
      "1 Failed download:\n",
      "['CATM']: Exception('%ticker%: No timezone found, symbol may be delisted')\n"
     ]
    },
    {
     "name": "stdout",
     "output_type": "stream",
     "text": [
      "\n",
      "Get Data for : CATO\n",
      "[*********************100%***********************]  1 of 1 completed\n",
      "Get Data for : CATS\n",
      "[*********************100%***********************]  1 of 1 completed"
     ]
    },
    {
     "name": "stderr",
     "output_type": "stream",
     "text": [
      "\n",
      "1 Failed download:\n",
      "['CATS']: Exception('%ticker%: No timezone found, symbol may be delisted')\n"
     ]
    },
    {
     "name": "stdout",
     "output_type": "stream",
     "text": [
      "\n",
      "Get Data for : CATY\n",
      "[*********************100%***********************]  1 of 1 completed\n",
      "Get Data for : CB\n",
      "[*********************100%***********************]  1 of 1 completed\n",
      "Get Data for : CBAN\n",
      "[*********************100%***********************]  1 of 1 completed\n",
      "Get Data for : CBAY\n",
      "[*********************100%***********************]  1 of 1 completed\n",
      "Get Data for : CBB\n",
      "[*********************100%***********************]  1 of 1 completed"
     ]
    },
    {
     "name": "stderr",
     "output_type": "stream",
     "text": [
      "\n",
      "1 Failed download:\n",
      "['CBB']: Exception('%ticker%: No timezone found, symbol may be delisted')\n"
     ]
    },
    {
     "name": "stdout",
     "output_type": "stream",
     "text": [
      "\n",
      "Get Data for : CBFV\n",
      "[*********************100%***********************]  1 of 1 completed\n",
      "Get Data for : CBIO\n",
      "[*********************100%***********************]  1 of 1 completed\n",
      "Get Data for : CBLI\n",
      "[*********************100%***********************]  1 of 1 completed"
     ]
    },
    {
     "name": "stderr",
     "output_type": "stream",
     "text": [
      "\n",
      "1 Failed download:\n",
      "['CBLI']: Exception('%ticker%: No timezone found, symbol may be delisted')\n"
     ]
    },
    {
     "name": "stdout",
     "output_type": "stream",
     "text": [
      "\n",
      "Get Data for : CBMG\n",
      "[*********************100%***********************]  1 of 1 completed"
     ]
    },
    {
     "name": "stderr",
     "output_type": "stream",
     "text": [
      "\n",
      "1 Failed download:\n",
      "['CBMG']: Exception('%ticker%: No timezone found, symbol may be delisted')\n"
     ]
    },
    {
     "name": "stdout",
     "output_type": "stream",
     "text": [
      "\n",
      "Get Data for : CBOE\n",
      "[*********************100%***********************]  1 of 1 completed\n",
      "Get Data for : CBRE\n",
      "[*********************100%***********************]  1 of 1 completed\n",
      "Get Data for : CBRL\n",
      "[*********************100%***********************]  1 of 1 completed\n",
      "Get Data for : CBSH\n",
      "[*********************100%***********************]  1 of 1 completed\n",
      "Get Data for : CBT\n",
      "[*********************100%***********************]  1 of 1 completed\n",
      "Get Data for : CBTX\n",
      "[*********************100%***********************]  1 of 1 completed"
     ]
    },
    {
     "name": "stderr",
     "output_type": "stream",
     "text": [
      "\n",
      "1 Failed download:\n",
      "['CBTX']: Exception('%ticker%: No timezone found, symbol may be delisted')\n"
     ]
    },
    {
     "name": "stdout",
     "output_type": "stream",
     "text": [
      "\n",
      "Get Data for : CBU\n",
      "[*********************100%***********************]  1 of 1 completed\n",
      "Get Data for : CBZ\n",
      "[*********************100%***********************]  1 of 1 completed\n",
      "Get Data for : CC\n",
      "[*********************100%***********************]  1 of 1 completed\n",
      "Get Data for : CCBG\n",
      "[*********************100%***********************]  1 of 1 completed\n",
      "Get Data for : CCF\n",
      "[*********************100%***********************]  1 of 1 completed\n",
      "Get Data for : CCI\n",
      "[*********************100%***********************]  1 of 1 completed\n",
      "Get Data for : CCK\n",
      "[*********************100%***********************]  1 of 1 completed\n",
      "Get Data for : CCL\n",
      "[*********************100%***********************]  1 of 1 completed\n",
      "Get Data for : CCMP\n",
      "[*********************100%***********************]  1 of 1 completed"
     ]
    },
    {
     "name": "stderr",
     "output_type": "stream",
     "text": [
      "\n",
      "1 Failed download:\n",
      "['CCMP']: Exception('%ticker%: No timezone found, symbol may be delisted')\n"
     ]
    },
    {
     "name": "stdout",
     "output_type": "stream",
     "text": [
      "\n",
      "Get Data for : CCNE\n",
      "[*********************100%***********************]  1 of 1 completed\n",
      "Get Data for : CCO\n",
      "[*********************100%***********************]  1 of 1 completed\n",
      "Get Data for : CCOI\n",
      "[*********************100%***********************]  1 of 1 completed\n",
      "Get Data for : CCRN\n",
      "[*********************100%***********************]  1 of 1 completed\n",
      "Get Data for : CCS\n",
      "[*********************100%***********************]  1 of 1 completed\n",
      "Get Data for : CCXI\n",
      "[*********************100%***********************]  1 of 1 completed"
     ]
    },
    {
     "name": "stderr",
     "output_type": "stream",
     "text": [
      "\n",
      "1 Failed download:\n",
      "['CCXI']: Exception('%ticker%: No timezone found, symbol may be delisted')\n"
     ]
    },
    {
     "name": "stdout",
     "output_type": "stream",
     "text": [
      "\n",
      "Get Data for : CDAY\n",
      "[*********************100%***********************]  1 of 1 completed\n",
      "Get Data for : CDE\n",
      "[*********************100%***********************]  1 of 1 completed\n",
      "Get Data for : CDEV\n",
      "[*********************100%***********************]  1 of 1 completed"
     ]
    },
    {
     "name": "stderr",
     "output_type": "stream",
     "text": [
      "\n",
      "1 Failed download:\n",
      "['CDEV']: Exception('%ticker%: No timezone found, symbol may be delisted')\n"
     ]
    },
    {
     "name": "stdout",
     "output_type": "stream",
     "text": [
      "\n",
      "Get Data for : CDK\n",
      "[*********************100%***********************]  1 of 1 completed"
     ]
    },
    {
     "name": "stderr",
     "output_type": "stream",
     "text": [
      "\n",
      "1 Failed download:\n",
      "['CDK']: Exception('%ticker%: No timezone found, symbol may be delisted')\n"
     ]
    },
    {
     "name": "stdout",
     "output_type": "stream",
     "text": [
      "\n",
      "Get Data for : CDLX\n",
      "[*********************100%***********************]  1 of 1 completed\n",
      "Get Data for : CDMO\n",
      "[*********************100%***********************]  1 of 1 completed\n",
      "Get Data for : CDNA\n",
      "[*********************100%***********************]  1 of 1 completed\n",
      "Get Data for : CDNS\n",
      "[*********************100%***********************]  1 of 1 completed\n",
      "Get Data for : CDR\n",
      "[*********************100%***********************]  1 of 1 completed"
     ]
    },
    {
     "name": "stderr",
     "output_type": "stream",
     "text": [
      "\n",
      "1 Failed download:\n",
      "['CDR']: Exception('%ticker%: No timezone found, symbol may be delisted')\n"
     ]
    },
    {
     "name": "stdout",
     "output_type": "stream",
     "text": [
      "\n",
      "Get Data for : CDTX\n",
      "[*********************100%***********************]  1 of 1 completed\n",
      "Get Data for : CDW\n",
      "[*********************100%***********************]  1 of 1 completed\n",
      "Get Data for : CDXC\n",
      "[*********************100%***********************]  1 of 1 completed\n",
      "Get Data for : CDXS\n",
      "[*********************100%***********************]  1 of 1 completed\n",
      "Get Data for : CDZI\n",
      "[*********************100%***********************]  1 of 1 completed\n",
      "Get Data for : CE\n",
      "[*********************100%***********************]  1 of 1 completed\n",
      "Get Data for : CECE\n",
      "[*********************100%***********************]  1 of 1 completed"
     ]
    },
    {
     "name": "stderr",
     "output_type": "stream",
     "text": [
      "\n",
      "1 Failed download:\n",
      "['CECE']: Exception('%ticker%: No timezone found, symbol may be delisted')\n"
     ]
    },
    {
     "name": "stdout",
     "output_type": "stream",
     "text": [
      "\n",
      "Get Data for : CEI\n",
      "[*********************100%***********************]  1 of 1 completed\n",
      "Get Data for : CEIX\n",
      "[*********************100%***********************]  1 of 1 completed\n",
      "Get Data for : CELC\n",
      "[*********************100%***********************]  1 of 1 completed\n",
      "Get Data for : CELH\n",
      "[*********************100%***********************]  1 of 1 completed\n",
      "Get Data for : CEMI\n",
      "[*********************100%***********************]  1 of 1 completed"
     ]
    },
    {
     "name": "stderr",
     "output_type": "stream",
     "text": [
      "\n",
      "1 Failed download:\n",
      "['CEMI']: Exception('%ticker%: No timezone found, symbol may be delisted')\n"
     ]
    },
    {
     "name": "stdout",
     "output_type": "stream",
     "text": [
      "\n",
      "Get Data for : CENT\n",
      "[*********************100%***********************]  1 of 1 completed\n",
      "Get Data for : CENTA\n",
      "[*********************100%***********************]  1 of 1 completed\n",
      "Get Data for : CENX\n",
      "[*********************100%***********************]  1 of 1 completed\n",
      "Get Data for : CERC\n",
      "[*********************100%***********************]  1 of 1 completed"
     ]
    },
    {
     "name": "stderr",
     "output_type": "stream",
     "text": [
      "\n",
      "1 Failed download:\n",
      "['CERC']: Exception('%ticker%: No timezone found, symbol may be delisted')\n"
     ]
    },
    {
     "name": "stdout",
     "output_type": "stream",
     "text": [
      "\n",
      "Get Data for : CERN\n",
      "[*********************100%***********************]  1 of 1 completed"
     ]
    },
    {
     "name": "stderr",
     "output_type": "stream",
     "text": [
      "\n",
      "1 Failed download:\n",
      "['CERN']: Exception('%ticker%: No timezone found, symbol may be delisted')\n"
     ]
    },
    {
     "name": "stdout",
     "output_type": "stream",
     "text": [
      "\n",
      "Get Data for : CERS\n",
      "[*********************100%***********************]  1 of 1 completed\n",
      "Get Data for : CETV\n",
      "[*********************100%***********************]  1 of 1 completed"
     ]
    },
    {
     "name": "stderr",
     "output_type": "stream",
     "text": [
      "\n",
      "1 Failed download:\n",
      "['CETV']: Exception('%ticker%: No timezone found, symbol may be delisted')\n"
     ]
    },
    {
     "name": "stdout",
     "output_type": "stream",
     "text": [
      "\n",
      "Get Data for : CETX\n",
      "[*********************100%***********************]  1 of 1 completed\n",
      "Get Data for : CEVA\n",
      "[*********************100%***********************]  1 of 1 completed\n",
      "Get Data for : CF\n",
      "[*********************100%***********************]  1 of 1 completed\n",
      "Get Data for : CFBK\n",
      "[*********************100%***********************]  1 of 1 completed\n",
      "Get Data for : CFFI\n",
      "[*********************100%***********************]  1 of 1 completed\n",
      "Get Data for : CFFN\n",
      "[*********************100%***********************]  1 of 1 completed\n",
      "Get Data for : CFG\n",
      "[*********************100%***********************]  1 of 1 completed\n",
      "Get Data for : CFMS\n",
      "[*********************100%***********************]  1 of 1 completed\n",
      "Get Data for : CFR\n",
      "[*********************100%***********************]  1 of 1 completed\n",
      "Get Data for : CFX\n",
      "[*********************100%***********************]  1 of 1 completed"
     ]
    },
    {
     "name": "stderr",
     "output_type": "stream",
     "text": [
      "\n",
      "1 Failed download:\n",
      "['CFX']: Exception('%ticker%: No timezone found, symbol may be delisted')\n"
     ]
    },
    {
     "name": "stdout",
     "output_type": "stream",
     "text": [
      "\n",
      "Get Data for : CGIX\n",
      "[*********************100%***********************]  1 of 1 completed"
     ]
    },
    {
     "name": "stderr",
     "output_type": "stream",
     "text": [
      "\n",
      "1 Failed download:\n",
      "['CGIX']: Exception('%ticker%: No timezone found, symbol may be delisted')\n"
     ]
    },
    {
     "name": "stdout",
     "output_type": "stream",
     "text": [
      "\n",
      "Get Data for : CGNX\n",
      "[*********************100%***********************]  1 of 1 completed\n",
      "Get Data for : CHAP\n",
      "[*********************100%***********************]  1 of 1 completed"
     ]
    },
    {
     "name": "stderr",
     "output_type": "stream",
     "text": [
      "\n",
      "1 Failed download:\n",
      "['CHAP']: Exception('%ticker%: No timezone found, symbol may be delisted')\n"
     ]
    },
    {
     "name": "stdout",
     "output_type": "stream",
     "text": [
      "\n",
      "Get Data for : CHCI\n",
      "[*********************100%***********************]  1 of 1 completed\n",
      "Get Data for : CHCO\n",
      "[*********************100%***********************]  1 of 1 completed\n",
      "Get Data for : CHCT\n",
      "[*********************100%***********************]  1 of 1 completed\n",
      "Get Data for : CHD\n",
      "[*********************100%***********************]  1 of 1 completed\n",
      "Get Data for : CHDN\n",
      "[*********************100%***********************]  1 of 1 completed\n",
      "Get Data for : CHE\n",
      "[*********************100%***********************]  1 of 1 completed\n",
      "Get Data for : CHEF\n",
      "[*********************100%***********************]  1 of 1 completed\n",
      "Get Data for : CHGG\n",
      "[*********************100%***********************]  1 of 1 completed\n",
      "Get Data for : CHH\n",
      "[*********************100%***********************]  1 of 1 completed\n",
      "Get Data for : CHK\n",
      "[*********************100%***********************]  1 of 1 completed\n",
      "Get Data for : CHMA\n",
      "[*********************100%***********************]  1 of 1 completed"
     ]
    },
    {
     "name": "stderr",
     "output_type": "stream",
     "text": [
      "\n",
      "1 Failed download:\n",
      "['CHMA']: Exception('%ticker%: No timezone found, symbol may be delisted')\n"
     ]
    },
    {
     "name": "stdout",
     "output_type": "stream",
     "text": [
      "\n",
      "Get Data for : CHMG\n",
      "[*********************100%***********************]  1 of 1 completed\n",
      "Get Data for : CHMI\n",
      "[*********************100%***********************]  1 of 1 completed\n",
      "Get Data for : CHRS\n",
      "[*********************100%***********************]  1 of 1 completed\n",
      "Get Data for : CHRW\n",
      "[*********************100%***********************]  1 of 1 completed\n",
      "Get Data for : CHS\n",
      "[*********************100%***********************]  1 of 1 completed\n",
      "Get Data for : CHTR\n",
      "[*********************100%***********************]  1 of 1 completed\n",
      "Get Data for : CHUY\n",
      "[*********************100%***********************]  1 of 1 completed\n",
      "Get Data for : CI\n",
      "[*********************100%***********************]  1 of 1 completed\n",
      "Get Data for : CIA\n",
      "[*********************100%***********************]  1 of 1 completed\n",
      "Get Data for : CIDM\n",
      "[*********************100%***********************]  1 of 1 completed\n",
      "Get Data for : CIEN\n",
      "[*********************100%***********************]  1 of 1 completed\n",
      "Get Data for : CIM\n",
      "[*********************100%***********************]  1 of 1 completed\n",
      "Get Data for : CINF\n",
      "[*********************100%***********************]  1 of 1 completed\n",
      "Get Data for : CIO\n",
      "[*********************100%***********************]  1 of 1 completed\n",
      "Get Data for : CIR\n",
      "[*********************100%***********************]  1 of 1 completed\n",
      "Get Data for : CIT\n",
      "[*********************100%***********************]  1 of 1 completed"
     ]
    },
    {
     "name": "stderr",
     "output_type": "stream",
     "text": [
      "\n",
      "1 Failed download:\n",
      "['CIT']: Exception('%ticker%: No timezone found, symbol may be delisted')\n"
     ]
    },
    {
     "name": "stdout",
     "output_type": "stream",
     "text": [
      "\n",
      "Get Data for : CIVB\n",
      "[*********************100%***********************]  1 of 1 completed\n",
      "Get Data for : CIX\n",
      "[*********************100%***********************]  1 of 1 completed\n",
      "Get Data for : CIZN\n",
      "[*********************100%***********************]  1 of 1 completed\n",
      "Get Data for : CKH\n",
      "[*********************100%***********************]  1 of 1 completed"
     ]
    },
    {
     "name": "stderr",
     "output_type": "stream",
     "text": [
      "\n",
      "1 Failed download:\n",
      "['CKH']: Exception('%ticker%: No timezone found, symbol may be delisted')\n"
     ]
    },
    {
     "name": "stdout",
     "output_type": "stream",
     "text": [
      "\n",
      "Get Data for : CKX\n",
      "[*********************100%***********************]  1 of 1 completed\n",
      "Get Data for : CL\n",
      "[*********************100%***********************]  1 of 1 completed\n",
      "Get Data for : CLAR\n",
      "[*********************100%***********************]  1 of 1 completed\n",
      "Get Data for : CLB\n",
      "[*********************100%***********************]  1 of 1 completed\n",
      "Get Data for : CLBS\n",
      "[*********************100%***********************]  1 of 1 completed"
     ]
    },
    {
     "name": "stderr",
     "output_type": "stream",
     "text": [
      "\n",
      "1 Failed download:\n",
      "['CLBS']: Exception('%ticker%: No timezone found, symbol may be delisted')\n"
     ]
    },
    {
     "name": "stdout",
     "output_type": "stream",
     "text": [
      "\n",
      "Get Data for : CLCT\n",
      "[*********************100%***********************]  1 of 1 completed"
     ]
    },
    {
     "name": "stderr",
     "output_type": "stream",
     "text": [
      "\n",
      "1 Failed download:\n",
      "['CLCT']: Exception('%ticker%: No timezone found, symbol may be delisted')\n"
     ]
    },
    {
     "name": "stdout",
     "output_type": "stream",
     "text": [
      "\n",
      "Get Data for : CLDR\n",
      "[*********************100%***********************]  1 of 1 completed"
     ]
    },
    {
     "name": "stderr",
     "output_type": "stream",
     "text": [
      "\n",
      "1 Failed download:\n",
      "['CLDR']: Exception('%ticker%: No timezone found, symbol may be delisted')\n"
     ]
    },
    {
     "name": "stdout",
     "output_type": "stream",
     "text": [
      "\n",
      "Get Data for : CLDT\n",
      "[*********************100%***********************]  1 of 1 completed\n",
      "Get Data for : CLDX\n",
      "[*********************100%***********************]  1 of 1 completed\n",
      "Get Data for : CLF\n",
      "[*********************100%***********************]  1 of 1 completed\n",
      "Get Data for : CLFD\n",
      "[*********************100%***********************]  1 of 1 completed\n",
      "Get Data for : CLGX\n",
      "[*********************100%***********************]  1 of 1 completed"
     ]
    },
    {
     "name": "stderr",
     "output_type": "stream",
     "text": [
      "\n",
      "1 Failed download:\n",
      "['CLGX']: Exception('%ticker%: No timezone found, symbol may be delisted')\n"
     ]
    },
    {
     "name": "stdout",
     "output_type": "stream",
     "text": [
      "\n",
      "Get Data for : CLH\n",
      "[*********************100%***********************]  1 of 1 completed\n",
      "Get Data for : CLI\n",
      "[*********************100%***********************]  1 of 1 completed"
     ]
    },
    {
     "name": "stderr",
     "output_type": "stream",
     "text": [
      "\n",
      "1 Failed download:\n",
      "['CLI']: Exception('%ticker%: No timezone found, symbol may be delisted')\n"
     ]
    },
    {
     "name": "stdout",
     "output_type": "stream",
     "text": [
      "\n",
      "Get Data for : CLIR\n",
      "[*********************100%***********************]  1 of 1 completed\n",
      "Get Data for : CLNC\n",
      "[*********************100%***********************]  1 of 1 completed"
     ]
    },
    {
     "name": "stderr",
     "output_type": "stream",
     "text": [
      "\n",
      "1 Failed download:\n",
      "['CLNC']: Exception('%ticker%: No timezone found, symbol may be delisted')\n"
     ]
    },
    {
     "name": "stdout",
     "output_type": "stream",
     "text": [
      "\n",
      "Get Data for : CLNE\n",
      "[*********************100%***********************]  1 of 1 completed\n",
      "Get Data for : CLNY\n",
      "[*********************100%***********************]  1 of 1 completed"
     ]
    },
    {
     "name": "stderr",
     "output_type": "stream",
     "text": [
      "\n",
      "1 Failed download:\n",
      "['CLNY']: Exception('%ticker%: No timezone found, symbol may be delisted')\n"
     ]
    },
    {
     "name": "stdout",
     "output_type": "stream",
     "text": [
      "\n",
      "Get Data for : CLPR\n",
      "[*********************100%***********************]  1 of 1 completed\n",
      "Get Data for : CLR\n",
      "[*********************100%***********************]  1 of 1 completed"
     ]
    },
    {
     "name": "stderr",
     "output_type": "stream",
     "text": [
      "\n",
      "1 Failed download:\n",
      "['CLR']: Exception('%ticker%: No timezone found, symbol may be delisted')\n"
     ]
    },
    {
     "name": "stdout",
     "output_type": "stream",
     "text": [
      "\n",
      "Get Data for : CLRB\n",
      "[*********************100%***********************]  1 of 1 completed\n",
      "Get Data for : CLRO\n",
      "[*********************100%***********************]  1 of 1 completed\n",
      "Get Data for : CLSN\n",
      "[*********************100%***********************]  1 of 1 completed\n"
     ]
    },
    {
     "name": "stderr",
     "output_type": "stream",
     "text": [
      "\n",
      "1 Failed download:\n",
      "['CLSN']: Exception('%ticker%: No timezone found, symbol may be delisted')\n"
     ]
    },
    {
     "name": "stdout",
     "output_type": "stream",
     "text": [
      "Get Data for : CLUB\n",
      "[*********************100%***********************]  1 of 1 completed"
     ]
    },
    {
     "name": "stderr",
     "output_type": "stream",
     "text": [
      "\n",
      "1 Failed download:\n",
      "['CLUB']: Exception('%ticker%: No timezone found, symbol may be delisted')\n"
     ]
    },
    {
     "name": "stdout",
     "output_type": "stream",
     "text": [
      "\n",
      "Get Data for : CLVS\n",
      "[*********************100%***********************]  1 of 1 completed\n"
     ]
    },
    {
     "name": "stderr",
     "output_type": "stream",
     "text": [
      "\n",
      "1 Failed download:\n",
      "['CLVS']: Exception('%ticker%: No timezone found, symbol may be delisted')\n"
     ]
    },
    {
     "name": "stdout",
     "output_type": "stream",
     "text": [
      "Get Data for : CLW\n",
      "[*********************100%***********************]  1 of 1 completed\n",
      "Get Data for : CLX\n",
      "[*********************100%***********************]  1 of 1 completed\n",
      "Get Data for : CLXT\n",
      "[*********************100%***********************]  1 of 1 completed\n",
      "Get Data for : CMA\n",
      "[*********************100%***********************]  1 of 1 completed\n",
      "Get Data for : CMC\n",
      "[*********************100%***********************]  1 of 1 completed\n",
      "Get Data for : CMCO\n",
      "[*********************100%***********************]  1 of 1 completed\n",
      "Get Data for : CMCSA\n",
      "[*********************100%***********************]  1 of 1 completed\n",
      "Get Data for : CMCT\n",
      "[*********************100%***********************]  1 of 1 completed\n",
      "Get Data for : CMD\n",
      "[*********************100%***********************]  1 of 1 completed"
     ]
    },
    {
     "name": "stderr",
     "output_type": "stream",
     "text": [
      "\n",
      "1 Failed download:\n",
      "['CMD']: Exception('%ticker%: No timezone found, symbol may be delisted')\n"
     ]
    },
    {
     "name": "stdout",
     "output_type": "stream",
     "text": [
      "\n",
      "Get Data for : CME\n",
      "[*********************100%***********************]  1 of 1 completed\n",
      "Get Data for : CMG\n",
      "[*********************100%***********************]  1 of 1 completed\n",
      "Get Data for : CMI\n",
      "[*********************100%***********************]  1 of 1 completed\n",
      "Get Data for : CMO\n",
      "[*********************100%***********************]  1 of 1 completed"
     ]
    },
    {
     "name": "stderr",
     "output_type": "stream",
     "text": [
      "\n",
      "1 Failed download:\n",
      "['CMO']: Exception('%ticker%: No timezone found, symbol may be delisted')\n"
     ]
    },
    {
     "name": "stdout",
     "output_type": "stream",
     "text": [
      "\n",
      "Get Data for : CMP\n",
      "[*********************100%***********************]  1 of 1 completed\n",
      "Get Data for : CMRX\n",
      "[*********************100%***********************]  1 of 1 completed\n",
      "Get Data for : CMS\n",
      "[*********************100%***********************]  1 of 1 completed\n",
      "Get Data for : CMT\n",
      "[*********************100%***********************]  1 of 1 completed\n",
      "Get Data for : CMTL\n",
      "[*********************100%***********************]  1 of 1 completed\n",
      "Get Data for : CNA\n",
      "[*********************100%***********************]  1 of 1 completed\n",
      "Get Data for : CNBKA\n",
      "[*********************100%***********************]  1 of 1 completed"
     ]
    },
    {
     "name": "stderr",
     "output_type": "stream",
     "text": [
      "\n",
      "1 Failed download:\n",
      "['CNBKA']: Exception('%ticker%: No timezone found, symbol may be delisted')\n"
     ]
    },
    {
     "name": "stdout",
     "output_type": "stream",
     "text": [
      "\n",
      "Get Data for : CNC\n",
      "[*********************100%***********************]  1 of 1 completed\n",
      "Get Data for : CNCE\n",
      "[*********************100%***********************]  1 of 1 completed"
     ]
    },
    {
     "name": "stderr",
     "output_type": "stream",
     "text": [
      "\n",
      "1 Failed download:\n",
      "['CNCE']: Exception('%ticker%: No timezone found, symbol may be delisted')\n"
     ]
    },
    {
     "name": "stdout",
     "output_type": "stream",
     "text": [
      "\n",
      "Get Data for : CNDT\n",
      "[*********************100%***********************]  1 of 1 completed\n",
      "Get Data for : CNFR\n",
      "[*********************100%***********************]  1 of 1 completed\n",
      "Get Data for : CNK\n",
      "[*********************100%***********************]  1 of 1 completed\n",
      "Get Data for : CNMD\n",
      "[*********************100%***********************]  1 of 1 completed\n",
      "Get Data for : CNNE\n",
      "[*********************100%***********************]  1 of 1 completed\n",
      "Get Data for : CNO\n",
      "[*********************100%***********************]  1 of 1 completed\n",
      "Get Data for : CNOB\n",
      "[*********************100%***********************]  1 of 1 completed\n",
      "Get Data for : CNP\n",
      "[*********************100%***********************]  1 of 1 completed\n",
      "Get Data for : CNS\n",
      "[*********************100%***********************]  1 of 1 completed\n",
      "Get Data for : CNSL\n",
      "[*********************100%***********************]  1 of 1 completed\n",
      "Get Data for : CNTY\n",
      "[*********************100%***********************]  1 of 1 completed\n",
      "Get Data for : CNX\n",
      "[*********************100%***********************]  1 of 1 completed\n",
      "Get Data for : CNXN\n",
      "[*********************100%***********************]  1 of 1 completed\n",
      "Get Data for : CODA\n",
      "[*********************100%***********************]  1 of 1 completed\n",
      "Get Data for : COF\n",
      "[*********************100%***********************]  1 of 1 completed\n",
      "Get Data for : COG\n",
      "[*********************100%***********************]  1 of 1 completed"
     ]
    },
    {
     "name": "stderr",
     "output_type": "stream",
     "text": [
      "\n",
      "1 Failed download:\n",
      "['COG']: Exception('%ticker%: No timezone found, symbol may be delisted')\n"
     ]
    },
    {
     "name": "stdout",
     "output_type": "stream",
     "text": [
      "\n",
      "Get Data for : COHN\n",
      "[*********************100%***********************]  1 of 1 completed\n",
      "Get Data for : COHR\n",
      "[*********************100%***********************]  1 of 1 completed\n",
      "Get Data for : COHU\n",
      "[*********************100%***********************]  1 of 1 completed\n",
      "Get Data for : COKE\n",
      "[*********************100%***********************]  1 of 1 completed\n",
      "Get Data for : COLB\n",
      "[*********************100%***********************]  1 of 1 completed\n",
      "Get Data for : COLD\n",
      "[*********************100%***********************]  1 of 1 completed\n",
      "Get Data for : COLL\n",
      "[*********************100%***********************]  1 of 1 completed\n",
      "Get Data for : COLM\n",
      "[*********************100%***********************]  1 of 1 completed\n",
      "Get Data for : COMM\n",
      "[*********************100%***********************]  1 of 1 completed\n",
      "Get Data for : CONE\n",
      "[*********************100%***********************]  1 of 1 completed"
     ]
    },
    {
     "name": "stderr",
     "output_type": "stream",
     "text": [
      "\n",
      "1 Failed download:\n",
      "['CONE']: Exception('%ticker%: No timezone found, symbol may be delisted')\n"
     ]
    },
    {
     "name": "stdout",
     "output_type": "stream",
     "text": [
      "\n",
      "Get Data for : CONN\n",
      "[*********************100%***********************]  1 of 1 completed\n",
      "Get Data for : COO\n",
      "[*********************100%***********************]  1 of 1 completed\n",
      "Get Data for : COOP\n",
      "[*********************100%***********************]  1 of 1 completed\n",
      "Get Data for : COP\n",
      "[*********************100%***********************]  1 of 1 completed\n",
      "Get Data for : COR\n",
      "[*********************100%***********************]  1 of 1 completed"
     ]
    },
    {
     "name": "stderr",
     "output_type": "stream",
     "text": [
      "\n",
      "1 Failed download:\n",
      "['COR']: Exception('%ticker%: No timezone found, symbol may be delisted')\n"
     ]
    },
    {
     "name": "stdout",
     "output_type": "stream",
     "text": [
      "\n",
      "Get Data for : CORE\n",
      "[*********************100%***********************]  1 of 1 completed"
     ]
    },
    {
     "name": "stderr",
     "output_type": "stream",
     "text": [
      "\n",
      "1 Failed download:\n",
      "['CORE']: Exception('%ticker%: No timezone found, symbol may be delisted')\n"
     ]
    },
    {
     "name": "stdout",
     "output_type": "stream",
     "text": [
      "\n",
      "Get Data for : CORR\n",
      "[*********************100%***********************]  1 of 1 completed\n",
      "Get Data for : CORT\n",
      "[*********************100%***********************]  1 of 1 completed\n",
      "Get Data for : COST\n",
      "[*********************100%***********************]  1 of 1 completed\n",
      "Get Data for : COTY\n",
      "[*********************100%***********************]  1 of 1 completed\n",
      "Get Data for : COUP\n",
      "[*********************100%***********************]  1 of 1 completed"
     ]
    },
    {
     "name": "stderr",
     "output_type": "stream",
     "text": [
      "\n",
      "1 Failed download:\n",
      "['COUP']: Exception('%ticker%: No timezone found, symbol may be delisted')\n"
     ]
    },
    {
     "name": "stdout",
     "output_type": "stream",
     "text": [
      "\n",
      "Get Data for : COWN\n",
      "[*********************100%***********************]  1 of 1 completed"
     ]
    },
    {
     "name": "stderr",
     "output_type": "stream",
     "text": [
      "\n",
      "1 Failed download:\n",
      "['COWN']: Exception('%ticker%: No timezone found, symbol may be delisted')\n"
     ]
    },
    {
     "name": "stdout",
     "output_type": "stream",
     "text": [
      "\n",
      "Get Data for : CPB\n",
      "[*********************100%***********************]  1 of 1 completed\n",
      "Get Data for : CPE\n",
      "[*********************100%***********************]  1 of 1 completed\n",
      "Get Data for : CPF\n",
      "[*********************100%***********************]  1 of 1 completed\n",
      "Get Data for : CPHC\n",
      "[*********************100%***********************]  1 of 1 completed\n",
      "Get Data for : CPIX\n",
      "[*********************100%***********************]  1 of 1 completed\n",
      "Get Data for : CPK\n",
      "[*********************100%***********************]  1 of 1 completed\n",
      "Get Data for : CPLG\n",
      "[*********************100%***********************]  1 of 1 completed"
     ]
    },
    {
     "name": "stderr",
     "output_type": "stream",
     "text": [
      "\n",
      "1 Failed download:\n",
      "['CPLG']: Exception('%ticker%: No timezone found, symbol may be delisted')\n"
     ]
    },
    {
     "name": "stdout",
     "output_type": "stream",
     "text": [
      "\n",
      "Get Data for : CPRI\n",
      "[*********************100%***********************]  1 of 1 completed\n",
      "Get Data for : CPRT\n",
      "[*********************100%***********************]  1 of 1 completed\n",
      "Get Data for : CPRX\n",
      "[*********************100%***********************]  1 of 1 completed\n",
      "Get Data for : CPS\n",
      "[*********************100%***********************]  1 of 1 completed\n",
      "Get Data for : CPSH\n",
      "[*********************100%***********************]  1 of 1 completed\n",
      "Get Data for : CPSI\n",
      "[*********************100%***********************]  1 of 1 completed\n",
      "Get Data for : CPSS\n",
      "[*********************100%***********************]  1 of 1 completed\n",
      "Get Data for : CPST\n",
      "[*********************100%***********************]  1 of 1 completed"
     ]
    },
    {
     "name": "stderr",
     "output_type": "stream",
     "text": [
      "\n",
      "1 Failed download:\n",
      "['CPST']: Exception('%ticker%: No timezone found, symbol may be delisted')\n"
     ]
    },
    {
     "name": "stdout",
     "output_type": "stream",
     "text": [
      "\n",
      "Get Data for : CPT\n",
      "[*********************100%***********************]  1 of 1 completed\n",
      "Get Data for : CR\n",
      "[*********************100%***********************]  1 of 1 completed"
     ]
    },
    {
     "name": "stderr",
     "output_type": "stream",
     "text": [
      "\n",
      "1 Failed download:\n",
      "['CR']: Exception(\"%ticker%: Data doesn't exist for startDate = 1483246800, endDate = 1629345600\")\n"
     ]
    },
    {
     "name": "stdout",
     "output_type": "stream",
     "text": [
      "\n",
      "Get Data for : CRAI\n",
      "[*********************100%***********************]  1 of 1 completed\n",
      "Get Data for : CRBP\n",
      "[*********************100%***********************]  1 of 1 completed\n",
      "Get Data for : CRC\n",
      "[*********************100%***********************]  1 of 1 completed\n",
      "Get Data for : CREE\n",
      "[*********************100%***********************]  1 of 1 completed"
     ]
    },
    {
     "name": "stderr",
     "output_type": "stream",
     "text": [
      "\n",
      "1 Failed download:\n",
      "['CREE']: Exception('%ticker%: No timezone found, symbol may be delisted')\n"
     ]
    },
    {
     "name": "stdout",
     "output_type": "stream",
     "text": [
      "\n",
      "Get Data for : CRI\n",
      "[*********************100%***********************]  1 of 1 completed\n",
      "Get Data for : CRIS\n",
      "[*********************100%***********************]  1 of 1 completed\n",
      "Get Data for : CRK\n",
      "[*********************100%***********************]  1 of 1 completed\n",
      "Get Data for : CRL\n",
      "[*********************100%***********************]  1 of 1 completed\n",
      "Get Data for : CRM\n",
      "[*********************100%***********************]  1 of 1 completed\n",
      "Get Data for : CRMD\n",
      "[*********************100%***********************]  1 of 1 completed\n",
      "Get Data for : CRMT\n",
      "[*********************100%***********************]  1 of 1 completed\n",
      "Get Data for : CRNX\n",
      "[*********************100%***********************]  1 of 1 completed\n",
      "Get Data for : CROX\n",
      "[*********************100%***********************]  1 of 1 completed\n",
      "Get Data for : CRS\n",
      "[*********************100%***********************]  1 of 1 completed\n",
      "Get Data for : CRTX\n",
      "[*********************100%***********************]  1 of 1 completed"
     ]
    },
    {
     "name": "stderr",
     "output_type": "stream",
     "text": [
      "\n",
      "1 Failed download:\n",
      "['CRTX']: Exception('%ticker%: No timezone found, symbol may be delisted')\n"
     ]
    },
    {
     "name": "stdout",
     "output_type": "stream",
     "text": [
      "\n",
      "Get Data for : CRUS\n",
      "[*********************100%***********************]  1 of 1 completed\n",
      "Get Data for : CRVL\n",
      "[*********************100%***********************]  1 of 1 completed\n",
      "Get Data for : CRVS\n",
      "[*********************100%***********************]  1 of 1 completed\n",
      "Get Data for : CRWS\n",
      "[*********************100%***********************]  1 of 1 completed\n",
      "Get Data for : CRY\n",
      "[*********************100%***********************]  1 of 1 completed"
     ]
    },
    {
     "name": "stderr",
     "output_type": "stream",
     "text": [
      "\n",
      "1 Failed download:\n",
      "['CRY']: Exception('%ticker%: No timezone found, symbol may be delisted')\n"
     ]
    },
    {
     "name": "stdout",
     "output_type": "stream",
     "text": [
      "\n",
      "Get Data for : CSCO\n",
      "[*********************100%***********************]  1 of 1 completed\n",
      "Get Data for : CSGP\n",
      "[*********************100%***********************]  1 of 1 completed\n",
      "Get Data for : CSGS\n",
      "[*********************100%***********************]  1 of 1 completed\n",
      "Get Data for : CSII\n",
      "[*********************100%***********************]  1 of 1 completed"
     ]
    },
    {
     "name": "stderr",
     "output_type": "stream",
     "text": [
      "\n",
      "1 Failed download:\n",
      "['CSII']: Exception('%ticker%: No timezone found, symbol may be delisted')\n"
     ]
    },
    {
     "name": "stdout",
     "output_type": "stream",
     "text": [
      "\n",
      "Get Data for : CSL\n",
      "[*********************100%***********************]  1 of 1 completed\n",
      "Get Data for : CSLT\n",
      "[*********************100%***********************]  1 of 1 completed"
     ]
    },
    {
     "name": "stderr",
     "output_type": "stream",
     "text": [
      "\n",
      "1 Failed download:\n",
      "['CSLT']: Exception('%ticker%: No timezone found, symbol may be delisted')\n"
     ]
    },
    {
     "name": "stdout",
     "output_type": "stream",
     "text": [
      "\n",
      "Get Data for : CSOD\n",
      "[*********************100%***********************]  1 of 1 completed"
     ]
    },
    {
     "name": "stderr",
     "output_type": "stream",
     "text": [
      "\n",
      "1 Failed download:\n",
      "['CSOD']: Exception('%ticker%: No timezone found, symbol may be delisted')\n"
     ]
    },
    {
     "name": "stdout",
     "output_type": "stream",
     "text": [
      "\n",
      "Get Data for : CSPI\n",
      "[*********************100%***********************]  1 of 1 completed\n",
      "Get Data for : CSTR\n",
      "[*********************100%***********************]  1 of 1 completed\n",
      "Get Data for : CSU\n",
      "[*********************100%***********************]  1 of 1 completed"
     ]
    },
    {
     "name": "stderr",
     "output_type": "stream",
     "text": [
      "\n",
      "1 Failed download:\n",
      "['CSU']: Exception('%ticker%: No timezone found, symbol may be delisted')\n"
     ]
    },
    {
     "name": "stdout",
     "output_type": "stream",
     "text": [
      "\n",
      "Get Data for : CSV\n",
      "[*********************100%***********************]  1 of 1 completed\n",
      "Get Data for : CSWI\n",
      "[*********************100%***********************]  1 of 1 completed\n",
      "Get Data for : CSX\n",
      "[*********************100%***********************]  1 of 1 completed\n",
      "Get Data for : CTAS\n",
      "[*********************100%***********************]  1 of 1 completed\n",
      "Get Data for : CTB\n",
      "[*********************100%***********************]  1 of 1 completed"
     ]
    },
    {
     "name": "stderr",
     "output_type": "stream",
     "text": [
      "\n",
      "1 Failed download:\n",
      "['CTB']: Exception('%ticker%: No timezone found, symbol may be delisted')\n"
     ]
    },
    {
     "name": "stdout",
     "output_type": "stream",
     "text": [
      "\n",
      "Get Data for : CTBI\n",
      "[*********************100%***********************]  1 of 1 completed\n",
      "Get Data for : CTG\n",
      "[*********************100%***********************]  1 of 1 completed\n",
      "Get Data for : CTHR\n",
      "[*********************100%***********************]  1 of 1 completed\n",
      "Get Data for : CTIB\n",
      "[*********************100%***********************]  1 of 1 completed\n",
      "Get Data for : CTIC\n",
      "[*********************100%***********************]  1 of 1 completed\n",
      "Get Data for : CTL\n",
      "[*********************100%***********************]  1 of 1 completed"
     ]
    },
    {
     "name": "stderr",
     "output_type": "stream",
     "text": [
      "\n",
      "1 Failed download:\n",
      "['CTL']: Exception('%ticker%: No timezone found, symbol may be delisted')\n"
     ]
    },
    {
     "name": "stdout",
     "output_type": "stream",
     "text": [
      "\n",
      "Get Data for : CTLT\n",
      "[*********************100%***********************]  1 of 1 completed\n",
      "Get Data for : CTMX\n",
      "[*********************100%***********************]  1 of 1 completed\n",
      "Get Data for : CTO\n",
      "[*********************100%***********************]  1 of 1 completed\n",
      "Get Data for : CTRE\n",
      "[*********************100%***********************]  1 of 1 completed\n",
      "Get Data for : CTRN\n",
      "[*********************100%***********************]  1 of 1 completed\n",
      "Get Data for : CTS\n",
      "[*********************100%***********************]  1 of 1 completed\n",
      "Get Data for : CTSH\n",
      "[*********************100%***********************]  1 of 1 completed\n",
      "Get Data for : CTSO\n",
      "[*********************100%***********************]  1 of 1 completed\n",
      "Get Data for : CTT\n",
      "[*********************100%***********************]  1 of 1 completed"
     ]
    },
    {
     "name": "stderr",
     "output_type": "stream",
     "text": [
      "\n",
      "1 Failed download:\n",
      "['CTT']: Exception('%ticker%: No timezone found, symbol may be delisted')\n"
     ]
    },
    {
     "name": "stdout",
     "output_type": "stream",
     "text": [
      "\n",
      "Get Data for : CTXS\n",
      "[*********************100%***********************]  1 of 1 completed"
     ]
    },
    {
     "name": "stderr",
     "output_type": "stream",
     "text": [
      "\n",
      "1 Failed download:\n",
      "['CTXS']: Exception('%ticker%: No timezone found, symbol may be delisted')\n"
     ]
    },
    {
     "name": "stdout",
     "output_type": "stream",
     "text": [
      "\n",
      "Get Data for : CUB\n",
      "[*********************100%***********************]  1 of 1 completed"
     ]
    },
    {
     "name": "stderr",
     "output_type": "stream",
     "text": [
      "\n",
      "1 Failed download:\n",
      "['CUB']: Exception('%ticker%: No timezone found, symbol may be delisted')\n"
     ]
    },
    {
     "name": "stdout",
     "output_type": "stream",
     "text": [
      "\n",
      "Get Data for : CUBE\n",
      "[*********************100%***********************]  1 of 1 completed\n",
      "Get Data for : CUBI\n",
      "[*********************100%***********************]  1 of 1 completed\n",
      "Get Data for : CUE\n",
      "[*********************100%***********************]  1 of 1 completed\n",
      "Get Data for : CULP\n",
      "[*********************100%***********************]  1 of 1 completed\n",
      "Get Data for : CURO\n",
      "[*********************100%***********************]  1 of 1 completed\n",
      "Get Data for : CUTR\n",
      "[*********************100%***********************]  1 of 1 completed\n",
      "Get Data for : CUZ\n",
      "[*********************100%***********************]  1 of 1 completed\n",
      "Get Data for : CVA\n",
      "[*********************100%***********************]  1 of 1 completed"
     ]
    },
    {
     "name": "stderr",
     "output_type": "stream",
     "text": [
      "\n",
      "1 Failed download:\n",
      "['CVA']: Exception('%ticker%: No timezone found, symbol may be delisted')\n"
     ]
    },
    {
     "name": "stdout",
     "output_type": "stream",
     "text": [
      "\n",
      "Get Data for : CVBF\n",
      "[*********************100%***********************]  1 of 1 completed\n",
      "Get Data for : CVCO\n",
      "[*********************100%***********************]  1 of 1 completed\n",
      "Get Data for : CVCY\n",
      "[*********************100%***********************]  1 of 1 completed\n",
      "Get Data for : CVGI\n",
      "[*********************100%***********************]  1 of 1 completed\n",
      "Get Data for : CVGW\n",
      "[*********************100%***********************]  1 of 1 completed\n",
      "Get Data for : CVI\n",
      "[*********************100%***********************]  1 of 1 completed\n",
      "Get Data for : CVIA\n",
      "[*********************100%***********************]  1 of 1 completed"
     ]
    },
    {
     "name": "stderr",
     "output_type": "stream",
     "text": [
      "\n",
      "1 Failed download:\n",
      "['CVIA']: Exception('%ticker%: No timezone found, symbol may be delisted')\n"
     ]
    },
    {
     "name": "stdout",
     "output_type": "stream",
     "text": [
      "\n",
      "Get Data for : CVLT\n",
      "[*********************100%***********************]  1 of 1 completed\n",
      "Get Data for : CVLY\n",
      "[*********************100%***********************]  1 of 1 completed\n",
      "Get Data for : CVM\n",
      "[*********************100%***********************]  1 of 1 completed\n",
      "Get Data for : CVNA\n",
      "[*********************100%***********************]  1 of 1 completed\n",
      "Get Data for : CVR\n",
      "[*********************100%***********************]  1 of 1 completed\n",
      "Get Data for : CVS\n",
      "[*********************100%***********************]  1 of 1 completed\n",
      "Get Data for : CVTI\n",
      "[*********************100%***********************]  1 of 1 completed"
     ]
    },
    {
     "name": "stderr",
     "output_type": "stream",
     "text": [
      "\n",
      "1 Failed download:\n",
      "['CVTI']: Exception('%ticker%: No timezone found, symbol may be delisted')\n"
     ]
    },
    {
     "name": "stdout",
     "output_type": "stream",
     "text": [
      "\n",
      "Get Data for : CVU\n",
      "[*********************100%***********************]  1 of 1 completed\n",
      "Get Data for : CVV\n",
      "[*********************100%***********************]  1 of 1 completed\n",
      "Get Data for : CVX\n",
      "[*********************100%***********************]  1 of 1 completed\n",
      "Get Data for : CW\n",
      "[*********************100%***********************]  1 of 1 completed\n",
      "Get Data for : CWBC\n",
      "[*********************100%***********************]  1 of 1 completed\n",
      "Get Data for : CWBR\n",
      "[*********************100%***********************]  1 of 1 completed\n",
      "Get Data for : CWEN\n",
      "[*********************100%***********************]  1 of 1 completed\n",
      "Get Data for : CWH\n",
      "[*********************100%***********************]  1 of 1 completed\n",
      "Get Data for : CWST\n",
      "[*********************100%***********************]  1 of 1 completed\n",
      "Get Data for : CWT\n",
      "[*********************100%***********************]  1 of 1 completed\n",
      "Get Data for : CXO\n",
      "[*********************100%***********************]  1 of 1 completed"
     ]
    },
    {
     "name": "stderr",
     "output_type": "stream",
     "text": [
      "\n",
      "1 Failed download:\n",
      "['CXO']: Exception('%ticker%: No timezone found, symbol may be delisted')\n"
     ]
    },
    {
     "name": "stdout",
     "output_type": "stream",
     "text": [
      "\n",
      "Get Data for : CXP\n",
      "[*********************100%***********************]  1 of 1 completed"
     ]
    },
    {
     "name": "stderr",
     "output_type": "stream",
     "text": [
      "\n",
      "1 Failed download:\n",
      "['CXP']: Exception('%ticker%: No timezone found, symbol may be delisted')\n"
     ]
    },
    {
     "name": "stdout",
     "output_type": "stream",
     "text": [
      "\n",
      "Get Data for : CXW\n",
      "[*********************100%***********************]  1 of 1 completed\n",
      "Get Data for : CYAN\n",
      "[*********************100%***********************]  1 of 1 completed\n",
      "Get Data for : CYBE\n",
      "[*********************100%***********************]  1 of 1 completed"
     ]
    },
    {
     "name": "stderr",
     "output_type": "stream",
     "text": [
      "\n",
      "1 Failed download:\n",
      "['CYBE']: Exception('%ticker%: No timezone found, symbol may be delisted')\n"
     ]
    },
    {
     "name": "stdout",
     "output_type": "stream",
     "text": [
      "\n",
      "Get Data for : CYCC\n",
      "[*********************100%***********************]  1 of 1 completed\n",
      "Get Data for : CYH\n",
      "[*********************100%***********************]  1 of 1 completed\n",
      "Get Data for : CYRX\n",
      "[*********************100%***********************]  1 of 1 completed\n",
      "Get Data for : CYTK\n",
      "[*********************100%***********************]  1 of 1 completed\n",
      "Get Data for : CYTR\n",
      "[*********************100%***********************]  1 of 1 completed"
     ]
    },
    {
     "name": "stderr",
     "output_type": "stream",
     "text": [
      "\n",
      "1 Failed download:\n",
      "['CYTR']: Exception('%ticker%: No timezone found, symbol may be delisted')\n"
     ]
    },
    {
     "name": "stdout",
     "output_type": "stream",
     "text": [
      "\n",
      "Get Data for : CZNC\n",
      "[*********************100%***********************]  1 of 1 completed\n",
      "Get Data for : CZR\n",
      "[*********************100%***********************]  1 of 1 completed\n",
      "Get Data for : CZWI\n",
      "[*********************100%***********************]  1 of 1 completed\n",
      "Get Data for : D\n",
      "[*********************100%***********************]  1 of 1 completed\n",
      "Get Data for : DAIO\n",
      "[*********************100%***********************]  1 of 1 completed\n",
      "Get Data for : DAKT\n",
      "[*********************100%***********************]  1 of 1 completed\n",
      "Get Data for : DAL\n",
      "[*********************100%***********************]  1 of 1 completed\n",
      "Get Data for : DAN\n",
      "[*********************100%***********************]  1 of 1 completed\n",
      "Get Data for : DAR\n",
      "[*********************100%***********************]  1 of 1 completed\n",
      "Get Data for : DARE\n",
      "[*********************100%***********************]  1 of 1 completed\n",
      "Get Data for : DBD\n",
      "[*********************100%***********************]  1 of 1 completed\n",
      "Get Data for : DBI\n",
      "[*********************100%***********************]  1 of 1 completed\n",
      "Get Data for : DBX\n",
      "[*********************100%***********************]  1 of 1 completed\n",
      "Get Data for : DCI\n",
      "[*********************100%***********************]  1 of 1 completed\n",
      "Get Data for : DCO\n",
      "[*********************100%***********************]  1 of 1 completed\n",
      "Get Data for : DCOM\n",
      "[*********************100%***********************]  1 of 1 completed\n",
      "Get Data for : DCPH\n",
      "[*********************100%***********************]  1 of 1 completed\n",
      "Get Data for : DD\n",
      "[*********************100%***********************]  1 of 1 completed\n",
      "Get Data for : DDD\n",
      "[*********************100%***********************]  1 of 1 completed\n",
      "Get Data for : DDS\n",
      "[*********************100%***********************]  1 of 1 completed\n",
      "Get Data for : DE\n",
      "[*********************100%***********************]  1 of 1 completed\n",
      "Get Data for : DEA\n",
      "[*********************100%***********************]  1 of 1 completed\n",
      "Get Data for : DECK\n",
      "[*********************100%***********************]  1 of 1 completed\n",
      "Get Data for : DEI\n",
      "[*********************100%***********************]  1 of 1 completed\n",
      "Get Data for : DELL\n",
      "[*********************100%***********************]  1 of 1 completed\n",
      "Get Data for : DENN\n",
      "[*********************100%***********************]  1 of 1 completed\n",
      "Get Data for : DFIN\n",
      "[*********************100%***********************]  1 of 1 completed\n",
      "Get Data for : DFS\n",
      "[*********************100%***********************]  1 of 1 completed\n",
      "Get Data for : DG\n",
      "[*********************100%***********************]  1 of 1 completed\n",
      "Get Data for : DGICA\n",
      "[*********************100%***********************]  1 of 1 completed\n",
      "Get Data for : DGII\n",
      "[*********************100%***********************]  1 of 1 completed\n",
      "Get Data for : DGLY\n",
      "[*********************100%***********************]  1 of 1 completed\n",
      "Get Data for : DGX\n",
      "[*********************100%***********************]  1 of 1 completed\n",
      "Get Data for : DHI\n",
      "[*********************100%***********************]  1 of 1 completed\n",
      "Get Data for : DHIL\n",
      "[*********************100%***********************]  1 of 1 completed\n",
      "Get Data for : DHR\n",
      "[*********************100%***********************]  1 of 1 completed\n",
      "Get Data for : DHX\n",
      "[*********************100%***********************]  1 of 1 completed\n",
      "Get Data for : DIN\n",
      "[*********************100%***********************]  1 of 1 completed\n",
      "Get Data for : DIOD\n",
      "[*********************100%***********************]  1 of 1 completed\n",
      "Get Data for : DIS\n",
      "[*********************100%***********************]  1 of 1 completed\n",
      "Get Data for : DISCA\n",
      "[*********************100%***********************]  1 of 1 completed"
     ]
    },
    {
     "name": "stderr",
     "output_type": "stream",
     "text": [
      "\n",
      "1 Failed download:\n",
      "['DISCA']: Exception('%ticker%: No timezone found, symbol may be delisted')\n"
     ]
    },
    {
     "name": "stdout",
     "output_type": "stream",
     "text": [
      "\n",
      "Get Data for : DISCK\n",
      "[*********************100%***********************]  1 of 1 completed"
     ]
    },
    {
     "name": "stderr",
     "output_type": "stream",
     "text": [
      "\n",
      "1 Failed download:\n",
      "['DISCK']: Exception('%ticker%: No timezone found, symbol may be delisted')\n"
     ]
    },
    {
     "name": "stdout",
     "output_type": "stream",
     "text": [
      "\n",
      "Get Data for : DISH\n",
      "[*********************100%***********************]  1 of 1 completed\n",
      "Get Data for : DIT\n",
      "[*********************100%***********************]  1 of 1 completed\n",
      "Get Data for : DJCO\n",
      "[*********************100%***********************]  1 of 1 completed\n",
      "Get Data for : DK\n",
      "[*********************100%***********************]  1 of 1 completed\n",
      "Get Data for : DKS\n",
      "[*********************100%***********************]  1 of 1 completed\n",
      "Get Data for : DLA\n",
      "[*********************100%***********************]  1 of 1 completed\n",
      "Get Data for : DLB\n",
      "[*********************100%***********************]  1 of 1 completed\n",
      "Get Data for : DLHC\n",
      "[*********************100%***********************]  1 of 1 completed\n",
      "Get Data for : DLPH\n",
      "[*********************100%***********************]  1 of 1 completed"
     ]
    },
    {
     "name": "stderr",
     "output_type": "stream",
     "text": [
      "\n",
      "1 Failed download:\n",
      "['DLPH']: Exception('%ticker%: No timezone found, symbol may be delisted')\n"
     ]
    },
    {
     "name": "stdout",
     "output_type": "stream",
     "text": [
      "\n",
      "Get Data for : DLR\n",
      "[*********************100%***********************]  1 of 1 completed\n",
      "Get Data for : DLTH\n",
      "[*********************100%***********************]  1 of 1 completed\n",
      "Get Data for : DLTR\n",
      "[*********************100%***********************]  1 of 1 completed\n",
      "Get Data for : DLX\n",
      "[*********************100%***********************]  1 of 1 completed\n",
      "Get Data for : DMRC\n",
      "[*********************100%***********************]  1 of 1 completed\n",
      "Get Data for : DNKN\n",
      "[*********************100%***********************]  1 of 1 completed"
     ]
    },
    {
     "name": "stderr",
     "output_type": "stream",
     "text": [
      "\n",
      "1 Failed download:\n",
      "['DNKN']: Exception('%ticker%: No timezone found, symbol may be delisted')\n"
     ]
    },
    {
     "name": "stdout",
     "output_type": "stream",
     "text": [
      "\n",
      "Get Data for : DNLI\n",
      "[*********************100%***********************]  1 of 1 completed\n",
      "Get Data for : DNOW\n",
      "[*********************100%***********************]  1 of 1 completed\n",
      "Get Data for : DNR\n",
      "[*********************100%***********************]  1 of 1 completed"
     ]
    },
    {
     "name": "stderr",
     "output_type": "stream",
     "text": [
      "\n",
      "1 Failed download:\n",
      "['DNR']: Exception('%ticker%: No timezone found, symbol may be delisted')\n"
     ]
    },
    {
     "name": "stdout",
     "output_type": "stream",
     "text": [
      "\n",
      "Get Data for : DOC\n",
      "[*********************100%***********************]  1 of 1 completed\n",
      "Get Data for : DOCU\n",
      "[*********************100%***********************]  1 of 1 completed\n",
      "Get Data for : DOMO\n",
      "[*********************100%***********************]  1 of 1 completed\n",
      "Get Data for : DOOR\n",
      "[*********************100%***********************]  1 of 1 completed\n",
      "Get Data for : DORM\n",
      "[*********************100%***********************]  1 of 1 completed\n",
      "Get Data for : DOV\n",
      "[*********************100%***********************]  1 of 1 completed\n",
      "Get Data for : DOW\n",
      "[*********************100%***********************]  1 of 1 completed\n",
      "Get Data for : DPZ\n",
      "[*********************100%***********************]  1 of 1 completed\n",
      "Get Data for : DRAD\n",
      "[*********************100%***********************]  1 of 1 completed"
     ]
    },
    {
     "name": "stderr",
     "output_type": "stream",
     "text": [
      "\n",
      "1 Failed download:\n",
      "['DRAD']: Exception('%ticker%: No timezone found, symbol may be delisted')\n"
     ]
    },
    {
     "name": "stdout",
     "output_type": "stream",
     "text": [
      "\n",
      "Get Data for : DRE\n",
      "[*********************100%***********************]  1 of 1 completed"
     ]
    },
    {
     "name": "stderr",
     "output_type": "stream",
     "text": [
      "\n",
      "1 Failed download:\n",
      "['DRE']: Exception('%ticker%: No timezone found, symbol may be delisted')\n"
     ]
    },
    {
     "name": "stdout",
     "output_type": "stream",
     "text": [
      "\n",
      "Get Data for : DRH\n",
      "[*********************100%***********************]  1 of 1 completed\n",
      "Get Data for : DRI\n",
      "[*********************100%***********************]  1 of 1 completed\n",
      "Get Data for : DRNA\n",
      "[*********************100%***********************]  1 of 1 completed"
     ]
    },
    {
     "name": "stderr",
     "output_type": "stream",
     "text": [
      "\n",
      "1 Failed download:\n",
      "['DRNA']: Exception('%ticker%: No timezone found, symbol may be delisted')\n"
     ]
    },
    {
     "name": "stdout",
     "output_type": "stream",
     "text": [
      "\n",
      "Get Data for : DRQ\n",
      "[*********************100%***********************]  1 of 1 completed\n",
      "Get Data for : DRRX\n",
      "[*********************100%***********************]  1 of 1 completed\n",
      "Get Data for : DS\n",
      "[*********************100%***********************]  1 of 1 completed"
     ]
    },
    {
     "name": "stderr",
     "output_type": "stream",
     "text": [
      "\n",
      "1 Failed download:\n",
      "['DS']: Exception('%ticker%: No timezone found, symbol may be delisted')\n"
     ]
    },
    {
     "name": "stdout",
     "output_type": "stream",
     "text": [
      "\n",
      "Get Data for : DSKE\n",
      "[*********************100%***********************]  1 of 1 completed\n",
      "Get Data for : DSPG\n",
      "[*********************100%***********************]  1 of 1 completed"
     ]
    },
    {
     "name": "stderr",
     "output_type": "stream",
     "text": [
      "\n",
      "1 Failed download:\n",
      "['DSPG']: Exception('%ticker%: No timezone found, symbol may be delisted')\n"
     ]
    },
    {
     "name": "stdout",
     "output_type": "stream",
     "text": [
      "\n",
      "Get Data for : DSS\n",
      "[*********************100%***********************]  1 of 1 completed\n",
      "Get Data for : DTE\n",
      "[*********************100%***********************]  1 of 1 completed\n",
      "Get Data for : DUK\n",
      "[*********************100%***********************]  1 of 1 completed\n",
      "Get Data for : DVA\n",
      "[*********************100%***********************]  1 of 1 completed\n",
      "Get Data for : DVAX\n",
      "[*********************100%***********************]  1 of 1 completed\n",
      "Get Data for : DVD\n",
      "[*********************100%***********************]  1 of 1 completed"
     ]
    },
    {
     "name": "stderr",
     "output_type": "stream",
     "text": [
      "\n",
      "1 Failed download:\n",
      "['DVD']: Exception('%ticker%: No timezone found, symbol may be delisted')\n"
     ]
    },
    {
     "name": "stdout",
     "output_type": "stream",
     "text": [
      "\n",
      "Get Data for : DVN\n",
      "[*********************100%***********************]  1 of 1 completed\n",
      "Get Data for : DWSN\n",
      "[*********************100%***********************]  1 of 1 completed\n",
      "Get Data for : DX\n",
      "[*********************100%***********************]  1 of 1 completed\n",
      "Get Data for : DXC\n",
      "[*********************100%***********************]  1 of 1 completed\n",
      "Get Data for : DXCM\n",
      "[*********************100%***********************]  1 of 1 completed\n",
      "Get Data for : DXLG\n",
      "[*********************100%***********************]  1 of 1 completed\n",
      "Get Data for : DXPE\n",
      "[*********************100%***********************]  1 of 1 completed\n",
      "Get Data for : DXYN\n",
      "[*********************100%***********************]  1 of 1 completed\n",
      "Get Data for : DY\n",
      "[*********************100%***********************]  1 of 1 completed\n",
      "Get Data for : DZSI\n",
      "[*********************100%***********************]  1 of 1 completed\n",
      "Get Data for : EA\n",
      "[*********************100%***********************]  1 of 1 completed\n",
      "Get Data for : EAF\n",
      "[*********************100%***********************]  1 of 1 completed\n",
      "Get Data for : EARN\n",
      "[*********************100%***********************]  1 of 1 completed\n",
      "Get Data for : EAT\n",
      "[*********************100%***********************]  1 of 1 completed\n",
      "Get Data for : EB\n",
      "[*********************100%***********************]  1 of 1 completed\n",
      "Get Data for : EBAY\n",
      "[*********************100%***********************]  1 of 1 completed\n",
      "Get Data for : EBF\n",
      "[*********************100%***********************]  1 of 1 completed\n",
      "Get Data for : EBIX\n",
      "[*********************100%***********************]  1 of 1 completed\n",
      "Get Data for : EBMT\n",
      "[*********************100%***********************]  1 of 1 completed\n",
      "Get Data for : EBS\n",
      "[*********************100%***********************]  1 of 1 completed\n",
      "Get Data for : EBSB\n",
      "[*********************100%***********************]  1 of 1 completed"
     ]
    },
    {
     "name": "stderr",
     "output_type": "stream",
     "text": [
      "\n",
      "1 Failed download:\n",
      "['EBSB']: Exception('%ticker%: No timezone found, symbol may be delisted')\n"
     ]
    },
    {
     "name": "stdout",
     "output_type": "stream",
     "text": [
      "\n",
      "Get Data for : EBTC\n",
      "[*********************100%***********************]  1 of 1 completed\n",
      "Get Data for : ECHO\n",
      "[*********************100%***********************]  1 of 1 completed"
     ]
    },
    {
     "name": "stderr",
     "output_type": "stream",
     "text": [
      "\n",
      "1 Failed download:\n",
      "['ECHO']: Exception('%ticker%: No timezone found, symbol may be delisted')\n"
     ]
    },
    {
     "name": "stdout",
     "output_type": "stream",
     "text": [
      "\n",
      "Get Data for : ECL\n",
      "[*********************100%***********************]  1 of 1 completed\n",
      "Get Data for : ECOL\n",
      "[*********************100%***********************]  1 of 1 completed"
     ]
    },
    {
     "name": "stderr",
     "output_type": "stream",
     "text": [
      "\n",
      "1 Failed download:\n",
      "['ECOL']: Exception('%ticker%: No timezone found, symbol may be delisted')\n"
     ]
    },
    {
     "name": "stdout",
     "output_type": "stream",
     "text": [
      "\n",
      "Get Data for : ECOM\n",
      "[*********************100%***********************]  1 of 1 completed"
     ]
    },
    {
     "name": "stderr",
     "output_type": "stream",
     "text": [
      "\n",
      "1 Failed download:\n",
      "['ECOM']: Exception('%ticker%: No timezone found, symbol may be delisted')\n"
     ]
    },
    {
     "name": "stdout",
     "output_type": "stream",
     "text": [
      "\n",
      "Get Data for : ECPG\n",
      "[*********************100%***********************]  1 of 1 completed\n",
      "Get Data for : ED\n",
      "[*********************100%***********************]  1 of 1 completed\n",
      "Get Data for : EDIT\n",
      "[*********************100%***********************]  1 of 1 completed\n",
      "Get Data for : EDUC\n",
      "[*********************100%***********************]  1 of 1 completed\n",
      "Get Data for : EE\n",
      "[*********************100%***********************]  1 of 1 completed"
     ]
    },
    {
     "name": "stderr",
     "output_type": "stream",
     "text": [
      "\n",
      "1 Failed download:\n",
      "['EE']: Exception(\"%ticker%: Data doesn't exist for startDate = 1483246800, endDate = 1629345600\")\n"
     ]
    },
    {
     "name": "stdout",
     "output_type": "stream",
     "text": [
      "\n",
      "Get Data for : EEFT\n",
      "[*********************100%***********************]  1 of 1 completed\n",
      "Get Data for : EEX\n",
      "[*********************100%***********************]  1 of 1 completed\n",
      "Get Data for : EFC\n",
      "[*********************100%***********************]  1 of 1 completed\n",
      "Get Data for : EFOI\n",
      "[*********************100%***********************]  1 of 1 completed\n",
      "Get Data for : EFSC\n",
      "[*********************100%***********************]  1 of 1 completed\n",
      "Get Data for : EFX\n",
      "[*********************100%***********************]  1 of 1 completed\n",
      "Get Data for : EGAN\n",
      "[*********************100%***********************]  1 of 1 completed\n",
      "Get Data for : EGBN\n",
      "[*********************100%***********************]  1 of 1 completed\n",
      "Get Data for : EGHT\n",
      "[*********************100%***********************]  1 of 1 completed\n",
      "Get Data for : EGLE\n",
      "[*********************100%***********************]  1 of 1 completed\n",
      "Get Data for : EGOV\n",
      "[*********************100%***********************]  1 of 1 completed"
     ]
    },
    {
     "name": "stderr",
     "output_type": "stream",
     "text": [
      "\n",
      "1 Failed download:\n",
      "['EGOV']: Exception('%ticker%: No timezone found, symbol may be delisted')\n"
     ]
    },
    {
     "name": "stdout",
     "output_type": "stream",
     "text": [
      "\n",
      "Get Data for : EGP\n",
      "[*********************100%***********************]  1 of 1 completed\n",
      "Get Data for : EGRX\n",
      "[*********************100%***********************]  1 of 1 completed\n",
      "Get Data for : EGY\n",
      "[*********************100%***********************]  1 of 1 completed\n",
      "Get Data for : EHC\n",
      "[*********************100%***********************]  1 of 1 completed\n",
      "Get Data for : EHTH\n",
      "[*********************100%***********************]  1 of 1 completed\n",
      "Get Data for : EIDX\n",
      "[*********************100%***********************]  1 of 1 completed"
     ]
    },
    {
     "name": "stderr",
     "output_type": "stream",
     "text": [
      "\n",
      "1 Failed download:\n",
      "['EIDX']: Exception('%ticker%: No timezone found, symbol may be delisted')\n"
     ]
    },
    {
     "name": "stdout",
     "output_type": "stream",
     "text": [
      "\n",
      "Get Data for : EIG\n",
      "[*********************100%***********************]  1 of 1 completed\n",
      "Get Data for : EIGI\n",
      "[*********************100%***********************]  1 of 1 completed\n"
     ]
    },
    {
     "name": "stderr",
     "output_type": "stream",
     "text": [
      "\n",
      "1 Failed download:\n",
      "['EIGI']: Exception('%ticker%: No timezone found, symbol may be delisted')\n"
     ]
    },
    {
     "name": "stdout",
     "output_type": "stream",
     "text": [
      "Get Data for : EIGR\n",
      "[*********************100%***********************]  1 of 1 completed\n",
      "Get Data for : EIX\n",
      "[*********************100%***********************]  1 of 1 completed\n",
      "Get Data for : EKSO\n",
      "[*********************100%***********************]  1 of 1 completed\n",
      "Get Data for : EL\n",
      "[*********************100%***********************]  1 of 1 completed\n",
      "Get Data for : ELAN\n",
      "[*********************100%***********************]  1 of 1 completed\n",
      "Get Data for : ELF\n",
      "[*********************100%***********************]  1 of 1 completed\n",
      "Get Data for : ELGX\n",
      "[*********************100%***********************]  1 of 1 completed"
     ]
    },
    {
     "name": "stderr",
     "output_type": "stream",
     "text": [
      "\n",
      "1 Failed download:\n",
      "['ELGX']: Exception('%ticker%: No timezone found, symbol may be delisted')\n"
     ]
    },
    {
     "name": "stdout",
     "output_type": "stream",
     "text": [
      "\n",
      "Get Data for : ELMD\n",
      "[*********************100%***********************]  1 of 1 completed\n",
      "Get Data for : ELOX\n",
      "[*********************100%***********************]  1 of 1 completed\n",
      "Get Data for : ELS\n",
      "[*********************100%***********************]  1 of 1 completed\n",
      "Get Data for : ELSE\n",
      "[*********************100%***********************]  1 of 1 completed\n",
      "Get Data for : ELVT\n",
      "[*********************100%***********************]  1 of 1 completed"
     ]
    },
    {
     "name": "stderr",
     "output_type": "stream",
     "text": [
      "\n",
      "1 Failed download:\n",
      "['ELVT']: Exception('%ticker%: No timezone found, symbol may be delisted')\n"
     ]
    },
    {
     "name": "stdout",
     "output_type": "stream",
     "text": [
      "\n",
      "Get Data for : ELY\n",
      "[*********************100%***********************]  1 of 1 completed"
     ]
    },
    {
     "name": "stderr",
     "output_type": "stream",
     "text": [
      "\n",
      "1 Failed download:\n",
      "['ELY']: Exception('%ticker%: No timezone found, symbol may be delisted')\n"
     ]
    },
    {
     "name": "stdout",
     "output_type": "stream",
     "text": [
      "\n",
      "Get Data for : EMAN\n",
      "[*********************100%***********************]  1 of 1 completed\n",
      "Get Data for : EMCF\n",
      "[*********************100%***********************]  1 of 1 completed"
     ]
    },
    {
     "name": "stderr",
     "output_type": "stream",
     "text": [
      "\n",
      "1 Failed download:\n",
      "['EMCF']: Exception('%ticker%: No timezone found, symbol may be delisted')\n"
     ]
    },
    {
     "name": "stdout",
     "output_type": "stream",
     "text": [
      "\n",
      "Get Data for : EME\n",
      "[*********************100%***********************]  1 of 1 completed\n",
      "Get Data for : EMKR\n",
      "[*********************100%***********************]  1 of 1 completed\n",
      "Get Data for : EML\n",
      "[*********************100%***********************]  1 of 1 completed\n",
      "Get Data for : EMMS\n",
      "[*********************100%***********************]  1 of 1 completed\n",
      "Get Data for : EMN\n",
      "[*********************100%***********************]  1 of 1 completed\n",
      "Get Data for : EMR\n",
      "[*********************100%***********************]  1 of 1 completed\n",
      "Get Data for : ENDP\n",
      "[*********************100%***********************]  1 of 1 completed"
     ]
    },
    {
     "name": "stderr",
     "output_type": "stream",
     "text": [
      "\n",
      "1 Failed download:\n"
     ]
    },
    {
     "name": "stdout",
     "output_type": "stream",
     "text": [
      "\n"
     ]
    },
    {
     "name": "stderr",
     "output_type": "stream",
     "text": [
      "['ENDP']: Exception('%ticker%: No timezone found, symbol may be delisted')\n"
     ]
    },
    {
     "name": "stdout",
     "output_type": "stream",
     "text": [
      "Get Data for : ENG\n",
      "[*********************100%***********************]  1 of 1 completed\n",
      "Get Data for : ENOB\n",
      "[*********************100%***********************]  1 of 1 completed\n",
      "Get Data for : ENPH\n",
      "[*********************100%***********************]  1 of 1 completed\n",
      "Get Data for : ENR\n",
      "[*********************100%***********************]  1 of 1 completed\n",
      "Get Data for : ENS\n",
      "[*********************100%***********************]  1 of 1 completed\n",
      "Get Data for : ENSG\n",
      "[*********************100%***********************]  1 of 1 completed\n",
      "Get Data for : ENSV\n",
      "[*********************100%***********************]  1 of 1 completed\n",
      "Get Data for : ENT\n",
      "[*********************100%***********************]  1 of 1 completed"
     ]
    },
    {
     "name": "stderr",
     "output_type": "stream",
     "text": [
      "\n",
      "1 Failed download:\n",
      "['ENT']: Exception('%ticker%: No timezone found, symbol may be delisted')\n"
     ]
    },
    {
     "name": "stdout",
     "output_type": "stream",
     "text": [
      "\n",
      "Get Data for : ENTA\n",
      "[*********************100%***********************]  1 of 1 completed\n",
      "Get Data for : ENTG\n",
      "[*********************100%***********************]  1 of 1 completed\n",
      "Get Data for : ENV\n",
      "[*********************100%***********************]  1 of 1 completed\n",
      "Get Data for : ENVA\n",
      "[*********************100%***********************]  1 of 1 completed\n",
      "Get Data for : ENZ\n",
      "[*********************100%***********************]  1 of 1 completed\n",
      "Get Data for : EOG\n",
      "[*********************100%***********************]  1 of 1 completed\n",
      "Get Data for : EOLS\n",
      "[*********************100%***********************]  1 of 1 completed\n",
      "Get Data for : EPAM\n",
      "[*********************100%***********************]  1 of 1 completed\n",
      "Get Data for : EPAY\n",
      "[*********************100%***********************]  1 of 1 completed"
     ]
    },
    {
     "name": "stderr",
     "output_type": "stream",
     "text": [
      "\n",
      "1 Failed download:\n",
      "['EPAY']: Exception('%ticker%: No timezone found, symbol may be delisted')\n"
     ]
    },
    {
     "name": "stdout",
     "output_type": "stream",
     "text": [
      "\n",
      "Get Data for : EPC\n",
      "[*********************100%***********************]  1 of 1 completed\n",
      "Get Data for : EPM\n",
      "[*********************100%***********************]  1 of 1 completed\n",
      "Get Data for : EPR\n",
      "[*********************100%***********************]  1 of 1 completed\n",
      "Get Data for : EPRT\n",
      "[*********************100%***********************]  1 of 1 completed\n",
      "Get Data for : EPZM\n",
      "[*********************100%***********************]  1 of 1 completed"
     ]
    },
    {
     "name": "stderr",
     "output_type": "stream",
     "text": [
      "\n",
      "1 Failed download:\n",
      "['EPZM']: Exception('%ticker%: No timezone found, symbol may be delisted')\n"
     ]
    },
    {
     "name": "stdout",
     "output_type": "stream",
     "text": [
      "\n",
      "Get Data for : EQBK\n",
      "[*********************100%***********************]  1 of 1 completed\n",
      "Get Data for : EQC\n",
      "[*********************100%***********************]  1 of 1 completed\n",
      "Get Data for : EQH\n",
      "[*********************100%***********************]  1 of 1 completed\n",
      "Get Data for : EQIX\n",
      "[*********************100%***********************]  1 of 1 completed\n",
      "Get Data for : EQR\n",
      "[*********************100%***********************]  1 of 1 completed\n",
      "Get Data for : EQT\n",
      "[*********************100%***********************]  1 of 1 completed\n",
      "Get Data for : ERI\n",
      "[*********************100%***********************]  1 of 1 completed"
     ]
    },
    {
     "name": "stderr",
     "output_type": "stream",
     "text": [
      "\n",
      "1 Failed download:\n",
      "['ERI']: Exception('%ticker%: No timezone found, symbol may be delisted')\n"
     ]
    },
    {
     "name": "stdout",
     "output_type": "stream",
     "text": [
      "\n",
      "Get Data for : ERIE\n",
      "[*********************100%***********************]  1 of 1 completed\n",
      "Get Data for : ERII\n",
      "[*********************100%***********************]  1 of 1 completed\n",
      "Get Data for : ES\n",
      "[*********************100%***********************]  1 of 1 completed\n",
      "Get Data for : ESBK\n",
      "[*********************100%***********************]  1 of 1 completed"
     ]
    },
    {
     "name": "stderr",
     "output_type": "stream",
     "text": [
      "\n",
      "1 Failed download:\n",
      "['ESBK']: Exception('%ticker%: No timezone found, symbol may be delisted')\n"
     ]
    },
    {
     "name": "stdout",
     "output_type": "stream",
     "text": [
      "\n",
      "Get Data for : ESCA\n",
      "[*********************100%***********************]  1 of 1 completed\n",
      "Get Data for : ESE\n",
      "[*********************100%***********************]  1 of 1 completed\n",
      "Get Data for : ESGR\n",
      "[*********************100%***********************]  1 of 1 completed\n",
      "Get Data for : ESNT\n",
      "[*********************100%***********************]  1 of 1 completed\n",
      "Get Data for : ESP\n",
      "[*********************100%***********************]  1 of 1 completed\n",
      "Get Data for : ESPR\n",
      "[*********************100%***********************]  1 of 1 completed\n",
      "Get Data for : ESRT\n",
      "[*********************100%***********************]  1 of 1 completed\n",
      "Get Data for : ESS\n",
      "[*********************100%***********************]  1 of 1 completed\n",
      "Get Data for : ESSA\n",
      "[*********************100%***********************]  1 of 1 completed\n",
      "Get Data for : ESTC\n",
      "[*********************100%***********************]  1 of 1 completed\n",
      "Get Data for : ESTE\n",
      "[*********************100%***********************]  1 of 1 completed\n",
      "Get Data for : ESXB\n",
      "[*********************100%***********************]  1 of 1 completed"
     ]
    },
    {
     "name": "stderr",
     "output_type": "stream",
     "text": [
      "\n",
      "1 Failed download:\n",
      "['ESXB']: Exception('%ticker%: No timezone found, symbol may be delisted')\n"
     ]
    },
    {
     "name": "stdout",
     "output_type": "stream",
     "text": [
      "\n",
      "Get Data for : ETFC\n",
      "[*********************100%***********************]  1 of 1 completed"
     ]
    },
    {
     "name": "stderr",
     "output_type": "stream",
     "text": [
      "\n",
      "1 Failed download:\n",
      "['ETFC']: Exception('%ticker%: No timezone found, symbol may be delisted')\n"
     ]
    },
    {
     "name": "stdout",
     "output_type": "stream",
     "text": [
      "\n",
      "Get Data for : ETH\n",
      "[*********************100%***********************]  1 of 1 completed"
     ]
    },
    {
     "name": "stderr",
     "output_type": "stream",
     "text": [
      "\n",
      "1 Failed download:\n",
      "['ETH']: Exception('%ticker%: No timezone found, symbol may be delisted')\n"
     ]
    },
    {
     "name": "stdout",
     "output_type": "stream",
     "text": [
      "\n",
      "Get Data for : ETM\n",
      "[*********************100%***********************]  1 of 1 completed"
     ]
    },
    {
     "name": "stderr",
     "output_type": "stream",
     "text": [
      "\n",
      "1 Failed download:\n",
      "['ETM']: Exception('%ticker%: No timezone found, symbol may be delisted')\n"
     ]
    },
    {
     "name": "stdout",
     "output_type": "stream",
     "text": [
      "\n",
      "Get Data for : ETN\n",
      "[*********************100%***********************]  1 of 1 completed\n",
      "Get Data for : ETR\n",
      "[*********************100%***********************]  1 of 1 completed\n",
      "Get Data for : ETRN\n",
      "[*********************100%***********************]  1 of 1 completed\n",
      "Get Data for : ETSY\n",
      "[*********************100%***********************]  1 of 1 completed\n",
      "Get Data for : EV\n",
      "[*********************100%***********************]  1 of 1 completed"
     ]
    },
    {
     "name": "stderr",
     "output_type": "stream",
     "text": [
      "\n",
      "1 Failed download:\n",
      "['EV']: Exception('%ticker%: No timezone found, symbol may be delisted')\n"
     ]
    },
    {
     "name": "stdout",
     "output_type": "stream",
     "text": [
      "\n",
      "Get Data for : EVBG\n",
      "[*********************100%***********************]  1 of 1 completed\n",
      "Get Data for : EVBN\n",
      "[*********************100%***********************]  1 of 1 completed\n",
      "Get Data for : EVC\n",
      "[*********************100%***********************]  1 of 1 completed\n",
      "Get Data for : EVER\n",
      "[*********************100%***********************]  1 of 1 completed\n",
      "Get Data for : EVFM\n",
      "[*********************100%***********************]  1 of 1 completed\n",
      "Get Data for : EVH\n",
      "[*********************100%***********************]  1 of 1 completed\n",
      "Get Data for : EVI\n",
      "[*********************100%***********************]  1 of 1 completed\n",
      "Get Data for : EVOK\n",
      "[*********************100%***********************]  1 of 1 completed\n",
      "Get Data for : EVOL\n",
      "[*********************100%***********************]  1 of 1 completed\n",
      "Get Data for : EVOP\n",
      "[*********************100%***********************]  1 of 1 completed"
     ]
    },
    {
     "name": "stderr",
     "output_type": "stream",
     "text": [
      "\n",
      "1 Failed download:\n",
      "['EVOP']: Exception('%ticker%: No timezone found, symbol may be delisted')\n"
     ]
    },
    {
     "name": "stdout",
     "output_type": "stream",
     "text": [
      "\n",
      "Get Data for : EVR\n",
      "[*********************100%***********************]  1 of 1 completed\n",
      "Get Data for : EVRG\n",
      "[*********************100%***********************]  1 of 1 completed\n",
      "Get Data for : EVRI\n",
      "[*********************100%***********************]  1 of 1 completed\n",
      "Get Data for : EVTC\n",
      "[*********************100%***********************]  1 of 1 completed\n",
      "Get Data for : EW\n",
      "[*********************100%***********************]  1 of 1 completed\n",
      "Get Data for : EWBC\n",
      "[*********************100%***********************]  1 of 1 completed\n",
      "Get Data for : EXAS\n",
      "[*********************100%***********************]  1 of 1 completed\n",
      "Get Data for : EXC\n",
      "[*********************100%***********************]  1 of 1 completed\n",
      "Get Data for : EXEL\n",
      "[*********************100%***********************]  1 of 1 completed\n",
      "Get Data for : EXLS\n",
      "[*********************100%***********************]  1 of 1 completed\n",
      "Get Data for : EXP\n",
      "[*********************100%***********************]  1 of 1 completed\n",
      "Get Data for : EXPD\n",
      "[*********************100%***********************]  1 of 1 completed\n",
      "Get Data for : EXPE\n",
      "[*********************100%***********************]  1 of 1 completed\n",
      "Get Data for : EXPI\n",
      "[*********************100%***********************]  1 of 1 completed\n",
      "Get Data for : EXPO\n",
      "[*********************100%***********************]  1 of 1 completed\n",
      "Get Data for : EXPR\n",
      "[*********************100%***********************]  1 of 1 completed\n",
      "Get Data for : EXR\n",
      "[*********************100%***********************]  1 of 1 completed\n",
      "Get Data for : EXTN\n",
      "[*********************100%***********************]  1 of 1 completed"
     ]
    },
    {
     "name": "stderr",
     "output_type": "stream",
     "text": [
      "\n",
      "1 Failed download:\n",
      "['EXTN']: Exception('%ticker%: No timezone found, symbol may be delisted')\n"
     ]
    },
    {
     "name": "stdout",
     "output_type": "stream",
     "text": [
      "\n",
      "Get Data for : EXTR\n",
      "[*********************100%***********************]  1 of 1 completed\n",
      "Get Data for : EYE\n",
      "[*********************100%***********************]  1 of 1 completed\n",
      "Get Data for : EYEG\n",
      "[*********************100%***********************]  1 of 1 completed"
     ]
    },
    {
     "name": "stderr",
     "output_type": "stream",
     "text": [
      "\n",
      "1 Failed download:\n",
      "['EYEG']: Exception('%ticker%: No timezone found, symbol may be delisted')\n"
     ]
    },
    {
     "name": "stdout",
     "output_type": "stream",
     "text": [
      "\n",
      "Get Data for : EYES\n",
      "[*********************100%***********************]  1 of 1 completed"
     ]
    },
    {
     "name": "stderr",
     "output_type": "stream",
     "text": [
      "\n",
      "1 Failed download:\n",
      "['EYES']: Exception('%ticker%: No timezone found, symbol may be delisted')\n"
     ]
    },
    {
     "name": "stdout",
     "output_type": "stream",
     "text": [
      "\n",
      "Get Data for : EYPT\n",
      "[*********************100%***********************]  1 of 1 completed\n",
      "Get Data for : EZPW\n",
      "[*********************100%***********************]  1 of 1 completed\n",
      "Get Data for : F\n",
      "[*********************100%***********************]  1 of 1 completed\n",
      "Get Data for : FAF\n",
      "[*********************100%***********************]  1 of 1 completed\n",
      "Get Data for : FANG\n",
      "[*********************100%***********************]  1 of 1 completed\n",
      "Get Data for : FARM\n",
      "[*********************100%***********************]  1 of 1 completed\n",
      "Get Data for : FARO\n",
      "[*********************100%***********************]  1 of 1 completed\n",
      "Get Data for : FAST\n",
      "[*********************100%***********************]  1 of 1 completed\n",
      "Get Data for : FATE\n",
      "[*********************100%***********************]  1 of 1 completed\n",
      "Get Data for : FB\n",
      "[*********************100%***********************]  1 of 1 completed"
     ]
    },
    {
     "name": "stderr",
     "output_type": "stream",
     "text": [
      "\n",
      "1 Failed download:\n",
      "['FB']: Exception('%ticker%: No timezone found, symbol may be delisted')\n"
     ]
    },
    {
     "name": "stdout",
     "output_type": "stream",
     "text": [
      "\n",
      "Get Data for : FBC\n",
      "[*********************100%***********************]  1 of 1 completed"
     ]
    },
    {
     "name": "stderr",
     "output_type": "stream",
     "text": [
      "\n",
      "1 Failed download:\n",
      "['FBC']: Exception('%ticker%: No timezone found, symbol may be delisted')\n"
     ]
    },
    {
     "name": "stdout",
     "output_type": "stream",
     "text": [
      "\n",
      "Get Data for : FBHS\n",
      "[*********************100%***********************]  1 of 1 completed"
     ]
    },
    {
     "name": "stderr",
     "output_type": "stream",
     "text": [
      "\n",
      "1 Failed download:\n",
      "['FBHS']: Exception('%ticker%: No timezone found, symbol may be delisted')\n"
     ]
    },
    {
     "name": "stdout",
     "output_type": "stream",
     "text": [
      "\n",
      "Get Data for : FBIO\n",
      "[*********************100%***********************]  1 of 1 completed\n",
      "Get Data for : FBIZ\n",
      "[*********************100%***********************]  1 of 1 completed\n",
      "Get Data for : FBK\n",
      "[*********************100%***********************]  1 of 1 completed\n",
      "Get Data for : FBM\n",
      "[*********************100%***********************]  1 of 1 completed"
     ]
    },
    {
     "name": "stderr",
     "output_type": "stream",
     "text": [
      "\n",
      "1 Failed download:\n",
      "['FBM']: Exception('%ticker%: No timezone found, symbol may be delisted')\n"
     ]
    },
    {
     "name": "stdout",
     "output_type": "stream",
     "text": [
      "\n",
      "Get Data for : FBMS\n",
      "[*********************100%***********************]  1 of 1 completed\n",
      "Get Data for : FBNC\n",
      "[*********************100%***********************]  1 of 1 completed\n",
      "Get Data for : FBP\n",
      "[*********************100%***********************]  1 of 1 completed\n",
      "Get Data for : FBSS\n",
      "[*********************100%***********************]  1 of 1 completed"
     ]
    },
    {
     "name": "stderr",
     "output_type": "stream",
     "text": [
      "\n",
      "1 Failed download:\n",
      "['FBSS']: Exception('%ticker%: No timezone found, symbol may be delisted')\n"
     ]
    },
    {
     "name": "stdout",
     "output_type": "stream",
     "text": [
      "\n",
      "Get Data for : FC\n",
      "[*********************100%***********************]  1 of 1 completed\n",
      "Get Data for : FCAP\n",
      "[*********************100%***********************]  1 of 1 completed\n",
      "Get Data for : FCBC\n",
      "[*********************100%***********************]  1 of 1 completed\n",
      "Get Data for : FCBP\n",
      "[*********************100%***********************]  1 of 1 completed"
     ]
    },
    {
     "name": "stderr",
     "output_type": "stream",
     "text": [
      "\n",
      "1 Failed download:\n",
      "['FCBP']: Exception('%ticker%: No timezone found, symbol may be delisted')\n"
     ]
    },
    {
     "name": "stdout",
     "output_type": "stream",
     "text": [
      "\n",
      "Get Data for : FCCO\n",
      "[*********************100%***********************]  1 of 1 completed\n",
      "Get Data for : FCCY\n",
      "[*********************100%***********************]  1 of 1 completed"
     ]
    },
    {
     "name": "stderr",
     "output_type": "stream",
     "text": [
      "\n",
      "1 Failed download:\n",
      "['FCCY']: Exception('%ticker%: No timezone found, symbol may be delisted')\n"
     ]
    },
    {
     "name": "stdout",
     "output_type": "stream",
     "text": [
      "\n",
      "Get Data for : FCEL\n",
      "[*********************100%***********************]  1 of 1 completed\n",
      "Get Data for : FCF\n",
      "[*********************100%***********************]  1 of 1 completed\n",
      "Get Data for : FCFS\n",
      "[*********************100%***********************]  1 of 1 completed\n",
      "Get Data for : FCN\n",
      "[*********************100%***********************]  1 of 1 completed\n",
      "Get Data for : FCNCA\n",
      "[*********************100%***********************]  1 of 1 completed\n",
      "Get Data for : FCPT\n",
      "[*********************100%***********************]  1 of 1 completed\n",
      "Get Data for : FCX\n",
      "[*********************100%***********************]  1 of 1 completed\n",
      "Get Data for : FDBC\n",
      "[*********************100%***********************]  1 of 1 completed\n",
      "Get Data for : FDEF\n",
      "[*********************100%***********************]  1 of 1 completed"
     ]
    },
    {
     "name": "stderr",
     "output_type": "stream",
     "text": [
      "\n",
      "1 Failed download:\n",
      "['FDEF']: Exception('%ticker%: No timezone found, symbol may be delisted')\n"
     ]
    },
    {
     "name": "stdout",
     "output_type": "stream",
     "text": [
      "\n",
      "Get Data for : FDP\n",
      "[*********************100%***********************]  1 of 1 completed\n",
      "Get Data for : FDS\n",
      "[*********************100%***********************]  1 of 1 completed\n",
      "Get Data for : FDX\n",
      "[*********************100%***********************]  1 of 1 completed\n",
      "Get Data for : FE\n",
      "[*********************100%***********************]  1 of 1 completed\n",
      "Get Data for : FEIM\n",
      "[*********************100%***********************]  1 of 1 completed\n",
      "Get Data for : FELE\n",
      "[*********************100%***********************]  1 of 1 completed\n",
      "Get Data for : FET\n",
      "[*********************100%***********************]  1 of 1 completed\n",
      "Get Data for : FEYE\n",
      "[*********************100%***********************]  1 of 1 completed"
     ]
    },
    {
     "name": "stderr",
     "output_type": "stream",
     "text": [
      "\n",
      "1 Failed download:\n",
      "['FEYE']: Exception('%ticker%: No timezone found, symbol may be delisted')\n"
     ]
    },
    {
     "name": "stdout",
     "output_type": "stream",
     "text": [
      "\n",
      "Get Data for : FF\n",
      "[*********************100%***********************]  1 of 1 completed\n",
      "Get Data for : FFBC\n",
      "[*********************100%***********************]  1 of 1 completed\n",
      "Get Data for : FFG\n",
      "[*********************100%***********************]  1 of 1 completed"
     ]
    },
    {
     "name": "stderr",
     "output_type": "stream",
     "text": [
      "\n",
      "1 Failed download:\n",
      "['FFG']: Exception('%ticker%: No timezone found, symbol may be delisted')\n"
     ]
    },
    {
     "name": "stdout",
     "output_type": "stream",
     "text": [
      "\n",
      "Get Data for : FFIC\n",
      "[*********************100%***********************]  1 of 1 completed\n",
      "Get Data for : FFIN\n",
      "[*********************100%***********************]  1 of 1 completed\n",
      "Get Data for : FFIV\n",
      "[*********************100%***********************]  1 of 1 completed\n",
      "Get Data for : FFNW\n",
      "[*********************100%***********************]  1 of 1 completed\n",
      "Get Data for : FFWM\n",
      "[*********************100%***********************]  1 of 1 completed\n",
      "Get Data for : FGBI\n",
      "[*********************100%***********************]  1 of 1 completed\n",
      "Get Data for : FGEN\n",
      "[*********************100%***********************]  1 of 1 completed\n",
      "Get Data for : FHB\n",
      "[*********************100%***********************]  1 of 1 completed\n",
      "Get Data for : FHN\n",
      "[*********************100%***********************]  1 of 1 completed\n",
      "Get Data for : FI\n",
      "[*********************100%***********************]  1 of 1 completed\n",
      "Get Data for : FIBK\n",
      "[*********************100%***********************]  1 of 1 completed\n",
      "Get Data for : FICO\n",
      "[*********************100%***********************]  1 of 1 completed\n",
      "Get Data for : FIS\n",
      "[*********************100%***********************]  1 of 1 completed\n",
      "Get Data for : FISI\n",
      "[*********************100%***********************]  1 of 1 completed\n",
      "Get Data for : FISV\n",
      "[*********************100%***********************]  1 of 1 completed"
     ]
    },
    {
     "name": "stderr",
     "output_type": "stream",
     "text": [
      "\n",
      "1 Failed download:\n",
      "['FISV']: Exception(\"%ticker%: Data doesn't exist for startDate = 1483246800, endDate = 1629345600\")\n"
     ]
    },
    {
     "name": "stdout",
     "output_type": "stream",
     "text": [
      "\n",
      "Get Data for : FIT\n",
      "[*********************100%***********************]  1 of 1 completed"
     ]
    },
    {
     "name": "stderr",
     "output_type": "stream",
     "text": [
      "\n",
      "1 Failed download:\n",
      "['FIT']: Exception('%ticker%: No timezone found, symbol may be delisted')\n"
     ]
    },
    {
     "name": "stdout",
     "output_type": "stream",
     "text": [
      "\n",
      "Get Data for : FITB\n",
      "[*********************100%***********************]  1 of 1 completed\n",
      "Get Data for : FIVE\n",
      "[*********************100%***********************]  1 of 1 completed\n",
      "Get Data for : FIVN\n",
      "[*********************100%***********************]  1 of 1 completed\n",
      "Get Data for : FIX\n",
      "[*********************100%***********************]  1 of 1 completed\n",
      "Get Data for : FIXX\n",
      "[*********************100%***********************]  1 of 1 completed\n",
      "Get Data for : FIZZ\n",
      "[*********************100%***********************]  1 of 1 completed\n",
      "Get Data for : FL\n",
      "[*********************100%***********************]  1 of 1 completed\n",
      "Get Data for : FLDM\n",
      "[*********************100%***********************]  1 of 1 completed"
     ]
    },
    {
     "name": "stderr",
     "output_type": "stream",
     "text": [
      "\n",
      "1 Failed download:\n",
      "['FLDM']: Exception('%ticker%: No timezone found, symbol may be delisted')\n"
     ]
    },
    {
     "name": "stdout",
     "output_type": "stream",
     "text": [
      "\n",
      "Get Data for : FLIC\n",
      "[*********************100%***********************]  1 of 1 completed\n",
      "Get Data for : FLIR\n",
      "[*********************100%***********************]  1 of 1 completed"
     ]
    },
    {
     "name": "stderr",
     "output_type": "stream",
     "text": [
      "\n",
      "1 Failed download:\n",
      "['FLIR']: Exception('%ticker%: No timezone found, symbol may be delisted')\n"
     ]
    },
    {
     "name": "stdout",
     "output_type": "stream",
     "text": [
      "\n",
      "Get Data for : FLL\n",
      "[*********************100%***********************]  1 of 1 completed\n",
      "Get Data for : FLMN\n",
      "[*********************100%***********************]  1 of 1 completed"
     ]
    },
    {
     "name": "stderr",
     "output_type": "stream",
     "text": [
      "\n",
      "1 Failed download:\n",
      "['FLMN']: Exception('%ticker%: No timezone found, symbol may be delisted')\n"
     ]
    },
    {
     "name": "stdout",
     "output_type": "stream",
     "text": [
      "\n",
      "Get Data for : FLNT\n",
      "[*********************100%***********************]  1 of 1 completed\n",
      "Get Data for : FLO\n",
      "[*********************100%***********************]  1 of 1 completed\n",
      "Get Data for : FLOW\n",
      "[*********************100%***********************]  1 of 1 completed"
     ]
    },
    {
     "name": "stderr",
     "output_type": "stream",
     "text": [
      "\n",
      "1 Failed download:\n",
      "['FLOW']: Exception('%ticker%: No timezone found, symbol may be delisted')\n"
     ]
    },
    {
     "name": "stdout",
     "output_type": "stream",
     "text": [
      "\n",
      "Get Data for : FLR\n",
      "[*********************100%***********************]  1 of 1 completed\n",
      "Get Data for : FLS\n",
      "[*********************100%***********************]  1 of 1 completed\n",
      "Get Data for : FLT\n",
      "[*********************100%***********************]  1 of 1 completed\n",
      "Get Data for : FLWS\n",
      "[*********************100%***********************]  1 of 1 completed\n",
      "Get Data for : FLXN\n",
      "[*********************100%***********************]  1 of 1 completed"
     ]
    },
    {
     "name": "stderr",
     "output_type": "stream",
     "text": [
      "\n",
      "1 Failed download:\n",
      "['FLXN']: Exception('%ticker%: No timezone found, symbol may be delisted')\n"
     ]
    },
    {
     "name": "stdout",
     "output_type": "stream",
     "text": [
      "\n",
      "Get Data for : FLXS\n",
      "[*********************100%***********************]  1 of 1 completed\n",
      "Get Data for : FMAO\n",
      "[*********************100%***********************]  1 of 1 completed\n",
      "Get Data for : FMBH\n",
      "[*********************100%***********************]  1 of 1 completed\n",
      "Get Data for : FMBI\n",
      "[*********************100%***********************]  1 of 1 completed"
     ]
    },
    {
     "name": "stderr",
     "output_type": "stream",
     "text": [
      "\n",
      "1 Failed download:\n",
      "['FMBI']: Exception('%ticker%: No timezone found, symbol may be delisted')\n"
     ]
    },
    {
     "name": "stdout",
     "output_type": "stream",
     "text": [
      "\n",
      "Get Data for : FMC\n",
      "[*********************100%***********************]  1 of 1 completed\n",
      "Get Data for : FMNB\n",
      "[*********************100%***********************]  1 of 1 completed\n",
      "Get Data for : FN\n",
      "[*********************100%***********************]  1 of 1 completed\n",
      "Get Data for : FNB\n",
      "[*********************100%***********************]  1 of 1 completed\n",
      "Get Data for : FNCB\n",
      "[*********************100%***********************]  1 of 1 completed\n",
      "Get Data for : FND\n",
      "[*********************100%***********************]  1 of 1 completed\n",
      "Get Data for : FNF\n",
      "[*********************100%***********************]  1 of 1 completed\n",
      "Get Data for : FNHC\n",
      "[*********************100%***********************]  1 of 1 completed"
     ]
    },
    {
     "name": "stderr",
     "output_type": "stream",
     "text": [
      "\n",
      "1 Failed download:\n",
      "['FNHC']: Exception('%ticker%: No timezone found, symbol may be delisted')\n"
     ]
    },
    {
     "name": "stdout",
     "output_type": "stream",
     "text": [
      "\n",
      "Get Data for : FNJN\n",
      "[*********************100%***********************]  1 of 1 completed"
     ]
    },
    {
     "name": "stderr",
     "output_type": "stream",
     "text": [
      "\n",
      "1 Failed download:\n",
      "['FNJN']: Exception('%ticker%: No timezone found, symbol may be delisted')\n"
     ]
    },
    {
     "name": "stdout",
     "output_type": "stream",
     "text": [
      "\n",
      "Get Data for : FNKO\n",
      "[*********************100%***********************]  1 of 1 completed\n",
      "Get Data for : FNLC\n",
      "[*********************100%***********************]  1 of 1 completed\n",
      "Get Data for : FNWB\n",
      "[*********************100%***********************]  1 of 1 completed\n",
      "Get Data for : FOCS\n",
      "[*********************100%***********************]  1 of 1 completed\n",
      "Get Data for : FOE\n",
      "[*********************100%***********************]  1 of 1 completed"
     ]
    },
    {
     "name": "stderr",
     "output_type": "stream",
     "text": [
      "\n",
      "1 Failed download:\n",
      "['FOE']: Exception('%ticker%: No timezone found, symbol may be delisted')\n"
     ]
    },
    {
     "name": "stdout",
     "output_type": "stream",
     "text": [
      "\n",
      "Get Data for : FOLD\n",
      "[*********************100%***********************]  1 of 1 completed\n",
      "Get Data for : FONR\n",
      "[*********************100%***********************]  1 of 1 completed\n",
      "Get Data for : FOR\n",
      "[*********************100%***********************]  1 of 1 completed\n",
      "Get Data for : FORD\n",
      "[*********************100%***********************]  1 of 1 completed\n",
      "Get Data for : FORM\n",
      "[*********************100%***********************]  1 of 1 completed\n",
      "Get Data for : FORR\n",
      "[*********************100%***********************]  1 of 1 completed\n",
      "Get Data for : FOSL\n",
      "[*********************100%***********************]  1 of 1 completed\n",
      "Get Data for : FOX\n",
      "[*********************100%***********************]  1 of 1 completed\n",
      "Get Data for : FOXA\n",
      "[*********************100%***********************]  1 of 1 completed\n",
      "Get Data for : FOXF\n",
      "[*********************100%***********************]  1 of 1 completed\n",
      "Get Data for : FPI\n",
      "[*********************100%***********************]  1 of 1 completed\n",
      "Get Data for : FPRX\n",
      "[*********************100%***********************]  1 of 1 completed"
     ]
    },
    {
     "name": "stderr",
     "output_type": "stream",
     "text": [
      "\n",
      "1 Failed download:\n",
      "['FPRX']: Exception('%ticker%: No timezone found, symbol may be delisted')\n"
     ]
    },
    {
     "name": "stdout",
     "output_type": "stream",
     "text": [
      "\n",
      "Get Data for : FR\n",
      "[*********************100%***********************]  1 of 1 completed\n",
      "Get Data for : FRAN\n",
      "[*********************100%***********************]  1 of 1 completed"
     ]
    },
    {
     "name": "stderr",
     "output_type": "stream",
     "text": [
      "\n",
      "1 Failed download:\n",
      "['FRAN']: Exception('%ticker%: No timezone found, symbol may be delisted')\n"
     ]
    },
    {
     "name": "stdout",
     "output_type": "stream",
     "text": [
      "\n",
      "Get Data for : FRBA\n",
      "[*********************100%***********************]  1 of 1 completed\n",
      "Get Data for : FRBK\n",
      "[*********************100%***********************]  1 of 1 completed\n",
      "Get Data for : FRC\n",
      "[*********************100%***********************]  1 of 1 completed\n"
     ]
    },
    {
     "name": "stderr",
     "output_type": "stream",
     "text": [
      "\n",
      "1 Failed download:\n",
      "['FRC']: Exception('%ticker%: No timezone found, symbol may be delisted')\n"
     ]
    },
    {
     "name": "stdout",
     "output_type": "stream",
     "text": [
      "Get Data for : FRD\n",
      "[*********************100%***********************]  1 of 1 completed\n",
      "Get Data for : FRGI\n",
      "[*********************100%***********************]  1 of 1 completed\n",
      "Get Data for : FRME\n",
      "[*********************100%***********************]  1 of 1 completed\n",
      "Get Data for : FRPH\n",
      "[*********************100%***********************]  1 of 1 completed\n",
      "Get Data for : FRPT\n",
      "[*********************100%***********************]  1 of 1 completed\n",
      "Get Data for : FRT\n",
      "[*********************100%***********************]  1 of 1 completed\n",
      "Get Data for : FRTA\n",
      "[*********************100%***********************]  1 of 1 completed"
     ]
    },
    {
     "name": "stderr",
     "output_type": "stream",
     "text": [
      "\n",
      "1 Failed download:\n",
      "['FRTA']: Exception('%ticker%: No timezone found, symbol may be delisted')\n"
     ]
    },
    {
     "name": "stdout",
     "output_type": "stream",
     "text": [
      "\n",
      "Get Data for : FSB\n",
      "[*********************100%***********************]  1 of 1 completed"
     ]
    },
    {
     "name": "stderr",
     "output_type": "stream",
     "text": [
      "\n",
      "1 Failed download:\n",
      "['FSB']: Exception('%ticker%: No timezone found, symbol may be delisted')\n"
     ]
    },
    {
     "name": "stdout",
     "output_type": "stream",
     "text": [
      "\n",
      "Get Data for : FSBW\n",
      "[*********************100%***********************]  1 of 1 completed\n",
      "Get Data for : FSCT\n",
      "[*********************100%***********************]  1 of 1 completed"
     ]
    },
    {
     "name": "stderr",
     "output_type": "stream",
     "text": [
      "\n",
      "1 Failed download:\n",
      "['FSCT']: Exception('%ticker%: No timezone found, symbol may be delisted')\n"
     ]
    },
    {
     "name": "stdout",
     "output_type": "stream",
     "text": [
      "\n",
      "Get Data for : FSFG\n",
      "[*********************100%***********************]  1 of 1 completed\n",
      "Get Data for : FSLR\n",
      "[*********************100%***********************]  1 of 1 completed\n",
      "Get Data for : FSLY\n",
      "[*********************100%***********************]  1 of 1 completed\n",
      "Get Data for : FSP\n",
      "[*********************100%***********************]  1 of 1 completed\n",
      "Get Data for : FSS\n",
      "[*********************100%***********************]  1 of 1 completed\n",
      "Get Data for : FSTR\n",
      "[*********************100%***********************]  1 of 1 completed\n",
      "Get Data for : FTDR\n",
      "[*********************100%***********************]  1 of 1 completed\n",
      "Get Data for : FTEK\n",
      "[*********************100%***********************]  1 of 1 completed\n",
      "Get Data for : FTI\n",
      "[*********************100%***********************]  1 of 1 completed\n",
      "Get Data for : FTK\n",
      "[*********************100%***********************]  1 of 1 completed\n",
      "Get Data for : FTNT\n",
      "[*********************100%***********************]  1 of 1 completed\n",
      "Get Data for : FTSI\n",
      "[*********************100%***********************]  1 of 1 completed"
     ]
    },
    {
     "name": "stderr",
     "output_type": "stream",
     "text": [
      "\n",
      "1 Failed download:\n",
      "['FTSI']: Exception('%ticker%: No timezone found, symbol may be delisted')\n"
     ]
    },
    {
     "name": "stdout",
     "output_type": "stream",
     "text": [
      "\n",
      "Get Data for : FTV\n",
      "[*********************100%***********************]  1 of 1 completed\n",
      "Get Data for : FUL\n",
      "[*********************100%***********************]  1 of 1 completed\n",
      "Get Data for : FULT\n",
      "[*********************100%***********************]  1 of 1 completed\n",
      "Get Data for : FUNC\n",
      "[*********************100%***********************]  1 of 1 completed\n",
      "Get Data for : FUSB\n",
      "[*********************100%***********************]  1 of 1 completed\n",
      "Get Data for : FVE\n",
      "[*********************100%***********************]  1 of 1 completed"
     ]
    },
    {
     "name": "stderr",
     "output_type": "stream",
     "text": [
      "\n",
      "1 Failed download:\n",
      "['FVE']: Exception('%ticker%: No timezone found, symbol may be delisted')\n"
     ]
    },
    {
     "name": "stdout",
     "output_type": "stream",
     "text": [
      "\n",
      "Get Data for : FWONA\n",
      "[*********************100%***********************]  1 of 1 completed\n",
      "Get Data for : FWONK\n",
      "[*********************100%***********************]  1 of 1 completed\n",
      "Get Data for : FWRD\n",
      "[*********************100%***********************]  1 of 1 completed\n",
      "Get Data for : G\n",
      "[*********************100%***********************]  1 of 1 completed\n",
      "Get Data for : GABC\n",
      "[*********************100%***********************]  1 of 1 completed\n",
      "Get Data for : GAIA\n",
      "[*********************100%***********************]  1 of 1 completed\n",
      "Get Data for : GALT\n",
      "[*********************100%***********************]  1 of 1 completed\n",
      "Get Data for : GATX\n",
      "[*********************100%***********************]  1 of 1 completed\n",
      "Get Data for : GBCI\n",
      "[*********************100%***********************]  1 of 1 completed\n",
      "Get Data for : GBL\n",
      "[*********************100%***********************]  1 of 1 completed"
     ]
    },
    {
     "name": "stderr",
     "output_type": "stream",
     "text": [
      "\n",
      "1 Failed download:\n",
      "['GBL']: Exception('%ticker%: No timezone found, symbol may be delisted')\n"
     ]
    },
    {
     "name": "stdout",
     "output_type": "stream",
     "text": [
      "\n",
      "Get Data for : GBLI\n",
      "[*********************100%***********************]  1 of 1 completed\n",
      "Get Data for : GBT\n",
      "[*********************100%***********************]  1 of 1 completed"
     ]
    },
    {
     "name": "stderr",
     "output_type": "stream",
     "text": [
      "\n",
      "1 Failed download:\n",
      "['GBT']: Exception('%ticker%: No timezone found, symbol may be delisted')\n"
     ]
    },
    {
     "name": "stdout",
     "output_type": "stream",
     "text": [
      "\n",
      "Get Data for : GBX\n",
      "[*********************100%***********************]  1 of 1 completed\n",
      "Get Data for : GCAP\n",
      "[*********************100%***********************]  1 of 1 completed"
     ]
    },
    {
     "name": "stderr",
     "output_type": "stream",
     "text": [
      "\n",
      "1 Failed download:\n",
      "['GCAP']: Exception('%ticker%: No timezone found, symbol may be delisted')\n"
     ]
    },
    {
     "name": "stdout",
     "output_type": "stream",
     "text": [
      "\n",
      "Get Data for : GCBC\n",
      "[*********************100%***********************]  1 of 1 completed\n",
      "Get Data for : GCI\n",
      "[*********************100%***********************]  1 of 1 completed\n",
      "Get Data for : GCO\n",
      "[*********************100%***********************]  1 of 1 completed\n",
      "Get Data for : GCP\n",
      "[*********************100%***********************]  1 of 1 completed"
     ]
    },
    {
     "name": "stderr",
     "output_type": "stream",
     "text": [
      "\n",
      "1 Failed download:\n",
      "['GCP']: Exception('%ticker%: No timezone found, symbol may be delisted')\n"
     ]
    },
    {
     "name": "stdout",
     "output_type": "stream",
     "text": [
      "\n",
      "Get Data for : GD\n",
      "[*********************100%***********************]  1 of 1 completed\n",
      "Get Data for : GDDY\n",
      "[*********************100%***********************]  1 of 1 completed\n",
      "Get Data for : GDEN\n",
      "[*********************100%***********************]  1 of 1 completed\n",
      "Get Data for : GDOT\n",
      "[*********************100%***********************]  1 of 1 completed\n",
      "Get Data for : GDP\n",
      "[*********************100%***********************]  1 of 1 completed"
     ]
    },
    {
     "name": "stderr",
     "output_type": "stream",
     "text": [
      "\n",
      "1 Failed download:\n",
      "['GDP']: Exception('%ticker%: No timezone found, symbol may be delisted')\n"
     ]
    },
    {
     "name": "stdout",
     "output_type": "stream",
     "text": [
      "\n",
      "Get Data for : GE\n",
      "[*********************100%***********************]  1 of 1 completed\n",
      "Get Data for : GEC\n",
      "[*********************100%***********************]  1 of 1 completed"
     ]
    },
    {
     "name": "stderr",
     "output_type": "stream",
     "text": [
      "\n",
      "1 Failed download:\n",
      "['GEC']: Exception('%ticker%: No timezone found, symbol may be delisted')\n"
     ]
    },
    {
     "name": "stdout",
     "output_type": "stream",
     "text": [
      "\n",
      "Get Data for : GEF\n",
      "[*********************100%***********************]  1 of 1 completed\n",
      "Get Data for : GEN\n",
      "[*********************100%***********************]  1 of 1 completed\n",
      "Get Data for : GENC\n",
      "[*********************100%***********************]  1 of 1 completed\n",
      "Get Data for : GEO\n",
      "[*********************100%***********************]  1 of 1 completed\n",
      "Get Data for : GEOS\n",
      "[*********************100%***********************]  1 of 1 completed\n",
      "Get Data for : GERN\n",
      "[*********************100%***********************]  1 of 1 completed\n",
      "Get Data for : GES\n",
      "[*********************100%***********************]  1 of 1 completed\n",
      "Get Data for : GEVO\n",
      "[*********************100%***********************]  1 of 1 completed\n",
      "Get Data for : GFED\n",
      "[*********************100%***********************]  1 of 1 completed"
     ]
    },
    {
     "name": "stderr",
     "output_type": "stream",
     "text": [
      "\n",
      "1 Failed download:\n",
      "['GFED']: Exception('%ticker%: No timezone found, symbol may be delisted')\n"
     ]
    },
    {
     "name": "stdout",
     "output_type": "stream",
     "text": [
      "\n",
      "Get Data for : GFF\n",
      "[*********************100%***********************]  1 of 1 completed\n",
      "Get Data for : GFN\n",
      "[*********************100%***********************]  1 of 1 completed"
     ]
    },
    {
     "name": "stderr",
     "output_type": "stream",
     "text": [
      "\n",
      "1 Failed download:\n",
      "['GFN']: Exception('%ticker%: No timezone found, symbol may be delisted')\n"
     ]
    },
    {
     "name": "stdout",
     "output_type": "stream",
     "text": [
      "\n",
      "Get Data for : GGG\n",
      "[*********************100%***********************]  1 of 1 completed\n",
      "Get Data for : GH\n",
      "[*********************100%***********************]  1 of 1 completed\n",
      "Get Data for : GHC\n",
      "[*********************100%***********************]  1 of 1 completed\n",
      "Get Data for : GHL\n",
      "[*********************100%***********************]  1 of 1 completed\n",
      "Get Data for : GHM\n",
      "[*********************100%***********************]  1 of 1 completed\n",
      "Get Data for : GIFI\n",
      "[*********************100%***********************]  1 of 1 completed\n",
      "Get Data for : GIII\n",
      "[*********************100%***********************]  1 of 1 completed\n",
      "Get Data for : GILD\n",
      "[*********************100%***********************]  1 of 1 completed\n",
      "Get Data for : GIS\n",
      "[*********************100%***********************]  1 of 1 completed\n",
      "Get Data for : GKOS\n",
      "[*********************100%***********************]  1 of 1 completed\n",
      "Get Data for : GLBZ\n",
      "[*********************100%***********************]  1 of 1 completed\n",
      "Get Data for : GLDD\n",
      "[*********************100%***********************]  1 of 1 completed\n",
      "Get Data for : GLIBA\n",
      "[*********************100%***********************]  1 of 1 completed"
     ]
    },
    {
     "name": "stderr",
     "output_type": "stream",
     "text": [
      "\n",
      "1 Failed download:\n",
      "['GLIBA']: Exception('%ticker%: No timezone found, symbol may be delisted')\n"
     ]
    },
    {
     "name": "stdout",
     "output_type": "stream",
     "text": [
      "\n",
      "Get Data for : GLPI\n",
      "[*********************100%***********************]  1 of 1 completed\n",
      "Get Data for : GLRE\n",
      "[*********************100%***********************]  1 of 1 completed\n",
      "Get Data for : GLT\n",
      "[*********************100%***********************]  1 of 1 completed\n",
      "Get Data for : GLUU\n",
      "[*********************100%***********************]  1 of 1 completed"
     ]
    },
    {
     "name": "stderr",
     "output_type": "stream",
     "text": [
      "\n",
      "1 Failed download:\n",
      "['GLUU']: Exception('%ticker%: No timezone found, symbol may be delisted')\n"
     ]
    },
    {
     "name": "stdout",
     "output_type": "stream",
     "text": [
      "\n",
      "Get Data for : GLW\n",
      "[*********************100%***********************]  1 of 1 completed\n",
      "Get Data for : GLYC\n",
      "[*********************100%***********************]  1 of 1 completed\n",
      "Get Data for : GM\n",
      "[*********************100%***********************]  1 of 1 completed\n",
      "Get Data for : GME\n",
      "[*********************100%***********************]  1 of 1 completed\n",
      "Get Data for : GMED\n",
      "[*********************100%***********************]  1 of 1 completed\n",
      "Get Data for : GMO\n",
      "[*********************100%***********************]  1 of 1 completed"
     ]
    },
    {
     "name": "stderr",
     "output_type": "stream",
     "text": [
      "\n",
      "1 Failed download:\n",
      "['GMO']: Exception('%ticker%: No timezone found, symbol may be delisted')\n"
     ]
    },
    {
     "name": "stdout",
     "output_type": "stream",
     "text": [
      "\n",
      "Get Data for : GMRE\n",
      "[*********************100%***********************]  1 of 1 completed\n",
      "Get Data for : GMS\n",
      "[*********************100%***********************]  1 of 1 completed\n",
      "Get Data for : GNC\n",
      "[*********************100%***********************]  1 of 1 completed"
     ]
    },
    {
     "name": "stderr",
     "output_type": "stream",
     "text": [
      "\n",
      "1 Failed download:\n",
      "['GNC']: Exception('%ticker%: No timezone found, symbol may be delisted')\n"
     ]
    },
    {
     "name": "stdout",
     "output_type": "stream",
     "text": [
      "\n",
      "Get Data for : GNCA\n",
      "[*********************100%***********************]  1 of 1 completed"
     ]
    },
    {
     "name": "stderr",
     "output_type": "stream",
     "text": [
      "\n",
      "1 Failed download:\n",
      "['GNCA']: Exception('%ticker%: No timezone found, symbol may be delisted')\n"
     ]
    },
    {
     "name": "stdout",
     "output_type": "stream",
     "text": [
      "\n",
      "Get Data for : GNE\n",
      "[*********************100%***********************]  1 of 1 completed\n",
      "Get Data for : GNK\n",
      "[*********************100%***********************]  1 of 1 completed\n",
      "Get Data for : GNL\n",
      "[*********************100%***********************]  1 of 1 completed\n",
      "Get Data for : GNMK\n",
      "[*********************100%***********************]  1 of 1 completed"
     ]
    },
    {
     "name": "stderr",
     "output_type": "stream",
     "text": [
      "\n",
      "1 Failed download:\n",
      "['GNMK']: Exception('%ticker%: No timezone found, symbol may be delisted')\n"
     ]
    },
    {
     "name": "stdout",
     "output_type": "stream",
     "text": [
      "\n",
      "Get Data for : GNRC\n",
      "[*********************100%***********************]  1 of 1 completed\n",
      "Get Data for : GNTX\n",
      "[*********************100%***********************]  1 of 1 completed\n",
      "Get Data for : GNTY\n",
      "[*********************100%***********************]  1 of 1 completed\n",
      "Get Data for : GNW\n",
      "[*********************100%***********************]  1 of 1 completed\n",
      "Get Data for : GOGO\n",
      "[*********************100%***********************]  1 of 1 completed\n",
      "Get Data for : GOLF\n",
      "[*********************100%***********************]  1 of 1 completed\n",
      "Get Data for : GOOD\n",
      "[*********************100%***********************]  1 of 1 completed\n",
      "Get Data for : GOOG\n",
      "[*********************100%***********************]  1 of 1 completed\n",
      "Get Data for : GOOGL\n",
      "[*********************100%***********************]  1 of 1 completed\n",
      "Get Data for : GORO\n",
      "[*********************100%***********************]  1 of 1 completed\n",
      "Get Data for : GOSS\n",
      "[*********************100%***********************]  1 of 1 completed\n",
      "Get Data for : GPC\n",
      "[*********************100%***********************]  1 of 1 completed\n",
      "Get Data for : GPI\n",
      "[*********************100%***********************]  1 of 1 completed\n",
      "Get Data for : GPK\n",
      "[*********************100%***********************]  1 of 1 completed\n",
      "Get Data for : GPMT\n",
      "[*********************100%***********************]  1 of 1 completed\n",
      "Get Data for : GPN\n",
      "[*********************100%***********************]  1 of 1 completed\n",
      "Get Data for : GPOR\n",
      "[*********************100%***********************]  1 of 1 completed\n",
      "Get Data for : GPRE\n",
      "[*********************100%***********************]  1 of 1 completed\n",
      "Get Data for : GPRO\n",
      "[*********************100%***********************]  1 of 1 completed\n",
      "Get Data for : GPS\n",
      "[*********************100%***********************]  1 of 1 completed\n",
      "Get Data for : GPX\n",
      "[*********************100%***********************]  1 of 1 completed"
     ]
    },
    {
     "name": "stderr",
     "output_type": "stream",
     "text": [
      "\n",
      "1 Failed download:\n",
      "['GPX']: Exception('%ticker%: No timezone found, symbol may be delisted')\n"
     ]
    },
    {
     "name": "stdout",
     "output_type": "stream",
     "text": [
      "\n",
      "Get Data for : GRA\n",
      "[*********************100%***********************]  1 of 1 completed"
     ]
    },
    {
     "name": "stderr",
     "output_type": "stream",
     "text": [
      "\n",
      "1 Failed download:\n",
      "['GRA']: Exception('%ticker%: No timezone found, symbol may be delisted')\n"
     ]
    },
    {
     "name": "stdout",
     "output_type": "stream",
     "text": [
      "\n",
      "Get Data for : GRBK\n",
      "[*********************100%***********************]  1 of 1 completed\n",
      "Get Data for : GRC\n",
      "[*********************100%***********************]  1 of 1 completed\n",
      "Get Data for : GRIF\n",
      "[*********************100%***********************]  1 of 1 completed"
     ]
    },
    {
     "name": "stderr",
     "output_type": "stream",
     "text": [
      "\n",
      "1 Failed download:\n",
      "['GRIF']: Exception('%ticker%: No timezone found, symbol may be delisted')\n"
     ]
    },
    {
     "name": "stdout",
     "output_type": "stream",
     "text": [
      "\n",
      "Get Data for : GRMN\n",
      "[*********************100%***********************]  1 of 1 completed\n",
      "Get Data for : GROW\n",
      "[*********************100%***********************]  1 of 1 completed\n",
      "Get Data for : GRPN\n",
      "[*********************100%***********************]  1 of 1 completed\n",
      "Get Data for : GRTS\n",
      "[*********************100%***********************]  1 of 1 completed\n",
      "Get Data for : GRUB\n",
      "[*********************100%***********************]  1 of 1 completed"
     ]
    },
    {
     "name": "stderr",
     "output_type": "stream",
     "text": [
      "\n",
      "1 Failed download:\n",
      "['GRUB']: Exception('%ticker%: No timezone found, symbol may be delisted')\n"
     ]
    },
    {
     "name": "stdout",
     "output_type": "stream",
     "text": [
      "\n",
      "Get Data for : GS\n",
      "[*********************100%***********************]  1 of 1 completed\n",
      "Get Data for : GSAT\n",
      "[*********************100%***********************]  1 of 1 completed\n",
      "Get Data for : GSB\n",
      "[*********************100%***********************]  1 of 1 completed"
     ]
    },
    {
     "name": "stderr",
     "output_type": "stream",
     "text": [
      "\n",
      "1 Failed download:\n",
      "['GSB']: Exception('%ticker%: No timezone found, symbol may be delisted')\n"
     ]
    },
    {
     "name": "stdout",
     "output_type": "stream",
     "text": [
      "\n",
      "Get Data for : GSBC\n",
      "[*********************100%***********************]  1 of 1 completed\n",
      "Get Data for : GSHD\n",
      "[*********************100%***********************]  1 of 1 completed\n",
      "Get Data for : GSIT\n",
      "[*********************100%***********************]  1 of 1 completed\n",
      "Get Data for : GSKY\n",
      "[*********************100%***********************]  1 of 1 completed\n",
      "Get Data for : GT\n",
      "[*********************100%***********************]  1 of 1 completed\n",
      "Get Data for : GTES\n",
      "[*********************100%***********************]  1 of 1 completed\n",
      "Get Data for : GTHX\n",
      "[*********************100%***********************]  1 of 1 completed\n",
      "Get Data for : GTIM\n",
      "[*********************100%***********************]  1 of 1 completed\n",
      "Get Data for : GTLS\n",
      "[*********************100%***********************]  1 of 1 completed\n",
      "Get Data for : GTN\n",
      "[*********************100%***********************]  1 of 1 completed\n",
      "Get Data for : GTS\n",
      "[*********************100%***********************]  1 of 1 completed"
     ]
    },
    {
     "name": "stderr",
     "output_type": "stream",
     "text": [
      "\n",
      "1 Failed download:\n",
      "['GTS']: Exception('%ticker%: No timezone found, symbol may be delisted')\n"
     ]
    },
    {
     "name": "stdout",
     "output_type": "stream",
     "text": [
      "\n",
      "Get Data for : GTT\n",
      "[*********************100%***********************]  1 of 1 completed"
     ]
    },
    {
     "name": "stderr",
     "output_type": "stream",
     "text": [
      "\n",
      "1 Failed download:\n",
      "['GTT']: Exception('%ticker%: No timezone found, symbol may be delisted')\n"
     ]
    },
    {
     "name": "stdout",
     "output_type": "stream",
     "text": [
      "\n",
      "Get Data for : GTX\n",
      "[*********************100%***********************]  1 of 1 completed\n",
      "Get Data for : GTY\n",
      "[*********************100%***********************]  1 of 1 completed\n",
      "Get Data for : GTYH\n",
      "[*********************100%***********************]  1 of 1 completed"
     ]
    },
    {
     "name": "stderr",
     "output_type": "stream",
     "text": [
      "\n",
      "1 Failed download:\n",
      "['GTYH']: Exception('%ticker%: No timezone found, symbol may be delisted')\n"
     ]
    },
    {
     "name": "stdout",
     "output_type": "stream",
     "text": [
      "\n",
      "Get Data for : GV\n",
      "[*********************100%***********************]  1 of 1 completed"
     ]
    },
    {
     "name": "stderr",
     "output_type": "stream",
     "text": [
      "\n",
      "1 Failed download:\n",
      "['GV']: Exception('%ticker%: No timezone found, symbol may be delisted')\n"
     ]
    },
    {
     "name": "stdout",
     "output_type": "stream",
     "text": [
      "\n",
      "Get Data for : GVA\n",
      "[*********************100%***********************]  1 of 1 completed\n",
      "Get Data for : GVP\n",
      "[*********************100%***********************]  1 of 1 completed\n",
      "Get Data for : GWB\n",
      "[*********************100%***********************]  1 of 1 completed"
     ]
    },
    {
     "name": "stderr",
     "output_type": "stream",
     "text": [
      "\n",
      "1 Failed download:\n",
      "['GWB']: Exception('%ticker%: No timezone found, symbol may be delisted')\n"
     ]
    },
    {
     "name": "stdout",
     "output_type": "stream",
     "text": [
      "\n",
      "Get Data for : GWGH\n",
      "[*********************100%***********************]  1 of 1 completed"
     ]
    },
    {
     "name": "stderr",
     "output_type": "stream",
     "text": [
      "\n",
      "1 Failed download:\n",
      "['GWGH']: Exception('%ticker%: No timezone found, symbol may be delisted')\n"
     ]
    },
    {
     "name": "stdout",
     "output_type": "stream",
     "text": [
      "\n",
      "Get Data for : GWRE\n",
      "[*********************100%***********************]  1 of 1 completed\n",
      "Get Data for : GWRS\n",
      "[*********************100%***********************]  1 of 1 completed\n",
      "Get Data for : GWW\n",
      "[*********************100%***********************]  1 of 1 completed\n",
      "Get Data for : H\n",
      "[*********************100%***********************]  1 of 1 completed\n",
      "Get Data for : HA\n",
      "[*********************100%***********************]  1 of 1 completed\n",
      "Get Data for : HAE\n",
      "[*********************100%***********************]  1 of 1 completed\n",
      "Get Data for : HAFC\n",
      "[*********************100%***********************]  1 of 1 completed\n",
      "Get Data for : HAIN\n",
      "[*********************100%***********************]  1 of 1 completed\n",
      "Get Data for : HAL\n",
      "[*********************100%***********************]  1 of 1 completed\n",
      "Get Data for : HALL\n",
      "[*********************100%***********************]  1 of 1 completed\n",
      "Get Data for : HALO\n",
      "[*********************100%***********************]  1 of 1 completed\n",
      "Get Data for : HAS\n",
      "[*********************100%***********************]  1 of 1 completed\n",
      "Get Data for : HASI\n",
      "[*********************100%***********************]  1 of 1 completed\n",
      "Get Data for : HAYN\n",
      "[*********************100%***********************]  1 of 1 completed\n",
      "Get Data for : HBAN\n",
      "[*********************100%***********************]  1 of 1 completed\n",
      "Get Data for : HBB\n",
      "[*********************100%***********************]  1 of 1 completed\n",
      "Get Data for : HBCP\n",
      "[*********************100%***********************]  1 of 1 completed\n",
      "Get Data for : HBI\n",
      "[*********************100%***********************]  1 of 1 completed\n",
      "Get Data for : HBIO\n",
      "[*********************100%***********************]  1 of 1 completed\n",
      "Get Data for : HBMD\n",
      "[*********************100%***********************]  1 of 1 completed"
     ]
    },
    {
     "name": "stderr",
     "output_type": "stream",
     "text": [
      "\n",
      "1 Failed download:\n",
      "['HBMD']: Exception('%ticker%: No timezone found, symbol may be delisted')\n"
     ]
    },
    {
     "name": "stdout",
     "output_type": "stream",
     "text": [
      "\n",
      "Get Data for : HBNC\n",
      "[*********************100%***********************]  1 of 1 completed\n",
      "Get Data for : HBP\n",
      "[*********************100%***********************]  1 of 1 completed"
     ]
    },
    {
     "name": "stderr",
     "output_type": "stream",
     "text": [
      "\n",
      "1 Failed download:\n",
      "['HBP']: Exception('%ticker%: No timezone found, symbol may be delisted')\n"
     ]
    },
    {
     "name": "stdout",
     "output_type": "stream",
     "text": [
      "\n",
      "Get Data for : HCA\n",
      "[*********************100%***********************]  1 of 1 completed\n",
      "Get Data for : HCC\n",
      "[*********************100%***********************]  1 of 1 completed\n",
      "Get Data for : HCCI\n",
      "[*********************100%***********************]  1 of 1 completed\n",
      "Get Data for : HCFT\n",
      "[*********************100%***********************]  1 of 1 completed"
     ]
    },
    {
     "name": "stderr",
     "output_type": "stream",
     "text": [
      "\n",
      "1 Failed download:\n",
      "['HCFT']: Exception('%ticker%: No timezone found, symbol may be delisted')\n"
     ]
    },
    {
     "name": "stdout",
     "output_type": "stream",
     "text": [
      "\n",
      "Get Data for : HCHC\n",
      "[*********************100%***********************]  1 of 1 completed"
     ]
    },
    {
     "name": "stderr",
     "output_type": "stream",
     "text": [
      "\n",
      "1 Failed download:\n",
      "['HCHC']: Exception('%ticker%: No timezone found, symbol may be delisted')\n"
     ]
    },
    {
     "name": "stdout",
     "output_type": "stream",
     "text": [
      "\n",
      "Get Data for : HCI\n",
      "[*********************100%***********************]  1 of 1 completed\n",
      "Get Data for : HCKT\n",
      "[*********************100%***********************]  1 of 1 completed\n",
      "Get Data for : HCSG\n",
      "[*********************100%***********************]  1 of 1 completed\n",
      "Get Data for : HD\n",
      "[*********************100%***********************]  1 of 1 completed\n",
      "Get Data for : HDS\n",
      "[*********************100%***********************]  1 of 1 completed"
     ]
    },
    {
     "name": "stderr",
     "output_type": "stream",
     "text": [
      "\n",
      "1 Failed download:\n",
      "['HDS']: Exception('%ticker%: No timezone found, symbol may be delisted')\n"
     ]
    },
    {
     "name": "stdout",
     "output_type": "stream",
     "text": [
      "\n",
      "Get Data for : HDSN\n",
      "[*********************100%***********************]  1 of 1 completed\n",
      "Get Data for : HE\n",
      "[*********************100%***********************]  1 of 1 completed\n",
      "Get Data for : HEAR\n",
      "[*********************100%***********************]  1 of 1 completed\n",
      "Get Data for : HEES\n",
      "[*********************100%***********************]  1 of 1 completed\n",
      "Get Data for : HEI\n",
      "[*********************100%***********************]  1 of 1 completed\n",
      "Get Data for : HELE\n",
      "[*********************100%***********************]  1 of 1 completed\n",
      "Get Data for : HES\n",
      "[*********************100%***********************]  1 of 1 completed\n",
      "Get Data for : HFBL\n",
      "[*********************100%***********************]  1 of 1 completed\n",
      "Get Data for : HFC\n",
      "[*********************100%***********************]  1 of 1 completed"
     ]
    },
    {
     "name": "stderr",
     "output_type": "stream",
     "text": [
      "\n",
      "1 Failed download:\n",
      "['HFC']: Exception('%ticker%: No timezone found, symbol may be delisted')\n"
     ]
    },
    {
     "name": "stdout",
     "output_type": "stream",
     "text": [
      "\n",
      "Get Data for : HFWA\n",
      "[*********************100%***********************]  1 of 1 completed\n",
      "Get Data for : HGV\n",
      "[*********************100%***********************]  1 of 1 completed\n",
      "Get Data for : HHC\n",
      "[*********************100%***********************]  1 of 1 completed\n",
      "Get Data for : HHS\n",
      "[*********************100%***********************]  1 of 1 completed\n",
      "Get Data for : HI\n",
      "[*********************100%***********************]  1 of 1 completed\n",
      "Get Data for : HIBB\n",
      "[*********************100%***********************]  1 of 1 completed\n",
      "Get Data for : HIFS\n",
      "[*********************100%***********************]  1 of 1 completed\n",
      "Get Data for : HIG\n",
      "[*********************100%***********************]  1 of 1 completed\n",
      "Get Data for : HII\n",
      "[*********************100%***********************]  1 of 1 completed\n",
      "Get Data for : HIL\n",
      "[*********************100%***********************]  1 of 1 completed"
     ]
    },
    {
     "name": "stderr",
     "output_type": "stream",
     "text": [
      "\n",
      "1 Failed download:\n",
      "['HIL']: Exception('%ticker%: No timezone found, symbol may be delisted')\n"
     ]
    },
    {
     "name": "stdout",
     "output_type": "stream",
     "text": [
      "\n",
      "Get Data for : HIW\n",
      "[*********************100%***********************]  1 of 1 completed\n",
      "Get Data for : HL\n",
      "[*********************100%***********************]  1 of 1 completed\n",
      "Get Data for : HLF\n",
      "[*********************100%***********************]  1 of 1 completed\n",
      "Get Data for : HLI\n",
      "[*********************100%***********************]  1 of 1 completed\n",
      "Get Data for : HLIT\n",
      "[*********************100%***********************]  1 of 1 completed\n",
      "Get Data for : HLNE\n",
      "[*********************100%***********************]  1 of 1 completed\n",
      "Get Data for : HLT\n",
      "[*********************100%***********************]  1 of 1 completed\n",
      "Get Data for : HLX\n",
      "[*********************100%***********************]  1 of 1 completed\n",
      "Get Data for : HMHC\n",
      "[*********************100%***********************]  1 of 1 completed"
     ]
    },
    {
     "name": "stderr",
     "output_type": "stream",
     "text": [
      "\n",
      "1 Failed download:\n",
      "['HMHC']: Exception('%ticker%: No timezone found, symbol may be delisted')\n"
     ]
    },
    {
     "name": "stdout",
     "output_type": "stream",
     "text": [
      "\n",
      "Get Data for : HMN\n",
      "[*********************100%***********************]  1 of 1 completed\n",
      "Get Data for : HMNF\n",
      "[*********************100%***********************]  1 of 1 completed\n",
      "Get Data for : HMST\n",
      "[*********************100%***********************]  1 of 1 completed\n",
      "Get Data for : HMSY\n",
      "[*********************100%***********************]  1 of 1 completed"
     ]
    },
    {
     "name": "stderr",
     "output_type": "stream",
     "text": [
      "\n",
      "1 Failed download:\n",
      "['HMSY']: Exception('%ticker%: No timezone found, symbol may be delisted')\n"
     ]
    },
    {
     "name": "stdout",
     "output_type": "stream",
     "text": [
      "\n",
      "Get Data for : HMTV\n",
      "[*********************100%***********************]  1 of 1 completed"
     ]
    },
    {
     "name": "stderr",
     "output_type": "stream",
     "text": [
      "\n",
      "1 Failed download:\n",
      "['HMTV']: Exception('%ticker%: No timezone found, symbol may be delisted')\n"
     ]
    },
    {
     "name": "stdout",
     "output_type": "stream",
     "text": [
      "\n",
      "Get Data for : HNI\n",
      "[*********************100%***********************]  1 of 1 completed\n",
      "Get Data for : HNRG\n",
      "[*********************100%***********************]  1 of 1 completed\n",
      "Get Data for : HOFT\n",
      "[*********************100%***********************]  1 of 1 completed\n",
      "Get Data for : HOG\n",
      "[*********************100%***********************]  1 of 1 completed\n",
      "Get Data for : HOLX\n",
      "[*********************100%***********************]  1 of 1 completed\n",
      "Get Data for : HOMB\n",
      "[*********************100%***********************]  1 of 1 completed\n",
      "Get Data for : HOME\n",
      "[*********************100%***********************]  1 of 1 completed"
     ]
    },
    {
     "name": "stderr",
     "output_type": "stream",
     "text": [
      "\n",
      "1 Failed download:\n",
      "['HOME']: Exception('%ticker%: No timezone found, symbol may be delisted')\n"
     ]
    },
    {
     "name": "stdout",
     "output_type": "stream",
     "text": [
      "\n",
      "Get Data for : HON\n",
      "[*********************100%***********************]  1 of 1 completed\n",
      "Get Data for : HONE\n",
      "[*********************100%***********************]  1 of 1 completed\n",
      "Get Data for : HOPE\n",
      "[*********************100%***********************]  1 of 1 completed\n",
      "Get Data for : HOV\n",
      "[*********************100%***********************]  1 of 1 completed\n",
      "Get Data for : HP\n",
      "[*********************100%***********************]  1 of 1 completed\n",
      "Get Data for : HPE\n",
      "[*********************100%***********************]  1 of 1 completed\n",
      "Get Data for : HPP\n",
      "[*********************100%***********************]  1 of 1 completed\n",
      "Get Data for : HPQ\n",
      "[*********************100%***********************]  1 of 1 completed\n",
      "Get Data for : HPR\n",
      "[*********************100%***********************]  1 of 1 completed"
     ]
    },
    {
     "name": "stderr",
     "output_type": "stream",
     "text": [
      "\n",
      "1 Failed download:\n",
      "['HPR']: Exception('%ticker%: No timezone found, symbol may be delisted')\n"
     ]
    },
    {
     "name": "stdout",
     "output_type": "stream",
     "text": [
      "\n",
      "Get Data for : HQY\n",
      "[*********************100%***********************]  1 of 1 completed\n",
      "Get Data for : HR\n",
      "[*********************100%***********************]  1 of 1 completed\n",
      "Get Data for : HRB\n",
      "[*********************100%***********************]  1 of 1 completed\n",
      "Get Data for : HRC\n",
      "[*********************100%***********************]  1 of 1 completed"
     ]
    },
    {
     "name": "stderr",
     "output_type": "stream",
     "text": [
      "\n",
      "1 Failed download:\n",
      "['HRC']: Exception('%ticker%: No timezone found, symbol may be delisted')\n"
     ]
    },
    {
     "name": "stdout",
     "output_type": "stream",
     "text": [
      "\n",
      "Get Data for : HRI\n",
      "[*********************100%***********************]  1 of 1 completed\n",
      "Get Data for : HRL\n",
      "[*********************100%***********************]  1 of 1 completed\n",
      "Get Data for : HROW\n",
      "[*********************100%***********************]  1 of 1 completed\n",
      "Get Data for : HRTG\n",
      "[*********************100%***********************]  1 of 1 completed\n",
      "Get Data for : HRTX\n",
      "[*********************100%***********************]  1 of 1 completed\n",
      "Get Data for : HSC\n",
      "[*********************100%***********************]  1 of 1 completed\n",
      "Get Data for : HSIC\n",
      "[*********************100%***********************]  1 of 1 completed\n",
      "Get Data for : HSII\n",
      "[*********************100%***********************]  1 of 1 completed\n",
      "Get Data for : HSKA\n",
      "[*********************100%***********************]  1 of 1 completed\n",
      "Get Data for : HSON\n",
      "[*********************100%***********************]  1 of 1 completed\n",
      "Get Data for : HST\n",
      "[*********************100%***********************]  1 of 1 completed\n",
      "Get Data for : HSTM\n",
      "[*********************100%***********************]  1 of 1 completed\n",
      "Get Data for : HSY\n",
      "[*********************100%***********************]  1 of 1 completed\n",
      "Get Data for : HT\n",
      "[*********************100%***********************]  1 of 1 completed\n",
      "Get Data for : HTA\n",
      "[*********************100%***********************]  1 of 1 completed"
     ]
    },
    {
     "name": "stderr",
     "output_type": "stream",
     "text": [
      "\n",
      "1 Failed download:\n",
      "['HTA']: Exception('%ticker%: No timezone found, symbol may be delisted')\n"
     ]
    },
    {
     "name": "stdout",
     "output_type": "stream",
     "text": [
      "\n",
      "Get Data for : HTBI\n",
      "[*********************100%***********************]  1 of 1 completed\n",
      "Get Data for : HTBK\n",
      "[*********************100%***********************]  1 of 1 completed\n",
      "Get Data for : HTBX\n",
      "[*********************100%***********************]  1 of 1 completed"
     ]
    },
    {
     "name": "stderr",
     "output_type": "stream",
     "text": [
      "\n",
      "1 Failed download:\n",
      "['HTBX']: Exception('%ticker%: No timezone found, symbol may be delisted')\n"
     ]
    },
    {
     "name": "stdout",
     "output_type": "stream",
     "text": [
      "\n",
      "Get Data for : HTGM\n",
      "[*********************100%***********************]  1 of 1 completed\n",
      "Get Data for : HTH\n",
      "[*********************100%***********************]  1 of 1 completed\n",
      "Get Data for : HTLD\n",
      "[*********************100%***********************]  1 of 1 completed\n",
      "Get Data for : HTLF\n",
      "[*********************100%***********************]  1 of 1 completed\n",
      "Get Data for : HUBB\n",
      "[*********************100%***********************]  1 of 1 completed\n",
      "Get Data for : HUBG\n",
      "[*********************100%***********************]  1 of 1 completed\n",
      "Get Data for : HUBS\n",
      "[*********************100%***********************]  1 of 1 completed\n",
      "Get Data for : HUM\n",
      "[*********************100%***********************]  1 of 1 completed\n",
      "Get Data for : HUN\n",
      "[*********************100%***********************]  1 of 1 completed\n",
      "Get Data for : HURC\n",
      "[*********************100%***********************]  1 of 1 completed\n",
      "Get Data for : HURN\n",
      "[*********************100%***********************]  1 of 1 completed\n",
      "Get Data for : HUSA\n",
      "[*********************100%***********************]  1 of 1 completed\n",
      "Get Data for : HVT\n",
      "[*********************100%***********************]  1 of 1 completed\n",
      "Get Data for : HWBK\n",
      "[*********************100%***********************]  1 of 1 completed\n",
      "Get Data for : HWC\n",
      "[*********************100%***********************]  1 of 1 completed\n",
      "Get Data for : HWCC\n",
      "[*********************100%***********************]  1 of 1 completed"
     ]
    },
    {
     "name": "stderr",
     "output_type": "stream",
     "text": [
      "\n",
      "1 Failed download:\n",
      "['HWCC']: Exception('%ticker%: No timezone found, symbol may be delisted')\n"
     ]
    },
    {
     "name": "stdout",
     "output_type": "stream",
     "text": [
      "\n",
      "Get Data for : HWKN\n",
      "[*********************100%***********************]  1 of 1 completed\n",
      "Get Data for : HXL\n",
      "[*********************100%***********************]  1 of 1 completed\n",
      "Get Data for : HY\n",
      "[*********************100%***********************]  1 of 1 completed\n",
      "Get Data for : HZN\n",
      "[*********************100%***********************]  1 of 1 completed"
     ]
    },
    {
     "name": "stderr",
     "output_type": "stream",
     "text": [
      "\n",
      "1 Failed download:\n",
      "['HZN']: Exception('%ticker%: No timezone found, symbol may be delisted')\n"
     ]
    },
    {
     "name": "stdout",
     "output_type": "stream",
     "text": [
      "\n",
      "Get Data for : HZNP\n",
      "[*********************100%***********************]  1 of 1 completed\n",
      "Get Data for : HZO\n",
      "[*********************100%***********************]  1 of 1 completed\n",
      "Get Data for : IAC\n",
      "[*********************100%***********************]  1 of 1 completed\n",
      "Get Data for : IART\n",
      "[*********************100%***********************]  1 of 1 completed\n",
      "Get Data for : IBCP\n",
      "[*********************100%***********************]  1 of 1 completed\n",
      "Get Data for : IBIO\n",
      "[*********************100%***********************]  1 of 1 completed\n",
      "Get Data for : IBKC\n",
      "[*********************100%***********************]  1 of 1 completed"
     ]
    },
    {
     "name": "stderr",
     "output_type": "stream",
     "text": [
      "\n",
      "1 Failed download:\n",
      "['IBKC']: Exception('%ticker%: No timezone found, symbol may be delisted')\n"
     ]
    },
    {
     "name": "stdout",
     "output_type": "stream",
     "text": [
      "\n",
      "Get Data for : IBKR\n",
      "[*********************100%***********************]  1 of 1 completed\n",
      "Get Data for : IBM\n",
      "[*********************100%***********************]  1 of 1 completed\n",
      "Get Data for : IBOC\n",
      "[*********************100%***********************]  1 of 1 completed\n",
      "Get Data for : IBP\n",
      "[*********************100%***********************]  1 of 1 completed\n",
      "Get Data for : IBTX\n",
      "[*********************100%***********************]  1 of 1 completed\n",
      "Get Data for : ICAD\n",
      "[*********************100%***********************]  1 of 1 completed\n",
      "Get Data for : ICBK\n",
      "[*********************100%***********************]  1 of 1 completed"
     ]
    },
    {
     "name": "stderr",
     "output_type": "stream",
     "text": [
      "\n",
      "1 Failed download:\n",
      "['ICBK']: Exception('%ticker%: No timezone found, symbol may be delisted')\n"
     ]
    },
    {
     "name": "stdout",
     "output_type": "stream",
     "text": [
      "\n",
      "Get Data for : ICCC\n",
      "[*********************100%***********************]  1 of 1 completed\n",
      "Get Data for : ICD\n",
      "[*********************100%***********************]  1 of 1 completed\n",
      "Get Data for : ICE\n",
      "[*********************100%***********************]  1 of 1 completed\n",
      "Get Data for : ICFI\n",
      "[*********************100%***********************]  1 of 1 completed\n",
      "Get Data for : ICHR\n",
      "[*********************100%***********************]  1 of 1 completed\n",
      "Get Data for : ICON\n",
      "[*********************100%***********************]  1 of 1 completed"
     ]
    },
    {
     "name": "stderr",
     "output_type": "stream",
     "text": [
      "\n",
      "1 Failed download:\n",
      "['ICON']: Exception('%ticker%: No timezone found, symbol may be delisted')\n"
     ]
    },
    {
     "name": "stdout",
     "output_type": "stream",
     "text": [
      "\n",
      "Get Data for : ICPT\n",
      "[*********************100%***********************]  1 of 1 completed\n",
      "Get Data for : ICUI\n",
      "[*********************100%***********************]  1 of 1 completed\n",
      "Get Data for : IDA\n",
      "[*********************100%***********************]  1 of 1 completed\n",
      "Get Data for : IDCC\n",
      "[*********************100%***********************]  1 of 1 completed\n",
      "Get Data for : IDN\n",
      "[*********************100%***********************]  1 of 1 completed\n",
      "Get Data for : IDRA\n",
      "[*********************100%***********************]  1 of 1 completed"
     ]
    },
    {
     "name": "stderr",
     "output_type": "stream",
     "text": [
      "\n",
      "1 Failed download:\n",
      "['IDRA']: Exception('%ticker%: No timezone found, symbol may be delisted')\n"
     ]
    },
    {
     "name": "stdout",
     "output_type": "stream",
     "text": [
      "\n",
      "Get Data for : IDT\n",
      "[*********************100%***********************]  1 of 1 completed\n",
      "Get Data for : IDXG\n",
      "[*********************100%***********************]  1 of 1 completed\n",
      "Get Data for : IDXX\n",
      "[*********************100%***********************]  1 of 1 completed\n",
      "Get Data for : IEC\n",
      "[*********************100%***********************]  1 of 1 completed"
     ]
    },
    {
     "name": "stderr",
     "output_type": "stream",
     "text": [
      "\n",
      "1 Failed download:\n",
      "['IEC']: Exception('%ticker%: No timezone found, symbol may be delisted')\n"
     ]
    },
    {
     "name": "stdout",
     "output_type": "stream",
     "text": [
      "\n",
      "Get Data for : IESC\n",
      "[*********************100%***********************]  1 of 1 completed\n",
      "Get Data for : IEX\n",
      "[*********************100%***********************]  1 of 1 completed\n",
      "Get Data for : IFF\n",
      "[*********************100%***********************]  1 of 1 completed\n",
      "Get Data for : IHC\n",
      "[*********************100%***********************]  1 of 1 completed"
     ]
    },
    {
     "name": "stderr",
     "output_type": "stream",
     "text": [
      "\n",
      "1 Failed download:\n",
      "['IHC']: Exception('%ticker%: No timezone found, symbol may be delisted')\n"
     ]
    },
    {
     "name": "stdout",
     "output_type": "stream",
     "text": [
      "\n",
      "Get Data for : III\n",
      "[*********************100%***********************]  1 of 1 completed\n",
      "Get Data for : IIIN\n",
      "[*********************100%***********************]  1 of 1 completed\n",
      "Get Data for : IIIV\n",
      "[*********************100%***********************]  1 of 1 completed\n",
      "Get Data for : IIN\n",
      "[*********************100%***********************]  1 of 1 completed"
     ]
    },
    {
     "name": "stderr",
     "output_type": "stream",
     "text": [
      "\n",
      "1 Failed download:\n",
      "['IIN']: Exception('%ticker%: No timezone found, symbol may be delisted')\n"
     ]
    },
    {
     "name": "stdout",
     "output_type": "stream",
     "text": [
      "\n",
      "Get Data for : IIPR\n",
      "[*********************100%***********************]  1 of 1 completed\n",
      "Get Data for : IIVI\n",
      "[*********************100%***********************]  1 of 1 completed\n",
      "Get Data for : IKNX\n",
      "[*********************100%***********************]  1 of 1 completed"
     ]
    },
    {
     "name": "stderr",
     "output_type": "stream",
     "text": [
      "\n",
      "1 Failed download:\n",
      "['IKNX']: Exception('%ticker%: No timezone found, symbol may be delisted')\n"
     ]
    },
    {
     "name": "stdout",
     "output_type": "stream",
     "text": [
      "\n",
      "Get Data for : ILMN\n",
      "[*********************100%***********************]  1 of 1 completed\n",
      "Get Data for : ILPT\n",
      "[*********************100%***********************]  1 of 1 completed\n",
      "Get Data for : IMGN\n",
      "[*********************100%***********************]  1 of 1 completed\n",
      "Get Data for : IMH\n",
      "[*********************100%***********************]  1 of 1 completed"
     ]
    },
    {
     "name": "stderr",
     "output_type": "stream",
     "text": [
      "\n",
      "1 Failed download:\n",
      "['IMH']: Exception('%ticker%: No timezone found, symbol may be delisted')\n"
     ]
    },
    {
     "name": "stdout",
     "output_type": "stream",
     "text": [
      "\n",
      "Get Data for : IMKTA\n",
      "[*********************100%***********************]  1 of 1 completed\n",
      "Get Data for : IMMR\n",
      "[*********************100%***********************]  1 of 1 completed\n",
      "Get Data for : IMMU\n",
      "[*********************100%***********************]  1 of 1 completed"
     ]
    },
    {
     "name": "stderr",
     "output_type": "stream",
     "text": [
      "\n",
      "1 Failed download:\n",
      "['IMMU']: Exception('%ticker%: No timezone found, symbol may be delisted')\n"
     ]
    },
    {
     "name": "stdout",
     "output_type": "stream",
     "text": [
      "\n",
      "Get Data for : IMXI\n",
      "[*********************100%***********************]  1 of 1 completed\n",
      "Get Data for : INBK\n",
      "[*********************100%***********************]  1 of 1 completed\n",
      "Get Data for : INCY\n",
      "[*********************100%***********************]  1 of 1 completed\n",
      "Get Data for : INDB\n",
      "[*********************100%***********************]  1 of 1 completed\n",
      "Get Data for : INFI\n",
      "[*********************100%***********************]  1 of 1 completed\n",
      "Get Data for : INFN\n",
      "[*********************100%***********************]  1 of 1 completed\n",
      "Get Data for : INFO\n",
      "[*********************100%***********************]  1 of 1 completed"
     ]
    },
    {
     "name": "stderr",
     "output_type": "stream",
     "text": [
      "\n",
      "1 Failed download:\n",
      "['INFO']: Exception('%ticker%: No timezone found, symbol may be delisted')\n"
     ]
    },
    {
     "name": "stdout",
     "output_type": "stream",
     "text": [
      "\n",
      "Get Data for : INFU\n",
      "[*********************100%***********************]  1 of 1 completed\n",
      "Get Data for : INGN\n",
      "[*********************100%***********************]  1 of 1 completed\n",
      "Get Data for : INGR\n",
      "[*********************100%***********************]  1 of 1 completed\n",
      "Get Data for : INN\n",
      "[*********************100%***********************]  1 of 1 completed\n",
      "Get Data for : INO\n",
      "[*********************100%***********************]  1 of 1 completed\n",
      "Get Data for : INOD\n",
      "[*********************100%***********************]  1 of 1 completed\n",
      "Get Data for : INOV\n",
      "[*********************100%***********************]  1 of 1 completed"
     ]
    },
    {
     "name": "stderr",
     "output_type": "stream",
     "text": [
      "\n",
      "1 Failed download:\n",
      "['INOV']: Exception('%ticker%: No timezone found, symbol may be delisted')\n"
     ]
    },
    {
     "name": "stdout",
     "output_type": "stream",
     "text": [
      "\n",
      "Get Data for : INPX\n",
      "[*********************100%***********************]  1 of 1 completed\n",
      "Get Data for : INS\n",
      "[*********************100%***********************]  1 of 1 completed"
     ]
    },
    {
     "name": "stderr",
     "output_type": "stream",
     "text": [
      "\n",
      "1 Failed download:\n",
      "['INS']: Exception('%ticker%: No timezone found, symbol may be delisted')\n"
     ]
    },
    {
     "name": "stdout",
     "output_type": "stream",
     "text": [
      "\n",
      "Get Data for : INSE\n",
      "[*********************100%***********************]  1 of 1 completed\n",
      "Get Data for : INSG\n",
      "[*********************100%***********************]  1 of 1 completed\n",
      "Get Data for : INSM\n",
      "[*********************100%***********************]  1 of 1 completed\n",
      "Get Data for : INSP\n",
      "[*********************100%***********************]  1 of 1 completed\n",
      "Get Data for : INSW\n",
      "[*********************100%***********************]  1 of 1 completed\n",
      "Get Data for : INT\n",
      "[*********************100%***********************]  1 of 1 completed\n",
      "Get Data for : INTC\n",
      "[*********************100%***********************]  1 of 1 completed\n",
      "Get Data for : INTG\n",
      "[*********************100%***********************]  1 of 1 completed\n",
      "Get Data for : INTL\n",
      "[*********************100%***********************]  1 of 1 completed"
     ]
    },
    {
     "name": "stderr",
     "output_type": "stream",
     "text": [
      "\n",
      "1 Failed download:\n",
      "['INTL']: Exception(\"%ticker%: Data doesn't exist for startDate = 1483246800, endDate = 1629345600\")\n"
     ]
    },
    {
     "name": "stdout",
     "output_type": "stream",
     "text": [
      "\n",
      "Get Data for : INTT\n",
      "[*********************100%***********************]  1 of 1 completed\n",
      "Get Data for : INTU\n",
      "[*********************100%***********************]  1 of 1 completed\n",
      "Get Data for : INUV\n",
      "[*********************100%***********************]  1 of 1 completed\n",
      "Get Data for : INVA\n",
      "[*********************100%***********************]  1 of 1 completed\n",
      "Get Data for : INVE\n",
      "[*********************100%***********************]  1 of 1 completed\n",
      "Get Data for : INVH\n",
      "[*********************100%***********************]  1 of 1 completed\n",
      "Get Data for : INWK\n",
      "[*********************100%***********************]  1 of 1 completed"
     ]
    },
    {
     "name": "stderr",
     "output_type": "stream",
     "text": [
      "\n",
      "1 Failed download:\n",
      "['INWK']: Exception('%ticker%: No timezone found, symbol may be delisted')\n"
     ]
    },
    {
     "name": "stdout",
     "output_type": "stream",
     "text": [
      "\n",
      "Get Data for : IO\n",
      "[*********************100%***********************]  1 of 1 completed"
     ]
    },
    {
     "name": "stderr",
     "output_type": "stream",
     "text": [
      "\n",
      "1 Failed download:\n",
      "['IO']: Exception('%ticker%: No timezone found, symbol may be delisted')\n"
     ]
    },
    {
     "name": "stdout",
     "output_type": "stream",
     "text": [
      "\n",
      "Get Data for : IONS\n",
      "[*********************100%***********************]  1 of 1 completed\n",
      "Get Data for : IOR\n",
      "[*********************100%***********************]  1 of 1 completed\n",
      "Get Data for : IOSP\n",
      "[*********************100%***********************]  1 of 1 completed\n",
      "Get Data for : IOTS\n",
      "[*********************100%***********************]  1 of 1 completed"
     ]
    },
    {
     "name": "stderr",
     "output_type": "stream",
     "text": [
      "\n",
      "1 Failed download:\n",
      "['IOTS']: Exception('%ticker%: No timezone found, symbol may be delisted')\n"
     ]
    },
    {
     "name": "stdout",
     "output_type": "stream",
     "text": [
      "\n",
      "Get Data for : IOVA\n",
      "[*********************100%***********************]  1 of 1 completed\n",
      "Get Data for : IP\n",
      "[*********************100%***********************]  1 of 1 completed\n",
      "Get Data for : IPAR\n",
      "[*********************100%***********************]  1 of 1 completed\n",
      "Get Data for : IPG\n",
      "[*********************100%***********************]  1 of 1 completed\n",
      "Get Data for : IPGP\n",
      "[*********************100%***********************]  1 of 1 completed\n",
      "Get Data for : IPHI\n",
      "[*********************100%***********************]  1 of 1 completed"
     ]
    },
    {
     "name": "stderr",
     "output_type": "stream",
     "text": [
      "\n",
      "1 Failed download:\n",
      "['IPHI']: Exception('%ticker%: No timezone found, symbol may be delisted')\n"
     ]
    },
    {
     "name": "stdout",
     "output_type": "stream",
     "text": [
      "\n",
      "Get Data for : IPI\n",
      "[*********************100%***********************]  1 of 1 completed\n",
      "Get Data for : IPWR\n",
      "[*********************100%***********************]  1 of 1 completed\n",
      "Get Data for : IQV\n",
      "[*********************100%***********************]  1 of 1 completed\n",
      "Get Data for : IR\n",
      "[*********************100%***********************]  1 of 1 completed\n",
      "Get Data for : IRBT\n",
      "[*********************100%***********************]  1 of 1 completed\n",
      "Get Data for : IRDM\n",
      "[*********************100%***********************]  1 of 1 completed\n",
      "Get Data for : IRET\n",
      "[*********************100%***********************]  1 of 1 completed"
     ]
    },
    {
     "name": "stderr",
     "output_type": "stream",
     "text": [
      "\n",
      "1 Failed download:\n",
      "['IRET']: Exception('%ticker%: No timezone found, symbol may be delisted')\n"
     ]
    },
    {
     "name": "stdout",
     "output_type": "stream",
     "text": [
      "\n",
      "Get Data for : IRIX\n",
      "[*********************100%***********************]  1 of 1 completed\n",
      "Get Data for : IRM\n",
      "[*********************100%***********************]  1 of 1 completed\n",
      "Get Data for : IRMD\n",
      "[*********************100%***********************]  1 of 1 completed\n",
      "Get Data for : IROQ\n",
      "[*********************100%***********************]  1 of 1 completed\n",
      "Get Data for : IRT\n",
      "[*********************100%***********************]  1 of 1 completed\n",
      "Get Data for : IRTC\n",
      "[*********************100%***********************]  1 of 1 completed\n",
      "Get Data for : IRWD\n",
      "[*********************100%***********************]  1 of 1 completed\n",
      "Get Data for : ISBC\n",
      "[*********************100%***********************]  1 of 1 completed\n",
      "Get Data for : ISDR\n",
      "[*********************100%***********************]  1 of 1 completed\n",
      "Get Data for : ISIG\n",
      "[*********************100%***********************]  1 of 1 completed\n",
      "Get Data for : ISNS\n",
      "[*********************100%***********************]  1 of 1 completed"
     ]
    },
    {
     "name": "stderr",
     "output_type": "stream",
     "text": [
      "\n",
      "1 Failed download:\n",
      "['ISNS']: Exception('%ticker%: No timezone found, symbol may be delisted')\n"
     ]
    },
    {
     "name": "stdout",
     "output_type": "stream",
     "text": [
      "\n",
      "Get Data for : ISR\n",
      "[*********************100%***********************]  1 of 1 completed"
     ]
    },
    {
     "name": "stderr",
     "output_type": "stream",
     "text": [
      "\n",
      "1 Failed download:\n",
      "['ISR']: Exception('%ticker%: No timezone found, symbol may be delisted')\n"
     ]
    },
    {
     "name": "stdout",
     "output_type": "stream",
     "text": [
      "\n",
      "Get Data for : ISRG\n",
      "[*********************100%***********************]  1 of 1 completed\n",
      "Get Data for : ISSC\n",
      "[*********************100%***********************]  1 of 1 completed\n",
      "Get Data for : ISTR\n",
      "[*********************100%***********************]  1 of 1 completed\n",
      "Get Data for : IT\n",
      "[*********************100%***********************]  1 of 1 completed\n",
      "Get Data for : ITCI\n",
      "[*********************100%***********************]  1 of 1 completed\n",
      "Get Data for : ITGR\n",
      "[*********************100%***********************]  1 of 1 completed\n",
      "Get Data for : ITI\n",
      "[*********************100%***********************]  1 of 1 completed\n",
      "Get Data for : ITIC\n",
      "[*********************100%***********************]  1 of 1 completed\n",
      "Get Data for : ITRI\n",
      "[*********************100%***********************]  1 of 1 completed\n",
      "Get Data for : ITT\n",
      "[*********************100%***********************]  1 of 1 completed\n",
      "Get Data for : ITW\n",
      "[*********************100%***********************]  1 of 1 completed\n",
      "Get Data for : IVAC\n",
      "[*********************100%***********************]  1 of 1 completed\n",
      "Get Data for : IVC\n",
      "[*********************100%***********************]  1 of 1 completed"
     ]
    },
    {
     "name": "stderr",
     "output_type": "stream",
     "text": [
      "\n",
      "1 Failed download:\n",
      "['IVC']: Exception('%ticker%: No timezone found, symbol may be delisted')\n"
     ]
    },
    {
     "name": "stdout",
     "output_type": "stream",
     "text": [
      "\n",
      "Get Data for : IVR\n",
      "[*********************100%***********************]  1 of 1 completed\n",
      "Get Data for : IVZ\n",
      "[*********************100%***********************]  1 of 1 completed\n",
      "Get Data for : IZEA\n",
      "[*********************100%***********************]  1 of 1 completed\n",
      "Get Data for : JACK\n",
      "[*********************100%***********************]  1 of 1 completed\n",
      "Get Data for : JAGX\n",
      "[*********************100%***********************]  1 of 1 completed\n",
      "Get Data for : JAKK\n",
      "[*********************100%***********************]  1 of 1 completed\n",
      "Get Data for : JASN\n",
      "[*********************100%***********************]  1 of 1 completed"
     ]
    },
    {
     "name": "stderr",
     "output_type": "stream",
     "text": [
      "\n",
      "1 Failed download:\n",
      "['JASN']: Exception('%ticker%: No timezone found, symbol may be delisted')\n"
     ]
    },
    {
     "name": "stdout",
     "output_type": "stream",
     "text": [
      "\n",
      "Get Data for : JAX\n",
      "[*********************100%***********************]  1 of 1 completed"
     ]
    },
    {
     "name": "stderr",
     "output_type": "stream",
     "text": [
      "\n",
      "1 Failed download:\n"
     ]
    },
    {
     "name": "stdout",
     "output_type": "stream",
     "text": [
      "\n"
     ]
    },
    {
     "name": "stderr",
     "output_type": "stream",
     "text": [
      "['JAX']: Exception('%ticker%: No timezone found, symbol may be delisted')\n"
     ]
    },
    {
     "name": "stdout",
     "output_type": "stream",
     "text": [
      "Get Data for : JAZZ\n",
      "[*********************100%***********************]  1 of 1 completed\n",
      "Get Data for : JBGS\n",
      "[*********************100%***********************]  1 of 1 completed\n",
      "Get Data for : JBHT\n",
      "[*********************100%***********************]  1 of 1 completed\n",
      "Get Data for : JBL\n",
      "[*********************100%***********************]  1 of 1 completed\n",
      "Get Data for : JBLU\n",
      "[*********************100%***********************]  1 of 1 completed\n",
      "Get Data for : JBSS\n",
      "[*********************100%***********************]  1 of 1 completed\n",
      "Get Data for : JBT\n",
      "[*********************100%***********************]  1 of 1 completed\n",
      "Get Data for : JCAP\n",
      "[*********************100%***********************]  1 of 1 completed"
     ]
    },
    {
     "name": "stderr",
     "output_type": "stream",
     "text": [
      "\n",
      "1 Failed download:\n",
      "['JCAP']: Exception('%ticker%: No timezone found, symbol may be delisted')\n"
     ]
    },
    {
     "name": "stdout",
     "output_type": "stream",
     "text": [
      "\n",
      "Get Data for : JCI\n",
      "[*********************100%***********************]  1 of 1 completed\n",
      "Get Data for : JCOM\n",
      "[*********************100%***********************]  1 of 1 completed"
     ]
    },
    {
     "name": "stderr",
     "output_type": "stream",
     "text": [
      "\n",
      "1 Failed download:\n",
      "['JCOM']: Exception('%ticker%: No timezone found, symbol may be delisted')\n"
     ]
    },
    {
     "name": "stdout",
     "output_type": "stream",
     "text": [
      "\n",
      "Get Data for : JCS\n",
      "[*********************100%***********************]  1 of 1 completed"
     ]
    },
    {
     "name": "stderr",
     "output_type": "stream",
     "text": [
      "\n",
      "1 Failed download:\n",
      "['JCS']: Exception('%ticker%: No timezone found, symbol may be delisted')\n"
     ]
    },
    {
     "name": "stdout",
     "output_type": "stream",
     "text": [
      "\n",
      "Get Data for : JCTCF\n",
      "[*********************100%***********************]  1 of 1 completed\n",
      "Get Data for : JEF\n",
      "[*********************100%***********************]  1 of 1 completed\n",
      "Get Data for : JELD\n",
      "[*********************100%***********************]  1 of 1 completed\n",
      "Get Data for : JHG\n",
      "[*********************100%***********************]  1 of 1 completed\n",
      "Get Data for : JILL\n",
      "[*********************100%***********************]  1 of 1 completed\n",
      "Get Data for : JJSF\n",
      "[*********************100%***********************]  1 of 1 completed\n",
      "Get Data for : JKHY\n",
      "[*********************100%***********************]  1 of 1 completed\n",
      "Get Data for : JLL\n",
      "[*********************100%***********************]  1 of 1 completed\n",
      "Get Data for : JNCE\n",
      "[*********************100%***********************]  1 of 1 completed\n",
      "Get Data for : JNJ\n",
      "[*********************100%***********************]  1 of 1 completed\n",
      "Get Data for : JNPR\n",
      "[*********************100%***********************]  1 of 1 completed\n",
      "Get Data for : JOB\n",
      "[*********************100%***********************]  1 of 1 completed\n",
      "Get Data for : JOE\n",
      "[*********************100%***********************]  1 of 1 completed\n",
      "Get Data for : JOUT\n",
      "[*********************100%***********************]  1 of 1 completed\n",
      "Get Data for : JPM\n",
      "[*********************100%***********************]  1 of 1 completed\n",
      "Get Data for : JRVR\n",
      "[*********************100%***********************]  1 of 1 completed\n",
      "Get Data for : JVA\n",
      "[*********************100%***********************]  1 of 1 completed\n",
      "Get Data for : JWN\n",
      "[*********************100%***********************]  1 of 1 completed\n",
      "Get Data for : JYNT\n",
      "[*********************100%***********************]  1 of 1 completed\n",
      "Get Data for : K\n",
      "[*********************100%***********************]  1 of 1 completed\n",
      "Get Data for : KAI\n",
      "[*********************100%***********************]  1 of 1 completed\n",
      "Get Data for : KALA\n",
      "[*********************100%***********************]  1 of 1 completed\n",
      "Get Data for : KALU\n",
      "[*********************100%***********************]  1 of 1 completed\n",
      "Get Data for : KALV\n",
      "[*********************100%***********************]  1 of 1 completed\n",
      "Get Data for : KAMN\n",
      "[*********************100%***********************]  1 of 1 completed\n",
      "Get Data for : KAR\n",
      "[*********************100%***********************]  1 of 1 completed\n",
      "Get Data for : KBAL\n",
      "[*********************100%***********************]  1 of 1 completed\n",
      "Get Data for : KBH\n",
      "[*********************100%***********************]  1 of 1 completed\n",
      "Get Data for : KBR\n",
      "[*********************100%***********************]  1 of 1 completed\n",
      "Get Data for : KDMN\n",
      "[*********************100%***********************]  1 of 1 completed"
     ]
    },
    {
     "name": "stderr",
     "output_type": "stream",
     "text": [
      "\n",
      "1 Failed download:\n",
      "['KDMN']: Exception('%ticker%: No timezone found, symbol may be delisted')\n"
     ]
    },
    {
     "name": "stdout",
     "output_type": "stream",
     "text": [
      "\n",
      "Get Data for : KDP\n",
      "[*********************100%***********************]  1 of 1 completed\n",
      "Get Data for : KE\n",
      "[*********************100%***********************]  1 of 1 completed\n",
      "Get Data for : KELYA\n",
      "[*********************100%***********************]  1 of 1 completed\n",
      "Get Data for : KEQU\n",
      "[*********************100%***********************]  1 of 1 completed\n",
      "Get Data for : KEX\n",
      "[*********************100%***********************]  1 of 1 completed\n",
      "Get Data for : KEY\n",
      "[*********************100%***********************]  1 of 1 completed\n",
      "Get Data for : KEYS\n",
      "[*********************100%***********************]  1 of 1 completed\n",
      "Get Data for : KFFB\n",
      "[*********************100%***********************]  1 of 1 completed\n",
      "Get Data for : KFRC\n",
      "[*********************100%***********************]  1 of 1 completed\n",
      "Get Data for : KFY\n",
      "[*********************100%***********************]  1 of 1 completed\n",
      "Get Data for : KHC\n",
      "[*********************100%***********************]  1 of 1 completed\n",
      "Get Data for : KIDS\n",
      "[*********************100%***********************]  1 of 1 completed\n",
      "Get Data for : KIM\n",
      "[*********************100%***********************]  1 of 1 completed\n",
      "Get Data for : KIN\n",
      "[*********************100%***********************]  1 of 1 completed"
     ]
    },
    {
     "name": "stderr",
     "output_type": "stream",
     "text": [
      "\n",
      "1 Failed download:\n",
      "['KIN']: Exception('%ticker%: No timezone found, symbol may be delisted')\n"
     ]
    },
    {
     "name": "stdout",
     "output_type": "stream",
     "text": [
      "\n",
      "Get Data for : KINS\n",
      "[*********************100%***********************]  1 of 1 completed\n",
      "Get Data for : KIRK\n",
      "[*********************100%***********************]  1 of 1 completed\n",
      "Get Data for : KKR\n",
      "[*********************100%***********************]  1 of 1 completed\n",
      "Get Data for : KLAC\n",
      "[*********************100%***********************]  1 of 1 completed\n",
      "Get Data for : KLIC\n",
      "[*********************100%***********************]  1 of 1 completed\n",
      "Get Data for : KLXE\n",
      "[*********************100%***********************]  1 of 1 completed\n",
      "Get Data for : KMB\n",
      "[*********************100%***********************]  1 of 1 completed\n",
      "Get Data for : KMI\n",
      "[*********************100%***********************]  1 of 1 completed\n",
      "Get Data for : KMPH\n",
      "[*********************100%***********************]  1 of 1 completed"
     ]
    },
    {
     "name": "stderr",
     "output_type": "stream",
     "text": [
      "\n",
      "1 Failed download:\n",
      "['KMPH']: Exception('%ticker%: No timezone found, symbol may be delisted')\n"
     ]
    },
    {
     "name": "stdout",
     "output_type": "stream",
     "text": [
      "\n",
      "Get Data for : KMPR\n",
      "[*********************100%***********************]  1 of 1 completed\n",
      "Get Data for : KMT\n",
      "[*********************100%***********************]  1 of 1 completed\n",
      "Get Data for : KMX\n",
      "[*********************100%***********************]  1 of 1 completed\n",
      "Get Data for : KN\n",
      "[*********************100%***********************]  1 of 1 completed\n",
      "Get Data for : KNL\n",
      "[*********************100%***********************]  1 of 1 completed"
     ]
    },
    {
     "name": "stderr",
     "output_type": "stream",
     "text": [
      "\n",
      "1 Failed download:\n",
      "['KNL']: Exception('%ticker%: No timezone found, symbol may be delisted')\n"
     ]
    },
    {
     "name": "stdout",
     "output_type": "stream",
     "text": [
      "\n",
      "Get Data for : KNSA\n",
      "[*********************100%***********************]  1 of 1 completed\n",
      "Get Data for : KNSL\n",
      "[*********************100%***********************]  1 of 1 completed\n",
      "Get Data for : KNX\n",
      "[*********************100%***********************]  1 of 1 completed\n",
      "Get Data for : KO\n",
      "[*********************100%***********************]  1 of 1 completed\n",
      "Get Data for : KOD\n",
      "[*********************100%***********************]  1 of 1 completed\n",
      "Get Data for : KODK\n",
      "[*********************100%***********************]  1 of 1 completed\n",
      "Get Data for : KOP\n",
      "[*********************100%***********************]  1 of 1 completed\n",
      "Get Data for : KOPN\n",
      "[*********************100%***********************]  1 of 1 completed\n",
      "Get Data for : KOS\n",
      "[*********************100%***********************]  1 of 1 completed\n",
      "Get Data for : KPTI\n",
      "[*********************100%***********************]  1 of 1 completed\n",
      "Get Data for : KR\n",
      "[*********************100%***********************]  1 of 1 completed\n",
      "Get Data for : KRA\n",
      "[*********************100%***********************]  1 of 1 completed"
     ]
    },
    {
     "name": "stderr",
     "output_type": "stream",
     "text": [
      "\n",
      "1 Failed download:\n",
      "['KRA']: Exception('%ticker%: No timezone found, symbol may be delisted')\n"
     ]
    },
    {
     "name": "stdout",
     "output_type": "stream",
     "text": [
      "\n",
      "Get Data for : KRC\n",
      "[*********************100%***********************]  1 of 1 completed\n",
      "Get Data for : KREF\n",
      "[*********************100%***********************]  1 of 1 completed\n",
      "Get Data for : KRG\n",
      "[*********************100%***********************]  1 of 1 completed\n",
      "Get Data for : KRNY\n",
      "[*********************100%***********************]  1 of 1 completed\n",
      "Get Data for : KRO\n",
      "[*********************100%***********************]  1 of 1 completed\n",
      "Get Data for : KRYS\n",
      "[*********************100%***********************]  1 of 1 completed\n",
      "Get Data for : KSS\n",
      "[*********************100%***********************]  1 of 1 completed\n",
      "Get Data for : KSU\n",
      "[*********************100%***********************]  1 of 1 completed"
     ]
    },
    {
     "name": "stderr",
     "output_type": "stream",
     "text": [
      "\n",
      "1 Failed download:\n",
      "['KSU']: Exception('%ticker%: No timezone found, symbol may be delisted')\n"
     ]
    },
    {
     "name": "stdout",
     "output_type": "stream",
     "text": [
      "\n",
      "Get Data for : KTCC\n",
      "[*********************100%***********************]  1 of 1 completed\n",
      "Get Data for : KTOS\n",
      "[*********************100%***********************]  1 of 1 completed\n",
      "Get Data for : KURA\n",
      "[*********************100%***********************]  1 of 1 completed\n",
      "Get Data for : KVHI\n",
      "[*********************100%***********************]  1 of 1 completed\n",
      "Get Data for : KW\n",
      "[*********************100%***********************]  1 of 1 completed\n",
      "Get Data for : KWR\n",
      "[*********************100%***********************]  1 of 1 completed\n",
      "Get Data for : KZR\n",
      "[*********************100%***********************]  1 of 1 completed\n",
      "Get Data for : L\n",
      "[*********************100%***********************]  1 of 1 completed\n",
      "Get Data for : LAD\n",
      "[*********************100%***********************]  1 of 1 completed\n",
      "Get Data for : LADR\n",
      "[*********************100%***********************]  1 of 1 completed\n",
      "Get Data for : LAKE\n",
      "[*********************100%***********************]  1 of 1 completed\n",
      "Get Data for : LAMR\n",
      "[*********************100%***********************]  1 of 1 completed\n",
      "Get Data for : LANC\n",
      "[*********************100%***********************]  1 of 1 completed\n",
      "Get Data for : LAND\n",
      "[*********************100%***********************]  1 of 1 completed\n",
      "Get Data for : LARK\n",
      "[*********************100%***********************]  1 of 1 completed\n",
      "Get Data for : LASR\n",
      "[*********************100%***********************]  1 of 1 completed\n",
      "Get Data for : LAUR\n",
      "[*********************100%***********************]  1 of 1 completed\n",
      "Get Data for : LAWS\n",
      "[*********************100%***********************]  1 of 1 completed"
     ]
    },
    {
     "name": "stderr",
     "output_type": "stream",
     "text": [
      "\n",
      "1 Failed download:\n",
      "['LAWS']: Exception('%ticker%: No timezone found, symbol may be delisted')\n"
     ]
    },
    {
     "name": "stdout",
     "output_type": "stream",
     "text": [
      "\n",
      "Get Data for : LAZ\n",
      "[*********************100%***********************]  1 of 1 completed\n",
      "Get Data for : LB\n",
      "[*********************100%***********************]  1 of 1 completed"
     ]
    },
    {
     "name": "stderr",
     "output_type": "stream",
     "text": [
      "\n",
      "1 Failed download:\n",
      "['LB']: Exception('%ticker%: No timezone found, symbol may be delisted')\n"
     ]
    },
    {
     "name": "stdout",
     "output_type": "stream",
     "text": [
      "\n",
      "Get Data for : LBAI\n",
      "[*********************100%***********************]  1 of 1 completed\n",
      "Get Data for : LBC\n",
      "[*********************100%***********************]  1 of 1 completed\n",
      "Get Data for : LBRDA\n",
      "[*********************100%***********************]  1 of 1 completed\n",
      "Get Data for : LBRDK\n",
      "[*********************100%***********************]  1 of 1 completed\n",
      "Get Data for : LBRT\n",
      "[*********************100%***********************]  1 of 1 completed\n",
      "Get Data for : LBTYA\n",
      "[*********************100%***********************]  1 of 1 completed\n",
      "Get Data for : LBTYK\n",
      "[*********************100%***********************]  1 of 1 completed\n",
      "Get Data for : LC\n",
      "[*********************100%***********************]  1 of 1 completed\n",
      "Get Data for : LCI\n",
      "[*********************100%***********************]  1 of 1 completed"
     ]
    },
    {
     "name": "stderr",
     "output_type": "stream",
     "text": [
      "\n",
      "1 Failed download:\n",
      "['LCI']: Exception('%ticker%: No timezone found, symbol may be delisted')\n"
     ]
    },
    {
     "name": "stdout",
     "output_type": "stream",
     "text": [
      "\n",
      "Get Data for : LCII\n",
      "[*********************100%***********************]  1 of 1 completed\n",
      "Get Data for : LCNB\n",
      "[*********************100%***********************]  1 of 1 completed\n",
      "Get Data for : LCUT\n",
      "[*********************100%***********************]  1 of 1 completed\n",
      "Get Data for : LDL\n",
      "[*********************100%***********************]  1 of 1 completed"
     ]
    },
    {
     "name": "stderr",
     "output_type": "stream",
     "text": [
      "\n",
      "1 Failed download:\n",
      "['LDL']: Exception('%ticker%: No timezone found, symbol may be delisted')\n"
     ]
    },
    {
     "name": "stdout",
     "output_type": "stream",
     "text": [
      "\n",
      "Get Data for : LDOS\n",
      "[*********************100%***********************]  1 of 1 completed\n",
      "Get Data for : LE\n",
      "[*********************100%***********************]  1 of 1 completed\n",
      "Get Data for : LEA\n",
      "[*********************100%***********************]  1 of 1 completed\n",
      "Get Data for : LEAF\n",
      "[*********************100%***********************]  1 of 1 completed"
     ]
    },
    {
     "name": "stderr",
     "output_type": "stream",
     "text": [
      "\n",
      "1 Failed download:\n",
      "['LEAF']: Exception('%ticker%: No timezone found, symbol may be delisted')\n"
     ]
    },
    {
     "name": "stdout",
     "output_type": "stream",
     "text": [
      "\n",
      "Get Data for : LECO\n",
      "[*********************100%***********************]  1 of 1 completed\n",
      "Get Data for : LEE\n",
      "[*********************100%***********************]  1 of 1 completed\n",
      "Get Data for : LEG\n",
      "[*********************100%***********************]  1 of 1 completed\n",
      "Get Data for : LEGH\n",
      "[*********************100%***********************]  1 of 1 completed\n",
      "Get Data for : LEN\n",
      "[*********************100%***********************]  1 of 1 completed\n",
      "Get Data for : LEU\n",
      "[*********************100%***********************]  1 of 1 completed\n",
      "Get Data for : LEVI\n",
      "[*********************100%***********************]  1 of 1 completed\n",
      "Get Data for : LFUS\n",
      "[*********************100%***********************]  1 of 1 completed\n",
      "Get Data for : LFVN\n",
      "[*********************100%***********************]  1 of 1 completed\n",
      "Get Data for : LGIH\n",
      "[*********************100%***********************]  1 of 1 completed\n",
      "Get Data for : LGL\n",
      "[*********************100%***********************]  1 of 1 completed\n",
      "Get Data for : LGND\n",
      "[*********************100%***********************]  1 of 1 completed\n",
      "Get Data for : LH\n",
      "[*********************100%***********************]  1 of 1 completed\n",
      "Get Data for : LHCG\n",
      "[*********************100%***********************]  1 of 1 completed"
     ]
    },
    {
     "name": "stderr",
     "output_type": "stream",
     "text": [
      "\n",
      "1 Failed download:\n",
      "['LHCG']: Exception('%ticker%: No timezone found, symbol may be delisted')\n"
     ]
    },
    {
     "name": "stdout",
     "output_type": "stream",
     "text": [
      "\n",
      "Get Data for : LIFE\n",
      "[*********************100%***********************]  1 of 1 completed\n",
      "Get Data for : LII\n",
      "[*********************100%***********************]  1 of 1 completed\n",
      "Get Data for : LILA\n",
      "[*********************100%***********************]  1 of 1 completed\n",
      "Get Data for : LILAK\n",
      "[*********************100%***********************]  1 of 1 completed\n",
      "Get Data for : LIN\n",
      "[*********************100%***********************]  1 of 1 completed\n",
      "Get Data for : LINC\n",
      "[*********************100%***********************]  1 of 1 completed\n",
      "Get Data for : LIND\n",
      "[*********************100%***********************]  1 of 1 completed\n",
      "Get Data for : LIQT\n",
      "[*********************100%***********************]  1 of 1 completed\n",
      "Get Data for : LITE\n",
      "[*********************100%***********************]  1 of 1 completed\n",
      "Get Data for : LIVE\n",
      "[*********************100%***********************]  1 of 1 completed\n",
      "Get Data for : LIVN\n",
      "[*********************100%***********************]  1 of 1 completed\n",
      "Get Data for : LIVX\n",
      "[*********************100%***********************]  1 of 1 completed"
     ]
    },
    {
     "name": "stderr",
     "output_type": "stream",
     "text": [
      "\n",
      "1 Failed download:\n",
      "['LIVX']: Exception('%ticker%: No timezone found, symbol may be delisted')\n"
     ]
    },
    {
     "name": "stdout",
     "output_type": "stream",
     "text": [
      "\n",
      "Get Data for : LJPC\n",
      "[*********************100%***********************]  1 of 1 completed"
     ]
    },
    {
     "name": "stderr",
     "output_type": "stream",
     "text": [
      "\n",
      "1 Failed download:\n",
      "['LJPC']: Exception('%ticker%: No timezone found, symbol may be delisted')\n"
     ]
    },
    {
     "name": "stdout",
     "output_type": "stream",
     "text": [
      "\n",
      "Get Data for : LKFN\n",
      "[*********************100%***********************]  1 of 1 completed\n",
      "Get Data for : LKQ\n",
      "[*********************100%***********************]  1 of 1 completed\n",
      "Get Data for : LL\n",
      "[*********************100%***********************]  1 of 1 completed\n",
      "Get Data for : LLNW\n",
      "[*********************100%***********************]  1 of 1 completed"
     ]
    },
    {
     "name": "stderr",
     "output_type": "stream",
     "text": [
      "\n",
      "1 Failed download:\n",
      "['LLNW']: Exception('%ticker%: No timezone found, symbol may be delisted')\n"
     ]
    },
    {
     "name": "stdout",
     "output_type": "stream",
     "text": [
      "\n",
      "Get Data for : LLY\n",
      "[*********************100%***********************]  1 of 1 completed\n",
      "Get Data for : LM\n",
      "[*********************100%***********************]  1 of 1 completed"
     ]
    },
    {
     "name": "stderr",
     "output_type": "stream",
     "text": [
      "\n",
      "1 Failed download:\n",
      "['LM']: Exception('%ticker%: No timezone found, symbol may be delisted')\n"
     ]
    },
    {
     "name": "stdout",
     "output_type": "stream",
     "text": [
      "\n",
      "Get Data for : LMAT\n",
      "[*********************100%***********************]  1 of 1 completed\n",
      "Get Data for : LMFA\n",
      "[*********************100%***********************]  1 of 1 completed\n",
      "Get Data for : LMNR\n",
      "[*********************100%***********************]  1 of 1 completed\n",
      "Get Data for : LMNX\n",
      "[*********************100%***********************]  1 of 1 completed"
     ]
    },
    {
     "name": "stderr",
     "output_type": "stream",
     "text": [
      "\n",
      "1 Failed download:\n",
      "['LMNX']: Exception('%ticker%: No timezone found, symbol may be delisted')\n"
     ]
    },
    {
     "name": "stdout",
     "output_type": "stream",
     "text": [
      "\n",
      "Get Data for : LMT\n",
      "[*********************100%***********************]  1 of 1 completed\n",
      "Get Data for : LNC\n",
      "[*********************100%***********************]  1 of 1 completed\n",
      "Get Data for : LNDC\n",
      "[*********************100%***********************]  1 of 1 completed"
     ]
    },
    {
     "name": "stderr",
     "output_type": "stream",
     "text": [
      "\n",
      "1 Failed download:\n",
      "['LNDC']: Exception('%ticker%: No timezone found, symbol may be delisted')\n"
     ]
    },
    {
     "name": "stdout",
     "output_type": "stream",
     "text": [
      "\n",
      "Get Data for : LNG\n",
      "[*********************100%***********************]  1 of 1 completed\n",
      "Get Data for : LNN\n",
      "[*********************100%***********************]  1 of 1 completed\n",
      "Get Data for : LNT\n",
      "[*********************100%***********************]  1 of 1 completed\n",
      "Get Data for : LNTH\n",
      "[*********************100%***********************]  1 of 1 completed\n",
      "Get Data for : LOAN\n",
      "[*********************100%***********************]  1 of 1 completed\n",
      "Get Data for : LOB\n",
      "[*********************100%***********************]  1 of 1 completed\n",
      "Get Data for : LOCO\n",
      "[*********************100%***********************]  1 of 1 completed\n",
      "Get Data for : LODE\n",
      "[*********************100%***********************]  1 of 1 completed\n",
      "Get Data for : LOGM\n",
      "[*********************100%***********************]  1 of 1 completed"
     ]
    },
    {
     "name": "stderr",
     "output_type": "stream",
     "text": [
      "\n",
      "1 Failed download:\n",
      "['LOGM']: Exception('%ticker%: No timezone found, symbol may be delisted')\n"
     ]
    },
    {
     "name": "stdout",
     "output_type": "stream",
     "text": [
      "\n",
      "Get Data for : LONE\n",
      "[*********************100%***********************]  1 of 1 completed"
     ]
    },
    {
     "name": "stderr",
     "output_type": "stream",
     "text": [
      "\n",
      "1 Failed download:\n",
      "['LONE']: Exception('%ticker%: No timezone found, symbol may be delisted')\n"
     ]
    },
    {
     "name": "stdout",
     "output_type": "stream",
     "text": [
      "\n",
      "Get Data for : LOOP\n",
      "[*********************100%***********************]  1 of 1 completed\n",
      "Get Data for : LOPE\n",
      "[*********************100%***********************]  1 of 1 completed\n",
      "Get Data for : LORL\n",
      "[*********************100%***********************]  1 of 1 completed"
     ]
    },
    {
     "name": "stderr",
     "output_type": "stream",
     "text": [
      "\n",
      "1 Failed download:\n",
      "['LORL']: Exception('%ticker%: No timezone found, symbol may be delisted')\n"
     ]
    },
    {
     "name": "stdout",
     "output_type": "stream",
     "text": [
      "\n",
      "Get Data for : LOVE\n",
      "[*********************100%***********************]  1 of 1 completed\n",
      "Get Data for : LOW\n",
      "[*********************100%***********************]  1 of 1 completed\n",
      "Get Data for : LPCN\n",
      "[*********************100%***********************]  1 of 1 completed\n",
      "Get Data for : LPG\n",
      "[*********************100%***********************]  1 of 1 completed\n",
      "Get Data for : LPI\n",
      "[*********************100%***********************]  1 of 1 completed"
     ]
    },
    {
     "name": "stderr",
     "output_type": "stream",
     "text": [
      "\n",
      "1 Failed download:\n",
      "['LPI']: Exception('%ticker%: No timezone found, symbol may be delisted')\n"
     ]
    },
    {
     "name": "stdout",
     "output_type": "stream",
     "text": [
      "\n",
      "Get Data for : LPLA\n",
      "[*********************100%***********************]  1 of 1 completed\n",
      "Get Data for : LPSN\n",
      "[*********************100%***********************]  1 of 1 completed\n",
      "Get Data for : LPTH\n",
      "[*********************100%***********************]  1 of 1 completed\n",
      "Get Data for : LPX\n",
      "[*********************100%***********************]  1 of 1 completed\n",
      "Get Data for : LQDA\n",
      "[*********************100%***********************]  1 of 1 completed\n",
      "Get Data for : LQDT\n",
      "[*********************100%***********************]  1 of 1 completed\n",
      "Get Data for : LRCX\n",
      "[*********************100%***********************]  1 of 1 completed\n",
      "Get Data for : LRN\n",
      "[*********************100%***********************]  1 of 1 completed\n",
      "Get Data for : LSBK\n",
      "[*********************100%***********************]  1 of 1 completed\n",
      "Get Data for : LSCC\n",
      "[*********************100%***********************]  1 of 1 completed\n",
      "Get Data for : LSI\n",
      "[*********************100%***********************]  1 of 1 completed\n",
      "Get Data for : LSTR\n",
      "[*********************100%***********************]  1 of 1 completed\n",
      "Get Data for : LSXMA\n",
      "[*********************100%***********************]  1 of 1 completed\n",
      "Get Data for : LSXMK\n",
      "[*********************100%***********************]  1 of 1 completed\n",
      "Get Data for : LTBR\n",
      "[*********************100%***********************]  1 of 1 completed\n",
      "Get Data for : LTC\n",
      "[*********************100%***********************]  1 of 1 completed\n",
      "Get Data for : LTHM\n",
      "[*********************100%***********************]  1 of 1 completed\n",
      "Get Data for : LTRPA\n",
      "[*********************100%***********************]  1 of 1 completed\n",
      "Get Data for : LTRX\n",
      "[*********************100%***********************]  1 of 1 completed\n",
      "Get Data for : LUB\n",
      "[*********************100%***********************]  1 of 1 completed"
     ]
    },
    {
     "name": "stderr",
     "output_type": "stream",
     "text": [
      "\n",
      "1 Failed download:\n",
      "['LUB']: Exception('%ticker%: No timezone found, symbol may be delisted')\n"
     ]
    },
    {
     "name": "stdout",
     "output_type": "stream",
     "text": [
      "\n",
      "Get Data for : LULU\n",
      "[*********************100%***********************]  1 of 1 completed\n",
      "Get Data for : LUNA\n",
      "[*********************100%***********************]  1 of 1 completed\n",
      "Get Data for : LUV\n",
      "[*********************100%***********************]  1 of 1 completed\n",
      "Get Data for : LVS\n",
      "[*********************100%***********************]  1 of 1 completed\n",
      "Get Data for : LW\n",
      "[*********************100%***********************]  1 of 1 completed\n",
      "Get Data for : LWAY\n",
      "[*********************100%***********************]  1 of 1 completed\n",
      "Get Data for : LXP\n",
      "[*********************100%***********************]  1 of 1 completed\n",
      "Get Data for : LXRX\n",
      "[*********************100%***********************]  1 of 1 completed\n",
      "Get Data for : LXU\n",
      "[*********************100%***********************]  1 of 1 completed\n",
      "Get Data for : LYB\n",
      "[*********************100%***********************]  1 of 1 completed\n",
      "Get Data for : LYFT\n",
      "[*********************100%***********************]  1 of 1 completed\n",
      "Get Data for : LYTS\n",
      "[*********************100%***********************]  1 of 1 completed\n",
      "Get Data for : LYV\n",
      "[*********************100%***********************]  1 of 1 completed\n",
      "Get Data for : LZB\n",
      "[*********************100%***********************]  1 of 1 completed\n",
      "Get Data for : M\n",
      "[*********************100%***********************]  1 of 1 completed\n",
      "Get Data for : MA\n",
      "[*********************100%***********************]  1 of 1 completed\n",
      "Get Data for : MAA\n",
      "[*********************100%***********************]  1 of 1 completed\n",
      "Get Data for : MAC\n",
      "[*********************100%***********************]  1 of 1 completed\n",
      "Get Data for : MACK\n",
      "[*********************100%***********************]  1 of 1 completed\n",
      "Get Data for : MAN\n",
      "[*********************100%***********************]  1 of 1 completed\n",
      "Get Data for : MANH\n",
      "[*********************100%***********************]  1 of 1 completed\n",
      "Get Data for : MANT\n",
      "[*********************100%***********************]  1 of 1 completed"
     ]
    },
    {
     "name": "stderr",
     "output_type": "stream",
     "text": [
      "\n",
      "1 Failed download:\n",
      "['MANT']: Exception('%ticker%: No timezone found, symbol may be delisted')\n"
     ]
    },
    {
     "name": "stdout",
     "output_type": "stream",
     "text": [
      "\n",
      "Get Data for : MAR\n",
      "[*********************100%***********************]  1 of 1 completed\n",
      "Get Data for : MARA\n",
      "[*********************100%***********************]  1 of 1 completed\n",
      "Get Data for : MARK\n",
      "[*********************100%***********************]  1 of 1 completed\n",
      "Get Data for : MAS\n",
      "[*********************100%***********************]  1 of 1 completed\n",
      "Get Data for : MASI\n",
      "[*********************100%***********************]  1 of 1 completed\n",
      "Get Data for : MAT\n",
      "[*********************100%***********************]  1 of 1 completed\n",
      "Get Data for : MATW\n",
      "[*********************100%***********************]  1 of 1 completed\n",
      "Get Data for : MATX\n",
      "[*********************100%***********************]  1 of 1 completed\n",
      "Get Data for : MAYS\n",
      "[*********************100%***********************]  1 of 1 completed\n",
      "Get Data for : MBCN\n",
      "[*********************100%***********************]  1 of 1 completed\n",
      "Get Data for : MBI\n",
      "[*********************100%***********************]  1 of 1 completed\n",
      "Get Data for : MBII\n",
      "[*********************100%***********************]  1 of 1 completed"
     ]
    },
    {
     "name": "stderr",
     "output_type": "stream",
     "text": [
      "\n",
      "1 Failed download:\n",
      "['MBII']: Exception('%ticker%: No timezone found, symbol may be delisted')\n"
     ]
    },
    {
     "name": "stdout",
     "output_type": "stream",
     "text": [
      "\n",
      "Get Data for : MBIN\n",
      "[*********************100%***********************]  1 of 1 completed\n",
      "Get Data for : MBIO\n",
      "[*********************100%***********************]  1 of 1 completed\n",
      "Get Data for : MBOT\n",
      "[*********************100%***********************]  1 of 1 completed\n",
      "Get Data for : MBUU\n",
      "[*********************100%***********************]  1 of 1 completed\n",
      "Get Data for : MBWM\n",
      "[*********************100%***********************]  1 of 1 completed\n",
      "Get Data for : MC\n",
      "[*********************100%***********************]  1 of 1 completed\n",
      "Get Data for : MCB\n",
      "[*********************100%***********************]  1 of 1 completed\n",
      "Get Data for : MCBC\n",
      "[*********************100%***********************]  1 of 1 completed\n",
      "Get Data for : MCD\n",
      "[*********************100%***********************]  1 of 1 completed\n",
      "Get Data for : MCF\n",
      "[*********************100%***********************]  1 of 1 completed"
     ]
    },
    {
     "name": "stderr",
     "output_type": "stream",
     "text": [
      "\n",
      "1 Failed download:\n",
      "['MCF']: Exception('%ticker%: No timezone found, symbol may be delisted')\n"
     ]
    },
    {
     "name": "stdout",
     "output_type": "stream",
     "text": [
      "\n",
      "Get Data for : MCFT\n",
      "[*********************100%***********************]  1 of 1 completed\n",
      "Get Data for : MCHP\n",
      "[*********************100%***********************]  1 of 1 completed\n",
      "Get Data for : MCHX\n",
      "[*********************100%***********************]  1 of 1 completed\n",
      "Get Data for : MCK\n",
      "[*********************100%***********************]  1 of 1 completed\n",
      "Get Data for : MCO\n",
      "[*********************100%***********************]  1 of 1 completed\n",
      "Get Data for : MCRB\n",
      "[*********************100%***********************]  1 of 1 completed\n",
      "Get Data for : MCRI\n",
      "[*********************100%***********************]  1 of 1 completed\n",
      "Get Data for : MCS\n",
      "[*********************100%***********************]  1 of 1 completed\n",
      "Get Data for : MCY\n",
      "[*********************100%***********************]  1 of 1 completed\n",
      "Get Data for : MD\n",
      "[*********************100%***********************]  1 of 1 completed\n",
      "Get Data for : MDB\n",
      "[*********************100%***********************]  1 of 1 completed\n",
      "Get Data for : MDC\n",
      "[*********************100%***********************]  1 of 1 completed\n",
      "Get Data for : MDGL\n",
      "[*********************100%***********************]  1 of 1 completed\n",
      "Get Data for : MDLY\n",
      "[*********************100%***********************]  1 of 1 completed"
     ]
    },
    {
     "name": "stderr",
     "output_type": "stream",
     "text": [
      "\n",
      "1 Failed download:\n",
      "['MDLY']: Exception('%ticker%: No timezone found, symbol may be delisted')\n"
     ]
    },
    {
     "name": "stdout",
     "output_type": "stream",
     "text": [
      "\n",
      "Get Data for : MDLZ\n",
      "[*********************100%***********************]  1 of 1 completed\n",
      "Get Data for : MDP\n",
      "[*********************100%***********************]  1 of 1 completed"
     ]
    },
    {
     "name": "stderr",
     "output_type": "stream",
     "text": [
      "\n",
      "1 Failed download:\n",
      "['MDP']: Exception('%ticker%: No price data found, symbol may be delisted (1d 2017-01-01 00:00:00 -> 2021-08-19 00:00:00)')\n"
     ]
    },
    {
     "name": "stdout",
     "output_type": "stream",
     "text": [
      "\n",
      "Get Data for : MDRX\n",
      "[*********************100%***********************]  1 of 1 completed\n",
      "Get Data for : MDT\n",
      "[*********************100%***********************]  1 of 1 completed\n",
      "Get Data for : MDU\n",
      "[*********************100%***********************]  1 of 1 completed\n",
      "Get Data for : MED\n",
      "[*********************100%***********************]  1 of 1 completed\n",
      "Get Data for : MEDP\n",
      "[*********************100%***********************]  1 of 1 completed\n",
      "Get Data for : MEET\n",
      "[*********************100%***********************]  1 of 1 completed"
     ]
    },
    {
     "name": "stderr",
     "output_type": "stream",
     "text": [
      "\n",
      "1 Failed download:\n",
      "['MEET']: Exception('%ticker%: No timezone found, symbol may be delisted')\n"
     ]
    },
    {
     "name": "stdout",
     "output_type": "stream",
     "text": [
      "\n",
      "Get Data for : MEI\n",
      "[*********************100%***********************]  1 of 1 completed\n",
      "Get Data for : MEIP\n",
      "[*********************100%***********************]  1 of 1 completed\n",
      "Get Data for : MERC\n",
      "[*********************100%***********************]  1 of 1 completed\n",
      "Get Data for : MESA\n",
      "[*********************100%***********************]  1 of 1 completed\n",
      "Get Data for : MET\n",
      "[*********************100%***********************]  1 of 1 completed\n",
      "Get Data for : MFA\n",
      "[*********************100%***********************]  1 of 1 completed\n",
      "Get Data for : MFNC\n",
      "[*********************100%***********************]  1 of 1 completed"
     ]
    },
    {
     "name": "stderr",
     "output_type": "stream",
     "text": [
      "\n",
      "1 Failed download:\n",
      "['MFNC']: Exception('%ticker%: No timezone found, symbol may be delisted')\n"
     ]
    },
    {
     "name": "stdout",
     "output_type": "stream",
     "text": [
      "\n",
      "Get Data for : MG\n",
      "[*********************100%***********************]  1 of 1 completed\n",
      "Get Data for : MGEE\n",
      "[*********************100%***********************]  1 of 1 completed\n",
      "Get Data for : MGEN\n",
      "[*********************100%***********************]  1 of 1 completed"
     ]
    },
    {
     "name": "stderr",
     "output_type": "stream",
     "text": [
      "\n",
      "1 Failed download:\n",
      "['MGEN']: Exception('%ticker%: No timezone found, symbol may be delisted')\n"
     ]
    },
    {
     "name": "stdout",
     "output_type": "stream",
     "text": [
      "\n",
      "Get Data for : MGI\n",
      "[*********************100%***********************]  1 of 1 completed\n",
      "Get Data for : MGLN\n",
      "[*********************100%***********************]  1 of 1 completed"
     ]
    },
    {
     "name": "stderr",
     "output_type": "stream",
     "text": [
      "\n",
      "1 Failed download:\n",
      "['MGLN']: Exception('%ticker%: No timezone found, symbol may be delisted')\n"
     ]
    },
    {
     "name": "stdout",
     "output_type": "stream",
     "text": [
      "\n",
      "Get Data for : MGM\n",
      "[*********************100%***********************]  1 of 1 completed\n",
      "Get Data for : MGNX\n",
      "[*********************100%***********************]  1 of 1 completed\n",
      "Get Data for : MGPI\n",
      "[*********************100%***********************]  1 of 1 completed\n",
      "Get Data for : MGRC\n",
      "[*********************100%***********************]  1 of 1 completed\n",
      "Get Data for : MGTA\n",
      "[*********************100%***********************]  1 of 1 completed\n",
      "Get Data for : MGY\n",
      "[*********************100%***********************]  1 of 1 completed\n",
      "Get Data for : MGYR\n",
      "[*********************100%***********************]  1 of 1 completed\n",
      "Get Data for : MHH\n",
      "[*********************100%***********************]  1 of 1 completed\n",
      "Get Data for : MHK\n",
      "[*********************100%***********************]  1 of 1 completed\n",
      "Get Data for : MHLD\n",
      "[*********************100%***********************]  1 of 1 completed\n",
      "Get Data for : MHO\n",
      "[*********************100%***********************]  1 of 1 completed\n",
      "Get Data for : MIC\n",
      "[*********************100%***********************]  1 of 1 completed"
     ]
    },
    {
     "name": "stderr",
     "output_type": "stream",
     "text": [
      "\n",
      "1 Failed download:\n",
      "['MIC']: Exception('%ticker%: No timezone found, symbol may be delisted')\n"
     ]
    },
    {
     "name": "stdout",
     "output_type": "stream",
     "text": [
      "\n",
      "Get Data for : MICR\n",
      "[*********************100%***********************]  1 of 1 completed\n",
      "Get Data for : MICT\n",
      "[*********************100%***********************]  1 of 1 completed"
     ]
    },
    {
     "name": "stderr",
     "output_type": "stream",
     "text": [
      "\n",
      "1 Failed download:\n",
      "['MICT']: Exception('%ticker%: No timezone found, symbol may be delisted')\n"
     ]
    },
    {
     "name": "stdout",
     "output_type": "stream",
     "text": [
      "\n",
      "Get Data for : MIDD\n",
      "[*********************100%***********************]  1 of 1 completed\n",
      "Get Data for : MIK\n",
      "[*********************100%***********************]  1 of 1 completed"
     ]
    },
    {
     "name": "stderr",
     "output_type": "stream",
     "text": [
      "\n",
      "1 Failed download:\n",
      "['MIK']: Exception('%ticker%: No timezone found, symbol may be delisted')\n"
     ]
    },
    {
     "name": "stdout",
     "output_type": "stream",
     "text": [
      "\n",
      "Get Data for : MIND\n",
      "[*********************100%***********************]  1 of 1 completed\n",
      "Get Data for : MINI\n",
      "[*********************100%***********************]  1 of 1 completed"
     ]
    },
    {
     "name": "stderr",
     "output_type": "stream",
     "text": [
      "\n",
      "1 Failed download:\n",
      "['MINI']: Exception('%ticker%: No timezone found, symbol may be delisted')\n"
     ]
    },
    {
     "name": "stdout",
     "output_type": "stream",
     "text": [
      "\n",
      "Get Data for : MITK\n",
      "[*********************100%***********************]  1 of 1 completed\n",
      "Get Data for : MITT\n",
      "[*********************100%***********************]  1 of 1 completed\n",
      "Get Data for : MJCO\n",
      "[*********************100%***********************]  1 of 1 completed"
     ]
    },
    {
     "name": "stderr",
     "output_type": "stream",
     "text": [
      "\n",
      "1 Failed download:\n",
      "['MJCO']: Exception('%ticker%: No timezone found, symbol may be delisted')\n"
     ]
    },
    {
     "name": "stdout",
     "output_type": "stream",
     "text": [
      "\n",
      "Get Data for : MKC\n",
      "[*********************100%***********************]  1 of 1 completed\n",
      "Get Data for : MKL\n",
      "[*********************100%***********************]  1 of 1 completed\n",
      "Get Data for : MKSI\n",
      "[*********************100%***********************]  1 of 1 completed\n",
      "Get Data for : MKTX\n",
      "[*********************100%***********************]  1 of 1 completed\n",
      "Get Data for : MLAB\n",
      "[*********************100%***********************]  1 of 1 completed\n",
      "Get Data for : MLHR\n",
      "[*********************100%***********************]  1 of 1 completed"
     ]
    },
    {
     "name": "stderr",
     "output_type": "stream",
     "text": [
      "\n",
      "1 Failed download:\n",
      "['MLHR']: Exception('%ticker%: No timezone found, symbol may be delisted')\n"
     ]
    },
    {
     "name": "stdout",
     "output_type": "stream",
     "text": [
      "\n",
      "Get Data for : MLI\n",
      "[*********************100%***********************]  1 of 1 completed\n",
      "Get Data for : MLM\n",
      "[*********************100%***********************]  1 of 1 completed\n",
      "Get Data for : MLND\n",
      "[*********************100%***********************]  1 of 1 completed"
     ]
    },
    {
     "name": "stderr",
     "output_type": "stream",
     "text": [
      "\n",
      "1 Failed download:\n",
      "['MLND']: Exception('%ticker%: No timezone found, symbol may be delisted')\n"
     ]
    },
    {
     "name": "stdout",
     "output_type": "stream",
     "text": [
      "\n",
      "Get Data for : MLP\n",
      "[*********************100%***********************]  1 of 1 completed\n",
      "Get Data for : MLR\n",
      "[*********************100%***********************]  1 of 1 completed\n",
      "Get Data for : MLSS\n",
      "[*********************100%***********************]  1 of 1 completed\n",
      "Get Data for : MLVF\n",
      "[*********************100%***********************]  1 of 1 completed\n",
      "Get Data for : MMAC\n",
      "[*********************100%***********************]  1 of 1 completed"
     ]
    },
    {
     "name": "stderr",
     "output_type": "stream",
     "text": [
      "\n",
      "1 Failed download:\n",
      "['MMAC']: Exception('%ticker%: No timezone found, symbol may be delisted')\n"
     ]
    },
    {
     "name": "stdout",
     "output_type": "stream",
     "text": [
      "\n",
      "Get Data for : MMC\n",
      "[*********************100%***********************]  1 of 1 completed\n",
      "Get Data for : MMI\n",
      "[*********************100%***********************]  1 of 1 completed\n",
      "Get Data for : MMM\n",
      "[*********************100%***********************]  1 of 1 completed\n",
      "Get Data for : MMS\n",
      "[*********************100%***********************]  1 of 1 completed\n",
      "Get Data for : MMSI\n",
      "[*********************100%***********************]  1 of 1 completed\n",
      "Get Data for : MN\n",
      "[*********************100%***********************]  1 of 1 completed"
     ]
    },
    {
     "name": "stderr",
     "output_type": "stream",
     "text": [
      "\n",
      "1 Failed download:\n",
      "['MN']: Exception('%ticker%: No timezone found, symbol may be delisted')\n"
     ]
    },
    {
     "name": "stdout",
     "output_type": "stream",
     "text": [
      "\n",
      "Get Data for : MNK\n",
      "[*********************100%***********************]  1 of 1 completed"
     ]
    },
    {
     "name": "stderr",
     "output_type": "stream",
     "text": [
      "\n",
      "1 Failed download:\n",
      "['MNK']: Exception(\"%ticker%: Data doesn't exist for startDate = 1483246800, endDate = 1629345600\")\n"
     ]
    },
    {
     "name": "stdout",
     "output_type": "stream",
     "text": [
      "\n",
      "Get Data for : MNKD\n",
      "[*********************100%***********************]  1 of 1 completed\n",
      "Get Data for : MNOV\n",
      "[*********************100%***********************]  1 of 1 completed\n",
      "Get Data for : MNR\n",
      "[*********************100%***********************]  1 of 1 completed"
     ]
    },
    {
     "name": "stderr",
     "output_type": "stream",
     "text": [
      "\n",
      "1 Failed download:\n",
      "['MNR']: Exception('%ticker%: No timezone found, symbol may be delisted')\n"
     ]
    },
    {
     "name": "stdout",
     "output_type": "stream",
     "text": [
      "\n",
      "Get Data for : MNRL\n",
      "[*********************100%***********************]  1 of 1 completed"
     ]
    },
    {
     "name": "stderr",
     "output_type": "stream",
     "text": [
      "\n",
      "1 Failed download:\n",
      "['MNRL']: Exception('%ticker%: No timezone found, symbol may be delisted')\n"
     ]
    },
    {
     "name": "stdout",
     "output_type": "stream",
     "text": [
      "\n",
      "Get Data for : MNRO\n",
      "[*********************100%***********************]  1 of 1 completed\n",
      "Get Data for : MNST\n",
      "[*********************100%***********************]  1 of 1 completed\n",
      "Get Data for : MNTA\n",
      "[*********************100%***********************]  1 of 1 completed"
     ]
    },
    {
     "name": "stderr",
     "output_type": "stream",
     "text": [
      "\n",
      "1 Failed download:\n",
      "['MNTA']: Exception('%ticker%: No timezone found, symbol may be delisted')\n"
     ]
    },
    {
     "name": "stdout",
     "output_type": "stream",
     "text": [
      "\n",
      "Get Data for : MNTX\n",
      "[*********************100%***********************]  1 of 1 completed\n",
      "Get Data for : MO\n",
      "[*********************100%***********************]  1 of 1 completed\n",
      "Get Data for : MOBL\n",
      "[*********************100%***********************]  1 of 1 completed\n",
      "Get Data for : MOD\n",
      "[*********************100%***********************]  1 of 1 completed\n",
      "Get Data for : MODN\n",
      "[*********************100%***********************]  1 of 1 completed\n",
      "Get Data for : MOFG\n",
      "[*********************100%***********************]  1 of 1 completed\n",
      "Get Data for : MOH\n",
      "[*********************100%***********************]  1 of 1 completed\n",
      "Get Data for : MORN\n",
      "[*********************100%***********************]  1 of 1 completed\n",
      "Get Data for : MOS\n",
      "[*********************100%***********************]  1 of 1 completed\n",
      "Get Data for : MOSY\n",
      "[*********************100%***********************]  1 of 1 completed"
     ]
    },
    {
     "name": "stderr",
     "output_type": "stream",
     "text": [
      "\n",
      "1 Failed download:\n",
      "['MOSY']: Exception('%ticker%: No timezone found, symbol may be delisted')\n"
     ]
    },
    {
     "name": "stdout",
     "output_type": "stream",
     "text": [
      "\n",
      "Get Data for : MOTS\n",
      "[*********************100%***********************]  1 of 1 completed\n",
      "Get Data for : MOV\n",
      "[*********************100%***********************]  1 of 1 completed\n",
      "Get Data for : MPAA\n",
      "[*********************100%***********************]  1 of 1 completed\n",
      "Get Data for : MPB\n",
      "[*********************100%***********************]  1 of 1 completed\n",
      "Get Data for : MPC\n",
      "[*********************100%***********************]  1 of 1 completed\n",
      "Get Data for : MPW\n",
      "[*********************100%***********************]  1 of 1 completed\n",
      "Get Data for : MPWR\n",
      "[*********************100%***********************]  1 of 1 completed\n",
      "Get Data for : MPX\n",
      "[*********************100%***********************]  1 of 1 completed\n",
      "Get Data for : MRAM\n",
      "[*********************100%***********************]  1 of 1 completed\n",
      "Get Data for : MRC\n",
      "[*********************100%***********************]  1 of 1 completed\n",
      "Get Data for : MRCY\n",
      "[*********************100%***********************]  1 of 1 completed\n",
      "Get Data for : MRIN\n",
      "[*********************100%***********************]  1 of 1 completed\n",
      "Get Data for : MRK\n",
      "[*********************100%***********************]  1 of 1 completed\n",
      "Get Data for : MRKR\n",
      "[*********************100%***********************]  1 of 1 completed\n",
      "Get Data for : MRLN\n",
      "[*********************100%***********************]  1 of 1 completed"
     ]
    },
    {
     "name": "stderr",
     "output_type": "stream",
     "text": [
      "\n",
      "1 Failed download:\n",
      "['MRLN']: Exception('%ticker%: No timezone found, symbol may be delisted')\n"
     ]
    },
    {
     "name": "stdout",
     "output_type": "stream",
     "text": [
      "\n",
      "Get Data for : MRNS\n",
      "[*********************100%***********************]  1 of 1 completed\n",
      "Get Data for : MRO\n",
      "[*********************100%***********************]  1 of 1 completed\n",
      "Get Data for : MRSN\n",
      "[*********************100%***********************]  1 of 1 completed\n",
      "Get Data for : MRTN\n",
      "[*********************100%***********************]  1 of 1 completed\n",
      "Get Data for : MRTX\n",
      "[*********************100%***********************]  1 of 1 completed\n",
      "Get Data for : MRVL\n",
      "[*********************100%***********************]  1 of 1 completed\n",
      "Get Data for : MS\n",
      "[*********************100%***********************]  1 of 1 completed\n",
      "Get Data for : MSA\n",
      "[*********************100%***********************]  1 of 1 completed\n",
      "Get Data for : MSBF\n",
      "[*********************100%***********************]  1 of 1 completed"
     ]
    },
    {
     "name": "stderr",
     "output_type": "stream",
     "text": [
      "\n",
      "1 Failed download:\n",
      "['MSBF']: Exception('%ticker%: No timezone found, symbol may be delisted')\n"
     ]
    },
    {
     "name": "stdout",
     "output_type": "stream",
     "text": [
      "\n",
      "Get Data for : MSBI\n",
      "[*********************100%***********************]  1 of 1 completed\n",
      "Get Data for : MSCI\n",
      "[*********************100%***********************]  1 of 1 completed\n",
      "Get Data for : MSEX\n",
      "[*********************100%***********************]  1 of 1 completed\n",
      "Get Data for : MSFT\n",
      "[*********************100%***********************]  1 of 1 completed\n",
      "Get Data for : MSGN\n",
      "[*********************100%***********************]  1 of 1 completed"
     ]
    },
    {
     "name": "stderr",
     "output_type": "stream",
     "text": [
      "\n",
      "1 Failed download:\n",
      "['MSGN']: Exception('%ticker%: No timezone found, symbol may be delisted')\n"
     ]
    },
    {
     "name": "stdout",
     "output_type": "stream",
     "text": [
      "\n",
      "Get Data for : MSI\n",
      "[*********************100%***********************]  1 of 1 completed\n",
      "Get Data for : MSM\n",
      "[*********************100%***********************]  1 of 1 completed\n",
      "Get Data for : MSN\n",
      "[*********************100%***********************]  1 of 1 completed\n",
      "Get Data for : MSON\n",
      "[*********************100%***********************]  1 of 1 completed"
     ]
    },
    {
     "name": "stderr",
     "output_type": "stream",
     "text": [
      "\n",
      "1 Failed download:\n",
      "['MSON']: Exception('%ticker%: No timezone found, symbol may be delisted')\n"
     ]
    },
    {
     "name": "stdout",
     "output_type": "stream",
     "text": [
      "\n",
      "Get Data for : MSTR\n",
      "[*********************100%***********************]  1 of 1 completed\n",
      "Get Data for : MTB\n",
      "[*********************100%***********************]  1 of 1 completed\n",
      "Get Data for : MTCH\n",
      "[*********************100%***********************]  1 of 1 completed\n",
      "Get Data for : MTD\n",
      "[*********************100%***********************]  1 of 1 completed\n",
      "Get Data for : MTDR\n",
      "[*********************100%***********************]  1 of 1 completed\n",
      "Get Data for : MTEM\n",
      "[*********************100%***********************]  1 of 1 completed\n",
      "Get Data for : MTEX\n",
      "[*********************100%***********************]  1 of 1 completed\n",
      "Get Data for : MTG\n",
      "[*********************100%***********************]  1 of 1 completed\n",
      "Get Data for : MTH\n",
      "[*********************100%***********************]  1 of 1 completed\n",
      "Get Data for : MTN\n",
      "[*********************100%***********************]  1 of 1 completed\n",
      "Get Data for : MTNB\n",
      "[*********************100%***********************]  1 of 1 completed\n",
      "Get Data for : MTOR\n",
      "[*********************100%***********************]  1 of 1 completed"
     ]
    },
    {
     "name": "stderr",
     "output_type": "stream",
     "text": [
      "\n",
      "1 Failed download:\n",
      "['MTOR']: Exception('%ticker%: No timezone found, symbol may be delisted')\n"
     ]
    },
    {
     "name": "stdout",
     "output_type": "stream",
     "text": [
      "\n",
      "Get Data for : MTRN\n",
      "[*********************100%***********************]  1 of 1 completed\n",
      "Get Data for : MTRX\n",
      "[*********************100%***********************]  1 of 1 completed\n",
      "Get Data for : MTSC\n",
      "[*********************100%***********************]  1 of 1 completed"
     ]
    },
    {
     "name": "stderr",
     "output_type": "stream",
     "text": [
      "\n",
      "1 Failed download:\n",
      "['MTSC']: Exception('%ticker%: No timezone found, symbol may be delisted')\n"
     ]
    },
    {
     "name": "stdout",
     "output_type": "stream",
     "text": [
      "\n",
      "Get Data for : MTSI\n",
      "[*********************100%***********************]  1 of 1 completed\n",
      "Get Data for : MTW\n",
      "[*********************100%***********************]  1 of 1 completed\n",
      "Get Data for : MTX\n",
      "[*********************100%***********************]  1 of 1 completed\n",
      "Get Data for : MTZ\n",
      "[*********************100%***********************]  1 of 1 completed\n",
      "Get Data for : MU\n",
      "[*********************100%***********************]  1 of 1 completed\n",
      "Get Data for : MUR\n",
      "[*********************100%***********************]  1 of 1 completed\n",
      "Get Data for : MUSA\n",
      "[*********************100%***********************]  1 of 1 completed\n",
      "Get Data for : MUX\n",
      "[*********************100%***********************]  1 of 1 completed\n",
      "Get Data for : MVBF\n",
      "[*********************100%***********************]  1 of 1 completed\n",
      "Get Data for : MVIS\n",
      "[*********************100%***********************]  1 of 1 completed\n",
      "Get Data for : MWA\n",
      "[*********************100%***********************]  1 of 1 completed\n",
      "Get Data for : MXIM\n",
      "[*********************100%***********************]  1 of 1 completed"
     ]
    },
    {
     "name": "stderr",
     "output_type": "stream",
     "text": [
      "\n",
      "1 Failed download:\n",
      "['MXIM']: Exception('%ticker%: No timezone found, symbol may be delisted')\n"
     ]
    },
    {
     "name": "stdout",
     "output_type": "stream",
     "text": [
      "\n",
      "Get Data for : MXL\n",
      "[*********************100%***********************]  1 of 1 completed\n",
      "Get Data for : MYE\n",
      "[*********************100%***********************]  1 of 1 completed\n",
      "Get Data for : MYGN\n",
      "[*********************100%***********************]  1 of 1 completed\n",
      "Get Data for : MYL\n",
      "[*********************100%***********************]  1 of 1 completed"
     ]
    },
    {
     "name": "stderr",
     "output_type": "stream",
     "text": [
      "\n",
      "1 Failed download:\n",
      "['MYL']: Exception('%ticker%: No timezone found, symbol may be delisted')\n"
     ]
    },
    {
     "name": "stdout",
     "output_type": "stream",
     "text": [
      "\n",
      "Get Data for : MYOK\n",
      "[*********************100%***********************]  1 of 1 completed"
     ]
    },
    {
     "name": "stderr",
     "output_type": "stream",
     "text": [
      "\n",
      "1 Failed download:\n",
      "['MYOK']: Exception('%ticker%: No timezone found, symbol may be delisted')\n"
     ]
    },
    {
     "name": "stdout",
     "output_type": "stream",
     "text": [
      "\n",
      "Get Data for : MYOS\n",
      "[*********************100%***********************]  1 of 1 completed"
     ]
    },
    {
     "name": "stderr",
     "output_type": "stream",
     "text": [
      "\n",
      "1 Failed download:\n",
      "['MYOS']: Exception('%ticker%: No timezone found, symbol may be delisted')\n"
     ]
    },
    {
     "name": "stdout",
     "output_type": "stream",
     "text": [
      "\n",
      "Get Data for : MYRG\n",
      "[*********************100%***********************]  1 of 1 completed\n",
      "Get Data for : NAII\n",
      "[*********************100%***********************]  1 of 1 completed\n",
      "Get Data for : NATH\n",
      "[*********************100%***********************]  1 of 1 completed\n",
      "Get Data for : NATI\n",
      "[*********************100%***********************]  1 of 1 completed\n",
      "Get Data for : NATR\n",
      "[*********************100%***********************]  1 of 1 completed\n",
      "Get Data for : NAV\n",
      "[*********************100%***********************]  1 of 1 completed"
     ]
    },
    {
     "name": "stderr",
     "output_type": "stream",
     "text": [
      "\n",
      "1 Failed download:\n",
      "['NAV']: Exception('%ticker%: No timezone found, symbol may be delisted')\n"
     ]
    },
    {
     "name": "stdout",
     "output_type": "stream",
     "text": [
      "\n",
      "Get Data for : NAVB\n",
      "[*********************100%***********************]  1 of 1 completed\n",
      "Get Data for : NAVI\n",
      "[*********************100%***********************]  1 of 1 completed\n",
      "Get Data for : NBEV\n",
      "[*********************100%***********************]  1 of 1 completed"
     ]
    },
    {
     "name": "stderr",
     "output_type": "stream",
     "text": [
      "\n",
      "1 Failed download:\n",
      "['NBEV']: Exception('%ticker%: No timezone found, symbol may be delisted')\n"
     ]
    },
    {
     "name": "stdout",
     "output_type": "stream",
     "text": [
      "\n",
      "Get Data for : NBHC\n",
      "[*********************100%***********************]  1 of 1 completed\n",
      "Get Data for : NBIX\n",
      "[*********************100%***********************]  1 of 1 completed\n",
      "Get Data for : NBL\n",
      "[*********************100%***********************]  1 of 1 completed"
     ]
    },
    {
     "name": "stderr",
     "output_type": "stream",
     "text": [
      "\n",
      "1 Failed download:\n",
      "['NBL']: Exception('%ticker%: No timezone found, symbol may be delisted')\n"
     ]
    },
    {
     "name": "stdout",
     "output_type": "stream",
     "text": [
      "\n",
      "Get Data for : NBN\n",
      "[*********************100%***********************]  1 of 1 completed\n",
      "Get Data for : NBR\n",
      "[*********************100%***********************]  1 of 1 completed\n",
      "Get Data for : NBTB\n",
      "[*********************100%***********************]  1 of 1 completed\n",
      "Get Data for : NBY\n",
      "[*********************100%***********************]  1 of 1 completed\n",
      "Get Data for : NC\n",
      "[*********************100%***********************]  1 of 1 completed\n",
      "Get Data for : NCBS\n",
      "[*********************100%***********************]  1 of 1 completed"
     ]
    },
    {
     "name": "stderr",
     "output_type": "stream",
     "text": [
      "\n",
      "1 Failed download:\n",
      "['NCBS']: Exception('%ticker%: No timezone found, symbol may be delisted')\n"
     ]
    },
    {
     "name": "stdout",
     "output_type": "stream",
     "text": [
      "\n",
      "Get Data for : NCLH\n",
      "[*********************100%***********************]  1 of 1 completed\n",
      "Get Data for : NCMI\n",
      "[*********************100%***********************]  1 of 1 completed\n",
      "Get Data for : NCR\n",
      "[*********************100%***********************]  1 of 1 completed\n",
      "Get Data for : NCSM\n",
      "[*********************100%***********************]  1 of 1 completed\n",
      "Get Data for : NDAQ\n",
      "[*********************100%***********************]  1 of 1 completed\n",
      "Get Data for : NDLS\n",
      "[*********************100%***********************]  1 of 1 completed\n",
      "Get Data for : NDSN\n",
      "[*********************100%***********************]  1 of 1 completed\n",
      "Get Data for : NE\n",
      "[*********************100%***********************]  1 of 1 completed\n",
      "Get Data for : NEE\n",
      "[*********************100%***********************]  1 of 1 completed\n",
      "Get Data for : NEM\n",
      "[*********************100%***********************]  1 of 1 completed\n",
      "Get Data for : NEO\n",
      "[*********************100%***********************]  1 of 1 completed\n",
      "Get Data for : NEOG\n",
      "[*********************100%***********************]  1 of 1 completed\n",
      "Get Data for : NEON\n",
      "[*********************100%***********************]  1 of 1 completed\n",
      "Get Data for : NEOS\n",
      "[*********************100%***********************]  1 of 1 completed"
     ]
    },
    {
     "name": "stderr",
     "output_type": "stream",
     "text": [
      "\n",
      "1 Failed download:\n",
      "['NEOS']: Exception('%ticker%: No timezone found, symbol may be delisted')\n"
     ]
    },
    {
     "name": "stdout",
     "output_type": "stream",
     "text": [
      "\n",
      "Get Data for : NERV\n",
      "[*********************100%***********************]  1 of 1 completed\n",
      "Get Data for : NETE\n",
      "[*********************100%***********************]  1 of 1 completed"
     ]
    },
    {
     "name": "stderr",
     "output_type": "stream",
     "text": [
      "\n",
      "1 Failed download:\n",
      "['NETE']: Exception('%ticker%: No timezone found, symbol may be delisted')\n"
     ]
    },
    {
     "name": "stdout",
     "output_type": "stream",
     "text": [
      "\n",
      "Get Data for : NEU\n",
      "[*********************100%***********************]  1 of 1 completed\n",
      "Get Data for : NEWR\n",
      "[*********************100%***********************]  1 of 1 completed\n",
      "Get Data for : NFBK\n",
      "[*********************100%***********************]  1 of 1 completed\n",
      "Get Data for : NFG\n",
      "[*********************100%***********************]  1 of 1 completed\n",
      "Get Data for : NFLX\n",
      "[*********************100%***********************]  1 of 1 completed\n",
      "Get Data for : NGHC\n",
      "[*********************100%***********************]  1 of 1 completed"
     ]
    },
    {
     "name": "stderr",
     "output_type": "stream",
     "text": [
      "\n",
      "1 Failed download:\n",
      "['NGHC']: Exception('%ticker%: No timezone found, symbol may be delisted')\n"
     ]
    },
    {
     "name": "stdout",
     "output_type": "stream",
     "text": [
      "\n",
      "Get Data for : NGS\n",
      "[*********************100%***********************]  1 of 1 completed\n",
      "Get Data for : NGVC\n",
      "[*********************100%***********************]  1 of 1 completed\n",
      "Get Data for : NGVT\n",
      "[*********************100%***********************]  1 of 1 completed\n",
      "Get Data for : NHC\n",
      "[*********************100%***********************]  1 of 1 completed\n",
      "Get Data for : NHI\n",
      "[*********************100%***********************]  1 of 1 completed\n",
      "Get Data for : NHTC\n",
      "[*********************100%***********************]  1 of 1 completed\n",
      "Get Data for : NI\n",
      "[*********************100%***********************]  1 of 1 completed\n",
      "Get Data for : NICK\n",
      "[*********************100%***********************]  1 of 1 completed\n",
      "Get Data for : NINE\n",
      "[*********************100%***********************]  1 of 1 completed\n",
      "Get Data for : NJR\n",
      "[*********************100%***********************]  1 of 1 completed\n",
      "Get Data for : NK\n",
      "[*********************100%***********************]  1 of 1 completed"
     ]
    },
    {
     "name": "stderr",
     "output_type": "stream",
     "text": [
      "\n",
      "1 Failed download:\n",
      "['NK']: Exception('%ticker%: No timezone found, symbol may be delisted')\n"
     ]
    },
    {
     "name": "stdout",
     "output_type": "stream",
     "text": [
      "\n",
      "Get Data for : NKE\n",
      "[*********************100%***********************]  1 of 1 completed\n",
      "Get Data for : NKSH\n",
      "[*********************100%***********************]  1 of 1 completed\n",
      "Get Data for : NKTR\n",
      "[*********************100%***********************]  1 of 1 completed\n",
      "Get Data for : NL\n",
      "[*********************100%***********************]  1 of 1 completed\n",
      "Get Data for : NLS\n",
      "[*********************100%***********************]  1 of 1 completed\n",
      "Get Data for : NLSN\n",
      "[*********************100%***********************]  1 of 1 completed"
     ]
    },
    {
     "name": "stderr",
     "output_type": "stream",
     "text": [
      "\n",
      "1 Failed download:\n",
      "['NLSN']: Exception('%ticker%: No timezone found, symbol may be delisted')\n"
     ]
    },
    {
     "name": "stdout",
     "output_type": "stream",
     "text": [
      "\n",
      "Get Data for : NLY\n",
      "[*********************100%***********************]  1 of 1 completed\n",
      "Get Data for : NMIH\n",
      "[*********************100%***********************]  1 of 1 completed\n",
      "Get Data for : NMRK\n",
      "[*********************100%***********************]  1 of 1 completed\n",
      "Get Data for : NNBR\n",
      "[*********************100%***********************]  1 of 1 completed\n",
      "Get Data for : NNI\n",
      "[*********************100%***********************]  1 of 1 completed\n",
      "Get Data for : NNN\n",
      "[*********************100%***********************]  1 of 1 completed\n",
      "Get Data for : NNVC\n",
      "[*********************100%***********************]  1 of 1 completed\n",
      "Get Data for : NOC\n",
      "[*********************100%***********************]  1 of 1 completed\n",
      "Get Data for : NODK\n",
      "[*********************100%***********************]  1 of 1 completed\n",
      "Get Data for : NOG\n",
      "[*********************100%***********************]  1 of 1 completed\n",
      "Get Data for : NOV\n",
      "[*********************100%***********************]  1 of 1 completed\n",
      "Get Data for : NOVT\n",
      "[*********************100%***********************]  1 of 1 completed\n",
      "Get Data for : NOW\n",
      "[*********************100%***********************]  1 of 1 completed\n",
      "Get Data for : NP\n",
      "[*********************100%***********************]  1 of 1 completed"
     ]
    },
    {
     "name": "stderr",
     "output_type": "stream",
     "text": [
      "\n",
      "1 Failed download:\n",
      "['NP']: Exception('%ticker%: No timezone found, symbol may be delisted')\n"
     ]
    },
    {
     "name": "stdout",
     "output_type": "stream",
     "text": [
      "\n",
      "Get Data for : NPK\n",
      "[*********************100%***********************]  1 of 1 completed\n",
      "Get Data for : NPO\n",
      "[*********************100%***********************]  1 of 1 completed\n",
      "Get Data for : NPTN\n",
      "[*********************100%***********************]  1 of 1 completed"
     ]
    },
    {
     "name": "stderr",
     "output_type": "stream",
     "text": [
      "\n",
      "1 Failed download:\n",
      "['NPTN']: Exception('%ticker%: No timezone found, symbol may be delisted')\n"
     ]
    },
    {
     "name": "stdout",
     "output_type": "stream",
     "text": [
      "\n",
      "Get Data for : NR\n",
      "[*********************100%***********************]  1 of 1 completed\n",
      "Get Data for : NRC\n",
      "[*********************100%***********************]  1 of 1 completed\n",
      "Get Data for : NRG\n",
      "[*********************100%***********************]  1 of 1 completed\n",
      "Get Data for : NRIM\n",
      "[*********************100%***********************]  1 of 1 completed\n",
      "Get Data for : NRZ\n",
      "[*********************100%***********************]  1 of 1 completed"
     ]
    },
    {
     "name": "stderr",
     "output_type": "stream",
     "text": [
      "\n",
      "1 Failed download:\n",
      "['NRZ']: Exception('%ticker%: No timezone found, symbol may be delisted')\n"
     ]
    },
    {
     "name": "stdout",
     "output_type": "stream",
     "text": [
      "\n",
      "Get Data for : NSA\n",
      "[*********************100%***********************]  1 of 1 completed\n",
      "Get Data for : NSC\n",
      "[*********************100%***********************]  1 of 1 completed\n",
      "Get Data for : NSEC\n",
      "[*********************100%***********************]  1 of 1 completed"
     ]
    },
    {
     "name": "stderr",
     "output_type": "stream",
     "text": [
      "\n",
      "1 Failed download:\n",
      "['NSEC']: Exception('%ticker%: No timezone found, symbol may be delisted')\n"
     ]
    },
    {
     "name": "stdout",
     "output_type": "stream",
     "text": [
      "\n",
      "Get Data for : NSIT\n",
      "[*********************100%***********************]  1 of 1 completed\n",
      "Get Data for : NSP\n",
      "[*********************100%***********************]  1 of 1 completed\n",
      "Get Data for : NSSC\n",
      "[*********************100%***********************]  1 of 1 completed\n",
      "Get Data for : NSTG\n",
      "[*********************100%***********************]  1 of 1 completed\n",
      "Get Data for : NTAP\n",
      "[*********************100%***********************]  1 of 1 completed\n",
      "Get Data for : NTCT\n",
      "[*********************100%***********************]  1 of 1 completed\n",
      "Get Data for : NTGR\n",
      "[*********************100%***********************]  1 of 1 completed\n",
      "Get Data for : NTIC\n",
      "[*********************100%***********************]  1 of 1 completed\n",
      "Get Data for : NTIP\n",
      "[*********************100%***********************]  1 of 1 completed\n",
      "Get Data for : NTLA\n",
      "[*********************100%***********************]  1 of 1 completed\n",
      "Get Data for : NTN\n",
      "[*********************100%***********************]  1 of 1 completed"
     ]
    },
    {
     "name": "stderr",
     "output_type": "stream",
     "text": [
      "\n",
      "1 Failed download:\n",
      "['NTN']: Exception('%ticker%: No timezone found, symbol may be delisted')\n"
     ]
    },
    {
     "name": "stdout",
     "output_type": "stream",
     "text": [
      "\n",
      "Get Data for : NTNX\n",
      "[*********************100%***********************]  1 of 1 completed\n",
      "Get Data for : NTRA\n",
      "[*********************100%***********************]  1 of 1 completed\n",
      "Get Data for : NTRS\n",
      "[*********************100%***********************]  1 of 1 completed\n",
      "Get Data for : NTWK\n",
      "[*********************100%***********************]  1 of 1 completed\n",
      "Get Data for : NUAN\n",
      "[*********************100%***********************]  1 of 1 completed"
     ]
    },
    {
     "name": "stderr",
     "output_type": "stream",
     "text": [
      "\n",
      "1 Failed download:\n",
      "['NUAN']: Exception('%ticker%: No timezone found, symbol may be delisted')\n"
     ]
    },
    {
     "name": "stdout",
     "output_type": "stream",
     "text": [
      "\n",
      "Get Data for : NUE\n",
      "[*********************100%***********************]  1 of 1 completed\n",
      "Get Data for : NURO\n",
      "[*********************100%***********************]  1 of 1 completed\n",
      "Get Data for : NUS\n",
      "[*********************100%***********************]  1 of 1 completed\n",
      "Get Data for : NUVA\n",
      "[*********************100%***********************]  1 of 1 completed\n",
      "Get Data for : NVAX\n",
      "[*********************100%***********************]  1 of 1 completed\n",
      "Get Data for : NVDA\n",
      "[*********************100%***********************]  1 of 1 completed\n",
      "Get Data for : NVEC\n",
      "[*********************100%***********************]  1 of 1 completed\n",
      "Get Data for : NVEE\n",
      "[*********************100%***********************]  1 of 1 completed\n",
      "Get Data for : NVFY\n",
      "[*********************100%***********************]  1 of 1 completed\n",
      "Get Data for : NVIV\n",
      "[*********************100%***********************]  1 of 1 completed\n",
      "Get Data for : NVR\n",
      "[*********************100%***********************]  1 of 1 completed\n",
      "Get Data for : NVRO\n",
      "[*********************100%***********************]  1 of 1 completed\n",
      "Get Data for : NVT\n",
      "[*********************100%***********************]  1 of 1 completed\n",
      "Get Data for : NVTA\n",
      "[*********************100%***********************]  1 of 1 completed\n",
      "Get Data for : NVUS\n",
      "[*********************100%***********************]  1 of 1 completed"
     ]
    },
    {
     "name": "stderr",
     "output_type": "stream",
     "text": [
      "\n",
      "1 Failed download:\n",
      "['NVUS']: Exception('%ticker%: No timezone found, symbol may be delisted')\n"
     ]
    },
    {
     "name": "stdout",
     "output_type": "stream",
     "text": [
      "\n",
      "Get Data for : NWBI\n",
      "[*********************100%***********************]  1 of 1 completed\n",
      "Get Data for : NWE\n",
      "[*********************100%***********************]  1 of 1 completed\n",
      "Get Data for : NWFL\n",
      "[*********************100%***********************]  1 of 1 completed\n",
      "Get Data for : NWHM\n",
      "[*********************100%***********************]  1 of 1 completed"
     ]
    },
    {
     "name": "stderr",
     "output_type": "stream",
     "text": [
      "\n",
      "1 Failed download:\n",
      "['NWHM']: Exception('%ticker%: No timezone found, symbol may be delisted')\n"
     ]
    },
    {
     "name": "stdout",
     "output_type": "stream",
     "text": [
      "\n",
      "Get Data for : NWL\n",
      "[*********************100%***********************]  1 of 1 completed\n",
      "Get Data for : NWLI\n",
      "[*********************100%***********************]  1 of 1 completed\n",
      "Get Data for : NWN\n",
      "[*********************100%***********************]  1 of 1 completed\n",
      "Get Data for : NWPX\n",
      "[*********************100%***********************]  1 of 1 completed\n",
      "Get Data for : NWS\n",
      "[*********************100%***********************]  1 of 1 completed\n",
      "Get Data for : NWSA\n",
      "[*********************100%***********************]  1 of 1 completed\n",
      "Get Data for : NX\n",
      "[*********************100%***********************]  1 of 1 completed\n",
      "Get Data for : NXGN\n",
      "[*********************100%***********************]  1 of 1 completed\n",
      "Get Data for : NXRT\n",
      "[*********************100%***********************]  1 of 1 completed\n",
      "Get Data for : NXST\n",
      "[*********************100%***********************]  1 of 1 completed\n",
      "Get Data for : NXTD\n",
      "[*********************100%***********************]  1 of 1 completed"
     ]
    },
    {
     "name": "stderr",
     "output_type": "stream",
     "text": [
      "\n",
      "1 Failed download:\n",
      "['NXTD']: Exception('%ticker%: No timezone found, symbol may be delisted')\n"
     ]
    },
    {
     "name": "stdout",
     "output_type": "stream",
     "text": [
      "\n",
      "Get Data for : NYCB\n",
      "[*********************100%***********************]  1 of 1 completed\n",
      "Get Data for : NYMT\n",
      "[*********************100%***********************]  1 of 1 completed\n",
      "Get Data for : NYT\n",
      "[*********************100%***********************]  1 of 1 completed\n",
      "Get Data for : O\n",
      "[*********************100%***********************]  1 of 1 completed\n",
      "Get Data for : OAS\n",
      "[*********************100%***********************]  1 of 1 completed"
     ]
    },
    {
     "name": "stderr",
     "output_type": "stream",
     "text": [
      "\n",
      "1 Failed download:\n",
      "['OAS']: Exception('%ticker%: No timezone found, symbol may be delisted')\n"
     ]
    },
    {
     "name": "stdout",
     "output_type": "stream",
     "text": [
      "\n",
      "Get Data for : OBCI\n",
      "[*********************100%***********************]  1 of 1 completed"
     ]
    },
    {
     "name": "stderr",
     "output_type": "stream",
     "text": [
      "\n",
      "1 Failed download:\n",
      "['OBCI']: Exception('%ticker%: No timezone found, symbol may be delisted')\n"
     ]
    },
    {
     "name": "stdout",
     "output_type": "stream",
     "text": [
      "\n",
      "Get Data for : OBNK\n",
      "[*********************100%***********************]  1 of 1 completed\n",
      "Get Data for : OC\n",
      "[*********************100%***********************]  1 of 1 completed\n",
      "Get Data for : OCC\n",
      "[*********************100%***********************]  1 of 1 completed\n",
      "Get Data for : OCFC\n",
      "[*********************100%***********************]  1 of 1 completed\n",
      "Get Data for : OCN\n",
      "[*********************100%***********************]  1 of 1 completed\n",
      "Get Data for : OCUL\n",
      "[*********************100%***********************]  1 of 1 completed\n",
      "Get Data for : OCX\n",
      "[*********************100%***********************]  1 of 1 completed\n",
      "Get Data for : ODC\n",
      "[*********************100%***********************]  1 of 1 completed\n",
      "Get Data for : ODFL\n",
      "[*********************100%***********************]  1 of 1 completed\n",
      "Get Data for : ODP\n",
      "[*********************100%***********************]  1 of 1 completed\n",
      "Get Data for : ODT\n",
      "[*********************100%***********************]  1 of 1 completed"
     ]
    },
    {
     "name": "stderr",
     "output_type": "stream",
     "text": [
      "\n",
      "1 Failed download:\n",
      "['ODT']: Exception('%ticker%: No timezone found, symbol may be delisted')\n"
     ]
    },
    {
     "name": "stdout",
     "output_type": "stream",
     "text": [
      "\n",
      "Get Data for : OESX\n",
      "[*********************100%***********************]  1 of 1 completed\n",
      "Get Data for : OFC\n",
      "[*********************100%***********************]  1 of 1 completed\n",
      "Get Data for : OFED\n",
      "[*********************100%***********************]  1 of 1 completed\n",
      "Get Data for : OFG\n",
      "[*********************100%***********************]  1 of 1 completed\n",
      "Get Data for : OFIX\n",
      "[*********************100%***********************]  1 of 1 completed\n",
      "Get Data for : OFLX\n",
      "[*********************100%***********************]  1 of 1 completed\n",
      "Get Data for : OGE\n",
      "[*********************100%***********************]  1 of 1 completed\n",
      "Get Data for : OGEN\n",
      "[*********************100%***********************]  1 of 1 completed\n",
      "Get Data for : OGS\n",
      "[*********************100%***********************]  1 of 1 completed\n",
      "Get Data for : OHI\n",
      "[*********************100%***********************]  1 of 1 completed\n",
      "Get Data for : OI\n",
      "[*********************100%***********************]  1 of 1 completed\n",
      "Get Data for : OII\n",
      "[*********************100%***********************]  1 of 1 completed\n",
      "Get Data for : OIS\n",
      "[*********************100%***********************]  1 of 1 completed\n",
      "Get Data for : OKE\n",
      "[*********************100%***********************]  1 of 1 completed\n",
      "Get Data for : OKTA\n",
      "[*********************100%***********************]  1 of 1 completed\n",
      "Get Data for : OLED\n",
      "[*********************100%***********************]  1 of 1 completed\n",
      "Get Data for : OLLI\n",
      "[*********************100%***********************]  1 of 1 completed\n",
      "Get Data for : OLN\n",
      "[*********************100%***********************]  1 of 1 completed\n",
      "Get Data for : OLP\n",
      "[*********************100%***********************]  1 of 1 completed\n",
      "Get Data for : OMC\n",
      "[*********************100%***********************]  1 of 1 completed\n",
      "Get Data for : OMCL\n",
      "[*********************100%***********************]  1 of 1 completed\n",
      "Get Data for : OMER\n",
      "[*********************100%***********************]  1 of 1 completed\n",
      "Get Data for : OMEX\n",
      "[*********************100%***********************]  1 of 1 completed\n",
      "Get Data for : OMF\n",
      "[*********************100%***********************]  1 of 1 completed\n",
      "Get Data for : OMI\n",
      "[*********************100%***********************]  1 of 1 completed\n",
      "Get Data for : ON\n",
      "[*********************100%***********************]  1 of 1 completed\n",
      "Get Data for : ONB\n",
      "[*********************100%***********************]  1 of 1 completed\n",
      "Get Data for : ONCS\n",
      "[*********************100%***********************]  1 of 1 completed\n",
      "Get Data for : ONDK\n",
      "[*********************100%***********************]  1 of 1 completed"
     ]
    },
    {
     "name": "stderr",
     "output_type": "stream",
     "text": [
      "\n",
      "1 Failed download:\n",
      "['ONDK']: Exception('%ticker%: No timezone found, symbol may be delisted')\n"
     ]
    },
    {
     "name": "stdout",
     "output_type": "stream",
     "text": [
      "\n",
      "Get Data for : ONTX\n",
      "[*********************100%***********************]  1 of 1 completed\n",
      "Get Data for : ONVO\n",
      "[*********************100%***********************]  1 of 1 completed\n",
      "Get Data for : OOMA\n",
      "[*********************100%***********************]  1 of 1 completed\n",
      "Get Data for : OPGN\n",
      "[*********************100%***********************]  1 of 1 completed\n",
      "Get Data for : OPI\n",
      "[*********************100%***********************]  1 of 1 completed\n",
      "Get Data for : OPK\n",
      "[*********************100%***********************]  1 of 1 completed\n",
      "Get Data for : OPOF\n",
      "[*********************100%***********************]  1 of 1 completed\n",
      "Get Data for : OPRX\n",
      "[*********************100%***********************]  1 of 1 completed\n",
      "Get Data for : OPTN\n",
      "[*********************100%***********************]  1 of 1 completed\n",
      "Get Data for : OPTT\n",
      "[*********************100%***********************]  1 of 1 completed\n",
      "Get Data for : OPY\n",
      "[*********************100%***********************]  1 of 1 completed\n",
      "Get Data for : ORA\n",
      "[*********************100%***********************]  1 of 1 completed\n",
      "Get Data for : ORBC\n",
      "[*********************100%***********************]  1 of 1 completed"
     ]
    },
    {
     "name": "stderr",
     "output_type": "stream",
     "text": [
      "\n",
      "1 Failed download:\n",
      "['ORBC']: Exception('%ticker%: No timezone found, symbol may be delisted')\n"
     ]
    },
    {
     "name": "stdout",
     "output_type": "stream",
     "text": [
      "\n",
      "Get Data for : ORC\n",
      "[*********************100%***********************]  1 of 1 completed\n",
      "Get Data for : ORCL\n",
      "[*********************100%***********************]  1 of 1 completed\n",
      "Get Data for : ORGO\n",
      "[*********************100%***********************]  1 of 1 completed\n",
      "Get Data for : ORI\n",
      "[*********************100%***********************]  1 of 1 completed\n",
      "Get Data for : ORLY\n",
      "[*********************100%***********************]  1 of 1 completed\n",
      "Get Data for : ORN\n",
      "[*********************100%***********************]  1 of 1 completed\n",
      "Get Data for : ORRF\n",
      "[*********************100%***********************]  1 of 1 completed\n",
      "Get Data for : OSBC\n",
      "[*********************100%***********************]  1 of 1 completed\n",
      "Get Data for : OSG\n",
      "[*********************100%***********************]  1 of 1 completed\n",
      "Get Data for : OSIS\n",
      "[*********************100%***********************]  1 of 1 completed\n",
      "Get Data for : OSK\n",
      "[*********************100%***********************]  1 of 1 completed\n",
      "Get Data for : OSPN\n",
      "[*********************100%***********************]  1 of 1 completed\n",
      "Get Data for : OSTK\n",
      "[*********************100%***********************]  1 of 1 completed\n",
      "Get Data for : OSUR\n",
      "[*********************100%***********************]  1 of 1 completed\n",
      "Get Data for : OTEL\n",
      "[*********************100%***********************]  1 of 1 completed"
     ]
    },
    {
     "name": "stderr",
     "output_type": "stream",
     "text": [
      "\n",
      "1 Failed download:\n",
      "['OTEL']: Exception('%ticker%: No timezone found, symbol may be delisted')\n"
     ]
    },
    {
     "name": "stdout",
     "output_type": "stream",
     "text": [
      "\n",
      "Get Data for : OTIC\n",
      "[*********************100%***********************]  1 of 1 completed"
     ]
    },
    {
     "name": "stderr",
     "output_type": "stream",
     "text": [
      "\n",
      "1 Failed download:\n",
      "['OTIC']: Exception('%ticker%: No timezone found, symbol may be delisted')\n"
     ]
    },
    {
     "name": "stdout",
     "output_type": "stream",
     "text": [
      "\n",
      "Get Data for : OTTR\n",
      "[*********************100%***********************]  1 of 1 completed\n",
      "Get Data for : OUT\n",
      "[*********************100%***********************]  1 of 1 completed\n",
      "Get Data for : OVBC\n",
      "[*********************100%***********************]  1 of 1 completed\n",
      "Get Data for : OVLY\n",
      "[*********************100%***********************]  1 of 1 completed\n",
      "Get Data for : OXM\n",
      "[*********************100%***********************]  1 of 1 completed\n",
      "Get Data for : OXY\n",
      "[*********************100%***********************]  1 of 1 completed\n",
      "Get Data for : OZK\n",
      "[*********************100%***********************]  1 of 1 completed\n",
      "Get Data for : PACB\n",
      "[*********************100%***********************]  1 of 1 completed\n",
      "Get Data for : PACW\n",
      "[*********************100%***********************]  1 of 1 completed\n",
      "Get Data for : PAG\n",
      "[*********************100%***********************]  1 of 1 completed\n",
      "Get Data for : PAHC\n",
      "[*********************100%***********************]  1 of 1 completed\n",
      "Get Data for : PANL\n",
      "[*********************100%***********************]  1 of 1 completed\n",
      "Get Data for : PANW\n",
      "[*********************100%***********************]  1 of 1 completed\n",
      "Get Data for : PAR\n",
      "[*********************100%***********************]  1 of 1 completed\n",
      "Get Data for : PARR\n",
      "[*********************100%***********************]  1 of 1 completed\n",
      "Get Data for : PATI\n",
      "[*********************100%***********************]  1 of 1 completed\n",
      "Get Data for : PATK\n",
      "[*********************100%***********************]  1 of 1 completed\n",
      "Get Data for : PAYC\n",
      "[*********************100%***********************]  1 of 1 completed\n",
      "Get Data for : PAYX\n",
      "[*********************100%***********************]  1 of 1 completed\n",
      "Get Data for : PB\n",
      "[*********************100%***********************]  1 of 1 completed\n",
      "Get Data for : PBCT\n",
      "[*********************100%***********************]  1 of 1 completed"
     ]
    },
    {
     "name": "stderr",
     "output_type": "stream",
     "text": [
      "\n",
      "1 Failed download:\n",
      "['PBCT']: Exception('%ticker%: No timezone found, symbol may be delisted')\n"
     ]
    },
    {
     "name": "stdout",
     "output_type": "stream",
     "text": [
      "\n",
      "Get Data for : PBF\n",
      "[*********************100%***********************]  1 of 1 completed\n",
      "Get Data for : PBH\n",
      "[*********************100%***********************]  1 of 1 completed\n",
      "Get Data for : PBHC\n",
      "[*********************100%***********************]  1 of 1 completed\n",
      "Get Data for : PBI\n",
      "[*********************100%***********************]  1 of 1 completed\n",
      "Get Data for : PBIP\n",
      "[*********************100%***********************]  1 of 1 completed"
     ]
    },
    {
     "name": "stderr",
     "output_type": "stream",
     "text": [
      "\n",
      "1 Failed download:\n",
      "['PBIP']: Exception('%ticker%: No timezone found, symbol may be delisted')\n"
     ]
    },
    {
     "name": "stdout",
     "output_type": "stream",
     "text": [
      "\n",
      "Get Data for : PBPB\n",
      "[*********************100%***********************]  1 of 1 completed\n",
      "Get Data for : PBYI\n",
      "[*********************100%***********************]  1 of 1 completed\n",
      "Get Data for : PCAR\n",
      "[*********************100%***********************]  1 of 1 completed\n",
      "Get Data for : PCH\n",
      "[*********************100%***********************]  1 of 1 completed\n",
      "Get Data for : PCRX\n",
      "[*********************100%***********************]  1 of 1 completed\n",
      "Get Data for : PCSB\n",
      "[*********************100%***********************]  1 of 1 completed"
     ]
    },
    {
     "name": "stderr",
     "output_type": "stream",
     "text": [
      "\n",
      "1 Failed download:\n",
      "['PCSB']: Exception('%ticker%: No timezone found, symbol may be delisted')\n"
     ]
    },
    {
     "name": "stdout",
     "output_type": "stream",
     "text": [
      "\n",
      "Get Data for : PCTI\n",
      "[*********************100%***********************]  1 of 1 completed\n",
      "Get Data for : PCTY\n",
      "[*********************100%***********************]  1 of 1 completed\n",
      "Get Data for : PCYG\n",
      "[*********************100%***********************]  1 of 1 completed\n",
      "Get Data for : PCYO\n",
      "[*********************100%***********************]  1 of 1 completed\n",
      "Get Data for : PD\n",
      "[*********************100%***********************]  1 of 1 completed\n",
      "Get Data for : PDCE\n",
      "[*********************100%***********************]  1 of 1 completed\n",
      "Get Data for : PDCO\n",
      "[*********************100%***********************]  1 of 1 completed\n",
      "Get Data for : PDEX\n",
      "[*********************100%***********************]  1 of 1 completed\n",
      "Get Data for : PDFS\n",
      "[*********************100%***********************]  1 of 1 completed\n",
      "Get Data for : PDLB\n",
      "[*********************100%***********************]  1 of 1 completed\n",
      "Get Data for : PDLI\n",
      "[*********************100%***********************]  1 of 1 completed"
     ]
    },
    {
     "name": "stderr",
     "output_type": "stream",
     "text": [
      "\n",
      "1 Failed download:\n",
      "['PDLI']: Exception('%ticker%: No timezone found, symbol may be delisted')\n"
     ]
    },
    {
     "name": "stdout",
     "output_type": "stream",
     "text": [
      "\n",
      "Get Data for : PDM\n",
      "[*********************100%***********************]  1 of 1 completed\n",
      "Get Data for : PE\n",
      "[*********************100%***********************]  1 of 1 completed"
     ]
    },
    {
     "name": "stderr",
     "output_type": "stream",
     "text": [
      "\n",
      "1 Failed download:\n",
      "['PE']: Exception('%ticker%: No timezone found, symbol may be delisted')\n"
     ]
    },
    {
     "name": "stdout",
     "output_type": "stream",
     "text": [
      "\n",
      "Get Data for : PEB\n",
      "[*********************100%***********************]  1 of 1 completed\n",
      "Get Data for : PEBK\n",
      "[*********************100%***********************]  1 of 1 completed\n",
      "Get Data for : PEBO\n",
      "[*********************100%***********************]  1 of 1 completed\n",
      "Get Data for : PED\n",
      "[*********************100%***********************]  1 of 1 completed\n",
      "Get Data for : PEG\n",
      "[*********************100%***********************]  1 of 1 completed\n",
      "Get Data for : PEGA\n",
      "[*********************100%***********************]  1 of 1 completed\n",
      "Get Data for : PEI\n",
      "[*********************100%***********************]  1 of 1 completed"
     ]
    },
    {
     "name": "stderr",
     "output_type": "stream",
     "text": [
      "\n",
      "1 Failed download:\n",
      "['PEI']: Exception('%ticker%: No timezone found, symbol may be delisted')\n"
     ]
    },
    {
     "name": "stdout",
     "output_type": "stream",
     "text": [
      "\n",
      "Get Data for : PEIX\n",
      "[*********************100%***********************]  1 of 1 completed"
     ]
    },
    {
     "name": "stderr",
     "output_type": "stream",
     "text": [
      "\n",
      "1 Failed download:\n",
      "['PEIX']: Exception('%ticker%: No timezone found, symbol may be delisted')\n"
     ]
    },
    {
     "name": "stdout",
     "output_type": "stream",
     "text": [
      "\n",
      "Get Data for : PEN\n",
      "[*********************100%***********************]  1 of 1 completed\n",
      "Get Data for : PENN\n",
      "[*********************100%***********************]  1 of 1 completed\n",
      "Get Data for : PEP\n",
      "[*********************100%***********************]  1 of 1 completed\n",
      "Get Data for : PESI\n",
      "[*********************100%***********************]  1 of 1 completed\n",
      "Get Data for : PETQ\n",
      "[*********************100%***********************]  1 of 1 completed\n",
      "Get Data for : PETS\n",
      "[*********************100%***********************]  1 of 1 completed\n",
      "Get Data for : PFBC\n",
      "[*********************100%***********************]  1 of 1 completed\n",
      "Get Data for : PFBI\n",
      "[*********************100%***********************]  1 of 1 completed"
     ]
    },
    {
     "name": "stderr",
     "output_type": "stream",
     "text": [
      "\n",
      "1 Failed download:\n",
      "['PFBI']: Exception('%ticker%: No timezone found, symbol may be delisted')\n"
     ]
    },
    {
     "name": "stdout",
     "output_type": "stream",
     "text": [
      "\n",
      "Get Data for : PFE\n",
      "[*********************100%***********************]  1 of 1 completed\n",
      "Get Data for : PFG\n",
      "[*********************100%***********************]  1 of 1 completed\n",
      "Get Data for : PFGC\n",
      "[*********************100%***********************]  1 of 1 completed\n",
      "Get Data for : PFIE\n",
      "[*********************100%***********************]  1 of 1 completed\n",
      "Get Data for : PFIN\n",
      "[*********************100%***********************]  1 of 1 completed\n",
      "Get Data for : PFIS\n",
      "[*********************100%***********************]  1 of 1 completed\n",
      "Get Data for : PFMT\n",
      "[*********************100%***********************]  1 of 1 completed\n",
      "Get Data for : PFNX\n",
      "[*********************100%***********************]  1 of 1 completed"
     ]
    },
    {
     "name": "stderr",
     "output_type": "stream",
     "text": [
      "\n",
      "1 Failed download:\n",
      "['PFNX']: Exception('%ticker%: No timezone found, symbol may be delisted')\n"
     ]
    },
    {
     "name": "stdout",
     "output_type": "stream",
     "text": [
      "\n",
      "Get Data for : PFPT\n",
      "[*********************100%***********************]  1 of 1 completed"
     ]
    },
    {
     "name": "stderr",
     "output_type": "stream",
     "text": [
      "\n",
      "1 Failed download:\n",
      "['PFPT']: Exception('%ticker%: No timezone found, symbol may be delisted')\n"
     ]
    },
    {
     "name": "stdout",
     "output_type": "stream",
     "text": [
      "\n",
      "Get Data for : PFS\n",
      "[*********************100%***********************]  1 of 1 completed\n",
      "Get Data for : PFSW\n",
      "[*********************100%***********************]  1 of 1 completed\n",
      "Get Data for : PG\n",
      "[*********************100%***********************]  1 of 1 completed\n",
      "Get Data for : PGC\n",
      "[*********************100%***********************]  1 of 1 completed\n",
      "Get Data for : PGNX\n",
      "[*********************100%***********************]  1 of 1 completed"
     ]
    },
    {
     "name": "stderr",
     "output_type": "stream",
     "text": [
      "\n",
      "1 Failed download:\n",
      "['PGNX']: Exception('%ticker%: No timezone found, symbol may be delisted')\n"
     ]
    },
    {
     "name": "stdout",
     "output_type": "stream",
     "text": [
      "\n",
      "Get Data for : PGR\n",
      "[*********************100%***********************]  1 of 1 completed\n",
      "Get Data for : PGRE\n",
      "[*********************100%***********************]  1 of 1 completed\n",
      "Get Data for : PGTI\n",
      "[*********************100%***********************]  1 of 1 completed\n",
      "Get Data for : PH\n",
      "[*********************100%***********************]  1 of 1 completed\n",
      "Get Data for : PHAS\n",
      "[*********************100%***********************]  1 of 1 completed"
     ]
    },
    {
     "name": "stderr",
     "output_type": "stream",
     "text": [
      "\n",
      "1 Failed download:\n",
      "['PHAS']: Exception('%ticker%: No timezone found, symbol may be delisted')\n"
     ]
    },
    {
     "name": "stdout",
     "output_type": "stream",
     "text": [
      "\n",
      "Get Data for : PHIO\n",
      "[*********************100%***********************]  1 of 1 completed\n",
      "Get Data for : PHM\n",
      "[*********************100%***********************]  1 of 1 completed\n",
      "Get Data for : PHX\n",
      "[*********************100%***********************]  1 of 1 completed\n",
      "Get Data for : PI\n",
      "[*********************100%***********************]  1 of 1 completed\n",
      "Get Data for : PICO\n",
      "[*********************100%***********************]  1 of 1 completed"
     ]
    },
    {
     "name": "stderr",
     "output_type": "stream",
     "text": [
      "\n",
      "1 Failed download:\n",
      "['PICO']: Exception('%ticker%: No timezone found, symbol may be delisted')\n"
     ]
    },
    {
     "name": "stdout",
     "output_type": "stream",
     "text": [
      "\n",
      "Get Data for : PIH\n",
      "[*********************100%***********************]  1 of 1 completed"
     ]
    },
    {
     "name": "stderr",
     "output_type": "stream",
     "text": [
      "\n",
      "1 Failed download:\n",
      "['PIH']: Exception('%ticker%: No timezone found, symbol may be delisted')\n"
     ]
    },
    {
     "name": "stdout",
     "output_type": "stream",
     "text": [
      "\n",
      "Get Data for : PII\n",
      "[*********************100%***********************]  1 of 1 completed\n",
      "Get Data for : PINC\n",
      "[*********************100%***********************]  1 of 1 completed\n",
      "Get Data for : PINS\n",
      "[*********************100%***********************]  1 of 1 completed\n",
      "Get Data for : PJT\n",
      "[*********************100%***********************]  1 of 1 completed\n",
      "Get Data for : PK\n",
      "[*********************100%***********************]  1 of 1 completed\n",
      "Get Data for : PKBK\n",
      "[*********************100%***********************]  1 of 1 completed\n",
      "Get Data for : PKE\n",
      "[*********************100%***********************]  1 of 1 completed\n",
      "Get Data for : PKG\n",
      "[*********************100%***********************]  1 of 1 completed\n",
      "Get Data for : PKI\n",
      "[*********************100%***********************]  1 of 1 completed\n",
      "Get Data for : PKOH\n",
      "[*********************100%***********************]  1 of 1 completed\n",
      "Get Data for : PLAB\n",
      "[*********************100%***********************]  1 of 1 completed\n",
      "Get Data for : PLAN\n",
      "[*********************100%***********************]  1 of 1 completed"
     ]
    },
    {
     "name": "stderr",
     "output_type": "stream",
     "text": [
      "\n",
      "1 Failed download:\n",
      "['PLAN']: Exception('%ticker%: No timezone found, symbol may be delisted')\n"
     ]
    },
    {
     "name": "stdout",
     "output_type": "stream",
     "text": [
      "\n",
      "Get Data for : PLAY\n",
      "[*********************100%***********************]  1 of 1 completed\n",
      "Get Data for : PLBC\n",
      "[*********************100%***********************]  1 of 1 completed\n",
      "Get Data for : PLCE\n",
      "[*********************100%***********************]  1 of 1 completed\n",
      "Get Data for : PLD\n",
      "[*********************100%***********************]  1 of 1 completed\n",
      "Get Data for : PLNT\n",
      "[*********************100%***********************]  1 of 1 completed\n",
      "Get Data for : PLOW\n",
      "[*********************100%***********************]  1 of 1 completed\n",
      "Get Data for : PLPC\n",
      "[*********************100%***********************]  1 of 1 completed\n",
      "Get Data for : PLSE\n",
      "[*********************100%***********************]  1 of 1 completed\n",
      "Get Data for : PLT\n",
      "[*********************100%***********************]  1 of 1 completed"
     ]
    },
    {
     "name": "stderr",
     "output_type": "stream",
     "text": [
      "\n",
      "1 Failed download:\n",
      "['PLT']: Exception('%ticker%: No timezone found, symbol may be delisted')\n"
     ]
    },
    {
     "name": "stdout",
     "output_type": "stream",
     "text": [
      "\n",
      "Get Data for : PLUG\n",
      "[*********************100%***********************]  1 of 1 completed\n",
      "Get Data for : PLUS\n",
      "[*********************100%***********************]  1 of 1 completed\n",
      "Get Data for : PLXP\n",
      "[*********************100%***********************]  1 of 1 completed"
     ]
    },
    {
     "name": "stderr",
     "output_type": "stream",
     "text": [
      "\n",
      "1 Failed download:\n",
      "['PLXP']: Exception('%ticker%: No timezone found, symbol may be delisted')\n"
     ]
    },
    {
     "name": "stdout",
     "output_type": "stream",
     "text": [
      "\n",
      "Get Data for : PLXS\n",
      "[*********************100%***********************]  1 of 1 completed\n",
      "Get Data for : PLYA\n",
      "[*********************100%***********************]  1 of 1 completed\n",
      "Get Data for : PLYM\n",
      "[*********************100%***********************]  1 of 1 completed\n",
      "Get Data for : PM\n",
      "[*********************100%***********************]  1 of 1 completed\n",
      "Get Data for : PMBC\n",
      "[*********************100%***********************]  1 of 1 completed"
     ]
    },
    {
     "name": "stderr",
     "output_type": "stream",
     "text": [
      "\n",
      "1 Failed download:\n",
      "['PMBC']: Exception('%ticker%: No timezone found, symbol may be delisted')\n"
     ]
    },
    {
     "name": "stdout",
     "output_type": "stream",
     "text": [
      "\n",
      "Get Data for : PMD\n",
      "[*********************100%***********************]  1 of 1 completed\n",
      "Get Data for : PMT\n",
      "[*********************100%***********************]  1 of 1 completed\n",
      "Get Data for : PMTS\n",
      "[*********************100%***********************]  1 of 1 completed\n",
      "Get Data for : PNBK\n",
      "[*********************100%***********************]  1 of 1 completed\n",
      "Get Data for : PNC\n",
      "[*********************100%***********************]  1 of 1 completed\n",
      "Get Data for : PNFP\n",
      "[*********************100%***********************]  1 of 1 completed\n",
      "Get Data for : PNM\n",
      "[*********************100%***********************]  1 of 1 completed\n",
      "Get Data for : PNR\n",
      "[*********************100%***********************]  1 of 1 completed\n",
      "Get Data for : PNRG\n",
      "[*********************100%***********************]  1 of 1 completed\n",
      "Get Data for : PNW\n",
      "[*********************100%***********************]  1 of 1 completed\n",
      "Get Data for : PODD\n",
      "[*********************100%***********************]  1 of 1 completed\n",
      "Get Data for : POL\n",
      "[*********************100%***********************]  1 of 1 completed\n",
      "Get Data for : POOL\n",
      "[*********************100%***********************]  1 of 1 completed\n",
      "Get Data for : POR\n",
      "[*********************100%***********************]  1 of 1 completed\n",
      "Get Data for : POST\n",
      "[*********************100%***********************]  1 of 1 completed\n",
      "Get Data for : POWI\n",
      "[*********************100%***********************]  1 of 1 completed\n",
      "Get Data for : POWL\n",
      "[*********************100%***********************]  1 of 1 completed\n",
      "Get Data for : PPBI\n",
      "[*********************100%***********************]  1 of 1 completed\n",
      "Get Data for : PPC\n",
      "[*********************100%***********************]  1 of 1 completed\n",
      "Get Data for : PPG\n",
      "[*********************100%***********************]  1 of 1 completed\n",
      "Get Data for : PPIH\n",
      "[*********************100%***********************]  1 of 1 completed\n",
      "Get Data for : PPL\n",
      "[*********************100%***********************]  1 of 1 completed\n",
      "Get Data for : PPSI\n",
      "[*********************100%***********************]  1 of 1 completed\n",
      "Get Data for : PQG\n",
      "[*********************100%***********************]  1 of 1 completed"
     ]
    },
    {
     "name": "stderr",
     "output_type": "stream",
     "text": [
      "\n",
      "1 Failed download:\n",
      "['PQG']: Exception('%ticker%: No timezone found, symbol may be delisted')\n"
     ]
    },
    {
     "name": "stdout",
     "output_type": "stream",
     "text": [
      "\n",
      "Get Data for : PRA\n",
      "[*********************100%***********************]  1 of 1 completed\n",
      "Get Data for : PRAA\n",
      "[*********************100%***********************]  1 of 1 completed\n",
      "Get Data for : PRAH\n",
      "[*********************100%***********************]  1 of 1 completed"
     ]
    },
    {
     "name": "stderr",
     "output_type": "stream",
     "text": [
      "\n",
      "1 Failed download:\n",
      "['PRAH']: Exception('%ticker%: No timezone found, symbol may be delisted')\n"
     ]
    },
    {
     "name": "stdout",
     "output_type": "stream",
     "text": [
      "\n",
      "Get Data for : PRCP\n",
      "[*********************100%***********************]  1 of 1 completed"
     ]
    },
    {
     "name": "stderr",
     "output_type": "stream",
     "text": [
      "\n",
      "1 Failed download:\n",
      "['PRCP']: Exception('%ticker%: No timezone found, symbol may be delisted')\n"
     ]
    },
    {
     "name": "stdout",
     "output_type": "stream",
     "text": [
      "\n",
      "Get Data for : PRFT\n",
      "[*********************100%***********************]  1 of 1 completed\n",
      "Get Data for : PRGO\n",
      "[*********************100%***********************]  1 of 1 completed\n",
      "Get Data for : PRGS\n",
      "[*********************100%***********************]  1 of 1 completed\n",
      "Get Data for : PRGX\n",
      "[*********************100%***********************]  1 of 1 completed"
     ]
    },
    {
     "name": "stderr",
     "output_type": "stream",
     "text": [
      "\n",
      "1 Failed download:\n",
      "['PRGX']: Exception('%ticker%: No timezone found, symbol may be delisted')\n"
     ]
    },
    {
     "name": "stdout",
     "output_type": "stream",
     "text": [
      "\n",
      "Get Data for : PRI\n",
      "[*********************100%***********************]  1 of 1 completed\n",
      "Get Data for : PRIM\n",
      "[*********************100%***********************]  1 of 1 completed\n",
      "Get Data for : PRK\n",
      "[*********************100%***********************]  1 of 1 completed\n",
      "Get Data for : PRLB\n",
      "[*********************100%***********************]  1 of 1 completed\n",
      "Get Data for : PRMW\n",
      "[*********************100%***********************]  1 of 1 completed\n",
      "Get Data for : PRNB\n",
      "[*********************100%***********************]  1 of 1 completed"
     ]
    },
    {
     "name": "stderr",
     "output_type": "stream",
     "text": [
      "\n",
      "1 Failed download:\n",
      "['PRNB']: Exception('%ticker%: No timezone found, symbol may be delisted')\n"
     ]
    },
    {
     "name": "stdout",
     "output_type": "stream",
     "text": [
      "\n",
      "Get Data for : PRO\n",
      "[*********************100%***********************]  1 of 1 completed\n",
      "Get Data for : PROV\n",
      "[*********************100%***********************]  1 of 1 completed\n",
      "Get Data for : PRPH\n",
      "[*********************100%***********************]  1 of 1 completed\n",
      "Get Data for : PRSC\n",
      "[*********************100%***********************]  1 of 1 completed"
     ]
    },
    {
     "name": "stderr",
     "output_type": "stream",
     "text": [
      "\n",
      "1 Failed download:\n",
      "['PRSC']: Exception('%ticker%: No timezone found, symbol may be delisted')\n"
     ]
    },
    {
     "name": "stdout",
     "output_type": "stream",
     "text": [
      "\n",
      "Get Data for : PRSP\n",
      "[*********************100%***********************]  1 of 1 completed"
     ]
    },
    {
     "name": "stderr",
     "output_type": "stream",
     "text": [
      "\n",
      "1 Failed download:\n",
      "['PRSP']: Exception('%ticker%: No timezone found, symbol may be delisted')\n"
     ]
    },
    {
     "name": "stdout",
     "output_type": "stream",
     "text": [
      "\n",
      "Get Data for : PRTA\n",
      "[*********************100%***********************]  1 of 1 completed\n",
      "Get Data for : PRTK\n",
      "[*********************100%***********************]  1 of 1 completed\n",
      "Get Data for : PRTS\n",
      "[*********************100%***********************]  1 of 1 completed\n",
      "Get Data for : PRTY\n",
      "[*********************100%***********************]  1 of 1 completed"
     ]
    },
    {
     "name": "stderr",
     "output_type": "stream",
     "text": [
      "\n",
      "1 Failed download:\n",
      "['PRTY']: Exception('%ticker%: No timezone found, symbol may be delisted')\n"
     ]
    },
    {
     "name": "stdout",
     "output_type": "stream",
     "text": [
      "\n",
      "Get Data for : PRU\n",
      "[*********************100%***********************]  1 of 1 completed\n",
      "Get Data for : PRVB\n",
      "[*********************100%***********************]  1 of 1 completed"
     ]
    },
    {
     "name": "stderr",
     "output_type": "stream",
     "text": [
      "\n",
      "1 Failed download:\n",
      "['PRVB']: Exception('%ticker%: No timezone found, symbol may be delisted')\n"
     ]
    },
    {
     "name": "stdout",
     "output_type": "stream",
     "text": [
      "\n",
      "Get Data for : PS\n",
      "[*********************100%***********************]  1 of 1 completed"
     ]
    },
    {
     "name": "stderr",
     "output_type": "stream",
     "text": [
      "\n",
      "1 Failed download:\n",
      "['PS']: Exception('%ticker%: No timezone found, symbol may be delisted')\n"
     ]
    },
    {
     "name": "stdout",
     "output_type": "stream",
     "text": [
      "\n",
      "Get Data for : PSA\n",
      "[*********************100%***********************]  1 of 1 completed\n",
      "Get Data for : PSB\n",
      "[*********************100%***********************]  1 of 1 completed"
     ]
    },
    {
     "name": "stderr",
     "output_type": "stream",
     "text": [
      "\n",
      "1 Failed download:\n",
      "['PSB']: Exception('%ticker%: No timezone found, symbol may be delisted')\n"
     ]
    },
    {
     "name": "stdout",
     "output_type": "stream",
     "text": [
      "\n",
      "Get Data for : PSMT\n",
      "[*********************100%***********************]  1 of 1 completed\n",
      "Get Data for : PSN\n",
      "[*********************100%***********************]  1 of 1 completed\n",
      "Get Data for : PSTG\n",
      "[*********************100%***********************]  1 of 1 completed\n",
      "Get Data for : PSX\n",
      "[*********************100%***********************]  1 of 1 completed\n",
      "Get Data for : PTC\n",
      "[*********************100%***********************]  1 of 1 completed\n",
      "Get Data for : PTCT\n",
      "[*********************100%***********************]  1 of 1 completed\n",
      "Get Data for : PTE\n",
      "[*********************100%***********************]  1 of 1 completed\n",
      "Get Data for : PTEN\n",
      "[*********************100%***********************]  1 of 1 completed\n",
      "Get Data for : PTGX\n",
      "[*********************100%***********************]  1 of 1 completed\n",
      "Get Data for : PTI\n",
      "[*********************100%***********************]  1 of 1 completed"
     ]
    },
    {
     "name": "stderr",
     "output_type": "stream",
     "text": [
      "\n",
      "1 Failed download:\n",
      "['PTI']: Exception('%ticker%: No timezone found, symbol may be delisted')\n"
     ]
    },
    {
     "name": "stdout",
     "output_type": "stream",
     "text": [
      "\n",
      "Get Data for : PTLA\n",
      "[*********************100%***********************]  1 of 1 completed"
     ]
    },
    {
     "name": "stderr",
     "output_type": "stream",
     "text": [
      "\n",
      "1 Failed download:\n",
      "['PTLA']: Exception('%ticker%: No timezone found, symbol may be delisted')\n"
     ]
    },
    {
     "name": "stdout",
     "output_type": "stream",
     "text": [
      "\n",
      "Get Data for : PTN\n",
      "[*********************100%***********************]  1 of 1 completed\n",
      "Get Data for : PTSI\n",
      "[*********************100%***********************]  1 of 1 completed\n",
      "Get Data for : PTVCA\n",
      "[*********************100%***********************]  1 of 1 completed"
     ]
    },
    {
     "name": "stderr",
     "output_type": "stream",
     "text": [
      "\n",
      "1 Failed download:\n",
      "['PTVCA']: Exception('%ticker%: No timezone found, symbol may be delisted')\n"
     ]
    },
    {
     "name": "stdout",
     "output_type": "stream",
     "text": [
      "\n",
      "Get Data for : PTVCB\n",
      "[*********************100%***********************]  1 of 1 completed"
     ]
    },
    {
     "name": "stderr",
     "output_type": "stream",
     "text": [
      "\n",
      "1 Failed download:\n",
      "['PTVCB']: Exception('%ticker%: No timezone found, symbol may be delisted')\n"
     ]
    },
    {
     "name": "stdout",
     "output_type": "stream",
     "text": [
      "\n",
      "Get Data for : PUB\n",
      "[*********************100%***********************]  1 of 1 completed"
     ]
    },
    {
     "name": "stderr",
     "output_type": "stream",
     "text": [
      "\n",
      "1 Failed download:\n",
      "['PUB']: Exception('%ticker%: No timezone found, symbol may be delisted')\n"
     ]
    },
    {
     "name": "stdout",
     "output_type": "stream",
     "text": [
      "\n",
      "Get Data for : PULM\n",
      "[*********************100%***********************]  1 of 1 completed\n",
      "Get Data for : PUMP\n",
      "[*********************100%***********************]  1 of 1 completed\n",
      "Get Data for : PVAC\n",
      "[*********************100%***********************]  1 of 1 completed"
     ]
    },
    {
     "name": "stderr",
     "output_type": "stream",
     "text": [
      "\n",
      "1 Failed download:\n",
      "['PVAC']: Exception('%ticker%: No timezone found, symbol may be delisted')\n"
     ]
    },
    {
     "name": "stdout",
     "output_type": "stream",
     "text": [
      "\n",
      "Get Data for : PVBC\n",
      "[*********************100%***********************]  1 of 1 completed\n",
      "Get Data for : PVH\n",
      "[*********************100%***********************]  1 of 1 completed\n",
      "Get Data for : PW\n",
      "[*********************100%***********************]  1 of 1 completed\n",
      "Get Data for : PWOD\n",
      "[*********************100%***********************]  1 of 1 completed\n",
      "Get Data for : PWR\n",
      "[*********************100%***********************]  1 of 1 completed\n",
      "Get Data for : PXD\n",
      "[*********************100%***********************]  1 of 1 completed\n",
      "Get Data for : PXLW\n",
      "[*********************100%***********************]  1 of 1 completed\n",
      "Get Data for : PYPL\n",
      "[*********************100%***********************]  1 of 1 completed\n",
      "Get Data for : PZG\n",
      "[*********************100%***********************]  1 of 1 completed\n",
      "Get Data for : PZN\n",
      "[*********************100%***********************]  1 of 1 completed"
     ]
    },
    {
     "name": "stderr",
     "output_type": "stream",
     "text": [
      "\n",
      "1 Failed download:\n",
      "['PZN']: Exception('%ticker%: No timezone found, symbol may be delisted')\n"
     ]
    },
    {
     "name": "stdout",
     "output_type": "stream",
     "text": [
      "\n",
      "Get Data for : PZZA\n",
      "[*********************100%***********************]  1 of 1 completed\n",
      "Get Data for : QADA\n",
      "[*********************100%***********************]  1 of 1 completed"
     ]
    },
    {
     "name": "stderr",
     "output_type": "stream",
     "text": [
      "\n",
      "1 Failed download:\n",
      "['QADA']: Exception('%ticker%: No timezone found, symbol may be delisted')\n"
     ]
    },
    {
     "name": "stdout",
     "output_type": "stream",
     "text": [
      "\n",
      "Get Data for : QADB\n",
      "[*********************100%***********************]  1 of 1 completed"
     ]
    },
    {
     "name": "stderr",
     "output_type": "stream",
     "text": [
      "\n",
      "1 Failed download:\n",
      "['QADB']: Exception('%ticker%: No timezone found, symbol may be delisted')\n"
     ]
    },
    {
     "name": "stdout",
     "output_type": "stream",
     "text": [
      "\n",
      "Get Data for : QCOM\n",
      "[*********************100%***********************]  1 of 1 completed\n",
      "Get Data for : QCRH\n",
      "[*********************100%***********************]  1 of 1 completed\n",
      "Get Data for : QDEL\n",
      "[*********************100%***********************]  1 of 1 completed\n",
      "Get Data for : QEP\n",
      "[*********************100%***********************]  1 of 1 completed"
     ]
    },
    {
     "name": "stderr",
     "output_type": "stream",
     "text": [
      "\n",
      "1 Failed download:\n",
      "['QEP']: Exception('%ticker%: No timezone found, symbol may be delisted')\n"
     ]
    },
    {
     "name": "stdout",
     "output_type": "stream",
     "text": [
      "\n",
      "Get Data for : QLYS\n",
      "[*********************100%***********************]  1 of 1 completed\n",
      "Get Data for : QNST\n",
      "[*********************100%***********************]  1 of 1 completed\n",
      "Get Data for : QRHC\n",
      "[*********************100%***********************]  1 of 1 completed\n",
      "Get Data for : QRTEA\n",
      "[*********************100%***********************]  1 of 1 completed\n",
      "Get Data for : QRVO\n",
      "[*********************100%***********************]  1 of 1 completed\n",
      "Get Data for : QTRX\n",
      "[*********************100%***********************]  1 of 1 completed\n",
      "Get Data for : QTS\n",
      "[*********************100%***********************]  1 of 1 completed"
     ]
    },
    {
     "name": "stderr",
     "output_type": "stream",
     "text": [
      "\n",
      "1 Failed download:\n",
      "['QTS']: Exception('%ticker%: No timezone found, symbol may be delisted')\n"
     ]
    },
    {
     "name": "stdout",
     "output_type": "stream",
     "text": [
      "\n",
      "Get Data for : QTWO\n",
      "[*********************100%***********************]  1 of 1 completed\n",
      "Get Data for : QUAD\n",
      "[*********************100%***********************]  1 of 1 completed\n",
      "Get Data for : QUIK\n",
      "[*********************100%***********************]  1 of 1 completed\n",
      "Get Data for : QUMU\n",
      "[*********************100%***********************]  1 of 1 completed"
     ]
    },
    {
     "name": "stderr",
     "output_type": "stream",
     "text": [
      "\n",
      "1 Failed download:\n",
      "['QUMU']: Exception('%ticker%: No timezone found, symbol may be delisted')\n"
     ]
    },
    {
     "name": "stdout",
     "output_type": "stream",
     "text": [
      "\n",
      "Get Data for : QUOT\n",
      "[*********************100%***********************]  1 of 1 completed\n",
      "Get Data for : R\n",
      "[*********************100%***********************]  1 of 1 completed\n",
      "Get Data for : RAD\n",
      "[*********************100%***********************]  1 of 1 completed\n",
      "Get Data for : RAIL\n",
      "[*********************100%***********************]  1 of 1 completed\n",
      "Get Data for : RAMP\n",
      "[*********************100%***********************]  1 of 1 completed\n",
      "Get Data for : RARE\n",
      "[*********************100%***********************]  1 of 1 completed\n",
      "Get Data for : RAVE\n",
      "[*********************100%***********************]  1 of 1 completed\n",
      "Get Data for : RAVN\n",
      "[*********************100%***********************]  1 of 1 completed"
     ]
    },
    {
     "name": "stderr",
     "output_type": "stream",
     "text": [
      "\n",
      "1 Failed download:\n",
      "['RAVN']: Exception('%ticker%: No timezone found, symbol may be delisted')\n"
     ]
    },
    {
     "name": "stdout",
     "output_type": "stream",
     "text": [
      "\n",
      "Get Data for : RBB\n",
      "[*********************100%***********************]  1 of 1 completed\n",
      "Get Data for : RBBN\n",
      "[*********************100%***********************]  1 of 1 completed\n",
      "Get Data for : RBC\n",
      "[*********************100%***********************]  1 of 1 completed\n",
      "Get Data for : RBCAA\n",
      "[*********************100%***********************]  1 of 1 completed\n",
      "Get Data for : RBCN\n",
      "[*********************100%***********************]  1 of 1 completed\n",
      "Get Data for : RBNC\n",
      "[*********************100%***********************]  1 of 1 completed"
     ]
    },
    {
     "name": "stderr",
     "output_type": "stream",
     "text": [
      "\n",
      "1 Failed download:\n",
      "['RBNC']: Exception('%ticker%: No timezone found, symbol may be delisted')\n"
     ]
    },
    {
     "name": "stdout",
     "output_type": "stream",
     "text": [
      "\n",
      "Get Data for : RC\n",
      "[*********************100%***********************]  1 of 1 completed\n",
      "Get Data for : RCII\n",
      "[*********************100%***********************]  1 of 1 completed"
     ]
    },
    {
     "name": "stderr",
     "output_type": "stream",
     "text": [
      "\n",
      "1 Failed download:\n",
      "['RCII']: Exception('%ticker%: No timezone found, symbol may be delisted')\n"
     ]
    },
    {
     "name": "stdout",
     "output_type": "stream",
     "text": [
      "\n",
      "Get Data for : RCKT\n",
      "[*********************100%***********************]  1 of 1 completed\n",
      "Get Data for : RCKY\n",
      "[*********************100%***********************]  1 of 1 completed\n",
      "Get Data for : RCL\n",
      "[*********************100%***********************]  1 of 1 completed\n",
      "Get Data for : RCM\n",
      "[*********************100%***********************]  1 of 1 completed\n",
      "Get Data for : RCMT\n",
      "[*********************100%***********************]  1 of 1 completed\n",
      "Get Data for : RCUS\n",
      "[*********************100%***********************]  1 of 1 completed\n",
      "Get Data for : RDFN\n",
      "[*********************100%***********************]  1 of 1 completed\n",
      "Get Data for : RDI\n",
      "[*********************100%***********************]  1 of 1 completed\n",
      "Get Data for : RDN\n",
      "[*********************100%***********************]  1 of 1 completed\n",
      "Get Data for : RDNT\n",
      "[*********************100%***********************]  1 of 1 completed\n",
      "Get Data for : RDUS\n",
      "[*********************100%***********************]  1 of 1 completed"
     ]
    },
    {
     "name": "stderr",
     "output_type": "stream",
     "text": [
      "\n",
      "1 Failed download:\n",
      "['RDUS']: Exception('%ticker%: No timezone found, symbol may be delisted')\n"
     ]
    },
    {
     "name": "stdout",
     "output_type": "stream",
     "text": [
      "\n",
      "Get Data for : RDVT\n",
      "[*********************100%***********************]  1 of 1 completed\n",
      "Get Data for : RE\n",
      "[*********************100%***********************]  1 of 1 completed\n",
      "Get Data for : REED\n",
      "[*********************100%***********************]  1 of 1 completed\n",
      "Get Data for : REFR\n",
      "[*********************100%***********************]  1 of 1 completed\n",
      "Get Data for : REG\n",
      "[*********************100%***********************]  1 of 1 completed\n",
      "Get Data for : REGI\n",
      "[*********************100%***********************]  1 of 1 completed\n",
      "Get Data for : REGN\n",
      "[*********************100%***********************]  1 of 1 completed\n",
      "Get Data for : REI\n",
      "[*********************100%***********************]  1 of 1 completed\n",
      "Get Data for : RELL\n",
      "[*********************100%***********************]  1 of 1 completed\n",
      "Get Data for : RELV\n",
      "[*********************100%***********************]  1 of 1 completed\n",
      "Get Data for : REPH\n",
      "[*********************100%***********************]  1 of 1 completed"
     ]
    },
    {
     "name": "stderr",
     "output_type": "stream",
     "text": [
      "\n",
      "1 Failed download:\n",
      "['REPH']: Exception('%ticker%: No timezone found, symbol may be delisted')\n"
     ]
    },
    {
     "name": "stdout",
     "output_type": "stream",
     "text": [
      "\n",
      "Get Data for : REPL\n",
      "[*********************100%***********************]  1 of 1 completed\n",
      "Get Data for : RES\n",
      "[*********************100%***********************]  1 of 1 completed\n",
      "Get Data for : RESI\n",
      "[*********************100%***********************]  1 of 1 completed"
     ]
    },
    {
     "name": "stderr",
     "output_type": "stream",
     "text": [
      "\n",
      "1 Failed download:\n",
      "['RESI']: Exception(\"%ticker%: Data doesn't exist for startDate = 1483246800, endDate = 1629345600\")\n"
     ]
    },
    {
     "name": "stdout",
     "output_type": "stream",
     "text": [
      "\n",
      "Get Data for : RESN\n",
      "[*********************100%***********************]  1 of 1 completed"
     ]
    },
    {
     "name": "stderr",
     "output_type": "stream",
     "text": [
      "\n",
      "1 Failed download:\n",
      "['RESN']: Exception('%ticker%: No timezone found, symbol may be delisted')\n"
     ]
    },
    {
     "name": "stdout",
     "output_type": "stream",
     "text": [
      "\n",
      "Get Data for : RETA\n",
      "[*********************100%***********************]  1 of 1 completed\n",
      "Get Data for : REV\n",
      "[*********************100%***********************]  1 of 1 completed"
     ]
    },
    {
     "name": "stderr",
     "output_type": "stream",
     "text": [
      "\n",
      "1 Failed download:\n",
      "['REV']: Exception('%ticker%: No timezone found, symbol may be delisted')\n"
     ]
    },
    {
     "name": "stdout",
     "output_type": "stream",
     "text": [
      "\n",
      "Get Data for : REVG\n",
      "[*********************100%***********************]  1 of 1 completed\n",
      "Get Data for : REX\n",
      "[*********************100%***********************]  1 of 1 completed\n",
      "Get Data for : REXR\n",
      "[*********************100%***********************]  1 of 1 completed\n",
      "Get Data for : REZI\n",
      "[*********************100%***********************]  1 of 1 completed\n",
      "Get Data for : RF\n",
      "[*********************100%***********************]  1 of 1 completed\n",
      "Get Data for : RFIL\n",
      "[*********************100%***********************]  1 of 1 completed\n",
      "Get Data for : RFL\n",
      "[*********************100%***********************]  1 of 1 completed\n",
      "Get Data for : RFP\n",
      "[*********************100%***********************]  1 of 1 completed"
     ]
    },
    {
     "name": "stderr",
     "output_type": "stream",
     "text": [
      "\n",
      "1 Failed download:\n",
      "['RFP']: Exception('%ticker%: No timezone found, symbol may be delisted')\n"
     ]
    },
    {
     "name": "stdout",
     "output_type": "stream",
     "text": [
      "\n",
      "Get Data for : RGA\n",
      "[*********************100%***********************]  1 of 1 completed\n",
      "Get Data for : RGCO\n",
      "[*********************100%***********************]  1 of 1 completed\n",
      "Get Data for : RGEN\n",
      "[*********************100%***********************]  1 of 1 completed\n",
      "Get Data for : RGLD\n",
      "[*********************100%***********************]  1 of 1 completed\n",
      "Get Data for : RGLS\n",
      "[*********************100%***********************]  1 of 1 completed\n",
      "Get Data for : RGNX\n",
      "[*********************100%***********************]  1 of 1 completed\n",
      "Get Data for : RGR\n",
      "[*********************100%***********************]  1 of 1 completed\n",
      "Get Data for : RGS\n",
      "[*********************100%***********************]  1 of 1 completed\n",
      "Get Data for : RH\n",
      "[*********************100%***********************]  1 of 1 completed\n",
      "Get Data for : RHE\n",
      "[*********************100%***********************]  1 of 1 completed\n",
      "Get Data for : RHI\n",
      "[*********************100%***********************]  1 of 1 completed\n",
      "Get Data for : RHP\n",
      "[*********************100%***********************]  1 of 1 completed\n",
      "Get Data for : RIBT\n",
      "[*********************100%***********************]  1 of 1 completed\n",
      "Get Data for : RICK\n",
      "[*********************100%***********************]  1 of 1 completed\n",
      "Get Data for : RIG\n",
      "[*********************100%***********************]  1 of 1 completed\n",
      "Get Data for : RIGL\n",
      "[*********************100%***********************]  1 of 1 completed\n",
      "Get Data for : RILY\n",
      "[*********************100%***********************]  1 of 1 completed\n",
      "Get Data for : RIOT\n",
      "[*********************100%***********************]  1 of 1 completed\n",
      "Get Data for : RJF\n",
      "[*********************100%***********************]  1 of 1 completed\n",
      "Get Data for : RKDA\n",
      "[*********************100%***********************]  1 of 1 completed\n",
      "Get Data for : RL\n",
      "[*********************100%***********************]  1 of 1 completed\n",
      "Get Data for : RLGT\n",
      "[*********************100%***********************]  1 of 1 completed\n",
      "Get Data for : RLGY\n",
      "[*********************100%***********************]  1 of 1 completed"
     ]
    },
    {
     "name": "stderr",
     "output_type": "stream",
     "text": [
      "\n",
      "1 Failed download:\n",
      "['RLGY']: Exception('%ticker%: No timezone found, symbol may be delisted')\n"
     ]
    },
    {
     "name": "stdout",
     "output_type": "stream",
     "text": [
      "\n",
      "Get Data for : RLH\n",
      "[*********************100%***********************]  1 of 1 completed"
     ]
    },
    {
     "name": "stderr",
     "output_type": "stream",
     "text": [
      "\n",
      "1 Failed download:\n",
      "['RLH']: Exception('%ticker%: No timezone found, symbol may be delisted')\n"
     ]
    },
    {
     "name": "stdout",
     "output_type": "stream",
     "text": [
      "\n",
      "Get Data for : RLI\n",
      "[*********************100%***********************]  1 of 1 completed\n",
      "Get Data for : RLJ\n",
      "[*********************100%***********************]  1 of 1 completed\n",
      "Get Data for : RM\n",
      "[*********************100%***********************]  1 of 1 completed\n",
      "Get Data for : RMAX\n",
      "[*********************100%***********************]  1 of 1 completed\n",
      "Get Data for : RMBS\n",
      "[*********************100%***********************]  1 of 1 completed\n",
      "Get Data for : RMCF\n",
      "[*********************100%***********************]  1 of 1 completed\n",
      "Get Data for : RMD\n",
      "[*********************100%***********************]  1 of 1 completed\n",
      "Get Data for : RMR\n",
      "[*********************100%***********************]  1 of 1 completed\n",
      "Get Data for : RMTI\n",
      "[*********************100%***********************]  1 of 1 completed\n",
      "Get Data for : RNDB\n",
      "[*********************100%***********************]  1 of 1 completed"
     ]
    },
    {
     "name": "stderr",
     "output_type": "stream",
     "text": [
      "\n",
      "1 Failed download:\n",
      "['RNDB']: Exception('%ticker%: No timezone found, symbol may be delisted')\n"
     ]
    },
    {
     "name": "stdout",
     "output_type": "stream",
     "text": [
      "\n",
      "Get Data for : RNET\n",
      "[*********************100%***********************]  1 of 1 completed"
     ]
    },
    {
     "name": "stderr",
     "output_type": "stream",
     "text": [
      "\n",
      "1 Failed download:\n",
      "['RNET']: Exception('%ticker%: No timezone found, symbol may be delisted')\n"
     ]
    },
    {
     "name": "stdout",
     "output_type": "stream",
     "text": [
      "\n",
      "Get Data for : RNG\n",
      "[*********************100%***********************]  1 of 1 completed\n",
      "Get Data for : RNR\n",
      "[*********************100%***********************]  1 of 1 completed\n",
      "Get Data for : RNST\n",
      "[*********************100%***********************]  1 of 1 completed\n",
      "Get Data for : RNWK\n",
      "[*********************100%***********************]  1 of 1 completed"
     ]
    },
    {
     "name": "stderr",
     "output_type": "stream",
     "text": [
      "\n",
      "1 Failed download:\n",
      "['RNWK']: Exception('%ticker%: No timezone found, symbol may be delisted')\n"
     ]
    },
    {
     "name": "stdout",
     "output_type": "stream",
     "text": [
      "\n",
      "Get Data for : ROCK\n",
      "[*********************100%***********************]  1 of 1 completed\n",
      "Get Data for : ROG\n",
      "[*********************100%***********************]  1 of 1 completed\n",
      "Get Data for : ROIC\n",
      "[*********************100%***********************]  1 of 1 completed\n",
      "Get Data for : ROK\n",
      "[*********************100%***********************]  1 of 1 completed\n",
      "Get Data for : ROKU\n",
      "[*********************100%***********************]  1 of 1 completed\n",
      "Get Data for : ROL\n",
      "[*********************100%***********************]  1 of 1 completed\n",
      "Get Data for : ROLL\n",
      "[*********************100%***********************]  1 of 1 completed"
     ]
    },
    {
     "name": "stderr",
     "output_type": "stream",
     "text": [
      "\n",
      "1 Failed download:\n",
      "['ROLL']: Exception('%ticker%: No timezone found, symbol may be delisted')\n"
     ]
    },
    {
     "name": "stdout",
     "output_type": "stream",
     "text": [
      "\n",
      "Get Data for : ROP\n",
      "[*********************100%***********************]  1 of 1 completed\n",
      "Get Data for : ROST\n",
      "[*********************100%***********************]  1 of 1 completed\n",
      "Get Data for : RP\n",
      "[*********************100%***********************]  1 of 1 completed"
     ]
    },
    {
     "name": "stderr",
     "output_type": "stream",
     "text": [
      "\n",
      "1 Failed download:\n",
      "['RP']: Exception('%ticker%: No timezone found, symbol may be delisted')\n"
     ]
    },
    {
     "name": "stdout",
     "output_type": "stream",
     "text": [
      "\n",
      "Get Data for : RPAI\n",
      "[*********************100%***********************]  1 of 1 completed"
     ]
    },
    {
     "name": "stderr",
     "output_type": "stream",
     "text": [
      "\n",
      "1 Failed download:\n",
      "['RPAI']: Exception('%ticker%: No timezone found, symbol may be delisted')\n"
     ]
    },
    {
     "name": "stdout",
     "output_type": "stream",
     "text": [
      "\n",
      "Get Data for : RPD\n",
      "[*********************100%***********************]  1 of 1 completed\n",
      "Get Data for : RPM\n",
      "[*********************100%***********************]  1 of 1 completed\n",
      "Get Data for : RPT\n",
      "[*********************100%***********************]  1 of 1 completed\n",
      "Get Data for : RRC\n",
      "[*********************100%***********************]  1 of 1 completed\n",
      "Get Data for : RRD\n",
      "[*********************100%***********************]  1 of 1 completed"
     ]
    },
    {
     "name": "stderr",
     "output_type": "stream",
     "text": [
      "\n",
      "1 Failed download:\n",
      "['RRD']: Exception('%ticker%: No timezone found, symbol may be delisted')\n"
     ]
    },
    {
     "name": "stdout",
     "output_type": "stream",
     "text": [
      "\n",
      "Get Data for : RRGB\n",
      "[*********************100%***********************]  1 of 1 completed\n",
      "Get Data for : RRR\n",
      "[*********************100%***********************]  1 of 1 completed\n",
      "Get Data for : RRTS\n",
      "[*********************100%***********************]  1 of 1 completed\n",
      "Get Data for : RS\n",
      "[*********************100%***********************]  1 of 1 completed\n",
      "Get Data for : RSG\n",
      "[*********************100%***********************]  1 of 1 completed\n",
      "Get Data for : RST\n",
      "[*********************100%***********************]  1 of 1 completed"
     ]
    },
    {
     "name": "stderr",
     "output_type": "stream",
     "text": [
      "\n",
      "1 Failed download:\n",
      "['RST']: Exception('%ticker%: No timezone found, symbol may be delisted')\n"
     ]
    },
    {
     "name": "stdout",
     "output_type": "stream",
     "text": [
      "\n",
      "Get Data for : RTIX\n",
      "[*********************100%***********************]  1 of 1 completed"
     ]
    },
    {
     "name": "stderr",
     "output_type": "stream",
     "text": [
      "\n",
      "1 Failed download:\n",
      "['RTIX']: Exception('%ticker%: No timezone found, symbol may be delisted')\n"
     ]
    },
    {
     "name": "stdout",
     "output_type": "stream",
     "text": [
      "\n",
      "Get Data for : RTRX\n",
      "[*********************100%***********************]  1 of 1 completed"
     ]
    },
    {
     "name": "stderr",
     "output_type": "stream",
     "text": [
      "\n",
      "1 Failed download:\n",
      "['RTRX']: Exception('%ticker%: No timezone found, symbol may be delisted')\n"
     ]
    },
    {
     "name": "stdout",
     "output_type": "stream",
     "text": [
      "\n",
      "Get Data for : RTW\n",
      "[*********************100%***********************]  1 of 1 completed\n",
      "Get Data for : RUBI\n",
      "[*********************100%***********************]  1 of 1 completed"
     ]
    },
    {
     "name": "stderr",
     "output_type": "stream",
     "text": [
      "\n",
      "1 Failed download:\n",
      "['RUBI']: Exception('%ticker%: No timezone found, symbol may be delisted')\n"
     ]
    },
    {
     "name": "stdout",
     "output_type": "stream",
     "text": [
      "\n",
      "Get Data for : RUBY\n",
      "[*********************100%***********************]  1 of 1 completed\n",
      "Get Data for : RUN\n",
      "[*********************100%***********************]  1 of 1 completed\n",
      "Get Data for : RUSHA\n",
      "[*********************100%***********************]  1 of 1 completed\n",
      "Get Data for : RUSHB\n",
      "[*********************100%***********************]  1 of 1 completed\n",
      "Get Data for : RUTH\n",
      "[*********************100%***********************]  1 of 1 completed\n",
      "Get Data for : RVI\n",
      "[*********************100%***********************]  1 of 1 completed"
     ]
    },
    {
     "name": "stderr",
     "output_type": "stream",
     "text": [
      "\n",
      "1 Failed download:\n",
      "['RVI']: Exception('%ticker%: No timezone found, symbol may be delisted')\n"
     ]
    },
    {
     "name": "stdout",
     "output_type": "stream",
     "text": [
      "\n",
      "Get Data for : RVLT\n",
      "[*********************100%***********************]  1 of 1 completed"
     ]
    },
    {
     "name": "stderr",
     "output_type": "stream",
     "text": [
      "\n",
      "1 Failed download:\n",
      "['RVLT']: Exception('%ticker%: No timezone found, symbol may be delisted')\n"
     ]
    },
    {
     "name": "stdout",
     "output_type": "stream",
     "text": [
      "\n",
      "Get Data for : RVNC\n",
      "[*********************100%***********************]  1 of 1 completed\n",
      "Get Data for : RVP\n",
      "[*********************100%***********************]  1 of 1 completed\n",
      "Get Data for : RVSB\n",
      "[*********************100%***********************]  1 of 1 completed\n",
      "Get Data for : RWT\n",
      "[*********************100%***********************]  1 of 1 completed\n",
      "Get Data for : RXN\n",
      "[*********************100%***********************]  1 of 1 completed"
     ]
    },
    {
     "name": "stderr",
     "output_type": "stream",
     "text": [
      "\n",
      "1 Failed download:\n",
      "['RXN']: Exception('%ticker%: No timezone found, symbol may be delisted')\n"
     ]
    },
    {
     "name": "stdout",
     "output_type": "stream",
     "text": [
      "\n",
      "Get Data for : RYAM\n",
      "[*********************100%***********************]  1 of 1 completed\n",
      "Get Data for : RYI\n",
      "[*********************100%***********************]  1 of 1 completed\n",
      "Get Data for : RYN\n",
      "[*********************100%***********************]  1 of 1 completed\n",
      "Get Data for : RYTM\n",
      "[*********************100%***********************]  1 of 1 completed\n",
      "Get Data for : SABR\n",
      "[*********************100%***********************]  1 of 1 completed\n",
      "Get Data for : SACH\n",
      "[*********************100%***********************]  1 of 1 completed\n",
      "Get Data for : SAFE\n",
      "[*********************100%***********************]  1 of 1 completed\n",
      "Get Data for : SAFM\n",
      "[*********************100%***********************]  1 of 1 completed"
     ]
    },
    {
     "name": "stderr",
     "output_type": "stream",
     "text": [
      "\n",
      "1 Failed download:\n",
      "['SAFM']: Exception('%ticker%: No timezone found, symbol may be delisted')\n"
     ]
    },
    {
     "name": "stdout",
     "output_type": "stream",
     "text": [
      "\n",
      "Get Data for : SAFT\n",
      "[*********************100%***********************]  1 of 1 completed\n",
      "Get Data for : SAGE\n",
      "[*********************100%***********************]  1 of 1 completed\n",
      "Get Data for : SAH\n",
      "[*********************100%***********************]  1 of 1 completed\n",
      "Get Data for : SAIA\n",
      "[*********************100%***********************]  1 of 1 completed\n",
      "Get Data for : SAIC\n",
      "[*********************100%***********************]  1 of 1 completed\n",
      "Get Data for : SAIL\n",
      "[*********************100%***********************]  1 of 1 completed"
     ]
    },
    {
     "name": "stderr",
     "output_type": "stream",
     "text": [
      "\n",
      "1 Failed download:\n",
      "['SAIL']: Exception('%ticker%: No timezone found, symbol may be delisted')\n"
     ]
    },
    {
     "name": "stdout",
     "output_type": "stream",
     "text": [
      "\n",
      "Get Data for : SAL\n",
      "[*********************100%***********************]  1 of 1 completed\n",
      "Get Data for : SALM\n",
      "[*********************100%***********************]  1 of 1 completed\n",
      "Get Data for : SAM\n",
      "[*********************100%***********************]  1 of 1 completed\n",
      "Get Data for : SAMG\n",
      "[*********************100%***********************]  1 of 1 completed\n",
      "Get Data for : SANM\n",
      "[*********************100%***********************]  1 of 1 completed\n",
      "Get Data for : SANW\n",
      "[*********************100%***********************]  1 of 1 completed\n",
      "Get Data for : SASR\n",
      "[*********************100%***********************]  1 of 1 completed\n",
      "Get Data for : SATS\n",
      "[*********************100%***********************]  1 of 1 completed\n",
      "Get Data for : SAVE\n",
      "[*********************100%***********************]  1 of 1 completed\n",
      "Get Data for : SBAC\n",
      "[*********************100%***********************]  1 of 1 completed\n",
      "Get Data for : SBBX\n",
      "[*********************100%***********************]  1 of 1 completed"
     ]
    },
    {
     "name": "stderr",
     "output_type": "stream",
     "text": [
      "\n",
      "1 Failed download:\n",
      "['SBBX']: Exception('%ticker%: No timezone found, symbol may be delisted')\n"
     ]
    },
    {
     "name": "stdout",
     "output_type": "stream",
     "text": [
      "\n",
      "Get Data for : SBCF\n",
      "[*********************100%***********************]  1 of 1 completed\n",
      "Get Data for : SBFG\n",
      "[*********************100%***********************]  1 of 1 completed\n",
      "Get Data for : SBGI\n",
      "[*********************100%***********************]  1 of 1 completed\n",
      "Get Data for : SBH\n",
      "[*********************100%***********************]  1 of 1 completed\n",
      "Get Data for : SBNY\n",
      "[*********************100%***********************]  1 of 1 completed\n",
      "Get Data for : SBOW\n",
      "[*********************100%***********************]  1 of 1 completed\n",
      "Get Data for : SBPH\n",
      "[*********************100%***********************]  1 of 1 completed"
     ]
    },
    {
     "name": "stderr",
     "output_type": "stream",
     "text": [
      "\n",
      "1 Failed download:\n",
      "['SBPH']: Exception('%ticker%: No timezone found, symbol may be delisted')\n"
     ]
    },
    {
     "name": "stdout",
     "output_type": "stream",
     "text": [
      "\n",
      "Get Data for : SBRA\n",
      "[*********************100%***********************]  1 of 1 completed\n",
      "Get Data for : SBSI\n",
      "[*********************100%***********************]  1 of 1 completed\n",
      "Get Data for : SBT\n",
      "[*********************100%***********************]  1 of 1 completed\n",
      "Get Data for : SBUX\n",
      "[*********************100%***********************]  1 of 1 completed\n",
      "Get Data for : SC\n",
      "[*********************100%***********************]  1 of 1 completed"
     ]
    },
    {
     "name": "stderr",
     "output_type": "stream",
     "text": [
      "\n",
      "1 Failed download:\n",
      "['SC']: Exception('%ticker%: No timezone found, symbol may be delisted')\n"
     ]
    },
    {
     "name": "stdout",
     "output_type": "stream",
     "text": [
      "\n",
      "Get Data for : SCHL\n",
      "[*********************100%***********************]  1 of 1 completed\n",
      "Get Data for : SCHN\n",
      "[*********************100%***********************]  1 of 1 completed\n",
      "Get Data for : SCHW\n",
      "[*********************100%***********************]  1 of 1 completed\n",
      "Get Data for : SCI\n",
      "[*********************100%***********************]  1 of 1 completed\n",
      "Get Data for : SCL\n",
      "[*********************100%***********************]  1 of 1 completed\n",
      "Get Data for : SCON\n",
      "[*********************100%***********************]  1 of 1 completed"
     ]
    },
    {
     "name": "stderr",
     "output_type": "stream",
     "text": [
      "\n",
      "1 Failed download:\n",
      "['SCON']: Exception('%ticker%: No timezone found, symbol may be delisted')\n"
     ]
    },
    {
     "name": "stdout",
     "output_type": "stream",
     "text": [
      "\n",
      "Get Data for : SCOR\n",
      "[*********************100%***********************]  1 of 1 completed\n",
      "Get Data for : SCPL\n",
      "[*********************100%***********************]  1 of 1 completed\n",
      "Get Data for : SCS\n",
      "[*********************100%***********************]  1 of 1 completed\n",
      "Get Data for : SCSC\n",
      "[*********************100%***********************]  1 of 1 completed\n",
      "Get Data for : SCVL\n",
      "[*********************100%***********************]  1 of 1 completed\n",
      "Get Data for : SCWX\n",
      "[*********************100%***********************]  1 of 1 completed\n",
      "Get Data for : SCX\n",
      "[*********************100%***********************]  1 of 1 completed\n",
      "Get Data for : SCYX\n",
      "[*********************100%***********************]  1 of 1 completed\n",
      "Get Data for : SD\n",
      "[*********************100%***********************]  1 of 1 completed\n",
      "Get Data for : SDPI\n",
      "[*********************100%***********************]  1 of 1 completed\n",
      "Get Data for : SEAC\n",
      "[*********************100%***********************]  1 of 1 completed\n",
      "Get Data for : SEAS\n",
      "[*********************100%***********************]  1 of 1 completed\n",
      "Get Data for : SEB\n",
      "[*********************100%***********************]  1 of 1 completed\n",
      "Get Data for : SEDG\n",
      "[*********************100%***********************]  1 of 1 completed\n",
      "Get Data for : SEE\n",
      "[*********************100%***********************]  1 of 1 completed\n",
      "Get Data for : SEIC\n",
      "[*********************100%***********************]  1 of 1 completed\n",
      "Get Data for : SELB\n",
      "[*********************100%***********************]  1 of 1 completed\n",
      "Get Data for : SELF\n",
      "[*********************100%***********************]  1 of 1 completed\n",
      "Get Data for : SEM\n",
      "[*********************100%***********************]  1 of 1 completed\n",
      "Get Data for : SENEA\n",
      "[*********************100%***********************]  1 of 1 completed\n",
      "Get Data for : SENEB\n",
      "[*********************100%***********************]  1 of 1 completed\n",
      "Get Data for : SENS\n",
      "[*********************100%***********************]  1 of 1 completed\n",
      "Get Data for : SERV\n",
      "[*********************100%***********************]  1 of 1 completed"
     ]
    },
    {
     "name": "stderr",
     "output_type": "stream",
     "text": [
      "\n",
      "1 Failed download:\n",
      "['SERV']: Exception('%ticker%: No timezone found, symbol may be delisted')\n"
     ]
    },
    {
     "name": "stdout",
     "output_type": "stream",
     "text": [
      "\n",
      "Get Data for : SESN\n",
      "[*********************100%***********************]  1 of 1 completed"
     ]
    },
    {
     "name": "stderr",
     "output_type": "stream",
     "text": [
      "\n",
      "1 Failed download:\n",
      "['SESN']: Exception('%ticker%: No timezone found, symbol may be delisted')\n"
     ]
    },
    {
     "name": "stdout",
     "output_type": "stream",
     "text": [
      "\n",
      "Get Data for : SF\n",
      "[*********************100%***********************]  1 of 1 completed\n",
      "Get Data for : SFBC\n",
      "[*********************100%***********************]  1 of 1 completed\n",
      "Get Data for : SFBS\n",
      "[*********************100%***********************]  1 of 1 completed\n",
      "Get Data for : SFE\n",
      "[*********************100%***********************]  1 of 1 completed\n",
      "Get Data for : SFIX\n",
      "[*********************100%***********************]  1 of 1 completed\n",
      "Get Data for : SFM\n",
      "[*********************100%***********************]  1 of 1 completed\n",
      "Get Data for : SFNC\n",
      "[*********************100%***********************]  1 of 1 completed\n",
      "Get Data for : SFST\n",
      "[*********************100%***********************]  1 of 1 completed\n",
      "Get Data for : SGA\n",
      "[*********************100%***********************]  1 of 1 completed\n",
      "Get Data for : SGC\n",
      "[*********************100%***********************]  1 of 1 completed\n",
      "Get Data for : SGEN\n",
      "[*********************100%***********************]  1 of 1 completed\n",
      "Get Data for : SGH\n",
      "[*********************100%***********************]  1 of 1 completed\n",
      "Get Data for : SGMA\n",
      "[*********************100%***********************]  1 of 1 completed\n",
      "Get Data for : SGMO\n",
      "[*********************100%***********************]  1 of 1 completed\n",
      "Get Data for : SGMS\n",
      "[*********************100%***********************]  1 of 1 completed"
     ]
    },
    {
     "name": "stderr",
     "output_type": "stream",
     "text": [
      "\n",
      "1 Failed download:\n",
      "['SGMS']: Exception('%ticker%: No timezone found, symbol may be delisted')\n"
     ]
    },
    {
     "name": "stdout",
     "output_type": "stream",
     "text": [
      "\n",
      "Get Data for : SGRP\n",
      "[*********************100%***********************]  1 of 1 completed\n",
      "Get Data for : SGRY\n",
      "[*********************100%***********************]  1 of 1 completed\n",
      "Get Data for : SHAK\n",
      "[*********************100%***********************]  1 of 1 completed\n",
      "Get Data for : SHBI\n",
      "[*********************100%***********************]  1 of 1 completed\n",
      "Get Data for : SHEN\n",
      "[*********************100%***********************]  1 of 1 completed\n",
      "Get Data for : SHLO\n",
      "[*********************100%***********************]  1 of 1 completed"
     ]
    },
    {
     "name": "stderr",
     "output_type": "stream",
     "text": [
      "\n",
      "1 Failed download:\n",
      "['SHLO']: Exception('%ticker%: No timezone found, symbol may be delisted')\n"
     ]
    },
    {
     "name": "stdout",
     "output_type": "stream",
     "text": [
      "\n",
      "Get Data for : SHO\n",
      "[*********************100%***********************]  1 of 1 completed\n",
      "Get Data for : SHOO\n",
      "[*********************100%***********************]  1 of 1 completed\n",
      "Get Data for : SHSP\n",
      "[*********************100%***********************]  1 of 1 completed"
     ]
    },
    {
     "name": "stderr",
     "output_type": "stream",
     "text": [
      "\n",
      "1 Failed download:\n",
      "['SHSP']: Exception('%ticker%: No timezone found, symbol may be delisted')\n"
     ]
    },
    {
     "name": "stdout",
     "output_type": "stream",
     "text": [
      "\n",
      "Get Data for : SHW\n",
      "[*********************100%***********************]  1 of 1 completed\n",
      "Get Data for : SIBN\n",
      "[*********************100%***********************]  1 of 1 completed\n",
      "Get Data for : SIEB\n",
      "[*********************100%***********************]  1 of 1 completed\n",
      "Get Data for : SIEN\n",
      "[*********************100%***********************]  1 of 1 completed\n",
      "Get Data for : SIF\n",
      "[*********************100%***********************]  1 of 1 completed\n",
      "Get Data for : SIG\n",
      "[*********************100%***********************]  1 of 1 completed\n",
      "Get Data for : SIGA\n",
      "[*********************100%***********************]  1 of 1 completed\n",
      "Get Data for : SIGI\n",
      "[*********************100%***********************]  1 of 1 completed\n",
      "Get Data for : SILK\n",
      "[*********************100%***********************]  1 of 1 completed\n",
      "Get Data for : SINT\n",
      "[*********************100%***********************]  1 of 1 completed\n",
      "Get Data for : SIRI\n",
      "[*********************100%***********************]  1 of 1 completed\n",
      "Get Data for : SITC\n",
      "[*********************100%***********************]  1 of 1 completed\n",
      "Get Data for : SITE\n",
      "[*********************100%***********************]  1 of 1 completed\n",
      "Get Data for : SITO\n",
      "[*********************100%***********************]  1 of 1 completed"
     ]
    },
    {
     "name": "stderr",
     "output_type": "stream",
     "text": [
      "\n",
      "1 Failed download:\n",
      "['SITO']: Exception('%ticker%: No timezone found, symbol may be delisted')\n"
     ]
    },
    {
     "name": "stdout",
     "output_type": "stream",
     "text": [
      "\n",
      "Get Data for : SIVB\n",
      "[*********************100%***********************]  1 of 1 completed"
     ]
    },
    {
     "name": "stderr",
     "output_type": "stream",
     "text": [
      "\n",
      "1 Failed download:\n",
      "['SIVB']: Exception('%ticker%: No timezone found, symbol may be delisted')\n"
     ]
    },
    {
     "name": "stdout",
     "output_type": "stream",
     "text": [
      "\n",
      "Get Data for : SIX\n",
      "[*********************100%***********************]  1 of 1 completed\n",
      "Get Data for : SJI\n",
      "[*********************100%***********************]  1 of 1 completed"
     ]
    },
    {
     "name": "stderr",
     "output_type": "stream",
     "text": [
      "\n",
      "1 Failed download:\n",
      "['SJI']: Exception('%ticker%: No timezone found, symbol may be delisted')\n"
     ]
    },
    {
     "name": "stdout",
     "output_type": "stream",
     "text": [
      "\n",
      "Get Data for : SJM\n",
      "[*********************100%***********************]  1 of 1 completed\n",
      "Get Data for : SJW\n",
      "[*********************100%***********************]  1 of 1 completed\n",
      "Get Data for : SKT\n",
      "[*********************100%***********************]  1 of 1 completed\n",
      "Get Data for : SKX\n",
      "[*********************100%***********************]  1 of 1 completed\n",
      "Get Data for : SKY\n",
      "[*********************100%***********************]  1 of 1 completed\n",
      "Get Data for : SKYW\n",
      "[*********************100%***********************]  1 of 1 completed\n",
      "Get Data for : SLAB\n",
      "[*********************100%***********************]  1 of 1 completed\n",
      "Get Data for : SLB\n",
      "[*********************100%***********************]  1 of 1 completed\n",
      "Get Data for : SLCA\n",
      "[*********************100%***********************]  1 of 1 completed\n",
      "Get Data for : SLCT\n",
      "[*********************100%***********************]  1 of 1 completed"
     ]
    },
    {
     "name": "stderr",
     "output_type": "stream",
     "text": [
      "\n",
      "1 Failed download:\n",
      "['SLCT']: Exception('%ticker%: No timezone found, symbol may be delisted')\n"
     ]
    },
    {
     "name": "stdout",
     "output_type": "stream",
     "text": [
      "\n",
      "Get Data for : SLDB\n",
      "[*********************100%***********************]  1 of 1 completed\n",
      "Get Data for : SLG\n",
      "[*********************100%***********************]  1 of 1 completed\n",
      "Get Data for : SLGN\n",
      "[*********************100%***********************]  1 of 1 completed\n",
      "Get Data for : SLM\n",
      "[*********************100%***********************]  1 of 1 completed\n",
      "Get Data for : SLNO\n",
      "[*********************100%***********************]  1 of 1 completed\n",
      "Get Data for : SLP\n",
      "[*********************100%***********************]  1 of 1 completed\n",
      "Get Data for : SLS\n",
      "[*********************100%***********************]  1 of 1 completed\n",
      "Get Data for : SM\n",
      "[*********************100%***********************]  1 of 1 completed\n",
      "Get Data for : SMAR\n",
      "[*********************100%***********************]  1 of 1 completed\n",
      "Get Data for : SMBC\n",
      "[*********************100%***********************]  1 of 1 completed\n",
      "Get Data for : SMBK\n",
      "[*********************100%***********************]  1 of 1 completed\n",
      "Get Data for : SMED\n",
      "[*********************100%***********************]  1 of 1 completed"
     ]
    },
    {
     "name": "stderr",
     "output_type": "stream",
     "text": [
      "\n",
      "1 Failed download:\n",
      "['SMED']: Exception('%ticker%: No timezone found, symbol may be delisted')\n"
     ]
    },
    {
     "name": "stdout",
     "output_type": "stream",
     "text": [
      "\n",
      "Get Data for : SMG\n",
      "[*********************100%***********************]  1 of 1 completed\n",
      "Get Data for : SMIT\n",
      "[*********************100%***********************]  1 of 1 completed\n",
      "Get Data for : SMMF\n",
      "[*********************100%***********************]  1 of 1 completed\n",
      "Get Data for : SMP\n",
      "[*********************100%***********************]  1 of 1 completed\n",
      "Get Data for : SMPL\n",
      "[*********************100%***********************]  1 of 1 completed\n",
      "Get Data for : SMRT\n",
      "[*********************100%***********************]  1 of 1 completed"
     ]
    },
    {
     "name": "stderr",
     "output_type": "stream",
     "text": [
      "\n",
      "1 Failed download:\n",
      "['SMRT']: Exception(\"%ticker%: Data doesn't exist for startDate = 1483246800, endDate = 1629345600\")\n"
     ]
    },
    {
     "name": "stdout",
     "output_type": "stream",
     "text": [
      "\n",
      "Get Data for : SMSI\n",
      "[*********************100%***********************]  1 of 1 completed\n",
      "Get Data for : SMTC\n",
      "[*********************100%***********************]  1 of 1 completed\n",
      "Get Data for : SNA\n",
      "[*********************100%***********************]  1 of 1 completed\n",
      "Get Data for : SNAP\n",
      "[*********************100%***********************]  1 of 1 completed\n",
      "Get Data for : SNBR\n",
      "[*********************100%***********************]  1 of 1 completed\n",
      "Get Data for : SNCR\n",
      "[*********************100%***********************]  1 of 1 completed\n",
      "Get Data for : SND\n",
      "[*********************100%***********************]  1 of 1 completed\n",
      "Get Data for : SNDR\n",
      "[*********************100%***********************]  1 of 1 completed\n",
      "Get Data for : SNDX\n",
      "[*********************100%***********************]  1 of 1 completed\n",
      "Get Data for : SNFCA\n",
      "[*********************100%***********************]  1 of 1 completed\n",
      "Get Data for : SNOA\n",
      "[*********************100%***********************]  1 of 1 completed\n",
      "Get Data for : SNPS\n",
      "[*********************100%***********************]  1 of 1 completed\n",
      "Get Data for : SNR\n",
      "[*********************100%***********************]  1 of 1 completed"
     ]
    },
    {
     "name": "stderr",
     "output_type": "stream",
     "text": [
      "\n",
      "1 Failed download:\n",
      "['SNR']: Exception('%ticker%: No timezone found, symbol may be delisted')\n"
     ]
    },
    {
     "name": "stdout",
     "output_type": "stream",
     "text": [
      "\n",
      "Get Data for : SNSS\n",
      "[*********************100%***********************]  1 of 1 completed"
     ]
    },
    {
     "name": "stderr",
     "output_type": "stream",
     "text": [
      "\n",
      "1 Failed download:\n",
      "['SNSS']: Exception('%ticker%: No timezone found, symbol may be delisted')\n"
     ]
    },
    {
     "name": "stdout",
     "output_type": "stream",
     "text": [
      "\n",
      "Get Data for : SNV\n",
      "[*********************100%***********************]  1 of 1 completed\n",
      "Get Data for : SNX\n",
      "[*********************100%***********************]  1 of 1 completed\n",
      "Get Data for : SO\n",
      "[*********************100%***********************]  1 of 1 completed\n",
      "Get Data for : SOHO\n",
      "[*********************100%***********************]  1 of 1 completed\n",
      "Get Data for : SOI\n",
      "[*********************100%***********************]  1 of 1 completed\n",
      "Get Data for : SOLY\n",
      "[*********************100%***********************]  1 of 1 completed"
     ]
    },
    {
     "name": "stderr",
     "output_type": "stream",
     "text": [
      "\n",
      "1 Failed download:\n",
      "['SOLY']: Exception('%ticker%: No timezone found, symbol may be delisted')\n"
     ]
    },
    {
     "name": "stdout",
     "output_type": "stream",
     "text": [
      "\n",
      "Get Data for : SON\n",
      "[*********************100%***********************]  1 of 1 completed\n",
      "Get Data for : SONA\n",
      "[*********************100%***********************]  1 of 1 completed"
     ]
    },
    {
     "name": "stderr",
     "output_type": "stream",
     "text": [
      "\n",
      "1 Failed download:\n",
      "['SONA']: Exception('%ticker%: No timezone found, symbol may be delisted')\n"
     ]
    },
    {
     "name": "stdout",
     "output_type": "stream",
     "text": [
      "\n",
      "Get Data for : SONO\n",
      "[*********************100%***********************]  1 of 1 completed\n",
      "Get Data for : SP\n",
      "[*********************100%***********************]  1 of 1 completed\n",
      "Get Data for : SPB\n",
      "[*********************100%***********************]  1 of 1 completed\n",
      "Get Data for : SPG\n",
      "[*********************100%***********************]  1 of 1 completed\n",
      "Get Data for : SPGI\n",
      "[*********************100%***********************]  1 of 1 completed\n",
      "Get Data for : SPKE\n",
      "[*********************100%***********************]  1 of 1 completed"
     ]
    },
    {
     "name": "stderr",
     "output_type": "stream",
     "text": [
      "\n",
      "1 Failed download:\n",
      "['SPKE']: Exception('%ticker%: No timezone found, symbol may be delisted')\n"
     ]
    },
    {
     "name": "stdout",
     "output_type": "stream",
     "text": [
      "\n",
      "Get Data for : SPLK\n",
      "[*********************100%***********************]  1 of 1 completed\n",
      "Get Data for : SPN\n",
      "[*********************100%***********************]  1 of 1 completed"
     ]
    },
    {
     "name": "stderr",
     "output_type": "stream",
     "text": [
      "\n",
      "1 Failed download:\n",
      "['SPN']: Exception('%ticker%: No timezone found, symbol may be delisted')\n"
     ]
    },
    {
     "name": "stdout",
     "output_type": "stream",
     "text": [
      "\n",
      "Get Data for : SPNE\n",
      "[*********************100%***********************]  1 of 1 completed"
     ]
    },
    {
     "name": "stderr",
     "output_type": "stream",
     "text": [
      "\n",
      "1 Failed download:\n",
      "['SPNE']: Exception('%ticker%: No timezone found, symbol may be delisted')\n"
     ]
    },
    {
     "name": "stdout",
     "output_type": "stream",
     "text": [
      "\n",
      "Get Data for : SPOK\n",
      "[*********************100%***********************]  1 of 1 completed\n",
      "Get Data for : SPPI\n",
      "[*********************100%***********************]  1 of 1 completed\n",
      "Get Data for : SPR\n",
      "[*********************100%***********************]  1 of 1 completed\n",
      "Get Data for : SPRO\n",
      "[*********************100%***********************]  1 of 1 completed\n",
      "Get Data for : SPRT\n",
      "[*********************100%***********************]  1 of 1 completed"
     ]
    },
    {
     "name": "stderr",
     "output_type": "stream",
     "text": [
      "\n",
      "1 Failed download:\n",
      "['SPRT']: Exception('%ticker%: No timezone found, symbol may be delisted')\n"
     ]
    },
    {
     "name": "stdout",
     "output_type": "stream",
     "text": [
      "\n",
      "Get Data for : SPSC\n",
      "[*********************100%***********************]  1 of 1 completed\n",
      "Get Data for : SPTN\n",
      "[*********************100%***********************]  1 of 1 completed\n",
      "Get Data for : SPWH\n",
      "[*********************100%***********************]  1 of 1 completed\n",
      "Get Data for : SPWR\n",
      "[*********************100%***********************]  1 of 1 completed\n",
      "Get Data for : SPXC\n",
      "[*********************100%***********************]  1 of 1 completed\n",
      "Get Data for : SQ\n",
      "[*********************100%***********************]  1 of 1 completed\n",
      "Get Data for : SQBG\n",
      "[*********************100%***********************]  1 of 1 completed"
     ]
    },
    {
     "name": "stderr",
     "output_type": "stream",
     "text": [
      "\n",
      "1 Failed download:\n",
      "['SQBG']: Exception('%ticker%: No timezone found, symbol may be delisted')\n"
     ]
    },
    {
     "name": "stdout",
     "output_type": "stream",
     "text": [
      "\n",
      "Get Data for : SR\n",
      "[*********************100%***********************]  1 of 1 completed\n",
      "Get Data for : SRC\n",
      "[*********************100%***********************]  1 of 1 completed\n",
      "Get Data for : SRCE\n",
      "[*********************100%***********************]  1 of 1 completed\n",
      "Get Data for : SRCL\n",
      "[*********************100%***********************]  1 of 1 completed\n",
      "Get Data for : SRDX\n",
      "[*********************100%***********************]  1 of 1 completed\n",
      "Get Data for : SRE\n",
      "[*********************100%***********************]  1 of 1 completed\n",
      "Get Data for : SREV\n",
      "[*********************100%***********************]  1 of 1 completed"
     ]
    },
    {
     "name": "stderr",
     "output_type": "stream",
     "text": [
      "\n",
      "1 Failed download:\n",
      "['SREV']: Exception('%ticker%: No timezone found, symbol may be delisted')\n"
     ]
    },
    {
     "name": "stdout",
     "output_type": "stream",
     "text": [
      "\n",
      "Get Data for : SRG\n",
      "[*********************100%***********************]  1 of 1 completed\n",
      "Get Data for : SRI\n",
      "[*********************100%***********************]  1 of 1 completed\n",
      "Get Data for : SRNE\n",
      "[*********************100%***********************]  1 of 1 completed"
     ]
    },
    {
     "name": "stderr",
     "output_type": "stream",
     "text": [
      "\n",
      "1 Failed download:\n",
      "['SRNE']: Exception('%ticker%: No timezone found, symbol may be delisted')\n"
     ]
    },
    {
     "name": "stdout",
     "output_type": "stream",
     "text": [
      "\n",
      "Get Data for : SRPT\n",
      "[*********************100%***********************]  1 of 1 completed\n",
      "Get Data for : SRRK\n",
      "[*********************100%***********************]  1 of 1 completed\n",
      "Get Data for : SRT\n",
      "[*********************100%***********************]  1 of 1 completed\n",
      "Get Data for : SRTS\n",
      "[*********************100%***********************]  1 of 1 completed\n",
      "Get Data for : SSB\n",
      "[*********************100%***********************]  1 of 1 completed\n",
      "Get Data for : SSBI\n",
      "[*********************100%***********************]  1 of 1 completed\n",
      "Get Data for : SSD\n",
      "[*********************100%***********************]  1 of 1 completed\n",
      "Get Data for : SSKN\n",
      "[*********************100%***********************]  1 of 1 completed\n",
      "Get Data for : SSNC\n",
      "[*********************100%***********************]  1 of 1 completed\n",
      "Get Data for : SSP\n",
      "[*********************100%***********************]  1 of 1 completed\n",
      "Get Data for : SSTI\n",
      "[*********************100%***********************]  1 of 1 completed\n",
      "Get Data for : SSTK\n",
      "[*********************100%***********************]  1 of 1 completed\n",
      "Get Data for : ST\n",
      "[*********************100%***********************]  1 of 1 completed\n",
      "Get Data for : STAA\n",
      "[*********************100%***********************]  1 of 1 completed\n",
      "Get Data for : STAG\n",
      "[*********************100%***********************]  1 of 1 completed\n",
      "Get Data for : STAR\n",
      "[*********************100%***********************]  1 of 1 completed"
     ]
    },
    {
     "name": "stderr",
     "output_type": "stream",
     "text": [
      "\n",
      "1 Failed download:\n",
      "['STAR']: Exception('%ticker%: No timezone found, symbol may be delisted')\n"
     ]
    },
    {
     "name": "stdout",
     "output_type": "stream",
     "text": [
      "\n",
      "Get Data for : STAY\n",
      "[*********************100%***********************]  1 of 1 completed"
     ]
    },
    {
     "name": "stderr",
     "output_type": "stream",
     "text": [
      "\n",
      "1 Failed download:\n",
      "['STAY']: Exception('%ticker%: No timezone found, symbol may be delisted')\n"
     ]
    },
    {
     "name": "stdout",
     "output_type": "stream",
     "text": [
      "\n",
      "Get Data for : STBA\n",
      "[*********************100%***********************]  1 of 1 completed\n",
      "Get Data for : STC\n",
      "[*********************100%***********************]  1 of 1 completed\n",
      "Get Data for : STCN\n",
      "[*********************100%***********************]  1 of 1 completed\n",
      "Get Data for : STE\n",
      "[*********************100%***********************]  1 of 1 completed\n",
      "Get Data for : STFC\n",
      "[*********************100%***********************]  1 of 1 completed"
     ]
    },
    {
     "name": "stderr",
     "output_type": "stream",
     "text": [
      "\n",
      "1 Failed download:\n",
      "['STFC']: Exception('%ticker%: No timezone found, symbol may be delisted')\n"
     ]
    },
    {
     "name": "stdout",
     "output_type": "stream",
     "text": [
      "\n",
      "Get Data for : STIM\n",
      "[*********************100%***********************]  1 of 1 completed\n",
      "Get Data for : STKS\n",
      "[*********************100%***********************]  1 of 1 completed\n",
      "Get Data for : STL\n",
      "[*********************100%***********************]  1 of 1 completed"
     ]
    },
    {
     "name": "stderr",
     "output_type": "stream",
     "text": [
      "\n",
      "1 Failed download:\n",
      "['STL']: Exception('%ticker%: No timezone found, symbol may be delisted')\n"
     ]
    },
    {
     "name": "stdout",
     "output_type": "stream",
     "text": [
      "\n",
      "Get Data for : STLD\n",
      "[*********************100%***********************]  1 of 1 completed\n",
      "Get Data for : STMP\n",
      "[*********************100%***********************]  1 of 1 completed"
     ]
    },
    {
     "name": "stderr",
     "output_type": "stream",
     "text": [
      "\n",
      "1 Failed download:\n"
     ]
    },
    {
     "name": "stdout",
     "output_type": "stream",
     "text": [
      "\n"
     ]
    },
    {
     "name": "stderr",
     "output_type": "stream",
     "text": [
      "['STMP']: Exception('%ticker%: No timezone found, symbol may be delisted')\n"
     ]
    },
    {
     "name": "stdout",
     "output_type": "stream",
     "text": [
      "Get Data for : STND\n",
      "[*********************100%***********************]  1 of 1 completed"
     ]
    },
    {
     "name": "stderr",
     "output_type": "stream",
     "text": [
      "\n",
      "1 Failed download:\n",
      "['STND']: Exception('%ticker%: No timezone found, symbol may be delisted')\n"
     ]
    },
    {
     "name": "stdout",
     "output_type": "stream",
     "text": [
      "\n",
      "Get Data for : STOR\n",
      "[*********************100%***********************]  1 of 1 completed"
     ]
    },
    {
     "name": "stderr",
     "output_type": "stream",
     "text": [
      "\n",
      "1 Failed download:\n",
      "['STOR']: Exception('%ticker%: No timezone found, symbol may be delisted')\n"
     ]
    },
    {
     "name": "stdout",
     "output_type": "stream",
     "text": [
      "\n",
      "Get Data for : STRA\n",
      "[*********************100%***********************]  1 of 1 completed\n",
      "Get Data for : STRL\n",
      "[*********************100%***********************]  1 of 1 completed\n",
      "Get Data for : STRM\n",
      "[*********************100%***********************]  1 of 1 completed\n",
      "Get Data for : STRS\n",
      "[*********************100%***********************]  1 of 1 completed\n",
      "Get Data for : STRT\n",
      "[*********************100%***********************]  1 of 1 completed\n",
      "Get Data for : STT\n",
      "[*********************100%***********************]  1 of 1 completed\n",
      "Get Data for : STWD\n",
      "[*********************100%***********************]  1 of 1 completed\n",
      "Get Data for : STX\n",
      "[*********************100%***********************]  1 of 1 completed\n",
      "Get Data for : STXB\n",
      "[*********************100%***********************]  1 of 1 completed"
     ]
    },
    {
     "name": "stderr",
     "output_type": "stream",
     "text": [
      "\n",
      "1 Failed download:\n",
      "['STXB']: Exception('%ticker%: No timezone found, symbol may be delisted')\n"
     ]
    },
    {
     "name": "stdout",
     "output_type": "stream",
     "text": [
      "\n",
      "Get Data for : STZ\n",
      "[*********************100%***********************]  1 of 1 completed\n",
      "Get Data for : SUI\n",
      "[*********************100%***********************]  1 of 1 completed\n",
      "Get Data for : SUM\n",
      "[*********************100%***********************]  1 of 1 completed\n",
      "Get Data for : SUMR\n",
      "[*********************100%***********************]  1 of 1 completed"
     ]
    },
    {
     "name": "stderr",
     "output_type": "stream",
     "text": [
      "\n",
      "1 Failed download:\n",
      "['SUMR']: Exception('%ticker%: No timezone found, symbol may be delisted')\n"
     ]
    },
    {
     "name": "stdout",
     "output_type": "stream",
     "text": [
      "\n",
      "Get Data for : SUNW\n",
      "[*********************100%***********************]  1 of 1 completed\n",
      "Get Data for : SUP\n",
      "[*********************100%***********************]  1 of 1 completed\n",
      "Get Data for : SUPN\n",
      "[*********************100%***********************]  1 of 1 completed\n",
      "Get Data for : SVBI\n",
      "[*********************100%***********************]  1 of 1 completed"
     ]
    },
    {
     "name": "stderr",
     "output_type": "stream",
     "text": [
      "\n",
      "1 Failed download:\n",
      "['SVBI']: Exception('%ticker%: No timezone found, symbol may be delisted')\n"
     ]
    },
    {
     "name": "stdout",
     "output_type": "stream",
     "text": [
      "\n",
      "Get Data for : SVMK\n",
      "[*********************100%***********************]  1 of 1 completed"
     ]
    },
    {
     "name": "stderr",
     "output_type": "stream",
     "text": [
      "\n",
      "1 Failed download:\n",
      "['SVMK']: Exception('%ticker%: No timezone found, symbol may be delisted')\n"
     ]
    },
    {
     "name": "stdout",
     "output_type": "stream",
     "text": [
      "\n",
      "Get Data for : SVRA\n",
      "[*********************100%***********************]  1 of 1 completed\n",
      "Get Data for : SVT\n",
      "[*********************100%***********************]  1 of 1 completed\n",
      "Get Data for : SWAV\n",
      "[*********************100%***********************]  1 of 1 completed\n",
      "Get Data for : SWCH\n",
      "[*********************100%***********************]  1 of 1 completed"
     ]
    },
    {
     "name": "stderr",
     "output_type": "stream",
     "text": [
      "\n",
      "1 Failed download:\n",
      "['SWCH']: Exception('%ticker%: No timezone found, symbol may be delisted')\n"
     ]
    },
    {
     "name": "stdout",
     "output_type": "stream",
     "text": [
      "\n",
      "Get Data for : SWK\n",
      "[*********************100%***********************]  1 of 1 completed\n",
      "Get Data for : SWKS\n",
      "[*********************100%***********************]  1 of 1 completed\n",
      "Get Data for : SWM\n",
      "[*********************100%***********************]  1 of 1 completed"
     ]
    },
    {
     "name": "stderr",
     "output_type": "stream",
     "text": [
      "\n",
      "1 Failed download:\n",
      "['SWM']: Exception('%ticker%: No timezone found, symbol may be delisted')\n"
     ]
    },
    {
     "name": "stdout",
     "output_type": "stream",
     "text": [
      "\n",
      "Get Data for : SWN\n",
      "[*********************100%***********************]  1 of 1 completed\n",
      "Get Data for : SWX\n",
      "[*********************100%***********************]  1 of 1 completed\n",
      "Get Data for : SXC\n",
      "[*********************100%***********************]  1 of 1 completed\n",
      "Get Data for : SXI\n",
      "[*********************100%***********************]  1 of 1 completed\n",
      "Get Data for : SXT\n",
      "[*********************100%***********************]  1 of 1 completed\n",
      "Get Data for : SYBT\n",
      "[*********************100%***********************]  1 of 1 completed\n",
      "Get Data for : SYBX\n",
      "[*********************100%***********************]  1 of 1 completed\n",
      "Get Data for : SYF\n",
      "[*********************100%***********************]  1 of 1 completed\n",
      "Get Data for : SYK\n",
      "[*********************100%***********************]  1 of 1 completed\n",
      "Get Data for : SYKE\n",
      "[*********************100%***********************]  1 of 1 completed"
     ]
    },
    {
     "name": "stderr",
     "output_type": "stream",
     "text": [
      "\n",
      "1 Failed download:\n",
      "['SYKE']: Exception('%ticker%: No timezone found, symbol may be delisted')\n"
     ]
    },
    {
     "name": "stdout",
     "output_type": "stream",
     "text": [
      "\n",
      "Get Data for : SYN\n",
      "[*********************100%***********************]  1 of 1 completed"
     ]
    },
    {
     "name": "stderr",
     "output_type": "stream",
     "text": [
      "\n",
      "1 Failed download:\n",
      "['SYN']: Exception('%ticker%: No timezone found, symbol may be delisted')\n"
     ]
    },
    {
     "name": "stdout",
     "output_type": "stream",
     "text": [
      "\n",
      "Get Data for : SYNA\n",
      "[*********************100%***********************]  1 of 1 completed\n",
      "Get Data for : SYNC\n",
      "[*********************100%***********************]  1 of 1 completed"
     ]
    },
    {
     "name": "stderr",
     "output_type": "stream",
     "text": [
      "\n",
      "1 Failed download:\n",
      "['SYNC']: Exception('%ticker%: No timezone found, symbol may be delisted')\n"
     ]
    },
    {
     "name": "stdout",
     "output_type": "stream",
     "text": [
      "\n",
      "Get Data for : SYNH\n",
      "[*********************100%***********************]  1 of 1 completed\n",
      "Get Data for : SYNL\n",
      "[*********************100%***********************]  1 of 1 completed"
     ]
    },
    {
     "name": "stderr",
     "output_type": "stream",
     "text": [
      "\n",
      "1 Failed download:\n",
      "['SYNL']: Exception('%ticker%: No timezone found, symbol may be delisted')\n"
     ]
    },
    {
     "name": "stdout",
     "output_type": "stream",
     "text": [
      "\n",
      "Get Data for : SYPR\n",
      "[*********************100%***********************]  1 of 1 completed\n",
      "Get Data for : SYRS\n",
      "[*********************100%***********************]  1 of 1 completed\n",
      "Get Data for : SYX\n",
      "[*********************100%***********************]  1 of 1 completed"
     ]
    },
    {
     "name": "stderr",
     "output_type": "stream",
     "text": [
      "\n",
      "1 Failed download:\n",
      "['SYX']: Exception('%ticker%: No timezone found, symbol may be delisted')\n"
     ]
    },
    {
     "name": "stdout",
     "output_type": "stream",
     "text": [
      "\n",
      "Get Data for : SYY\n",
      "[*********************100%***********************]  1 of 1 completed\n",
      "Get Data for : T\n",
      "[*********************100%***********************]  1 of 1 completed\n",
      "Get Data for : TACO\n",
      "[*********************100%***********************]  1 of 1 completed\n",
      "Get Data for : TACT\n",
      "[*********************100%***********************]  1 of 1 completed\n",
      "Get Data for : TAIT\n",
      "[*********************100%***********************]  1 of 1 completed\n",
      "Get Data for : TALO\n",
      "[*********************100%***********************]  1 of 1 completed\n",
      "Get Data for : TAP\n",
      "[*********************100%***********************]  1 of 1 completed\n",
      "Get Data for : TAST\n",
      "[*********************100%***********************]  1 of 1 completed\n",
      "Get Data for : TAT\n",
      "[*********************100%***********************]  1 of 1 completed"
     ]
    },
    {
     "name": "stderr",
     "output_type": "stream",
     "text": [
      "\n",
      "1 Failed download:\n",
      "['TAT']: Exception('%ticker%: No timezone found, symbol may be delisted')\n"
     ]
    },
    {
     "name": "stdout",
     "output_type": "stream",
     "text": [
      "\n",
      "Get Data for : TAYD\n",
      "[*********************100%***********************]  1 of 1 completed\n",
      "Get Data for : TBBK\n",
      "[*********************100%***********************]  1 of 1 completed\n",
      "Get Data for : TBI\n",
      "[*********************100%***********************]  1 of 1 completed\n",
      "Get Data for : TBIO\n",
      "[*********************100%***********************]  1 of 1 completed\n",
      "Get Data for : TBK\n",
      "[*********************100%***********************]  1 of 1 completed"
     ]
    },
    {
     "name": "stderr",
     "output_type": "stream",
     "text": [
      "\n",
      "1 Failed download:\n",
      "['TBK']: Exception('%ticker%: No timezone found, symbol may be delisted')\n"
     ]
    },
    {
     "name": "stdout",
     "output_type": "stream",
     "text": [
      "\n",
      "Get Data for : TBNK\n",
      "[*********************100%***********************]  1 of 1 completed\n",
      "Get Data for : TBPH\n",
      "[*********************100%***********************]  1 of 1 completed\n",
      "Get Data for : TCBI\n",
      "[*********************100%***********************]  1 of 1 completed\n",
      "Get Data for : TCBK\n",
      "[*********************100%***********************]  1 of 1 completed\n",
      "Get Data for : TCDA\n",
      "[*********************100%***********************]  1 of 1 completed"
     ]
    },
    {
     "name": "stderr",
     "output_type": "stream",
     "text": [
      "\n",
      "1 Failed download:\n"
     ]
    },
    {
     "name": "stdout",
     "output_type": "stream",
     "text": [
      "\n"
     ]
    },
    {
     "name": "stderr",
     "output_type": "stream",
     "text": [
      "['TCDA']: Exception('%ticker%: No timezone found, symbol may be delisted')\n"
     ]
    },
    {
     "name": "stdout",
     "output_type": "stream",
     "text": [
      "Get Data for : TCF\n",
      "[*********************100%***********************]  1 of 1 completed"
     ]
    },
    {
     "name": "stderr",
     "output_type": "stream",
     "text": [
      "\n",
      "1 Failed download:\n",
      "['TCF']: Exception('%ticker%: No timezone found, symbol may be delisted')\n"
     ]
    },
    {
     "name": "stdout",
     "output_type": "stream",
     "text": [
      "\n",
      "Get Data for : TCFC\n",
      "[*********************100%***********************]  1 of 1 completed\n",
      "Get Data for : TCI\n",
      "[*********************100%***********************]  1 of 1 completed\n",
      "Get Data for : TCMD\n",
      "[*********************100%***********************]  1 of 1 completed\n",
      "Get Data for : TCO\n",
      "[*********************100%***********************]  1 of 1 completed"
     ]
    },
    {
     "name": "stderr",
     "output_type": "stream",
     "text": [
      "\n",
      "1 Failed download:\n",
      "['TCO']: Exception('%ticker%: No timezone found, symbol may be delisted')\n"
     ]
    },
    {
     "name": "stdout",
     "output_type": "stream",
     "text": [
      "\n",
      "Get Data for : TCON\n",
      "[*********************100%***********************]  1 of 1 completed\n",
      "Get Data for : TCS\n",
      "[*********************100%***********************]  1 of 1 completed\n",
      "Get Data for : TDC\n",
      "[*********************100%***********************]  1 of 1 completed\n",
      "Get Data for : TDG\n",
      "[*********************100%***********************]  1 of 1 completed\n",
      "Get Data for : TDOC\n",
      "[*********************100%***********************]  1 of 1 completed\n",
      "Get Data for : TDS\n",
      "[*********************100%***********************]  1 of 1 completed\n",
      "Get Data for : TDW\n",
      "[*********************100%***********************]  1 of 1 completed\n",
      "Get Data for : TDY\n",
      "[*********************100%***********************]  1 of 1 completed\n",
      "Get Data for : TECD\n",
      "[*********************100%***********************]  1 of 1 completed"
     ]
    },
    {
     "name": "stderr",
     "output_type": "stream",
     "text": [
      "\n",
      "1 Failed download:\n",
      "['TECD']: Exception('%ticker%: No timezone found, symbol may be delisted')\n"
     ]
    },
    {
     "name": "stdout",
     "output_type": "stream",
     "text": [
      "\n",
      "Get Data for : TECH\n",
      "[*********************100%***********************]  1 of 1 completed\n",
      "Get Data for : TEL\n",
      "[*********************100%***********************]  1 of 1 completed\n",
      "Get Data for : TELL\n",
      "[*********************100%***********************]  1 of 1 completed\n",
      "Get Data for : TEN\n",
      "[*********************100%***********************]  1 of 1 completed"
     ]
    },
    {
     "name": "stderr",
     "output_type": "stream",
     "text": [
      "\n",
      "1 Failed download:\n",
      "['TEN']: Exception('%ticker%: No timezone found, symbol may be delisted')\n"
     ]
    },
    {
     "name": "stdout",
     "output_type": "stream",
     "text": [
      "\n",
      "Get Data for : TENB\n",
      "[*********************100%***********************]  1 of 1 completed\n",
      "Get Data for : TENX\n",
      "[*********************100%***********************]  1 of 1 completed\n",
      "Get Data for : TER\n",
      "[*********************100%***********************]  1 of 1 completed\n",
      "Get Data for : TERP\n",
      "[*********************100%***********************]  1 of 1 completed"
     ]
    },
    {
     "name": "stderr",
     "output_type": "stream",
     "text": [
      "\n",
      "1 Failed download:\n",
      "['TERP']: Exception('%ticker%: No timezone found, symbol may be delisted')\n"
     ]
    },
    {
     "name": "stdout",
     "output_type": "stream",
     "text": [
      "\n",
      "Get Data for : TESS\n",
      "[*********************100%***********************]  1 of 1 completed\n",
      "Get Data for : TEUM\n",
      "[*********************100%***********************]  1 of 1 completed"
     ]
    },
    {
     "name": "stderr",
     "output_type": "stream",
     "text": [
      "\n",
      "1 Failed download:\n",
      "['TEUM']: Exception('%ticker%: No timezone found, symbol may be delisted')\n"
     ]
    },
    {
     "name": "stdout",
     "output_type": "stream",
     "text": [
      "\n",
      "Get Data for : TEX\n",
      "[*********************100%***********************]  1 of 1 completed\n",
      "Get Data for : TFSL\n",
      "[*********************100%***********************]  1 of 1 completed\n",
      "Get Data for : TFX\n",
      "[*********************100%***********************]  1 of 1 completed\n",
      "Get Data for : TG\n",
      "[*********************100%***********************]  1 of 1 completed\n",
      "Get Data for : TGEN\n",
      "[*********************100%***********************]  1 of 1 completed\n",
      "Get Data for : TGI\n",
      "[*********************100%***********************]  1 of 1 completed\n",
      "Get Data for : TGLS\n",
      "[*********************100%***********************]  1 of 1 completed\n",
      "Get Data for : TGNA\n",
      "[*********************100%***********************]  1 of 1 completed\n",
      "Get Data for : TGT\n",
      "[*********************100%***********************]  1 of 1 completed\n",
      "Get Data for : TGTX\n",
      "[*********************100%***********************]  1 of 1 completed\n",
      "Get Data for : THC\n",
      "[*********************100%***********************]  1 of 1 completed\n",
      "Get Data for : THFF\n",
      "[*********************100%***********************]  1 of 1 completed\n",
      "Get Data for : THG\n",
      "[*********************100%***********************]  1 of 1 completed\n",
      "Get Data for : THO\n",
      "[*********************100%***********************]  1 of 1 completed\n",
      "Get Data for : THR\n",
      "[*********************100%***********************]  1 of 1 completed\n",
      "Get Data for : THRM\n",
      "[*********************100%***********************]  1 of 1 completed\n",
      "Get Data for : THS\n",
      "[*********************100%***********************]  1 of 1 completed\n",
      "Get Data for : TIF\n",
      "[*********************100%***********************]  1 of 1 completed"
     ]
    },
    {
     "name": "stderr",
     "output_type": "stream",
     "text": [
      "\n",
      "1 Failed download:\n",
      "['TIF']: Exception('%ticker%: No timezone found, symbol may be delisted')\n"
     ]
    },
    {
     "name": "stdout",
     "output_type": "stream",
     "text": [
      "\n",
      "Get Data for : TILE\n",
      "[*********************100%***********************]  1 of 1 completed\n",
      "Get Data for : TIPT\n",
      "[*********************100%***********************]  1 of 1 completed\n",
      "Get Data for : TISI\n",
      "[*********************100%***********************]  1 of 1 completed\n",
      "Get Data for : TITN\n",
      "[*********************100%***********************]  1 of 1 completed\n",
      "Get Data for : TJX\n",
      "[*********************100%***********************]  1 of 1 completed\n",
      "Get Data for : TKR\n",
      "[*********************100%***********************]  1 of 1 completed\n",
      "Get Data for : TLF\n",
      "[*********************100%***********************]  1 of 1 completed\n",
      "Get Data for : TLGT\n",
      "[*********************100%***********************]  1 of 1 completed"
     ]
    },
    {
     "name": "stderr",
     "output_type": "stream",
     "text": [
      "\n",
      "1 Failed download:\n",
      "['TLGT']: Exception('%ticker%: No timezone found, symbol may be delisted')\n"
     ]
    },
    {
     "name": "stdout",
     "output_type": "stream",
     "text": [
      "\n",
      "Get Data for : TLRD\n",
      "[*********************100%***********************]  1 of 1 completed"
     ]
    },
    {
     "name": "stderr",
     "output_type": "stream",
     "text": [
      "\n",
      "1 Failed download:\n",
      "['TLRD']: Exception('%ticker%: No timezone found, symbol may be delisted')\n"
     ]
    },
    {
     "name": "stdout",
     "output_type": "stream",
     "text": [
      "\n",
      "Get Data for : TLYS\n",
      "[*********************100%***********************]  1 of 1 completed\n",
      "Get Data for : TMDX\n",
      "[*********************100%***********************]  1 of 1 completed\n",
      "Get Data for : TMHC\n",
      "[*********************100%***********************]  1 of 1 completed\n",
      "Get Data for : TMO\n",
      "[*********************100%***********************]  1 of 1 completed\n",
      "Get Data for : TMP\n",
      "[*********************100%***********************]  1 of 1 completed\n",
      "Get Data for : TMST\n",
      "[*********************100%***********************]  1 of 1 completed\n",
      "Get Data for : TMUS\n",
      "[*********************100%***********************]  1 of 1 completed\n",
      "Get Data for : TNAV\n",
      "[*********************100%***********************]  1 of 1 completed"
     ]
    },
    {
     "name": "stderr",
     "output_type": "stream",
     "text": [
      "\n",
      "1 Failed download:\n",
      "['TNAV']: Exception('%ticker%: No timezone found, symbol may be delisted')\n"
     ]
    },
    {
     "name": "stdout",
     "output_type": "stream",
     "text": [
      "\n",
      "Get Data for : TNC\n",
      "[*********************100%***********************]  1 of 1 completed\n",
      "Get Data for : TNDM\n",
      "[*********************100%***********************]  1 of 1 completed\n",
      "Get Data for : TNET\n",
      "[*********************100%***********************]  1 of 1 completed\n",
      "Get Data for : TNXP\n",
      "[*********************100%***********************]  1 of 1 completed\n",
      "Get Data for : TOL\n",
      "[*********************100%***********************]  1 of 1 completed\n",
      "Get Data for : TORC\n",
      "[*********************100%***********************]  1 of 1 completed"
     ]
    },
    {
     "name": "stderr",
     "output_type": "stream",
     "text": [
      "\n",
      "1 Failed download:\n",
      "['TORC']: Exception('%ticker%: No timezone found, symbol may be delisted')\n"
     ]
    },
    {
     "name": "stdout",
     "output_type": "stream",
     "text": [
      "\n",
      "Get Data for : TOWN\n",
      "[*********************100%***********************]  1 of 1 completed\n",
      "Get Data for : TPB\n",
      "[*********************100%***********************]  1 of 1 completed\n",
      "Get Data for : TPC\n",
      "[*********************100%***********************]  1 of 1 completed\n",
      "Get Data for : TPH\n",
      "[*********************100%***********************]  1 of 1 completed\n",
      "Get Data for : TPHS\n",
      "[*********************100%***********************]  1 of 1 completed\n",
      "Get Data for : TPIC\n",
      "[*********************100%***********************]  1 of 1 completed\n",
      "Get Data for : TPR\n",
      "[*********************100%***********************]  1 of 1 completed\n",
      "Get Data for : TPRE\n",
      "[*********************100%***********************]  1 of 1 completed"
     ]
    },
    {
     "name": "stderr",
     "output_type": "stream",
     "text": [
      "\n",
      "1 Failed download:\n",
      "['TPRE']: Exception('%ticker%: No timezone found, symbol may be delisted')\n"
     ]
    },
    {
     "name": "stdout",
     "output_type": "stream",
     "text": [
      "\n",
      "Get Data for : TPTX\n",
      "[*********************100%***********************]  1 of 1 completed"
     ]
    },
    {
     "name": "stderr",
     "output_type": "stream",
     "text": [
      "\n",
      "1 Failed download:\n",
      "['TPTX']: Exception('%ticker%: No timezone found, symbol may be delisted')\n"
     ]
    },
    {
     "name": "stdout",
     "output_type": "stream",
     "text": [
      "\n",
      "Get Data for : TPX\n",
      "[*********************100%***********************]  1 of 1 completed\n",
      "Get Data for : TR\n",
      "[*********************100%***********************]  1 of 1 completed\n",
      "Get Data for : TRC\n",
      "[*********************100%***********************]  1 of 1 completed\n",
      "Get Data for : TRCH\n",
      "[*********************100%***********************]  1 of 1 completed"
     ]
    },
    {
     "name": "stderr",
     "output_type": "stream",
     "text": [
      "\n",
      "1 Failed download:\n",
      "['TRCH']: Exception('%ticker%: No timezone found, symbol may be delisted')\n"
     ]
    },
    {
     "name": "stdout",
     "output_type": "stream",
     "text": [
      "\n",
      "Get Data for : TREC\n",
      "[*********************100%***********************]  1 of 1 completed"
     ]
    },
    {
     "name": "stderr",
     "output_type": "stream",
     "text": [
      "\n",
      "1 Failed download:\n",
      "['TREC']: Exception('%ticker%: No timezone found, symbol may be delisted')\n"
     ]
    },
    {
     "name": "stdout",
     "output_type": "stream",
     "text": [
      "\n",
      "Get Data for : TREE\n",
      "[*********************100%***********************]  1 of 1 completed\n",
      "Get Data for : TREX\n",
      "[*********************100%***********************]  1 of 1 completed\n",
      "Get Data for : TRGP\n",
      "[*********************100%***********************]  1 of 1 completed\n",
      "Get Data for : TRHC\n",
      "[*********************100%***********************]  1 of 1 completed\n",
      "Get Data for : TRIP\n",
      "[*********************100%***********************]  1 of 1 completed\n",
      "Get Data for : TRMB\n",
      "[*********************100%***********************]  1 of 1 completed\n",
      "Get Data for : TRMK\n",
      "[*********************100%***********************]  1 of 1 completed\n",
      "Get Data for : TRN\n",
      "[*********************100%***********************]  1 of 1 completed\n",
      "Get Data for : TRNO\n",
      "[*********************100%***********************]  1 of 1 completed\n",
      "Get Data for : TRNS\n",
      "[*********************100%***********************]  1 of 1 completed\n",
      "Get Data for : TROW\n",
      "[*********************100%***********************]  1 of 1 completed\n",
      "Get Data for : TROX\n",
      "[*********************100%***********************]  1 of 1 completed\n",
      "Get Data for : TRS\n",
      "[*********************100%***********************]  1 of 1 completed\n",
      "Get Data for : TRST\n",
      "[*********************100%***********************]  1 of 1 completed\n",
      "Get Data for : TRT\n",
      "[*********************100%***********************]  1 of 1 completed\n",
      "Get Data for : TRTN\n",
      "[*********************100%***********************]  1 of 1 completed\n",
      "Get Data for : TRTX\n",
      "[*********************100%***********************]  1 of 1 completed\n",
      "Get Data for : TRU\n",
      "[*********************100%***********************]  1 of 1 completed\n",
      "Get Data for : TRUE \n",
      "[*********************100%***********************]  1 of 1 completed\n",
      "Get Data for : TRUP\n",
      "[*********************100%***********************]  1 of 1 completed\n",
      "Get Data for : TRV\n",
      "[*********************100%***********************]  1 of 1 completed\n",
      "Get Data for : TRVN\n",
      "[*********************100%***********************]  1 of 1 completed\n",
      "Get Data for : TRWH\n",
      "[*********************100%***********************]  1 of 1 completed"
     ]
    },
    {
     "name": "stderr",
     "output_type": "stream",
     "text": [
      "\n",
      "1 Failed download:\n",
      "['TRWH']: Exception('%ticker%: No timezone found, symbol may be delisted')\n"
     ]
    },
    {
     "name": "stdout",
     "output_type": "stream",
     "text": [
      "\n",
      "Get Data for : TRXC\n",
      "[*********************100%***********************]  1 of 1 completed"
     ]
    },
    {
     "name": "stderr",
     "output_type": "stream",
     "text": [
      "\n",
      "1 Failed download:\n",
      "['TRXC']: Exception('%ticker%: No timezone found, symbol may be delisted')\n"
     ]
    },
    {
     "name": "stdout",
     "output_type": "stream",
     "text": [
      "\n",
      "Get Data for : TSBK\n",
      "[*********************100%***********************]  1 of 1 completed\n",
      "Get Data for : TSC\n",
      "[*********************100%***********************]  1 of 1 completed"
     ]
    },
    {
     "name": "stderr",
     "output_type": "stream",
     "text": [
      "\n",
      "1 Failed download:\n",
      "['TSC']: Exception('%ticker%: No timezone found, symbol may be delisted')\n"
     ]
    },
    {
     "name": "stdout",
     "output_type": "stream",
     "text": [
      "\n",
      "Get Data for : TSCO\n",
      "[*********************100%***********************]  1 of 1 completed\n",
      "Get Data for : TSE\n",
      "[*********************100%***********************]  1 of 1 completed\n",
      "Get Data for : TSLA\n",
      "[*********************100%***********************]  1 of 1 completed\n",
      "Get Data for : TSN\n",
      "[*********************100%***********************]  1 of 1 completed\n",
      "Get Data for : TSQ\n",
      "[*********************100%***********************]  1 of 1 completed\n",
      "Get Data for : TTC\n",
      "[*********************100%***********************]  1 of 1 completed\n",
      "Get Data for : TTD\n",
      "[*********************100%***********************]  1 of 1 completed\n",
      "Get Data for : TTEC\n",
      "[*********************100%***********************]  1 of 1 completed\n",
      "Get Data for : TTEK\n",
      "[*********************100%***********************]  1 of 1 completed\n",
      "Get Data for : TTGT\n",
      "[*********************100%***********************]  1 of 1 completed\n",
      "Get Data for : TTI\n",
      "[*********************100%***********************]  1 of 1 completed\n",
      "Get Data for : TTMI\n",
      "[*********************100%***********************]  1 of 1 completed\n",
      "Get Data for : TTNP\n",
      "[*********************100%***********************]  1 of 1 completed\n",
      "Get Data for : TTOO\n",
      "[*********************100%***********************]  1 of 1 completed\n",
      "Get Data for : TTPH\n",
      "[*********************100%***********************]  1 of 1 completed"
     ]
    },
    {
     "name": "stderr",
     "output_type": "stream",
     "text": [
      "\n",
      "1 Failed download:\n",
      "['TTPH']: Exception('%ticker%: No timezone found, symbol may be delisted')\n"
     ]
    },
    {
     "name": "stdout",
     "output_type": "stream",
     "text": [
      "\n",
      "Get Data for : TTWO\n",
      "[*********************100%***********************]  1 of 1 completed\n",
      "Get Data for : TUP\n",
      "[*********************100%***********************]  1 of 1 completed\n",
      "Get Data for : TUSK\n",
      "[*********************100%***********************]  1 of 1 completed\n",
      "Get Data for : TVTY\n",
      "[*********************100%***********************]  1 of 1 completed"
     ]
    },
    {
     "name": "stderr",
     "output_type": "stream",
     "text": [
      "\n",
      "1 Failed download:\n",
      "['TVTY']: Exception('%ticker%: No timezone found, symbol may be delisted')\n"
     ]
    },
    {
     "name": "stdout",
     "output_type": "stream",
     "text": [
      "\n",
      "Get Data for : TW\n",
      "[*********************100%***********************]  1 of 1 completed\n",
      "Get Data for : TWI\n",
      "[*********************100%***********************]  1 of 1 completed\n",
      "Get Data for : TWIN\n",
      "[*********************100%***********************]  1 of 1 completed\n",
      "Get Data for : TWLO\n",
      "[*********************100%***********************]  1 of 1 completed\n",
      "Get Data for : TWMC\n",
      "[*********************100%***********************]  1 of 1 completed"
     ]
    },
    {
     "name": "stderr",
     "output_type": "stream",
     "text": [
      "\n",
      "1 Failed download:\n",
      "['TWMC']: Exception('%ticker%: No timezone found, symbol may be delisted')\n"
     ]
    },
    {
     "name": "stdout",
     "output_type": "stream",
     "text": [
      "\n",
      "Get Data for : TWNK\n",
      "[*********************100%***********************]  1 of 1 completed\n",
      "Get Data for : TWO\n",
      "[*********************100%***********************]  1 of 1 completed\n",
      "Get Data for : TWOU\n",
      "[*********************100%***********************]  1 of 1 completed\n",
      "Get Data for : TWST\n",
      "[*********************100%***********************]  1 of 1 completed\n",
      "Get Data for : TWTR\n",
      "[*********************100%***********************]  1 of 1 completed"
     ]
    },
    {
     "name": "stderr",
     "output_type": "stream",
     "text": [
      "\n",
      "1 Failed download:\n",
      "['TWTR']: Exception('%ticker%: No timezone found, symbol may be delisted')\n"
     ]
    },
    {
     "name": "stdout",
     "output_type": "stream",
     "text": [
      "\n",
      "Get Data for : TXMD\n",
      "[*********************100%***********************]  1 of 1 completed\n",
      "Get Data for : TXN\n",
      "[*********************100%***********************]  1 of 1 completed\n",
      "Get Data for : TXRH\n",
      "[*********************100%***********************]  1 of 1 completed\n",
      "Get Data for : TXT\n",
      "[*********************100%***********************]  1 of 1 completed\n",
      "Get Data for : TYL\n",
      "[*********************100%***********************]  1 of 1 completed\n",
      "Get Data for : TYME\n",
      "[*********************100%***********************]  1 of 1 completed"
     ]
    },
    {
     "name": "stderr",
     "output_type": "stream",
     "text": [
      "\n",
      "1 Failed download:\n",
      "['TYME']: Exception('%ticker%: No timezone found, symbol may be delisted')\n"
     ]
    },
    {
     "name": "stdout",
     "output_type": "stream",
     "text": [
      "\n",
      "Get Data for : TZOO\n",
      "[*********************100%***********************]  1 of 1 completed\n",
      "Get Data for : UA\n",
      "[*********************100%***********************]  1 of 1 completed\n",
      "Get Data for : UAA\n",
      "[*********************100%***********************]  1 of 1 completed\n",
      "Get Data for : UAL\n",
      "[*********************100%***********************]  1 of 1 completed\n",
      "Get Data for : UAMY\n",
      "[*********************100%***********************]  1 of 1 completed\n",
      "Get Data for : UBA\n",
      "[*********************100%***********************]  1 of 1 completed\n",
      "Get Data for : UBCP\n",
      "[*********************100%***********************]  1 of 1 completed\n",
      "Get Data for : UBER\n",
      "[*********************100%***********************]  1 of 1 completed\n",
      "Get Data for : UBFO\n",
      "[*********************100%***********************]  1 of 1 completed\n",
      "Get Data for : UBOH\n",
      "[*********************100%***********************]  1 of 1 completed\n",
      "Get Data for : UBSI\n",
      "[*********************100%***********************]  1 of 1 completed\n",
      "Get Data for : UCBI\n",
      "[*********************100%***********************]  1 of 1 completed\n",
      "Get Data for : UCTT\n",
      "[*********************100%***********************]  1 of 1 completed\n",
      "Get Data for : UDR\n",
      "[*********************100%***********************]  1 of 1 completed\n",
      "Get Data for : UE\n",
      "[*********************100%***********************]  1 of 1 completed\n",
      "Get Data for : UEC\n",
      "[*********************100%***********************]  1 of 1 completed\n",
      "Get Data for : UEIC\n",
      "[*********************100%***********************]  1 of 1 completed\n",
      "Get Data for : UFAB\n",
      "[*********************100%***********************]  1 of 1 completed\n",
      "Get Data for : UFCS\n",
      "[*********************100%***********************]  1 of 1 completed\n",
      "Get Data for : UFI\n",
      "[*********************100%***********************]  1 of 1 completed\n",
      "Get Data for : UFPI\n",
      "[*********************100%***********************]  1 of 1 completed\n",
      "Get Data for : UFPT\n",
      "[*********************100%***********************]  1 of 1 completed\n",
      "Get Data for : UFS\n",
      "[*********************100%***********************]  1 of 1 completed"
     ]
    },
    {
     "name": "stderr",
     "output_type": "stream",
     "text": [
      "\n",
      "1 Failed download:\n",
      "['UFS']: Exception('%ticker%: No timezone found, symbol may be delisted')\n"
     ]
    },
    {
     "name": "stdout",
     "output_type": "stream",
     "text": [
      "\n",
      "Get Data for : UG\n",
      "[*********************100%***********************]  1 of 1 completed\n",
      "Get Data for : UGI\n",
      "[*********************100%***********************]  1 of 1 completed\n",
      "Get Data for : UHAL\n",
      "[*********************100%***********************]  1 of 1 completed\n",
      "Get Data for : UHS\n",
      "[*********************100%***********************]  1 of 1 completed\n",
      "Get Data for : UHT\n",
      "[*********************100%***********************]  1 of 1 completed\n",
      "Get Data for : UIHC\n",
      "[*********************100%***********************]  1 of 1 completed\n",
      "Get Data for : UIS\n",
      "[*********************100%***********************]  1 of 1 completed\n",
      "Get Data for : ULBI\n",
      "[*********************100%***********************]  1 of 1 completed\n",
      "Get Data for : ULH\n",
      "[*********************100%***********************]  1 of 1 completed\n",
      "Get Data for : ULTA\n",
      "[*********************100%***********************]  1 of 1 completed\n",
      "Get Data for : UMBF\n",
      "[*********************100%***********************]  1 of 1 completed\n",
      "Get Data for : UMH\n",
      "[*********************100%***********************]  1 of 1 completed\n",
      "Get Data for : UMPQ\n",
      "[*********************100%***********************]  1 of 1 completed"
     ]
    },
    {
     "name": "stderr",
     "output_type": "stream",
     "text": [
      "\n",
      "1 Failed download:\n",
      "['UMPQ']: Exception('%ticker%: No timezone found, symbol may be delisted')\n"
     ]
    },
    {
     "name": "stdout",
     "output_type": "stream",
     "text": [
      "\n",
      "Get Data for : UNAM\n",
      "[*********************100%***********************]  1 of 1 completed\n",
      "Get Data for : UNB\n",
      "[*********************100%***********************]  1 of 1 completed\n",
      "Get Data for : UNF\n",
      "[*********************100%***********************]  1 of 1 completed\n",
      "Get Data for : UNFI\n",
      "[*********************100%***********************]  1 of 1 completed\n",
      "Get Data for : UNH\n",
      "[*********************100%***********************]  1 of 1 completed\n",
      "Get Data for : UNIT\n",
      "[*********************100%***********************]  1 of 1 completed\n",
      "Get Data for : UNM\n",
      "[*********************100%***********************]  1 of 1 completed\n",
      "Get Data for : UNP\n",
      "[*********************100%***********************]  1 of 1 completed\n",
      "Get Data for : UNTY\n",
      "[*********************100%***********************]  1 of 1 completed\n",
      "Get Data for : UNVR\n",
      "[*********************100%***********************]  1 of 1 completed\n",
      "Get Data for : UONE\n",
      "[*********************100%***********************]  1 of 1 completed\n",
      "Get Data for : UONEK\n",
      "[*********************100%***********************]  1 of 1 completed\n",
      "Get Data for : UPLD\n",
      "[*********************100%***********************]  1 of 1 completed\n",
      "Get Data for : UPS\n",
      "[*********************100%***********************]  1 of 1 completed\n",
      "Get Data for : UPWK\n",
      "[*********************100%***********************]  1 of 1 completed\n",
      "Get Data for : URBN\n",
      "[*********************100%***********************]  1 of 1 completed\n",
      "Get Data for : URI\n",
      "[*********************100%***********************]  1 of 1 completed\n",
      "Get Data for : UROV\n",
      "[*********************100%***********************]  1 of 1 completed"
     ]
    },
    {
     "name": "stderr",
     "output_type": "stream",
     "text": [
      "\n",
      "1 Failed download:\n",
      "['UROV']: Exception('%ticker%: No timezone found, symbol may be delisted')\n"
     ]
    },
    {
     "name": "stdout",
     "output_type": "stream",
     "text": [
      "\n",
      "Get Data for : USAK\n",
      "[*********************100%***********************]  1 of 1 completed"
     ]
    },
    {
     "name": "stderr",
     "output_type": "stream",
     "text": [
      "\n",
      "1 Failed download:\n",
      "['USAK']: Exception('%ticker%: No timezone found, symbol may be delisted')\n"
     ]
    },
    {
     "name": "stdout",
     "output_type": "stream",
     "text": [
      "\n",
      "Get Data for : USAP\n",
      "[*********************100%***********************]  1 of 1 completed\n",
      "Get Data for : USAT\n",
      "[*********************100%***********************]  1 of 1 completed"
     ]
    },
    {
     "name": "stderr",
     "output_type": "stream",
     "text": [
      "\n",
      "1 Failed download:\n",
      "['USAT']: Exception('%ticker%: No timezone found, symbol may be delisted')\n"
     ]
    },
    {
     "name": "stdout",
     "output_type": "stream",
     "text": [
      "\n",
      "Get Data for : USB\n",
      "[*********************100%***********************]  1 of 1 completed\n",
      "Get Data for : USCR\n",
      "[*********************100%***********************]  1 of 1 completed"
     ]
    },
    {
     "name": "stderr",
     "output_type": "stream",
     "text": [
      "\n",
      "1 Failed download:\n",
      "['USCR']: Exception('%ticker%: No timezone found, symbol may be delisted')\n"
     ]
    },
    {
     "name": "stdout",
     "output_type": "stream",
     "text": [
      "\n",
      "Get Data for : USEG\n",
      "[*********************100%***********************]  1 of 1 completed\n",
      "Get Data for : USFD\n",
      "[*********************100%***********************]  1 of 1 completed\n",
      "Get Data for : USLM\n",
      "[*********************100%***********************]  1 of 1 completed\n",
      "Get Data for : USM\n",
      "[*********************100%***********************]  1 of 1 completed\n",
      "Get Data for : USNA\n",
      "[*********************100%***********************]  1 of 1 completed\n",
      "Get Data for : USPH\n",
      "[*********************100%***********************]  1 of 1 completed\n",
      "Get Data for : USWS\n",
      "[*********************100%***********************]  1 of 1 completed"
     ]
    },
    {
     "name": "stderr",
     "output_type": "stream",
     "text": [
      "\n",
      "1 Failed download:\n",
      "['USWS']: Exception('%ticker%: No timezone found, symbol may be delisted')\n"
     ]
    },
    {
     "name": "stdout",
     "output_type": "stream",
     "text": [
      "\n",
      "Get Data for : USX\n",
      "[*********************100%***********************]  1 of 1 completed\n",
      "Get Data for : UTHR\n",
      "[*********************100%***********************]  1 of 1 completed\n",
      "Get Data for : UTI\n",
      "[*********************100%***********************]  1 of 1 completed\n",
      "Get Data for : UTL\n",
      "[*********************100%***********************]  1 of 1 completed\n",
      "Get Data for : UTMD\n",
      "[*********************100%***********************]  1 of 1 completed\n",
      "Get Data for : UUU\n",
      "[*********************100%***********************]  1 of 1 completed\n",
      "Get Data for : UVE\n",
      "[*********************100%***********************]  1 of 1 completed\n",
      "Get Data for : UVSP\n",
      "[*********************100%***********************]  1 of 1 completed\n",
      "Get Data for : UVV\n",
      "[*********************100%***********************]  1 of 1 completed\n",
      "Get Data for : V\n",
      "[*********************100%***********************]  1 of 1 completed\n",
      "Get Data for : VAC\n",
      "[*********************100%***********************]  1 of 1 completed\n",
      "Get Data for : VAL\n",
      "[*********************100%***********************]  1 of 1 completed\n",
      "Get Data for : VALU\n",
      "[*********************100%***********************]  1 of 1 completed\n",
      "Get Data for : VAPO\n",
      "[*********************100%***********************]  1 of 1 completed\n",
      "Get Data for : VAR\n",
      "[*********************100%***********************]  1 of 1 completed"
     ]
    },
    {
     "name": "stderr",
     "output_type": "stream",
     "text": [
      "\n",
      "1 Failed download:\n",
      "['VAR']: Exception('%ticker%: No timezone found, symbol may be delisted')\n"
     ]
    },
    {
     "name": "stdout",
     "output_type": "stream",
     "text": [
      "\n",
      "Get Data for : VBFC\n",
      "[*********************100%***********************]  1 of 1 completed\n",
      "Get Data for : VBIV\n",
      "[*********************100%***********************]  1 of 1 completed\n",
      "Get Data for : VBTX\n",
      "[*********************100%***********************]  1 of 1 completed\n",
      "Get Data for : VC\n",
      "[*********************100%***********************]  1 of 1 completed\n",
      "Get Data for : VCEL\n",
      "[*********************100%***********************]  1 of 1 completed\n",
      "Get Data for : VCRA\n",
      "[*********************100%***********************]  1 of 1 completed"
     ]
    },
    {
     "name": "stderr",
     "output_type": "stream",
     "text": [
      "\n",
      "1 Failed download:\n",
      "['VCRA']: Exception('%ticker%: No timezone found, symbol may be delisted')\n"
     ]
    },
    {
     "name": "stdout",
     "output_type": "stream",
     "text": [
      "\n",
      "Get Data for : VCTR\n",
      "[*********************100%***********************]  1 of 1 completed\n",
      "Get Data for : VCYT\n",
      "[*********************100%***********************]  1 of 1 completed\n",
      "Get Data for : VEC\n",
      "[*********************100%***********************]  1 of 1 completed"
     ]
    },
    {
     "name": "stderr",
     "output_type": "stream",
     "text": [
      "\n",
      "1 Failed download:\n",
      "['VEC']: Exception('%ticker%: No timezone found, symbol may be delisted')\n"
     ]
    },
    {
     "name": "stdout",
     "output_type": "stream",
     "text": [
      "\n",
      "Get Data for : VECO\n",
      "[*********************100%***********************]  1 of 1 completed\n",
      "Get Data for : VEEV\n",
      "[*********************100%***********************]  1 of 1 completed\n",
      "Get Data for : VER\n",
      "[*********************100%***********************]  1 of 1 completed"
     ]
    },
    {
     "name": "stderr",
     "output_type": "stream",
     "text": [
      "\n",
      "1 Failed download:\n",
      "['VER']: Exception('%ticker%: No timezone found, symbol may be delisted')\n"
     ]
    },
    {
     "name": "stdout",
     "output_type": "stream",
     "text": [
      "\n",
      "Get Data for : VERI\n",
      "[*********************100%***********************]  1 of 1 completed\n",
      "Get Data for : VERU\n",
      "[*********************100%***********************]  1 of 1 completed\n",
      "Get Data for : VFC\n",
      "[*********************100%***********************]  1 of 1 completed\n",
      "Get Data for : VG\n",
      "[*********************100%***********************]  1 of 1 completed"
     ]
    },
    {
     "name": "stderr",
     "output_type": "stream",
     "text": [
      "\n",
      "1 Failed download:\n",
      "['VG']: Exception('%ticker%: No timezone found, symbol may be delisted')\n"
     ]
    },
    {
     "name": "stdout",
     "output_type": "stream",
     "text": [
      "\n",
      "Get Data for : VGR\n",
      "[*********************100%***********************]  1 of 1 completed\n",
      "Get Data for : VHC\n",
      "[*********************100%***********************]  1 of 1 completed\n",
      "Get Data for : VIAV\n",
      "[*********************100%***********************]  1 of 1 completed\n",
      "Get Data for : VICI\n",
      "[*********************100%***********************]  1 of 1 completed\n",
      "Get Data for : VICR\n",
      "[*********************100%***********************]  1 of 1 completed\n",
      "Get Data for : VIRC\n",
      "[*********************100%***********************]  1 of 1 completed\n",
      "Get Data for : VIRT\n",
      "[*********************100%***********************]  1 of 1 completed\n",
      "Get Data for : VIVO\n",
      "[*********************100%***********************]  1 of 1 completed"
     ]
    },
    {
     "name": "stderr",
     "output_type": "stream",
     "text": [
      "\n",
      "1 Failed download:\n",
      "['VIVO']: Exception('%ticker%: No timezone found, symbol may be delisted')\n"
     ]
    },
    {
     "name": "stdout",
     "output_type": "stream",
     "text": [
      "\n",
      "Get Data for : VKTX\n",
      "[*********************100%***********************]  1 of 1 completed\n",
      "Get Data for : VLGEA\n",
      "[*********************100%***********************]  1 of 1 completed\n",
      "Get Data for : VLO\n",
      "[*********************100%***********************]  1 of 1 completed\n",
      "Get Data for : VLY\n",
      "[*********************100%***********************]  1 of 1 completed\n",
      "Get Data for : VMC\n",
      "[*********************100%***********************]  1 of 1 completed\n",
      "Get Data for : VMI\n",
      "[*********************100%***********************]  1 of 1 completed\n",
      "Get Data for : VMW\n",
      "[*********************100%***********************]  1 of 1 completed\n",
      "Get Data for : VNCE\n",
      "[*********************100%***********************]  1 of 1 completed\n",
      "Get Data for : VNDA\n",
      "[*********************100%***********************]  1 of 1 completed\n",
      "Get Data for : VNE\n",
      "[*********************100%***********************]  1 of 1 completed"
     ]
    },
    {
     "name": "stderr",
     "output_type": "stream",
     "text": [
      "\n",
      "1 Failed download:\n",
      "['VNE']: Exception('%ticker%: No timezone found, symbol may be delisted')\n"
     ]
    },
    {
     "name": "stdout",
     "output_type": "stream",
     "text": [
      "\n",
      "Get Data for : VNO\n",
      "[*********************100%***********************]  1 of 1 completed\n",
      "Get Data for : VNRX\n",
      "[*********************100%***********************]  1 of 1 completed\n",
      "Get Data for : VNTR\n",
      "[*********************100%***********************]  1 of 1 completed\n",
      "Get Data for : VOXX\n",
      "[*********************100%***********************]  1 of 1 completed\n",
      "Get Data for : VOYA\n",
      "[*********************100%***********************]  1 of 1 completed\n",
      "Get Data for : VPG\n",
      "[*********************100%***********************]  1 of 1 completed\n",
      "Get Data for : VRA\n",
      "[*********************100%***********************]  1 of 1 completed\n",
      "Get Data for : VRAY\n",
      "[*********************100%***********************]  1 of 1 completed\n",
      "Get Data for : VREX\n",
      "[*********************100%***********************]  1 of 1 completed\n",
      "Get Data for : VRNS\n",
      "[*********************100%***********************]  1 of 1 completed\n",
      "Get Data for : VRNT\n",
      "[*********************100%***********************]  1 of 1 completed\n",
      "Get Data for : VRRM\n",
      "[*********************100%***********************]  1 of 1 completed\n",
      "Get Data for : VRS\n",
      "[*********************100%***********************]  1 of 1 completed"
     ]
    },
    {
     "name": "stderr",
     "output_type": "stream",
     "text": [
      "\n",
      "1 Failed download:\n",
      "['VRS']: Exception('%ticker%: No timezone found, symbol may be delisted')\n"
     ]
    },
    {
     "name": "stdout",
     "output_type": "stream",
     "text": [
      "\n",
      "Get Data for : VRSK\n",
      "[*********************100%***********************]  1 of 1 completed\n",
      "Get Data for : VRSN\n",
      "[*********************100%***********************]  1 of 1 completed\n",
      "Get Data for : VRTS\n",
      "[*********************100%***********************]  1 of 1 completed\n",
      "Get Data for : VRTU\n",
      "[*********************100%***********************]  1 of 1 completed"
     ]
    },
    {
     "name": "stderr",
     "output_type": "stream",
     "text": [
      "\n",
      "1 Failed download:\n",
      "['VRTU']: Exception('%ticker%: No timezone found, symbol may be delisted')\n"
     ]
    },
    {
     "name": "stdout",
     "output_type": "stream",
     "text": [
      "\n",
      "Get Data for : VRTV\n",
      "[*********************100%***********************]  1 of 1 completed\n",
      "Get Data for : VRTX\n",
      "[*********************100%***********************]  1 of 1 completed\n",
      "Get Data for : VSAT\n",
      "[*********************100%***********************]  1 of 1 completed\n",
      "Get Data for : VSEC\n",
      "[*********************100%***********************]  1 of 1 completed\n",
      "Get Data for : VSH\n",
      "[*********************100%***********************]  1 of 1 completed\n",
      "Get Data for : VSLR\n",
      "[*********************100%***********************]  1 of 1 completed"
     ]
    },
    {
     "name": "stderr",
     "output_type": "stream",
     "text": [
      "\n",
      "1 Failed download:\n",
      "['VSLR']: Exception('%ticker%: No timezone found, symbol may be delisted')\n"
     ]
    },
    {
     "name": "stdout",
     "output_type": "stream",
     "text": [
      "\n",
      "Get Data for : VST\n",
      "[*********************100%***********************]  1 of 1 completed\n",
      "Get Data for : VSTM\n",
      "[*********************100%***********************]  1 of 1 completed\n",
      "Get Data for : VSTO\n",
      "[*********************100%***********************]  1 of 1 completed\n",
      "Get Data for : VTNR\n",
      "[*********************100%***********************]  1 of 1 completed\n",
      "Get Data for : VTR\n",
      "[*********************100%***********************]  1 of 1 completed\n",
      "Get Data for : VTVT\n",
      "[*********************100%***********************]  1 of 1 completed\n",
      "Get Data for : VUZI\n",
      "[*********************100%***********************]  1 of 1 completed\n",
      "Get Data for : VVI\n",
      "[*********************100%***********************]  1 of 1 completed\n",
      "Get Data for : VVUS\n",
      "[*********************100%***********************]  1 of 1 completed"
     ]
    },
    {
     "name": "stderr",
     "output_type": "stream",
     "text": [
      "\n",
      "1 Failed download:\n",
      "['VVUS']: Exception('%ticker%: No timezone found, symbol may be delisted')\n"
     ]
    },
    {
     "name": "stdout",
     "output_type": "stream",
     "text": [
      "\n",
      "Get Data for : VVV\n",
      "[*********************100%***********************]  1 of 1 completed\n",
      "Get Data for : VXRT\n",
      "[*********************100%***********************]  1 of 1 completed\n",
      "Get Data for : VYGR\n",
      "[*********************100%***********************]  1 of 1 completed\n",
      "Get Data for : VZ\n",
      "[*********************100%***********************]  1 of 1 completed\n",
      "Get Data for : W\n",
      "[*********************100%***********************]  1 of 1 completed\n",
      "Get Data for : WAB\n",
      "[*********************100%***********************]  1 of 1 completed\n",
      "Get Data for : WABC\n",
      "[*********************100%***********************]  1 of 1 completed\n",
      "Get Data for : WAFD\n",
      "[*********************100%***********************]  1 of 1 completed\n",
      "Get Data for : WAL\n",
      "[*********************100%***********************]  1 of 1 completed\n",
      "Get Data for : WASH\n",
      "[*********************100%***********************]  1 of 1 completed\n",
      "Get Data for : WAT\n",
      "[*********************100%***********************]  1 of 1 completed\n",
      "Get Data for : WATT\n",
      "[*********************100%***********************]  1 of 1 completed\n",
      "Get Data for : WBA\n",
      "[*********************100%***********************]  1 of 1 completed\n",
      "Get Data for : WBS\n",
      "[*********************100%***********************]  1 of 1 completed\n",
      "Get Data for : WBT\n",
      "[*********************100%***********************]  1 of 1 completed"
     ]
    },
    {
     "name": "stderr",
     "output_type": "stream",
     "text": [
      "\n",
      "1 Failed download:\n",
      "['WBT']: Exception('%ticker%: No timezone found, symbol may be delisted')\n"
     ]
    },
    {
     "name": "stdout",
     "output_type": "stream",
     "text": [
      "\n",
      "Get Data for : WCC\n",
      "[*********************100%***********************]  1 of 1 completed\n",
      "Get Data for : WD\n",
      "[*********************100%***********************]  1 of 1 completed\n",
      "Get Data for : WDAY\n",
      "[*********************100%***********************]  1 of 1 completed\n",
      "Get Data for : WDC\n",
      "[*********************100%***********************]  1 of 1 completed\n",
      "Get Data for : WDFC\n",
      "[*********************100%***********************]  1 of 1 completed\n",
      "Get Data for : WDR\n",
      "[*********************100%***********************]  1 of 1 completed"
     ]
    },
    {
     "name": "stderr",
     "output_type": "stream",
     "text": [
      "\n",
      "1 Failed download:\n",
      "['WDR']: Exception('%ticker%: No timezone found, symbol may be delisted')\n"
     ]
    },
    {
     "name": "stdout",
     "output_type": "stream",
     "text": [
      "\n",
      "Get Data for : WEC\n",
      "[*********************100%***********************]  1 of 1 completed\n",
      "Get Data for : WELL\n",
      "[*********************100%***********************]  1 of 1 completed\n",
      "Get Data for : WEN\n",
      "[*********************100%***********************]  1 of 1 completed\n",
      "Get Data for : WERN\n",
      "[*********************100%***********************]  1 of 1 completed\n",
      "Get Data for : WETF\n",
      "[*********************100%***********************]  1 of 1 completed"
     ]
    },
    {
     "name": "stderr",
     "output_type": "stream",
     "text": [
      "\n",
      "1 Failed download:\n",
      "['WETF']: Exception('%ticker%: No timezone found, symbol may be delisted')\n"
     ]
    },
    {
     "name": "stdout",
     "output_type": "stream",
     "text": [
      "\n",
      "Get Data for : WEX\n",
      "[*********************100%***********************]  1 of 1 completed\n",
      "Get Data for : WEYS\n",
      "[*********************100%***********************]  1 of 1 completed\n",
      "Get Data for : WFC\n",
      "[*********************100%***********************]  1 of 1 completed\n",
      "Get Data for : WGO\n",
      "[*********************100%***********************]  1 of 1 completed\n",
      "Get Data for : WH\n",
      "[*********************100%***********************]  1 of 1 completed\n",
      "Get Data for : WHD\n",
      "[*********************100%***********************]  1 of 1 completed\n",
      "Get Data for : WHG\n",
      "[*********************100%***********************]  1 of 1 completed\n",
      "Get Data for : WHLM\n",
      "[*********************100%***********************]  1 of 1 completed\n",
      "Get Data for : WHLR\n",
      "[*********************100%***********************]  1 of 1 completed\n",
      "Get Data for : WHR\n",
      "[*********************100%***********************]  1 of 1 completed\n",
      "Get Data for : WIFI\n",
      "[*********************100%***********************]  1 of 1 completed"
     ]
    },
    {
     "name": "stderr",
     "output_type": "stream",
     "text": [
      "\n",
      "1 Failed download:\n",
      "['WIFI']: Exception('%ticker%: No timezone found, symbol may be delisted')\n"
     ]
    },
    {
     "name": "stdout",
     "output_type": "stream",
     "text": [
      "\n",
      "Get Data for : WINA\n",
      "[*********************100%***********************]  1 of 1 completed\n",
      "Get Data for : WING\n",
      "[*********************100%***********************]  1 of 1 completed\n",
      "Get Data for : WIRE\n",
      "[*********************100%***********************]  1 of 1 completed\n",
      "Get Data for : WK\n",
      "[*********************100%***********************]  1 of 1 completed\n",
      "Get Data for : WKHS\n",
      "[*********************100%***********************]  1 of 1 completed\n",
      "Get Data for : WLDN\n",
      "[*********************100%***********************]  1 of 1 completed\n",
      "Get Data for : WLFC\n",
      "[*********************100%***********************]  1 of 1 completed\n",
      "Get Data for : WLK\n",
      "[*********************100%***********************]  1 of 1 completed\n",
      "Get Data for : WLL\n",
      "[*********************100%***********************]  1 of 1 completed"
     ]
    },
    {
     "name": "stderr",
     "output_type": "stream",
     "text": [
      "\n",
      "1 Failed download:\n",
      "['WLL']: Exception('%ticker%: No timezone found, symbol may be delisted')\n"
     ]
    },
    {
     "name": "stdout",
     "output_type": "stream",
     "text": [
      "\n",
      "Get Data for : WLTW\n",
      "[*********************100%***********************]  1 of 1 completed"
     ]
    },
    {
     "name": "stderr",
     "output_type": "stream",
     "text": [
      "\n",
      "1 Failed download:\n",
      "['WLTW']: Exception('%ticker%: No timezone found, symbol may be delisted')\n"
     ]
    },
    {
     "name": "stdout",
     "output_type": "stream",
     "text": [
      "\n",
      "Get Data for : WM\n",
      "[*********************100%***********************]  1 of 1 completed\n",
      "Get Data for : WMB\n",
      "[*********************100%***********************]  1 of 1 completed\n",
      "Get Data for : WMC\n",
      "[*********************100%***********************]  1 of 1 completed\n",
      "Get Data for : WMGI\n",
      "[*********************100%***********************]  1 of 1 completed"
     ]
    },
    {
     "name": "stderr",
     "output_type": "stream",
     "text": [
      "\n",
      "1 Failed download:\n",
      "['WMGI']: Exception('%ticker%: No timezone found, symbol may be delisted')\n"
     ]
    },
    {
     "name": "stdout",
     "output_type": "stream",
     "text": [
      "\n",
      "Get Data for : WMK\n",
      "[*********************100%***********************]  1 of 1 completed\n",
      "Get Data for : WMS\n",
      "[*********************100%***********************]  1 of 1 completed\n",
      "Get Data for : WMT\n",
      "[*********************100%***********************]  1 of 1 completed\n",
      "Get Data for : WNC\n",
      "[*********************100%***********************]  1 of 1 completed\n",
      "Get Data for : WNEB\n",
      "[*********************100%***********************]  1 of 1 completed\n",
      "Get Data for : WOR\n",
      "[*********************100%***********************]  1 of 1 completed\n",
      "Get Data for : WOW\n",
      "[*********************100%***********************]  1 of 1 completed\n",
      "Get Data for : WPC\n",
      "[*********************100%***********************]  1 of 1 completed\n",
      "Get Data for : WPG\n",
      "[*********************100%***********************]  1 of 1 completed"
     ]
    },
    {
     "name": "stderr",
     "output_type": "stream",
     "text": [
      "\n",
      "1 Failed download:\n",
      "['WPG']: Exception('%ticker%: No timezone found, symbol may be delisted')\n"
     ]
    },
    {
     "name": "stdout",
     "output_type": "stream",
     "text": [
      "\n",
      "Get Data for : WPX\n",
      "[*********************100%***********************]  1 of 1 completed"
     ]
    },
    {
     "name": "stderr",
     "output_type": "stream",
     "text": [
      "\n",
      "1 Failed download:\n",
      "['WPX']: Exception('%ticker%: No timezone found, symbol may be delisted')\n"
     ]
    },
    {
     "name": "stdout",
     "output_type": "stream",
     "text": [
      "\n",
      "Get Data for : WRB\n",
      "[*********************100%***********************]  1 of 1 completed\n",
      "Get Data for : WRE\n",
      "[*********************100%***********************]  1 of 1 completed"
     ]
    },
    {
     "name": "stderr",
     "output_type": "stream",
     "text": [
      "\n",
      "1 Failed download:\n",
      "['WRE']: Exception('%ticker%: No timezone found, symbol may be delisted')\n"
     ]
    },
    {
     "name": "stdout",
     "output_type": "stream",
     "text": [
      "\n",
      "Get Data for : WRI\n",
      "[*********************100%***********************]  1 of 1 completed"
     ]
    },
    {
     "name": "stderr",
     "output_type": "stream",
     "text": [
      "\n",
      "1 Failed download:\n",
      "['WRI']: Exception('%ticker%: No timezone found, symbol may be delisted')\n"
     ]
    },
    {
     "name": "stdout",
     "output_type": "stream",
     "text": [
      "\n",
      "Get Data for : WRK\n",
      "[*********************100%***********************]  1 of 1 completed\n",
      "Get Data for : WRLD\n",
      "[*********************100%***********************]  1 of 1 completed\n",
      "Get Data for : WRTC\n",
      "[*********************100%***********************]  1 of 1 completed"
     ]
    },
    {
     "name": "stderr",
     "output_type": "stream",
     "text": [
      "\n",
      "1 Failed download:\n",
      "['WRTC']: Exception('%ticker%: No timezone found, symbol may be delisted')\n"
     ]
    },
    {
     "name": "stdout",
     "output_type": "stream",
     "text": [
      "\n",
      "Get Data for : WSBC\n",
      "[*********************100%***********************]  1 of 1 completed\n",
      "Get Data for : WSBF\n",
      "[*********************100%***********************]  1 of 1 completed\n",
      "Get Data for : WSC\n",
      "[*********************100%***********************]  1 of 1 completed\n",
      "Get Data for : WSFS\n",
      "[*********************100%***********************]  1 of 1 completed\n",
      "Get Data for : WSM\n",
      "[*********************100%***********************]  1 of 1 completed\n",
      "Get Data for : WSO\n",
      "[*********************100%***********************]  1 of 1 completed\n",
      "Get Data for : WSR\n",
      "[*********************100%***********************]  1 of 1 completed\n",
      "Get Data for : WST\n",
      "[*********************100%***********************]  1 of 1 completed\n",
      "Get Data for : WSTG\n",
      "[*********************100%***********************]  1 of 1 completed"
     ]
    },
    {
     "name": "stderr",
     "output_type": "stream",
     "text": [
      "\n",
      "1 Failed download:\n",
      "['WSTG']: Exception('%ticker%: No timezone found, symbol may be delisted')\n"
     ]
    },
    {
     "name": "stdout",
     "output_type": "stream",
     "text": [
      "\n",
      "Get Data for : WSTL\n",
      "[*********************100%***********************]  1 of 1 completed\n",
      "Get Data for : WTBA\n",
      "[*********************100%***********************]  1 of 1 completed\n",
      "Get Data for : WTFC\n",
      "[*********************100%***********************]  1 of 1 completed\n",
      "Get Data for : WTI\n",
      "[*********************100%***********************]  1 of 1 completed\n",
      "Get Data for : WTM\n",
      "[*********************100%***********************]  1 of 1 completed\n",
      "Get Data for : WTRH\n",
      "[*********************100%***********************]  1 of 1 completed"
     ]
    },
    {
     "name": "stderr",
     "output_type": "stream",
     "text": [
      "\n",
      "1 Failed download:\n",
      "['WTRH']: Exception('%ticker%: No timezone found, symbol may be delisted')\n"
     ]
    },
    {
     "name": "stdout",
     "output_type": "stream",
     "text": [
      "\n",
      "Get Data for : WTS\n",
      "[*********************100%***********************]  1 of 1 completed\n",
      "Get Data for : WTT\n",
      "[*********************100%***********************]  1 of 1 completed\n",
      "Get Data for : WTTR\n",
      "[*********************100%***********************]  1 of 1 completed\n",
      "Get Data for : WU\n",
      "[*********************100%***********************]  1 of 1 completed\n",
      "Get Data for : WVE\n",
      "[*********************100%***********************]  1 of 1 completed\n",
      "Get Data for : WVFC\n",
      "[*********************100%***********************]  1 of 1 completed\n",
      "Get Data for : WVVI\n",
      "[*********************100%***********************]  1 of 1 completed\n",
      "Get Data for : WWD\n",
      "[*********************100%***********************]  1 of 1 completed\n",
      "Get Data for : WWE\n",
      "[*********************100%***********************]  1 of 1 completed\n",
      "Get Data for : WWR\n",
      "[*********************100%***********************]  1 of 1 completed\n",
      "Get Data for : WWW\n",
      "[*********************100%***********************]  1 of 1 completed\n",
      "Get Data for : WY\n",
      "[*********************100%***********************]  1 of 1 completed\n",
      "Get Data for : WYND\n",
      "[*********************100%***********************]  1 of 1 completed"
     ]
    },
    {
     "name": "stderr",
     "output_type": "stream",
     "text": [
      "\n",
      "1 Failed download:\n",
      "['WYND']: Exception('%ticker%: No timezone found, symbol may be delisted')\n"
     ]
    },
    {
     "name": "stdout",
     "output_type": "stream",
     "text": [
      "\n",
      "Get Data for : WYNN\n",
      "[*********************100%***********************]  1 of 1 completed\n",
      "Get Data for : WYY\n",
      "[*********************100%***********************]  1 of 1 completed\n",
      "Get Data for : X\n",
      "[*********************100%***********************]  1 of 1 completed\n",
      "Get Data for : XAN\n",
      "[*********************100%***********************]  1 of 1 completed"
     ]
    },
    {
     "name": "stderr",
     "output_type": "stream",
     "text": [
      "\n",
      "1 Failed download:\n",
      "['XAN']: Exception('%ticker%: No timezone found, symbol may be delisted')\n"
     ]
    },
    {
     "name": "stdout",
     "output_type": "stream",
     "text": [
      "\n",
      "Get Data for : XBIT\n",
      "[*********************100%***********************]  1 of 1 completed\n",
      "Get Data for : XEC\n",
      "[*********************100%***********************]  1 of 1 completed\n"
     ]
    },
    {
     "name": "stderr",
     "output_type": "stream",
     "text": [
      "\n",
      "1 Failed download:\n",
      "['XEC']: Exception('%ticker%: No timezone found, symbol may be delisted')\n"
     ]
    },
    {
     "name": "stdout",
     "output_type": "stream",
     "text": [
      "Get Data for : XEL\n",
      "[*********************100%***********************]  1 of 1 completed\n",
      "Get Data for : XELA\n",
      "[*********************100%***********************]  1 of 1 completed\n",
      "Get Data for : XELB\n",
      "[*********************100%***********************]  1 of 1 completed\n",
      "Get Data for : XENT\n",
      "[*********************100%***********************]  1 of 1 completed"
     ]
    },
    {
     "name": "stderr",
     "output_type": "stream",
     "text": [
      "\n",
      "1 Failed download:\n",
      "['XENT']: Exception('%ticker%: No timezone found, symbol may be delisted')\n"
     ]
    },
    {
     "name": "stdout",
     "output_type": "stream",
     "text": [
      "\n",
      "Get Data for : XERS\n",
      "[*********************100%***********************]  1 of 1 completed\n",
      "Get Data for : XHR\n",
      "[*********************100%***********************]  1 of 1 completed\n",
      "Get Data for : XLNX\n",
      "[*********************100%***********************]  1 of 1 completed"
     ]
    },
    {
     "name": "stderr",
     "output_type": "stream",
     "text": [
      "\n",
      "1 Failed download:\n"
     ]
    },
    {
     "name": "stdout",
     "output_type": "stream",
     "text": [
      "\n"
     ]
    },
    {
     "name": "stderr",
     "output_type": "stream",
     "text": [
      "['XLNX']: Exception('%ticker%: No timezone found, symbol may be delisted')\n"
     ]
    },
    {
     "name": "stdout",
     "output_type": "stream",
     "text": [
      "Get Data for : XLRN\n",
      "[*********************100%***********************]  1 of 1 completed"
     ]
    },
    {
     "name": "stderr",
     "output_type": "stream",
     "text": [
      "\n",
      "1 Failed download:\n",
      "['XLRN']: Exception('%ticker%: No timezone found, symbol may be delisted')\n"
     ]
    },
    {
     "name": "stdout",
     "output_type": "stream",
     "text": [
      "\n",
      "Get Data for : XNCR\n",
      "[*********************100%***********************]  1 of 1 completed\n",
      "Get Data for : XOG\n",
      "[*********************100%***********************]  1 of 1 completed"
     ]
    },
    {
     "name": "stderr",
     "output_type": "stream",
     "text": [
      "\n",
      "1 Failed download:\n",
      "['XOG']: Exception('%ticker%: No timezone found, symbol may be delisted')\n"
     ]
    },
    {
     "name": "stdout",
     "output_type": "stream",
     "text": [
      "\n",
      "Get Data for : XOM\n",
      "[*********************100%***********************]  1 of 1 completed\n",
      "Get Data for : XOMA\n",
      "[*********************100%***********************]  1 of 1 completed\n",
      "Get Data for : XONE\n",
      "[*********************100%***********************]  1 of 1 completed"
     ]
    },
    {
     "name": "stderr",
     "output_type": "stream",
     "text": [
      "\n",
      "1 Failed download:\n",
      "['XONE']: Exception(\"%ticker%: Data doesn't exist for startDate = 1483246800, endDate = 1629345600\")\n"
     ]
    },
    {
     "name": "stdout",
     "output_type": "stream",
     "text": [
      "\n",
      "Get Data for : XPER\n",
      "[*********************100%***********************]  1 of 1 completed"
     ]
    },
    {
     "name": "stderr",
     "output_type": "stream",
     "text": [
      "\n",
      "1 Failed download:\n",
      "['XPER']: Exception(\"%ticker%: Data doesn't exist for startDate = 1483246800, endDate = 1629345600\")\n"
     ]
    },
    {
     "name": "stdout",
     "output_type": "stream",
     "text": [
      "\n",
      "Get Data for : XPL\n",
      "[*********************100%***********************]  1 of 1 completed\n",
      "Get Data for : XPO\n",
      "[*********************100%***********************]  1 of 1 completed\n",
      "Get Data for : XRAY\n",
      "[*********************100%***********************]  1 of 1 completed\n",
      "Get Data for : XRX\n",
      "[*********************100%***********************]  1 of 1 completed\n",
      "Get Data for : XSPA\n",
      "[*********************100%***********************]  1 of 1 completed"
     ]
    },
    {
     "name": "stderr",
     "output_type": "stream",
     "text": [
      "\n",
      "1 Failed download:\n",
      "['XSPA']: Exception('%ticker%: No timezone found, symbol may be delisted')\n"
     ]
    },
    {
     "name": "stdout",
     "output_type": "stream",
     "text": [
      "\n",
      "Get Data for : XTNT\n",
      "[*********************100%***********************]  1 of 1 completed\n",
      "Get Data for : XXII\n",
      "[*********************100%***********************]  1 of 1 completed\n",
      "Get Data for : XYL\n",
      "[*********************100%***********************]  1 of 1 completed\n",
      "Get Data for : Y\n",
      "[*********************100%***********************]  1 of 1 completed"
     ]
    },
    {
     "name": "stderr",
     "output_type": "stream",
     "text": [
      "\n",
      "1 Failed download:\n",
      "['Y']: Exception('%ticker%: No timezone found, symbol may be delisted')\n"
     ]
    },
    {
     "name": "stdout",
     "output_type": "stream",
     "text": [
      "\n",
      "Get Data for : YELP\n",
      "[*********************100%***********************]  1 of 1 completed\n",
      "Get Data for : YETI\n",
      "[*********************100%***********************]  1 of 1 completed\n",
      "Get Data for : YEXT\n",
      "[*********************100%***********************]  1 of 1 completed\n",
      "Get Data for : YMAB\n",
      "[*********************100%***********************]  1 of 1 completed\n",
      "Get Data for : YORW\n",
      "[*********************100%***********************]  1 of 1 completed\n",
      "Get Data for : YRCW\n",
      "[*********************100%***********************]  1 of 1 completed"
     ]
    },
    {
     "name": "stderr",
     "output_type": "stream",
     "text": [
      "\n",
      "1 Failed download:\n",
      "['YRCW']: Exception('%ticker%: No timezone found, symbol may be delisted')\n"
     ]
    },
    {
     "name": "stdout",
     "output_type": "stream",
     "text": [
      "\n",
      "Get Data for : YTEN\n",
      "[*********************100%***********************]  1 of 1 completed\n",
      "Get Data for : YUM\n",
      "[*********************100%***********************]  1 of 1 completed\n",
      "Get Data for : Z\n",
      "[*********************100%***********************]  1 of 1 completed\n",
      "Get Data for : ZAGG\n",
      "[*********************100%***********************]  1 of 1 completed"
     ]
    },
    {
     "name": "stderr",
     "output_type": "stream",
     "text": [
      "\n",
      "1 Failed download:\n",
      "['ZAGG']: Exception('%ticker%: No timezone found, symbol may be delisted')\n"
     ]
    },
    {
     "name": "stdout",
     "output_type": "stream",
     "text": [
      "\n",
      "Get Data for : ZBH\n",
      "[*********************100%***********************]  1 of 1 completed\n",
      "Get Data for : ZBRA\n",
      "[*********************100%***********************]  1 of 1 completed\n",
      "Get Data for : ZDGE\n",
      "[*********************100%***********************]  1 of 1 completed\n",
      "Get Data for : ZEN\n",
      "[*********************100%***********************]  1 of 1 completed"
     ]
    },
    {
     "name": "stderr",
     "output_type": "stream",
     "text": [
      "\n",
      "1 Failed download:\n",
      "['ZEN']: Exception('%ticker%: No timezone found, symbol may be delisted')\n"
     ]
    },
    {
     "name": "stdout",
     "output_type": "stream",
     "text": [
      "\n",
      "Get Data for : ZEUS\n",
      "[*********************100%***********************]  1 of 1 completed\n",
      "Get Data for : ZG\n",
      "[*********************100%***********************]  1 of 1 completed\n",
      "Get Data for : ZGNX\n",
      "[*********************100%***********************]  1 of 1 completed"
     ]
    },
    {
     "name": "stderr",
     "output_type": "stream",
     "text": [
      "\n",
      "1 Failed download:\n",
      "['ZGNX']: Exception('%ticker%: No timezone found, symbol may be delisted')\n"
     ]
    },
    {
     "name": "stdout",
     "output_type": "stream",
     "text": [
      "\n",
      "Get Data for : ZION\n",
      "[*********************100%***********************]  1 of 1 completed\n",
      "Get Data for : ZIOP\n",
      "[*********************100%***********************]  1 of 1 completed"
     ]
    },
    {
     "name": "stderr",
     "output_type": "stream",
     "text": [
      "\n",
      "1 Failed download:\n",
      "['ZIOP']: Exception('%ticker%: No timezone found, symbol may be delisted')\n"
     ]
    },
    {
     "name": "stdout",
     "output_type": "stream",
     "text": [
      "\n",
      "Get Data for : ZIXI\n",
      "[*********************100%***********************]  1 of 1 completed"
     ]
    },
    {
     "name": "stderr",
     "output_type": "stream",
     "text": [
      "\n",
      "1 Failed download:\n",
      "['ZIXI']: Exception('%ticker%: No timezone found, symbol may be delisted')\n"
     ]
    },
    {
     "name": "stdout",
     "output_type": "stream",
     "text": [
      "\n",
      "Get Data for : ZM\n",
      "[*********************100%***********************]  1 of 1 completed\n",
      "Get Data for : ZN\n",
      "[*********************100%***********************]  1 of 1 completed"
     ]
    },
    {
     "name": "stderr",
     "output_type": "stream",
     "text": [
      "\n",
      "1 Failed download:\n",
      "['ZN']: Exception('%ticker%: No timezone found, symbol may be delisted')\n"
     ]
    },
    {
     "name": "stdout",
     "output_type": "stream",
     "text": [
      "\n",
      "Get Data for : ZNGA\n",
      "[*********************100%***********************]  1 of 1 completed"
     ]
    },
    {
     "name": "stderr",
     "output_type": "stream",
     "text": [
      "\n",
      "1 Failed download:\n",
      "['ZNGA']: Exception('%ticker%: No timezone found, symbol may be delisted')\n"
     ]
    },
    {
     "name": "stdout",
     "output_type": "stream",
     "text": [
      "\n",
      "Get Data for : ZS\n",
      "[*********************100%***********************]  1 of 1 completed\n",
      "Get Data for : ZSAN\n",
      "[*********************100%***********************]  1 of 1 completed"
     ]
    },
    {
     "name": "stderr",
     "output_type": "stream",
     "text": [
      "\n",
      "1 Failed download:\n",
      "['ZSAN']: Exception('%ticker%: No timezone found, symbol may be delisted')\n"
     ]
    },
    {
     "name": "stdout",
     "output_type": "stream",
     "text": [
      "\n",
      "Get Data for : ZTS\n",
      "[*********************100%***********************]  1 of 1 completed\n",
      "Get Data for : ZUMZ\n",
      "[*********************100%***********************]  1 of 1 completed\n",
      "Get Data for : ZUO\n",
      "[*********************100%***********************]  1 of 1 completed\n",
      "Get Data for : ZYNE\n",
      "[*********************100%***********************]  1 of 1 completed\n",
      "Get Data for : UONEK\n",
      "[*********************100%***********************]  1 of 1 completed\n",
      "Get Data for : URBN\n",
      "[*********************100%***********************]  1 of 1 completed\n",
      "Get Data for : UROV\n",
      "[*********************100%***********************]  1 of 1 completed"
     ]
    },
    {
     "name": "stderr",
     "output_type": "stream",
     "text": [
      "\n",
      "1 Failed download:\n",
      "['UROV']: Exception('%ticker%: No timezone found, symbol may be delisted')\n"
     ]
    },
    {
     "name": "stdout",
     "output_type": "stream",
     "text": [
      "\n",
      "Get Data for : UBA\n",
      "[*********************100%***********************]  1 of 1 completed\n",
      "Get Data for : ECOL\n",
      "[*********************100%***********************]  1 of 1 completed"
     ]
    },
    {
     "name": "stderr",
     "output_type": "stream",
     "text": [
      "\n",
      "1 Failed download:\n",
      "['ECOL']: Exception('%ticker%: No timezone found, symbol may be delisted')\n"
     ]
    },
    {
     "name": "stdout",
     "output_type": "stream",
     "text": [
      "\n",
      "Get Data for : USEG\n",
      "[*********************100%***********************]  1 of 1 completed\n",
      "Get Data for : USFD\n",
      "[*********************100%***********************]  1 of 1 completed\n",
      "Get Data for : USWS\n",
      "[*********************100%***********************]  1 of 1 completed"
     ]
    },
    {
     "name": "stderr",
     "output_type": "stream",
     "text": [
      "\n",
      "1 Failed download:\n",
      "['USWS']: Exception('%ticker%: No timezone found, symbol may be delisted')\n"
     ]
    },
    {
     "name": "stdout",
     "output_type": "stream",
     "text": [
      "\n",
      "Get Data for : USX\n",
      "[*********************100%***********************]  1 of 1 completed\n",
      "Get Data for : USAT\n",
      "[*********************100%***********************]  1 of 1 completed"
     ]
    },
    {
     "name": "stderr",
     "output_type": "stream",
     "text": [
      "\n",
      "1 Failed download:\n",
      "['USAT']: Exception('%ticker%: No timezone found, symbol may be delisted')\n"
     ]
    },
    {
     "name": "stdout",
     "output_type": "stream",
     "text": [
      "\n",
      "Get Data for : USAK\n",
      "[*********************100%***********************]  1 of 1 completed"
     ]
    },
    {
     "name": "stderr",
     "output_type": "stream",
     "text": [
      "\n",
      "1 Failed download:\n",
      "['USAK']: Exception('%ticker%: No timezone found, symbol may be delisted')\n"
     ]
    },
    {
     "name": "stdout",
     "output_type": "stream",
     "text": [
      "\n",
      "Get Data for : USNA\n",
      "[*********************100%***********************]  1 of 1 completed\n",
      "Get Data for : USIO\n",
      "[*********************100%***********************]  1 of 1 completed\n",
      "Get Data for : UTMD\n",
      "[*********************100%***********************]  1 of 1 completed\n",
      "Get Data for : EGY\n",
      "[*********************100%***********************]  1 of 1 completed\n",
      "Get Data for : MTN\n",
      "[*********************100%***********************]  1 of 1 completed\n",
      "Get Data for : VAL\n",
      "[*********************100%***********************]  1 of 1 completed\n",
      "Get Data for : VLO\n",
      "[*********************100%***********************]  1 of 1 completed\n",
      "Get Data for : VLY\n",
      "[*********************100%***********************]  1 of 1 completed\n",
      "Get Data for : VMI\n",
      "[*********************100%***********************]  1 of 1 completed\n",
      "Get Data for : VALU\n",
      "[*********************100%***********************]  1 of 1 completed\n",
      "Get Data for : VVV\n",
      "[*********************100%***********************]  1 of 1 completed\n",
      "Get Data for : VNDA\n",
      "[*********************100%***********************]  1 of 1 completed\n",
      "Get Data for : VAPO\n",
      "[*********************100%***********************]  1 of 1 completed\n",
      "Get Data for : VREX\n",
      "[*********************100%***********************]  1 of 1 completed\n",
      "Get Data for : VAR\n",
      "[*********************100%***********************]  1 of 1 completed"
     ]
    },
    {
     "name": "stderr",
     "output_type": "stream",
     "text": [
      "\n",
      "1 Failed download:\n",
      "['VAR']: Exception('%ticker%: No timezone found, symbol may be delisted')\n"
     ]
    },
    {
     "name": "stdout",
     "output_type": "stream",
     "text": [
      "\n",
      "Get Data for : VRNS\n",
      "[*********************100%***********************]  1 of 1 completed\n",
      "Get Data for : VXRT\n",
      "[*********************100%***********************]  1 of 1 completed\n",
      "Get Data for : VBIV\n",
      "[*********************100%***********************]  1 of 1 completed\n",
      "Get Data for : VGR\n",
      "[*********************100%***********************]  1 of 1 completed\n",
      "Get Data for : VEC\n",
      "[*********************100%***********************]  1 of 1 completed"
     ]
    },
    {
     "name": "stderr",
     "output_type": "stream",
     "text": [
      "\n",
      "1 Failed download:\n",
      "['VEC']: Exception('%ticker%: No timezone found, symbol may be delisted')\n"
     ]
    },
    {
     "name": "stdout",
     "output_type": "stream",
     "text": [
      "\n",
      "Get Data for : VECO\n",
      "[*********************100%***********************]  1 of 1 completed\n",
      "Get Data for : VEEV\n",
      "[*********************100%***********************]  1 of 1 completed\n",
      "Get Data for : VNTR\n",
      "[*********************100%***********************]  1 of 1 completed\n",
      "Get Data for : VTR\n",
      "[*********************100%***********************]  1 of 1 completed\n",
      "Get Data for : VNE\n",
      "[*********************100%***********************]  1 of 1 completed"
     ]
    },
    {
     "name": "stderr",
     "output_type": "stream",
     "text": [
      "\n",
      "1 Failed download:\n",
      "['VNE']: Exception('%ticker%: No timezone found, symbol may be delisted')\n"
     ]
    },
    {
     "name": "stdout",
     "output_type": "stream",
     "text": [
      "\n",
      "Get Data for : VRA\n",
      "[*********************100%***********************]  1 of 1 completed\n",
      "Get Data for : VCYT\n",
      "[*********************100%***********************]  1 of 1 completed\n",
      "Get Data for : VSTM\n",
      "[*********************100%***********************]  1 of 1 completed\n",
      "Get Data for : VER\n",
      "[*********************100%***********************]  1 of 1 completed"
     ]
    },
    {
     "name": "stderr",
     "output_type": "stream",
     "text": [
      "\n",
      "1 Failed download:\n",
      "['VER']: Exception('%ticker%: No timezone found, symbol may be delisted')\n"
     ]
    },
    {
     "name": "stdout",
     "output_type": "stream",
     "text": [
      "\n",
      "Get Data for : VCEL\n",
      "[*********************100%***********************]  1 of 1 completed\n",
      "Get Data for : VRNT\n",
      "[*********************100%***********************]  1 of 1 completed\n",
      "Get Data for : VRSN\n",
      "[*********************100%***********************]  1 of 1 completed\n",
      "Get Data for : VRSK\n",
      "[*********************100%***********************]  1 of 1 completed\n",
      "Get Data for : VBTX\n",
      "[*********************100%***********************]  1 of 1 completed\n",
      "Get Data for : VRTV\n",
      "[*********************100%***********************]  1 of 1 completed\n",
      "Get Data for : VERI\n",
      "[*********************100%***********************]  1 of 1 completed\n",
      "Get Data for : VZ\n",
      "[*********************100%***********************]  1 of 1 completed\n",
      "Get Data for : VRML\n",
      "[*********************100%***********************]  1 of 1 completed"
     ]
    },
    {
     "name": "stderr",
     "output_type": "stream",
     "text": [
      "\n",
      "1 Failed download:\n",
      "['VRML']: Exception('%ticker%: No timezone found, symbol may be delisted')\n"
     ]
    },
    {
     "name": "stdout",
     "output_type": "stream",
     "text": [
      "\n",
      "Get Data for : VRRM\n",
      "[*********************100%***********************]  1 of 1 completed\n",
      "Get Data for : VRS\n",
      "[*********************100%***********************]  1 of 1 completed"
     ]
    },
    {
     "name": "stderr",
     "output_type": "stream",
     "text": [
      "\n",
      "1 Failed download:\n",
      "['VRS']: Exception('%ticker%: No timezone found, symbol may be delisted')\n"
     ]
    },
    {
     "name": "stdout",
     "output_type": "stream",
     "text": [
      "\n",
      "Get Data for : VTNR\n",
      "[*********************100%***********************]  1 of 1 completed\n",
      "Get Data for : VRTX\n",
      "[*********************100%***********************]  1 of 1 completed\n",
      "Get Data for : VERU\n",
      "[*********************100%***********************]  1 of 1 completed\n",
      "Get Data for : VFC\n",
      "[*********************100%***********************]  1 of 1 completed\n",
      "Get Data for : CBS\n",
      "[*********************100%***********************]  1 of 1 completed"
     ]
    },
    {
     "name": "stderr",
     "output_type": "stream",
     "text": [
      "\n",
      "1 Failed download:\n",
      "['CBS']: Exception('%ticker%: No timezone found, symbol may be delisted')\n"
     ]
    },
    {
     "name": "stdout",
     "output_type": "stream",
     "text": [
      "\n",
      "Get Data for : VVI\n",
      "[*********************100%***********************]  1 of 1 completed\n",
      "Get Data for : VSAT\n",
      "[*********************100%***********************]  1 of 1 completed\n",
      "Get Data for : VIAV\n",
      "[*********************100%***********************]  1 of 1 completed\n",
      "Get Data for : VICL\n",
      "[*********************100%***********************]  1 of 1 completed"
     ]
    },
    {
     "name": "stderr",
     "output_type": "stream",
     "text": [
      "\n",
      "1 Failed download:\n",
      "['VICL']: Exception('%ticker%: No timezone found, symbol may be delisted')\n"
     ]
    },
    {
     "name": "stdout",
     "output_type": "stream",
     "text": [
      "\n",
      "Get Data for : VICI\n",
      "[*********************100%***********************]  1 of 1 completed\n",
      "Get Data for : VICR\n",
      "[*********************100%***********************]  1 of 1 completed\n",
      "Get Data for : VCTR\n",
      "[*********************100%***********************]  1 of 1 completed\n",
      "Get Data for : VRAY\n",
      "[*********************100%***********************]  1 of 1 completed\n",
      "Get Data for : VKTX\n",
      "[*********************100%***********************]  1 of 1 completed\n",
      "Get Data for : VBFC\n",
      "[*********************100%***********************]  1 of 1 completed\n",
      "Get Data for : VLGEA\n",
      "[*********************100%***********************]  1 of 1 completed\n",
      "Get Data for : VNCE\n",
      "[*********************100%***********************]  1 of 1 completed\n",
      "Get Data for : VIRC\n",
      "[*********************100%***********************]  1 of 1 completed\n",
      "Get Data for : VHC\n",
      "[*********************100%***********************]  1 of 1 completed\n",
      "Get Data for : VIRT\n",
      "[*********************100%***********************]  1 of 1 completed\n",
      "Get Data for : VRTS\n",
      "[*********************100%***********************]  1 of 1 completed\n",
      "Get Data for : VRTU\n",
      "[*********************100%***********************]  1 of 1 completed"
     ]
    },
    {
     "name": "stderr",
     "output_type": "stream",
     "text": [
      "\n",
      "1 Failed download:\n",
      "['VRTU']: Exception('%ticker%: No timezone found, symbol may be delisted')\n"
     ]
    },
    {
     "name": "stdout",
     "output_type": "stream",
     "text": [
      "\n",
      "Get Data for : V\n",
      "[*********************100%***********************]  1 of 1 completed\n",
      "Get Data for : VSH\n",
      "[*********************100%***********************]  1 of 1 completed\n",
      "Get Data for : VPG\n",
      "[*********************100%***********************]  1 of 1 completed\n",
      "Get Data for : VISL\n",
      "[*********************100%***********************]  1 of 1 completed\n",
      "Get Data for : VSTO\n",
      "[*********************100%***********************]  1 of 1 completed\n",
      "Get Data for : VC\n",
      "[*********************100%***********************]  1 of 1 completed\n",
      "Get Data for : VST\n",
      "[*********************100%***********************]  1 of 1 completed\n",
      "Get Data for : VSI\n",
      "[*********************100%***********************]  1 of 1 completed"
     ]
    },
    {
     "name": "stderr",
     "output_type": "stream",
     "text": [
      "\n",
      "1 Failed download:\n",
      "['VSI']: Exception('%ticker%: No timezone found, symbol may be delisted')\n"
     ]
    },
    {
     "name": "stdout",
     "output_type": "stream",
     "text": [
      "\n",
      "Get Data for : VSLR\n",
      "[*********************100%***********************]  1 of 1 completed"
     ]
    },
    {
     "name": "stderr",
     "output_type": "stream",
     "text": [
      "\n",
      "1 Failed download:\n",
      "['VSLR']: Exception('%ticker%: No timezone found, symbol may be delisted')\n"
     ]
    },
    {
     "name": "stdout",
     "output_type": "stream",
     "text": [
      "\n",
      "Get Data for : VVUS\n",
      "[*********************100%***********************]  1 of 1 completed"
     ]
    },
    {
     "name": "stderr",
     "output_type": "stream",
     "text": [
      "\n",
      "1 Failed download:\n",
      "['VVUS']: Exception('%ticker%: No timezone found, symbol may be delisted')\n"
     ]
    },
    {
     "name": "stdout",
     "output_type": "stream",
     "text": [
      "\n",
      "Get Data for : VMW\n",
      "[*********************100%***********************]  1 of 1 completed\n",
      "Get Data for : VCRA\n",
      "[*********************100%***********************]  1 of 1 completed"
     ]
    },
    {
     "name": "stderr",
     "output_type": "stream",
     "text": [
      "\n",
      "1 Failed download:\n",
      "['VCRA']: Exception('%ticker%: No timezone found, symbol may be delisted')\n"
     ]
    },
    {
     "name": "stdout",
     "output_type": "stream",
     "text": [
      "\n",
      "Get Data for : VNRX\n",
      "[*********************100%***********************]  1 of 1 completed\n",
      "Get Data for : VISI\n",
      "[*********************100%***********************]  1 of 1 completed"
     ]
    },
    {
     "name": "stderr",
     "output_type": "stream",
     "text": [
      "\n",
      "1 Failed download:\n",
      "['VISI']: Exception('%ticker%: No timezone found, symbol may be delisted')\n"
     ]
    },
    {
     "name": "stdout",
     "output_type": "stream",
     "text": [
      "\n",
      "Get Data for : VG\n",
      "[*********************100%***********************]  1 of 1 completed"
     ]
    },
    {
     "name": "stderr",
     "output_type": "stream",
     "text": [
      "\n",
      "1 Failed download:\n",
      "['VG']: Exception('%ticker%: No timezone found, symbol may be delisted')\n"
     ]
    },
    {
     "name": "stdout",
     "output_type": "stream",
     "text": [
      "\n",
      "Get Data for : VNO\n",
      "[*********************100%***********************]  1 of 1 completed\n",
      "Get Data for : VOXX\n",
      "[*********************100%***********************]  1 of 1 completed\n",
      "Get Data for : VOYA\n",
      "[*********************100%***********************]  1 of 1 completed\n",
      "Get Data for : VYGR\n",
      "[*********************100%***********************]  1 of 1 completed\n",
      "Get Data for : VSEC\n",
      "[*********************100%***********************]  1 of 1 completed\n",
      "Get Data for : VTVT\n",
      "[*********************100%***********************]  1 of 1 completed\n",
      "Get Data for : VMC\n",
      "[*********************100%***********************]  1 of 1 completed\n",
      "Get Data for : VUZI\n",
      "[*********************100%***********************]  1 of 1 completed\n",
      "Get Data for : WTI\n",
      "[*********************100%***********************]  1 of 1 completed\n",
      "Get Data for : WPC\n",
      "[*********************100%***********************]  1 of 1 completed\n",
      "Get Data for : WRB\n",
      "[*********************100%***********************]  1 of 1 completed\n",
      "Get Data for : GRA\n",
      "[*********************100%***********************]  1 of 1 completed"
     ]
    },
    {
     "name": "stderr",
     "output_type": "stream",
     "text": [
      "\n",
      "1 Failed download:\n",
      "['GRA']: Exception('%ticker%: No timezone found, symbol may be delisted')\n"
     ]
    },
    {
     "name": "stdout",
     "output_type": "stream",
     "text": [
      "\n",
      "Get Data for : GWW\n",
      "[*********************100%***********************]  1 of 1 completed\n",
      "Get Data for : WNC\n",
      "[*********************100%***********************]  1 of 1 completed\n",
      "Get Data for : WBC\n",
      "[*********************100%***********************]  1 of 1 completed"
     ]
    },
    {
     "name": "stderr",
     "output_type": "stream",
     "text": [
      "\n",
      "1 Failed download:\n",
      "['WBC']: Exception('%ticker%: No timezone found, symbol may be delisted')\n"
     ]
    },
    {
     "name": "stdout",
     "output_type": "stream",
     "text": [
      "\n",
      "Get Data for : WDR\n",
      "[*********************100%***********************]  1 of 1 completed"
     ]
    },
    {
     "name": "stderr",
     "output_type": "stream",
     "text": [
      "\n",
      "1 Failed download:\n",
      "['WDR']: Exception('%ticker%: No timezone found, symbol may be delisted')\n"
     ]
    },
    {
     "name": "stdout",
     "output_type": "stream",
     "text": [
      "\n",
      "Get Data for : WTRH\n",
      "[*********************100%***********************]  1 of 1 completed"
     ]
    },
    {
     "name": "stderr",
     "output_type": "stream",
     "text": [
      "\n",
      "1 Failed download:\n",
      "['WTRH']: Exception('%ticker%: No timezone found, symbol may be delisted')\n"
     ]
    },
    {
     "name": "stdout",
     "output_type": "stream",
     "text": [
      "\n",
      "Get Data for : WBA\n",
      "[*********************100%***********************]  1 of 1 completed\n",
      "Get Data for : WD\n",
      "[*********************100%***********************]  1 of 1 completed\n",
      "Get Data for : WMT\n",
      "[*********************100%***********************]  1 of 1 completed\n",
      "Get Data for : HCC\n",
      "[*********************100%***********************]  1 of 1 completed\n",
      "Get Data for : WAFD\n",
      "[*********************100%***********************]  1 of 1 completed\n",
      "Get Data for : WPG\n",
      "[*********************100%***********************]  1 of 1 completed"
     ]
    },
    {
     "name": "stderr",
     "output_type": "stream",
     "text": [
      "\n",
      "1 Failed download:\n",
      "['WPG']: Exception('%ticker%: No timezone found, symbol may be delisted')\n"
     ]
    },
    {
     "name": "stdout",
     "output_type": "stream",
     "text": [
      "\n",
      "Get Data for : WRE\n",
      "[*********************100%***********************]  1 of 1 completed"
     ]
    },
    {
     "name": "stderr",
     "output_type": "stream",
     "text": [
      "\n",
      "1 Failed download:\n",
      "['WRE']: Exception('%ticker%: No timezone found, symbol may be delisted')\n"
     ]
    },
    {
     "name": "stdout",
     "output_type": "stream",
     "text": [
      "\n",
      "Get Data for : WASH\n",
      "[*********************100%***********************]  1 of 1 completed\n",
      "Get Data for : WM\n",
      "[*********************100%***********************]  1 of 1 completed\n",
      "Get Data for : WAT\n",
      "[*********************100%***********************]  1 of 1 completed\n",
      "Get Data for : WSBF\n",
      "[*********************100%***********************]  1 of 1 completed\n",
      "Get Data for : WSO\n",
      "[*********************100%***********************]  1 of 1 completed\n",
      "Get Data for : WTS\n",
      "[*********************100%***********************]  1 of 1 completed\n",
      "Get Data for : WVE\n",
      "[*********************100%***********************]  1 of 1 completed\n",
      "Get Data for : W\n",
      "[*********************100%***********************]  1 of 1 completed\n",
      "Get Data for : WSTG\n",
      "[*********************100%***********************]  1 of 1 completed"
     ]
    },
    {
     "name": "stderr",
     "output_type": "stream",
     "text": [
      "\n",
      "1 Failed download:\n",
      "['WSTG']: Exception('%ticker%: No timezone found, symbol may be delisted')\n"
     ]
    },
    {
     "name": "stdout",
     "output_type": "stream",
     "text": [
      "\n",
      "Get Data for : WDFC\n",
      "[*********************100%***********************]  1 of 1 completed\n",
      "Get Data for : WBS\n",
      "[*********************100%***********************]  1 of 1 completed\n",
      "Get Data for : WEC\n",
      "[*********************100%***********************]  1 of 1 completed\n",
      "Get Data for : WRI\n",
      "[*********************100%***********************]  1 of 1 completed"
     ]
    },
    {
     "name": "stderr",
     "output_type": "stream",
     "text": [
      "\n",
      "1 Failed download:\n",
      "['WRI']: Exception('%ticker%: No timezone found, symbol may be delisted')\n"
     ]
    },
    {
     "name": "stdout",
     "output_type": "stream",
     "text": [
      "\n",
      "Get Data for : WMK\n",
      "[*********************100%***********************]  1 of 1 completed\n",
      "Get Data for : WBT\n",
      "[*********************100%***********************]  1 of 1 completed"
     ]
    },
    {
     "name": "stderr",
     "output_type": "stream",
     "text": [
      "\n",
      "1 Failed download:\n",
      "['WBT']: Exception('%ticker%: No timezone found, symbol may be delisted')\n"
     ]
    },
    {
     "name": "stdout",
     "output_type": "stream",
     "text": [
      "\n",
      "Get Data for : WCG\n",
      "[*********************100%***********************]  1 of 1 completed"
     ]
    },
    {
     "name": "stderr",
     "output_type": "stream",
     "text": [
      "\n",
      "1 Failed download:\n",
      "['WCG']: Exception('%ticker%: No timezone found, symbol may be delisted')\n"
     ]
    },
    {
     "name": "stdout",
     "output_type": "stream",
     "text": [
      "\n",
      "Get Data for : WEBK\n",
      "[*********************100%***********************]  1 of 1 completed"
     ]
    },
    {
     "name": "stderr",
     "output_type": "stream",
     "text": [
      "\n",
      "1 Failed download:\n",
      "['WEBK']: Exception('%ticker%: No timezone found, symbol may be delisted')\n"
     ]
    },
    {
     "name": "stdout",
     "output_type": "stream",
     "text": [
      "\n",
      "Get Data for : WFC\n",
      "[*********************100%***********************]  1 of 1 completed\n",
      "Get Data for : WELL\n",
      "[*********************100%***********************]  1 of 1 completed\n",
      "Get Data for : WERN\n",
      "[*********************100%***********************]  1 of 1 completed\n",
      "Get Data for : WSBC\n",
      "[*********************100%***********************]  1 of 1 completed\n",
      "Get Data for : WAIR\n",
      "[*********************100%***********************]  1 of 1 completed"
     ]
    },
    {
     "name": "stderr",
     "output_type": "stream",
     "text": [
      "\n",
      "1 Failed download:\n",
      "['WAIR']: Exception('%ticker%: No timezone found, symbol may be delisted')\n"
     ]
    },
    {
     "name": "stdout",
     "output_type": "stream",
     "text": [
      "\n",
      "Get Data for : WCC\n",
      "[*********************100%***********************]  1 of 1 completed\n",
      "Get Data for : WTBA\n",
      "[*********************100%***********************]  1 of 1 completed\n",
      "Get Data for : WST\n",
      "[*********************100%***********************]  1 of 1 completed\n",
      "Get Data for : WABC\n",
      "[*********************100%***********************]  1 of 1 completed\n",
      "Get Data for : WSTL\n",
      "[*********************100%***********************]  1 of 1 completed\n",
      "Get Data for : WAL\n",
      "[*********************100%***********************]  1 of 1 completed\n",
      "Get Data for : WMC\n",
      "[*********************100%***********************]  1 of 1 completed\n",
      "Get Data for : WDC\n",
      "[*********************100%***********************]  1 of 1 completed\n",
      "Get Data for : WNEB\n",
      "[*********************100%***********************]  1 of 1 completed\n",
      "Get Data for : WAB\n",
      "[*********************100%***********************]  1 of 1 completed\n",
      "Get Data for : WLK\n",
      "[*********************100%***********************]  1 of 1 completed\n",
      "Get Data for : WRK\n",
      "[*********************100%***********************]  1 of 1 completed\n",
      "Get Data for : WWR\n",
      "[*********************100%***********************]  1 of 1 completed\n",
      "Get Data for : WHG\n",
      "[*********************100%***********************]  1 of 1 completed\n",
      "Get Data for : WEX\n",
      "[*********************100%***********************]  1 of 1 completed\n",
      "Get Data for : WEYS\n",
      "[*********************100%***********************]  1 of 1 completed\n",
      "Get Data for : WY\n",
      "[*********************100%***********************]  1 of 1 completed\n",
      "Get Data for : WHLR\n",
      "[*********************100%***********************]  1 of 1 completed\n",
      "Get Data for : WHR\n",
      "[*********************100%***********************]  1 of 1 completed\n",
      "Get Data for : WTM\n",
      "[*********************100%***********************]  1 of 1 completed\n",
      "Get Data for : WSR\n",
      "[*********************100%***********************]  1 of 1 completed\n",
      "Get Data for : WLL\n",
      "[*********************100%***********************]  1 of 1 completed"
     ]
    },
    {
     "name": "stderr",
     "output_type": "stream",
     "text": [
      "\n",
      "1 Failed download:\n",
      "['WLL']: Exception('%ticker%: No timezone found, symbol may be delisted')\n"
     ]
    },
    {
     "name": "stdout",
     "output_type": "stream",
     "text": [
      "\n",
      "Get Data for : WOW\n",
      "[*********************100%***********************]  1 of 1 completed\n",
      "Get Data for : WYY\n",
      "[*********************100%***********************]  1 of 1 completed\n",
      "Get Data for : WHLM\n",
      "[*********************100%***********************]  1 of 1 completed\n",
      "Get Data for : WVVI\n",
      "[*********************100%***********************]  1 of 1 completed\n",
      "Get Data for : WLDN\n",
      "[*********************100%***********************]  1 of 1 completed\n",
      "Get Data for : WLH\n",
      "[*********************100%***********************]  1 of 1 completed"
     ]
    },
    {
     "name": "stderr",
     "output_type": "stream",
     "text": [
      "\n",
      "1 Failed download:\n",
      "['WLH']: Exception('%ticker%: No timezone found, symbol may be delisted')\n"
     ]
    },
    {
     "name": "stdout",
     "output_type": "stream",
     "text": [
      "\n",
      "Get Data for : WSM\n",
      "[*********************100%***********************]  1 of 1 completed\n",
      "Get Data for : WLFC\n",
      "[*********************100%***********************]  1 of 1 completed\n",
      "Get Data for : WLTW\n",
      "[*********************100%***********************]  1 of 1 completed"
     ]
    },
    {
     "name": "stderr",
     "output_type": "stream",
     "text": [
      "\n",
      "1 Failed download:\n",
      "['WLTW']: Exception('%ticker%: No timezone found, symbol may be delisted')\n"
     ]
    },
    {
     "name": "stdout",
     "output_type": "stream",
     "text": [
      "\n",
      "Get Data for : WSC\n",
      "[*********************100%***********************]  1 of 1 completed\n",
      "Get Data for : WING\n",
      "[*********************100%***********************]  1 of 1 completed\n",
      "Get Data for : WINA\n",
      "[*********************100%***********************]  1 of 1 completed\n",
      "Get Data for : WGO\n",
      "[*********************100%***********************]  1 of 1 completed\n",
      "Get Data for : WTFC\n",
      "[*********************100%***********************]  1 of 1 completed\n",
      "Get Data for : WTT\n",
      "[*********************100%***********************]  1 of 1 completed\n",
      "Get Data for : WETF\n",
      "[*********************100%***********************]  1 of 1 completed"
     ]
    },
    {
     "name": "stderr",
     "output_type": "stream",
     "text": [
      "\n",
      "1 Failed download:\n",
      "['WETF']: Exception('%ticker%: No timezone found, symbol may be delisted')\n"
     ]
    },
    {
     "name": "stdout",
     "output_type": "stream",
     "text": [
      "\n",
      "Get Data for : WWW\n",
      "[*********************100%***********************]  1 of 1 completed\n",
      "Get Data for : WWD\n",
      "[*********************100%***********************]  1 of 1 completed\n",
      "Get Data for : WDAY\n",
      "[*********************100%***********************]  1 of 1 completed\n",
      "Get Data for : WKHS\n",
      "[*********************100%***********************]  1 of 1 completed\n",
      "Get Data for : WK\n",
      "[*********************100%***********************]  1 of 1 completed\n",
      "Get Data for : WRLD\n",
      "[*********************100%***********************]  1 of 1 completed\n",
      "Get Data for : INT\n",
      "[*********************100%***********************]  1 of 1 completed\n",
      "Get Data for : WWE\n",
      "[*********************100%***********************]  1 of 1 completed\n",
      "Get Data for : WOR\n",
      "[*********************100%***********************]  1 of 1 completed\n",
      "Get Data for : WPX\n",
      "[*********************100%***********************]  1 of 1 completed"
     ]
    },
    {
     "name": "stderr",
     "output_type": "stream",
     "text": [
      "\n",
      "1 Failed download:\n",
      "['WPX']: Exception('%ticker%: No timezone found, symbol may be delisted')\n"
     ]
    },
    {
     "name": "stdout",
     "output_type": "stream",
     "text": [
      "\n",
      "Get Data for : WRTC\n",
      "[*********************100%***********************]  1 of 1 completed"
     ]
    },
    {
     "name": "stderr",
     "output_type": "stream",
     "text": [
      "\n",
      "1 Failed download:\n",
      "['WRTC']: Exception('%ticker%: No timezone found, symbol may be delisted')\n"
     ]
    },
    {
     "name": "stdout",
     "output_type": "stream",
     "text": [
      "\n",
      "Get Data for : WMGI\n",
      "[*********************100%***********************]  1 of 1 completed"
     ]
    },
    {
     "name": "stderr",
     "output_type": "stream",
     "text": [
      "\n",
      "1 Failed download:\n",
      "['WMGI']: Exception('%ticker%: No timezone found, symbol may be delisted')\n"
     ]
    },
    {
     "name": "stdout",
     "output_type": "stream",
     "text": [
      "\n",
      "Get Data for : WSFS\n",
      "[*********************100%***********************]  1 of 1 completed\n",
      "Get Data for : WVFC\n",
      "[*********************100%***********************]  1 of 1 completed\n",
      "Get Data for : WW\n",
      "[*********************100%***********************]  1 of 1 completed\n",
      "Get Data for : WYND\n",
      "[*********************100%***********************]  1 of 1 completed"
     ]
    },
    {
     "name": "stderr",
     "output_type": "stream",
     "text": [
      "\n",
      "1 Failed download:\n",
      "['WYND']: Exception('%ticker%: No timezone found, symbol may be delisted')\n"
     ]
    },
    {
     "name": "stdout",
     "output_type": "stream",
     "text": [
      "\n",
      "Get Data for : WH\n",
      "[*********************100%***********************]  1 of 1 completed\n",
      "Get Data for : WYNN\n",
      "[*********************100%***********************]  1 of 1 completed\n",
      "Get Data for : XFOR\n",
      "[*********************100%***********************]  1 of 1 completed\n",
      "Get Data for : XBIT\n",
      "[*********************100%***********************]  1 of 1 completed\n",
      "Get Data for : XELB\n",
      "[*********************100%***********************]  1 of 1 completed\n",
      "Get Data for : XEL\n",
      "[*********************100%***********************]  1 of 1 completed\n",
      "Get Data for : XNCR\n",
      "[*********************100%***********************]  1 of 1 completed\n",
      "Get Data for : XHR\n",
      "[*********************100%***********************]  1 of 1 completed\n",
      "Get Data for : XERS\n",
      "[*********************100%***********************]  1 of 1 completed\n",
      "Get Data for : XRX\n",
      "[*********************100%***********************]  1 of 1 completed\n",
      "Get Data for : XLNX\n",
      "[*********************100%***********************]  1 of 1 completed"
     ]
    },
    {
     "name": "stderr",
     "output_type": "stream",
     "text": [
      "\n",
      "1 Failed download:\n",
      "['XLNX']: Exception('%ticker%: No timezone found, symbol may be delisted')\n"
     ]
    },
    {
     "name": "stdout",
     "output_type": "stream",
     "text": [
      "\n",
      "Get Data for : XOMA\n",
      "[*********************100%***********************]  1 of 1 completed\n",
      "Get Data for : XPER\n",
      "[*********************100%***********************]  1 of 1 completed"
     ]
    },
    {
     "name": "stderr",
     "output_type": "stream",
     "text": [
      "\n",
      "1 Failed download:\n",
      "['XPER']: Exception(\"%ticker%: Data doesn't exist for startDate = 1483246800, endDate = 1629345600\")\n"
     ]
    },
    {
     "name": "stdout",
     "output_type": "stream",
     "text": [
      "\n",
      "Get Data for : XPO\n",
      "[*********************100%***********************]  1 of 1 completed\n",
      "Get Data for : XSPA\n",
      "[*********************100%***********************]  1 of 1 completed"
     ]
    },
    {
     "name": "stderr",
     "output_type": "stream",
     "text": [
      "\n",
      "1 Failed download:\n",
      "['XSPA']: Exception('%ticker%: No timezone found, symbol may be delisted')\n"
     ]
    },
    {
     "name": "stdout",
     "output_type": "stream",
     "text": [
      "\n",
      "Get Data for : XTNT\n",
      "[*********************100%***********************]  1 of 1 completed\n",
      "Get Data for : XYL\n",
      "[*********************100%***********************]  1 of 1 completed\n",
      "Get Data for : YELP\n",
      "[*********************100%***********************]  1 of 1 completed\n",
      "Get Data for : YETI\n",
      "[*********************100%***********************]  1 of 1 completed\n",
      "Get Data for : YEXT\n",
      "[*********************100%***********************]  1 of 1 completed\n",
      "Get Data for : YTEN\n",
      "[*********************100%***********************]  1 of 1 completed\n",
      "Get Data for : YMAB\n",
      "[*********************100%***********************]  1 of 1 completed\n",
      "Get Data for : YORW\n",
      "[*********************100%***********************]  1 of 1 completed\n",
      "Get Data for : YRCW\n",
      "[*********************100%***********************]  1 of 1 completed"
     ]
    },
    {
     "name": "stderr",
     "output_type": "stream",
     "text": [
      "\n",
      "1 Failed download:\n",
      "['YRCW']: Exception('%ticker%: No timezone found, symbol may be delisted')\n"
     ]
    },
    {
     "name": "stdout",
     "output_type": "stream",
     "text": [
      "\n",
      "Get Data for : YUM\n",
      "[*********************100%***********************]  1 of 1 completed\n",
      "Get Data for : YUMA\n",
      "[*********************100%***********************]  1 of 1 completed"
     ]
    },
    {
     "name": "stderr",
     "output_type": "stream",
     "text": [
      "\n",
      "1 Failed download:\n",
      "['YUMA']: Exception('%ticker%: No timezone found, symbol may be delisted')\n"
     ]
    },
    {
     "name": "stdout",
     "output_type": "stream",
     "text": [
      "\n",
      "Get Data for : CTIB\n",
      "[*********************100%***********************]  1 of 1 completed\n",
      "Get Data for : ZFGN\n",
      "[*********************100%***********************]  1 of 1 completed"
     ]
    },
    {
     "name": "stderr",
     "output_type": "stream",
     "text": [
      "\n",
      "1 Failed download:\n",
      "['ZFGN']: Exception('%ticker%: No timezone found, symbol may be delisted')\n"
     ]
    },
    {
     "name": "stdout",
     "output_type": "stream",
     "text": [
      "\n",
      "Get Data for : ZAGG\n",
      "[*********************100%***********************]  1 of 1 completed"
     ]
    },
    {
     "name": "stderr",
     "output_type": "stream",
     "text": [
      "\n",
      "1 Failed download:\n",
      "['ZAGG']: Exception('%ticker%: No timezone found, symbol may be delisted')\n"
     ]
    },
    {
     "name": "stdout",
     "output_type": "stream",
     "text": [
      "\n",
      "Get Data for : ZAYO\n",
      "[*********************100%***********************]  1 of 1 completed"
     ]
    },
    {
     "name": "stderr",
     "output_type": "stream",
     "text": [
      "\n",
      "1 Failed download:\n",
      "['ZAYO']: Exception('%ticker%: No timezone found, symbol may be delisted')\n"
     ]
    },
    {
     "name": "stdout",
     "output_type": "stream",
     "text": [
      "\n",
      "Get Data for : ZBRA\n",
      "[*********************100%***********************]  1 of 1 completed\n",
      "Get Data for : ZDGE\n",
      "[*********************100%***********************]  1 of 1 completed\n",
      "Get Data for : ZEN\n",
      "[*********************100%***********************]  1 of 1 completed"
     ]
    },
    {
     "name": "stderr",
     "output_type": "stream",
     "text": [
      "\n",
      "1 Failed download:\n",
      "['ZEN']: Exception('%ticker%: No timezone found, symbol may be delisted')\n"
     ]
    },
    {
     "name": "stdout",
     "output_type": "stream",
     "text": [
      "\n",
      "Get Data for : Z\n",
      "[*********************100%***********************]  1 of 1 completed\n",
      "Get Data for : ZG\n",
      "[*********************100%***********************]  1 of 1 completed\n",
      "Get Data for : ZBH\n",
      "[*********************100%***********************]  1 of 1 completed\n",
      "Get Data for : ZN\n",
      "[*********************100%***********************]  1 of 1 completed"
     ]
    },
    {
     "name": "stderr",
     "output_type": "stream",
     "text": [
      "\n",
      "1 Failed download:\n",
      "['ZN']: Exception('%ticker%: No timezone found, symbol may be delisted')\n"
     ]
    },
    {
     "name": "stdout",
     "output_type": "stream",
     "text": [
      "\n",
      "Get Data for : ZION\n",
      "[*********************100%***********************]  1 of 1 completed\n",
      "Get Data for : ZIOP\n",
      "[*********************100%***********************]  1 of 1 completed"
     ]
    },
    {
     "name": "stderr",
     "output_type": "stream",
     "text": [
      "\n",
      "1 Failed download:\n",
      "['ZIOP']: Exception('%ticker%: No timezone found, symbol may be delisted')\n"
     ]
    },
    {
     "name": "stdout",
     "output_type": "stream",
     "text": [
      "\n",
      "Get Data for : ZIXI\n",
      "[*********************100%***********************]  1 of 1 completed"
     ]
    },
    {
     "name": "stderr",
     "output_type": "stream",
     "text": [
      "\n",
      "1 Failed download:\n",
      "['ZIXI']: Exception('%ticker%: No timezone found, symbol may be delisted')\n"
     ]
    },
    {
     "name": "stdout",
     "output_type": "stream",
     "text": [
      "\n",
      "Get Data for : ZTS\n",
      "[*********************100%***********************]  1 of 1 completed\n",
      "Get Data for : ZGNX\n",
      "[*********************100%***********************]  1 of 1 completed"
     ]
    },
    {
     "name": "stderr",
     "output_type": "stream",
     "text": [
      "\n",
      "1 Failed download:\n"
     ]
    },
    {
     "name": "stdout",
     "output_type": "stream",
     "text": [
      "\n"
     ]
    },
    {
     "name": "stderr",
     "output_type": "stream",
     "text": [
      "['ZGNX']: Exception('%ticker%: No timezone found, symbol may be delisted')\n"
     ]
    },
    {
     "name": "stdout",
     "output_type": "stream",
     "text": [
      "Get Data for : ZM\n",
      "[*********************100%***********************]  1 of 1 completed\n",
      "Get Data for : ZSAN\n",
      "[*********************100%***********************]  1 of 1 completed"
     ]
    },
    {
     "name": "stderr",
     "output_type": "stream",
     "text": [
      "\n",
      "1 Failed download:\n",
      "['ZSAN']: Exception('%ticker%: No timezone found, symbol may be delisted')\n"
     ]
    },
    {
     "name": "stdout",
     "output_type": "stream",
     "text": [
      "\n",
      "Get Data for : ZVO\n",
      "[*********************100%***********************]  1 of 1 completed"
     ]
    },
    {
     "name": "stderr",
     "output_type": "stream",
     "text": [
      "\n",
      "1 Failed download:\n",
      "['ZVO']: Exception('%ticker%: No timezone found, symbol may be delisted')\n"
     ]
    },
    {
     "name": "stdout",
     "output_type": "stream",
     "text": [
      "\n",
      "Get Data for : ZS\n",
      "[*********************100%***********************]  1 of 1 completed\n",
      "Get Data for : ZUMZ\n",
      "[*********************100%***********************]  1 of 1 completed\n",
      "Get Data for : ZUO\n",
      "[*********************100%***********************]  1 of 1 completed\n",
      "Get Data for : ZYNE\n",
      "[*********************100%***********************]  1 of 1 completed\n",
      "Get Data for : ZYXI\n",
      "[*********************100%***********************]  1 of 1 completed\n",
      "Get Data for : ZNGA\n",
      "[*********************100%***********************]  1 of 1 completed"
     ]
    },
    {
     "name": "stderr",
     "output_type": "stream",
     "text": [
      "\n",
      "1 Failed download:\n",
      "['ZNGA']: Exception('%ticker%: No timezone found, symbol may be delisted')\n"
     ]
    },
    {
     "name": "stdout",
     "output_type": "stream",
     "text": [
      "\n",
      "Finished\n"
     ]
    }
   ],
   "source": [
    "#Download stocks in blocks of 500\n",
    "for x in range(500,len(tickers)):\n",
    "    save_to_csv_from_yahoo(folder, tickers[x],2017, 1,1, 2021,8,19)\n",
    "print(\"Finished\")"
   ]
  },
  {
   "cell_type": "code",
   "execution_count": 41,
   "metadata": {},
   "outputs": [
    {
     "name": "stdout",
     "output_type": "stream",
     "text": [
      "Finished\n"
     ]
    },
    {
     "data": {
      "text/plain": [
       "[]"
      ]
     },
     "execution_count": 41,
     "metadata": {},
     "output_type": "execute_result"
    }
   ],
   "source": [
    "for x in missing_stocks:\n",
    "    save_to_csv_from_yahoo(folder, x, 2017,1,1,2021,8,19)\n",
    "\n",
    "print(\"Finished\")\n",
    "stocks_not_downloaded"
   ]
  },
  {
   "cell_type": "code",
   "execution_count": null,
   "metadata": {},
   "outputs": [],
   "source": []
  }
 ],
 "metadata": {
  "kernelspec": {
   "display_name": "Python 3",
   "language": "python",
   "name": "python3"
  },
  "language_info": {
   "codemirror_mode": {
    "name": "ipython",
    "version": 3
   },
   "file_extension": ".py",
   "mimetype": "text/x-python",
   "name": "python",
   "nbconvert_exporter": "python",
   "pygments_lexer": "ipython3",
   "version": "3.11.4"
  },
  "orig_nbformat": 4
 },
 "nbformat": 4,
 "nbformat_minor": 2
}
