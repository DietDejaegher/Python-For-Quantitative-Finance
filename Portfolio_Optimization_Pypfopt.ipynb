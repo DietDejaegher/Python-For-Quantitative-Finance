{
 "cells": [
  {
   "cell_type": "code",
   "execution_count": 4,
   "metadata": {},
   "outputs": [],
   "source": [
    "import numpy as np\n",
    "import pandas as pd\n",
    "import yfinance as yf\n",
    "import matplotlib.pyplot as plt\n",
    "import requests\n",
    "import matplotlib.dates as mdates\n",
    "%matplotlib inline\n",
    "\n",
    "import datetime as dt\n",
    "import mplfinance as mpf\n",
    "\n",
    "import time\n",
    "\n",
    "import os\n",
    "from os import listdir\n",
    "from os.path import isfile, join\n",
    "\n",
    "import statsmodels.api as sm\n",
    "import seaborn as sns\n",
    "\n",
    "from statsmodels.tsa.ar_model import AutoReg, ar_select_order"
   ]
  },
  {
   "cell_type": "code",
   "execution_count": 2,
   "metadata": {},
   "outputs": [
    {
     "name": "stdout",
     "output_type": "stream",
     "text": [
      "Collecting mplfinance\n",
      "  Obtaining dependency information for mplfinance from https://files.pythonhosted.org/packages/d7/d9/31c436ea7673c21a5bf3fc747bc7f63377582dfe845c3004d3e46f9deee0/mplfinance-0.12.10b0-py3-none-any.whl.metadata\n",
      "  Downloading mplfinance-0.12.10b0-py3-none-any.whl.metadata (19 kB)\n",
      "Requirement already satisfied: matplotlib in c:\\users\\dietd\\anaconda_3\\lib\\site-packages (from mplfinance) (3.7.1)\n",
      "Requirement already satisfied: pandas in c:\\users\\dietd\\anaconda_3\\lib\\site-packages (from mplfinance) (2.2.3)\n",
      "Requirement already satisfied: contourpy>=1.0.1 in c:\\users\\dietd\\anaconda_3\\lib\\site-packages (from matplotlib->mplfinance) (1.0.5)\n",
      "Requirement already satisfied: cycler>=0.10 in c:\\users\\dietd\\anaconda_3\\lib\\site-packages (from matplotlib->mplfinance) (0.11.0)\n",
      "Requirement already satisfied: fonttools>=4.22.0 in c:\\users\\dietd\\anaconda_3\\lib\\site-packages (from matplotlib->mplfinance) (4.25.0)\n",
      "Requirement already satisfied: kiwisolver>=1.0.1 in c:\\users\\dietd\\anaconda_3\\lib\\site-packages (from matplotlib->mplfinance) (1.4.4)\n",
      "Requirement already satisfied: numpy>=1.20 in c:\\users\\dietd\\anaconda_3\\lib\\site-packages (from matplotlib->mplfinance) (1.24.3)\n",
      "Requirement already satisfied: packaging>=20.0 in c:\\users\\dietd\\anaconda_3\\lib\\site-packages (from matplotlib->mplfinance) (23.0)\n",
      "Requirement already satisfied: pillow>=6.2.0 in c:\\users\\dietd\\anaconda_3\\lib\\site-packages (from matplotlib->mplfinance) (9.4.0)\n",
      "Requirement already satisfied: pyparsing>=2.3.1 in c:\\users\\dietd\\anaconda_3\\lib\\site-packages (from matplotlib->mplfinance) (3.0.9)\n",
      "Requirement already satisfied: python-dateutil>=2.7 in c:\\users\\dietd\\anaconda_3\\lib\\site-packages (from matplotlib->mplfinance) (2.8.2)\n",
      "Requirement already satisfied: pytz>=2020.1 in c:\\users\\dietd\\anaconda_3\\lib\\site-packages (from pandas->mplfinance) (2022.7)\n",
      "Requirement already satisfied: tzdata>=2022.7 in c:\\users\\dietd\\anaconda_3\\lib\\site-packages (from pandas->mplfinance) (2024.2)\n",
      "Requirement already satisfied: six>=1.5 in c:\\users\\dietd\\anaconda_3\\lib\\site-packages (from python-dateutil>=2.7->matplotlib->mplfinance) (1.16.0)\n",
      "Downloading mplfinance-0.12.10b0-py3-none-any.whl (75 kB)\n",
      "   ---------------------------------------- 0.0/75.0 kB ? eta -:--:--\n",
      "   ---------------------------------------- 75.0/75.0 kB 4.0 MB/s eta 0:00:00\n",
      "Installing collected packages: mplfinance\n",
      "Successfully installed mplfinance-0.12.10b0\n",
      "Note: you may need to restart the kernel to use updated packages.\n"
     ]
    }
   ],
   "source": [
    "pip install mplfinance"
   ]
  },
  {
   "cell_type": "code",
   "execution_count": 3,
   "metadata": {},
   "outputs": [
    {
     "name": "stdout",
     "output_type": "stream",
     "text": [
      "Requirement already satisfied: PyPortfolioOpt in c:\\users\\dietd\\anaconda_3\\lib\\site-packages (1.5.5)\n",
      "Requirement already satisfied: cvxpy<2.0.0,>=1.1.19 in c:\\users\\dietd\\anaconda_3\\lib\\site-packages (from PyPortfolioOpt) (1.3.2)\n",
      "Requirement already satisfied: numpy<2.0.0,>=1.22.4 in c:\\users\\dietd\\anaconda_3\\lib\\site-packages (from PyPortfolioOpt) (1.24.3)\n",
      "Requirement already satisfied: pandas>=0.19 in c:\\users\\dietd\\anaconda_3\\lib\\site-packages (from PyPortfolioOpt) (2.2.3)\n",
      "Requirement already satisfied: scipy<2.0,>=1.3 in c:\\users\\dietd\\anaconda_3\\lib\\site-packages (from PyPortfolioOpt) (1.10.1)\n",
      "Requirement already satisfied: osqp>=0.4.1 in c:\\users\\dietd\\anaconda_3\\lib\\site-packages (from cvxpy<2.0.0,>=1.1.19->PyPortfolioOpt) (0.6.3)\n",
      "Requirement already satisfied: ecos>=2 in c:\\users\\dietd\\anaconda_3\\lib\\site-packages (from cvxpy<2.0.0,>=1.1.19->PyPortfolioOpt) (2.0.12)\n",
      "Requirement already satisfied: scs>=1.1.6 in c:\\users\\dietd\\anaconda_3\\lib\\site-packages (from cvxpy<2.0.0,>=1.1.19->PyPortfolioOpt) (3.2.3)\n",
      "Requirement already satisfied: setuptools>65.5.1 in c:\\users\\dietd\\anaconda_3\\lib\\site-packages (from cvxpy<2.0.0,>=1.1.19->PyPortfolioOpt) (68.0.0)\n",
      "Requirement already satisfied: python-dateutil>=2.8.2 in c:\\users\\dietd\\anaconda_3\\lib\\site-packages (from pandas>=0.19->PyPortfolioOpt) (2.8.2)\n",
      "Requirement already satisfied: pytz>=2020.1 in c:\\users\\dietd\\anaconda_3\\lib\\site-packages (from pandas>=0.19->PyPortfolioOpt) (2022.7)\n",
      "Requirement already satisfied: tzdata>=2022.7 in c:\\users\\dietd\\anaconda_3\\lib\\site-packages (from pandas>=0.19->PyPortfolioOpt) (2024.2)\n",
      "Requirement already satisfied: qdldl in c:\\users\\dietd\\anaconda_3\\lib\\site-packages (from osqp>=0.4.1->cvxpy<2.0.0,>=1.1.19->PyPortfolioOpt) (0.1.7.post0)\n",
      "Requirement already satisfied: six>=1.5 in c:\\users\\dietd\\anaconda_3\\lib\\site-packages (from python-dateutil>=2.8.2->pandas>=0.19->PyPortfolioOpt) (1.16.0)\n",
      "Note: you may need to restart the kernel to use updated packages.\n"
     ]
    }
   ],
   "source": [
    "pip install PyPortfolioOpt"
   ]
  },
  {
   "cell_type": "code",
   "execution_count": 5,
   "metadata": {},
   "outputs": [],
   "source": [
    "from pypfopt.efficient_frontier import EfficientFrontier\n",
    "from pypfopt import risk_models\n",
    "from pypfopt import expected_returns\n"
   ]
  },
  {
   "cell_type": "code",
   "execution_count": 6,
   "metadata": {},
   "outputs": [
    {
     "name": "stdout",
     "output_type": "stream",
     "text": [
      "Start date:  2020-01-02\n",
      "Today's date:  2024-09-24\n"
     ]
    }
   ],
   "source": [
    "#Some Defatult Values\n",
    "PATH = \"C:/Users/dietd/Untitled Folder/Python for Finance/Financial Data/Stock Data/\"\n",
    "start_date = \"2020-01-02\"\n",
    "today = dt.datetime.today().strftime(\"%Y-%m-%d\")\n",
    "print(\"Start date: \",start_date)\n",
    "print(\"Today's date: \", today)"
   ]
  },
  {
   "cell_type": "code",
   "execution_count": 7,
   "metadata": {},
   "outputs": [
    {
     "data": {
      "text/html": [
       "<div>\n",
       "<style scoped>\n",
       "    .dataframe tbody tr th:only-of-type {\n",
       "        vertical-align: middle;\n",
       "    }\n",
       "\n",
       "    .dataframe tbody tr th {\n",
       "        vertical-align: top;\n",
       "    }\n",
       "\n",
       "    .dataframe thead th {\n",
       "        text-align: right;\n",
       "    }\n",
       "</style>\n",
       "<table border=\"1\" class=\"dataframe\">\n",
       "  <thead>\n",
       "    <tr style=\"text-align: right;\">\n",
       "      <th></th>\n",
       "      <th>ACT Symbol</th>\n",
       "      <th>Company Name</th>\n",
       "    </tr>\n",
       "  </thead>\n",
       "  <tbody>\n",
       "    <tr>\n",
       "      <th>0</th>\n",
       "      <td>A</td>\n",
       "      <td>Agilent Technologies, Inc. Common Stock</td>\n",
       "    </tr>\n",
       "    <tr>\n",
       "      <th>1</th>\n",
       "      <td>AA</td>\n",
       "      <td>Alcoa Inc. Common Stock</td>\n",
       "    </tr>\n",
       "    <tr>\n",
       "      <th>2</th>\n",
       "      <td>AA$B</td>\n",
       "      <td>Alcoa Inc. Depository Shares Representing 1/10...</td>\n",
       "    </tr>\n",
       "    <tr>\n",
       "      <th>3</th>\n",
       "      <td>AAC</td>\n",
       "      <td>AAC Holdings, Inc. Common Stock</td>\n",
       "    </tr>\n",
       "    <tr>\n",
       "      <th>4</th>\n",
       "      <td>AAN</td>\n",
       "      <td>Aaron's, Inc. Common Stock</td>\n",
       "    </tr>\n",
       "    <tr>\n",
       "      <th>5</th>\n",
       "      <td>AAP</td>\n",
       "      <td>Advance Auto Parts Inc Advance Auto Parts Inc W/I</td>\n",
       "    </tr>\n",
       "    <tr>\n",
       "      <th>6</th>\n",
       "      <td>AAT</td>\n",
       "      <td>American Assets Trust, Inc. Common Stock</td>\n",
       "    </tr>\n",
       "    <tr>\n",
       "      <th>7</th>\n",
       "      <td>AAV</td>\n",
       "      <td>Advantage Oil &amp; Gas Ltd  Ordinary Shares</td>\n",
       "    </tr>\n",
       "    <tr>\n",
       "      <th>8</th>\n",
       "      <td>AB</td>\n",
       "      <td>Allianceberstein Holding L.P.  Units</td>\n",
       "    </tr>\n",
       "    <tr>\n",
       "      <th>9</th>\n",
       "      <td>ABB</td>\n",
       "      <td>ABB Ltd Common Stock</td>\n",
       "    </tr>\n",
       "    <tr>\n",
       "      <th>10</th>\n",
       "      <td>ABBV</td>\n",
       "      <td>AbbVie Inc. Common Stock</td>\n",
       "    </tr>\n",
       "    <tr>\n",
       "      <th>11</th>\n",
       "      <td>ABC</td>\n",
       "      <td>AmerisourceBergen Corporation (Holding Co) Com...</td>\n",
       "    </tr>\n",
       "    <tr>\n",
       "      <th>12</th>\n",
       "      <td>ABEV</td>\n",
       "      <td>Ambev S.A. American Depositary Shares (Each re...</td>\n",
       "    </tr>\n",
       "    <tr>\n",
       "      <th>13</th>\n",
       "      <td>ABG</td>\n",
       "      <td>Asbury Automotive Group Inc Common Stock</td>\n",
       "    </tr>\n",
       "    <tr>\n",
       "      <th>14</th>\n",
       "      <td>ABM</td>\n",
       "      <td>ABM Industries Incorporated Common Stock</td>\n",
       "    </tr>\n",
       "    <tr>\n",
       "      <th>15</th>\n",
       "      <td>ABR</td>\n",
       "      <td>Arbor Realty Trust Common Stock</td>\n",
       "    </tr>\n",
       "    <tr>\n",
       "      <th>16</th>\n",
       "      <td>ABR$A</td>\n",
       "      <td>Arbor Realty Trust Preferred Series A</td>\n",
       "    </tr>\n",
       "    <tr>\n",
       "      <th>17</th>\n",
       "      <td>ABR$B</td>\n",
       "      <td>Arbor Realty Trust Cumulative Redeemable Prefe...</td>\n",
       "    </tr>\n",
       "    <tr>\n",
       "      <th>18</th>\n",
       "      <td>ABR$C</td>\n",
       "      <td>Arbor Realty Trust Cumulative Redeemable Prefe...</td>\n",
       "    </tr>\n",
       "    <tr>\n",
       "      <th>19</th>\n",
       "      <td>ABRN</td>\n",
       "      <td>Arbor Realty Trust 7.375% Senior Notes due 2021</td>\n",
       "    </tr>\n",
       "    <tr>\n",
       "      <th>20</th>\n",
       "      <td>ABT</td>\n",
       "      <td>Abbott Laboratories Common Stock</td>\n",
       "    </tr>\n",
       "    <tr>\n",
       "      <th>21</th>\n",
       "      <td>ABX</td>\n",
       "      <td>Barrick Gold Corporation Common Stock</td>\n",
       "    </tr>\n",
       "    <tr>\n",
       "      <th>22</th>\n",
       "      <td>ACC</td>\n",
       "      <td>American Campus Communities Inc Common Stock</td>\n",
       "    </tr>\n",
       "    <tr>\n",
       "      <th>23</th>\n",
       "      <td>ACCO</td>\n",
       "      <td>Acco Brands Corporation Common Stock</td>\n",
       "    </tr>\n",
       "    <tr>\n",
       "      <th>24</th>\n",
       "      <td>ACE</td>\n",
       "      <td>Ace Limited Common Stock</td>\n",
       "    </tr>\n",
       "    <tr>\n",
       "      <th>25</th>\n",
       "      <td>ACG</td>\n",
       "      <td>Alliancebernstein Income Fund</td>\n",
       "    </tr>\n",
       "    <tr>\n",
       "      <th>26</th>\n",
       "      <td>ACH</td>\n",
       "      <td>Aluminum Corporation of China Limited American...</td>\n",
       "    </tr>\n",
       "    <tr>\n",
       "      <th>27</th>\n",
       "      <td>ACI</td>\n",
       "      <td>Arch Coal, Inc. Common Stock</td>\n",
       "    </tr>\n",
       "    <tr>\n",
       "      <th>28</th>\n",
       "      <td>ACM</td>\n",
       "      <td>AECOM Common Stock</td>\n",
       "    </tr>\n",
       "    <tr>\n",
       "      <th>29</th>\n",
       "      <td>ACMP</td>\n",
       "      <td>Access Midstream Partners, L.P. Common Units R...</td>\n",
       "    </tr>\n",
       "    <tr>\n",
       "      <th>30</th>\n",
       "      <td>ACN</td>\n",
       "      <td>Accenture plc. Class A Ordinary Shares (Ireland)</td>\n",
       "    </tr>\n",
       "    <tr>\n",
       "      <th>31</th>\n",
       "      <td>ACP</td>\n",
       "      <td>Avenue Income Credit Strategies Fund Common Sh...</td>\n",
       "    </tr>\n",
       "    <tr>\n",
       "      <th>32</th>\n",
       "      <td>ACRE</td>\n",
       "      <td>Ares Commercial Real Estate Corporation Common...</td>\n",
       "    </tr>\n",
       "    <tr>\n",
       "      <th>33</th>\n",
       "      <td>ACT</td>\n",
       "      <td>Actavis plc Ordinary Shares</td>\n",
       "    </tr>\n",
       "    <tr>\n",
       "      <th>34</th>\n",
       "      <td>ACW</td>\n",
       "      <td>Accuride Corporation Common Stock</td>\n",
       "    </tr>\n",
       "    <tr>\n",
       "      <th>35</th>\n",
       "      <td>ADC</td>\n",
       "      <td>Agree Realty Corporation Common Stock</td>\n",
       "    </tr>\n",
       "    <tr>\n",
       "      <th>36</th>\n",
       "      <td>ADM</td>\n",
       "      <td>Archer</td>\n",
       "    </tr>\n",
       "    <tr>\n",
       "      <th>37</th>\n",
       "      <td>ADPT</td>\n",
       "      <td>Adeptus Health Inc. Common Stock</td>\n",
       "    </tr>\n",
       "    <tr>\n",
       "      <th>38</th>\n",
       "      <td>ADS</td>\n",
       "      <td>Alliance Data Systems Corporation Common Stock</td>\n",
       "    </tr>\n",
       "    <tr>\n",
       "      <th>39</th>\n",
       "      <td>ADT</td>\n",
       "      <td>ADT Corporation Common Stock</td>\n",
       "    </tr>\n",
       "    <tr>\n",
       "      <th>40</th>\n",
       "      <td>ADX</td>\n",
       "      <td>Adams Express Company (The)</td>\n",
       "    </tr>\n",
       "    <tr>\n",
       "      <th>41</th>\n",
       "      <td>AEB</td>\n",
       "      <td>AEGON N.V. Perp. Cap. Secs. Floating Rate (Net...</td>\n",
       "    </tr>\n",
       "    <tr>\n",
       "      <th>42</th>\n",
       "      <td>AEC</td>\n",
       "      <td>Associated Estates Realty Corporation Common S...</td>\n",
       "    </tr>\n",
       "    <tr>\n",
       "      <th>43</th>\n",
       "      <td>AED</td>\n",
       "      <td>AEGON N.V. Perp. Cap. Securities (Netherlands)</td>\n",
       "    </tr>\n",
       "    <tr>\n",
       "      <th>44</th>\n",
       "      <td>AEE</td>\n",
       "      <td>Ameren Corporation Common Stock</td>\n",
       "    </tr>\n",
       "    <tr>\n",
       "      <th>45</th>\n",
       "      <td>AEG</td>\n",
       "      <td>AEGON N.V. Common Stock</td>\n",
       "    </tr>\n",
       "    <tr>\n",
       "      <th>46</th>\n",
       "      <td>AEH</td>\n",
       "      <td>AEGON N.V. Perp. Cap Secs.</td>\n",
       "    </tr>\n",
       "    <tr>\n",
       "      <th>47</th>\n",
       "      <td>AEK</td>\n",
       "      <td>Aegon NV 8.00% Non</td>\n",
       "    </tr>\n",
       "    <tr>\n",
       "      <th>48</th>\n",
       "      <td>AEL</td>\n",
       "      <td>American Equity Investment Life Holding Compan...</td>\n",
       "    </tr>\n",
       "    <tr>\n",
       "      <th>49</th>\n",
       "      <td>AEM</td>\n",
       "      <td>Agnico Eagle Mines Limited Common Stock</td>\n",
       "    </tr>\n",
       "  </tbody>\n",
       "</table>\n",
       "</div>"
      ],
      "text/plain": [
       "   ACT Symbol                                       Company Name\n",
       "0           A            Agilent Technologies, Inc. Common Stock\n",
       "1          AA                            Alcoa Inc. Common Stock\n",
       "2        AA$B  Alcoa Inc. Depository Shares Representing 1/10...\n",
       "3         AAC                    AAC Holdings, Inc. Common Stock\n",
       "4         AAN                         Aaron's, Inc. Common Stock\n",
       "5         AAP  Advance Auto Parts Inc Advance Auto Parts Inc W/I\n",
       "6         AAT           American Assets Trust, Inc. Common Stock\n",
       "7         AAV           Advantage Oil & Gas Ltd  Ordinary Shares\n",
       "8          AB               Allianceberstein Holding L.P.  Units\n",
       "9         ABB                               ABB Ltd Common Stock\n",
       "10       ABBV                           AbbVie Inc. Common Stock\n",
       "11        ABC  AmerisourceBergen Corporation (Holding Co) Com...\n",
       "12       ABEV  Ambev S.A. American Depositary Shares (Each re...\n",
       "13        ABG           Asbury Automotive Group Inc Common Stock\n",
       "14        ABM           ABM Industries Incorporated Common Stock\n",
       "15        ABR                    Arbor Realty Trust Common Stock\n",
       "16      ABR$A              Arbor Realty Trust Preferred Series A\n",
       "17      ABR$B  Arbor Realty Trust Cumulative Redeemable Prefe...\n",
       "18      ABR$C  Arbor Realty Trust Cumulative Redeemable Prefe...\n",
       "19       ABRN    Arbor Realty Trust 7.375% Senior Notes due 2021\n",
       "20        ABT                   Abbott Laboratories Common Stock\n",
       "21        ABX              Barrick Gold Corporation Common Stock\n",
       "22        ACC       American Campus Communities Inc Common Stock\n",
       "23       ACCO               Acco Brands Corporation Common Stock\n",
       "24        ACE                           Ace Limited Common Stock\n",
       "25        ACG                      Alliancebernstein Income Fund\n",
       "26        ACH  Aluminum Corporation of China Limited American...\n",
       "27        ACI                       Arch Coal, Inc. Common Stock\n",
       "28        ACM                                 AECOM Common Stock\n",
       "29       ACMP  Access Midstream Partners, L.P. Common Units R...\n",
       "30        ACN   Accenture plc. Class A Ordinary Shares (Ireland)\n",
       "31        ACP  Avenue Income Credit Strategies Fund Common Sh...\n",
       "32       ACRE  Ares Commercial Real Estate Corporation Common...\n",
       "33        ACT                        Actavis plc Ordinary Shares\n",
       "34        ACW                  Accuride Corporation Common Stock\n",
       "35        ADC              Agree Realty Corporation Common Stock\n",
       "36        ADM                                             Archer\n",
       "37       ADPT                   Adeptus Health Inc. Common Stock\n",
       "38        ADS     Alliance Data Systems Corporation Common Stock\n",
       "39        ADT                       ADT Corporation Common Stock\n",
       "40        ADX                        Adams Express Company (The)\n",
       "41        AEB  AEGON N.V. Perp. Cap. Secs. Floating Rate (Net...\n",
       "42        AEC  Associated Estates Realty Corporation Common S...\n",
       "43        AED     AEGON N.V. Perp. Cap. Securities (Netherlands)\n",
       "44        AEE                    Ameren Corporation Common Stock\n",
       "45        AEG                            AEGON N.V. Common Stock\n",
       "46        AEH                         AEGON N.V. Perp. Cap Secs.\n",
       "47        AEK                                 Aegon NV 8.00% Non\n",
       "48        AEL  American Equity Investment Life Holding Compan...\n",
       "49        AEM            Agnico Eagle Mines Limited Common Stock"
      ]
     },
     "execution_count": 7,
     "metadata": {},
     "output_type": "execute_result"
    }
   ],
   "source": [
    "NYSE_df = pd.read_csv(\"NYSE_listed.csv\")\n",
    "NYSE_df.head(50)"
   ]
  },
  {
   "cell_type": "code",
   "execution_count": 8,
   "metadata": {},
   "outputs": [
    {
     "name": "stdout",
     "output_type": "stream",
     "text": [
      "7\n"
     ]
    }
   ],
   "source": [
    "NYSE_tickers = NYSE_df[\"ACT Symbol\"]\n",
    "NYSE_tickers\n",
    "NYSE_tickers_short = NYSE_tickers[100::500]\n",
    "stocks_not_downloaded = []\n",
    "own_tickers = [\"META\", \"AAPL\", \"NFLX\", \"TSLA\", \"AMZN\", \"GOOG\", \"AMD\", \"^GSPC\"]\n",
    "print(len(NYSE_tickers_short))"
   ]
  },
  {
   "cell_type": "code",
   "execution_count": 9,
   "metadata": {},
   "outputs": [],
   "source": [
    "beursrally_tickers = pd.read_csv('BeursRally_Stock.csv')\n",
    "euronext_brussels = pd.read_csv('EuronextBrussel.csv')\n",
    "#display(beursrally_tickers['Company Name'][0])\n",
    "#display(euronext_brussels['Name'])\n",
    "beursrally_brussel = []\n",
    "for name in beursrally_tickers['Company Name']:\n",
    "    if name in list(euronext_brussels['Name']):\n",
    "        index = list(euronext_brussels['Name']).index(name)\n",
    "        beursrally_brussel.append(euronext_brussels.loc[index, 'Symbol'])\n",
    "\n",
    "#display(beursrally_brussel)"
   ]
  },
  {
   "cell_type": "code",
   "execution_count": 10,
   "metadata": {},
   "outputs": [],
   "source": [
    "euronext_amsterdam = pd.read_csv('Amsterdam.csv')\n",
    "beursrally_amsterdam = []\n",
    "for name in beursrally_tickers['Company Name']:\n",
    "    if name in list(euronext_amsterdam['Name']):\n",
    "        index = list(euronext_amsterdam['Name']).index(name)\n",
    "        beursrally_amsterdam.append(euronext_amsterdam.loc[index, 'Symbol'])\n"
   ]
  },
  {
   "cell_type": "code",
   "execution_count": 11,
   "metadata": {},
   "outputs": [
    {
     "data": {
      "text/plain": [
       "['A. O. Smith Corporation',\n",
       " 'A10 Networks, Inc.',\n",
       " 'AAC Holdings Inc.',\n",
       " 'AAR Corporation',\n",
       " \"Aaron's Inc.\",\n",
       " 'ABB LTD.',\n",
       " 'Abbott Laboratories',\n",
       " 'AbbVie Inc.',\n",
       " 'Abercrombie & Fitch',\n",
       " 'Aberdeen Greater China Fund, Inc.',\n",
       " 'Aberdeen Japan Equity Fund, Inc.',\n",
       " 'Aberdeen Singapore Fund, Inc.',\n",
       " 'ABM Industries Incorporated',\n",
       " 'Acadia Realty Trust',\n",
       " 'Accenture plc',\n",
       " 'ACCO Brands Corporation',\n",
       " 'Acorn International, Inc.',\n",
       " 'Actuant Corporation',\n",
       " 'Acushnet Holdings Corp.',\n",
       " 'Acuity Brands, Inc.',\n",
       " 'Adams Express Company',\n",
       " 'Adecoagro S.A.',\n",
       " 'Adeptus Health Inc.',\n",
       " 'Adient Plc',\n",
       " 'Advance Auto Parts, Inc.',\n",
       " 'Advanced Disposal Services Inc.',\n",
       " 'Advanced Drainage Systems Inc.',\n",
       " 'Advanced Semiconductor Engineering, Inc.',\n",
       " 'AdvancePierre Food Holdings Inc.',\n",
       " 'AdvanSix Inc.',\n",
       " 'Advantage Oil & Gas Ltd.',\n",
       " 'Advent Claymore Convertible Securities and Income Fund',\n",
       " 'Advent Claymore Convertible Securities and Income Fund II',\n",
       " 'Advent Claymore Enhanced Growth & Income Fund',\n",
       " 'AECOM Technology Corporation',\n",
       " 'Aegean Marine Petroleum Network Inc.',\n",
       " 'Aegon N.V.',\n",
       " 'Aegon N.V.',\n",
       " 'Aegon N.V.',\n",
       " 'Aegon N.V.',\n",
       " 'Aegon N.V.',\n",
       " 'AerCap Holdings N.V.',\n",
       " 'Aerohive Networks, Inc.',\n",
       " 'Aerojet Rocketdyne Holdings Inc.',\n",
       " 'The AES Corporation',\n",
       " 'AES Trust III',\n",
       " 'Aetna Inc.',\n",
       " 'Affiliated Managers Group',\n",
       " 'Affiliated Managers Group',\n",
       " 'AFLAC Incorporated',\n",
       " 'AFLAC Incorporated',\n",
       " 'AG Mortgage Investment Trust, Inc.',\n",
       " 'AG Mortgage Investment Trust, Inc.',\n",
       " 'AG Mortgage Investment Trust, Inc.',\n",
       " 'Agco Corporation',\n",
       " 'Agilent Technologies Inc.',\n",
       " 'Agnico Eagle Mines Limited',\n",
       " 'Agree Realty Corporation',\n",
       " 'Agrium Inc.',\n",
       " 'A.H. Belo Corporation',\n",
       " 'Air Lease Corporation',\n",
       " 'Air Products and Chemicals, Inc.',\n",
       " 'Aircastle Limited',\n",
       " 'AK Steel Holding Corp',\n",
       " 'Alabama Power Company',\n",
       " 'Alamo Group Inc.',\n",
       " 'Alamos Gold Inc.',\n",
       " 'Alaska Air Group, Inc.',\n",
       " 'Albany International Corp',\n",
       " 'Albemarle Corporation',\n",
       " 'Alcoa, Inc.',\n",
       " 'Alere Inc.',\n",
       " 'Alere Inc.',\n",
       " 'Alexander & Baldwin, Inc.',\n",
       " 'Alexanders Inc.',\n",
       " 'Alexandria Real Estate Equities Inc.',\n",
       " 'Alexandria Real Estate Equities Inc.',\n",
       " 'Alexandria Real Estate Equities Inc.',\n",
       " 'Algonquin Power & Utilities Corp.',\n",
       " 'Alibaba Group Holding Ltd.',\n",
       " 'Alleghany Corporation',\n",
       " 'Allegheny Technologies Incorporated',\n",
       " 'Allegion Public Limited Company',\n",
       " 'Allergan Inc.',\n",
       " 'Allergan Inc.',\n",
       " 'ALLETE, Inc.',\n",
       " 'Alliance California Municipal Income Fund, Inc.',\n",
       " 'Alliance Data Systems Corporation',\n",
       " 'Alliance One International, Inc.',\n",
       " 'AllianceBernstein Global High Income Fund, Inc.',\n",
       " 'AllianceBernstein Holding L.P.',\n",
       " 'AllianceBernstein National Municipal Income Fund, Inc.',\n",
       " 'Alliant Energy Corporation',\n",
       " 'AllianzGI Convertible & Income Fund',\n",
       " 'AllianzGI Convertible & Income Fund II',\n",
       " 'AllianzGI Equity & Convertible Income Fund',\n",
       " 'AllianzGI NFJ Dividend, Interest & Premium Strategy Fund',\n",
       " 'Allied Capital Corporation',\n",
       " 'Allied World Assurance Company Holdings, AG',\n",
       " 'Allison Transmission Holdings, Inc.',\n",
       " 'Allstate Corporation',\n",
       " 'Allstate Corporation',\n",
       " 'Allstate Corporation',\n",
       " 'Allstate Corporation',\n",
       " 'Allstate Corporation',\n",
       " 'Allstate Corporation',\n",
       " 'Allstate Corporation',\n",
       " 'Ally Financial Inc.',\n",
       " 'Alon USA Energy, Inc.',\n",
       " 'Alon USA Partners, LP',\n",
       " 'Alpine Global Dynamic Dividend Fund',\n",
       " 'Alpine Global Premier Properties Fund',\n",
       " 'Alpine Total Dynamic Dividend Fund',\n",
       " 'Altisource Residential Corporation',\n",
       " 'Altria Group, Inc.',\n",
       " 'Aluminum Corporation of China Ltd',\n",
       " 'Amber Road, Inc.',\n",
       " 'Ambev S.A.',\n",
       " 'AMC Entertainment Holdings, Inc.',\n",
       " 'Amec Foster Wheeler PLC',\n",
       " 'Ameren Corporation',\n",
       " 'Ameresco, Inc.',\n",
       " 'American Assets Trust, Inc.',\n",
       " 'American Axle & Manufacturing Holdings, Inc.',\n",
       " 'American Campus Communities, Inc.',\n",
       " 'American Eagle Outfitters, Inc.',\n",
       " 'American Electric Power Company',\n",
       " 'American Equity Investment Life Holding Company',\n",
       " 'American Express Company',\n",
       " 'American Financial Group Inc.',\n",
       " 'American Financial Group Inc.',\n",
       " 'American Financial Group Inc.',\n",
       " 'American Homes 4 Rent',\n",
       " 'American Homes 4 Rent',\n",
       " 'American Homes 4 Rent',\n",
       " 'American Homes 4 Rent',\n",
       " 'American Homes 4 Rent',\n",
       " 'American Homes 4 Rent',\n",
       " 'American International Group Inc',\n",
       " 'American International Group Inc',\n",
       " 'American Midstream Partners, LP',\n",
       " 'American Realty Investors, Inc.',\n",
       " 'American Renal Associates Holdings Inc.',\n",
       " 'American States Water Co.',\n",
       " 'American Tower Corporation',\n",
       " 'American Tower Corporation',\n",
       " 'American Tower Corporation',\n",
       " 'American Vanguard Corporation',\n",
       " 'American Water Works Company, Inc.',\n",
       " 'Amerigas Partners lp',\n",
       " 'Ameriprise Financial, Inc.',\n",
       " 'AmerisourceBergen Corporation',\n",
       " 'Ametek Inc.',\n",
       " 'Amira Nature Foods Ltd',\n",
       " 'AMN Healthcare Services, Inc.',\n",
       " 'Ampco-Pittsburgh Corporation',\n",
       " 'Amphenol Corporation',\n",
       " 'Amplify Snack Brands Inc.',\n",
       " 'AMREP Corporation',\n",
       " 'AmTrust Financial Services, Inc.',\n",
       " 'AmTrust Financial Services, Inc.',\n",
       " 'AmTrust Financial Services, Inc.',\n",
       " 'AmTrust Financial Services, Inc.',\n",
       " 'AmTrust Financial Services, Inc.',\n",
       " 'AmTrust Financial Services, Inc.',\n",
       " 'América Móvil S.A.B de C.V.',\n",
       " 'América Móvil S.A.B de C.V.',\n",
       " 'AngloGold Ashanti Limited',\n",
       " 'Anheuser-Busch Inbev SA/NV',\n",
       " 'Anixter International Inc.',\n",
       " 'Annaly Capital Management, Inc.',\n",
       " 'Annaly Capital Management, Inc.',\n",
       " 'Annaly Capital Management, Inc.',\n",
       " 'Annaly Capital Management, Inc.',\n",
       " 'Annaly Capital Management, Inc.',\n",
       " 'Antero Resources Corporation',\n",
       " 'Antero Midstream Partners LP',\n",
       " 'Anthem Inc.',\n",
       " 'Anthem Inc.',\n",
       " 'Anworth Mortgage Asset Corporation',\n",
       " 'Anworth Mortgage Asset Corporation',\n",
       " 'Anworth Mortgage Asset Corporation',\n",
       " 'Anworth Mortgage Asset Corporation',\n",
       " 'Aon Corporation',\n",
       " 'APA Corporation',\n",
       " 'Apartment Investment & Management Company',\n",
       " 'Apartment Investment & Management Company',\n",
       " 'Apollo Commercial Real Estate Finance, Inc.',\n",
       " 'Apollo Commercial Real Estate Finance, Inc.',\n",
       " 'Apollo Commercial Real Estate Finance, Inc.',\n",
       " 'Apollo Global Management, LLC',\n",
       " 'Apollo Investment Corporation',\n",
       " 'Apollo Investment Corporation',\n",
       " 'Apollo Senior Floating Rate Fund Inc.',\n",
       " 'Apollo Tactical Income Fund Inc.',\n",
       " 'Apple Hospitality REIT Inc.',\n",
       " 'Applied Industrial Technologies, Inc.',\n",
       " 'AptarGroup Inc.',\n",
       " 'Aqua America, Inc.',\n",
       " 'AquaBounty Technologies, Inc.',\n",
       " 'AquaVenture Holdings Ltd.',\n",
       " 'Aramark',\n",
       " 'Arbor Realty Trust, Inc.',\n",
       " 'Arbor Realty Trust, Inc.',\n",
       " 'Arbor Realty Trust, Inc.',\n",
       " 'Arbor Realty Trust, Inc.',\n",
       " 'Arbor Realty Trust, Inc.',\n",
       " 'ARC Document Solutions, Inc.',\n",
       " 'Arc Logistics Partners LP',\n",
       " 'ArcelorMittal',\n",
       " 'Arch Capital Group Ltd.',\n",
       " 'Arch Coal Inc',\n",
       " 'Archer Daniels Midland Co.',\n",
       " 'Archrock Inc.',\n",
       " 'Arconic Inc.',\n",
       " 'Arconic Inc.',\n",
       " 'Arconic Inc.',\n",
       " 'Arcos Dorados Holdings Inc.',\n",
       " 'Ardmore Shipping Corporation',\n",
       " 'Ares Capital',\n",
       " 'Ares Commercial Real Estate Corporation',\n",
       " 'Ares Dynamic Credit Allocation Fund, Inc.',\n",
       " 'Ares Management, L.P.',\n",
       " 'Ares Management, L.P.',\n",
       " 'Ares Multi-Strategy Credit Fund, Inc.',\n",
       " 'Argan, Inc.',\n",
       " 'Arista Networks',\n",
       " 'Arlington Asset Investment Corporation',\n",
       " 'Arlington Asset Investment Corp.',\n",
       " 'Armada Hoffler Properties, Inc.',\n",
       " 'Armour Residential REIT, Inc.',\n",
       " 'Armour Residential REIT, Inc.',\n",
       " 'Armour Residential REIT, Inc.',\n",
       " 'Armstrong Flooring Inc.',\n",
       " 'Armstrong World Industries, Inc.',\n",
       " 'Arrow Electronics Inc',\n",
       " 'Arthur J.Gallagher & Co.',\n",
       " 'Artisan Partners Asset Management Inc.',\n",
       " 'ASA Gold and Precious Metals Limited',\n",
       " 'Asbury Automotive Group, Inc.',\n",
       " 'Ashford Hospitality Prime, Inc.',\n",
       " 'Ashford Hospitality Trust, Inc.',\n",
       " 'Ashford Hospitality Trust, Inc.',\n",
       " 'Ashford Hospitality Trust, Inc.',\n",
       " 'Ashford Hospitality Trust, Inc.',\n",
       " 'Ashford Hospitality Trust, Inc.',\n",
       " 'Ashford Hospitality Trust, Inc.',\n",
       " 'Ashland Inc.',\n",
       " 'The Asia Pacific Fund, Inc.',\n",
       " 'The Asia Tigers Fund, Inc.',\n",
       " 'Aspen Aerogels, Inc.',\n",
       " 'Aspen Insurance Holdings Limited',\n",
       " 'Aspen Insurance Holdings Limited',\n",
       " 'Aspen Insurance Holdings Limited',\n",
       " 'Aspen Insurance Holdings Limited',\n",
       " 'Associated Banc-Corp',\n",
       " 'Associated Banc-Corp',\n",
       " 'Associated Banc-Corp',\n",
       " 'Associated Capital Group Inc.',\n",
       " 'Assurant, Inc.',\n",
       " 'Assured Guaranty Ltd.',\n",
       " 'Assured Guaranty Municipal Holdings Inc.',\n",
       " 'Assured Guaranty Municipal Holdings Inc.',\n",
       " 'Assured Guaranty Municipal Holdings Inc.',\n",
       " 'Astoria Financial Corporation',\n",
       " 'Astoria Financial Corporation',\n",
       " 'AstraZeneca Group plc',\n",
       " 'AT&T Inc.',\n",
       " 'At Home Group Inc.',\n",
       " 'Atento SA',\n",
       " 'Athene Holding Ltd.',\n",
       " 'Atkore International Group Inc.',\n",
       " 'Atlantic Power Corporation',\n",
       " 'Atmos Energy Corporation',\n",
       " 'AU Optronics Corp.',\n",
       " 'Audacy, Inc.',\n",
       " 'Autohome Inc.',\n",
       " 'Autoliv Inc.',\n",
       " 'Autonation Inc',\n",
       " 'AutoZone, Inc',\n",
       " 'AvalonBay Communities, Inc.',\n",
       " 'Avangrid Inc.',\n",
       " 'Avenue Income Credit Strategies Fund',\n",
       " 'Avery Dennison Corporation',\n",
       " 'Avianca Holdings S.A.',\n",
       " 'Avista Corporation',\n",
       " 'Avnet Inc',\n",
       " 'Avon Products, Inc.',\n",
       " 'Avx Corporation',\n",
       " 'Axalta Coating Systems Ltd.',\n",
       " 'Axis Capital Holdings Limited',\n",
       " 'Axis Capital Holdings Limited',\n",
       " 'Axis Capital Holdings Limited',\n",
       " 'Axis Capital Holdings Limited',\n",
       " 'Axovant Sciences Ltd.',\n",
       " 'Azure Power Global Ltd.',\n",
       " 'AZZ incorporated',\n",
       " 'B&G Foods',\n",
       " 'Babcock & Wilcox',\n",
       " 'Babson Capital Corporate Investors',\n",
       " 'Badger Meter',\n",
       " 'Baker Hughes',\n",
       " 'Ball Corporation',\n",
       " 'Bally Technologies',\n",
       " 'Baltic Trading',\n",
       " 'Banc of California',\n",
       " 'Banco Bilbao Vizcaya Argentaria',\n",
       " 'Banco Bradesco',\n",
       " 'Banco de Chile',\n",
       " 'Banco Latinoamericano De Comercio Exterior',\n",
       " 'Banco Macro',\n",
       " 'Banco Santander',\n",
       " 'Banco Santander (Brasil)',\n",
       " 'Banco Santander-Chile',\n",
       " 'Bancolombia',\n",
       " 'BancorpSouth',\n",
       " 'Bank of America',\n",
       " 'Bank of Hawaii',\n",
       " 'The Bank of New York Mellon',\n",
       " 'Scotiabank',\n",
       " 'Bankrate',\n",
       " 'BankUnited',\n",
       " 'Barclays',\n",
       " 'Barnes Group',\n",
       " 'Barracuda Networks',\n",
       " 'Barrick Gold',\n",
       " 'Basic Energy Services',\n",
       " 'Baxter International',\n",
       " 'Baytex Energy',\n",
       " 'BBVA Banco Francés',\n",
       " 'BankAtlantic',\n",
       " 'Bell Canada',\n",
       " 'Beazer Homes USA',\n",
       " 'Becton Dickinson',\n",
       " 'Belden',\n",
       " 'Belmond',\n",
       " 'Bemis Company',\n",
       " 'Benchmark Electronics',\n",
       " 'Berkshire Hathaway',\n",
       " 'Berkshire Hills Bancorp',\n",
       " 'Berry Plastics',\n",
       " 'Best Buy',\n",
       " 'BGC Partners',\n",
       " 'BHP',\n",
       " 'Big Lots',\n",
       " 'Biglari Holdings',\n",
       " 'Bill Barrett Corporation',\n",
       " 'Bio-Rad Laboratories',\n",
       " 'BioAmber',\n",
       " 'BioMed Realty Trust',\n",
       " 'BitAuto Holdings',\n",
       " 'Black Hills Corporation',\n",
       " 'BlackRock',\n",
       " 'The Blackstone Group',\n",
       " 'Blackstone Mortgage Trust',\n",
       " 'Blount International',\n",
       " 'Blue Capital Reinsurance Holdings',\n",
       " 'BlueLinx',\n",
       " 'Blyth',\n",
       " 'BMO Financial Group',\n",
       " 'Boeing',\n",
       " 'Boise Cascade',\n",
       " 'Bonanza Creek Energy',\n",
       " 'Booz Allen Hamilton',\n",
       " 'BorgWarner',\n",
       " 'Boston Beer Co',\n",
       " 'Boston Properties',\n",
       " 'Boston Scientific',\n",
       " 'Box Ships',\n",
       " 'Boyd Gaming',\n",
       " 'BP',\n",
       " 'BP Prudhoe Bay Royalty Trust',\n",
       " 'BPZ Resources',\n",
       " 'Brady Corporation',\n",
       " 'Brandywine Realty Trust',\n",
       " 'BrasilAgro \\x96– Companhia Brasileira de Propriedades Agrícolas',\n",
       " 'Braskem',\n",
       " 'BRF S.A.',\n",
       " 'Briggs & Stratton',\n",
       " 'Bright Horizons Family Solutions',\n",
       " 'Brinker International',\n",
       " \"Brink's\",\n",
       " 'Bristol-Myers Squibb',\n",
       " 'Bristow Helicopters',\n",
       " 'Brixmor Property Group',\n",
       " 'Broadridge Financial Solutions',\n",
       " 'Brookdale Senior Living',\n",
       " 'Brookfield Asset Management',\n",
       " 'Brookfield Canada Office Properties',\n",
       " 'Brookfield Infrastructure Partners',\n",
       " 'Brookfield Property Partners',\n",
       " 'Brookfield Renewable',\n",
       " 'Brookfield Residential',\n",
       " 'Brown & Brown',\n",
       " 'Brown-Forman',\n",
       " 'Brown Shoe',\n",
       " 'BRT Realty Trust',\n",
       " 'Brunswick Corporation',\n",
       " 'BT Group',\n",
       " 'Buckeye Partners',\n",
       " 'The Buckle',\n",
       " 'Build-A-Bear Workshop',\n",
       " 'Bunge',\n",
       " 'Burlington Coat Factory',\n",
       " 'C. R. Bard',\n",
       " 'Cabco Tr For J C Penney Debs',\n",
       " \"Cabela's\",\n",
       " 'Cabot Corporation',\n",
       " 'Coterra',\n",
       " 'CACI',\n",
       " 'CAE Inc.',\n",
       " 'CAI International, Inc.',\n",
       " 'Cal Dive International, Inc.',\n",
       " 'Calgon Carbon',\n",
       " 'California Water Service Group',\n",
       " 'Calix Inc.',\n",
       " 'Callaway Golf Company',\n",
       " 'Callon Petroleum Company',\n",
       " 'Calpine',\n",
       " 'Cambrex Corporation',\n",
       " 'Camden Property Trust',\n",
       " 'Cameco',\n",
       " 'Cameron International',\n",
       " 'Campbell Soup Company',\n",
       " 'Campus Crest Communities, Inc.',\n",
       " 'Canada Goose Holdings Inc.',\n",
       " 'Canadian Imperial Bank of Commerce',\n",
       " 'Canadian National Railway',\n",
       " 'Canadian Natural Resources',\n",
       " 'Canadian Pacific Railway',\n",
       " 'Canon Inc.',\n",
       " 'Canopy Growth Corporation',\n",
       " 'Cantel Medical Corporation',\n",
       " 'Capital One',\n",
       " 'Capital Senior Living',\n",
       " 'Capitala Finance Corp',\n",
       " 'Capstead Mortgage Corporation',\n",
       " 'CARBO Ceramics Inc.',\n",
       " 'Cardinal Health',\n",
       " 'Care.com',\n",
       " 'CareFusion',\n",
       " 'Carlisle Companies',\n",
       " 'CarMax',\n",
       " 'Carnival Corporation & plc',\n",
       " 'Carnival Corporation & plc',\n",
       " 'Carpenter Technology Corporation',\n",
       " 'Carriage Services',\n",
       " \"Carter's, Inc.\",\n",
       " 'Cash America International',\n",
       " 'Castlight Health',\n",
       " 'CatchMark Timber Trust, Inc.',\n",
       " 'Caterpillar Inc.',\n",
       " 'Cato Corporation',\n",
       " 'CBIZ, Inc.',\n",
       " 'CBL & Associates Properties',\n",
       " 'CBRE Group',\n",
       " 'CDI Corporation',\n",
       " 'Cedar Fair',\n",
       " 'Celadon Group',\n",
       " 'Celanese',\n",
       " 'Celestica',\n",
       " 'Cellcom Israel, Ltd.',\n",
       " 'Cementos Pacasmayo',\n",
       " 'Cemex',\n",
       " 'Cencosud',\n",
       " 'Cenovus Energy',\n",
       " 'Centene Corporation',\n",
       " 'CenterPoint Energy',\n",
       " 'Eletrobras',\n",
       " 'Central Pacific Bank',\n",
       " 'Century Communities, Inc.',\n",
       " 'CenturyLink',\n",
       " 'Cenveo',\n",
       " 'CF Industries',\n",
       " 'CGG',\n",
       " 'CGI Group',\n",
       " 'Chambers Street Properties',\n",
       " 'ChannelAdvisor Corporation',\n",
       " 'Charles River Laboratories',\n",
       " 'Charles Schwab Corporation',\n",
       " 'Chatham Lodging Trust',\n",
       " 'CHC Helicopter',\n",
       " 'Checkpoint Systems',\n",
       " 'Cheesecake Factory',\n",
       " 'Cheetah Mobile',\n",
       " 'Chegg',\n",
       " 'Chemed Corporation',\n",
       " 'Chemtura',\n",
       " 'Cherry Hill Mortgage Investment Corporation',\n",
       " 'Chesapeake Energy',\n",
       " 'Chesapeake Granite Wash Trust',\n",
       " 'Chesapeake Lodging Trust',\n",
       " 'Chesapeake Utilities',\n",
       " 'Chevron Corporation',\n",
       " 'Chicago Bridge & Iron Company',\n",
       " \"Chico's FAS, Inc.\",\n",
       " 'Chimera Investment Corporation',\n",
       " 'China Cord Blood Corporation',\n",
       " 'China Digital TV Holding Co., LTD.',\n",
       " 'China Distance Education Holdings Limited',\n",
       " 'China Eastern Airlines',\n",
       " 'China Green Agriculture',\n",
       " 'China Life Insurance Company',\n",
       " 'Mingyang Wind Power',\n",
       " 'China Mobile',\n",
       " 'China Nepstar',\n",
       " 'China New Borun Corporation',\n",
       " 'Sinopec',\n",
       " 'China Southern Airlines',\n",
       " 'China Telecom',\n",
       " 'China Unicom',\n",
       " 'China Xiniya Fashion Limited',\n",
       " 'China Yuchai International',\n",
       " 'China Zenix Auto International Limited',\n",
       " 'Chipotle Mexican Grill',\n",
       " 'Chiquita Brands International',\n",
       " 'Choice Hotels',\n",
       " 'Christopher & Banks',\n",
       " 'Chubb Corp.',\n",
       " 'Chunghwa Telecom',\n",
       " 'Church & Dwight',\n",
       " 'Ciena',\n",
       " 'Cigna',\n",
       " 'Cincinnati Bell',\n",
       " 'Cinemark Theatres',\n",
       " 'Circor International, Inc.',\n",
       " 'Citigroup',\n",
       " 'Citizens, Inc.',\n",
       " 'City National Corporation',\n",
       " 'City Office REIT, Inc.',\n",
       " 'Civeo Corporation',\n",
       " 'Clarcor',\n",
       " 'Clayton Williams Energy, Inc.',\n",
       " 'Clean Harbors',\n",
       " 'Clear Channel Outdoor',\n",
       " 'Clearwater Paper',\n",
       " 'CLECO',\n",
       " 'Cleveland-Cliffs',\n",
       " 'Clorox',\n",
       " 'Cloud Peak Energy',\n",
       " 'ClubCorp',\n",
       " 'CMS Energy',\n",
       " 'CNA Financial',\n",
       " 'CNH Industrial',\n",
       " 'CNO Financial Group',\n",
       " 'CNOOC Limited',\n",
       " 'Coach, Inc.',\n",
       " 'Cobalt International Energy',\n",
       " 'The Coca-Cola Company',\n",
       " 'Coca-Cola Enterprises',\n",
       " 'Coca-Cola FEMSA, S.A.B. De C.V.',\n",
       " 'Coeur Mining',\n",
       " 'Coeur Mining, Inc.',\n",
       " 'Cohen & Steers, Inc.',\n",
       " 'Colfax Corporation',\n",
       " 'Colgate-Palmolive',\n",
       " 'Comcast',\n",
       " 'Comerica',\n",
       " 'Comfort Systems USA',\n",
       " 'Commercial Metals Company',\n",
       " 'CommonWealth REIT',\n",
       " 'Community Bank, N.A.',\n",
       " 'Community Health Systems',\n",
       " 'Companhia Brasileira de Distribuição',\n",
       " 'Sabesp',\n",
       " 'CEMIG',\n",
       " 'Copel',\n",
       " 'Companhia Siderúrgica Nacional',\n",
       " 'Compass Diversified Holdings',\n",
       " 'Compass Minerals',\n",
       " 'Compañia de Minas Buenaventura SA',\n",
       " 'Compañía de las Cervecerías Unidas',\n",
       " 'Computer Sciences Corporation',\n",
       " 'Comstock Resources Inc.',\n",
       " 'Con-way',\n",
       " 'ConAgra Foods',\n",
       " 'Concho Resources Inc.',\n",
       " 'Concord Medical Services Holdings Limited',\n",
       " 'ConocoPhillips',\n",
       " 'CONSOL Energy Inc.',\n",
       " 'Consolidated Edison',\n",
       " 'Constellation Brands',\n",
       " 'Constellium N.V.',\n",
       " 'The Container Store',\n",
       " 'Continental Building Products Inc.',\n",
       " 'Continental Resources',\n",
       " 'Volaris',\n",
       " 'Convergys',\n",
       " 'The Cooper Companies',\n",
       " 'Cooper-Standard Automotive',\n",
       " 'Cooper Tire & Rubber Company',\n",
       " 'Copa Holdings',\n",
       " 'Core Laboratories',\n",
       " 'CoreLogic',\n",
       " 'CorEnergy Infrastructure Trust, Inc.',\n",
       " 'Corning Inc.',\n",
       " 'Corpbanca',\n",
       " 'The Corporate Executive Board Company',\n",
       " 'Corporate Office Properties Trust',\n",
       " 'Corrections Corporation of America',\n",
       " 'Cosan',\n",
       " 'Costamare',\n",
       " 'Cott',\n",
       " 'Coty, Inc.',\n",
       " 'Country Style Cooking Restaurant Chain Co., Ltd.',\n",
       " 'Coupons.com',\n",
       " 'Cousins Properties',\n",
       " 'Covance',\n",
       " 'Covanta Energy',\n",
       " 'Covidien',\n",
       " 'CPFL Energia',\n",
       " 'Crane Co.',\n",
       " 'Crawford & Company',\n",
       " 'Crawford & Company',\n",
       " 'Credicorp',\n",
       " 'Credit Suisse',\n",
       " 'Crescent Point Energy',\n",
       " 'Crestwood Equity Partners LP',\n",
       " 'Crestwood Midstream, L.P.',\n",
       " 'CRH plc',\n",
       " 'Cross Timbers Royalty Trust',\n",
       " 'Crown Castle',\n",
       " 'Crown Castle Preferred',\n",
       " 'Crown Holdings',\n",
       " 'CryoLife',\n",
       " 'CSS Industries',\n",
       " 'CST Brands',\n",
       " 'CSX Corporation',\n",
       " 'CTS Corporation',\n",
       " 'CubeSmart',\n",
       " 'Cubic Corporation',\n",
       " 'Frost Bank',\n",
       " 'Culp, Inc.',\n",
       " 'Cummins',\n",
       " 'Curtiss-Wright',\n",
       " 'Cvent',\n",
       " 'CVR Energy, Inc.',\n",
       " 'CVR Partners',\n",
       " 'CVR Refining, LP',\n",
       " 'CVS Health',\n",
       " 'Cypress Energy Partners, L.P.',\n",
       " 'CYS Investments, Inc.',\n",
       " 'Cytec Industries',\n",
       " 'D. R. Horton',\n",
       " 'Dun & Bradstreet',\n",
       " 'Dana Holding Corporation',\n",
       " 'Danaher Corporation',\n",
       " 'Danaos Corporation',\n",
       " 'DAQO New Energy Corp.',\n",
       " 'Darden Restaurants',\n",
       " 'Darling Ingredients Inc.',\n",
       " 'DaVita Inc.',\n",
       " 'DCP Midstream Partners',\n",
       " 'Deckers Outdoor Corporation',\n",
       " 'John Deere',\n",
       " 'Delek Logistics Partners, LP',\n",
       " 'Delek',\n",
       " 'Delphi Automotive',\n",
       " 'Delta Air Lines',\n",
       " 'Deltic Timber Corporation',\n",
       " 'Deluxe Corporation',\n",
       " 'Demand Media',\n",
       " 'Demandware',\n",
       " 'The Denali Fund Inc.',\n",
       " 'Deutsche Bank',\n",
       " 'Devon Energy',\n",
       " 'DeVry Education Group',\n",
       " 'DHT Holdings, Inc.',\n",
       " 'Diageo',\n",
       " 'Diamond Offshore Drilling',\n",
       " 'Diamond Resorts International',\n",
       " 'DiamondRock Hospitality Company',\n",
       " 'Diana Shipping, Inc.',\n",
       " 'Dice.com',\n",
       " \"Dick's Sporting Goods\",\n",
       " 'Diebold',\n",
       " 'Digital Realty',\n",
       " \"Dillard's\",\n",
       " 'DineEquity',\n",
       " 'Discover Financial',\n",
       " 'Dolby Laboratories',\n",
       " 'Dollar General',\n",
       " 'Dominion Resources',\n",
       " \"Domino's Pizza\",\n",
       " 'Domtar',\n",
       " 'Donaldson Company',\n",
       " 'Doral Financial Corporation',\n",
       " 'Dorian LPG Ltd.',\n",
       " 'Douglas Dynamics, Inc.',\n",
       " 'Douglas Emmett, Inc.',\n",
       " 'Dover Corporation',\n",
       " 'Dover Downs',\n",
       " 'Dover Motorsports Incorporated',\n",
       " 'Dow Chemical Company',\n",
       " 'Dr Pepper Snapple Group',\n",
       " \"Dr. Reddy's Laboratories\",\n",
       " 'DRDGOLD Limited',\n",
       " 'Dresser-Rand Group',\n",
       " 'Drew Industries Incorporated',\n",
       " 'Dril-Quip, Inc.',\n",
       " 'DST Systems Inc.',\n",
       " 'DSW, Inc.',\n",
       " 'DTE Energy',\n",
       " 'Ducommun',\n",
       " 'Duff & Phelps',\n",
       " 'Duke Energy',\n",
       " 'DuPont Fabros Technology',\n",
       " 'Dycom Industries',\n",
       " 'Dynegy',\n",
       " 'Dynex Capital Inc.',\n",
       " 'E-Commerce China DangDang Inc.',\n",
       " 'E-House (China) Holdings Limited',\n",
       " 'E. I. du Pont de Nemours and Company (DuPont)',\n",
       " 'E. I. du Pont de Nemours and Company (DuPont)',\n",
       " 'E. I. du Pont de Nemours and Company (DuPont)',\n",
       " 'The E. W. Scripps Company',\n",
       " 'Eagle Materials Inc.',\n",
       " 'Eastgroup Properties Inc.',\n",
       " 'Eastman Chemical Co.',\n",
       " 'Eastman Kodak Company',\n",
       " 'Eastman Kodak Company',\n",
       " 'Eastman Kodak Company',\n",
       " 'Eaton Corporation plc',\n",
       " 'ECA Marcellus Trust I',\n",
       " 'Eclipse Resources Corporation',\n",
       " 'Ecolab Inc.',\n",
       " 'Ecopetrol S.A.',\n",
       " 'Edison International',\n",
       " 'Education Realty Trust, Inc.',\n",
       " 'Edwards Lifesciences Corp',\n",
       " 'El Paso Electric Co.',\n",
       " 'El Paso Energy Capital Trust I',\n",
       " 'El Paso Pipeline Partners, L.P.',\n",
       " 'Eldorado Gold Corporation',\n",
       " 'Eli Lilly and Company',\n",
       " 'Ellie Mae, Inc.',\n",
       " 'Ellington Financial LLC',\n",
       " 'Ellington Residential Mortgage REIT',\n",
       " 'Embotelladora Andina S.A.',\n",
       " 'Embotelladora Andina S.A.',\n",
       " 'Embraer S.A.',\n",
       " 'EMCOR Group, Inc.',\n",
       " 'Emerge Energy Services LP',\n",
       " 'Emergent BioSolutions Inc.',\n",
       " 'Emeritus Corporation',\n",
       " 'Emerson Electric Co.',\n",
       " 'Empire District Electric Co.',\n",
       " 'Empire State Realty Trust, Inc.',\n",
       " 'Employers Holdings, Inc.',\n",
       " 'Empresa Distribuidora y Comercializadora Norte S.A.',\n",
       " 'Empresas ICA S.A. DE C.V.',\n",
       " 'Emulex Corporation',\n",
       " 'Enable Midstream Partners, LP',\n",
       " 'Enbridge, Inc.',\n",
       " 'Enbridge Energy Management, L.L.C.',\n",
       " 'Enbridge Energy Partners, L.P.',\n",
       " 'Endeavour International Corporation',\n",
       " 'Endeavour Silver Corp.',\n",
       " 'Endesa Chile',\n",
       " 'Endurance Specialty Holdings Ltd.',\n",
       " 'Endurance Specialty Holdings Ltd.',\n",
       " 'Endurance Specialty Holdings Ltd.',\n",
       " 'Enduro Royalty Trust',\n",
       " 'Energizer Holdings, Inc.',\n",
       " 'Energy Transfer LP',\n",
       " 'Enerplus Corporation',\n",
       " 'Enersis S.A.',\n",
       " 'EnerSys',\n",
       " 'ENI S.p.A.',\n",
       " 'EnLink Midstream, LLC',\n",
       " 'EnLink Midstream Partners, LP',\n",
       " 'Ennis, Inc.',\n",
       " 'EnPro Industries, Inc.',\n",
       " 'Entergy Corporation',\n",
       " 'Entergy Arkansas, Inc.',\n",
       " 'Entergy Arkansas, Inc.',\n",
       " 'Entergy Arkansas, Inc.',\n",
       " 'Entergy Louisiana, LLC',\n",
       " 'Entergy Louisiana, LLC',\n",
       " 'Entergy Louisiana, LLC',\n",
       " 'Entergy Mississippi, Inc.',\n",
       " 'Entergy Mississippi, Inc.',\n",
       " 'Entergy Mississippi, Inc.',\n",
       " 'Entergy New Orleans, Inc.',\n",
       " 'Entergy Texas, Inc.',\n",
       " 'Enterprise Products Partners L.P.',\n",
       " 'Entravision Communications Corporation',\n",
       " 'Envestnet, Inc.',\n",
       " 'Envision Healthcare Holdings, Inc.',\n",
       " 'Enzo Biochem, Inc.',\n",
       " 'EOG Resources, Inc.',\n",
       " 'EP Energy Corporation',\n",
       " 'EPAM Systems, Inc.',\n",
       " 'EPR Properties',\n",
       " 'EPR Properties',\n",
       " 'EPR Properties',\n",
       " 'EPR Properties',\n",
       " 'EQT Corporation',\n",
       " 'EQT Midstream Partners, LP',\n",
       " 'Equifax Inc.',\n",
       " 'Equity Lifestyle Properties, Inc.',\n",
       " 'Equity Lifestyle Properties, Inc.',\n",
       " 'Equity Residential',\n",
       " 'Equus Total Return, Inc.',\n",
       " 'Era Group Inc.',\n",
       " 'Eros International Plc',\n",
       " 'Esco Technologies Inc.',\n",
       " 'Essent Group Ltd.',\n",
       " 'Essex Property Trust, Inc.',\n",
       " 'Essex Property Trust, Inc.',\n",
       " 'Estee Lauder Companies Inc.',\n",
       " 'Esterline Technologies Corporation',\n",
       " 'Ethan Allen Interiors Inc.',\n",
       " 'The European Equity Fund, Inc.',\n",
       " 'Everbank Financial Corp.',\n",
       " 'EverBank Financial Corp.',\n",
       " 'Evercore Partners Inc.',\n",
       " 'Everest Re Group Ltd.',\n",
       " 'Evertec, Inc.',\n",
       " 'Everyday Health, Inc.',\n",
       " 'Evogene Ltd.',\n",
       " 'ExamWorks Group, Inc.',\n",
       " 'Exar Corporation',\n",
       " 'Excel Trust, Inc.',\n",
       " 'Excel Trust, Inc.',\n",
       " 'EXCO Resources, Inc.',\n",
       " 'Exelis Inc.',\n",
       " 'Exelon Corporation',\n",
       " 'Exelon Corporation',\n",
       " 'Express, Inc.',\n",
       " 'Extended Stay America, Inc.',\n",
       " 'Exterran Holdings, Inc.',\n",
       " 'Extra Space Storage, Inc.',\n",
       " 'Exxon Mobil Corporation',\n",
       " 'Fabrinet',\n",
       " 'FactSet Research Systems Inc.',\n",
       " 'Fair Isaac Corporation',\n",
       " 'Family Dollar Stores Inc.',\n",
       " 'Farfetch, Ltd.',\n",
       " 'FBL Financial Group Inc.',\n",
       " 'Federal Agricultural Mortgage Corporation',\n",
       " 'Federal Agricultural Mortgage Corporation',\n",
       " 'Federal Agricultural Mortgage Corporation',\n",
       " 'Federal Agricultural Mortgage Corporation',\n",
       " 'Federal Agricultural Mortgage Corporation',\n",
       " 'Federal Realty Investment Trust',\n",
       " 'Federal Signal Corporation',\n",
       " 'Federated Enhanced Treasury Income Fund',\n",
       " 'Federated Investors Inc.',\n",
       " 'Federated Premier Intermediate Municipal Income Fund',\n",
       " 'Federated Premier Municipal Income Fund',\n",
       " 'FedEx Corporation',\n",
       " 'FelCor Lodging Trust',\n",
       " 'FelCor Lodging Trust Inc.',\n",
       " 'FelCor Lodging Trust Inc.',\n",
       " 'Ferrellgas Partners L.P',\n",
       " 'Ferro Corporation',\n",
       " 'Fibria Celulose S.A.',\n",
       " 'Fidelity & Guaranty Life',\n",
       " 'Fidelity National Financial Inc.',\n",
       " 'Fidelity National Information Services, Inc.',\n",
       " 'Fiduciary/Claymore MLP Opportunity Fund',\n",
       " 'Fifth Street Finance Corp.',\n",
       " 'First Acceptance Corporation',\n",
       " 'First American Financial Corporation',\n",
       " 'First BanCorp',\n",
       " 'First Commonwealth Financial Corporation',\n",
       " 'First Horizon National Corporation',\n",
       " 'First Horizon National Corporation',\n",
       " 'First Industrial Realty Trust, Inc.',\n",
       " 'First Majestic Silver Corp.',\n",
       " 'The First Marblehead Corporation',\n",
       " 'First Niagara Financial Group, Inc.',\n",
       " 'First Preferred Capital Trust IV',\n",
       " 'First Republic Bank',\n",
       " 'First Republic Bank',\n",
       " 'First Republic Bank',\n",
       " 'First Republic Bank',\n",
       " 'First Republic Bank',\n",
       " 'First Republic Bank',\n",
       " 'First Trust Dividend and Income Fund',\n",
       " 'First Trust Energy Infrastructure Fund',\n",
       " 'First Trust Enhanced Equity Income Fund',\n",
       " 'First Trust High Income Long/Short Fund',\n",
       " 'First Trust Intermediate Duration Preferred & Income Fund',\n",
       " 'First Trust MLP and Energy Income Fund',\n",
       " 'First Trust Mortgage Income Fund',\n",
       " 'First Trust New Opportunities MLP & Energy Fund',\n",
       " 'First Trust Senior Floating Rate Income Fund II',\n",
       " 'First Trust Strategic High Income Fund II',\n",
       " 'First Trust/Aberdeen Emerging Opportunity Fund',\n",
       " 'First Trust/Aberdeen Global Opportunity Income Fund',\n",
       " 'First Trust/Gallatin Specialty Finance and Financial Opportunities Fund',\n",
       " 'FirstEnergy Corp',\n",
       " 'FirstMerit Corporation',\n",
       " 'Five Oaks Investment Corp.',\n",
       " 'Five Oaks Investment Corp.',\n",
       " 'Five Star Quality Care, Inc.',\n",
       " 'Fixed Income Trust For Goldman Sachs Subordinated Notes, Series 2011-1',\n",
       " 'Flagstar Bancorp, Inc.',\n",
       " 'Flaherty & Crumrine Dynamic Preferred and Income Fund Incorporated',\n",
       " 'Flaherty & Crumrine Preferred Income Fund Incorporated',\n",
       " 'Flaherty & Crumrine Preferred Income Opportunity Fund Incorporated',\n",
       " 'Flaherty & Crumrine Preferred Securities Income Fund Incorporated',\n",
       " 'Flaherty & Crumrine Total Return Fund Incorporated',\n",
       " 'Fleetcor Technologies, Inc.',\n",
       " 'Fleetmatics Group PLC',\n",
       " 'Flotek Industries, Inc.',\n",
       " 'Flowers Foods, Inc.',\n",
       " 'Flowserve Corporation',\n",
       " 'Fluor Corporation',\n",
       " 'Fly Leasing Limited',\n",
       " 'FMC Corporation',\n",
       " 'FMC Technologies, Inc.',\n",
       " 'F.N.B. Corporation',\n",
       " 'F.N.B. Corporation',\n",
       " 'Fomento Economico Mexicano, S.A.B. De C.V.',\n",
       " 'Foot Locker, Inc.',\n",
       " 'Ford Motor Company',\n",
       " 'Foresight Energy Partners LP',\n",
       " 'Forest City Enterprises, Inc.',\n",
       " 'Forest City Enterprises, Inc.',\n",
       " 'Forest Oil Corporation',\n",
       " 'Forestar Group Inc.',\n",
       " 'Fort Dearborn Income Securities, Inc.',\n",
       " 'Fortegra Financial Corporation',\n",
       " 'Fortress Investment Group LLC',\n",
       " 'Fortuna Silver Mines Inc.',\n",
       " 'Fortune Brands Home & Security, Inc.',\n",
       " 'Forum Energy Technologies, Inc.',\n",
       " 'Franco-Nevada Corporation',\n",
       " 'Franklin Covey Company',\n",
       " 'Franklin Resources Inc.',\n",
       " 'Franklin Universal Trust',\n",
       " \"Frank\\x92's International N.V.\",\n",
       " 'Freeport-McMoRan Inc.',\n",
       " 'Freescale Semiconductor, Ltd.',\n",
       " 'Fresenius Medical Care AG & Co. KGAA',\n",
       " 'Fresh Del Monte Produce Inc.',\n",
       " 'Frontline Ltd.',\n",
       " 'FS KKR Capital Corp.',\n",
       " 'FTI Consulting, Inc.',\n",
       " 'Furmanite Corporation',\n",
       " 'Fusion-io, Inc.',\n",
       " 'FutureFuel Corp.',\n",
       " 'FXCM Inc.',\n",
       " 'The Gabelli Convertible and Income Securities Fund, Inc.',\n",
       " 'The Gabelli Convertible and Income Securities Fund, Inc.',\n",
       " 'The Gabelli Dividend & Income Trust',\n",
       " 'The Gabelli Dividend & Income Trust',\n",
       " 'The Gabelli Dividend & Income Trust',\n",
       " 'The Gabelli Equity Trust Inc.',\n",
       " 'The Gabelli Equity Trust Inc.',\n",
       " 'The Gabelli Equity Trust Inc.',\n",
       " 'The Gabelli Equity Trust Inc.',\n",
       " 'The Gabelli Global Small and Mid Cap Value Trust',\n",
       " 'The Gabelli Healthcare & Wellness Rx Trust',\n",
       " 'The Gabelli Healthcare & Wellness Rx Trust',\n",
       " 'The Gabelli Multimedia Trust Inc.',\n",
       " 'The Gabelli Multimedia Trust Inc.',\n",
       " 'The Gabelli Utility Trust',\n",
       " 'The Gabelli Utility Trust',\n",
       " 'Gafisa S.A.',\n",
       " 'GAIN Capital Holdings, Inc.',\n",
       " 'Gamco Investors, Inc.',\n",
       " 'GAMCO Natural Resources, Gold & Income Trust',\n",
       " 'GameStop Corp.',\n",
       " 'Gannett Co., Inc.',\n",
       " 'The Gap, Inc.',\n",
       " 'Gartner Inc.',\n",
       " 'GasLog Ltd.',\n",
       " 'GasLog Partners LP',\n",
       " 'Gatx Corporation',\n",
       " 'Gazit-Globe Ltd.',\n",
       " 'The GDL Fund',\n",
       " 'The GDL Fund',\n",
       " 'Gencorp Inc',\n",
       " 'Generac Holdings Inc.',\n",
       " 'General American Investors Company, Inc.',\n",
       " 'General American Investors Company, Inc.',\n",
       " 'General Cable Corporation',\n",
       " 'General Dynamics Corporation',\n",
       " 'General Electric Company',\n",
       " 'General Electric Capital Company',\n",
       " 'General Electric Capital Corporation',\n",
       " 'General Electric Capital Corporation',\n",
       " 'General Mills, Inc.',\n",
       " 'General Motors Company',\n",
       " 'General Motors Company',\n",
       " 'General Motors Company',\n",
       " 'General Motors Company',\n",
       " 'General Steel Holdings, Inc.',\n",
       " 'Genesco Inc.',\n",
       " 'Genesee & Wyoming, Inc.',\n",
       " 'Genesee & Wyoming, Inc.',\n",
       " 'Genesis Energy, L.P.',\n",
       " 'Genie Energy Ltd.',\n",
       " 'Genie Energy Ltd.',\n",
       " 'Genpact Limited',\n",
       " 'Genuine Parts Company',\n",
       " ...]"
      ]
     },
     "execution_count": 11,
     "metadata": {},
     "output_type": "execute_result"
    }
   ],
   "source": [
    "letters = ['A', 'B', 'C', 'D', 'E', 'F', 'G', 'H', 'I', 'J', 'K', 'L', 'M', 'N', 'O', 'P', 'Q', 'R', 'S', 'T', 'U', 'V', 'W', 'X', 'Y', 'Z']\n",
    "ny_tickers = []\n",
    "ny_names = []\n",
    "for l in letters:\n",
    "    l_list = list(pd.read_html('https://en.wikipedia.org/wiki/Companies_listed_on_the_New_York_Stock_Exchange_('+l+')')[0].Symbol)\n",
    "    name_list = list(pd.read_html('https://en.wikipedia.org/wiki/Companies_listed_on_the_New_York_Stock_Exchange_('+l+')')[0]['Stock name'])\n",
    "    for i in range(len(l_list)):\n",
    "        ny_tickers.append(l_list[i])\n",
    "        ny_names.append(name_list[i])\n",
    "ny_names"
   ]
  },
  {
   "cell_type": "code",
   "execution_count": 12,
   "metadata": {},
   "outputs": [],
   "source": [
    "beursrally_ny = []\n",
    "for name in beursrally_tickers['Company Name']:\n",
    "    if name in name_list:\n",
    "        index = name_list.index(name)\n",
    "        beursrally_ny.append(ny_tickers[index])\n",
    "\n",
    "beursrally_ny.append('MMM')"
   ]
  },
  {
   "cell_type": "code",
   "execution_count": 13,
   "metadata": {},
   "outputs": [],
   "source": [
    "euronext_paris = pd.read_csv('Paris.csv')\n",
    "beursrally_paris = []\n",
    "for name in beursrally_tickers['Company Name']:\n",
    "    if name in list(euronext_paris['Name']):\n",
    "        index = list(euronext_paris['Name']).index(name)\n",
    "        beursrally_paris.append(euronext_paris.loc[index, 'Symbol'])\n"
   ]
  },
  {
   "cell_type": "code",
   "execution_count": 14,
   "metadata": {},
   "outputs": [],
   "source": [
    "nasdaq = pd.read_csv('NASDAQ.csv')\n",
    "beursrally_nasdaq = []\n",
    "for name in beursrally_tickers['Company Name']:\n",
    "    if name in list(nasdaq['Name']):\n",
    "        index = list(nasdaq['Name']).index(name)\n",
    "        beursrally_nasdaq.append(nasdaq.loc[index, 'Symbol'])"
   ]
  },
  {
   "cell_type": "code",
   "execution_count": 15,
   "metadata": {},
   "outputs": [],
   "source": [
    "BeursRallyComplete = beursrally_brussel+beursrally_amsterdam+beursrally_nasdaq+beursrally_ny+beursrally_paris+own_tickers\n",
    "templist = list(dict.fromkeys(BeursRallyComplete))\n",
    "BeursRallyComplete = templist\n",
    "BeursRallyComplete.remove('ATO')\n",
    "BeursRallyComplete.remove('DG')\n",
    "BeursRallyComplete.remove('FR')\n",
    "BeursRallyComplete.remove('GNE')"
   ]
  },
  {
   "cell_type": "code",
   "execution_count": 16,
   "metadata": {},
   "outputs": [
    {
     "name": "stderr",
     "output_type": "stream",
     "text": [
      "[*********************100%***********************]  147 of 147 completed\n",
      "\n",
      "96 Failed downloads:\n",
      "['TWEKA', 'VALUE', 'AGN', 'NEDAP', 'STMPA', 'TEXF', 'CS', 'WEHB', 'BCART', 'DECB', 'BOLS', 'SHUR', 'OBEL', 'VRAP', 'AGFB', 'SEQUA', 'AKE', 'TINC', 'KBCA', 'SBMO', 'EKOP', 'ADYEN', 'MITRA', 'COLR', 'AKZA', 'IMCD', 'BTLS', 'FFARM', 'GIMB', 'IBAB', 'BEKB', 'ARCAD', 'ONWD', 'MELE', 'XIOR', 'CAP', 'SIFG', 'ENGI', 'NEX', 'IMMO', 'CO', 'HEIA', 'LOTB', 'ASCE', 'FAGR', 'TESB', 'GBLB', 'PHARM', 'ASRNL', 'BPOST', 'ATEB', 'XFAB', 'BBED', 'BREB', 'GREEN', 'TKTT', 'OXUR', 'COFB', 'SOLB', 'CFEB', 'CYAD', 'SLIGR', 'VASTN', 'NK', 'TOM2', 'KENDR']: YFTzMissingError('$%ticker%: possibly delisted; no timezone found')\n",
      "['RI', 'PNL', 'VGP', 'JEN', 'UNA', 'KER', 'FUR', 'WDP', 'OCI', 'SIP', 'HO', 'PROX', 'EXM', 'RNO', 'AED', 'ROU', 'HYL', 'LR', 'WHA', 'VK', 'MONT', 'ABI', 'ORP', 'VAN', 'BESI', 'EN', 'VPK', 'WKL', 'RET', 'QRF']: YFPricesMissingError('$%ticker%: possibly delisted; no price data found  (1d 2020-01-02 -> 2024-09-24)')\n"
     ]
    },
    {
     "data": {
      "text/html": [
       "<div>\n",
       "<style scoped>\n",
       "    .dataframe tbody tr th:only-of-type {\n",
       "        vertical-align: middle;\n",
       "    }\n",
       "\n",
       "    .dataframe tbody tr th {\n",
       "        vertical-align: top;\n",
       "    }\n",
       "\n",
       "    .dataframe thead th {\n",
       "        text-align: right;\n",
       "    }\n",
       "</style>\n",
       "<table border=\"1\" class=\"dataframe\">\n",
       "  <thead>\n",
       "    <tr style=\"text-align: right;\">\n",
       "      <th>Ticker</th>\n",
       "      <th>AAPL</th>\n",
       "      <th>AC</th>\n",
       "      <th>AGS</th>\n",
       "      <th>AIR</th>\n",
       "      <th>AMD</th>\n",
       "      <th>AMG</th>\n",
       "      <th>AMZN</th>\n",
       "      <th>APAM</th>\n",
       "      <th>ASM</th>\n",
       "      <th>ASML</th>\n",
       "      <th>...</th>\n",
       "      <th>ORA</th>\n",
       "      <th>SAN</th>\n",
       "      <th>SAVE</th>\n",
       "      <th>SLB</th>\n",
       "      <th>SMAR</th>\n",
       "      <th>SU</th>\n",
       "      <th>TSLA</th>\n",
       "      <th>UCB</th>\n",
       "      <th>UMI</th>\n",
       "      <th>^GSPC</th>\n",
       "    </tr>\n",
       "    <tr>\n",
       "      <th>Date</th>\n",
       "      <th></th>\n",
       "      <th></th>\n",
       "      <th></th>\n",
       "      <th></th>\n",
       "      <th></th>\n",
       "      <th></th>\n",
       "      <th></th>\n",
       "      <th></th>\n",
       "      <th></th>\n",
       "      <th></th>\n",
       "      <th></th>\n",
       "      <th></th>\n",
       "      <th></th>\n",
       "      <th></th>\n",
       "      <th></th>\n",
       "      <th></th>\n",
       "      <th></th>\n",
       "      <th></th>\n",
       "      <th></th>\n",
       "      <th></th>\n",
       "      <th></th>\n",
       "    </tr>\n",
       "  </thead>\n",
       "  <tbody>\n",
       "    <tr>\n",
       "      <th>2020-01-02 00:00:00+00:00</th>\n",
       "      <td>72.876106</td>\n",
       "      <td>38.339832</td>\n",
       "      <td>12.120</td>\n",
       "      <td>45.750000</td>\n",
       "      <td>49.099998</td>\n",
       "      <td>83.546501</td>\n",
       "      <td>94.900497</td>\n",
       "      <td>21.727211</td>\n",
       "      <td>0.62</td>\n",
       "      <td>290.156311</td>\n",
       "      <td>...</td>\n",
       "      <td>72.670090</td>\n",
       "      <td>3.845528</td>\n",
       "      <td>36.785278</td>\n",
       "      <td>36.206539</td>\n",
       "      <td>45.840000</td>\n",
       "      <td>26.762108</td>\n",
       "      <td>28.684000</td>\n",
       "      <td>26.747797</td>\n",
       "      <td>22.759552</td>\n",
       "      <td>3257.850098</td>\n",
       "    </tr>\n",
       "    <tr>\n",
       "      <th>2020-01-03 00:00:00+00:00</th>\n",
       "      <td>72.167587</td>\n",
       "      <td>38.349533</td>\n",
       "      <td>11.570</td>\n",
       "      <td>45.709999</td>\n",
       "      <td>48.599998</td>\n",
       "      <td>82.512009</td>\n",
       "      <td>93.748497</td>\n",
       "      <td>21.707165</td>\n",
       "      <td>0.64</td>\n",
       "      <td>285.480530</td>\n",
       "      <td>...</td>\n",
       "      <td>72.543907</td>\n",
       "      <td>3.729805</td>\n",
       "      <td>36.034187</td>\n",
       "      <td>36.558064</td>\n",
       "      <td>45.810001</td>\n",
       "      <td>26.794762</td>\n",
       "      <td>29.534000</td>\n",
       "      <td>26.609699</td>\n",
       "      <td>22.652231</td>\n",
       "      <td>3234.850098</td>\n",
       "    </tr>\n",
       "    <tr>\n",
       "      <th>2020-01-06 00:00:00+00:00</th>\n",
       "      <td>72.742638</td>\n",
       "      <td>38.631096</td>\n",
       "      <td>11.130</td>\n",
       "      <td>45.599998</td>\n",
       "      <td>48.389999</td>\n",
       "      <td>82.889999</td>\n",
       "      <td>95.143997</td>\n",
       "      <td>21.834139</td>\n",
       "      <td>0.61</td>\n",
       "      <td>283.209717</td>\n",
       "      <td>...</td>\n",
       "      <td>72.689522</td>\n",
       "      <td>3.747609</td>\n",
       "      <td>36.549992</td>\n",
       "      <td>36.792412</td>\n",
       "      <td>45.810001</td>\n",
       "      <td>27.684656</td>\n",
       "      <td>30.102667</td>\n",
       "      <td>26.134987</td>\n",
       "      <td>22.652231</td>\n",
       "      <td>3246.280029</td>\n",
       "    </tr>\n",
       "    <tr>\n",
       "      <th>2020-01-07 00:00:00+00:00</th>\n",
       "      <td>72.400528</td>\n",
       "      <td>38.019440</td>\n",
       "      <td>11.260</td>\n",
       "      <td>45.540001</td>\n",
       "      <td>48.250000</td>\n",
       "      <td>81.954948</td>\n",
       "      <td>95.343002</td>\n",
       "      <td>22.061375</td>\n",
       "      <td>0.60</td>\n",
       "      <td>286.285400</td>\n",
       "      <td>...</td>\n",
       "      <td>72.175163</td>\n",
       "      <td>3.676396</td>\n",
       "      <td>35.744606</td>\n",
       "      <td>36.603127</td>\n",
       "      <td>45.139999</td>\n",
       "      <td>27.839779</td>\n",
       "      <td>31.270666</td>\n",
       "      <td>25.617125</td>\n",
       "      <td>22.652231</td>\n",
       "      <td>3237.179932</td>\n",
       "    </tr>\n",
       "    <tr>\n",
       "      <th>2020-01-08 00:00:00+00:00</th>\n",
       "      <td>73.565193</td>\n",
       "      <td>38.631096</td>\n",
       "      <td>11.520</td>\n",
       "      <td>46.770000</td>\n",
       "      <td>47.830002</td>\n",
       "      <td>82.094215</td>\n",
       "      <td>94.598503</td>\n",
       "      <td>22.108154</td>\n",
       "      <td>0.57</td>\n",
       "      <td>289.255646</td>\n",
       "      <td>...</td>\n",
       "      <td>72.757439</td>\n",
       "      <td>3.667494</td>\n",
       "      <td>36.142769</td>\n",
       "      <td>35.521530</td>\n",
       "      <td>45.160000</td>\n",
       "      <td>27.684656</td>\n",
       "      <td>32.809334</td>\n",
       "      <td>26.109093</td>\n",
       "      <td>22.652231</td>\n",
       "      <td>3253.050049</td>\n",
       "    </tr>\n",
       "    <tr>\n",
       "      <th>...</th>\n",
       "      <td>...</td>\n",
       "      <td>...</td>\n",
       "      <td>...</td>\n",
       "      <td>...</td>\n",
       "      <td>...</td>\n",
       "      <td>...</td>\n",
       "      <td>...</td>\n",
       "      <td>...</td>\n",
       "      <td>...</td>\n",
       "      <td>...</td>\n",
       "      <td>...</td>\n",
       "      <td>...</td>\n",
       "      <td>...</td>\n",
       "      <td>...</td>\n",
       "      <td>...</td>\n",
       "      <td>...</td>\n",
       "      <td>...</td>\n",
       "      <td>...</td>\n",
       "      <td>...</td>\n",
       "      <td>...</td>\n",
       "      <td>...</td>\n",
       "    </tr>\n",
       "    <tr>\n",
       "      <th>2024-09-18 00:00:00+00:00</th>\n",
       "      <td>220.690002</td>\n",
       "      <td>32.669998</td>\n",
       "      <td>11.250</td>\n",
       "      <td>68.889999</td>\n",
       "      <td>148.289993</td>\n",
       "      <td>175.759995</td>\n",
       "      <td>186.429993</td>\n",
       "      <td>42.169998</td>\n",
       "      <td>1.01</td>\n",
       "      <td>787.840027</td>\n",
       "      <td>...</td>\n",
       "      <td>75.360001</td>\n",
       "      <td>5.030000</td>\n",
       "      <td>2.550000</td>\n",
       "      <td>41.419998</td>\n",
       "      <td>51.650002</td>\n",
       "      <td>36.970001</td>\n",
       "      <td>227.199997</td>\n",
       "      <td>29.379999</td>\n",
       "      <td>45.027000</td>\n",
       "      <td>5618.259766</td>\n",
       "    </tr>\n",
       "    <tr>\n",
       "      <th>2024-09-19 00:00:00+00:00</th>\n",
       "      <td>228.869995</td>\n",
       "      <td>33.650002</td>\n",
       "      <td>11.300</td>\n",
       "      <td>69.550003</td>\n",
       "      <td>156.740005</td>\n",
       "      <td>179.740005</td>\n",
       "      <td>189.869995</td>\n",
       "      <td>43.049999</td>\n",
       "      <td>1.08</td>\n",
       "      <td>828.159973</td>\n",
       "      <td>...</td>\n",
       "      <td>74.860001</td>\n",
       "      <td>5.120000</td>\n",
       "      <td>2.530000</td>\n",
       "      <td>42.750000</td>\n",
       "      <td>50.810001</td>\n",
       "      <td>37.720001</td>\n",
       "      <td>243.919998</td>\n",
       "      <td>30.320000</td>\n",
       "      <td>44.888000</td>\n",
       "      <td>5713.640137</td>\n",
       "    </tr>\n",
       "    <tr>\n",
       "      <th>2024-09-20 00:00:00+00:00</th>\n",
       "      <td>228.199997</td>\n",
       "      <td>34.560001</td>\n",
       "      <td>11.300</td>\n",
       "      <td>69.279999</td>\n",
       "      <td>155.949997</td>\n",
       "      <td>178.240005</td>\n",
       "      <td>191.600006</td>\n",
       "      <td>42.689999</td>\n",
       "      <td>1.10</td>\n",
       "      <td>795.280029</td>\n",
       "      <td>...</td>\n",
       "      <td>75.529999</td>\n",
       "      <td>5.080000</td>\n",
       "      <td>2.500000</td>\n",
       "      <td>42.410000</td>\n",
       "      <td>51.439999</td>\n",
       "      <td>37.209999</td>\n",
       "      <td>238.250000</td>\n",
       "      <td>29.540001</td>\n",
       "      <td>45.040001</td>\n",
       "      <td>5702.549805</td>\n",
       "    </tr>\n",
       "    <tr>\n",
       "      <th>2024-09-23 00:00:00+00:00</th>\n",
       "      <td>226.470001</td>\n",
       "      <td>34.410000</td>\n",
       "      <td>11.330</td>\n",
       "      <td>69.099998</td>\n",
       "      <td>156.750000</td>\n",
       "      <td>178.050003</td>\n",
       "      <td>193.880005</td>\n",
       "      <td>42.889999</td>\n",
       "      <td>1.10</td>\n",
       "      <td>803.500000</td>\n",
       "      <td>...</td>\n",
       "      <td>75.660004</td>\n",
       "      <td>4.990000</td>\n",
       "      <td>2.380000</td>\n",
       "      <td>42.900002</td>\n",
       "      <td>52.090000</td>\n",
       "      <td>37.860001</td>\n",
       "      <td>250.000000</td>\n",
       "      <td>29.340000</td>\n",
       "      <td>45.626999</td>\n",
       "      <td>5718.569824</td>\n",
       "    </tr>\n",
       "    <tr>\n",
       "      <th>2024-09-24 00:00:00+00:00</th>\n",
       "      <td>226.710007</td>\n",
       "      <td>34.739899</td>\n",
       "      <td>11.355</td>\n",
       "      <td>65.930000</td>\n",
       "      <td>158.210007</td>\n",
       "      <td>178.539993</td>\n",
       "      <td>193.690002</td>\n",
       "      <td>43.680000</td>\n",
       "      <td>1.20</td>\n",
       "      <td>814.950012</td>\n",
       "      <td>...</td>\n",
       "      <td>75.635002</td>\n",
       "      <td>5.055000</td>\n",
       "      <td>2.388300</td>\n",
       "      <td>43.064999</td>\n",
       "      <td>55.480000</td>\n",
       "      <td>38.264999</td>\n",
       "      <td>253.860001</td>\n",
       "      <td>28.900000</td>\n",
       "      <td>45.669998</td>\n",
       "      <td>5729.859863</td>\n",
       "    </tr>\n",
       "  </tbody>\n",
       "</table>\n",
       "<p>1190 rows × 34 columns</p>\n",
       "</div>"
      ],
      "text/plain": [
       "Ticker                           AAPL         AC     AGS        AIR  \\\n",
       "Date                                                                  \n",
       "2020-01-02 00:00:00+00:00   72.876106  38.339832  12.120  45.750000   \n",
       "2020-01-03 00:00:00+00:00   72.167587  38.349533  11.570  45.709999   \n",
       "2020-01-06 00:00:00+00:00   72.742638  38.631096  11.130  45.599998   \n",
       "2020-01-07 00:00:00+00:00   72.400528  38.019440  11.260  45.540001   \n",
       "2020-01-08 00:00:00+00:00   73.565193  38.631096  11.520  46.770000   \n",
       "...                               ...        ...     ...        ...   \n",
       "2024-09-18 00:00:00+00:00  220.690002  32.669998  11.250  68.889999   \n",
       "2024-09-19 00:00:00+00:00  228.869995  33.650002  11.300  69.550003   \n",
       "2024-09-20 00:00:00+00:00  228.199997  34.560001  11.300  69.279999   \n",
       "2024-09-23 00:00:00+00:00  226.470001  34.410000  11.330  69.099998   \n",
       "2024-09-24 00:00:00+00:00  226.710007  34.739899  11.355  65.930000   \n",
       "\n",
       "Ticker                            AMD         AMG        AMZN       APAM  \\\n",
       "Date                                                                       \n",
       "2020-01-02 00:00:00+00:00   49.099998   83.546501   94.900497  21.727211   \n",
       "2020-01-03 00:00:00+00:00   48.599998   82.512009   93.748497  21.707165   \n",
       "2020-01-06 00:00:00+00:00   48.389999   82.889999   95.143997  21.834139   \n",
       "2020-01-07 00:00:00+00:00   48.250000   81.954948   95.343002  22.061375   \n",
       "2020-01-08 00:00:00+00:00   47.830002   82.094215   94.598503  22.108154   \n",
       "...                               ...         ...         ...        ...   \n",
       "2024-09-18 00:00:00+00:00  148.289993  175.759995  186.429993  42.169998   \n",
       "2024-09-19 00:00:00+00:00  156.740005  179.740005  189.869995  43.049999   \n",
       "2024-09-20 00:00:00+00:00  155.949997  178.240005  191.600006  42.689999   \n",
       "2024-09-23 00:00:00+00:00  156.750000  178.050003  193.880005  42.889999   \n",
       "2024-09-24 00:00:00+00:00  158.210007  178.539993  193.690002  43.680000   \n",
       "\n",
       "Ticker                      ASM        ASML  ...        ORA       SAN  \\\n",
       "Date                                         ...                        \n",
       "2020-01-02 00:00:00+00:00  0.62  290.156311  ...  72.670090  3.845528   \n",
       "2020-01-03 00:00:00+00:00  0.64  285.480530  ...  72.543907  3.729805   \n",
       "2020-01-06 00:00:00+00:00  0.61  283.209717  ...  72.689522  3.747609   \n",
       "2020-01-07 00:00:00+00:00  0.60  286.285400  ...  72.175163  3.676396   \n",
       "2020-01-08 00:00:00+00:00  0.57  289.255646  ...  72.757439  3.667494   \n",
       "...                         ...         ...  ...        ...       ...   \n",
       "2024-09-18 00:00:00+00:00  1.01  787.840027  ...  75.360001  5.030000   \n",
       "2024-09-19 00:00:00+00:00  1.08  828.159973  ...  74.860001  5.120000   \n",
       "2024-09-20 00:00:00+00:00  1.10  795.280029  ...  75.529999  5.080000   \n",
       "2024-09-23 00:00:00+00:00  1.10  803.500000  ...  75.660004  4.990000   \n",
       "2024-09-24 00:00:00+00:00  1.20  814.950012  ...  75.635002  5.055000   \n",
       "\n",
       "Ticker                          SAVE        SLB       SMAR         SU  \\\n",
       "Date                                                                    \n",
       "2020-01-02 00:00:00+00:00  36.785278  36.206539  45.840000  26.762108   \n",
       "2020-01-03 00:00:00+00:00  36.034187  36.558064  45.810001  26.794762   \n",
       "2020-01-06 00:00:00+00:00  36.549992  36.792412  45.810001  27.684656   \n",
       "2020-01-07 00:00:00+00:00  35.744606  36.603127  45.139999  27.839779   \n",
       "2020-01-08 00:00:00+00:00  36.142769  35.521530  45.160000  27.684656   \n",
       "...                              ...        ...        ...        ...   \n",
       "2024-09-18 00:00:00+00:00   2.550000  41.419998  51.650002  36.970001   \n",
       "2024-09-19 00:00:00+00:00   2.530000  42.750000  50.810001  37.720001   \n",
       "2024-09-20 00:00:00+00:00   2.500000  42.410000  51.439999  37.209999   \n",
       "2024-09-23 00:00:00+00:00   2.380000  42.900002  52.090000  37.860001   \n",
       "2024-09-24 00:00:00+00:00   2.388300  43.064999  55.480000  38.264999   \n",
       "\n",
       "Ticker                           TSLA        UCB        UMI        ^GSPC  \n",
       "Date                                                                      \n",
       "2020-01-02 00:00:00+00:00   28.684000  26.747797  22.759552  3257.850098  \n",
       "2020-01-03 00:00:00+00:00   29.534000  26.609699  22.652231  3234.850098  \n",
       "2020-01-06 00:00:00+00:00   30.102667  26.134987  22.652231  3246.280029  \n",
       "2020-01-07 00:00:00+00:00   31.270666  25.617125  22.652231  3237.179932  \n",
       "2020-01-08 00:00:00+00:00   32.809334  26.109093  22.652231  3253.050049  \n",
       "...                               ...        ...        ...          ...  \n",
       "2024-09-18 00:00:00+00:00  227.199997  29.379999  45.027000  5618.259766  \n",
       "2024-09-19 00:00:00+00:00  243.919998  30.320000  44.888000  5713.640137  \n",
       "2024-09-20 00:00:00+00:00  238.250000  29.540001  45.040001  5702.549805  \n",
       "2024-09-23 00:00:00+00:00  250.000000  29.340000  45.626999  5718.569824  \n",
       "2024-09-24 00:00:00+00:00  253.860001  28.900000  45.669998  5729.859863  \n",
       "\n",
       "[1190 rows x 34 columns]"
      ]
     },
     "execution_count": 16,
     "metadata": {},
     "output_type": "execute_result"
    }
   ],
   "source": [
    "test_df = yf.download(BeursRallyComplete, start_date)['Adj Close']\n",
    "test_df = test_df.dropna(axis=1)\n",
    "test_df"
   ]
  },
  {
   "cell_type": "code",
   "execution_count": 17,
   "metadata": {},
   "outputs": [],
   "source": [
    "Tickers = pd.read_html('https://en.wikipedia.org/wiki/List_of_S%26P_500_companies')[0].Symbol\n",
    "df_ = pd.read_html('https://en.wikipedia.org/wiki/List_of_S%26P_500_companies')[1]\n",
    "df_.Date = pd.to_datetime(df_.Date.Date)\n",
    "start = start_date\n",
    "df_ = df_[df_.Date.Date >= start]\n",
    "Tickers = Tickers[~(Tickers.isin(df_.Added.Ticker))]\n",
    "Removed_Tickers = df_.Removed.Ticker\n",
    "Tickers_Full = pd.concat([Tickers, Removed_Tickers])\n",
    "Tickers_Full.dropna(inplace=True)\n",
    "Tickers_Full.drop_duplicates(inplace=True)\n",
    "Tickers_Full = list(Tickers_Full)"
   ]
  },
  {
   "cell_type": "code",
   "execution_count": 18,
   "metadata": {},
   "outputs": [],
   "source": [
    "#save stocks to csv\n",
    "def save_to_csv_from_yahoo(ticker, startdate, enddate):\n",
    "    start = startdate\n",
    "    end = enddate\n",
    "\n",
    "    try:\n",
    "        print(\"Get Data for :\", ticker)\n",
    "        df = yf.download(ticker, start=start, end=end)['Adj Close']\n",
    "        time.sleep(0)\n",
    "        df.to_csv('C:/Users/dietd/Untitled Folder/Python for Finance/Financial Data/Stock Data Updated/' + ticker + '.csv')\n",
    "\n",
    "    except Exception as ex:\n",
    "        stocks_not_downloaded.append(ticker)\n",
    "        print(\"Could not download data for: \"+ticker)\n",
    "\n",
    "#function that returns df from csv\n",
    "def get_df_from_csv(ticker):\n",
    "    try:\n",
    "        df = pd.read_csv(PATH + ticker + '.csv', index_col='Date', parse_dates=True)\n",
    "\n",
    "    except FileNotFoundError:\n",
    "        print(\"File Does Not Exist\")\n",
    "        pass\n",
    "\n",
    "    else:\n",
    "        return df\n",
    "\n",
    "\n",
    "\n",
    "def update_stock_data(ticker):\n",
    "    up_folder = 'C:/Users/dietd/Untitled Folder/Python for Finance/Financial Data/Stock Data Updated/'\n",
    "\n",
    "    stock_folder = PATH\n",
    "\n",
    "    update_df = get_df_from_csv(up_folder, ticker)\n",
    "    update_df\n",
    "\n",
    "    original_df = get_df_from_csv(stock_folder, ticker)\n",
    "\n",
    "    #drop unnamed column\n",
    "    original_df.drop(original_df.columns[original_df.columns.str.contains('unnamed', case = False)], axis=1, inplace=True)\n",
    "\n",
    "    #drop daily return column\n",
    "    original_df = original_df.drop('Daily_Return', axis=1)\n",
    "\n",
    "    join_df = pd.concat([original_df, update_df])\n",
    "\n",
    "    return join_df"
   ]
  },
  {
   "cell_type": "code",
   "execution_count": 19,
   "metadata": {},
   "outputs": [],
   "source": [
    "def save_dataframe_to_csv(df, folder, ticker):\n",
    "    df.to_csv(folder + ticker + '.csv')\n",
    "\n",
    "\n",
    "def update_stocks(stock_folder):\n",
    "    for x in tickers:\n",
    "        try:\n",
    "            print('Working on ', x)\n",
    "            new_df = update_stock_data(x)\n",
    "            save_dataframe_to_csv(new_df, stock_folder, x)\n",
    "\n",
    "        except Exception as ex:\n",
    "            print(ex) #prints the error type"
   ]
  },
  {
   "cell_type": "code",
   "execution_count": 20,
   "metadata": {},
   "outputs": [],
   "source": [
    "#merge multiple stock in one df by column name\n",
    "def merge_df_by_column_name(col_name, sdate, edate, *tick_args):\n",
    "    mult_df = pd.DataFrame()\n",
    "    #print(tick_args[0])\n",
    "    for x in tick_args:\n",
    "        #print(x)\n",
    "        df = get_df_from_csv(x)\n",
    "        #df['Date']=pd.to_datetime(df['Date'])\n",
    "        mask = (df.index >= sdate) & (df.index <= edate)\n",
    "        mult_df[x] = df.loc[mask][col_name]\n",
    "    \n",
    "    return mult_df\n",
    "        "
   ]
  },
  {
   "cell_type": "code",
   "execution_count": 21,
   "metadata": {
    "scrolled": true
   },
   "outputs": [
    {
     "name": "stdout",
     "output_type": "stream",
     "text": [
      "Working on stock number  1  of  513  total\n"
     ]
    },
    {
     "name": "stderr",
     "output_type": "stream",
     "text": [
      "[*********************100%***********************]  1 of 1 completed\n"
     ]
    },
    {
     "name": "stdout",
     "output_type": "stream",
     "text": [
      "Working on stock number  2  of  513  total\n"
     ]
    },
    {
     "name": "stderr",
     "output_type": "stream",
     "text": [
      "[*********************100%***********************]  1 of 1 completed\n"
     ]
    },
    {
     "name": "stdout",
     "output_type": "stream",
     "text": [
      "Working on stock number  3  of  513  total\n"
     ]
    },
    {
     "name": "stderr",
     "output_type": "stream",
     "text": [
      "[*********************100%***********************]  1 of 1 completed\n"
     ]
    },
    {
     "name": "stdout",
     "output_type": "stream",
     "text": [
      "Working on stock number  4  of  513  total\n"
     ]
    },
    {
     "name": "stderr",
     "output_type": "stream",
     "text": [
      "[*********************100%***********************]  1 of 1 completed\n"
     ]
    },
    {
     "name": "stdout",
     "output_type": "stream",
     "text": [
      "Working on stock number  5  of  513  total\n"
     ]
    },
    {
     "name": "stderr",
     "output_type": "stream",
     "text": [
      "[*********************100%***********************]  1 of 1 completed\n"
     ]
    },
    {
     "name": "stdout",
     "output_type": "stream",
     "text": [
      "Working on stock number  6  of  513  total\n"
     ]
    },
    {
     "name": "stderr",
     "output_type": "stream",
     "text": [
      "[*********************100%***********************]  1 of 1 completed\n",
      "[*********************100%***********************]  1 of 1 completed"
     ]
    },
    {
     "name": "stdout",
     "output_type": "stream",
     "text": [
      "Working on stock number  7  of  513  total\n"
     ]
    },
    {
     "name": "stderr",
     "output_type": "stream",
     "text": [
      "\n"
     ]
    },
    {
     "name": "stdout",
     "output_type": "stream",
     "text": [
      "Working on stock number  8  of  513  total\n"
     ]
    },
    {
     "name": "stderr",
     "output_type": "stream",
     "text": [
      "[*********************100%***********************]  1 of 1 completed\n"
     ]
    },
    {
     "name": "stdout",
     "output_type": "stream",
     "text": [
      "Working on stock number  9  of  513  total\n"
     ]
    },
    {
     "name": "stderr",
     "output_type": "stream",
     "text": [
      "[*********************100%***********************]  1 of 1 completed\n"
     ]
    },
    {
     "name": "stdout",
     "output_type": "stream",
     "text": [
      "Working on stock number  10  of  513  total\n"
     ]
    },
    {
     "name": "stderr",
     "output_type": "stream",
     "text": [
      "[*********************100%***********************]  1 of 1 completed\n"
     ]
    },
    {
     "name": "stdout",
     "output_type": "stream",
     "text": [
      "Working on stock number  11  of  513  total\n"
     ]
    },
    {
     "name": "stderr",
     "output_type": "stream",
     "text": [
      "[*********************100%***********************]  1 of 1 completed\n"
     ]
    },
    {
     "name": "stdout",
     "output_type": "stream",
     "text": [
      "Working on stock number  12  of  513  total\n"
     ]
    },
    {
     "name": "stderr",
     "output_type": "stream",
     "text": [
      "[*********************100%***********************]  1 of 1 completed\n"
     ]
    },
    {
     "name": "stdout",
     "output_type": "stream",
     "text": [
      "Working on stock number  13  of  513  total\n"
     ]
    },
    {
     "name": "stderr",
     "output_type": "stream",
     "text": [
      "[*********************100%***********************]  1 of 1 completed\n"
     ]
    },
    {
     "name": "stdout",
     "output_type": "stream",
     "text": [
      "Working on stock number  14  of  513  total\n"
     ]
    },
    {
     "name": "stderr",
     "output_type": "stream",
     "text": [
      "[*********************100%***********************]  1 of 1 completed\n"
     ]
    },
    {
     "name": "stdout",
     "output_type": "stream",
     "text": [
      "Working on stock number  15  of  513  total\n"
     ]
    },
    {
     "name": "stderr",
     "output_type": "stream",
     "text": [
      "[*********************100%***********************]  1 of 1 completed\n"
     ]
    },
    {
     "name": "stdout",
     "output_type": "stream",
     "text": [
      "Working on stock number  16  of  513  total\n"
     ]
    },
    {
     "name": "stderr",
     "output_type": "stream",
     "text": [
      "[*********************100%***********************]  1 of 1 completed\n"
     ]
    },
    {
     "name": "stdout",
     "output_type": "stream",
     "text": [
      "Working on stock number  17  of  513  total\n"
     ]
    },
    {
     "name": "stderr",
     "output_type": "stream",
     "text": [
      "[*********************100%***********************]  1 of 1 completed\n"
     ]
    },
    {
     "name": "stdout",
     "output_type": "stream",
     "text": [
      "Working on stock number  18  of  513  total\n"
     ]
    },
    {
     "name": "stderr",
     "output_type": "stream",
     "text": [
      "[*********************100%***********************]  1 of 1 completed\n"
     ]
    },
    {
     "name": "stdout",
     "output_type": "stream",
     "text": [
      "Working on stock number  19  of  513  total\n"
     ]
    },
    {
     "name": "stderr",
     "output_type": "stream",
     "text": [
      "[*********************100%***********************]  1 of 1 completed\n"
     ]
    },
    {
     "name": "stdout",
     "output_type": "stream",
     "text": [
      "Working on stock number  20  of  513  total\n"
     ]
    },
    {
     "name": "stderr",
     "output_type": "stream",
     "text": [
      "[*********************100%***********************]  1 of 1 completed\n"
     ]
    },
    {
     "name": "stdout",
     "output_type": "stream",
     "text": [
      "Working on stock number  21  of  513  total\n"
     ]
    },
    {
     "name": "stderr",
     "output_type": "stream",
     "text": [
      "[*********************100%***********************]  1 of 1 completed\n"
     ]
    },
    {
     "name": "stdout",
     "output_type": "stream",
     "text": [
      "Working on stock number  22  of  513  total\n"
     ]
    },
    {
     "name": "stderr",
     "output_type": "stream",
     "text": [
      "[*********************100%***********************]  1 of 1 completed\n"
     ]
    },
    {
     "name": "stdout",
     "output_type": "stream",
     "text": [
      "Working on stock number  23  of  513  total\n"
     ]
    },
    {
     "name": "stderr",
     "output_type": "stream",
     "text": [
      "[*********************100%***********************]  1 of 1 completed\n"
     ]
    },
    {
     "name": "stdout",
     "output_type": "stream",
     "text": [
      "Working on stock number  24  of  513  total\n"
     ]
    },
    {
     "name": "stderr",
     "output_type": "stream",
     "text": [
      "[*********************100%***********************]  1 of 1 completed\n"
     ]
    },
    {
     "name": "stdout",
     "output_type": "stream",
     "text": [
      "Working on stock number  25  of  513  total\n"
     ]
    },
    {
     "name": "stderr",
     "output_type": "stream",
     "text": [
      "[*********************100%***********************]  1 of 1 completed\n"
     ]
    },
    {
     "name": "stdout",
     "output_type": "stream",
     "text": [
      "Working on stock number  26  of  513  total\n"
     ]
    },
    {
     "name": "stderr",
     "output_type": "stream",
     "text": [
      "[*********************100%***********************]  1 of 1 completed\n"
     ]
    },
    {
     "name": "stdout",
     "output_type": "stream",
     "text": [
      "Working on stock number  27  of  513  total\n"
     ]
    },
    {
     "name": "stderr",
     "output_type": "stream",
     "text": [
      "[*********************100%***********************]  1 of 1 completed\n"
     ]
    },
    {
     "name": "stdout",
     "output_type": "stream",
     "text": [
      "Working on stock number  28  of  513  total\n"
     ]
    },
    {
     "name": "stderr",
     "output_type": "stream",
     "text": [
      "[*********************100%***********************]  1 of 1 completed\n"
     ]
    },
    {
     "name": "stdout",
     "output_type": "stream",
     "text": [
      "Working on stock number  29  of  513  total\n"
     ]
    },
    {
     "name": "stderr",
     "output_type": "stream",
     "text": [
      "[*********************100%***********************]  1 of 1 completed\n"
     ]
    },
    {
     "name": "stdout",
     "output_type": "stream",
     "text": [
      "Working on stock number  30  of  513  total\n"
     ]
    },
    {
     "name": "stderr",
     "output_type": "stream",
     "text": [
      "[*********************100%***********************]  1 of 1 completed\n"
     ]
    },
    {
     "name": "stdout",
     "output_type": "stream",
     "text": [
      "Working on stock number  31  of  513  total\n"
     ]
    },
    {
     "name": "stderr",
     "output_type": "stream",
     "text": [
      "[*********************100%***********************]  1 of 1 completed\n"
     ]
    },
    {
     "name": "stdout",
     "output_type": "stream",
     "text": [
      "Working on stock number  32  of  513  total\n"
     ]
    },
    {
     "name": "stderr",
     "output_type": "stream",
     "text": [
      "[*********************100%***********************]  1 of 1 completed\n"
     ]
    },
    {
     "name": "stdout",
     "output_type": "stream",
     "text": [
      "Working on stock number  33  of  513  total\n"
     ]
    },
    {
     "name": "stderr",
     "output_type": "stream",
     "text": [
      "[*********************100%***********************]  1 of 1 completed\n"
     ]
    },
    {
     "name": "stdout",
     "output_type": "stream",
     "text": [
      "Working on stock number  34  of  513  total\n"
     ]
    },
    {
     "name": "stderr",
     "output_type": "stream",
     "text": [
      "[*********************100%***********************]  1 of 1 completed\n"
     ]
    },
    {
     "name": "stdout",
     "output_type": "stream",
     "text": [
      "Working on stock number  35  of  513  total\n"
     ]
    },
    {
     "name": "stderr",
     "output_type": "stream",
     "text": [
      "[*********************100%***********************]  1 of 1 completed\n"
     ]
    },
    {
     "name": "stdout",
     "output_type": "stream",
     "text": [
      "Working on stock number  36  of  513  total\n"
     ]
    },
    {
     "name": "stderr",
     "output_type": "stream",
     "text": [
      "[*********************100%***********************]  1 of 1 completed\n"
     ]
    },
    {
     "name": "stdout",
     "output_type": "stream",
     "text": [
      "Working on stock number  37  of  513  total\n"
     ]
    },
    {
     "name": "stderr",
     "output_type": "stream",
     "text": [
      "[*********************100%***********************]  1 of 1 completed\n"
     ]
    },
    {
     "name": "stdout",
     "output_type": "stream",
     "text": [
      "Working on stock number  38  of  513  total\n"
     ]
    },
    {
     "name": "stderr",
     "output_type": "stream",
     "text": [
      "[*********************100%***********************]  1 of 1 completed\n"
     ]
    },
    {
     "name": "stdout",
     "output_type": "stream",
     "text": [
      "Working on stock number  39  of  513  total\n"
     ]
    },
    {
     "name": "stderr",
     "output_type": "stream",
     "text": [
      "[*********************100%***********************]  1 of 1 completed\n"
     ]
    },
    {
     "name": "stdout",
     "output_type": "stream",
     "text": [
      "Working on stock number  40  of  513  total\n"
     ]
    },
    {
     "name": "stderr",
     "output_type": "stream",
     "text": [
      "[*********************100%***********************]  1 of 1 completed\n"
     ]
    },
    {
     "name": "stdout",
     "output_type": "stream",
     "text": [
      "Working on stock number  41  of  513  total\n"
     ]
    },
    {
     "name": "stderr",
     "output_type": "stream",
     "text": [
      "[*********************100%***********************]  1 of 1 completed\n"
     ]
    },
    {
     "name": "stdout",
     "output_type": "stream",
     "text": [
      "Working on stock number  42  of  513  total\n"
     ]
    },
    {
     "name": "stderr",
     "output_type": "stream",
     "text": [
      "[*********************100%***********************]  1 of 1 completed\n"
     ]
    },
    {
     "name": "stdout",
     "output_type": "stream",
     "text": [
      "Working on stock number  43  of  513  total\n"
     ]
    },
    {
     "name": "stderr",
     "output_type": "stream",
     "text": [
      "[*********************100%***********************]  1 of 1 completed\n"
     ]
    },
    {
     "name": "stdout",
     "output_type": "stream",
     "text": [
      "Working on stock number  44  of  513  total\n"
     ]
    },
    {
     "name": "stderr",
     "output_type": "stream",
     "text": [
      "[*********************100%***********************]  1 of 1 completed\n"
     ]
    },
    {
     "name": "stdout",
     "output_type": "stream",
     "text": [
      "Working on stock number  45  of  513  total\n"
     ]
    },
    {
     "name": "stderr",
     "output_type": "stream",
     "text": [
      "[*********************100%***********************]  1 of 1 completed\n"
     ]
    },
    {
     "name": "stdout",
     "output_type": "stream",
     "text": [
      "Working on stock number  46  of  513  total\n"
     ]
    },
    {
     "name": "stderr",
     "output_type": "stream",
     "text": [
      "[*********************100%***********************]  1 of 1 completed\n"
     ]
    },
    {
     "name": "stdout",
     "output_type": "stream",
     "text": [
      "Working on stock number  47  of  513  total\n"
     ]
    },
    {
     "name": "stderr",
     "output_type": "stream",
     "text": [
      "[*********************100%***********************]  1 of 1 completed\n"
     ]
    },
    {
     "name": "stdout",
     "output_type": "stream",
     "text": [
      "Working on stock number  48  of  513  total\n"
     ]
    },
    {
     "name": "stderr",
     "output_type": "stream",
     "text": [
      "[*********************100%***********************]  1 of 1 completed\n"
     ]
    },
    {
     "name": "stdout",
     "output_type": "stream",
     "text": [
      "Working on stock number  49  of  513  total\n"
     ]
    },
    {
     "name": "stderr",
     "output_type": "stream",
     "text": [
      "[*********************100%***********************]  1 of 1 completed\n"
     ]
    },
    {
     "name": "stdout",
     "output_type": "stream",
     "text": [
      "Working on stock number  50  of  513  total\n"
     ]
    },
    {
     "name": "stderr",
     "output_type": "stream",
     "text": [
      "[*********************100%***********************]  1 of 1 completed\n"
     ]
    },
    {
     "name": "stdout",
     "output_type": "stream",
     "text": [
      "Working on stock number  51  of  513  total\n"
     ]
    },
    {
     "name": "stderr",
     "output_type": "stream",
     "text": [
      "[*********************100%***********************]  1 of 1 completed\n"
     ]
    },
    {
     "name": "stdout",
     "output_type": "stream",
     "text": [
      "Working on stock number  52  of  513  total\n"
     ]
    },
    {
     "name": "stderr",
     "output_type": "stream",
     "text": [
      "[*********************100%***********************]  1 of 1 completed\n"
     ]
    },
    {
     "name": "stdout",
     "output_type": "stream",
     "text": [
      "Working on stock number  53  of  513  total\n"
     ]
    },
    {
     "name": "stderr",
     "output_type": "stream",
     "text": [
      "[*********************100%***********************]  1 of 1 completed\n"
     ]
    },
    {
     "name": "stdout",
     "output_type": "stream",
     "text": [
      "Working on stock number  54  of  513  total\n"
     ]
    },
    {
     "name": "stderr",
     "output_type": "stream",
     "text": [
      "[*********************100%***********************]  1 of 1 completed\n"
     ]
    },
    {
     "name": "stdout",
     "output_type": "stream",
     "text": [
      "Working on stock number  55  of  513  total\n"
     ]
    },
    {
     "name": "stderr",
     "output_type": "stream",
     "text": [
      "[*********************100%***********************]  1 of 1 completed\n"
     ]
    },
    {
     "name": "stdout",
     "output_type": "stream",
     "text": [
      "Working on stock number  56  of  513  total\n"
     ]
    },
    {
     "name": "stderr",
     "output_type": "stream",
     "text": [
      "[*********************100%***********************]  1 of 1 completed\n"
     ]
    },
    {
     "name": "stdout",
     "output_type": "stream",
     "text": [
      "Working on stock number  57  of  513  total\n"
     ]
    },
    {
     "name": "stderr",
     "output_type": "stream",
     "text": [
      "[*********************100%***********************]  1 of 1 completed\n"
     ]
    },
    {
     "name": "stdout",
     "output_type": "stream",
     "text": [
      "Working on stock number  58  of  513  total\n"
     ]
    },
    {
     "name": "stderr",
     "output_type": "stream",
     "text": [
      "[*********************100%***********************]  1 of 1 completed\n"
     ]
    },
    {
     "name": "stdout",
     "output_type": "stream",
     "text": [
      "Working on stock number  59  of  513  total\n"
     ]
    },
    {
     "name": "stderr",
     "output_type": "stream",
     "text": [
      "[*********************100%***********************]  1 of 1 completed\n",
      "\n",
      "1 Failed download:\n",
      "['BRK.B']: YFTzMissingError('$%ticker%: possibly delisted; no timezone found')\n"
     ]
    },
    {
     "name": "stdout",
     "output_type": "stream",
     "text": [
      "Working on stock number  60  of  513  total\n"
     ]
    },
    {
     "name": "stderr",
     "output_type": "stream",
     "text": [
      "[*********************100%***********************]  1 of 1 completed\n"
     ]
    },
    {
     "name": "stdout",
     "output_type": "stream",
     "text": [
      "Working on stock number  61  of  513  total\n"
     ]
    },
    {
     "name": "stderr",
     "output_type": "stream",
     "text": [
      "[*********************100%***********************]  1 of 1 completed\n"
     ]
    },
    {
     "name": "stdout",
     "output_type": "stream",
     "text": [
      "Working on stock number  62  of  513  total\n"
     ]
    },
    {
     "name": "stderr",
     "output_type": "stream",
     "text": [
      "[*********************100%***********************]  1 of 1 completed\n"
     ]
    },
    {
     "name": "stdout",
     "output_type": "stream",
     "text": [
      "Working on stock number  63  of  513  total\n"
     ]
    },
    {
     "name": "stderr",
     "output_type": "stream",
     "text": [
      "[*********************100%***********************]  1 of 1 completed\n"
     ]
    },
    {
     "name": "stdout",
     "output_type": "stream",
     "text": [
      "Working on stock number  64  of  513  total\n"
     ]
    },
    {
     "name": "stderr",
     "output_type": "stream",
     "text": [
      "[*********************100%***********************]  1 of 1 completed\n"
     ]
    },
    {
     "name": "stdout",
     "output_type": "stream",
     "text": [
      "Working on stock number  65  of  513  total\n"
     ]
    },
    {
     "name": "stderr",
     "output_type": "stream",
     "text": [
      "[*********************100%***********************]  1 of 1 completed\n"
     ]
    },
    {
     "name": "stdout",
     "output_type": "stream",
     "text": [
      "Working on stock number  66  of  513  total\n"
     ]
    },
    {
     "name": "stderr",
     "output_type": "stream",
     "text": [
      "[*********************100%***********************]  1 of 1 completed\n"
     ]
    },
    {
     "name": "stdout",
     "output_type": "stream",
     "text": [
      "Working on stock number  67  of  513  total\n"
     ]
    },
    {
     "name": "stderr",
     "output_type": "stream",
     "text": [
      "[*********************100%***********************]  1 of 1 completed\n"
     ]
    },
    {
     "name": "stdout",
     "output_type": "stream",
     "text": [
      "Working on stock number  68  of  513  total\n"
     ]
    },
    {
     "name": "stderr",
     "output_type": "stream",
     "text": [
      "[*********************100%***********************]  1 of 1 completed\n"
     ]
    },
    {
     "name": "stdout",
     "output_type": "stream",
     "text": [
      "Working on stock number  69  of  513  total\n"
     ]
    },
    {
     "name": "stderr",
     "output_type": "stream",
     "text": [
      "[*********************100%***********************]  1 of 1 completed\n"
     ]
    },
    {
     "name": "stdout",
     "output_type": "stream",
     "text": [
      "Working on stock number  70  of  513  total\n"
     ]
    },
    {
     "name": "stderr",
     "output_type": "stream",
     "text": [
      "[*********************100%***********************]  1 of 1 completed\n",
      "\n",
      "1 Failed download:\n",
      "['BF.B']: YFPricesMissingError('$%ticker%: possibly delisted; no price data found  (1d 2020-01-02 -> 2024-09-24)')\n"
     ]
    },
    {
     "name": "stdout",
     "output_type": "stream",
     "text": [
      "Working on stock number  71  of  513  total\n"
     ]
    },
    {
     "name": "stderr",
     "output_type": "stream",
     "text": [
      "[*********************100%***********************]  1 of 1 completed\n"
     ]
    },
    {
     "name": "stdout",
     "output_type": "stream",
     "text": [
      "Working on stock number  72  of  513  total\n"
     ]
    },
    {
     "name": "stderr",
     "output_type": "stream",
     "text": [
      "[*********************100%***********************]  1 of 1 completed\n"
     ]
    },
    {
     "name": "stdout",
     "output_type": "stream",
     "text": [
      "Working on stock number  73  of  513  total\n"
     ]
    },
    {
     "name": "stderr",
     "output_type": "stream",
     "text": [
      "[*********************100%***********************]  1 of 1 completed\n"
     ]
    },
    {
     "name": "stdout",
     "output_type": "stream",
     "text": [
      "Working on stock number  74  of  513  total\n"
     ]
    },
    {
     "name": "stderr",
     "output_type": "stream",
     "text": [
      "[*********************100%***********************]  1 of 1 completed\n"
     ]
    },
    {
     "name": "stdout",
     "output_type": "stream",
     "text": [
      "Working on stock number  75  of  513  total\n"
     ]
    },
    {
     "name": "stderr",
     "output_type": "stream",
     "text": [
      "[*********************100%***********************]  1 of 1 completed\n"
     ]
    },
    {
     "name": "stdout",
     "output_type": "stream",
     "text": [
      "Working on stock number  76  of  513  total\n"
     ]
    },
    {
     "name": "stderr",
     "output_type": "stream",
     "text": [
      "[*********************100%***********************]  1 of 1 completed\n"
     ]
    },
    {
     "name": "stdout",
     "output_type": "stream",
     "text": [
      "Working on stock number  77  of  513  total\n"
     ]
    },
    {
     "name": "stderr",
     "output_type": "stream",
     "text": [
      "[*********************100%***********************]  1 of 1 completed\n"
     ]
    },
    {
     "name": "stdout",
     "output_type": "stream",
     "text": [
      "Working on stock number  78  of  513  total\n"
     ]
    },
    {
     "name": "stderr",
     "output_type": "stream",
     "text": [
      "[*********************100%***********************]  1 of 1 completed\n"
     ]
    },
    {
     "name": "stdout",
     "output_type": "stream",
     "text": [
      "Working on stock number  79  of  513  total\n"
     ]
    },
    {
     "name": "stderr",
     "output_type": "stream",
     "text": [
      "[*********************100%***********************]  1 of 1 completed\n"
     ]
    },
    {
     "name": "stdout",
     "output_type": "stream",
     "text": [
      "Working on stock number  80  of  513  total\n"
     ]
    },
    {
     "name": "stderr",
     "output_type": "stream",
     "text": [
      "[*********************100%***********************]  1 of 1 completed\n"
     ]
    },
    {
     "name": "stdout",
     "output_type": "stream",
     "text": [
      "Working on stock number  81  of  513  total\n"
     ]
    },
    {
     "name": "stderr",
     "output_type": "stream",
     "text": [
      "[*********************100%***********************]  1 of 1 completed\n"
     ]
    },
    {
     "name": "stdout",
     "output_type": "stream",
     "text": [
      "Working on stock number  82  of  513  total\n"
     ]
    },
    {
     "name": "stderr",
     "output_type": "stream",
     "text": [
      "[*********************100%***********************]  1 of 1 completed\n"
     ]
    },
    {
     "name": "stdout",
     "output_type": "stream",
     "text": [
      "Working on stock number  83  of  513  total\n"
     ]
    },
    {
     "name": "stderr",
     "output_type": "stream",
     "text": [
      "[*********************100%***********************]  1 of 1 completed\n"
     ]
    },
    {
     "name": "stdout",
     "output_type": "stream",
     "text": [
      "Working on stock number  84  of  513  total\n"
     ]
    },
    {
     "name": "stderr",
     "output_type": "stream",
     "text": [
      "[*********************100%***********************]  1 of 1 completed\n"
     ]
    },
    {
     "name": "stdout",
     "output_type": "stream",
     "text": [
      "Working on stock number  85  of  513  total\n"
     ]
    },
    {
     "name": "stderr",
     "output_type": "stream",
     "text": [
      "[*********************100%***********************]  1 of 1 completed\n"
     ]
    },
    {
     "name": "stdout",
     "output_type": "stream",
     "text": [
      "Working on stock number  86  of  513  total\n"
     ]
    },
    {
     "name": "stderr",
     "output_type": "stream",
     "text": [
      "[*********************100%***********************]  1 of 1 completed\n"
     ]
    },
    {
     "name": "stdout",
     "output_type": "stream",
     "text": [
      "Working on stock number  87  of  513  total\n"
     ]
    },
    {
     "name": "stderr",
     "output_type": "stream",
     "text": [
      "[*********************100%***********************]  1 of 1 completed\n"
     ]
    },
    {
     "name": "stdout",
     "output_type": "stream",
     "text": [
      "Working on stock number  88  of  513  total\n"
     ]
    },
    {
     "name": "stderr",
     "output_type": "stream",
     "text": [
      "[*********************100%***********************]  1 of 1 completed\n"
     ]
    },
    {
     "name": "stdout",
     "output_type": "stream",
     "text": [
      "Working on stock number  89  of  513  total\n"
     ]
    },
    {
     "name": "stderr",
     "output_type": "stream",
     "text": [
      "[*********************100%***********************]  1 of 1 completed\n"
     ]
    },
    {
     "name": "stdout",
     "output_type": "stream",
     "text": [
      "Working on stock number  90  of  513  total\n"
     ]
    },
    {
     "name": "stderr",
     "output_type": "stream",
     "text": [
      "[*********************100%***********************]  1 of 1 completed\n"
     ]
    },
    {
     "name": "stdout",
     "output_type": "stream",
     "text": [
      "Working on stock number  91  of  513  total\n"
     ]
    },
    {
     "name": "stderr",
     "output_type": "stream",
     "text": [
      "[*********************100%***********************]  1 of 1 completed\n"
     ]
    },
    {
     "name": "stdout",
     "output_type": "stream",
     "text": [
      "Working on stock number  92  of  513  total\n"
     ]
    },
    {
     "name": "stderr",
     "output_type": "stream",
     "text": [
      "[*********************100%***********************]  1 of 1 completed\n"
     ]
    },
    {
     "name": "stdout",
     "output_type": "stream",
     "text": [
      "Working on stock number  93  of  513  total\n"
     ]
    },
    {
     "name": "stderr",
     "output_type": "stream",
     "text": [
      "[*********************100%***********************]  1 of 1 completed\n"
     ]
    },
    {
     "name": "stdout",
     "output_type": "stream",
     "text": [
      "Working on stock number  94  of  513  total\n"
     ]
    },
    {
     "name": "stderr",
     "output_type": "stream",
     "text": [
      "[*********************100%***********************]  1 of 1 completed\n"
     ]
    },
    {
     "name": "stdout",
     "output_type": "stream",
     "text": [
      "Working on stock number  95  of  513  total\n"
     ]
    },
    {
     "name": "stderr",
     "output_type": "stream",
     "text": [
      "[*********************100%***********************]  1 of 1 completed\n"
     ]
    },
    {
     "name": "stdout",
     "output_type": "stream",
     "text": [
      "Working on stock number  96  of  513  total\n"
     ]
    },
    {
     "name": "stderr",
     "output_type": "stream",
     "text": [
      "[*********************100%***********************]  1 of 1 completed\n"
     ]
    },
    {
     "name": "stdout",
     "output_type": "stream",
     "text": [
      "Working on stock number  97  of  513  total\n"
     ]
    },
    {
     "name": "stderr",
     "output_type": "stream",
     "text": [
      "[*********************100%***********************]  1 of 1 completed\n"
     ]
    },
    {
     "name": "stdout",
     "output_type": "stream",
     "text": [
      "Working on stock number  98  of  513  total\n"
     ]
    },
    {
     "name": "stderr",
     "output_type": "stream",
     "text": [
      "[*********************100%***********************]  1 of 1 completed\n"
     ]
    },
    {
     "name": "stdout",
     "output_type": "stream",
     "text": [
      "Working on stock number  99  of  513  total\n"
     ]
    },
    {
     "name": "stderr",
     "output_type": "stream",
     "text": [
      "[*********************100%***********************]  1 of 1 completed\n"
     ]
    },
    {
     "name": "stdout",
     "output_type": "stream",
     "text": [
      "Working on stock number  100  of  513  total\n"
     ]
    },
    {
     "name": "stderr",
     "output_type": "stream",
     "text": [
      "[*********************100%***********************]  1 of 1 completed\n"
     ]
    },
    {
     "name": "stdout",
     "output_type": "stream",
     "text": [
      "Working on stock number  101  of  513  total\n"
     ]
    },
    {
     "name": "stderr",
     "output_type": "stream",
     "text": [
      "[*********************100%***********************]  1 of 1 completed\n"
     ]
    },
    {
     "name": "stdout",
     "output_type": "stream",
     "text": [
      "Working on stock number  102  of  513  total\n"
     ]
    },
    {
     "name": "stderr",
     "output_type": "stream",
     "text": [
      "[*********************100%***********************]  1 of 1 completed\n"
     ]
    },
    {
     "name": "stdout",
     "output_type": "stream",
     "text": [
      "Working on stock number  103  of  513  total\n"
     ]
    },
    {
     "name": "stderr",
     "output_type": "stream",
     "text": [
      "[*********************100%***********************]  1 of 1 completed\n"
     ]
    },
    {
     "name": "stdout",
     "output_type": "stream",
     "text": [
      "Working on stock number  104  of  513  total\n"
     ]
    },
    {
     "name": "stderr",
     "output_type": "stream",
     "text": [
      "[*********************100%***********************]  1 of 1 completed\n"
     ]
    },
    {
     "name": "stdout",
     "output_type": "stream",
     "text": [
      "Working on stock number  105  of  513  total\n"
     ]
    },
    {
     "name": "stderr",
     "output_type": "stream",
     "text": [
      "[*********************100%***********************]  1 of 1 completed\n"
     ]
    },
    {
     "name": "stdout",
     "output_type": "stream",
     "text": [
      "Working on stock number  106  of  513  total\n"
     ]
    },
    {
     "name": "stderr",
     "output_type": "stream",
     "text": [
      "[*********************100%***********************]  1 of 1 completed\n"
     ]
    },
    {
     "name": "stdout",
     "output_type": "stream",
     "text": [
      "Working on stock number  107  of  513  total\n"
     ]
    },
    {
     "name": "stderr",
     "output_type": "stream",
     "text": [
      "[*********************100%***********************]  1 of 1 completed\n"
     ]
    },
    {
     "name": "stdout",
     "output_type": "stream",
     "text": [
      "Working on stock number  108  of  513  total\n"
     ]
    },
    {
     "name": "stderr",
     "output_type": "stream",
     "text": [
      "[*********************100%***********************]  1 of 1 completed\n"
     ]
    },
    {
     "name": "stdout",
     "output_type": "stream",
     "text": [
      "Working on stock number  109  of  513  total\n"
     ]
    },
    {
     "name": "stderr",
     "output_type": "stream",
     "text": [
      "[*********************100%***********************]  1 of 1 completed\n"
     ]
    },
    {
     "name": "stdout",
     "output_type": "stream",
     "text": [
      "Working on stock number  110  of  513  total\n"
     ]
    },
    {
     "name": "stderr",
     "output_type": "stream",
     "text": [
      "[*********************100%***********************]  1 of 1 completed\n"
     ]
    },
    {
     "name": "stdout",
     "output_type": "stream",
     "text": [
      "Working on stock number  111  of  513  total\n"
     ]
    },
    {
     "name": "stderr",
     "output_type": "stream",
     "text": [
      "[*********************100%***********************]  1 of 1 completed\n"
     ]
    },
    {
     "name": "stdout",
     "output_type": "stream",
     "text": [
      "Working on stock number  112  of  513  total\n"
     ]
    },
    {
     "name": "stderr",
     "output_type": "stream",
     "text": [
      "[*********************100%***********************]  1 of 1 completed\n"
     ]
    },
    {
     "name": "stdout",
     "output_type": "stream",
     "text": [
      "Working on stock number  113  of  513  total\n"
     ]
    },
    {
     "name": "stderr",
     "output_type": "stream",
     "text": [
      "[*********************100%***********************]  1 of 1 completed\n"
     ]
    },
    {
     "name": "stdout",
     "output_type": "stream",
     "text": [
      "Working on stock number  114  of  513  total\n"
     ]
    },
    {
     "name": "stderr",
     "output_type": "stream",
     "text": [
      "[*********************100%***********************]  1 of 1 completed\n"
     ]
    },
    {
     "name": "stdout",
     "output_type": "stream",
     "text": [
      "Working on stock number  115  of  513  total\n"
     ]
    },
    {
     "name": "stderr",
     "output_type": "stream",
     "text": [
      "[*********************100%***********************]  1 of 1 completed\n"
     ]
    },
    {
     "name": "stdout",
     "output_type": "stream",
     "text": [
      "Working on stock number  116  of  513  total\n"
     ]
    },
    {
     "name": "stderr",
     "output_type": "stream",
     "text": [
      "[*********************100%***********************]  1 of 1 completed\n"
     ]
    },
    {
     "name": "stdout",
     "output_type": "stream",
     "text": [
      "Working on stock number  117  of  513  total\n"
     ]
    },
    {
     "name": "stderr",
     "output_type": "stream",
     "text": [
      "[*********************100%***********************]  1 of 1 completed\n"
     ]
    },
    {
     "name": "stdout",
     "output_type": "stream",
     "text": [
      "Working on stock number  118  of  513  total\n"
     ]
    },
    {
     "name": "stderr",
     "output_type": "stream",
     "text": [
      "[*********************100%***********************]  1 of 1 completed\n"
     ]
    },
    {
     "name": "stdout",
     "output_type": "stream",
     "text": [
      "Working on stock number  119  of  513  total\n"
     ]
    },
    {
     "name": "stderr",
     "output_type": "stream",
     "text": [
      "[*********************100%***********************]  1 of 1 completed\n"
     ]
    },
    {
     "name": "stdout",
     "output_type": "stream",
     "text": [
      "Working on stock number  120  of  513  total\n"
     ]
    },
    {
     "name": "stderr",
     "output_type": "stream",
     "text": [
      "[*********************100%***********************]  1 of 1 completed\n"
     ]
    },
    {
     "name": "stdout",
     "output_type": "stream",
     "text": [
      "Working on stock number  121  of  513  total\n"
     ]
    },
    {
     "name": "stderr",
     "output_type": "stream",
     "text": [
      "[*********************100%***********************]  1 of 1 completed\n"
     ]
    },
    {
     "name": "stdout",
     "output_type": "stream",
     "text": [
      "Working on stock number  122  of  513  total\n"
     ]
    },
    {
     "name": "stderr",
     "output_type": "stream",
     "text": [
      "[*********************100%***********************]  1 of 1 completed\n"
     ]
    },
    {
     "name": "stdout",
     "output_type": "stream",
     "text": [
      "Working on stock number  123  of  513  total\n"
     ]
    },
    {
     "name": "stderr",
     "output_type": "stream",
     "text": [
      "[*********************100%***********************]  1 of 1 completed\n"
     ]
    },
    {
     "name": "stdout",
     "output_type": "stream",
     "text": [
      "Working on stock number  124  of  513  total\n"
     ]
    },
    {
     "name": "stderr",
     "output_type": "stream",
     "text": [
      "[*********************100%***********************]  1 of 1 completed\n"
     ]
    },
    {
     "name": "stdout",
     "output_type": "stream",
     "text": [
      "Working on stock number  125  of  513  total\n"
     ]
    },
    {
     "name": "stderr",
     "output_type": "stream",
     "text": [
      "[*********************100%***********************]  1 of 1 completed\n"
     ]
    },
    {
     "name": "stdout",
     "output_type": "stream",
     "text": [
      "Working on stock number  126  of  513  total\n"
     ]
    },
    {
     "name": "stderr",
     "output_type": "stream",
     "text": [
      "[*********************100%***********************]  1 of 1 completed\n"
     ]
    },
    {
     "name": "stdout",
     "output_type": "stream",
     "text": [
      "Working on stock number  127  of  513  total\n"
     ]
    },
    {
     "name": "stderr",
     "output_type": "stream",
     "text": [
      "[*********************100%***********************]  1 of 1 completed\n"
     ]
    },
    {
     "name": "stdout",
     "output_type": "stream",
     "text": [
      "Working on stock number  128  of  513  total\n"
     ]
    },
    {
     "name": "stderr",
     "output_type": "stream",
     "text": [
      "[*********************100%***********************]  1 of 1 completed\n"
     ]
    },
    {
     "name": "stdout",
     "output_type": "stream",
     "text": [
      "Working on stock number  129  of  513  total\n"
     ]
    },
    {
     "name": "stderr",
     "output_type": "stream",
     "text": [
      "[*********************100%***********************]  1 of 1 completed\n"
     ]
    },
    {
     "name": "stdout",
     "output_type": "stream",
     "text": [
      "Working on stock number  130  of  513  total\n"
     ]
    },
    {
     "name": "stderr",
     "output_type": "stream",
     "text": [
      "[*********************100%***********************]  1 of 1 completed\n"
     ]
    },
    {
     "name": "stdout",
     "output_type": "stream",
     "text": [
      "Working on stock number  131  of  513  total\n"
     ]
    },
    {
     "name": "stderr",
     "output_type": "stream",
     "text": [
      "[*********************100%***********************]  1 of 1 completed\n"
     ]
    },
    {
     "name": "stdout",
     "output_type": "stream",
     "text": [
      "Working on stock number  132  of  513  total\n"
     ]
    },
    {
     "name": "stderr",
     "output_type": "stream",
     "text": [
      "[*********************100%***********************]  1 of 1 completed\n"
     ]
    },
    {
     "name": "stdout",
     "output_type": "stream",
     "text": [
      "Working on stock number  133  of  513  total\n"
     ]
    },
    {
     "name": "stderr",
     "output_type": "stream",
     "text": [
      "[*********************100%***********************]  1 of 1 completed\n"
     ]
    },
    {
     "name": "stdout",
     "output_type": "stream",
     "text": [
      "Working on stock number  134  of  513  total\n"
     ]
    },
    {
     "name": "stderr",
     "output_type": "stream",
     "text": [
      "[*********************100%***********************]  1 of 1 completed\n"
     ]
    },
    {
     "name": "stdout",
     "output_type": "stream",
     "text": [
      "Working on stock number  135  of  513  total\n"
     ]
    },
    {
     "name": "stderr",
     "output_type": "stream",
     "text": [
      "[*********************100%***********************]  1 of 1 completed\n"
     ]
    },
    {
     "name": "stdout",
     "output_type": "stream",
     "text": [
      "Working on stock number  136  of  513  total\n"
     ]
    },
    {
     "name": "stderr",
     "output_type": "stream",
     "text": [
      "[*********************100%***********************]  1 of 1 completed\n"
     ]
    },
    {
     "name": "stdout",
     "output_type": "stream",
     "text": [
      "Working on stock number  137  of  513  total\n"
     ]
    },
    {
     "name": "stderr",
     "output_type": "stream",
     "text": [
      "[*********************100%***********************]  1 of 1 completed\n"
     ]
    },
    {
     "name": "stdout",
     "output_type": "stream",
     "text": [
      "Working on stock number  138  of  513  total\n"
     ]
    },
    {
     "name": "stderr",
     "output_type": "stream",
     "text": [
      "[*********************100%***********************]  1 of 1 completed\n"
     ]
    },
    {
     "name": "stdout",
     "output_type": "stream",
     "text": [
      "Working on stock number  139  of  513  total\n"
     ]
    },
    {
     "name": "stderr",
     "output_type": "stream",
     "text": [
      "[*********************100%***********************]  1 of 1 completed\n"
     ]
    },
    {
     "name": "stdout",
     "output_type": "stream",
     "text": [
      "Working on stock number  140  of  513  total\n"
     ]
    },
    {
     "name": "stderr",
     "output_type": "stream",
     "text": [
      "[*********************100%***********************]  1 of 1 completed\n"
     ]
    },
    {
     "name": "stdout",
     "output_type": "stream",
     "text": [
      "Working on stock number  141  of  513  total\n"
     ]
    },
    {
     "name": "stderr",
     "output_type": "stream",
     "text": [
      "[*********************100%***********************]  1 of 1 completed\n"
     ]
    },
    {
     "name": "stdout",
     "output_type": "stream",
     "text": [
      "Working on stock number  142  of  513  total\n"
     ]
    },
    {
     "name": "stderr",
     "output_type": "stream",
     "text": [
      "[*********************100%***********************]  1 of 1 completed\n"
     ]
    },
    {
     "name": "stdout",
     "output_type": "stream",
     "text": [
      "Working on stock number  143  of  513  total\n"
     ]
    },
    {
     "name": "stderr",
     "output_type": "stream",
     "text": [
      "[*********************100%***********************]  1 of 1 completed\n"
     ]
    },
    {
     "name": "stdout",
     "output_type": "stream",
     "text": [
      "Working on stock number  144  of  513  total\n"
     ]
    },
    {
     "name": "stderr",
     "output_type": "stream",
     "text": [
      "[*********************100%***********************]  1 of 1 completed\n"
     ]
    },
    {
     "name": "stdout",
     "output_type": "stream",
     "text": [
      "Working on stock number  145  of  513  total\n"
     ]
    },
    {
     "name": "stderr",
     "output_type": "stream",
     "text": [
      "[*********************100%***********************]  1 of 1 completed\n"
     ]
    },
    {
     "name": "stdout",
     "output_type": "stream",
     "text": [
      "Working on stock number  146  of  513  total\n"
     ]
    },
    {
     "name": "stderr",
     "output_type": "stream",
     "text": [
      "[*********************100%***********************]  1 of 1 completed\n"
     ]
    },
    {
     "name": "stdout",
     "output_type": "stream",
     "text": [
      "Working on stock number  147  of  513  total\n"
     ]
    },
    {
     "name": "stderr",
     "output_type": "stream",
     "text": [
      "[*********************100%***********************]  1 of 1 completed\n"
     ]
    },
    {
     "name": "stdout",
     "output_type": "stream",
     "text": [
      "Working on stock number  148  of  513  total\n"
     ]
    },
    {
     "name": "stderr",
     "output_type": "stream",
     "text": [
      "[*********************100%***********************]  1 of 1 completed\n"
     ]
    },
    {
     "name": "stdout",
     "output_type": "stream",
     "text": [
      "Working on stock number  149  of  513  total\n"
     ]
    },
    {
     "name": "stderr",
     "output_type": "stream",
     "text": [
      "[*********************100%***********************]  1 of 1 completed\n"
     ]
    },
    {
     "name": "stdout",
     "output_type": "stream",
     "text": [
      "Working on stock number  150  of  513  total\n"
     ]
    },
    {
     "name": "stderr",
     "output_type": "stream",
     "text": [
      "[*********************100%***********************]  1 of 1 completed\n"
     ]
    },
    {
     "name": "stdout",
     "output_type": "stream",
     "text": [
      "Working on stock number  151  of  513  total\n"
     ]
    },
    {
     "name": "stderr",
     "output_type": "stream",
     "text": [
      "[*********************100%***********************]  1 of 1 completed\n"
     ]
    },
    {
     "name": "stdout",
     "output_type": "stream",
     "text": [
      "Working on stock number  152  of  513  total\n"
     ]
    },
    {
     "name": "stderr",
     "output_type": "stream",
     "text": [
      "[*********************100%***********************]  1 of 1 completed\n"
     ]
    },
    {
     "name": "stdout",
     "output_type": "stream",
     "text": [
      "Working on stock number  153  of  513  total\n"
     ]
    },
    {
     "name": "stderr",
     "output_type": "stream",
     "text": [
      "[*********************100%***********************]  1 of 1 completed\n"
     ]
    },
    {
     "name": "stdout",
     "output_type": "stream",
     "text": [
      "Working on stock number  154  of  513  total\n"
     ]
    },
    {
     "name": "stderr",
     "output_type": "stream",
     "text": [
      "[*********************100%***********************]  1 of 1 completed\n"
     ]
    },
    {
     "name": "stdout",
     "output_type": "stream",
     "text": [
      "Working on stock number  155  of  513  total\n"
     ]
    },
    {
     "name": "stderr",
     "output_type": "stream",
     "text": [
      "[*********************100%***********************]  1 of 1 completed\n"
     ]
    },
    {
     "name": "stdout",
     "output_type": "stream",
     "text": [
      "Working on stock number  156  of  513  total\n"
     ]
    },
    {
     "name": "stderr",
     "output_type": "stream",
     "text": [
      "[*********************100%***********************]  1 of 1 completed\n"
     ]
    },
    {
     "name": "stdout",
     "output_type": "stream",
     "text": [
      "Working on stock number  157  of  513  total\n"
     ]
    },
    {
     "name": "stderr",
     "output_type": "stream",
     "text": [
      "[*********************100%***********************]  1 of 1 completed\n"
     ]
    },
    {
     "name": "stdout",
     "output_type": "stream",
     "text": [
      "Working on stock number  158  of  513  total\n"
     ]
    },
    {
     "name": "stderr",
     "output_type": "stream",
     "text": [
      "[*********************100%***********************]  1 of 1 completed\n"
     ]
    },
    {
     "name": "stdout",
     "output_type": "stream",
     "text": [
      "Working on stock number  159  of  513  total\n"
     ]
    },
    {
     "name": "stderr",
     "output_type": "stream",
     "text": [
      "[*********************100%***********************]  1 of 1 completed\n"
     ]
    },
    {
     "name": "stdout",
     "output_type": "stream",
     "text": [
      "Working on stock number  160  of  513  total\n"
     ]
    },
    {
     "name": "stderr",
     "output_type": "stream",
     "text": [
      "[*********************100%***********************]  1 of 1 completed\n"
     ]
    },
    {
     "name": "stdout",
     "output_type": "stream",
     "text": [
      "Working on stock number  161  of  513  total\n"
     ]
    },
    {
     "name": "stderr",
     "output_type": "stream",
     "text": [
      "[*********************100%***********************]  1 of 1 completed\n"
     ]
    },
    {
     "name": "stdout",
     "output_type": "stream",
     "text": [
      "Working on stock number  162  of  513  total\n"
     ]
    },
    {
     "name": "stderr",
     "output_type": "stream",
     "text": [
      "[*********************100%***********************]  1 of 1 completed\n"
     ]
    },
    {
     "name": "stdout",
     "output_type": "stream",
     "text": [
      "Working on stock number  163  of  513  total\n"
     ]
    },
    {
     "name": "stderr",
     "output_type": "stream",
     "text": [
      "[*********************100%***********************]  1 of 1 completed\n"
     ]
    },
    {
     "name": "stdout",
     "output_type": "stream",
     "text": [
      "Working on stock number  164  of  513  total\n"
     ]
    },
    {
     "name": "stderr",
     "output_type": "stream",
     "text": [
      "[*********************100%***********************]  1 of 1 completed\n"
     ]
    },
    {
     "name": "stdout",
     "output_type": "stream",
     "text": [
      "Working on stock number  165  of  513  total\n"
     ]
    },
    {
     "name": "stderr",
     "output_type": "stream",
     "text": [
      "[*********************100%***********************]  1 of 1 completed\n"
     ]
    },
    {
     "name": "stdout",
     "output_type": "stream",
     "text": [
      "Working on stock number  166  of  513  total\n"
     ]
    },
    {
     "name": "stderr",
     "output_type": "stream",
     "text": [
      "[*********************100%***********************]  1 of 1 completed\n"
     ]
    },
    {
     "name": "stdout",
     "output_type": "stream",
     "text": [
      "Working on stock number  167  of  513  total\n"
     ]
    },
    {
     "name": "stderr",
     "output_type": "stream",
     "text": [
      "[*********************100%***********************]  1 of 1 completed\n"
     ]
    },
    {
     "name": "stdout",
     "output_type": "stream",
     "text": [
      "Working on stock number  168  of  513  total\n"
     ]
    },
    {
     "name": "stderr",
     "output_type": "stream",
     "text": [
      "[*********************100%***********************]  1 of 1 completed\n"
     ]
    },
    {
     "name": "stdout",
     "output_type": "stream",
     "text": [
      "Working on stock number  169  of  513  total\n"
     ]
    },
    {
     "name": "stderr",
     "output_type": "stream",
     "text": [
      "[*********************100%***********************]  1 of 1 completed\n"
     ]
    },
    {
     "name": "stdout",
     "output_type": "stream",
     "text": [
      "Working on stock number  170  of  513  total\n"
     ]
    },
    {
     "name": "stderr",
     "output_type": "stream",
     "text": [
      "[*********************100%***********************]  1 of 1 completed\n"
     ]
    },
    {
     "name": "stdout",
     "output_type": "stream",
     "text": [
      "Working on stock number  171  of  513  total\n"
     ]
    },
    {
     "name": "stderr",
     "output_type": "stream",
     "text": [
      "[*********************100%***********************]  1 of 1 completed\n"
     ]
    },
    {
     "name": "stdout",
     "output_type": "stream",
     "text": [
      "Working on stock number  172  of  513  total\n"
     ]
    },
    {
     "name": "stderr",
     "output_type": "stream",
     "text": [
      "[*********************100%***********************]  1 of 1 completed\n"
     ]
    },
    {
     "name": "stdout",
     "output_type": "stream",
     "text": [
      "Working on stock number  173  of  513  total\n"
     ]
    },
    {
     "name": "stderr",
     "output_type": "stream",
     "text": [
      "[*********************100%***********************]  1 of 1 completed\n"
     ]
    },
    {
     "name": "stdout",
     "output_type": "stream",
     "text": [
      "Working on stock number  174  of  513  total\n"
     ]
    },
    {
     "name": "stderr",
     "output_type": "stream",
     "text": [
      "[*********************100%***********************]  1 of 1 completed\n"
     ]
    },
    {
     "name": "stdout",
     "output_type": "stream",
     "text": [
      "Working on stock number  175  of  513  total\n"
     ]
    },
    {
     "name": "stderr",
     "output_type": "stream",
     "text": [
      "[*********************100%***********************]  1 of 1 completed\n"
     ]
    },
    {
     "name": "stdout",
     "output_type": "stream",
     "text": [
      "Working on stock number  176  of  513  total\n"
     ]
    },
    {
     "name": "stderr",
     "output_type": "stream",
     "text": [
      "[*********************100%***********************]  1 of 1 completed\n"
     ]
    },
    {
     "name": "stdout",
     "output_type": "stream",
     "text": [
      "Working on stock number  177  of  513  total\n"
     ]
    },
    {
     "name": "stderr",
     "output_type": "stream",
     "text": [
      "[*********************100%***********************]  1 of 1 completed\n"
     ]
    },
    {
     "name": "stdout",
     "output_type": "stream",
     "text": [
      "Working on stock number  178  of  513  total\n"
     ]
    },
    {
     "name": "stderr",
     "output_type": "stream",
     "text": [
      "[*********************100%***********************]  1 of 1 completed\n"
     ]
    },
    {
     "name": "stdout",
     "output_type": "stream",
     "text": [
      "Working on stock number  179  of  513  total\n"
     ]
    },
    {
     "name": "stderr",
     "output_type": "stream",
     "text": [
      "[*********************100%***********************]  1 of 1 completed\n"
     ]
    },
    {
     "name": "stdout",
     "output_type": "stream",
     "text": [
      "Working on stock number  180  of  513  total\n"
     ]
    },
    {
     "name": "stderr",
     "output_type": "stream",
     "text": [
      "[*********************100%***********************]  1 of 1 completed\n"
     ]
    },
    {
     "name": "stdout",
     "output_type": "stream",
     "text": [
      "Working on stock number  181  of  513  total\n"
     ]
    },
    {
     "name": "stderr",
     "output_type": "stream",
     "text": [
      "[*********************100%***********************]  1 of 1 completed\n"
     ]
    },
    {
     "name": "stdout",
     "output_type": "stream",
     "text": [
      "Working on stock number  182  of  513  total\n"
     ]
    },
    {
     "name": "stderr",
     "output_type": "stream",
     "text": [
      "[*********************100%***********************]  1 of 1 completed\n"
     ]
    },
    {
     "name": "stdout",
     "output_type": "stream",
     "text": [
      "Working on stock number  183  of  513  total\n"
     ]
    },
    {
     "name": "stderr",
     "output_type": "stream",
     "text": [
      "[*********************100%***********************]  1 of 1 completed\n"
     ]
    },
    {
     "name": "stdout",
     "output_type": "stream",
     "text": [
      "Working on stock number  184  of  513  total\n"
     ]
    },
    {
     "name": "stderr",
     "output_type": "stream",
     "text": [
      "[*********************100%***********************]  1 of 1 completed\n"
     ]
    },
    {
     "name": "stdout",
     "output_type": "stream",
     "text": [
      "Working on stock number  185  of  513  total\n"
     ]
    },
    {
     "name": "stderr",
     "output_type": "stream",
     "text": [
      "[*********************100%***********************]  1 of 1 completed\n"
     ]
    },
    {
     "name": "stdout",
     "output_type": "stream",
     "text": [
      "Working on stock number  186  of  513  total\n"
     ]
    },
    {
     "name": "stderr",
     "output_type": "stream",
     "text": [
      "[*********************100%***********************]  1 of 1 completed\n"
     ]
    },
    {
     "name": "stdout",
     "output_type": "stream",
     "text": [
      "Working on stock number  187  of  513  total\n"
     ]
    },
    {
     "name": "stderr",
     "output_type": "stream",
     "text": [
      "[*********************100%***********************]  1 of 1 completed\n"
     ]
    },
    {
     "name": "stdout",
     "output_type": "stream",
     "text": [
      "Working on stock number  188  of  513  total\n"
     ]
    },
    {
     "name": "stderr",
     "output_type": "stream",
     "text": [
      "[*********************100%***********************]  1 of 1 completed\n"
     ]
    },
    {
     "name": "stdout",
     "output_type": "stream",
     "text": [
      "Working on stock number  189  of  513  total\n"
     ]
    },
    {
     "name": "stderr",
     "output_type": "stream",
     "text": [
      "[*********************100%***********************]  1 of 1 completed\n"
     ]
    },
    {
     "name": "stdout",
     "output_type": "stream",
     "text": [
      "Working on stock number  190  of  513  total\n"
     ]
    },
    {
     "name": "stderr",
     "output_type": "stream",
     "text": [
      "[*********************100%***********************]  1 of 1 completed\n"
     ]
    },
    {
     "name": "stdout",
     "output_type": "stream",
     "text": [
      "Working on stock number  191  of  513  total\n"
     ]
    },
    {
     "name": "stderr",
     "output_type": "stream",
     "text": [
      "[*********************100%***********************]  1 of 1 completed\n"
     ]
    },
    {
     "name": "stdout",
     "output_type": "stream",
     "text": [
      "Working on stock number  192  of  513  total\n"
     ]
    },
    {
     "name": "stderr",
     "output_type": "stream",
     "text": [
      "[*********************100%***********************]  1 of 1 completed\n"
     ]
    },
    {
     "name": "stdout",
     "output_type": "stream",
     "text": [
      "Working on stock number  193  of  513  total\n"
     ]
    },
    {
     "name": "stderr",
     "output_type": "stream",
     "text": [
      "[*********************100%***********************]  1 of 1 completed\n"
     ]
    },
    {
     "name": "stdout",
     "output_type": "stream",
     "text": [
      "Working on stock number  194  of  513  total\n"
     ]
    },
    {
     "name": "stderr",
     "output_type": "stream",
     "text": [
      "[*********************100%***********************]  1 of 1 completed\n"
     ]
    },
    {
     "name": "stdout",
     "output_type": "stream",
     "text": [
      "Working on stock number  195  of  513  total\n"
     ]
    },
    {
     "name": "stderr",
     "output_type": "stream",
     "text": [
      "[*********************100%***********************]  1 of 1 completed\n"
     ]
    },
    {
     "name": "stdout",
     "output_type": "stream",
     "text": [
      "Working on stock number  196  of  513  total\n"
     ]
    },
    {
     "name": "stderr",
     "output_type": "stream",
     "text": [
      "[*********************100%***********************]  1 of 1 completed\n"
     ]
    },
    {
     "name": "stdout",
     "output_type": "stream",
     "text": [
      "Working on stock number  197  of  513  total\n"
     ]
    },
    {
     "name": "stderr",
     "output_type": "stream",
     "text": [
      "[*********************100%***********************]  1 of 1 completed\n"
     ]
    },
    {
     "name": "stdout",
     "output_type": "stream",
     "text": [
      "Working on stock number  198  of  513  total\n"
     ]
    },
    {
     "name": "stderr",
     "output_type": "stream",
     "text": [
      "[*********************100%***********************]  1 of 1 completed\n"
     ]
    },
    {
     "name": "stdout",
     "output_type": "stream",
     "text": [
      "Working on stock number  199  of  513  total\n"
     ]
    },
    {
     "name": "stderr",
     "output_type": "stream",
     "text": [
      "[*********************100%***********************]  1 of 1 completed\n"
     ]
    },
    {
     "name": "stdout",
     "output_type": "stream",
     "text": [
      "Working on stock number  200  of  513  total\n"
     ]
    },
    {
     "name": "stderr",
     "output_type": "stream",
     "text": [
      "[*********************100%***********************]  1 of 1 completed\n"
     ]
    },
    {
     "name": "stdout",
     "output_type": "stream",
     "text": [
      "Working on stock number  201  of  513  total\n"
     ]
    },
    {
     "name": "stderr",
     "output_type": "stream",
     "text": [
      "[*********************100%***********************]  1 of 1 completed\n"
     ]
    },
    {
     "name": "stdout",
     "output_type": "stream",
     "text": [
      "Working on stock number  202  of  513  total\n"
     ]
    },
    {
     "name": "stderr",
     "output_type": "stream",
     "text": [
      "[*********************100%***********************]  1 of 1 completed\n"
     ]
    },
    {
     "name": "stdout",
     "output_type": "stream",
     "text": [
      "Working on stock number  203  of  513  total\n"
     ]
    },
    {
     "name": "stderr",
     "output_type": "stream",
     "text": [
      "[*********************100%***********************]  1 of 1 completed\n"
     ]
    },
    {
     "name": "stdout",
     "output_type": "stream",
     "text": [
      "Working on stock number  204  of  513  total\n"
     ]
    },
    {
     "name": "stderr",
     "output_type": "stream",
     "text": [
      "[*********************100%***********************]  1 of 1 completed\n"
     ]
    },
    {
     "name": "stdout",
     "output_type": "stream",
     "text": [
      "Working on stock number  205  of  513  total\n"
     ]
    },
    {
     "name": "stderr",
     "output_type": "stream",
     "text": [
      "[*********************100%***********************]  1 of 1 completed\n"
     ]
    },
    {
     "name": "stdout",
     "output_type": "stream",
     "text": [
      "Working on stock number  206  of  513  total\n"
     ]
    },
    {
     "name": "stderr",
     "output_type": "stream",
     "text": [
      "[*********************100%***********************]  1 of 1 completed\n"
     ]
    },
    {
     "name": "stdout",
     "output_type": "stream",
     "text": [
      "Working on stock number  207  of  513  total\n"
     ]
    },
    {
     "name": "stderr",
     "output_type": "stream",
     "text": [
      "[*********************100%***********************]  1 of 1 completed\n"
     ]
    },
    {
     "name": "stdout",
     "output_type": "stream",
     "text": [
      "Working on stock number  208  of  513  total\n"
     ]
    },
    {
     "name": "stderr",
     "output_type": "stream",
     "text": [
      "[*********************100%***********************]  1 of 1 completed\n"
     ]
    },
    {
     "name": "stdout",
     "output_type": "stream",
     "text": [
      "Working on stock number  209  of  513  total\n"
     ]
    },
    {
     "name": "stderr",
     "output_type": "stream",
     "text": [
      "[*********************100%***********************]  1 of 1 completed\n"
     ]
    },
    {
     "name": "stdout",
     "output_type": "stream",
     "text": [
      "Working on stock number  210  of  513  total\n"
     ]
    },
    {
     "name": "stderr",
     "output_type": "stream",
     "text": [
      "[*********************100%***********************]  1 of 1 completed\n"
     ]
    },
    {
     "name": "stdout",
     "output_type": "stream",
     "text": [
      "Working on stock number  211  of  513  total\n"
     ]
    },
    {
     "name": "stderr",
     "output_type": "stream",
     "text": [
      "[*********************100%***********************]  1 of 1 completed\n"
     ]
    },
    {
     "name": "stdout",
     "output_type": "stream",
     "text": [
      "Working on stock number  212  of  513  total\n"
     ]
    },
    {
     "name": "stderr",
     "output_type": "stream",
     "text": [
      "[*********************100%***********************]  1 of 1 completed\n"
     ]
    },
    {
     "name": "stdout",
     "output_type": "stream",
     "text": [
      "Working on stock number  213  of  513  total\n"
     ]
    },
    {
     "name": "stderr",
     "output_type": "stream",
     "text": [
      "[*********************100%***********************]  1 of 1 completed\n"
     ]
    },
    {
     "name": "stdout",
     "output_type": "stream",
     "text": [
      "Working on stock number  214  of  513  total\n"
     ]
    },
    {
     "name": "stderr",
     "output_type": "stream",
     "text": [
      "[*********************100%***********************]  1 of 1 completed\n"
     ]
    },
    {
     "name": "stdout",
     "output_type": "stream",
     "text": [
      "Working on stock number  215  of  513  total\n"
     ]
    },
    {
     "name": "stderr",
     "output_type": "stream",
     "text": [
      "[*********************100%***********************]  1 of 1 completed\n"
     ]
    },
    {
     "name": "stdout",
     "output_type": "stream",
     "text": [
      "Working on stock number  216  of  513  total\n"
     ]
    },
    {
     "name": "stderr",
     "output_type": "stream",
     "text": [
      "[*********************100%***********************]  1 of 1 completed\n"
     ]
    },
    {
     "name": "stdout",
     "output_type": "stream",
     "text": [
      "Working on stock number  217  of  513  total\n"
     ]
    },
    {
     "name": "stderr",
     "output_type": "stream",
     "text": [
      "[*********************100%***********************]  1 of 1 completed\n"
     ]
    },
    {
     "name": "stdout",
     "output_type": "stream",
     "text": [
      "Working on stock number  218  of  513  total\n"
     ]
    },
    {
     "name": "stderr",
     "output_type": "stream",
     "text": [
      "[*********************100%***********************]  1 of 1 completed\n"
     ]
    },
    {
     "name": "stdout",
     "output_type": "stream",
     "text": [
      "Working on stock number  219  of  513  total\n"
     ]
    },
    {
     "name": "stderr",
     "output_type": "stream",
     "text": [
      "[*********************100%***********************]  1 of 1 completed\n"
     ]
    },
    {
     "name": "stdout",
     "output_type": "stream",
     "text": [
      "Working on stock number  220  of  513  total\n"
     ]
    },
    {
     "name": "stderr",
     "output_type": "stream",
     "text": [
      "[*********************100%***********************]  1 of 1 completed\n"
     ]
    },
    {
     "name": "stdout",
     "output_type": "stream",
     "text": [
      "Working on stock number  221  of  513  total\n"
     ]
    },
    {
     "name": "stderr",
     "output_type": "stream",
     "text": [
      "[*********************100%***********************]  1 of 1 completed\n"
     ]
    },
    {
     "name": "stdout",
     "output_type": "stream",
     "text": [
      "Working on stock number  222  of  513  total\n"
     ]
    },
    {
     "name": "stderr",
     "output_type": "stream",
     "text": [
      "[*********************100%***********************]  1 of 1 completed\n"
     ]
    },
    {
     "name": "stdout",
     "output_type": "stream",
     "text": [
      "Working on stock number  223  of  513  total\n"
     ]
    },
    {
     "name": "stderr",
     "output_type": "stream",
     "text": [
      "[*********************100%***********************]  1 of 1 completed\n"
     ]
    },
    {
     "name": "stdout",
     "output_type": "stream",
     "text": [
      "Working on stock number  224  of  513  total\n"
     ]
    },
    {
     "name": "stderr",
     "output_type": "stream",
     "text": [
      "[*********************100%***********************]  1 of 1 completed\n"
     ]
    },
    {
     "name": "stdout",
     "output_type": "stream",
     "text": [
      "Working on stock number  225  of  513  total\n"
     ]
    },
    {
     "name": "stderr",
     "output_type": "stream",
     "text": [
      "[*********************100%***********************]  1 of 1 completed\n"
     ]
    },
    {
     "name": "stdout",
     "output_type": "stream",
     "text": [
      "Working on stock number  226  of  513  total\n"
     ]
    },
    {
     "name": "stderr",
     "output_type": "stream",
     "text": [
      "[*********************100%***********************]  1 of 1 completed\n"
     ]
    },
    {
     "name": "stdout",
     "output_type": "stream",
     "text": [
      "Working on stock number  227  of  513  total\n"
     ]
    },
    {
     "name": "stderr",
     "output_type": "stream",
     "text": [
      "[*********************100%***********************]  1 of 1 completed\n"
     ]
    },
    {
     "name": "stdout",
     "output_type": "stream",
     "text": [
      "Working on stock number  228  of  513  total\n"
     ]
    },
    {
     "name": "stderr",
     "output_type": "stream",
     "text": [
      "[*********************100%***********************]  1 of 1 completed\n"
     ]
    },
    {
     "name": "stdout",
     "output_type": "stream",
     "text": [
      "Working on stock number  229  of  513  total\n"
     ]
    },
    {
     "name": "stderr",
     "output_type": "stream",
     "text": [
      "[*********************100%***********************]  1 of 1 completed\n"
     ]
    },
    {
     "name": "stdout",
     "output_type": "stream",
     "text": [
      "Working on stock number  230  of  513  total\n"
     ]
    },
    {
     "name": "stderr",
     "output_type": "stream",
     "text": [
      "[*********************100%***********************]  1 of 1 completed\n"
     ]
    },
    {
     "name": "stdout",
     "output_type": "stream",
     "text": [
      "Working on stock number  231  of  513  total\n"
     ]
    },
    {
     "name": "stderr",
     "output_type": "stream",
     "text": [
      "[*********************100%***********************]  1 of 1 completed\n"
     ]
    },
    {
     "name": "stdout",
     "output_type": "stream",
     "text": [
      "Working on stock number  232  of  513  total\n"
     ]
    },
    {
     "name": "stderr",
     "output_type": "stream",
     "text": [
      "[*********************100%***********************]  1 of 1 completed\n"
     ]
    },
    {
     "name": "stdout",
     "output_type": "stream",
     "text": [
      "Working on stock number  233  of  513  total\n"
     ]
    },
    {
     "name": "stderr",
     "output_type": "stream",
     "text": [
      "[*********************100%***********************]  1 of 1 completed\n"
     ]
    },
    {
     "name": "stdout",
     "output_type": "stream",
     "text": [
      "Working on stock number  234  of  513  total\n"
     ]
    },
    {
     "name": "stderr",
     "output_type": "stream",
     "text": [
      "[*********************100%***********************]  1 of 1 completed\n"
     ]
    },
    {
     "name": "stdout",
     "output_type": "stream",
     "text": [
      "Working on stock number  235  of  513  total\n"
     ]
    },
    {
     "name": "stderr",
     "output_type": "stream",
     "text": [
      "[*********************100%***********************]  1 of 1 completed\n"
     ]
    },
    {
     "name": "stdout",
     "output_type": "stream",
     "text": [
      "Working on stock number  236  of  513  total\n"
     ]
    },
    {
     "name": "stderr",
     "output_type": "stream",
     "text": [
      "[*********************100%***********************]  1 of 1 completed\n"
     ]
    },
    {
     "name": "stdout",
     "output_type": "stream",
     "text": [
      "Working on stock number  237  of  513  total\n"
     ]
    },
    {
     "name": "stderr",
     "output_type": "stream",
     "text": [
      "[*********************100%***********************]  1 of 1 completed\n"
     ]
    },
    {
     "name": "stdout",
     "output_type": "stream",
     "text": [
      "Working on stock number  238  of  513  total\n"
     ]
    },
    {
     "name": "stderr",
     "output_type": "stream",
     "text": [
      "[*********************100%***********************]  1 of 1 completed\n"
     ]
    },
    {
     "name": "stdout",
     "output_type": "stream",
     "text": [
      "Working on stock number  239  of  513  total\n"
     ]
    },
    {
     "name": "stderr",
     "output_type": "stream",
     "text": [
      "[*********************100%***********************]  1 of 1 completed\n"
     ]
    },
    {
     "name": "stdout",
     "output_type": "stream",
     "text": [
      "Working on stock number  240  of  513  total\n"
     ]
    },
    {
     "name": "stderr",
     "output_type": "stream",
     "text": [
      "[*********************100%***********************]  1 of 1 completed\n"
     ]
    },
    {
     "name": "stdout",
     "output_type": "stream",
     "text": [
      "Working on stock number  241  of  513  total\n"
     ]
    },
    {
     "name": "stderr",
     "output_type": "stream",
     "text": [
      "[*********************100%***********************]  1 of 1 completed\n"
     ]
    },
    {
     "name": "stdout",
     "output_type": "stream",
     "text": [
      "Working on stock number  242  of  513  total\n"
     ]
    },
    {
     "name": "stderr",
     "output_type": "stream",
     "text": [
      "[*********************100%***********************]  1 of 1 completed\n"
     ]
    },
    {
     "name": "stdout",
     "output_type": "stream",
     "text": [
      "Working on stock number  243  of  513  total\n"
     ]
    },
    {
     "name": "stderr",
     "output_type": "stream",
     "text": [
      "[*********************100%***********************]  1 of 1 completed\n"
     ]
    },
    {
     "name": "stdout",
     "output_type": "stream",
     "text": [
      "Working on stock number  244  of  513  total\n"
     ]
    },
    {
     "name": "stderr",
     "output_type": "stream",
     "text": [
      "[*********************100%***********************]  1 of 1 completed\n"
     ]
    },
    {
     "name": "stdout",
     "output_type": "stream",
     "text": [
      "Working on stock number  245  of  513  total\n"
     ]
    },
    {
     "name": "stderr",
     "output_type": "stream",
     "text": [
      "[*********************100%***********************]  1 of 1 completed\n"
     ]
    },
    {
     "name": "stdout",
     "output_type": "stream",
     "text": [
      "Working on stock number  246  of  513  total\n"
     ]
    },
    {
     "name": "stderr",
     "output_type": "stream",
     "text": [
      "[*********************100%***********************]  1 of 1 completed\n"
     ]
    },
    {
     "name": "stdout",
     "output_type": "stream",
     "text": [
      "Working on stock number  247  of  513  total\n"
     ]
    },
    {
     "name": "stderr",
     "output_type": "stream",
     "text": [
      "[*********************100%***********************]  1 of 1 completed\n"
     ]
    },
    {
     "name": "stdout",
     "output_type": "stream",
     "text": [
      "Working on stock number  248  of  513  total\n"
     ]
    },
    {
     "name": "stderr",
     "output_type": "stream",
     "text": [
      "[*********************100%***********************]  1 of 1 completed\n"
     ]
    },
    {
     "name": "stdout",
     "output_type": "stream",
     "text": [
      "Working on stock number  249  of  513  total\n"
     ]
    },
    {
     "name": "stderr",
     "output_type": "stream",
     "text": [
      "[*********************100%***********************]  1 of 1 completed\n"
     ]
    },
    {
     "name": "stdout",
     "output_type": "stream",
     "text": [
      "Working on stock number  250  of  513  total\n"
     ]
    },
    {
     "name": "stderr",
     "output_type": "stream",
     "text": [
      "[*********************100%***********************]  1 of 1 completed\n"
     ]
    },
    {
     "name": "stdout",
     "output_type": "stream",
     "text": [
      "Working on stock number  251  of  513  total\n"
     ]
    },
    {
     "name": "stderr",
     "output_type": "stream",
     "text": [
      "[*********************100%***********************]  1 of 1 completed\n"
     ]
    },
    {
     "name": "stdout",
     "output_type": "stream",
     "text": [
      "Working on stock number  252  of  513  total\n"
     ]
    },
    {
     "name": "stderr",
     "output_type": "stream",
     "text": [
      "[*********************100%***********************]  1 of 1 completed\n"
     ]
    },
    {
     "name": "stdout",
     "output_type": "stream",
     "text": [
      "Working on stock number  253  of  513  total\n"
     ]
    },
    {
     "name": "stderr",
     "output_type": "stream",
     "text": [
      "[*********************100%***********************]  1 of 1 completed\n"
     ]
    },
    {
     "name": "stdout",
     "output_type": "stream",
     "text": [
      "Working on stock number  254  of  513  total\n"
     ]
    },
    {
     "name": "stderr",
     "output_type": "stream",
     "text": [
      "[*********************100%***********************]  1 of 1 completed\n"
     ]
    },
    {
     "name": "stdout",
     "output_type": "stream",
     "text": [
      "Working on stock number  255  of  513  total\n"
     ]
    },
    {
     "name": "stderr",
     "output_type": "stream",
     "text": [
      "[*********************100%***********************]  1 of 1 completed\n"
     ]
    },
    {
     "name": "stdout",
     "output_type": "stream",
     "text": [
      "Working on stock number  256  of  513  total\n"
     ]
    },
    {
     "name": "stderr",
     "output_type": "stream",
     "text": [
      "[*********************100%***********************]  1 of 1 completed\n"
     ]
    },
    {
     "name": "stdout",
     "output_type": "stream",
     "text": [
      "Working on stock number  257  of  513  total\n"
     ]
    },
    {
     "name": "stderr",
     "output_type": "stream",
     "text": [
      "[*********************100%***********************]  1 of 1 completed\n"
     ]
    },
    {
     "name": "stdout",
     "output_type": "stream",
     "text": [
      "Working on stock number  258  of  513  total\n"
     ]
    },
    {
     "name": "stderr",
     "output_type": "stream",
     "text": [
      "[*********************100%***********************]  1 of 1 completed\n"
     ]
    },
    {
     "name": "stdout",
     "output_type": "stream",
     "text": [
      "Working on stock number  259  of  513  total\n"
     ]
    },
    {
     "name": "stderr",
     "output_type": "stream",
     "text": [
      "[*********************100%***********************]  1 of 1 completed\n"
     ]
    },
    {
     "name": "stdout",
     "output_type": "stream",
     "text": [
      "Working on stock number  260  of  513  total\n"
     ]
    },
    {
     "name": "stderr",
     "output_type": "stream",
     "text": [
      "[*********************100%***********************]  1 of 1 completed\n"
     ]
    },
    {
     "name": "stdout",
     "output_type": "stream",
     "text": [
      "Working on stock number  261  of  513  total\n"
     ]
    },
    {
     "name": "stderr",
     "output_type": "stream",
     "text": [
      "[*********************100%***********************]  1 of 1 completed\n"
     ]
    },
    {
     "name": "stdout",
     "output_type": "stream",
     "text": [
      "Working on stock number  262  of  513  total\n"
     ]
    },
    {
     "name": "stderr",
     "output_type": "stream",
     "text": [
      "[*********************100%***********************]  1 of 1 completed\n"
     ]
    },
    {
     "name": "stdout",
     "output_type": "stream",
     "text": [
      "Working on stock number  263  of  513  total\n"
     ]
    },
    {
     "name": "stderr",
     "output_type": "stream",
     "text": [
      "[*********************100%***********************]  1 of 1 completed\n"
     ]
    },
    {
     "name": "stdout",
     "output_type": "stream",
     "text": [
      "Working on stock number  264  of  513  total\n"
     ]
    },
    {
     "name": "stderr",
     "output_type": "stream",
     "text": [
      "[*********************100%***********************]  1 of 1 completed\n"
     ]
    },
    {
     "name": "stdout",
     "output_type": "stream",
     "text": [
      "Working on stock number  265  of  513  total\n"
     ]
    },
    {
     "name": "stderr",
     "output_type": "stream",
     "text": [
      "[*********************100%***********************]  1 of 1 completed\n"
     ]
    },
    {
     "name": "stdout",
     "output_type": "stream",
     "text": [
      "Working on stock number  266  of  513  total\n"
     ]
    },
    {
     "name": "stderr",
     "output_type": "stream",
     "text": [
      "[*********************100%***********************]  1 of 1 completed\n"
     ]
    },
    {
     "name": "stdout",
     "output_type": "stream",
     "text": [
      "Working on stock number  267  of  513  total\n"
     ]
    },
    {
     "name": "stderr",
     "output_type": "stream",
     "text": [
      "[*********************100%***********************]  1 of 1 completed\n"
     ]
    },
    {
     "name": "stdout",
     "output_type": "stream",
     "text": [
      "Working on stock number  268  of  513  total\n"
     ]
    },
    {
     "name": "stderr",
     "output_type": "stream",
     "text": [
      "[*********************100%***********************]  1 of 1 completed\n"
     ]
    },
    {
     "name": "stdout",
     "output_type": "stream",
     "text": [
      "Working on stock number  269  of  513  total\n"
     ]
    },
    {
     "name": "stderr",
     "output_type": "stream",
     "text": [
      "[*********************100%***********************]  1 of 1 completed\n"
     ]
    },
    {
     "name": "stdout",
     "output_type": "stream",
     "text": [
      "Working on stock number  270  of  513  total\n"
     ]
    },
    {
     "name": "stderr",
     "output_type": "stream",
     "text": [
      "[*********************100%***********************]  1 of 1 completed\n"
     ]
    },
    {
     "name": "stdout",
     "output_type": "stream",
     "text": [
      "Working on stock number  271  of  513  total\n"
     ]
    },
    {
     "name": "stderr",
     "output_type": "stream",
     "text": [
      "[*********************100%***********************]  1 of 1 completed\n"
     ]
    },
    {
     "name": "stdout",
     "output_type": "stream",
     "text": [
      "Working on stock number  272  of  513  total\n"
     ]
    },
    {
     "name": "stderr",
     "output_type": "stream",
     "text": [
      "[*********************100%***********************]  1 of 1 completed\n"
     ]
    },
    {
     "name": "stdout",
     "output_type": "stream",
     "text": [
      "Working on stock number  273  of  513  total\n"
     ]
    },
    {
     "name": "stderr",
     "output_type": "stream",
     "text": [
      "[*********************100%***********************]  1 of 1 completed\n"
     ]
    },
    {
     "name": "stdout",
     "output_type": "stream",
     "text": [
      "Working on stock number  274  of  513  total\n"
     ]
    },
    {
     "name": "stderr",
     "output_type": "stream",
     "text": [
      "[*********************100%***********************]  1 of 1 completed\n"
     ]
    },
    {
     "name": "stdout",
     "output_type": "stream",
     "text": [
      "Working on stock number  275  of  513  total\n"
     ]
    },
    {
     "name": "stderr",
     "output_type": "stream",
     "text": [
      "[*********************100%***********************]  1 of 1 completed\n"
     ]
    },
    {
     "name": "stdout",
     "output_type": "stream",
     "text": [
      "Working on stock number  276  of  513  total\n"
     ]
    },
    {
     "name": "stderr",
     "output_type": "stream",
     "text": [
      "[*********************100%***********************]  1 of 1 completed\n"
     ]
    },
    {
     "name": "stdout",
     "output_type": "stream",
     "text": [
      "Working on stock number  277  of  513  total\n"
     ]
    },
    {
     "name": "stderr",
     "output_type": "stream",
     "text": [
      "[*********************100%***********************]  1 of 1 completed\n"
     ]
    },
    {
     "name": "stdout",
     "output_type": "stream",
     "text": [
      "Working on stock number  278  of  513  total\n"
     ]
    },
    {
     "name": "stderr",
     "output_type": "stream",
     "text": [
      "[*********************100%***********************]  1 of 1 completed\n"
     ]
    },
    {
     "name": "stdout",
     "output_type": "stream",
     "text": [
      "Working on stock number  279  of  513  total\n"
     ]
    },
    {
     "name": "stderr",
     "output_type": "stream",
     "text": [
      "[*********************100%***********************]  1 of 1 completed\n"
     ]
    },
    {
     "name": "stdout",
     "output_type": "stream",
     "text": [
      "Working on stock number  280  of  513  total\n"
     ]
    },
    {
     "name": "stderr",
     "output_type": "stream",
     "text": [
      "[*********************100%***********************]  1 of 1 completed\n"
     ]
    },
    {
     "name": "stdout",
     "output_type": "stream",
     "text": [
      "Working on stock number  281  of  513  total\n"
     ]
    },
    {
     "name": "stderr",
     "output_type": "stream",
     "text": [
      "[*********************100%***********************]  1 of 1 completed\n"
     ]
    },
    {
     "name": "stdout",
     "output_type": "stream",
     "text": [
      "Working on stock number  282  of  513  total\n"
     ]
    },
    {
     "name": "stderr",
     "output_type": "stream",
     "text": [
      "[*********************100%***********************]  1 of 1 completed\n"
     ]
    },
    {
     "name": "stdout",
     "output_type": "stream",
     "text": [
      "Working on stock number  283  of  513  total\n"
     ]
    },
    {
     "name": "stderr",
     "output_type": "stream",
     "text": [
      "[*********************100%***********************]  1 of 1 completed\n"
     ]
    },
    {
     "name": "stdout",
     "output_type": "stream",
     "text": [
      "Working on stock number  284  of  513  total\n"
     ]
    },
    {
     "name": "stderr",
     "output_type": "stream",
     "text": [
      "[*********************100%***********************]  1 of 1 completed\n"
     ]
    },
    {
     "name": "stdout",
     "output_type": "stream",
     "text": [
      "Working on stock number  285  of  513  total\n"
     ]
    },
    {
     "name": "stderr",
     "output_type": "stream",
     "text": [
      "[*********************100%***********************]  1 of 1 completed\n"
     ]
    },
    {
     "name": "stdout",
     "output_type": "stream",
     "text": [
      "Working on stock number  286  of  513  total\n"
     ]
    },
    {
     "name": "stderr",
     "output_type": "stream",
     "text": [
      "[*********************100%***********************]  1 of 1 completed\n"
     ]
    },
    {
     "name": "stdout",
     "output_type": "stream",
     "text": [
      "Working on stock number  287  of  513  total\n"
     ]
    },
    {
     "name": "stderr",
     "output_type": "stream",
     "text": [
      "[*********************100%***********************]  1 of 1 completed\n"
     ]
    },
    {
     "name": "stdout",
     "output_type": "stream",
     "text": [
      "Working on stock number  288  of  513  total\n"
     ]
    },
    {
     "name": "stderr",
     "output_type": "stream",
     "text": [
      "[*********************100%***********************]  1 of 1 completed\n"
     ]
    },
    {
     "name": "stdout",
     "output_type": "stream",
     "text": [
      "Working on stock number  289  of  513  total\n"
     ]
    },
    {
     "name": "stderr",
     "output_type": "stream",
     "text": [
      "[*********************100%***********************]  1 of 1 completed\n"
     ]
    },
    {
     "name": "stdout",
     "output_type": "stream",
     "text": [
      "Working on stock number  290  of  513  total\n"
     ]
    },
    {
     "name": "stderr",
     "output_type": "stream",
     "text": [
      "[*********************100%***********************]  1 of 1 completed\n"
     ]
    },
    {
     "name": "stdout",
     "output_type": "stream",
     "text": [
      "Working on stock number  291  of  513  total\n"
     ]
    },
    {
     "name": "stderr",
     "output_type": "stream",
     "text": [
      "[*********************100%***********************]  1 of 1 completed\n"
     ]
    },
    {
     "name": "stdout",
     "output_type": "stream",
     "text": [
      "Working on stock number  292  of  513  total\n"
     ]
    },
    {
     "name": "stderr",
     "output_type": "stream",
     "text": [
      "[*********************100%***********************]  1 of 1 completed\n"
     ]
    },
    {
     "name": "stdout",
     "output_type": "stream",
     "text": [
      "Working on stock number  293  of  513  total\n"
     ]
    },
    {
     "name": "stderr",
     "output_type": "stream",
     "text": [
      "[*********************100%***********************]  1 of 1 completed\n"
     ]
    },
    {
     "name": "stdout",
     "output_type": "stream",
     "text": [
      "Working on stock number  294  of  513  total\n"
     ]
    },
    {
     "name": "stderr",
     "output_type": "stream",
     "text": [
      "[*********************100%***********************]  1 of 1 completed\n"
     ]
    },
    {
     "name": "stdout",
     "output_type": "stream",
     "text": [
      "Working on stock number  295  of  513  total\n"
     ]
    },
    {
     "name": "stderr",
     "output_type": "stream",
     "text": [
      "[*********************100%***********************]  1 of 1 completed\n"
     ]
    },
    {
     "name": "stdout",
     "output_type": "stream",
     "text": [
      "Working on stock number  296  of  513  total\n"
     ]
    },
    {
     "name": "stderr",
     "output_type": "stream",
     "text": [
      "[*********************100%***********************]  1 of 1 completed\n"
     ]
    },
    {
     "name": "stdout",
     "output_type": "stream",
     "text": [
      "Working on stock number  297  of  513  total\n"
     ]
    },
    {
     "name": "stderr",
     "output_type": "stream",
     "text": [
      "[*********************100%***********************]  1 of 1 completed\n"
     ]
    },
    {
     "name": "stdout",
     "output_type": "stream",
     "text": [
      "Working on stock number  298  of  513  total\n"
     ]
    },
    {
     "name": "stderr",
     "output_type": "stream",
     "text": [
      "[*********************100%***********************]  1 of 1 completed\n"
     ]
    },
    {
     "name": "stdout",
     "output_type": "stream",
     "text": [
      "Working on stock number  299  of  513  total\n"
     ]
    },
    {
     "name": "stderr",
     "output_type": "stream",
     "text": [
      "[*********************100%***********************]  1 of 1 completed\n"
     ]
    },
    {
     "name": "stdout",
     "output_type": "stream",
     "text": [
      "Working on stock number  300  of  513  total\n"
     ]
    },
    {
     "name": "stderr",
     "output_type": "stream",
     "text": [
      "[*********************100%***********************]  1 of 1 completed\n"
     ]
    },
    {
     "name": "stdout",
     "output_type": "stream",
     "text": [
      "Working on stock number  301  of  513  total\n"
     ]
    },
    {
     "name": "stderr",
     "output_type": "stream",
     "text": [
      "[*********************100%***********************]  1 of 1 completed\n"
     ]
    },
    {
     "name": "stdout",
     "output_type": "stream",
     "text": [
      "Working on stock number  302  of  513  total\n"
     ]
    },
    {
     "name": "stderr",
     "output_type": "stream",
     "text": [
      "[*********************100%***********************]  1 of 1 completed\n"
     ]
    },
    {
     "name": "stdout",
     "output_type": "stream",
     "text": [
      "Working on stock number  303  of  513  total\n"
     ]
    },
    {
     "name": "stderr",
     "output_type": "stream",
     "text": [
      "[*********************100%***********************]  1 of 1 completed\n"
     ]
    },
    {
     "name": "stdout",
     "output_type": "stream",
     "text": [
      "Working on stock number  304  of  513  total\n"
     ]
    },
    {
     "name": "stderr",
     "output_type": "stream",
     "text": [
      "[*********************100%***********************]  1 of 1 completed\n"
     ]
    },
    {
     "name": "stdout",
     "output_type": "stream",
     "text": [
      "Working on stock number  305  of  513  total\n"
     ]
    },
    {
     "name": "stderr",
     "output_type": "stream",
     "text": [
      "[*********************100%***********************]  1 of 1 completed\n"
     ]
    },
    {
     "name": "stdout",
     "output_type": "stream",
     "text": [
      "Working on stock number  306  of  513  total\n"
     ]
    },
    {
     "name": "stderr",
     "output_type": "stream",
     "text": [
      "[*********************100%***********************]  1 of 1 completed\n"
     ]
    },
    {
     "name": "stdout",
     "output_type": "stream",
     "text": [
      "Working on stock number  307  of  513  total\n"
     ]
    },
    {
     "name": "stderr",
     "output_type": "stream",
     "text": [
      "[*********************100%***********************]  1 of 1 completed\n"
     ]
    },
    {
     "name": "stdout",
     "output_type": "stream",
     "text": [
      "Working on stock number  308  of  513  total\n"
     ]
    },
    {
     "name": "stderr",
     "output_type": "stream",
     "text": [
      "[*********************100%***********************]  1 of 1 completed\n"
     ]
    },
    {
     "name": "stdout",
     "output_type": "stream",
     "text": [
      "Working on stock number  309  of  513  total\n"
     ]
    },
    {
     "name": "stderr",
     "output_type": "stream",
     "text": [
      "[*********************100%***********************]  1 of 1 completed\n"
     ]
    },
    {
     "name": "stdout",
     "output_type": "stream",
     "text": [
      "Working on stock number  310  of  513  total\n"
     ]
    },
    {
     "name": "stderr",
     "output_type": "stream",
     "text": [
      "[*********************100%***********************]  1 of 1 completed\n"
     ]
    },
    {
     "name": "stdout",
     "output_type": "stream",
     "text": [
      "Working on stock number  311  of  513  total\n"
     ]
    },
    {
     "name": "stderr",
     "output_type": "stream",
     "text": [
      "[*********************100%***********************]  1 of 1 completed\n"
     ]
    },
    {
     "name": "stdout",
     "output_type": "stream",
     "text": [
      "Working on stock number  312  of  513  total\n"
     ]
    },
    {
     "name": "stderr",
     "output_type": "stream",
     "text": [
      "[*********************100%***********************]  1 of 1 completed\n"
     ]
    },
    {
     "name": "stdout",
     "output_type": "stream",
     "text": [
      "Working on stock number  313  of  513  total\n"
     ]
    },
    {
     "name": "stderr",
     "output_type": "stream",
     "text": [
      "[*********************100%***********************]  1 of 1 completed\n"
     ]
    },
    {
     "name": "stdout",
     "output_type": "stream",
     "text": [
      "Working on stock number  314  of  513  total\n"
     ]
    },
    {
     "name": "stderr",
     "output_type": "stream",
     "text": [
      "[*********************100%***********************]  1 of 1 completed\n"
     ]
    },
    {
     "name": "stdout",
     "output_type": "stream",
     "text": [
      "Working on stock number  315  of  513  total\n"
     ]
    },
    {
     "name": "stderr",
     "output_type": "stream",
     "text": [
      "[*********************100%***********************]  1 of 1 completed\n"
     ]
    },
    {
     "name": "stdout",
     "output_type": "stream",
     "text": [
      "Working on stock number  316  of  513  total\n"
     ]
    },
    {
     "name": "stderr",
     "output_type": "stream",
     "text": [
      "[*********************100%***********************]  1 of 1 completed\n"
     ]
    },
    {
     "name": "stdout",
     "output_type": "stream",
     "text": [
      "Working on stock number  317  of  513  total\n"
     ]
    },
    {
     "name": "stderr",
     "output_type": "stream",
     "text": [
      "[*********************100%***********************]  1 of 1 completed\n"
     ]
    },
    {
     "name": "stdout",
     "output_type": "stream",
     "text": [
      "Working on stock number  318  of  513  total\n"
     ]
    },
    {
     "name": "stderr",
     "output_type": "stream",
     "text": [
      "[*********************100%***********************]  1 of 1 completed\n"
     ]
    },
    {
     "name": "stdout",
     "output_type": "stream",
     "text": [
      "Working on stock number  319  of  513  total\n"
     ]
    },
    {
     "name": "stderr",
     "output_type": "stream",
     "text": [
      "[*********************100%***********************]  1 of 1 completed\n"
     ]
    },
    {
     "name": "stdout",
     "output_type": "stream",
     "text": [
      "Working on stock number  320  of  513  total\n"
     ]
    },
    {
     "name": "stderr",
     "output_type": "stream",
     "text": [
      "[*********************100%***********************]  1 of 1 completed\n"
     ]
    },
    {
     "name": "stdout",
     "output_type": "stream",
     "text": [
      "Working on stock number  321  of  513  total\n"
     ]
    },
    {
     "name": "stderr",
     "output_type": "stream",
     "text": [
      "[*********************100%***********************]  1 of 1 completed\n"
     ]
    },
    {
     "name": "stdout",
     "output_type": "stream",
     "text": [
      "Working on stock number  322  of  513  total\n"
     ]
    },
    {
     "name": "stderr",
     "output_type": "stream",
     "text": [
      "[*********************100%***********************]  1 of 1 completed\n"
     ]
    },
    {
     "name": "stdout",
     "output_type": "stream",
     "text": [
      "Working on stock number  323  of  513  total\n"
     ]
    },
    {
     "name": "stderr",
     "output_type": "stream",
     "text": [
      "[*********************100%***********************]  1 of 1 completed\n"
     ]
    },
    {
     "name": "stdout",
     "output_type": "stream",
     "text": [
      "Working on stock number  324  of  513  total\n"
     ]
    },
    {
     "name": "stderr",
     "output_type": "stream",
     "text": [
      "[*********************100%***********************]  1 of 1 completed\n"
     ]
    },
    {
     "name": "stdout",
     "output_type": "stream",
     "text": [
      "Working on stock number  325  of  513  total\n"
     ]
    },
    {
     "name": "stderr",
     "output_type": "stream",
     "text": [
      "[*********************100%***********************]  1 of 1 completed\n"
     ]
    },
    {
     "name": "stdout",
     "output_type": "stream",
     "text": [
      "Working on stock number  326  of  513  total\n"
     ]
    },
    {
     "name": "stderr",
     "output_type": "stream",
     "text": [
      "[*********************100%***********************]  1 of 1 completed\n"
     ]
    },
    {
     "name": "stdout",
     "output_type": "stream",
     "text": [
      "Working on stock number  327  of  513  total\n"
     ]
    },
    {
     "name": "stderr",
     "output_type": "stream",
     "text": [
      "[*********************100%***********************]  1 of 1 completed\n"
     ]
    },
    {
     "name": "stdout",
     "output_type": "stream",
     "text": [
      "Working on stock number  328  of  513  total\n"
     ]
    },
    {
     "name": "stderr",
     "output_type": "stream",
     "text": [
      "[*********************100%***********************]  1 of 1 completed\n"
     ]
    },
    {
     "name": "stdout",
     "output_type": "stream",
     "text": [
      "Working on stock number  329  of  513  total\n"
     ]
    },
    {
     "name": "stderr",
     "output_type": "stream",
     "text": [
      "[*********************100%***********************]  1 of 1 completed\n"
     ]
    },
    {
     "name": "stdout",
     "output_type": "stream",
     "text": [
      "Working on stock number  330  of  513  total\n"
     ]
    },
    {
     "name": "stderr",
     "output_type": "stream",
     "text": [
      "[*********************100%***********************]  1 of 1 completed\n"
     ]
    },
    {
     "name": "stdout",
     "output_type": "stream",
     "text": [
      "Working on stock number  331  of  513  total\n"
     ]
    },
    {
     "name": "stderr",
     "output_type": "stream",
     "text": [
      "[*********************100%***********************]  1 of 1 completed\n"
     ]
    },
    {
     "name": "stdout",
     "output_type": "stream",
     "text": [
      "Working on stock number  332  of  513  total\n"
     ]
    },
    {
     "name": "stderr",
     "output_type": "stream",
     "text": [
      "[*********************100%***********************]  1 of 1 completed\n"
     ]
    },
    {
     "name": "stdout",
     "output_type": "stream",
     "text": [
      "Working on stock number  333  of  513  total\n"
     ]
    },
    {
     "name": "stderr",
     "output_type": "stream",
     "text": [
      "[*********************100%***********************]  1 of 1 completed\n"
     ]
    },
    {
     "name": "stdout",
     "output_type": "stream",
     "text": [
      "Working on stock number  334  of  513  total\n"
     ]
    },
    {
     "name": "stderr",
     "output_type": "stream",
     "text": [
      "[*********************100%***********************]  1 of 1 completed\n"
     ]
    },
    {
     "name": "stdout",
     "output_type": "stream",
     "text": [
      "Working on stock number  335  of  513  total\n"
     ]
    },
    {
     "name": "stderr",
     "output_type": "stream",
     "text": [
      "[*********************100%***********************]  1 of 1 completed\n"
     ]
    },
    {
     "name": "stdout",
     "output_type": "stream",
     "text": [
      "Working on stock number  336  of  513  total\n"
     ]
    },
    {
     "name": "stderr",
     "output_type": "stream",
     "text": [
      "[*********************100%***********************]  1 of 1 completed\n"
     ]
    },
    {
     "name": "stdout",
     "output_type": "stream",
     "text": [
      "Working on stock number  337  of  513  total\n"
     ]
    },
    {
     "name": "stderr",
     "output_type": "stream",
     "text": [
      "[*********************100%***********************]  1 of 1 completed\n"
     ]
    },
    {
     "name": "stdout",
     "output_type": "stream",
     "text": [
      "Working on stock number  338  of  513  total\n"
     ]
    },
    {
     "name": "stderr",
     "output_type": "stream",
     "text": [
      "[*********************100%***********************]  1 of 1 completed\n"
     ]
    },
    {
     "name": "stdout",
     "output_type": "stream",
     "text": [
      "Working on stock number  339  of  513  total\n"
     ]
    },
    {
     "name": "stderr",
     "output_type": "stream",
     "text": [
      "[*********************100%***********************]  1 of 1 completed\n"
     ]
    },
    {
     "name": "stdout",
     "output_type": "stream",
     "text": [
      "Working on stock number  340  of  513  total\n"
     ]
    },
    {
     "name": "stderr",
     "output_type": "stream",
     "text": [
      "[*********************100%***********************]  1 of 1 completed\n"
     ]
    },
    {
     "name": "stdout",
     "output_type": "stream",
     "text": [
      "Working on stock number  341  of  513  total\n"
     ]
    },
    {
     "name": "stderr",
     "output_type": "stream",
     "text": [
      "[*********************100%***********************]  1 of 1 completed\n"
     ]
    },
    {
     "name": "stdout",
     "output_type": "stream",
     "text": [
      "Working on stock number  342  of  513  total\n"
     ]
    },
    {
     "name": "stderr",
     "output_type": "stream",
     "text": [
      "[*********************100%***********************]  1 of 1 completed\n"
     ]
    },
    {
     "name": "stdout",
     "output_type": "stream",
     "text": [
      "Working on stock number  343  of  513  total\n"
     ]
    },
    {
     "name": "stderr",
     "output_type": "stream",
     "text": [
      "[*********************100%***********************]  1 of 1 completed\n"
     ]
    },
    {
     "name": "stdout",
     "output_type": "stream",
     "text": [
      "Working on stock number  344  of  513  total\n"
     ]
    },
    {
     "name": "stderr",
     "output_type": "stream",
     "text": [
      "[*********************100%***********************]  1 of 1 completed\n"
     ]
    },
    {
     "name": "stdout",
     "output_type": "stream",
     "text": [
      "Working on stock number  345  of  513  total\n"
     ]
    },
    {
     "name": "stderr",
     "output_type": "stream",
     "text": [
      "[*********************100%***********************]  1 of 1 completed\n"
     ]
    },
    {
     "name": "stdout",
     "output_type": "stream",
     "text": [
      "Working on stock number  346  of  513  total\n"
     ]
    },
    {
     "name": "stderr",
     "output_type": "stream",
     "text": [
      "[*********************100%***********************]  1 of 1 completed\n"
     ]
    },
    {
     "name": "stdout",
     "output_type": "stream",
     "text": [
      "Working on stock number  347  of  513  total\n"
     ]
    },
    {
     "name": "stderr",
     "output_type": "stream",
     "text": [
      "[*********************100%***********************]  1 of 1 completed\n"
     ]
    },
    {
     "name": "stdout",
     "output_type": "stream",
     "text": [
      "Working on stock number  348  of  513  total\n"
     ]
    },
    {
     "name": "stderr",
     "output_type": "stream",
     "text": [
      "[*********************100%***********************]  1 of 1 completed\n"
     ]
    },
    {
     "name": "stdout",
     "output_type": "stream",
     "text": [
      "Working on stock number  349  of  513  total\n"
     ]
    },
    {
     "name": "stderr",
     "output_type": "stream",
     "text": [
      "[*********************100%***********************]  1 of 1 completed\n"
     ]
    },
    {
     "name": "stdout",
     "output_type": "stream",
     "text": [
      "Working on stock number  350  of  513  total\n"
     ]
    },
    {
     "name": "stderr",
     "output_type": "stream",
     "text": [
      "[*********************100%***********************]  1 of 1 completed\n"
     ]
    },
    {
     "name": "stdout",
     "output_type": "stream",
     "text": [
      "Working on stock number  351  of  513  total\n"
     ]
    },
    {
     "name": "stderr",
     "output_type": "stream",
     "text": [
      "[*********************100%***********************]  1 of 1 completed\n"
     ]
    },
    {
     "name": "stdout",
     "output_type": "stream",
     "text": [
      "Working on stock number  352  of  513  total\n"
     ]
    },
    {
     "name": "stderr",
     "output_type": "stream",
     "text": [
      "[*********************100%***********************]  1 of 1 completed\n"
     ]
    },
    {
     "name": "stdout",
     "output_type": "stream",
     "text": [
      "Working on stock number  353  of  513  total\n"
     ]
    },
    {
     "name": "stderr",
     "output_type": "stream",
     "text": [
      "[*********************100%***********************]  1 of 1 completed\n"
     ]
    },
    {
     "name": "stdout",
     "output_type": "stream",
     "text": [
      "Working on stock number  354  of  513  total\n"
     ]
    },
    {
     "name": "stderr",
     "output_type": "stream",
     "text": [
      "[*********************100%***********************]  1 of 1 completed\n"
     ]
    },
    {
     "name": "stdout",
     "output_type": "stream",
     "text": [
      "Working on stock number  355  of  513  total\n"
     ]
    },
    {
     "name": "stderr",
     "output_type": "stream",
     "text": [
      "[*********************100%***********************]  1 of 1 completed\n"
     ]
    },
    {
     "name": "stdout",
     "output_type": "stream",
     "text": [
      "Working on stock number  356  of  513  total\n"
     ]
    },
    {
     "name": "stderr",
     "output_type": "stream",
     "text": [
      "[*********************100%***********************]  1 of 1 completed\n"
     ]
    },
    {
     "name": "stdout",
     "output_type": "stream",
     "text": [
      "Working on stock number  357  of  513  total\n"
     ]
    },
    {
     "name": "stderr",
     "output_type": "stream",
     "text": [
      "[*********************100%***********************]  1 of 1 completed\n"
     ]
    },
    {
     "name": "stdout",
     "output_type": "stream",
     "text": [
      "Working on stock number  358  of  513  total\n"
     ]
    },
    {
     "name": "stderr",
     "output_type": "stream",
     "text": [
      "[*********************100%***********************]  1 of 1 completed\n"
     ]
    },
    {
     "name": "stdout",
     "output_type": "stream",
     "text": [
      "Working on stock number  359  of  513  total\n"
     ]
    },
    {
     "name": "stderr",
     "output_type": "stream",
     "text": [
      "[*********************100%***********************]  1 of 1 completed\n"
     ]
    },
    {
     "name": "stdout",
     "output_type": "stream",
     "text": [
      "Working on stock number  360  of  513  total\n"
     ]
    },
    {
     "name": "stderr",
     "output_type": "stream",
     "text": [
      "[*********************100%***********************]  1 of 1 completed\n"
     ]
    },
    {
     "name": "stdout",
     "output_type": "stream",
     "text": [
      "Working on stock number  361  of  513  total\n"
     ]
    },
    {
     "name": "stderr",
     "output_type": "stream",
     "text": [
      "[*********************100%***********************]  1 of 1 completed\n"
     ]
    },
    {
     "name": "stdout",
     "output_type": "stream",
     "text": [
      "Working on stock number  362  of  513  total\n"
     ]
    },
    {
     "name": "stderr",
     "output_type": "stream",
     "text": [
      "[*********************100%***********************]  1 of 1 completed\n"
     ]
    },
    {
     "name": "stdout",
     "output_type": "stream",
     "text": [
      "Working on stock number  363  of  513  total\n"
     ]
    },
    {
     "name": "stderr",
     "output_type": "stream",
     "text": [
      "[*********************100%***********************]  1 of 1 completed\n"
     ]
    },
    {
     "name": "stdout",
     "output_type": "stream",
     "text": [
      "Working on stock number  364  of  513  total\n"
     ]
    },
    {
     "name": "stderr",
     "output_type": "stream",
     "text": [
      "[*********************100%***********************]  1 of 1 completed\n",
      "[*********************100%***********************]  1 of 1 completed\n"
     ]
    },
    {
     "name": "stdout",
     "output_type": "stream",
     "text": [
      "Working on stock number  365  of  513  total\n",
      "Working on stock number  366  of  513  total\n"
     ]
    },
    {
     "name": "stderr",
     "output_type": "stream",
     "text": [
      "[*********************100%***********************]  1 of 1 completed\n"
     ]
    },
    {
     "name": "stdout",
     "output_type": "stream",
     "text": [
      "Working on stock number  367  of  513  total\n"
     ]
    },
    {
     "name": "stderr",
     "output_type": "stream",
     "text": [
      "[*********************100%***********************]  1 of 1 completed\n"
     ]
    },
    {
     "name": "stdout",
     "output_type": "stream",
     "text": [
      "Working on stock number  368  of  513  total\n"
     ]
    },
    {
     "name": "stderr",
     "output_type": "stream",
     "text": [
      "[*********************100%***********************]  1 of 1 completed\n"
     ]
    },
    {
     "name": "stdout",
     "output_type": "stream",
     "text": [
      "Working on stock number  369  of  513  total\n"
     ]
    },
    {
     "name": "stderr",
     "output_type": "stream",
     "text": [
      "[*********************100%***********************]  1 of 1 completed\n"
     ]
    },
    {
     "name": "stdout",
     "output_type": "stream",
     "text": [
      "Working on stock number  370  of  513  total\n"
     ]
    },
    {
     "name": "stderr",
     "output_type": "stream",
     "text": [
      "[*********************100%***********************]  1 of 1 completed\n"
     ]
    },
    {
     "name": "stdout",
     "output_type": "stream",
     "text": [
      "Working on stock number  371  of  513  total\n"
     ]
    },
    {
     "name": "stderr",
     "output_type": "stream",
     "text": [
      "[*********************100%***********************]  1 of 1 completed\n"
     ]
    },
    {
     "name": "stdout",
     "output_type": "stream",
     "text": [
      "Working on stock number  372  of  513  total\n"
     ]
    },
    {
     "name": "stderr",
     "output_type": "stream",
     "text": [
      "[*********************100%***********************]  1 of 1 completed\n"
     ]
    },
    {
     "name": "stdout",
     "output_type": "stream",
     "text": [
      "Working on stock number  373  of  513  total\n"
     ]
    },
    {
     "name": "stderr",
     "output_type": "stream",
     "text": [
      "[*********************100%***********************]  1 of 1 completed\n"
     ]
    },
    {
     "name": "stdout",
     "output_type": "stream",
     "text": [
      "Working on stock number  374  of  513  total\n"
     ]
    },
    {
     "name": "stderr",
     "output_type": "stream",
     "text": [
      "[*********************100%***********************]  1 of 1 completed\n"
     ]
    },
    {
     "name": "stdout",
     "output_type": "stream",
     "text": [
      "Working on stock number  375  of  513  total\n"
     ]
    },
    {
     "name": "stderr",
     "output_type": "stream",
     "text": [
      "[*********************100%***********************]  1 of 1 completed\n"
     ]
    },
    {
     "name": "stdout",
     "output_type": "stream",
     "text": [
      "Working on stock number  376  of  513  total\n"
     ]
    },
    {
     "name": "stderr",
     "output_type": "stream",
     "text": [
      "[*********************100%***********************]  1 of 1 completed\n"
     ]
    },
    {
     "name": "stdout",
     "output_type": "stream",
     "text": [
      "Working on stock number  377  of  513  total\n"
     ]
    },
    {
     "name": "stderr",
     "output_type": "stream",
     "text": [
      "[*********************100%***********************]  1 of 1 completed\n"
     ]
    },
    {
     "name": "stdout",
     "output_type": "stream",
     "text": [
      "Working on stock number  378  of  513  total\n"
     ]
    },
    {
     "name": "stderr",
     "output_type": "stream",
     "text": [
      "[*********************100%***********************]  1 of 1 completed\n"
     ]
    },
    {
     "name": "stdout",
     "output_type": "stream",
     "text": [
      "Working on stock number  379  of  513  total\n"
     ]
    },
    {
     "name": "stderr",
     "output_type": "stream",
     "text": [
      "[*********************100%***********************]  1 of 1 completed\n"
     ]
    },
    {
     "name": "stdout",
     "output_type": "stream",
     "text": [
      "Working on stock number  380  of  513  total\n"
     ]
    },
    {
     "name": "stderr",
     "output_type": "stream",
     "text": [
      "[*********************100%***********************]  1 of 1 completed\n"
     ]
    },
    {
     "name": "stdout",
     "output_type": "stream",
     "text": [
      "Working on stock number  381  of  513  total\n"
     ]
    },
    {
     "name": "stderr",
     "output_type": "stream",
     "text": [
      "[*********************100%***********************]  1 of 1 completed\n"
     ]
    },
    {
     "name": "stdout",
     "output_type": "stream",
     "text": [
      "Working on stock number  382  of  513  total\n"
     ]
    },
    {
     "name": "stderr",
     "output_type": "stream",
     "text": [
      "[*********************100%***********************]  1 of 1 completed\n"
     ]
    },
    {
     "name": "stdout",
     "output_type": "stream",
     "text": [
      "Working on stock number  383  of  513  total\n"
     ]
    },
    {
     "name": "stderr",
     "output_type": "stream",
     "text": [
      "[*********************100%***********************]  1 of 1 completed\n"
     ]
    },
    {
     "name": "stdout",
     "output_type": "stream",
     "text": [
      "Working on stock number  384  of  513  total\n"
     ]
    },
    {
     "name": "stderr",
     "output_type": "stream",
     "text": [
      "[*********************100%***********************]  1 of 1 completed\n"
     ]
    },
    {
     "name": "stdout",
     "output_type": "stream",
     "text": [
      "Working on stock number  385  of  513  total\n"
     ]
    },
    {
     "name": "stderr",
     "output_type": "stream",
     "text": [
      "[*********************100%***********************]  1 of 1 completed\n"
     ]
    },
    {
     "name": "stdout",
     "output_type": "stream",
     "text": [
      "Working on stock number  386  of  513  total\n"
     ]
    },
    {
     "name": "stderr",
     "output_type": "stream",
     "text": [
      "[*********************100%***********************]  1 of 1 completed\n"
     ]
    },
    {
     "name": "stdout",
     "output_type": "stream",
     "text": [
      "Working on stock number  387  of  513  total\n"
     ]
    },
    {
     "name": "stderr",
     "output_type": "stream",
     "text": [
      "[*********************100%***********************]  1 of 1 completed\n"
     ]
    },
    {
     "name": "stdout",
     "output_type": "stream",
     "text": [
      "Working on stock number  388  of  513  total\n"
     ]
    },
    {
     "name": "stderr",
     "output_type": "stream",
     "text": [
      "[*********************100%***********************]  1 of 1 completed\n"
     ]
    },
    {
     "name": "stdout",
     "output_type": "stream",
     "text": [
      "Working on stock number  389  of  513  total\n"
     ]
    },
    {
     "name": "stderr",
     "output_type": "stream",
     "text": [
      "[*********************100%***********************]  1 of 1 completed\n"
     ]
    },
    {
     "name": "stdout",
     "output_type": "stream",
     "text": [
      "Working on stock number  390  of  513  total\n"
     ]
    },
    {
     "name": "stderr",
     "output_type": "stream",
     "text": [
      "[*********************100%***********************]  1 of 1 completed\n"
     ]
    },
    {
     "name": "stdout",
     "output_type": "stream",
     "text": [
      "Working on stock number  391  of  513  total\n"
     ]
    },
    {
     "name": "stderr",
     "output_type": "stream",
     "text": [
      "[*********************100%***********************]  1 of 1 completed\n"
     ]
    },
    {
     "name": "stdout",
     "output_type": "stream",
     "text": [
      "Working on stock number  392  of  513  total\n"
     ]
    },
    {
     "name": "stderr",
     "output_type": "stream",
     "text": [
      "[*********************100%***********************]  1 of 1 completed\n"
     ]
    },
    {
     "name": "stdout",
     "output_type": "stream",
     "text": [
      "Working on stock number  393  of  513  total\n"
     ]
    },
    {
     "name": "stderr",
     "output_type": "stream",
     "text": [
      "[*********************100%***********************]  1 of 1 completed\n"
     ]
    },
    {
     "name": "stdout",
     "output_type": "stream",
     "text": [
      "Working on stock number  394  of  513  total\n"
     ]
    },
    {
     "name": "stderr",
     "output_type": "stream",
     "text": [
      "[*********************100%***********************]  1 of 1 completed\n"
     ]
    },
    {
     "name": "stdout",
     "output_type": "stream",
     "text": [
      "Working on stock number  395  of  513  total\n"
     ]
    },
    {
     "name": "stderr",
     "output_type": "stream",
     "text": [
      "[*********************100%***********************]  1 of 1 completed\n"
     ]
    },
    {
     "name": "stdout",
     "output_type": "stream",
     "text": [
      "Working on stock number  396  of  513  total\n"
     ]
    },
    {
     "name": "stderr",
     "output_type": "stream",
     "text": [
      "[*********************100%***********************]  1 of 1 completed\n"
     ]
    },
    {
     "name": "stdout",
     "output_type": "stream",
     "text": [
      "Working on stock number  397  of  513  total\n"
     ]
    },
    {
     "name": "stderr",
     "output_type": "stream",
     "text": [
      "[*********************100%***********************]  1 of 1 completed\n"
     ]
    },
    {
     "name": "stdout",
     "output_type": "stream",
     "text": [
      "Working on stock number  398  of  513  total\n"
     ]
    },
    {
     "name": "stderr",
     "output_type": "stream",
     "text": [
      "[*********************100%***********************]  1 of 1 completed\n"
     ]
    },
    {
     "name": "stdout",
     "output_type": "stream",
     "text": [
      "Working on stock number  399  of  513  total\n"
     ]
    },
    {
     "name": "stderr",
     "output_type": "stream",
     "text": [
      "[*********************100%***********************]  1 of 1 completed\n"
     ]
    },
    {
     "name": "stdout",
     "output_type": "stream",
     "text": [
      "Working on stock number  400  of  513  total\n"
     ]
    },
    {
     "name": "stderr",
     "output_type": "stream",
     "text": [
      "[*********************100%***********************]  1 of 1 completed\n"
     ]
    },
    {
     "name": "stdout",
     "output_type": "stream",
     "text": [
      "Working on stock number  401  of  513  total\n"
     ]
    },
    {
     "name": "stderr",
     "output_type": "stream",
     "text": [
      "[*********************100%***********************]  1 of 1 completed\n"
     ]
    },
    {
     "name": "stdout",
     "output_type": "stream",
     "text": [
      "Working on stock number  402  of  513  total\n"
     ]
    },
    {
     "name": "stderr",
     "output_type": "stream",
     "text": [
      "[*********************100%***********************]  1 of 1 completed\n"
     ]
    },
    {
     "name": "stdout",
     "output_type": "stream",
     "text": [
      "Working on stock number  403  of  513  total\n"
     ]
    },
    {
     "name": "stderr",
     "output_type": "stream",
     "text": [
      "[*********************100%***********************]  1 of 1 completed\n"
     ]
    },
    {
     "name": "stdout",
     "output_type": "stream",
     "text": [
      "Working on stock number  404  of  513  total\n"
     ]
    },
    {
     "name": "stderr",
     "output_type": "stream",
     "text": [
      "[*********************100%***********************]  1 of 1 completed\n"
     ]
    },
    {
     "name": "stdout",
     "output_type": "stream",
     "text": [
      "Working on stock number  405  of  513  total\n"
     ]
    },
    {
     "name": "stderr",
     "output_type": "stream",
     "text": [
      "[*********************100%***********************]  1 of 1 completed\n"
     ]
    },
    {
     "name": "stdout",
     "output_type": "stream",
     "text": [
      "Working on stock number  406  of  513  total\n"
     ]
    },
    {
     "name": "stderr",
     "output_type": "stream",
     "text": [
      "[*********************100%***********************]  1 of 1 completed\n"
     ]
    },
    {
     "name": "stdout",
     "output_type": "stream",
     "text": [
      "Working on stock number  407  of  513  total\n"
     ]
    },
    {
     "name": "stderr",
     "output_type": "stream",
     "text": [
      "[*********************100%***********************]  1 of 1 completed\n"
     ]
    },
    {
     "name": "stdout",
     "output_type": "stream",
     "text": [
      "Working on stock number  408  of  513  total\n"
     ]
    },
    {
     "name": "stderr",
     "output_type": "stream",
     "text": [
      "[*********************100%***********************]  1 of 1 completed\n"
     ]
    },
    {
     "name": "stdout",
     "output_type": "stream",
     "text": [
      "Working on stock number  409  of  513  total\n"
     ]
    },
    {
     "name": "stderr",
     "output_type": "stream",
     "text": [
      "[*********************100%***********************]  1 of 1 completed\n"
     ]
    },
    {
     "name": "stdout",
     "output_type": "stream",
     "text": [
      "Working on stock number  410  of  513  total\n"
     ]
    },
    {
     "name": "stderr",
     "output_type": "stream",
     "text": [
      "[*********************100%***********************]  1 of 1 completed\n"
     ]
    },
    {
     "name": "stdout",
     "output_type": "stream",
     "text": [
      "Working on stock number  411  of  513  total\n"
     ]
    },
    {
     "name": "stderr",
     "output_type": "stream",
     "text": [
      "[*********************100%***********************]  1 of 1 completed\n"
     ]
    },
    {
     "name": "stdout",
     "output_type": "stream",
     "text": [
      "Working on stock number  412  of  513  total\n"
     ]
    },
    {
     "name": "stderr",
     "output_type": "stream",
     "text": [
      "[*********************100%***********************]  1 of 1 completed\n"
     ]
    },
    {
     "name": "stdout",
     "output_type": "stream",
     "text": [
      "Working on stock number  413  of  513  total\n"
     ]
    },
    {
     "name": "stderr",
     "output_type": "stream",
     "text": [
      "[*********************100%***********************]  1 of 1 completed\n"
     ]
    },
    {
     "name": "stdout",
     "output_type": "stream",
     "text": [
      "Working on stock number  414  of  513  total\n"
     ]
    },
    {
     "name": "stderr",
     "output_type": "stream",
     "text": [
      "[*********************100%***********************]  1 of 1 completed\n"
     ]
    },
    {
     "name": "stdout",
     "output_type": "stream",
     "text": [
      "Working on stock number  415  of  513  total\n"
     ]
    },
    {
     "name": "stderr",
     "output_type": "stream",
     "text": [
      "[*********************100%***********************]  1 of 1 completed\n"
     ]
    },
    {
     "name": "stdout",
     "output_type": "stream",
     "text": [
      "Working on stock number  416  of  513  total\n"
     ]
    },
    {
     "name": "stderr",
     "output_type": "stream",
     "text": [
      "[*********************100%***********************]  1 of 1 completed\n"
     ]
    },
    {
     "name": "stdout",
     "output_type": "stream",
     "text": [
      "Working on stock number  417  of  513  total\n"
     ]
    },
    {
     "name": "stderr",
     "output_type": "stream",
     "text": [
      "[*********************100%***********************]  1 of 1 completed\n"
     ]
    },
    {
     "name": "stdout",
     "output_type": "stream",
     "text": [
      "Working on stock number  418  of  513  total\n"
     ]
    },
    {
     "name": "stderr",
     "output_type": "stream",
     "text": [
      "[*********************100%***********************]  1 of 1 completed\n"
     ]
    },
    {
     "name": "stdout",
     "output_type": "stream",
     "text": [
      "Working on stock number  419  of  513  total\n"
     ]
    },
    {
     "name": "stderr",
     "output_type": "stream",
     "text": [
      "[*********************100%***********************]  1 of 1 completed\n"
     ]
    },
    {
     "name": "stdout",
     "output_type": "stream",
     "text": [
      "Working on stock number  420  of  513  total\n"
     ]
    },
    {
     "name": "stderr",
     "output_type": "stream",
     "text": [
      "[*********************100%***********************]  1 of 1 completed\n"
     ]
    },
    {
     "name": "stdout",
     "output_type": "stream",
     "text": [
      "Working on stock number  421  of  513  total\n"
     ]
    },
    {
     "name": "stderr",
     "output_type": "stream",
     "text": [
      "[*********************100%***********************]  1 of 1 completed\n"
     ]
    },
    {
     "name": "stdout",
     "output_type": "stream",
     "text": [
      "Working on stock number  422  of  513  total\n"
     ]
    },
    {
     "name": "stderr",
     "output_type": "stream",
     "text": [
      "[*********************100%***********************]  1 of 1 completed\n"
     ]
    },
    {
     "name": "stdout",
     "output_type": "stream",
     "text": [
      "Working on stock number  423  of  513  total\n"
     ]
    },
    {
     "name": "stderr",
     "output_type": "stream",
     "text": [
      "[*********************100%***********************]  1 of 1 completed\n"
     ]
    },
    {
     "name": "stdout",
     "output_type": "stream",
     "text": [
      "Working on stock number  424  of  513  total\n"
     ]
    },
    {
     "name": "stderr",
     "output_type": "stream",
     "text": [
      "[*********************100%***********************]  1 of 1 completed\n"
     ]
    },
    {
     "name": "stdout",
     "output_type": "stream",
     "text": [
      "Working on stock number  425  of  513  total\n"
     ]
    },
    {
     "name": "stderr",
     "output_type": "stream",
     "text": [
      "[*********************100%***********************]  1 of 1 completed\n"
     ]
    },
    {
     "name": "stdout",
     "output_type": "stream",
     "text": [
      "Working on stock number  426  of  513  total\n"
     ]
    },
    {
     "name": "stderr",
     "output_type": "stream",
     "text": [
      "[*********************100%***********************]  1 of 1 completed\n"
     ]
    },
    {
     "name": "stdout",
     "output_type": "stream",
     "text": [
      "Working on stock number  427  of  513  total\n"
     ]
    },
    {
     "name": "stderr",
     "output_type": "stream",
     "text": [
      "[*********************100%***********************]  1 of 1 completed\n"
     ]
    },
    {
     "name": "stdout",
     "output_type": "stream",
     "text": [
      "Working on stock number  428  of  513  total\n"
     ]
    },
    {
     "name": "stderr",
     "output_type": "stream",
     "text": [
      "[*********************100%***********************]  1 of 1 completed\n"
     ]
    },
    {
     "name": "stdout",
     "output_type": "stream",
     "text": [
      "Working on stock number  429  of  513  total\n"
     ]
    },
    {
     "name": "stderr",
     "output_type": "stream",
     "text": [
      "[*********************100%***********************]  1 of 1 completed\n"
     ]
    },
    {
     "name": "stdout",
     "output_type": "stream",
     "text": [
      "Working on stock number  430  of  513  total\n"
     ]
    },
    {
     "name": "stderr",
     "output_type": "stream",
     "text": [
      "[*********************100%***********************]  1 of 1 completed\n"
     ]
    },
    {
     "name": "stdout",
     "output_type": "stream",
     "text": [
      "Working on stock number  431  of  513  total\n"
     ]
    },
    {
     "name": "stderr",
     "output_type": "stream",
     "text": [
      "[*********************100%***********************]  1 of 1 completed\n"
     ]
    },
    {
     "name": "stdout",
     "output_type": "stream",
     "text": [
      "Working on stock number  432  of  513  total\n"
     ]
    },
    {
     "name": "stderr",
     "output_type": "stream",
     "text": [
      "[*********************100%***********************]  1 of 1 completed\n"
     ]
    },
    {
     "name": "stdout",
     "output_type": "stream",
     "text": [
      "Working on stock number  433  of  513  total\n"
     ]
    },
    {
     "name": "stderr",
     "output_type": "stream",
     "text": [
      "[*********************100%***********************]  1 of 1 completed\n"
     ]
    },
    {
     "name": "stdout",
     "output_type": "stream",
     "text": [
      "Working on stock number  434  of  513  total\n"
     ]
    },
    {
     "name": "stderr",
     "output_type": "stream",
     "text": [
      "[*********************100%***********************]  1 of 1 completed\n"
     ]
    },
    {
     "name": "stdout",
     "output_type": "stream",
     "text": [
      "Working on stock number  435  of  513  total\n"
     ]
    },
    {
     "name": "stderr",
     "output_type": "stream",
     "text": [
      "[*********************100%***********************]  1 of 1 completed\n"
     ]
    },
    {
     "name": "stdout",
     "output_type": "stream",
     "text": [
      "Working on stock number  436  of  513  total\n"
     ]
    },
    {
     "name": "stderr",
     "output_type": "stream",
     "text": [
      "[*********************100%***********************]  1 of 1 completed\n"
     ]
    },
    {
     "name": "stdout",
     "output_type": "stream",
     "text": [
      "Working on stock number  437  of  513  total\n"
     ]
    },
    {
     "name": "stderr",
     "output_type": "stream",
     "text": [
      "[*********************100%***********************]  1 of 1 completed\n"
     ]
    },
    {
     "name": "stdout",
     "output_type": "stream",
     "text": [
      "Working on stock number  438  of  513  total\n"
     ]
    },
    {
     "name": "stderr",
     "output_type": "stream",
     "text": [
      "[*********************100%***********************]  1 of 1 completed\n"
     ]
    },
    {
     "name": "stdout",
     "output_type": "stream",
     "text": [
      "Working on stock number  439  of  513  total\n"
     ]
    },
    {
     "name": "stderr",
     "output_type": "stream",
     "text": [
      "[*********************100%***********************]  1 of 1 completed\n"
     ]
    },
    {
     "name": "stdout",
     "output_type": "stream",
     "text": [
      "Working on stock number  440  of  513  total\n"
     ]
    },
    {
     "name": "stderr",
     "output_type": "stream",
     "text": [
      "[*********************100%***********************]  1 of 1 completed\n"
     ]
    },
    {
     "name": "stdout",
     "output_type": "stream",
     "text": [
      "Working on stock number  441  of  513  total\n"
     ]
    },
    {
     "name": "stderr",
     "output_type": "stream",
     "text": [
      "[*********************100%***********************]  1 of 1 completed\n",
      "\n",
      "1 Failed download:\n",
      "['PXD']: YFTzMissingError('$%ticker%: possibly delisted; no timezone found')\n"
     ]
    },
    {
     "name": "stdout",
     "output_type": "stream",
     "text": [
      "Working on stock number  442  of  513  total\n"
     ]
    },
    {
     "name": "stderr",
     "output_type": "stream",
     "text": [
      "[*********************100%***********************]  1 of 1 completed\n"
     ]
    },
    {
     "name": "stdout",
     "output_type": "stream",
     "text": [
      "Working on stock number  443  of  513  total\n"
     ]
    },
    {
     "name": "stderr",
     "output_type": "stream",
     "text": [
      "[*********************100%***********************]  1 of 1 completed\n"
     ]
    },
    {
     "name": "stdout",
     "output_type": "stream",
     "text": [
      "Working on stock number  444  of  513  total\n"
     ]
    },
    {
     "name": "stderr",
     "output_type": "stream",
     "text": [
      "[*********************100%***********************]  1 of 1 completed\n"
     ]
    },
    {
     "name": "stdout",
     "output_type": "stream",
     "text": [
      "Working on stock number  445  of  513  total\n"
     ]
    },
    {
     "name": "stderr",
     "output_type": "stream",
     "text": [
      "[*********************100%***********************]  1 of 1 completed\n"
     ]
    },
    {
     "name": "stdout",
     "output_type": "stream",
     "text": [
      "Working on stock number  446  of  513  total\n"
     ]
    },
    {
     "name": "stderr",
     "output_type": "stream",
     "text": [
      "[*********************100%***********************]  1 of 1 completed\n"
     ]
    },
    {
     "name": "stdout",
     "output_type": "stream",
     "text": [
      "Working on stock number  447  of  513  total\n"
     ]
    },
    {
     "name": "stderr",
     "output_type": "stream",
     "text": [
      "[*********************100%***********************]  1 of 1 completed\n"
     ]
    },
    {
     "name": "stdout",
     "output_type": "stream",
     "text": [
      "Working on stock number  448  of  513  total\n"
     ]
    },
    {
     "name": "stderr",
     "output_type": "stream",
     "text": [
      "[*********************100%***********************]  1 of 1 completed\n"
     ]
    },
    {
     "name": "stdout",
     "output_type": "stream",
     "text": [
      "Working on stock number  449  of  513  total\n"
     ]
    },
    {
     "name": "stderr",
     "output_type": "stream",
     "text": [
      "[*********************100%***********************]  1 of 1 completed\n"
     ]
    },
    {
     "name": "stdout",
     "output_type": "stream",
     "text": [
      "Working on stock number  450  of  513  total\n"
     ]
    },
    {
     "name": "stderr",
     "output_type": "stream",
     "text": [
      "[*********************100%***********************]  1 of 1 completed\n",
      "\n",
      "1 Failed download:\n",
      "['ATVI']: YFTzMissingError('$%ticker%: possibly delisted; no timezone found')\n"
     ]
    },
    {
     "name": "stdout",
     "output_type": "stream",
     "text": [
      "Working on stock number  451  of  513  total\n"
     ]
    },
    {
     "name": "stderr",
     "output_type": "stream",
     "text": [
      "[*********************100%***********************]  1 of 1 completed\n"
     ]
    },
    {
     "name": "stdout",
     "output_type": "stream",
     "text": [
      "Working on stock number  452  of  513  total\n"
     ]
    },
    {
     "name": "stderr",
     "output_type": "stream",
     "text": [
      "[*********************100%***********************]  1 of 1 completed\n"
     ]
    },
    {
     "name": "stdout",
     "output_type": "stream",
     "text": [
      "Working on stock number  453  of  513  total\n"
     ]
    },
    {
     "name": "stderr",
     "output_type": "stream",
     "text": [
      "[*********************100%***********************]  1 of 1 completed\n"
     ]
    },
    {
     "name": "stdout",
     "output_type": "stream",
     "text": [
      "Working on stock number  454  of  513  total\n"
     ]
    },
    {
     "name": "stderr",
     "output_type": "stream",
     "text": [
      "[*********************100%***********************]  1 of 1 completed\n"
     ]
    },
    {
     "name": "stdout",
     "output_type": "stream",
     "text": [
      "Working on stock number  455  of  513  total\n"
     ]
    },
    {
     "name": "stderr",
     "output_type": "stream",
     "text": [
      "[*********************100%***********************]  1 of 1 completed\n",
      "\n",
      "1 Failed download:\n",
      "['DISH']: YFTzMissingError('$%ticker%: possibly delisted; no timezone found')\n"
     ]
    },
    {
     "name": "stdout",
     "output_type": "stream",
     "text": [
      "Working on stock number  456  of  513  total\n"
     ]
    },
    {
     "name": "stderr",
     "output_type": "stream",
     "text": [
      "[*********************100%***********************]  1 of 1 completed\n",
      "\n",
      "1 Failed download:\n",
      "['FRC']: YFTzMissingError('$%ticker%: possibly delisted; no timezone found')\n"
     ]
    },
    {
     "name": "stdout",
     "output_type": "stream",
     "text": [
      "Working on stock number  457  of  513  total\n"
     ]
    },
    {
     "name": "stderr",
     "output_type": "stream",
     "text": [
      "[*********************100%***********************]  1 of 1 completed\n"
     ]
    },
    {
     "name": "stdout",
     "output_type": "stream",
     "text": [
      "Working on stock number  458  of  513  total\n"
     ]
    },
    {
     "name": "stderr",
     "output_type": "stream",
     "text": [
      "[*********************100%***********************]  1 of 1 completed\n"
     ]
    },
    {
     "name": "stdout",
     "output_type": "stream",
     "text": [
      "Working on stock number  459  of  513  total\n"
     ]
    },
    {
     "name": "stderr",
     "output_type": "stream",
     "text": [
      "[*********************100%***********************]  1 of 1 completed\n",
      "\n",
      "1 Failed download:\n",
      "['SIVB']: YFInvalidPeriodError(\"%ticker%: Period 'max' is invalid, must be one of ['1d', '5d']\")\n"
     ]
    },
    {
     "name": "stdout",
     "output_type": "stream",
     "text": [
      "Working on stock number  460  of  513  total\n"
     ]
    },
    {
     "name": "stderr",
     "output_type": "stream",
     "text": [
      "[*********************100%***********************]  1 of 1 completed\n"
     ]
    },
    {
     "name": "stdout",
     "output_type": "stream",
     "text": [
      "Working on stock number  461  of  513  total\n"
     ]
    },
    {
     "name": "stderr",
     "output_type": "stream",
     "text": [
      "[*********************100%***********************]  1 of 1 completed\n",
      "\n",
      "1 Failed download:\n",
      "['ABMD']: YFTzMissingError('$%ticker%: possibly delisted; no timezone found')\n"
     ]
    },
    {
     "name": "stdout",
     "output_type": "stream",
     "text": [
      "Working on stock number  462  of  513  total\n"
     ]
    },
    {
     "name": "stderr",
     "output_type": "stream",
     "text": [
      "[*********************100%***********************]  1 of 1 completed\n",
      "\n",
      "1 Failed download:\n",
      "['FBHS']: YFTzMissingError('$%ticker%: possibly delisted; no timezone found')\n"
     ]
    },
    {
     "name": "stdout",
     "output_type": "stream",
     "text": [
      "Working on stock number  463  of  513  total\n"
     ]
    },
    {
     "name": "stderr",
     "output_type": "stream",
     "text": [
      "[*********************100%***********************]  1 of 1 completed\n"
     ]
    },
    {
     "name": "stdout",
     "output_type": "stream",
     "text": [
      "Working on stock number  464  of  513  total\n"
     ]
    },
    {
     "name": "stderr",
     "output_type": "stream",
     "text": [
      "[*********************100%***********************]  1 of 1 completed\n",
      "\n",
      "1 Failed download:\n",
      "['TWTR']: YFTzMissingError('$%ticker%: possibly delisted; no timezone found')\n"
     ]
    },
    {
     "name": "stdout",
     "output_type": "stream",
     "text": [
      "Working on stock number  465  of  513  total\n"
     ]
    },
    {
     "name": "stderr",
     "output_type": "stream",
     "text": [
      "[*********************100%***********************]  1 of 1 completed\n",
      "\n",
      "1 Failed download:\n",
      "['NLSN']: YFTzMissingError('$%ticker%: possibly delisted; no timezone found')\n"
     ]
    },
    {
     "name": "stdout",
     "output_type": "stream",
     "text": [
      "Working on stock number  466  of  513  total\n"
     ]
    },
    {
     "name": "stderr",
     "output_type": "stream",
     "text": [
      "[*********************100%***********************]  1 of 1 completed\n",
      "\n",
      "1 Failed download:\n",
      "['CTXS']: YFTzMissingError('$%ticker%: possibly delisted; no timezone found')\n"
     ]
    },
    {
     "name": "stdout",
     "output_type": "stream",
     "text": [
      "Working on stock number  467  of  513  total\n"
     ]
    },
    {
     "name": "stderr",
     "output_type": "stream",
     "text": [
      "[*********************100%***********************]  1 of 1 completed\n",
      "\n",
      "1 Failed download:\n",
      "['DRE']: YFTzMissingError('$%ticker%: possibly delisted; no timezone found')\n"
     ]
    },
    {
     "name": "stdout",
     "output_type": "stream",
     "text": [
      "Working on stock number  468  of  513  total\n"
     ]
    },
    {
     "name": "stderr",
     "output_type": "stream",
     "text": [
      "[*********************100%***********************]  1 of 1 completed\n"
     ]
    },
    {
     "name": "stdout",
     "output_type": "stream",
     "text": [
      "Working on stock number  469  of  513  total\n"
     ]
    },
    {
     "name": "stderr",
     "output_type": "stream",
     "text": [
      "[*********************100%***********************]  1 of 1 completed\n"
     ]
    },
    {
     "name": "stdout",
     "output_type": "stream",
     "text": [
      "Working on stock number  470  of  513  total\n"
     ]
    },
    {
     "name": "stderr",
     "output_type": "stream",
     "text": [
      "[*********************100%***********************]  1 of 1 completed\n"
     ]
    },
    {
     "name": "stdout",
     "output_type": "stream",
     "text": [
      "Working on stock number  471  of  513  total\n"
     ]
    },
    {
     "name": "stderr",
     "output_type": "stream",
     "text": [
      "[*********************100%***********************]  1 of 1 completed\n"
     ]
    },
    {
     "name": "stdout",
     "output_type": "stream",
     "text": [
      "Working on stock number  472  of  513  total\n"
     ]
    },
    {
     "name": "stderr",
     "output_type": "stream",
     "text": [
      "[*********************100%***********************]  1 of 1 completed\n"
     ]
    },
    {
     "name": "stdout",
     "output_type": "stream",
     "text": [
      "Working on stock number  473  of  513  total\n"
     ]
    },
    {
     "name": "stderr",
     "output_type": "stream",
     "text": [
      "[*********************100%***********************]  1 of 1 completed\n",
      "\n",
      "1 Failed download:\n",
      "['CERN']: YFTzMissingError('$%ticker%: possibly delisted; no timezone found')\n"
     ]
    },
    {
     "name": "stdout",
     "output_type": "stream",
     "text": [
      "Working on stock number  474  of  513  total\n"
     ]
    },
    {
     "name": "stderr",
     "output_type": "stream",
     "text": [
      "[*********************100%***********************]  1 of 1 completed\n",
      "\n",
      "1 Failed download:\n",
      "['PBCT']: YFTzMissingError('$%ticker%: possibly delisted; no timezone found')\n"
     ]
    },
    {
     "name": "stdout",
     "output_type": "stream",
     "text": [
      "Working on stock number  475  of  513  total\n"
     ]
    },
    {
     "name": "stderr",
     "output_type": "stream",
     "text": [
      "[*********************100%***********************]  1 of 1 completed\n",
      "\n",
      "1 Failed download:\n",
      "['INFO']: YFTzMissingError('$%ticker%: possibly delisted; no timezone found')\n"
     ]
    },
    {
     "name": "stdout",
     "output_type": "stream",
     "text": [
      "Working on stock number  476  of  513  total\n"
     ]
    },
    {
     "name": "stderr",
     "output_type": "stream",
     "text": [
      "[*********************100%***********************]  1 of 1 completed\n",
      "\n",
      "1 Failed download:\n",
      "['XLNX']: YFTzMissingError('$%ticker%: possibly delisted; no timezone found')\n"
     ]
    },
    {
     "name": "stdout",
     "output_type": "stream",
     "text": [
      "Working on stock number  477  of  513  total\n"
     ]
    },
    {
     "name": "stderr",
     "output_type": "stream",
     "text": [
      "[*********************100%***********************]  1 of 1 completed\n"
     ]
    },
    {
     "name": "stdout",
     "output_type": "stream",
     "text": [
      "Working on stock number  478  of  513  total\n"
     ]
    },
    {
     "name": "stderr",
     "output_type": "stream",
     "text": [
      "[*********************100%***********************]  1 of 1 completed\n"
     ]
    },
    {
     "name": "stdout",
     "output_type": "stream",
     "text": [
      "Working on stock number  479  of  513  total\n"
     ]
    },
    {
     "name": "stderr",
     "output_type": "stream",
     "text": [
      "[*********************100%***********************]  1 of 1 completed\n"
     ]
    },
    {
     "name": "stdout",
     "output_type": "stream",
     "text": [
      "Working on stock number  480  of  513  total\n"
     ]
    },
    {
     "name": "stderr",
     "output_type": "stream",
     "text": [
      "[*********************100%***********************]  1 of 1 completed\n"
     ]
    },
    {
     "name": "stdout",
     "output_type": "stream",
     "text": [
      "Working on stock number  481  of  513  total\n"
     ]
    },
    {
     "name": "stderr",
     "output_type": "stream",
     "text": [
      "[*********************100%***********************]  1 of 1 completed\n",
      "\n",
      "1 Failed download:\n",
      "['KSU']: YFTzMissingError('$%ticker%: possibly delisted; no timezone found')\n"
     ]
    },
    {
     "name": "stdout",
     "output_type": "stream",
     "text": [
      "Working on stock number  482  of  513  total\n"
     ]
    },
    {
     "name": "stderr",
     "output_type": "stream",
     "text": [
      "[*********************100%***********************]  1 of 1 completed\n"
     ]
    },
    {
     "name": "stdout",
     "output_type": "stream",
     "text": [
      "Working on stock number  483  of  513  total\n"
     ]
    },
    {
     "name": "stderr",
     "output_type": "stream",
     "text": [
      "[*********************100%***********************]  1 of 1 completed\n"
     ]
    },
    {
     "name": "stdout",
     "output_type": "stream",
     "text": [
      "Working on stock number  484  of  513  total\n"
     ]
    },
    {
     "name": "stderr",
     "output_type": "stream",
     "text": [
      "[*********************100%***********************]  1 of 1 completed\n"
     ]
    },
    {
     "name": "stdout",
     "output_type": "stream",
     "text": [
      "Working on stock number  485  of  513  total\n"
     ]
    },
    {
     "name": "stderr",
     "output_type": "stream",
     "text": [
      "[*********************100%***********************]  1 of 1 completed\n",
      "\n",
      "1 Failed download:\n",
      "['MXIM']: YFTzMissingError('$%ticker%: possibly delisted; no timezone found')\n"
     ]
    },
    {
     "name": "stdout",
     "output_type": "stream",
     "text": [
      "Working on stock number  486  of  513  total\n"
     ]
    },
    {
     "name": "stderr",
     "output_type": "stream",
     "text": [
      "[*********************100%***********************]  1 of 1 completed\n",
      "\n",
      "1 Failed download:\n",
      "['ALXN']: YFTzMissingError('$%ticker%: possibly delisted; no timezone found')\n"
     ]
    },
    {
     "name": "stdout",
     "output_type": "stream",
     "text": [
      "Working on stock number  487  of  513  total\n"
     ]
    },
    {
     "name": "stderr",
     "output_type": "stream",
     "text": [
      "[*********************100%***********************]  1 of 1 completed\n",
      "\n",
      "1 Failed download:\n",
      "['HFC']: YFTzMissingError('$%ticker%: possibly delisted; no timezone found')\n"
     ]
    },
    {
     "name": "stdout",
     "output_type": "stream",
     "text": [
      "Working on stock number  488  of  513  total\n"
     ]
    },
    {
     "name": "stderr",
     "output_type": "stream",
     "text": [
      "[*********************100%***********************]  1 of 1 completed\n",
      "\n",
      "1 Failed download:\n",
      "['FLIR']: YFTzMissingError('$%ticker%: possibly delisted; no timezone found')\n"
     ]
    },
    {
     "name": "stdout",
     "output_type": "stream",
     "text": [
      "Working on stock number  489  of  513  total\n"
     ]
    },
    {
     "name": "stderr",
     "output_type": "stream",
     "text": [
      "[*********************100%***********************]  1 of 1 completed\n",
      "\n",
      "1 Failed download:\n",
      "['VAR']: YFTzMissingError('$%ticker%: possibly delisted; no timezone found')\n"
     ]
    },
    {
     "name": "stdout",
     "output_type": "stream",
     "text": [
      "Working on stock number  490  of  513  total\n"
     ]
    },
    {
     "name": "stderr",
     "output_type": "stream",
     "text": [
      "[*********************100%***********************]  1 of 1 completed\n"
     ]
    },
    {
     "name": "stdout",
     "output_type": "stream",
     "text": [
      "Working on stock number  491  of  513  total\n"
     ]
    },
    {
     "name": "stderr",
     "output_type": "stream",
     "text": [
      "[*********************100%***********************]  1 of 1 completed\n"
     ]
    },
    {
     "name": "stdout",
     "output_type": "stream",
     "text": [
      "Working on stock number  492  of  513  total\n"
     ]
    },
    {
     "name": "stderr",
     "output_type": "stream",
     "text": [
      "[*********************100%***********************]  1 of 1 completed\n"
     ]
    },
    {
     "name": "stdout",
     "output_type": "stream",
     "text": [
      "Working on stock number  493  of  513  total\n"
     ]
    },
    {
     "name": "stderr",
     "output_type": "stream",
     "text": [
      "[*********************100%***********************]  1 of 1 completed\n"
     ]
    },
    {
     "name": "stdout",
     "output_type": "stream",
     "text": [
      "Working on stock number  494  of  513  total\n"
     ]
    },
    {
     "name": "stderr",
     "output_type": "stream",
     "text": [
      "[*********************100%***********************]  1 of 1 completed\n"
     ]
    },
    {
     "name": "stdout",
     "output_type": "stream",
     "text": [
      "Working on stock number  495  of  513  total\n"
     ]
    },
    {
     "name": "stderr",
     "output_type": "stream",
     "text": [
      "[*********************100%***********************]  1 of 1 completed\n",
      "\n",
      "1 Failed download:\n",
      "['CXO']: YFTzMissingError('$%ticker%: possibly delisted; no timezone found')\n"
     ]
    },
    {
     "name": "stdout",
     "output_type": "stream",
     "text": [
      "Working on stock number  496  of  513  total\n"
     ]
    },
    {
     "name": "stderr",
     "output_type": "stream",
     "text": [
      "[*********************100%***********************]  1 of 1 completed\n",
      "\n",
      "1 Failed download:\n",
      "['TIF']: YFTzMissingError('$%ticker%: possibly delisted; no timezone found')\n"
     ]
    },
    {
     "name": "stdout",
     "output_type": "stream",
     "text": [
      "Working on stock number  497  of  513  total\n"
     ]
    },
    {
     "name": "stderr",
     "output_type": "stream",
     "text": [
      "[*********************100%***********************]  1 of 1 completed\n"
     ]
    },
    {
     "name": "stdout",
     "output_type": "stream",
     "text": [
      "Working on stock number  498  of  513  total\n"
     ]
    },
    {
     "name": "stderr",
     "output_type": "stream",
     "text": [
      "[*********************100%***********************]  1 of 1 completed\n",
      "\n",
      "1 Failed download:\n",
      "['NBL']: YFTzMissingError('$%ticker%: possibly delisted; no timezone found')\n"
     ]
    },
    {
     "name": "stdout",
     "output_type": "stream",
     "text": [
      "Working on stock number  499  of  513  total\n"
     ]
    },
    {
     "name": "stderr",
     "output_type": "stream",
     "text": [
      "[*********************100%***********************]  1 of 1 completed\n",
      "\n",
      "1 Failed download:\n",
      "['ETFC']: YFTzMissingError('$%ticker%: possibly delisted; no timezone found')\n"
     ]
    },
    {
     "name": "stdout",
     "output_type": "stream",
     "text": [
      "Working on stock number  500  of  513  total\n"
     ]
    },
    {
     "name": "stderr",
     "output_type": "stream",
     "text": [
      "[*********************100%***********************]  1 of 1 completed\n"
     ]
    },
    {
     "name": "stdout",
     "output_type": "stream",
     "text": [
      "Working on stock number  501  of  513  total\n"
     ]
    },
    {
     "name": "stderr",
     "output_type": "stream",
     "text": [
      "[*********************100%***********************]  1 of 1 completed\n"
     ]
    },
    {
     "name": "stdout",
     "output_type": "stream",
     "text": [
      "Working on stock number  502  of  513  total\n"
     ]
    },
    {
     "name": "stderr",
     "output_type": "stream",
     "text": [
      "[*********************100%***********************]  1 of 1 completed\n"
     ]
    },
    {
     "name": "stdout",
     "output_type": "stream",
     "text": [
      "Working on stock number  503  of  513  total\n"
     ]
    },
    {
     "name": "stderr",
     "output_type": "stream",
     "text": [
      "[*********************100%***********************]  1 of 1 completed\n",
      "\n",
      "1 Failed download:\n",
      "['ADS']: YFTzMissingError('$%ticker%: possibly delisted; no timezone found')\n"
     ]
    },
    {
     "name": "stdout",
     "output_type": "stream",
     "text": [
      "Working on stock number  504  of  513  total\n"
     ]
    },
    {
     "name": "stderr",
     "output_type": "stream",
     "text": [
      "[*********************100%***********************]  1 of 1 completed\n"
     ]
    },
    {
     "name": "stdout",
     "output_type": "stream",
     "text": [
      "Working on stock number  505  of  513  total\n"
     ]
    },
    {
     "name": "stderr",
     "output_type": "stream",
     "text": [
      "[*********************100%***********************]  1 of 1 completed\n"
     ]
    },
    {
     "name": "stdout",
     "output_type": "stream",
     "text": [
      "Working on stock number  506  of  513  total\n"
     ]
    },
    {
     "name": "stderr",
     "output_type": "stream",
     "text": [
      "[*********************100%***********************]  1 of 1 completed\n"
     ]
    },
    {
     "name": "stdout",
     "output_type": "stream",
     "text": [
      "Working on stock number  507  of  513  total\n"
     ]
    },
    {
     "name": "stderr",
     "output_type": "stream",
     "text": [
      "[*********************100%***********************]  1 of 1 completed\n"
     ]
    },
    {
     "name": "stdout",
     "output_type": "stream",
     "text": [
      "Working on stock number  508  of  513  total\n"
     ]
    },
    {
     "name": "stderr",
     "output_type": "stream",
     "text": [
      "[*********************100%***********************]  1 of 1 completed\n",
      "\n",
      "1 Failed download:\n",
      "['AGN']: YFTzMissingError('$%ticker%: possibly delisted; no timezone found')\n"
     ]
    },
    {
     "name": "stdout",
     "output_type": "stream",
     "text": [
      "Working on stock number  509  of  513  total\n"
     ]
    },
    {
     "name": "stderr",
     "output_type": "stream",
     "text": [
      "[*********************100%***********************]  1 of 1 completed\n"
     ]
    },
    {
     "name": "stdout",
     "output_type": "stream",
     "text": [
      "Working on stock number  510  of  513  total\n"
     ]
    },
    {
     "name": "stderr",
     "output_type": "stream",
     "text": [
      "[*********************100%***********************]  1 of 1 completed\n",
      "\n",
      "1 Failed download:\n",
      "['RTN']: YFTzMissingError('$%ticker%: possibly delisted; no timezone found')\n"
     ]
    },
    {
     "name": "stdout",
     "output_type": "stream",
     "text": [
      "Working on stock number  511  of  513  total\n"
     ]
    },
    {
     "name": "stderr",
     "output_type": "stream",
     "text": [
      "[*********************100%***********************]  1 of 1 completed\n",
      "\n",
      "1 Failed download:\n",
      "['ARNC']: YFTzMissingError('$%ticker%: possibly delisted; no timezone found')\n"
     ]
    },
    {
     "name": "stdout",
     "output_type": "stream",
     "text": [
      "Working on stock number  512  of  513  total\n"
     ]
    },
    {
     "name": "stderr",
     "output_type": "stream",
     "text": [
      "[*********************100%***********************]  1 of 1 completed\n",
      "\n",
      "1 Failed download:\n",
      "['XEC']: YFTzMissingError('$%ticker%: possibly delisted; no timezone found')\n"
     ]
    },
    {
     "name": "stdout",
     "output_type": "stream",
     "text": [
      "Working on stock number  513  of  513  total\n"
     ]
    },
    {
     "name": "stderr",
     "output_type": "stream",
     "text": [
      "[*********************100%***********************]  1 of 1 completed\n",
      "\n",
      "1 Failed download:\n",
      "['WCG']: YFTzMissingError('$%ticker%: possibly delisted; no timezone found')\n"
     ]
    }
   ],
   "source": [
    "prices, symbols = [], []\n",
    "\n",
    "i=1\n",
    "for symbol in Tickers_Full:\n",
    "    print(\"Working on stock number \", i, \" of \", len(Tickers_Full), \" total\")\n",
    "    df = yf.download(symbol, start)['Adj Close']\n",
    "    if not df.empty:\n",
    "        prices.append(df)\n",
    "        symbols.append(symbol)\n",
    "    i+=1"
   ]
  },
  {
   "cell_type": "code",
   "execution_count": 22,
   "metadata": {},
   "outputs": [
    {
     "data": {
      "text/html": [
       "<div>\n",
       "<style scoped>\n",
       "    .dataframe tbody tr th:only-of-type {\n",
       "        vertical-align: middle;\n",
       "    }\n",
       "\n",
       "    .dataframe tbody tr th {\n",
       "        vertical-align: top;\n",
       "    }\n",
       "\n",
       "    .dataframe thead th {\n",
       "        text-align: right;\n",
       "    }\n",
       "</style>\n",
       "<table border=\"1\" class=\"dataframe\">\n",
       "  <thead>\n",
       "    <tr style=\"text-align: right;\">\n",
       "      <th></th>\n",
       "      <th>MMM</th>\n",
       "      <th>AOS</th>\n",
       "      <th>ABT</th>\n",
       "      <th>ABBV</th>\n",
       "      <th>ACN</th>\n",
       "      <th>ADBE</th>\n",
       "      <th>AMD</th>\n",
       "      <th>AES</th>\n",
       "      <th>AFL</th>\n",
       "      <th>A</th>\n",
       "      <th>...</th>\n",
       "      <th>FTI</th>\n",
       "      <th>AIV</th>\n",
       "      <th>HRB</th>\n",
       "      <th>COTY</th>\n",
       "      <th>KSS</th>\n",
       "      <th>HOG</th>\n",
       "      <th>JWN</th>\n",
       "      <th>HP</th>\n",
       "      <th>CPRI</th>\n",
       "      <th>M</th>\n",
       "    </tr>\n",
       "    <tr>\n",
       "      <th>Date</th>\n",
       "      <th></th>\n",
       "      <th></th>\n",
       "      <th></th>\n",
       "      <th></th>\n",
       "      <th></th>\n",
       "      <th></th>\n",
       "      <th></th>\n",
       "      <th></th>\n",
       "      <th></th>\n",
       "      <th></th>\n",
       "      <th></th>\n",
       "      <th></th>\n",
       "      <th></th>\n",
       "      <th></th>\n",
       "      <th></th>\n",
       "      <th></th>\n",
       "      <th></th>\n",
       "      <th></th>\n",
       "      <th></th>\n",
       "      <th></th>\n",
       "      <th></th>\n",
       "    </tr>\n",
       "  </thead>\n",
       "  <tbody>\n",
       "    <tr>\n",
       "      <th>2020-01-02</th>\n",
       "      <td>123.614922</td>\n",
       "      <td>43.839252</td>\n",
       "      <td>80.065521</td>\n",
       "      <td>72.841949</td>\n",
       "      <td>196.058365</td>\n",
       "      <td>334.429993</td>\n",
       "      <td>49.099998</td>\n",
       "      <td>17.277994</td>\n",
       "      <td>47.437042</td>\n",
       "      <td>83.347343</td>\n",
       "      <td>...</td>\n",
       "      <td>15.373728</td>\n",
       "      <td>4.859455</td>\n",
       "      <td>19.371017</td>\n",
       "      <td>10.930307</td>\n",
       "      <td>37.743382</td>\n",
       "      <td>34.255539</td>\n",
       "      <td>35.477711</td>\n",
       "      <td>35.662270</td>\n",
       "      <td>38.279999</td>\n",
       "      <td>14.130654</td>\n",
       "    </tr>\n",
       "    <tr>\n",
       "      <th>2020-01-03</th>\n",
       "      <td>122.550529</td>\n",
       "      <td>43.453808</td>\n",
       "      <td>79.089462</td>\n",
       "      <td>72.150536</td>\n",
       "      <td>195.731842</td>\n",
       "      <td>331.809998</td>\n",
       "      <td>48.599998</td>\n",
       "      <td>17.079590</td>\n",
       "      <td>47.108055</td>\n",
       "      <td>82.009140</td>\n",
       "      <td>...</td>\n",
       "      <td>15.553916</td>\n",
       "      <td>4.936314</td>\n",
       "      <td>19.354515</td>\n",
       "      <td>10.940200</td>\n",
       "      <td>37.804859</td>\n",
       "      <td>33.507446</td>\n",
       "      <td>35.274273</td>\n",
       "      <td>36.119160</td>\n",
       "      <td>37.380001</td>\n",
       "      <td>14.139209</td>\n",
       "    </tr>\n",
       "    <tr>\n",
       "      <th>2020-01-06</th>\n",
       "      <td>122.667213</td>\n",
       "      <td>43.729134</td>\n",
       "      <td>79.503830</td>\n",
       "      <td>72.719955</td>\n",
       "      <td>194.453720</td>\n",
       "      <td>333.709991</td>\n",
       "      <td>48.389999</td>\n",
       "      <td>17.277994</td>\n",
       "      <td>46.974682</td>\n",
       "      <td>82.251572</td>\n",
       "      <td>...</td>\n",
       "      <td>15.662031</td>\n",
       "      <td>4.967058</td>\n",
       "      <td>19.412268</td>\n",
       "      <td>10.732474</td>\n",
       "      <td>38.473488</td>\n",
       "      <td>33.756805</td>\n",
       "      <td>36.247231</td>\n",
       "      <td>37.143269</td>\n",
       "      <td>37.070000</td>\n",
       "      <td>14.626768</td>\n",
       "    </tr>\n",
       "    <tr>\n",
       "      <th>2020-01-07</th>\n",
       "      <td>122.172760</td>\n",
       "      <td>43.435455</td>\n",
       "      <td>79.061829</td>\n",
       "      <td>72.305107</td>\n",
       "      <td>190.255447</td>\n",
       "      <td>333.390015</td>\n",
       "      <td>48.250000</td>\n",
       "      <td>17.338375</td>\n",
       "      <td>46.530102</td>\n",
       "      <td>82.503677</td>\n",
       "      <td>...</td>\n",
       "      <td>15.287236</td>\n",
       "      <td>4.902688</td>\n",
       "      <td>19.404020</td>\n",
       "      <td>10.603883</td>\n",
       "      <td>38.558033</td>\n",
       "      <td>33.267311</td>\n",
       "      <td>37.140587</td>\n",
       "      <td>36.662735</td>\n",
       "      <td>37.580002</td>\n",
       "      <td>15.114326</td>\n",
       "    </tr>\n",
       "    <tr>\n",
       "      <th>2020-01-08</th>\n",
       "      <td>124.047607</td>\n",
       "      <td>43.371220</td>\n",
       "      <td>79.384117</td>\n",
       "      <td>72.817551</td>\n",
       "      <td>190.628677</td>\n",
       "      <td>337.869995</td>\n",
       "      <td>47.830002</td>\n",
       "      <td>17.303869</td>\n",
       "      <td>46.672363</td>\n",
       "      <td>83.318268</td>\n",
       "      <td>...</td>\n",
       "      <td>14.768293</td>\n",
       "      <td>4.924785</td>\n",
       "      <td>19.288517</td>\n",
       "      <td>10.406049</td>\n",
       "      <td>37.950878</td>\n",
       "      <td>33.738338</td>\n",
       "      <td>37.273266</td>\n",
       "      <td>35.906471</td>\n",
       "      <td>38.009998</td>\n",
       "      <td>15.482135</td>\n",
       "    </tr>\n",
       "    <tr>\n",
       "      <th>...</th>\n",
       "      <td>...</td>\n",
       "      <td>...</td>\n",
       "      <td>...</td>\n",
       "      <td>...</td>\n",
       "      <td>...</td>\n",
       "      <td>...</td>\n",
       "      <td>...</td>\n",
       "      <td>...</td>\n",
       "      <td>...</td>\n",
       "      <td>...</td>\n",
       "      <td>...</td>\n",
       "      <td>...</td>\n",
       "      <td>...</td>\n",
       "      <td>...</td>\n",
       "      <td>...</td>\n",
       "      <td>...</td>\n",
       "      <td>...</td>\n",
       "      <td>...</td>\n",
       "      <td>...</td>\n",
       "      <td>...</td>\n",
       "      <td>...</td>\n",
       "    </tr>\n",
       "    <tr>\n",
       "      <th>2024-09-18</th>\n",
       "      <td>133.360001</td>\n",
       "      <td>82.889999</td>\n",
       "      <td>114.879997</td>\n",
       "      <td>192.940002</td>\n",
       "      <td>336.179993</td>\n",
       "      <td>508.130005</td>\n",
       "      <td>148.289993</td>\n",
       "      <td>19.260000</td>\n",
       "      <td>108.959999</td>\n",
       "      <td>139.009995</td>\n",
       "      <td>...</td>\n",
       "      <td>25.360001</td>\n",
       "      <td>9.260000</td>\n",
       "      <td>62.770000</td>\n",
       "      <td>9.260000</td>\n",
       "      <td>18.969999</td>\n",
       "      <td>38.360001</td>\n",
       "      <td>22.559999</td>\n",
       "      <td>31.340000</td>\n",
       "      <td>39.070000</td>\n",
       "      <td>15.120000</td>\n",
       "    </tr>\n",
       "    <tr>\n",
       "      <th>2024-09-19</th>\n",
       "      <td>133.839996</td>\n",
       "      <td>84.290001</td>\n",
       "      <td>114.150002</td>\n",
       "      <td>193.619995</td>\n",
       "      <td>335.239990</td>\n",
       "      <td>526.440002</td>\n",
       "      <td>156.740005</td>\n",
       "      <td>18.900000</td>\n",
       "      <td>107.870003</td>\n",
       "      <td>141.949997</td>\n",
       "      <td>...</td>\n",
       "      <td>26.350000</td>\n",
       "      <td>9.290000</td>\n",
       "      <td>63.680000</td>\n",
       "      <td>9.390000</td>\n",
       "      <td>18.620001</td>\n",
       "      <td>39.529999</td>\n",
       "      <td>22.910000</td>\n",
       "      <td>32.240002</td>\n",
       "      <td>38.869999</td>\n",
       "      <td>15.330000</td>\n",
       "    </tr>\n",
       "    <tr>\n",
       "      <th>2024-09-20</th>\n",
       "      <td>134.770004</td>\n",
       "      <td>82.889999</td>\n",
       "      <td>113.699997</td>\n",
       "      <td>193.470001</td>\n",
       "      <td>336.220001</td>\n",
       "      <td>522.299988</td>\n",
       "      <td>155.949997</td>\n",
       "      <td>18.900000</td>\n",
       "      <td>107.919998</td>\n",
       "      <td>140.089996</td>\n",
       "      <td>...</td>\n",
       "      <td>27.219999</td>\n",
       "      <td>9.240000</td>\n",
       "      <td>64.459999</td>\n",
       "      <td>9.190000</td>\n",
       "      <td>18.680000</td>\n",
       "      <td>38.580002</td>\n",
       "      <td>23.020000</td>\n",
       "      <td>32.619999</td>\n",
       "      <td>38.290001</td>\n",
       "      <td>15.300000</td>\n",
       "    </tr>\n",
       "    <tr>\n",
       "      <th>2024-09-23</th>\n",
       "      <td>135.639999</td>\n",
       "      <td>83.980003</td>\n",
       "      <td>114.809998</td>\n",
       "      <td>193.830002</td>\n",
       "      <td>339.209991</td>\n",
       "      <td>527.869995</td>\n",
       "      <td>156.750000</td>\n",
       "      <td>19.320000</td>\n",
       "      <td>110.019997</td>\n",
       "      <td>139.789993</td>\n",
       "      <td>...</td>\n",
       "      <td>27.379999</td>\n",
       "      <td>9.300000</td>\n",
       "      <td>64.220001</td>\n",
       "      <td>9.290000</td>\n",
       "      <td>18.940001</td>\n",
       "      <td>38.689999</td>\n",
       "      <td>23.000000</td>\n",
       "      <td>32.990002</td>\n",
       "      <td>38.099998</td>\n",
       "      <td>15.150000</td>\n",
       "    </tr>\n",
       "    <tr>\n",
       "      <th>2024-09-24</th>\n",
       "      <td>136.919693</td>\n",
       "      <td>85.500000</td>\n",
       "      <td>113.205002</td>\n",
       "      <td>193.244995</td>\n",
       "      <td>340.184998</td>\n",
       "      <td>524.440002</td>\n",
       "      <td>158.244995</td>\n",
       "      <td>19.125000</td>\n",
       "      <td>109.004997</td>\n",
       "      <td>141.710007</td>\n",
       "      <td>...</td>\n",
       "      <td>27.795000</td>\n",
       "      <td>9.350000</td>\n",
       "      <td>63.560001</td>\n",
       "      <td>9.285000</td>\n",
       "      <td>19.785000</td>\n",
       "      <td>38.490002</td>\n",
       "      <td>23.174999</td>\n",
       "      <td>32.875000</td>\n",
       "      <td>38.375000</td>\n",
       "      <td>15.085000</td>\n",
       "    </tr>\n",
       "  </tbody>\n",
       "</table>\n",
       "<p>1190 rows × 474 columns</p>\n",
       "</div>"
      ],
      "text/plain": [
       "                   MMM        AOS         ABT        ABBV         ACN  \\\n",
       "Date                                                                    \n",
       "2020-01-02  123.614922  43.839252   80.065521   72.841949  196.058365   \n",
       "2020-01-03  122.550529  43.453808   79.089462   72.150536  195.731842   \n",
       "2020-01-06  122.667213  43.729134   79.503830   72.719955  194.453720   \n",
       "2020-01-07  122.172760  43.435455   79.061829   72.305107  190.255447   \n",
       "2020-01-08  124.047607  43.371220   79.384117   72.817551  190.628677   \n",
       "...                ...        ...         ...         ...         ...   \n",
       "2024-09-18  133.360001  82.889999  114.879997  192.940002  336.179993   \n",
       "2024-09-19  133.839996  84.290001  114.150002  193.619995  335.239990   \n",
       "2024-09-20  134.770004  82.889999  113.699997  193.470001  336.220001   \n",
       "2024-09-23  135.639999  83.980003  114.809998  193.830002  339.209991   \n",
       "2024-09-24  136.919693  85.500000  113.205002  193.244995  340.184998   \n",
       "\n",
       "                  ADBE         AMD        AES         AFL           A  ...  \\\n",
       "Date                                                                   ...   \n",
       "2020-01-02  334.429993   49.099998  17.277994   47.437042   83.347343  ...   \n",
       "2020-01-03  331.809998   48.599998  17.079590   47.108055   82.009140  ...   \n",
       "2020-01-06  333.709991   48.389999  17.277994   46.974682   82.251572  ...   \n",
       "2020-01-07  333.390015   48.250000  17.338375   46.530102   82.503677  ...   \n",
       "2020-01-08  337.869995   47.830002  17.303869   46.672363   83.318268  ...   \n",
       "...                ...         ...        ...         ...         ...  ...   \n",
       "2024-09-18  508.130005  148.289993  19.260000  108.959999  139.009995  ...   \n",
       "2024-09-19  526.440002  156.740005  18.900000  107.870003  141.949997  ...   \n",
       "2024-09-20  522.299988  155.949997  18.900000  107.919998  140.089996  ...   \n",
       "2024-09-23  527.869995  156.750000  19.320000  110.019997  139.789993  ...   \n",
       "2024-09-24  524.440002  158.244995  19.125000  109.004997  141.710007  ...   \n",
       "\n",
       "                  FTI       AIV        HRB       COTY        KSS        HOG  \\\n",
       "Date                                                                          \n",
       "2020-01-02  15.373728  4.859455  19.371017  10.930307  37.743382  34.255539   \n",
       "2020-01-03  15.553916  4.936314  19.354515  10.940200  37.804859  33.507446   \n",
       "2020-01-06  15.662031  4.967058  19.412268  10.732474  38.473488  33.756805   \n",
       "2020-01-07  15.287236  4.902688  19.404020  10.603883  38.558033  33.267311   \n",
       "2020-01-08  14.768293  4.924785  19.288517  10.406049  37.950878  33.738338   \n",
       "...               ...       ...        ...        ...        ...        ...   \n",
       "2024-09-18  25.360001  9.260000  62.770000   9.260000  18.969999  38.360001   \n",
       "2024-09-19  26.350000  9.290000  63.680000   9.390000  18.620001  39.529999   \n",
       "2024-09-20  27.219999  9.240000  64.459999   9.190000  18.680000  38.580002   \n",
       "2024-09-23  27.379999  9.300000  64.220001   9.290000  18.940001  38.689999   \n",
       "2024-09-24  27.795000  9.350000  63.560001   9.285000  19.785000  38.490002   \n",
       "\n",
       "                  JWN         HP       CPRI          M  \n",
       "Date                                                    \n",
       "2020-01-02  35.477711  35.662270  38.279999  14.130654  \n",
       "2020-01-03  35.274273  36.119160  37.380001  14.139209  \n",
       "2020-01-06  36.247231  37.143269  37.070000  14.626768  \n",
       "2020-01-07  37.140587  36.662735  37.580002  15.114326  \n",
       "2020-01-08  37.273266  35.906471  38.009998  15.482135  \n",
       "...               ...        ...        ...        ...  \n",
       "2024-09-18  22.559999  31.340000  39.070000  15.120000  \n",
       "2024-09-19  22.910000  32.240002  38.869999  15.330000  \n",
       "2024-09-20  23.020000  32.619999  38.290001  15.300000  \n",
       "2024-09-23  23.000000  32.990002  38.099998  15.150000  \n",
       "2024-09-24  23.174999  32.875000  38.375000  15.085000  \n",
       "\n",
       "[1190 rows x 474 columns]"
      ]
     },
     "execution_count": 22,
     "metadata": {},
     "output_type": "execute_result"
    }
   ],
   "source": [
    "all_prices = pd.concat(prices, axis=1)\n",
    "all_prices.columns =symbols\n",
    "all_prices = all_prices.dropna(axis=1)\n",
    "all_prices"
   ]
  },
  {
   "cell_type": "code",
   "execution_count": 23,
   "metadata": {},
   "outputs": [],
   "source": [
    "port_df = test_df\n",
    "mu = expected_returns.mean_historical_return(port_df)\n",
    "S = risk_models.sample_cov(port_df)"
   ]
  },
  {
   "cell_type": "code",
   "execution_count": 24,
   "metadata": {},
   "outputs": [
    {
     "name": "stdout",
     "output_type": "stream",
     "text": [
      "OrderedDict([('AAPL', 0.1), ('AC', 0.0), ('AGS', 0.0), ('AIR', 0.0), ('AMD', 0.04146), ('AMG', 0.05005), ('AMZN', 0.0), ('APAM', 0.0), ('ASM', 0.0), ('ASML', 0.05947), ('AVTX', 0.0), ('BAR', 0.1), ('BB', 0.0), ('BN', 0.0), ('CRBN', 0.0), ('ENX', 0.03164), ('GLPG', 0.0), ('GNFT', 0.0), ('GOOG', 0.1), ('HAL', 0.0), ('MC', 0.1), ('META', 0.09289), ('MMM', 0.0), ('NFLX', 0.0245), ('ORA', 0.0), ('SAN', 0.0), ('SAVE', 0.0), ('SLB', 0.0), ('SMAR', 0.0), ('SU', 0.0), ('TSLA', 0.1), ('UCB', 0.0), ('UMI', 0.1), ('^GSPC', 0.1)])\n",
      "Expected annual return: 23.5%\n",
      "Annual volatility: 24.8%\n",
      "Sharpe Ratio: 0.87\n"
     ]
    },
    {
     "data": {
      "text/plain": [
       "(0.23541115897936862, 0.2482542543946171, 0.8677037962739518)"
      ]
     },
     "execution_count": 24,
     "metadata": {},
     "output_type": "execute_result"
    }
   ],
   "source": [
    "ef = EfficientFrontier(mu, S, weight_bounds=(0,0.1))\n",
    "\n",
    "weights = ef.max_sharpe()\n",
    "\n",
    "cleaned_weights = ef.clean_weights()\n",
    "\n",
    "print(cleaned_weights)\n",
    "ef.portfolio_performance(verbose=True)"
   ]
  },
  {
   "cell_type": "code",
   "execution_count": 25,
   "metadata": {},
   "outputs": [
    {
     "name": "stdout",
     "output_type": "stream",
     "text": [
      "Requirement already satisfied: pulp in c:\\users\\dietd\\anaconda_3\\lib\\site-packages (2.7.0)Note: you may need to restart the kernel to use updated packages.\n",
      "\n"
     ]
    }
   ],
   "source": [
    "pip install pulp"
   ]
  },
  {
   "cell_type": "code",
   "execution_count": 32,
   "metadata": {},
   "outputs": [
    {
     "name": "stdout",
     "output_type": "stream",
     "text": [
      "Requirement already satisfied: cvxpy in c:\\users\\dietd\\anaconda_3\\lib\\site-packages (1.3.2)\n",
      "Requirement already satisfied: osqp>=0.4.1 in c:\\users\\dietd\\anaconda_3\\lib\\site-packages (from cvxpy) (0.6.3)\n",
      "Requirement already satisfied: ecos>=2 in c:\\users\\dietd\\anaconda_3\\lib\\site-packages (from cvxpy) (2.0.12)\n",
      "Requirement already satisfied: scs>=1.1.6 in c:\\users\\dietd\\anaconda_3\\lib\\site-packages (from cvxpy) (3.2.3)\n",
      "Requirement already satisfied: numpy>=1.15 in c:\\users\\dietd\\anaconda_3\\lib\\site-packages (from cvxpy) (1.24.3)\n",
      "Requirement already satisfied: scipy>=1.1.0 in c:\\users\\dietd\\anaconda_3\\lib\\site-packages (from cvxpy) (1.10.1)\n",
      "Requirement already satisfied: setuptools>65.5.1 in c:\\users\\dietd\\anaconda_3\\lib\\site-packages (from cvxpy) (68.0.0)\n",
      "Requirement already satisfied: qdldl in c:\\users\\dietd\\anaconda_3\\lib\\site-packages (from osqp>=0.4.1->cvxpy) (0.1.7.post0)\n",
      "Note: you may need to restart the kernel to use updated packages.\n"
     ]
    }
   ],
   "source": [
    "pip install cvxpy"
   ]
  },
  {
   "cell_type": "code",
   "execution_count": 34,
   "metadata": {},
   "outputs": [
    {
     "name": "stdout",
     "output_type": "stream",
     "text": [
      "OrderedDict([('AAPL', 0.1), ('AC', 0.0), ('AGS', 0.0), ('AIR', 0.0), ('AMD', 0.04146), ('AMG', 0.05005), ('AMZN', 0.0), ('APAM', 0.0), ('ASM', 0.0), ('ASML', 0.05947), ('AVTX', 0.0), ('BAR', 0.1), ('BB', 0.0), ('BN', 0.0), ('CRBN', 0.0), ('ENX', 0.03164), ('GLPG', 0.0), ('GNFT', 0.0), ('GOOG', 0.1), ('HAL', 0.0), ('MC', 0.1), ('META', 0.09289), ('MMM', 0.0), ('NFLX', 0.0245), ('ORA', 0.0), ('SAN', 0.0), ('SAVE', 0.0), ('SLB', 0.0), ('SMAR', 0.0), ('SU', 0.0), ('TSLA', 0.1), ('UCB', 0.0), ('UMI', 0.1), ('^GSPC', 0.1)])\n",
      "Discrete Allocation:  {'AAPL': 23, 'BAR': 197, 'GOOG': 31, 'MC': 73, 'TSLA': 20, 'UMI': 113, '^GSPC': 1, 'META': 8, 'ASML': 4, 'AMG': 14, 'AMD': 13, 'ENX': 167, 'NFLX': 2}\n",
      "Funds Remaining: $ 11.797102928161621\n"
     ]
    }
   ],
   "source": [
    "#Get discrete allocations\n",
    "from pypfopt.discrete_allocation import DiscreteAllocation, get_latest_prices\n",
    "from cvxpy import GLPK\n",
    "print(cleaned_weights)\n",
    "portfolio_val = 52000\n",
    "\n",
    "latest_prices = get_latest_prices(port_df)\n",
    "weights = cleaned_weights\n",
    "\n",
    "da = DiscreteAllocation(weights, latest_prices, total_portfolio_value=portfolio_val)\n",
    "\n",
    "allocation, leftover = da.greedy_portfolio()\n",
    "\n",
    "print(\"Discrete Allocation: \", allocation)\n",
    "print(\"Funds Remaining: $\", leftover)"
   ]
  },
  {
   "cell_type": "markdown",
   "metadata": {},
   "source": []
  },
  {
   "cell_type": "code",
   "execution_count": 35,
   "metadata": {},
   "outputs": [],
   "source": [
    "def get_company_name_from_ticker(ticker):\n",
    "    stock = yf.Ticker(ticker)\n",
    "    company_info = stock.info\n",
    "    company_name = company_info.get('longName', 'Company not found')\n",
    "    return company_name"
   ]
  },
  {
   "cell_type": "code",
   "execution_count": 36,
   "metadata": {},
   "outputs": [
    {
     "data": {
      "text/plain": [
       "'Amazon.com, Inc.'"
      ]
     },
     "execution_count": 36,
     "metadata": {},
     "output_type": "execute_result"
    }
   ],
   "source": [
    "get_company_name_from_ticker(\"AMZN\")"
   ]
  },
  {
   "cell_type": "code",
   "execution_count": 37,
   "metadata": {},
   "outputs": [
    {
     "name": "stdout",
     "output_type": "stream",
     "text": [
      "['Apple Inc.', 'GraniteShares Gold Trust', 'Alphabet Inc.', 'Moelis & Company', 'Tesla, Inc.', 'USCF Midstream Energy Income Fund', 'S&P 500', 'Meta Platforms, Inc.', 'ASML Holding N.V.', 'Affiliated Managers Group, Inc.', 'Advanced Micro Devices, Inc.', 'Eaton Vance New York Municipal Bond Fund', 'Netflix, Inc.'] [23, 197, 31, 73, 20, 113, 1, 8, 4, 14, 13, 167, 2]\n"
     ]
    }
   ],
   "source": [
    "company_names = []\n",
    "discrete_allocations = []\n",
    "port_tickers = []\n",
    "\n",
    "for ticker in allocation:\n",
    "    port_tickers.append(ticker)\n",
    "    company_names.append(get_company_name_from_ticker(ticker))\n",
    "    discrete_allocations.append(allocation.get(ticker))\n",
    "\n",
    "print(company_names, discrete_allocations)"
   ]
  },
  {
   "cell_type": "code",
   "execution_count": 38,
   "metadata": {},
   "outputs": [
    {
     "data": {
      "text/html": [
       "<div>\n",
       "<style scoped>\n",
       "    .dataframe tbody tr th:only-of-type {\n",
       "        vertical-align: middle;\n",
       "    }\n",
       "\n",
       "    .dataframe tbody tr th {\n",
       "        vertical-align: top;\n",
       "    }\n",
       "\n",
       "    .dataframe thead th {\n",
       "        text-align: right;\n",
       "    }\n",
       "</style>\n",
       "<table border=\"1\" class=\"dataframe\">\n",
       "  <thead>\n",
       "    <tr style=\"text-align: right;\">\n",
       "      <th></th>\n",
       "      <th>Company Name</th>\n",
       "      <th>Ticker</th>\n",
       "      <th>Discrete Allocation 52000</th>\n",
       "    </tr>\n",
       "  </thead>\n",
       "  <tbody>\n",
       "  </tbody>\n",
       "</table>\n",
       "</div>"
      ],
      "text/plain": [
       "Empty DataFrame\n",
       "Columns: [Company Name, Ticker, Discrete Allocation 52000]\n",
       "Index: []"
      ]
     },
     "execution_count": 38,
     "metadata": {},
     "output_type": "execute_result"
    }
   ],
   "source": [
    "portfolio_df = pd.DataFrame(columns=['Company Name', \"Ticker\", \"Discrete Allocation \"+str(portfolio_val) ])\n",
    "portfolio_df"
   ]
  },
  {
   "cell_type": "code",
   "execution_count": 39,
   "metadata": {},
   "outputs": [],
   "source": [
    "portfolio_df['Company Name']=company_names\n",
    "portfolio_df['Ticker']= port_tickers\n",
    "portfolio_df[\"Discrete Allocation \"+str(portfolio_val)] = discrete_allocations"
   ]
  },
  {
   "cell_type": "code",
   "execution_count": 40,
   "metadata": {},
   "outputs": [
    {
     "data": {
      "text/html": [
       "<div>\n",
       "<style scoped>\n",
       "    .dataframe tbody tr th:only-of-type {\n",
       "        vertical-align: middle;\n",
       "    }\n",
       "\n",
       "    .dataframe tbody tr th {\n",
       "        vertical-align: top;\n",
       "    }\n",
       "\n",
       "    .dataframe thead th {\n",
       "        text-align: right;\n",
       "    }\n",
       "</style>\n",
       "<table border=\"1\" class=\"dataframe\">\n",
       "  <thead>\n",
       "    <tr style=\"text-align: right;\">\n",
       "      <th></th>\n",
       "      <th>Company Name</th>\n",
       "      <th>Ticker</th>\n",
       "      <th>Discrete Allocation 52000</th>\n",
       "    </tr>\n",
       "  </thead>\n",
       "  <tbody>\n",
       "    <tr>\n",
       "      <th>0</th>\n",
       "      <td>Apple Inc.</td>\n",
       "      <td>AAPL</td>\n",
       "      <td>23</td>\n",
       "    </tr>\n",
       "    <tr>\n",
       "      <th>1</th>\n",
       "      <td>GraniteShares Gold Trust</td>\n",
       "      <td>BAR</td>\n",
       "      <td>197</td>\n",
       "    </tr>\n",
       "    <tr>\n",
       "      <th>2</th>\n",
       "      <td>Alphabet Inc.</td>\n",
       "      <td>GOOG</td>\n",
       "      <td>31</td>\n",
       "    </tr>\n",
       "    <tr>\n",
       "      <th>3</th>\n",
       "      <td>Moelis &amp; Company</td>\n",
       "      <td>MC</td>\n",
       "      <td>73</td>\n",
       "    </tr>\n",
       "    <tr>\n",
       "      <th>4</th>\n",
       "      <td>Tesla, Inc.</td>\n",
       "      <td>TSLA</td>\n",
       "      <td>20</td>\n",
       "    </tr>\n",
       "    <tr>\n",
       "      <th>5</th>\n",
       "      <td>USCF Midstream Energy Income Fund</td>\n",
       "      <td>UMI</td>\n",
       "      <td>113</td>\n",
       "    </tr>\n",
       "    <tr>\n",
       "      <th>6</th>\n",
       "      <td>S&amp;P 500</td>\n",
       "      <td>^GSPC</td>\n",
       "      <td>1</td>\n",
       "    </tr>\n",
       "    <tr>\n",
       "      <th>7</th>\n",
       "      <td>Meta Platforms, Inc.</td>\n",
       "      <td>META</td>\n",
       "      <td>8</td>\n",
       "    </tr>\n",
       "    <tr>\n",
       "      <th>8</th>\n",
       "      <td>ASML Holding N.V.</td>\n",
       "      <td>ASML</td>\n",
       "      <td>4</td>\n",
       "    </tr>\n",
       "    <tr>\n",
       "      <th>9</th>\n",
       "      <td>Affiliated Managers Group, Inc.</td>\n",
       "      <td>AMG</td>\n",
       "      <td>14</td>\n",
       "    </tr>\n",
       "    <tr>\n",
       "      <th>10</th>\n",
       "      <td>Advanced Micro Devices, Inc.</td>\n",
       "      <td>AMD</td>\n",
       "      <td>13</td>\n",
       "    </tr>\n",
       "    <tr>\n",
       "      <th>11</th>\n",
       "      <td>Eaton Vance New York Municipal Bond Fund</td>\n",
       "      <td>ENX</td>\n",
       "      <td>167</td>\n",
       "    </tr>\n",
       "    <tr>\n",
       "      <th>12</th>\n",
       "      <td>Netflix, Inc.</td>\n",
       "      <td>NFLX</td>\n",
       "      <td>2</td>\n",
       "    </tr>\n",
       "  </tbody>\n",
       "</table>\n",
       "</div>"
      ],
      "text/plain": [
       "                                Company Name Ticker  Discrete Allocation 52000\n",
       "0                                 Apple Inc.   AAPL                         23\n",
       "1                   GraniteShares Gold Trust    BAR                        197\n",
       "2                              Alphabet Inc.   GOOG                         31\n",
       "3                           Moelis & Company     MC                         73\n",
       "4                                Tesla, Inc.   TSLA                         20\n",
       "5          USCF Midstream Energy Income Fund    UMI                        113\n",
       "6                                    S&P 500  ^GSPC                          1\n",
       "7                       Meta Platforms, Inc.   META                          8\n",
       "8                          ASML Holding N.V.   ASML                          4\n",
       "9            Affiliated Managers Group, Inc.    AMG                         14\n",
       "10              Advanced Micro Devices, Inc.    AMD                         13\n",
       "11  Eaton Vance New York Municipal Bond Fund    ENX                        167\n",
       "12                             Netflix, Inc.   NFLX                          2"
      ]
     },
     "execution_count": 40,
     "metadata": {},
     "output_type": "execute_result"
    }
   ],
   "source": [
    "portfolio_df"
   ]
  },
  {
   "cell_type": "code",
   "execution_count": null,
   "metadata": {},
   "outputs": [],
   "source": []
  }
 ],
 "metadata": {
  "kernelspec": {
   "display_name": "Python 3 (ipykernel)",
   "language": "python",
   "name": "python3"
  },
  "language_info": {
   "codemirror_mode": {
    "name": "ipython",
    "version": 3
   },
   "file_extension": ".py",
   "mimetype": "text/x-python",
   "name": "python",
   "nbconvert_exporter": "python",
   "pygments_lexer": "ipython3",
   "version": "3.11.4"
  }
 },
 "nbformat": 4,
 "nbformat_minor": 2
}
